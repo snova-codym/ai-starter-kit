{
 "cells": [
  {
   "cell_type": "code",
   "execution_count": 1,
   "metadata": {},
   "outputs": [],
   "source": [
    "import os\n",
    "import sys\n",
    "\n",
    "current_dir = os.getcwd()\n",
    "kit_dir = os.path.abspath(os.path.join(current_dir, \"..\"))\n",
    "repo_dir = os.path.abspath(os.path.join(kit_dir, \"..\"))\n",
    "\n",
    "sys.path.append(kit_dir)\n",
    "sys.path.append(repo_dir)\n",
    "\n",
    "from utils.sec_utilities.edgar_ingestion import SECTools\n",
    "from utils.mulitmodal_utilities.table_utils import TableTools"
   ]
  },
  {
   "cell_type": "code",
   "execution_count": 2,
   "metadata": {},
   "outputs": [],
   "source": [
    "CONFIG_PATH = os.path.join(kit_dir,'config.yaml')\n",
    "DATA_DIRECTORY = os.path.join(kit_dir,\"data\")"
   ]
  },
  {
   "cell_type": "code",
   "execution_count": 3,
   "metadata": {},
   "outputs": [],
   "source": [
    "sec_tool = SECTools(config=CONFIG_PATH)"
   ]
  },
  {
   "cell_type": "code",
   "execution_count": 4,
   "metadata": {},
   "outputs": [
    {
     "name": "stdout",
     "output_type": "stream",
     "text": [
      "Downloading 10-K filing for AAPL from 2023-01-01, 2024-01-01\n",
      "Downloading 10-Q filing for AAPL from 2023-01-01, 2024-01-01\n",
      "Downloading 10-K filing for NVDA from 2023-01-01, 2024-01-01\n",
      "Downloading 10-Q filing for NVDA from 2023-01-01, 2024-01-01\n"
     ]
    }
   ],
   "source": [
    "tickers = [\"AAPL\", \"NVDA\"]\n",
    "form_types = [\"10-K\", \"10-Q\"]\n",
    "after = \"2023-01-01\"\n",
    "before =  \"2024-01-01\"\n",
    "\n",
    "sec_tool.download_filings(tickers=tickers, \n",
    "                          form_types=form_types, \n",
    "                          after=after, \n",
    "                          before=before, \n",
    "                          download_folder=DATA_DIRECTORY)"
   ]
  },
  {
   "cell_type": "code",
   "execution_count": 5,
   "metadata": {},
   "outputs": [
    {
     "name": "stdout",
     "output_type": "stream",
     "text": [
      "Converting /Users/codym/CAP/ai-starter-kit/yoda/data/sec-edgar-filings/AAPL/10-Q/0000320193-23-000006/full-submission.txt to pdf in the same location\n",
      "Error: wkhtmltopdf reported an error:\n",
      "Exit with code 1 due to network error: ProtocolUnknownError\n",
      " occurred.  Check outputs.\n",
      "Converting /Users/codym/CAP/ai-starter-kit/yoda/data/sec-edgar-filings/AAPL/10-Q/0000320193-23-000064/full-submission.txt to pdf in the same location\n",
      "Error: wkhtmltopdf reported an error:\n",
      "Exit with code 1 due to network error: ProtocolUnknownError\n",
      " occurred.  Check outputs.\n",
      "Converting /Users/codym/CAP/ai-starter-kit/yoda/data/sec-edgar-filings/AAPL/10-Q/0000320193-23-000077/full-submission.txt to pdf in the same location\n",
      "Error: wkhtmltopdf reported an error:\n",
      "Exit with code 1 due to network error: ProtocolUnknownError\n",
      " occurred.  Check outputs.\n",
      "Converting /Users/codym/CAP/ai-starter-kit/yoda/data/sec-edgar-filings/AAPL/10-K/0000320193-23-000106/full-submission.txt to pdf in the same location\n",
      "Error: wkhtmltopdf reported an error:\n",
      "Exit with code 1 due to network error: ProtocolUnknownError\n",
      " occurred.  Check outputs.\n",
      "Converting /Users/codym/CAP/ai-starter-kit/yoda/data/sec-edgar-filings/NVDA/10-Q/0001045810-23-000093/full-submission.txt to pdf in the same location\n",
      "Error: wkhtmltopdf reported an error:\n",
      "Exit with code 1 due to network error: ProtocolUnknownError\n",
      " occurred.  Check outputs.\n",
      "Converting /Users/codym/CAP/ai-starter-kit/yoda/data/sec-edgar-filings/NVDA/10-Q/0001045810-23-000227/full-submission.txt to pdf in the same location\n",
      "Error: wkhtmltopdf reported an error:\n",
      "Exit with code 1 due to network error: ProtocolUnknownError\n",
      " occurred.  Check outputs.\n",
      "Converting /Users/codym/CAP/ai-starter-kit/yoda/data/sec-edgar-filings/NVDA/10-Q/0001045810-23-000175/full-submission.txt to pdf in the same location\n",
      "Error: wkhtmltopdf reported an error:\n",
      "Exit with code 1 due to network error: ProtocolUnknownError\n",
      " occurred.  Check outputs.\n",
      "Converting /Users/codym/CAP/ai-starter-kit/yoda/data/sec-edgar-filings/NVDA/10-K/0001045810-23-000017/full-submission.txt to pdf in the same location\n",
      "Error: wkhtmltopdf reported an error:\n",
      "Exit with code 1 due to network error: ProtocolUnknownError\n",
      " occurred.  Check outputs.\n",
      "Converting /Users/codym/CAP/ai-starter-kit/yoda/data/sambanova_resources_blogs/blog_generative-ai-terms.txt to pdf in the same location\n",
      "Converting /Users/codym/CAP/ai-starter-kit/yoda/data/sambanova_resources_blogs/blog_generative-ai-for-enterprise-and-government.txt to pdf in the same location\n",
      "Converting /Users/codym/CAP/ai-starter-kit/yoda/data/sambastudio/sambastudio_add-datasets.txt to pdf in the same location\n",
      "Converting /Users/codym/CAP/ai-starter-kit/yoda/data/sambastudio/sambastudio_cli-setup.txt to pdf in the same location\n"
     ]
    }
   ],
   "source": [
    "sec_tool.convert_txt_to_pdf(data_directory=DATA_DIRECTORY)"
   ]
  },
  {
   "cell_type": "code",
   "execution_count": 7,
   "metadata": {},
   "outputs": [
    {
     "name": "stdout",
     "output_type": "stream",
     "text": [
      "Converting /Users/codym/CAP/ai-starter-kit/yoda/data/sec-edgar-filings/AAPL/10-Q/0000320193-23-000006/full-submission.pdf to a folder of images in the same location\n",
      "Converting /Users/codym/CAP/ai-starter-kit/yoda/data/sec-edgar-filings/AAPL/10-Q/0000320193-23-000064/full-submission.pdf to a folder of images in the same location\n",
      "Converting /Users/codym/CAP/ai-starter-kit/yoda/data/sec-edgar-filings/AAPL/10-Q/0000320193-23-000077/full-submission.pdf to a folder of images in the same location\n",
      "Converting /Users/codym/CAP/ai-starter-kit/yoda/data/sec-edgar-filings/AAPL/10-K/0000320193-23-000106/full-submission.pdf to a folder of images in the same location\n",
      "Converting /Users/codym/CAP/ai-starter-kit/yoda/data/sec-edgar-filings/NVDA/10-Q/0001045810-23-000093/full-submission.pdf to a folder of images in the same location\n",
      "Converting /Users/codym/CAP/ai-starter-kit/yoda/data/sec-edgar-filings/NVDA/10-Q/0001045810-23-000227/full-submission.pdf to a folder of images in the same location\n",
      "Converting /Users/codym/CAP/ai-starter-kit/yoda/data/sec-edgar-filings/NVDA/10-Q/0001045810-23-000175/full-submission.pdf to a folder of images in the same location\n",
      "Converting /Users/codym/CAP/ai-starter-kit/yoda/data/sec-edgar-filings/NVDA/10-K/0001045810-23-000017/full-submission.pdf to a folder of images in the same location\n",
      "Converting /Users/codym/CAP/ai-starter-kit/yoda/data/sambanova_resources_blogs/blog_generative-ai-terms.pdf to a folder of images in the same location\n",
      "Converting /Users/codym/CAP/ai-starter-kit/yoda/data/sambanova_resources_blogs/blog_generative-ai-for-enterprise-and-government.pdf to a folder of images in the same location\n",
      "Converting /Users/codym/CAP/ai-starter-kit/yoda/data/sambastudio/sambastudio_add-datasets.pdf to a folder of images in the same location\n",
      "Converting /Users/codym/CAP/ai-starter-kit/yoda/data/sambastudio/sambastudio_cli-setup.pdf to a folder of images in the same location\n"
     ]
    }
   ],
   "source": [
    "table_tools = TableTools\n",
    "\n",
    "table_tools.convert_pdf_to_images(data_directory=DATA_DIRECTORY)"
   ]
  },
  {
   "cell_type": "code",
   "execution_count": null,
   "metadata": {},
   "outputs": [],
   "source": []
  }
 ],
 "metadata": {
  "kernelspec": {
   "display_name": "Python 3 (ipykernel)",
   "language": "python",
   "name": "python3"
  },
  "language_info": {
   "codemirror_mode": {
    "name": "ipython",
    "version": 3
   },
   "file_extension": ".py",
   "mimetype": "text/x-python",
   "name": "python",
   "nbconvert_exporter": "python",
   "pygments_lexer": "ipython3",
   "version": "3.11.9"
  }
 },
 "nbformat": 4,
 "nbformat_minor": 2
}
