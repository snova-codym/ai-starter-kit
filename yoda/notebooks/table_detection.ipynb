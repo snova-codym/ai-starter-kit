{
 "cells": [
  {
   "cell_type": "code",
   "execution_count": 1,
   "metadata": {},
   "outputs": [],
   "source": [
    "import os\n",
    "import sys\n",
    "\n",
    "current_dir = os.getcwd()\n",
    "kit_dir = os.path.abspath(os.path.join(current_dir, \"..\"))\n",
    "repo_dir = os.path.abspath(os.path.join(kit_dir, \"..\"))\n",
    "\n",
    "sys.path.append(kit_dir)\n",
    "sys.path.append(repo_dir)\n",
    "\n",
    "from utils.mulitmodal_utilities.table_utils import TableTools"
   ]
  },
  {
   "cell_type": "code",
   "execution_count": 2,
   "metadata": {},
   "outputs": [],
   "source": [
    "DATA_DIRECTORY = os.path.join(kit_dir,\"data\")"
   ]
  },
  {
   "cell_type": "code",
   "execution_count": 3,
   "metadata": {},
   "outputs": [
    {
     "name": "stderr",
     "output_type": "stream",
     "text": [
      "/Users/codym/CAP/ai-starter-kit/.mm_env/lib/python3.11/site-packages/tqdm/auto.py:21: TqdmWarning: IProgress not found. Please update jupyter and ipywidgets. See https://ipywidgets.readthedocs.io/en/stable/user_install.html\n",
      "  from .autonotebook import tqdm as notebook_tqdm\n",
      "/Users/codym/CAP/ai-starter-kit/.mm_env/lib/python3.11/site-packages/ultralytics/nn/tasks.py:340: FutureWarning: You are using `torch.load` with `weights_only=False` (the current default value), which uses the default pickle module implicitly. It is possible to construct malicious pickle data which will execute arbitrary code during unpickling (See https://github.com/pytorch/pytorch/blob/main/SECURITY.md#untrusted-models for more details). In a future release, the default value for `weights_only` will be flipped to `True`. This limits the functions that could be executed during unpickling. Arbitrary objects will no longer be allowed to be loaded via this mode unless they are explicitly allowlisted by the user via `torch.serialization.add_safe_globals`. We recommend you start setting `weights_only=True` for any use case where you don't have full control of the loaded file. Please open an issue on GitHub for any issues related to this experimental feature.\n",
      "  return torch.load(file, map_location='cpu'), file  # load\n",
      "Ultralytics YOLOv8.0.43 🚀 Python-3.11.9 torch-2.4.0 CPU\n"
     ]
    },
    {
     "name": "stdout",
     "output_type": "stream",
     "text": [
      "Cropping tables from /Users/codym/CAP/ai-starter-kit/yoda/data/sec-edgar-filings/AAPL/10-Q/0000320193-23-000006/full-submission/images/page_91.jpg\n"
     ]
    },
    {
     "name": "stderr",
     "output_type": "stream",
     "text": [
      "Model summary (fused): 168 layers, 11126358 parameters, 0 gradients, 28.4 GFLOPs\n",
      "\n",
      "image 1/1 /Users/codym/CAP/ai-starter-kit/yoda/data/sec-edgar-filings/AAPL/10-Q/0000320193-23-000006/full-submission/images/page_91.jpg: 640x512 (no detections), 70.6ms\n",
      "Speed: 0.9ms preprocess, 70.6ms inference, 0.3ms postprocess per image at shape (1, 3, 640, 640)\n",
      "\n",
      "image 1/1 /Users/codym/CAP/ai-starter-kit/yoda/data/sec-edgar-filings/AAPL/10-Q/0000320193-23-000006/full-submission/images/page_85.jpg: 640x512 (no detections), 69.4ms\n",
      "Speed: 0.5ms preprocess, 69.4ms inference, 0.2ms postprocess per image at shape (1, 3, 640, 640)\n",
      "\n",
      "image 1/1 /Users/codym/CAP/ai-starter-kit/yoda/data/sec-edgar-filings/AAPL/10-Q/0000320193-23-000006/full-submission/images/page_52.jpg: 640x512 3 borderlesss, 71.5ms\n",
      "Speed: 0.6ms preprocess, 71.5ms inference, 0.5ms postprocess per image at shape (1, 3, 640, 640)\n",
      "\n"
     ]
    },
    {
     "name": "stdout",
     "output_type": "stream",
     "text": [
      "Cropping tables from /Users/codym/CAP/ai-starter-kit/yoda/data/sec-edgar-filings/AAPL/10-Q/0000320193-23-000006/full-submission/images/page_85.jpg\n",
      "Cropping tables from /Users/codym/CAP/ai-starter-kit/yoda/data/sec-edgar-filings/AAPL/10-Q/0000320193-23-000006/full-submission/images/page_52.jpg\n",
      "Cropping tables from /Users/codym/CAP/ai-starter-kit/yoda/data/sec-edgar-filings/AAPL/10-Q/0000320193-23-000006/full-submission/images/page_46.jpg\n"
     ]
    },
    {
     "name": "stderr",
     "output_type": "stream",
     "text": [
      "image 1/1 /Users/codym/CAP/ai-starter-kit/yoda/data/sec-edgar-filings/AAPL/10-Q/0000320193-23-000006/full-submission/images/page_46.jpg: 640x512 4 borderlesss, 77.1ms\n",
      "Speed: 0.2ms preprocess, 77.1ms inference, 0.4ms postprocess per image at shape (1, 3, 640, 640)\n",
      "\n",
      "image 1/1 /Users/codym/CAP/ai-starter-kit/yoda/data/sec-edgar-filings/AAPL/10-Q/0000320193-23-000006/full-submission/images/page_2.jpg: 640x512 1 borderless, 71.2ms\n",
      "Speed: 0.3ms preprocess, 71.2ms inference, 0.4ms postprocess per image at shape (1, 3, 640, 640)\n",
      "\n",
      "image 1/1 /Users/codym/CAP/ai-starter-kit/yoda/data/sec-edgar-filings/AAPL/10-Q/0000320193-23-000006/full-submission/images/page_151.jpg: 640x512 (no detections), 72.0ms\n",
      "Speed: 0.3ms preprocess, 72.0ms inference, 0.2ms postprocess per image at shape (1, 3, 640, 640)\n",
      "\n"
     ]
    },
    {
     "name": "stdout",
     "output_type": "stream",
     "text": [
      "Cropping tables from /Users/codym/CAP/ai-starter-kit/yoda/data/sec-edgar-filings/AAPL/10-Q/0000320193-23-000006/full-submission/images/page_2.jpg\n",
      "Cropping tables from /Users/codym/CAP/ai-starter-kit/yoda/data/sec-edgar-filings/AAPL/10-Q/0000320193-23-000006/full-submission/images/page_151.jpg\n",
      "Cropping tables from /Users/codym/CAP/ai-starter-kit/yoda/data/sec-edgar-filings/AAPL/10-Q/0000320193-23-000006/full-submission/images/page_145.jpg\n"
     ]
    },
    {
     "name": "stderr",
     "output_type": "stream",
     "text": [
      "image 1/1 /Users/codym/CAP/ai-starter-kit/yoda/data/sec-edgar-filings/AAPL/10-Q/0000320193-23-000006/full-submission/images/page_145.jpg: 640x512 (no detections), 73.2ms\n",
      "Speed: 0.2ms preprocess, 73.2ms inference, 0.2ms postprocess per image at shape (1, 3, 640, 640)\n",
      "\n",
      "image 1/1 /Users/codym/CAP/ai-starter-kit/yoda/data/sec-edgar-filings/AAPL/10-Q/0000320193-23-000006/full-submission/images/page_144.jpg: 640x512 1 borderless, 85.6ms\n",
      "Speed: 0.2ms preprocess, 85.6ms inference, 0.4ms postprocess per image at shape (1, 3, 640, 640)\n",
      "\n"
     ]
    },
    {
     "name": "stdout",
     "output_type": "stream",
     "text": [
      "Cropping tables from /Users/codym/CAP/ai-starter-kit/yoda/data/sec-edgar-filings/AAPL/10-Q/0000320193-23-000006/full-submission/images/page_144.jpg\n",
      "Cropping tables from /Users/codym/CAP/ai-starter-kit/yoda/data/sec-edgar-filings/AAPL/10-Q/0000320193-23-000006/full-submission/images/page_150.jpg\n"
     ]
    },
    {
     "name": "stderr",
     "output_type": "stream",
     "text": [
      "image 1/1 /Users/codym/CAP/ai-starter-kit/yoda/data/sec-edgar-filings/AAPL/10-Q/0000320193-23-000006/full-submission/images/page_150.jpg: 640x512 1 borderless, 81.1ms\n",
      "Speed: 0.3ms preprocess, 81.1ms inference, 0.5ms postprocess per image at shape (1, 3, 640, 640)\n",
      "\n",
      "image 1/1 /Users/codym/CAP/ai-starter-kit/yoda/data/sec-edgar-filings/AAPL/10-Q/0000320193-23-000006/full-submission/images/page_3.jpg: 640x512 1 borderless, 115.7ms\n",
      "Speed: 0.2ms preprocess, 115.7ms inference, 0.4ms postprocess per image at shape (1, 3, 640, 640)\n",
      "\n"
     ]
    },
    {
     "name": "stdout",
     "output_type": "stream",
     "text": [
      "Cropping tables from /Users/codym/CAP/ai-starter-kit/yoda/data/sec-edgar-filings/AAPL/10-Q/0000320193-23-000006/full-submission/images/page_3.jpg\n",
      "Cropping tables from /Users/codym/CAP/ai-starter-kit/yoda/data/sec-edgar-filings/AAPL/10-Q/0000320193-23-000006/full-submission/images/page_47.jpg\n"
     ]
    },
    {
     "name": "stderr",
     "output_type": "stream",
     "text": [
      "image 1/1 /Users/codym/CAP/ai-starter-kit/yoda/data/sec-edgar-filings/AAPL/10-Q/0000320193-23-000006/full-submission/images/page_47.jpg: 640x512 2 borderlesss, 75.2ms\n",
      "Speed: 0.4ms preprocess, 75.2ms inference, 0.4ms postprocess per image at shape (1, 3, 640, 640)\n",
      "\n",
      "image 1/1 /Users/codym/CAP/ai-starter-kit/yoda/data/sec-edgar-filings/AAPL/10-Q/0000320193-23-000006/full-submission/images/page_53.jpg: 640x512 3 borderlesss, 71.6ms\n",
      "Speed: 0.4ms preprocess, 71.6ms inference, 0.4ms postprocess per image at shape (1, 3, 640, 640)\n",
      "\n",
      "image 1/1 /Users/codym/CAP/ai-starter-kit/yoda/data/sec-edgar-filings/AAPL/10-Q/0000320193-23-000006/full-submission/images/page_84.jpg: 640x512 (no detections), 79.4ms\n",
      "Speed: 0.2ms preprocess, 79.4ms inference, 0.2ms postprocess per image at shape (1, 3, 640, 640)\n"
     ]
    },
    {
     "name": "stdout",
     "output_type": "stream",
     "text": [
      "Cropping tables from /Users/codym/CAP/ai-starter-kit/yoda/data/sec-edgar-filings/AAPL/10-Q/0000320193-23-000006/full-submission/images/page_53.jpg\n",
      "Cropping tables from /Users/codym/CAP/ai-starter-kit/yoda/data/sec-edgar-filings/AAPL/10-Q/0000320193-23-000006/full-submission/images/page_84.jpg\n"
     ]
    },
    {
     "name": "stderr",
     "output_type": "stream",
     "text": [
      "\n",
      "image 1/1 /Users/codym/CAP/ai-starter-kit/yoda/data/sec-edgar-filings/AAPL/10-Q/0000320193-23-000006/full-submission/images/page_90.jpg: 640x512 (no detections), 162.3ms\n",
      "Speed: 0.2ms preprocess, 162.3ms inference, 0.2ms postprocess per image at shape (1, 3, 640, 640)\n",
      "\n"
     ]
    },
    {
     "name": "stdout",
     "output_type": "stream",
     "text": [
      "Cropping tables from /Users/codym/CAP/ai-starter-kit/yoda/data/sec-edgar-filings/AAPL/10-Q/0000320193-23-000006/full-submission/images/page_90.jpg\n",
      "Cropping tables from /Users/codym/CAP/ai-starter-kit/yoda/data/sec-edgar-filings/AAPL/10-Q/0000320193-23-000006/full-submission/images/page_86.jpg\n"
     ]
    },
    {
     "name": "stderr",
     "output_type": "stream",
     "text": [
      "image 1/1 /Users/codym/CAP/ai-starter-kit/yoda/data/sec-edgar-filings/AAPL/10-Q/0000320193-23-000006/full-submission/images/page_86.jpg: 640x512 (no detections), 75.5ms\n",
      "Speed: 0.1ms preprocess, 75.5ms inference, 0.2ms postprocess per image at shape (1, 3, 640, 640)\n",
      "\n",
      "image 1/1 /Users/codym/CAP/ai-starter-kit/yoda/data/sec-edgar-filings/AAPL/10-Q/0000320193-23-000006/full-submission/images/page_92.jpg: 640x512 (no detections), 71.9ms\n",
      "Speed: 0.2ms preprocess, 71.9ms inference, 0.2ms postprocess per image at shape (1, 3, 640, 640)\n",
      "\n",
      "image 1/1 /Users/codym/CAP/ai-starter-kit/yoda/data/sec-edgar-filings/AAPL/10-Q/0000320193-23-000006/full-submission/images/page_79.jpg: 640x512 (no detections), 67.4ms\n",
      "Speed: 0.2ms preprocess, 67.4ms inference, 0.2ms postprocess per image at shape (1, 3, 640, 640)\n",
      "\n"
     ]
    },
    {
     "name": "stdout",
     "output_type": "stream",
     "text": [
      "Cropping tables from /Users/codym/CAP/ai-starter-kit/yoda/data/sec-edgar-filings/AAPL/10-Q/0000320193-23-000006/full-submission/images/page_92.jpg\n",
      "Cropping tables from /Users/codym/CAP/ai-starter-kit/yoda/data/sec-edgar-filings/AAPL/10-Q/0000320193-23-000006/full-submission/images/page_79.jpg\n",
      "Cropping tables from /Users/codym/CAP/ai-starter-kit/yoda/data/sec-edgar-filings/AAPL/10-Q/0000320193-23-000006/full-submission/images/page_45.jpg\n"
     ]
    },
    {
     "name": "stderr",
     "output_type": "stream",
     "text": [
      "image 1/1 /Users/codym/CAP/ai-starter-kit/yoda/data/sec-edgar-filings/AAPL/10-Q/0000320193-23-000006/full-submission/images/page_45.jpg: 640x512 1 borderless, 72.0ms\n",
      "Speed: 0.2ms preprocess, 72.0ms inference, 0.7ms postprocess per image at shape (1, 3, 640, 640)\n",
      "\n",
      "image 1/1 /Users/codym/CAP/ai-starter-kit/yoda/data/sec-edgar-filings/AAPL/10-Q/0000320193-23-000006/full-submission/images/page_51.jpg: 640x512 3 borderlesss, 72.0ms\n",
      "Speed: 0.2ms preprocess, 72.0ms inference, 0.4ms postprocess per image at shape (1, 3, 640, 640)\n",
      "\n"
     ]
    },
    {
     "name": "stdout",
     "output_type": "stream",
     "text": [
      "Cropping tables from /Users/codym/CAP/ai-starter-kit/yoda/data/sec-edgar-filings/AAPL/10-Q/0000320193-23-000006/full-submission/images/page_51.jpg\n",
      "Cropping tables from /Users/codym/CAP/ai-starter-kit/yoda/data/sec-edgar-filings/AAPL/10-Q/0000320193-23-000006/full-submission/images/page_1.jpg\n"
     ]
    },
    {
     "name": "stderr",
     "output_type": "stream",
     "text": [
      "image 1/1 /Users/codym/CAP/ai-starter-kit/yoda/data/sec-edgar-filings/AAPL/10-Q/0000320193-23-000006/full-submission/images/page_1.jpg: 640x512 1 borderless, 84.7ms\n",
      "Speed: 10.2ms preprocess, 84.7ms inference, 0.4ms postprocess per image at shape (1, 3, 640, 640)\n",
      "\n",
      "image 1/1 /Users/codym/CAP/ai-starter-kit/yoda/data/sec-edgar-filings/AAPL/10-Q/0000320193-23-000006/full-submission/images/page_146.jpg: 640x512 1 borderless, 69.3ms\n",
      "Speed: 0.2ms preprocess, 69.3ms inference, 0.3ms postprocess per image at shape (1, 3, 640, 640)\n",
      "\n",
      "image 1/1 /Users/codym/CAP/ai-starter-kit/yoda/data/sec-edgar-filings/AAPL/10-Q/0000320193-23-000006/full-submission/images/page_152.jpg: 640x512 1 borderless, 70.3ms\n",
      "Speed: 0.2ms preprocess, 70.3ms inference, 0.4ms postprocess per image at shape (1, 3, 640, 640)\n",
      "\n"
     ]
    },
    {
     "name": "stdout",
     "output_type": "stream",
     "text": [
      "Cropping tables from /Users/codym/CAP/ai-starter-kit/yoda/data/sec-edgar-filings/AAPL/10-Q/0000320193-23-000006/full-submission/images/page_146.jpg\n",
      "Cropping tables from /Users/codym/CAP/ai-starter-kit/yoda/data/sec-edgar-filings/AAPL/10-Q/0000320193-23-000006/full-submission/images/page_152.jpg\n",
      "Cropping tables from /Users/codym/CAP/ai-starter-kit/yoda/data/sec-edgar-filings/AAPL/10-Q/0000320193-23-000006/full-submission/images/page_153.jpg\n"
     ]
    },
    {
     "name": "stderr",
     "output_type": "stream",
     "text": [
      "image 1/1 /Users/codym/CAP/ai-starter-kit/yoda/data/sec-edgar-filings/AAPL/10-Q/0000320193-23-000006/full-submission/images/page_153.jpg: 640x512 2 borderlesss, 71.4ms\n",
      "Speed: 0.2ms preprocess, 71.4ms inference, 0.4ms postprocess per image at shape (1, 3, 640, 640)\n",
      "\n",
      "image 1/1 /Users/codym/CAP/ai-starter-kit/yoda/data/sec-edgar-filings/AAPL/10-Q/0000320193-23-000006/full-submission/images/page_147.jpg: 640x512 (no detections), 69.3ms\n",
      "Speed: 0.2ms preprocess, 69.3ms inference, 0.2ms postprocess per image at shape (1, 3, 640, 640)\n",
      "\n",
      "image 1/1 /Users/codym/CAP/ai-starter-kit/yoda/data/sec-edgar-filings/AAPL/10-Q/0000320193-23-000006/full-submission/images/page_0.jpg: 640x512 1 borderless, 71.9ms\n",
      "Speed: 0.2ms preprocess, 71.9ms inference, 0.4ms postprocess per image at shape (1, 3, 640, 640)\n",
      "\n"
     ]
    },
    {
     "name": "stdout",
     "output_type": "stream",
     "text": [
      "Cropping tables from /Users/codym/CAP/ai-starter-kit/yoda/data/sec-edgar-filings/AAPL/10-Q/0000320193-23-000006/full-submission/images/page_147.jpg\n",
      "Cropping tables from /Users/codym/CAP/ai-starter-kit/yoda/data/sec-edgar-filings/AAPL/10-Q/0000320193-23-000006/full-submission/images/page_0.jpg\n",
      "Cropping tables from /Users/codym/CAP/ai-starter-kit/yoda/data/sec-edgar-filings/AAPL/10-Q/0000320193-23-000006/full-submission/images/page_50.jpg\n"
     ]
    },
    {
     "name": "stderr",
     "output_type": "stream",
     "text": [
      "image 1/1 /Users/codym/CAP/ai-starter-kit/yoda/data/sec-edgar-filings/AAPL/10-Q/0000320193-23-000006/full-submission/images/page_50.jpg: 640x512 2 borderlesss, 74.6ms\n",
      "Speed: 0.2ms preprocess, 74.6ms inference, 0.5ms postprocess per image at shape (1, 3, 640, 640)\n",
      "\n",
      "image 1/1 /Users/codym/CAP/ai-starter-kit/yoda/data/sec-edgar-filings/AAPL/10-Q/0000320193-23-000006/full-submission/images/page_44.jpg: 640x512 1 borderless, 65.9ms\n",
      "Speed: 5.2ms preprocess, 65.9ms inference, 0.4ms postprocess per image at shape (1, 3, 640, 640)\n",
      "\n",
      "image 1/1 /Users/codym/CAP/ai-starter-kit/yoda/data/sec-edgar-filings/AAPL/10-Q/0000320193-23-000006/full-submission/images/page_78.jpg: 640x512 (no detections), 69.6ms\n",
      "Speed: 0.4ms preprocess, 69.6ms inference, 0.2ms postprocess per image at shape (1, 3, 640, 640)\n",
      "\n"
     ]
    },
    {
     "name": "stdout",
     "output_type": "stream",
     "text": [
      "Cropping tables from /Users/codym/CAP/ai-starter-kit/yoda/data/sec-edgar-filings/AAPL/10-Q/0000320193-23-000006/full-submission/images/page_44.jpg\n",
      "Cropping tables from /Users/codym/CAP/ai-starter-kit/yoda/data/sec-edgar-filings/AAPL/10-Q/0000320193-23-000006/full-submission/images/page_78.jpg\n",
      "Cropping tables from /Users/codym/CAP/ai-starter-kit/yoda/data/sec-edgar-filings/AAPL/10-Q/0000320193-23-000006/full-submission/images/page_93.jpg\n"
     ]
    },
    {
     "name": "stderr",
     "output_type": "stream",
     "text": [
      "image 1/1 /Users/codym/CAP/ai-starter-kit/yoda/data/sec-edgar-filings/AAPL/10-Q/0000320193-23-000006/full-submission/images/page_93.jpg: 640x512 (no detections), 68.9ms\n",
      "Speed: 0.5ms preprocess, 68.9ms inference, 0.2ms postprocess per image at shape (1, 3, 640, 640)\n",
      "\n",
      "image 1/1 /Users/codym/CAP/ai-starter-kit/yoda/data/sec-edgar-filings/AAPL/10-Q/0000320193-23-000006/full-submission/images/page_87.jpg: 640x512 (no detections), 70.0ms\n",
      "Speed: 0.3ms preprocess, 70.0ms inference, 0.2ms postprocess per image at shape (1, 3, 640, 640)\n",
      "\n",
      "image 1/1 /Users/codym/CAP/ai-starter-kit/yoda/data/sec-edgar-filings/AAPL/10-Q/0000320193-23-000006/full-submission/images/page_83.jpg: 640x512 (no detections), 67.4ms\n",
      "Speed: 0.3ms preprocess, 67.4ms inference, 0.2ms postprocess per image at shape (1, 3, 640, 640)\n",
      "\n"
     ]
    },
    {
     "name": "stdout",
     "output_type": "stream",
     "text": [
      "Cropping tables from /Users/codym/CAP/ai-starter-kit/yoda/data/sec-edgar-filings/AAPL/10-Q/0000320193-23-000006/full-submission/images/page_87.jpg\n",
      "Cropping tables from /Users/codym/CAP/ai-starter-kit/yoda/data/sec-edgar-filings/AAPL/10-Q/0000320193-23-000006/full-submission/images/page_83.jpg\n",
      "Cropping tables from /Users/codym/CAP/ai-starter-kit/yoda/data/sec-edgar-filings/AAPL/10-Q/0000320193-23-000006/full-submission/images/page_97.jpg\n"
     ]
    },
    {
     "name": "stderr",
     "output_type": "stream",
     "text": [
      "image 1/1 /Users/codym/CAP/ai-starter-kit/yoda/data/sec-edgar-filings/AAPL/10-Q/0000320193-23-000006/full-submission/images/page_97.jpg: 640x512 (no detections), 75.2ms\n",
      "Speed: 0.2ms preprocess, 75.2ms inference, 0.2ms postprocess per image at shape (1, 3, 640, 640)\n",
      "\n",
      "image 1/1 /Users/codym/CAP/ai-starter-kit/yoda/data/sec-edgar-filings/AAPL/10-Q/0000320193-23-000006/full-submission/images/page_40.jpg: 640x512 (no detections), 75.4ms\n",
      "Speed: 0.2ms preprocess, 75.4ms inference, 0.2ms postprocess per image at shape (1, 3, 640, 640)\n",
      "\n",
      "image 1/1 /Users/codym/CAP/ai-starter-kit/yoda/data/sec-edgar-filings/AAPL/10-Q/0000320193-23-000006/full-submission/images/page_54.jpg: 640x512 4 borderlesss, 81.1ms\n",
      "Speed: 0.2ms preprocess, 81.1ms inference, 0.4ms postprocess per image at shape (1, 3, 640, 640)\n",
      "\n"
     ]
    },
    {
     "name": "stdout",
     "output_type": "stream",
     "text": [
      "Cropping tables from /Users/codym/CAP/ai-starter-kit/yoda/data/sec-edgar-filings/AAPL/10-Q/0000320193-23-000006/full-submission/images/page_40.jpg\n",
      "Cropping tables from /Users/codym/CAP/ai-starter-kit/yoda/data/sec-edgar-filings/AAPL/10-Q/0000320193-23-000006/full-submission/images/page_54.jpg\n",
      "Cropping tables from /Users/codym/CAP/ai-starter-kit/yoda/data/sec-edgar-filings/AAPL/10-Q/0000320193-23-000006/full-submission/images/page_68.jpg\n"
     ]
    },
    {
     "name": "stderr",
     "output_type": "stream",
     "text": [
      "image 1/1 /Users/codym/CAP/ai-starter-kit/yoda/data/sec-edgar-filings/AAPL/10-Q/0000320193-23-000006/full-submission/images/page_68.jpg: 640x512 (no detections), 97.1ms\n",
      "Speed: 6.1ms preprocess, 97.1ms inference, 0.2ms postprocess per image at shape (1, 3, 640, 640)\n",
      "\n",
      "image 1/1 /Users/codym/CAP/ai-starter-kit/yoda/data/sec-edgar-filings/AAPL/10-Q/0000320193-23-000006/full-submission/images/page_4.jpg: 640x512 1 borderless, 74.3ms\n",
      "Speed: 0.2ms preprocess, 74.3ms inference, 0.4ms postprocess per image at shape (1, 3, 640, 640)\n",
      "\n",
      "image 1/1 /Users/codym/CAP/ai-starter-kit/yoda/data/sec-edgar-filings/AAPL/10-Q/0000320193-23-000006/full-submission/images/page_143.jpg: 640x512 (no detections), 67.8ms\n",
      "Speed: 0.2ms preprocess, 67.8ms inference, 0.2ms postprocess per image at shape (1, 3, 640, 640)\n",
      "\n"
     ]
    },
    {
     "name": "stdout",
     "output_type": "stream",
     "text": [
      "Cropping tables from /Users/codym/CAP/ai-starter-kit/yoda/data/sec-edgar-filings/AAPL/10-Q/0000320193-23-000006/full-submission/images/page_4.jpg\n",
      "Cropping tables from /Users/codym/CAP/ai-starter-kit/yoda/data/sec-edgar-filings/AAPL/10-Q/0000320193-23-000006/full-submission/images/page_143.jpg\n",
      "Cropping tables from /Users/codym/CAP/ai-starter-kit/yoda/data/sec-edgar-filings/AAPL/10-Q/0000320193-23-000006/full-submission/images/page_157.jpg\n"
     ]
    },
    {
     "name": "stderr",
     "output_type": "stream",
     "text": [
      "image 1/1 /Users/codym/CAP/ai-starter-kit/yoda/data/sec-edgar-filings/AAPL/10-Q/0000320193-23-000006/full-submission/images/page_157.jpg: 640x512 (no detections), 75.2ms\n",
      "Speed: 0.3ms preprocess, 75.2ms inference, 0.2ms postprocess per image at shape (1, 3, 640, 640)\n",
      "\n",
      "image 1/1 /Users/codym/CAP/ai-starter-kit/yoda/data/sec-edgar-filings/AAPL/10-Q/0000320193-23-000006/full-submission/images/page_156.jpg: 640x512 1 borderless, 68.1ms\n",
      "Speed: 0.4ms preprocess, 68.1ms inference, 0.3ms postprocess per image at shape (1, 3, 640, 640)\n",
      "\n",
      "image 1/1 /Users/codym/CAP/ai-starter-kit/yoda/data/sec-edgar-filings/AAPL/10-Q/0000320193-23-000006/full-submission/images/page_142.jpg: 640x512 (no detections), 70.2ms\n",
      "Speed: 0.2ms preprocess, 70.2ms inference, 0.2ms postprocess per image at shape (1, 3, 640, 640)\n",
      "\n"
     ]
    },
    {
     "name": "stdout",
     "output_type": "stream",
     "text": [
      "Cropping tables from /Users/codym/CAP/ai-starter-kit/yoda/data/sec-edgar-filings/AAPL/10-Q/0000320193-23-000006/full-submission/images/page_156.jpg\n",
      "Cropping tables from /Users/codym/CAP/ai-starter-kit/yoda/data/sec-edgar-filings/AAPL/10-Q/0000320193-23-000006/full-submission/images/page_142.jpg\n",
      "Cropping tables from /Users/codym/CAP/ai-starter-kit/yoda/data/sec-edgar-filings/AAPL/10-Q/0000320193-23-000006/full-submission/images/page_5.jpg\n"
     ]
    },
    {
     "name": "stderr",
     "output_type": "stream",
     "text": [
      "image 1/1 /Users/codym/CAP/ai-starter-kit/yoda/data/sec-edgar-filings/AAPL/10-Q/0000320193-23-000006/full-submission/images/page_5.jpg: 640x512 1 borderless, 74.7ms\n",
      "Speed: 0.2ms preprocess, 74.7ms inference, 0.4ms postprocess per image at shape (1, 3, 640, 640)\n",
      "\n",
      "image 1/1 /Users/codym/CAP/ai-starter-kit/yoda/data/sec-edgar-filings/AAPL/10-Q/0000320193-23-000006/full-submission/images/page_69.jpg: 640x512 (no detections), 67.6ms\n",
      "Speed: 1.1ms preprocess, 67.6ms inference, 0.2ms postprocess per image at shape (1, 3, 640, 640)\n",
      "\n",
      "image 1/1 /Users/codym/CAP/ai-starter-kit/yoda/data/sec-edgar-filings/AAPL/10-Q/0000320193-23-000006/full-submission/images/page_55.jpg: 640x512 6 borderlesss, 72.4ms\n",
      "Speed: 0.2ms preprocess, 72.4ms inference, 0.4ms postprocess per image at shape (1, 3, 640, 640)\n",
      "\n"
     ]
    },
    {
     "name": "stdout",
     "output_type": "stream",
     "text": [
      "Cropping tables from /Users/codym/CAP/ai-starter-kit/yoda/data/sec-edgar-filings/AAPL/10-Q/0000320193-23-000006/full-submission/images/page_69.jpg\n",
      "Cropping tables from /Users/codym/CAP/ai-starter-kit/yoda/data/sec-edgar-filings/AAPL/10-Q/0000320193-23-000006/full-submission/images/page_55.jpg\n",
      "Cropping tables from /Users/codym/CAP/ai-starter-kit/yoda/data/sec-edgar-filings/AAPL/10-Q/0000320193-23-000006/full-submission/images/page_41.jpg\n"
     ]
    },
    {
     "name": "stderr",
     "output_type": "stream",
     "text": [
      "image 1/1 /Users/codym/CAP/ai-starter-kit/yoda/data/sec-edgar-filings/AAPL/10-Q/0000320193-23-000006/full-submission/images/page_41.jpg: 640x512 (no detections), 69.7ms\n",
      "Speed: 0.2ms preprocess, 69.7ms inference, 0.2ms postprocess per image at shape (1, 3, 640, 640)\n",
      "\n",
      "image 1/1 /Users/codym/CAP/ai-starter-kit/yoda/data/sec-edgar-filings/AAPL/10-Q/0000320193-23-000006/full-submission/images/page_96.jpg: 640x512 (no detections), 73.6ms\n",
      "Speed: 0.4ms preprocess, 73.6ms inference, 0.2ms postprocess per image at shape (1, 3, 640, 640)\n",
      "\n",
      "image 1/1 /Users/codym/CAP/ai-starter-kit/yoda/data/sec-edgar-filings/AAPL/10-Q/0000320193-23-000006/full-submission/images/page_82.jpg: 640x512 (no detections), 69.7ms\n",
      "Speed: 0.2ms preprocess, 69.7ms inference, 0.2ms postprocess per image at shape (1, 3, 640, 640)\n",
      "\n"
     ]
    },
    {
     "name": "stdout",
     "output_type": "stream",
     "text": [
      "Cropping tables from /Users/codym/CAP/ai-starter-kit/yoda/data/sec-edgar-filings/AAPL/10-Q/0000320193-23-000006/full-submission/images/page_96.jpg\n",
      "Cropping tables from /Users/codym/CAP/ai-starter-kit/yoda/data/sec-edgar-filings/AAPL/10-Q/0000320193-23-000006/full-submission/images/page_82.jpg\n",
      "Cropping tables from /Users/codym/CAP/ai-starter-kit/yoda/data/sec-edgar-filings/AAPL/10-Q/0000320193-23-000006/full-submission/images/page_94.jpg\n"
     ]
    },
    {
     "name": "stderr",
     "output_type": "stream",
     "text": [
      "image 1/1 /Users/codym/CAP/ai-starter-kit/yoda/data/sec-edgar-filings/AAPL/10-Q/0000320193-23-000006/full-submission/images/page_94.jpg: 640x512 (no detections), 76.0ms\n",
      "Speed: 0.3ms preprocess, 76.0ms inference, 0.2ms postprocess per image at shape (1, 3, 640, 640)\n",
      "\n",
      "image 1/1 /Users/codym/CAP/ai-starter-kit/yoda/data/sec-edgar-filings/AAPL/10-Q/0000320193-23-000006/full-submission/images/page_80.jpg: 640x512 (no detections), 70.6ms\n",
      "Speed: 0.3ms preprocess, 70.6ms inference, 0.2ms postprocess per image at shape (1, 3, 640, 640)\n",
      "\n",
      "image 1/1 /Users/codym/CAP/ai-starter-kit/yoda/data/sec-edgar-filings/AAPL/10-Q/0000320193-23-000006/full-submission/images/page_57.jpg: 640x512 1 borderless, 69.7ms\n",
      "Speed: 0.2ms preprocess, 69.7ms inference, 0.4ms postprocess per image at shape (1, 3, 640, 640)\n",
      "\n"
     ]
    },
    {
     "name": "stdout",
     "output_type": "stream",
     "text": [
      "Cropping tables from /Users/codym/CAP/ai-starter-kit/yoda/data/sec-edgar-filings/AAPL/10-Q/0000320193-23-000006/full-submission/images/page_80.jpg\n",
      "Cropping tables from /Users/codym/CAP/ai-starter-kit/yoda/data/sec-edgar-filings/AAPL/10-Q/0000320193-23-000006/full-submission/images/page_57.jpg\n",
      "Cropping tables from /Users/codym/CAP/ai-starter-kit/yoda/data/sec-edgar-filings/AAPL/10-Q/0000320193-23-000006/full-submission/images/page_43.jpg\n"
     ]
    },
    {
     "name": "stderr",
     "output_type": "stream",
     "text": [
      "image 1/1 /Users/codym/CAP/ai-starter-kit/yoda/data/sec-edgar-filings/AAPL/10-Q/0000320193-23-000006/full-submission/images/page_43.jpg: 640x512 (no detections), 76.0ms\n",
      "Speed: 0.2ms preprocess, 76.0ms inference, 0.3ms postprocess per image at shape (1, 3, 640, 640)\n",
      "\n",
      "image 1/1 /Users/codym/CAP/ai-starter-kit/yoda/data/sec-edgar-filings/AAPL/10-Q/0000320193-23-000006/full-submission/images/page_7.jpg: 640x512 1 borderless, 76.8ms\n",
      "Speed: 0.4ms preprocess, 76.8ms inference, 0.4ms postprocess per image at shape (1, 3, 640, 640)\n",
      "\n"
     ]
    },
    {
     "name": "stdout",
     "output_type": "stream",
     "text": [
      "Cropping tables from /Users/codym/CAP/ai-starter-kit/yoda/data/sec-edgar-filings/AAPL/10-Q/0000320193-23-000006/full-submission/images/page_7.jpg\n",
      "Cropping tables from /Users/codym/CAP/ai-starter-kit/yoda/data/sec-edgar-filings/AAPL/10-Q/0000320193-23-000006/full-submission/images/page_154.jpg\n"
     ]
    },
    {
     "name": "stderr",
     "output_type": "stream",
     "text": [
      "image 1/1 /Users/codym/CAP/ai-starter-kit/yoda/data/sec-edgar-filings/AAPL/10-Q/0000320193-23-000006/full-submission/images/page_154.jpg: 640x512 1 borderless, 180.2ms\n",
      "Speed: 3.9ms preprocess, 180.2ms inference, 0.4ms postprocess per image at shape (1, 3, 640, 640)\n",
      "\n",
      "image 1/1 /Users/codym/CAP/ai-starter-kit/yoda/data/sec-edgar-filings/AAPL/10-Q/0000320193-23-000006/full-submission/images/page_140.jpg: 640x512 (no detections), 75.2ms\n",
      "Speed: 0.2ms preprocess, 75.2ms inference, 0.2ms postprocess per image at shape (1, 3, 640, 640)\n",
      "\n",
      "image 1/1 /Users/codym/CAP/ai-starter-kit/yoda/data/sec-edgar-filings/AAPL/10-Q/0000320193-23-000006/full-submission/images/page_141.jpg: 640x512 (no detections), 71.6ms\n",
      "Speed: 0.6ms preprocess, 71.6ms inference, 0.2ms postprocess per image at shape (1, 3, 640, 640)\n",
      "\n"
     ]
    },
    {
     "name": "stdout",
     "output_type": "stream",
     "text": [
      "Cropping tables from /Users/codym/CAP/ai-starter-kit/yoda/data/sec-edgar-filings/AAPL/10-Q/0000320193-23-000006/full-submission/images/page_140.jpg\n",
      "Cropping tables from /Users/codym/CAP/ai-starter-kit/yoda/data/sec-edgar-filings/AAPL/10-Q/0000320193-23-000006/full-submission/images/page_141.jpg\n",
      "Cropping tables from /Users/codym/CAP/ai-starter-kit/yoda/data/sec-edgar-filings/AAPL/10-Q/0000320193-23-000006/full-submission/images/page_155.jpg\n"
     ]
    },
    {
     "name": "stderr",
     "output_type": "stream",
     "text": [
      "image 1/1 /Users/codym/CAP/ai-starter-kit/yoda/data/sec-edgar-filings/AAPL/10-Q/0000320193-23-000006/full-submission/images/page_155.jpg: 640x512 (no detections), 72.1ms\n",
      "Speed: 0.2ms preprocess, 72.1ms inference, 0.2ms postprocess per image at shape (1, 3, 640, 640)\n",
      "\n",
      "image 1/1 /Users/codym/CAP/ai-starter-kit/yoda/data/sec-edgar-filings/AAPL/10-Q/0000320193-23-000006/full-submission/images/page_6.jpg: 640x512 1 borderless, 73.3ms\n",
      "Speed: 0.2ms preprocess, 73.3ms inference, 0.5ms postprocess per image at shape (1, 3, 640, 640)\n",
      "\n",
      "image 1/1 /Users/codym/CAP/ai-starter-kit/yoda/data/sec-edgar-filings/AAPL/10-Q/0000320193-23-000006/full-submission/images/page_42.jpg: 640x512 (no detections), 69.7ms\n",
      "Speed: 1.1ms preprocess, 69.7ms inference, 0.2ms postprocess per image at shape (1, 3, 640, 640)\n",
      "\n"
     ]
    },
    {
     "name": "stdout",
     "output_type": "stream",
     "text": [
      "Cropping tables from /Users/codym/CAP/ai-starter-kit/yoda/data/sec-edgar-filings/AAPL/10-Q/0000320193-23-000006/full-submission/images/page_6.jpg\n",
      "Cropping tables from /Users/codym/CAP/ai-starter-kit/yoda/data/sec-edgar-filings/AAPL/10-Q/0000320193-23-000006/full-submission/images/page_42.jpg\n",
      "Cropping tables from /Users/codym/CAP/ai-starter-kit/yoda/data/sec-edgar-filings/AAPL/10-Q/0000320193-23-000006/full-submission/images/page_56.jpg\n"
     ]
    },
    {
     "name": "stderr",
     "output_type": "stream",
     "text": [
      "image 1/1 /Users/codym/CAP/ai-starter-kit/yoda/data/sec-edgar-filings/AAPL/10-Q/0000320193-23-000006/full-submission/images/page_56.jpg: 640x512 2 borderlesss, 86.3ms\n",
      "Speed: 0.2ms preprocess, 86.3ms inference, 0.4ms postprocess per image at shape (1, 3, 640, 640)\n",
      "\n",
      "image 1/1 /Users/codym/CAP/ai-starter-kit/yoda/data/sec-edgar-filings/AAPL/10-Q/0000320193-23-000006/full-submission/images/page_81.jpg: 640x512 (no detections), 68.0ms\n",
      "Speed: 0.5ms preprocess, 68.0ms inference, 0.2ms postprocess per image at shape (1, 3, 640, 640)\n",
      "\n",
      "image 1/1 /Users/codym/CAP/ai-starter-kit/yoda/data/sec-edgar-filings/AAPL/10-Q/0000320193-23-000006/full-submission/images/page_95.jpg: 640x512 (no detections), 70.1ms\n",
      "Speed: 0.2ms preprocess, 70.1ms inference, 0.2ms postprocess per image at shape (1, 3, 640, 640)\n",
      "\n"
     ]
    },
    {
     "name": "stdout",
     "output_type": "stream",
     "text": [
      "Cropping tables from /Users/codym/CAP/ai-starter-kit/yoda/data/sec-edgar-filings/AAPL/10-Q/0000320193-23-000006/full-submission/images/page_81.jpg\n",
      "Cropping tables from /Users/codym/CAP/ai-starter-kit/yoda/data/sec-edgar-filings/AAPL/10-Q/0000320193-23-000006/full-submission/images/page_95.jpg\n",
      "Cropping tables from /Users/codym/CAP/ai-starter-kit/yoda/data/sec-edgar-filings/AAPL/10-Q/0000320193-23-000006/full-submission/images/page_19.jpg\n"
     ]
    },
    {
     "name": "stderr",
     "output_type": "stream",
     "text": [
      "image 1/1 /Users/codym/CAP/ai-starter-kit/yoda/data/sec-edgar-filings/AAPL/10-Q/0000320193-23-000006/full-submission/images/page_19.jpg: 640x512 1 borderless, 75.4ms\n",
      "Speed: 0.2ms preprocess, 75.4ms inference, 0.4ms postprocess per image at shape (1, 3, 640, 640)\n",
      "\n",
      "image 1/1 /Users/codym/CAP/ai-starter-kit/yoda/data/sec-edgar-filings/AAPL/10-Q/0000320193-23-000006/full-submission/images/page_31.jpg: 640x512 (no detections), 70.4ms\n",
      "Speed: 0.7ms preprocess, 70.4ms inference, 0.2ms postprocess per image at shape (1, 3, 640, 640)\n",
      "\n",
      "image 1/1 /Users/codym/CAP/ai-starter-kit/yoda/data/sec-edgar-filings/AAPL/10-Q/0000320193-23-000006/full-submission/images/page_25.jpg: 640x512 (no detections), 71.0ms\n",
      "Speed: 0.4ms preprocess, 71.0ms inference, 0.2ms postprocess per image at shape (1, 3, 640, 640)\n",
      "\n"
     ]
    },
    {
     "name": "stdout",
     "output_type": "stream",
     "text": [
      "Cropping tables from /Users/codym/CAP/ai-starter-kit/yoda/data/sec-edgar-filings/AAPL/10-Q/0000320193-23-000006/full-submission/images/page_31.jpg\n",
      "Cropping tables from /Users/codym/CAP/ai-starter-kit/yoda/data/sec-edgar-filings/AAPL/10-Q/0000320193-23-000006/full-submission/images/page_25.jpg\n",
      "Cropping tables from /Users/codym/CAP/ai-starter-kit/yoda/data/sec-edgar-filings/AAPL/10-Q/0000320193-23-000006/full-submission/images/page_132.jpg\n"
     ]
    },
    {
     "name": "stderr",
     "output_type": "stream",
     "text": [
      "image 1/1 /Users/codym/CAP/ai-starter-kit/yoda/data/sec-edgar-filings/AAPL/10-Q/0000320193-23-000006/full-submission/images/page_132.jpg: 640x512 (no detections), 81.7ms\n",
      "Speed: 0.2ms preprocess, 81.7ms inference, 0.2ms postprocess per image at shape (1, 3, 640, 640)\n",
      "\n",
      "image 1/1 /Users/codym/CAP/ai-starter-kit/yoda/data/sec-edgar-filings/AAPL/10-Q/0000320193-23-000006/full-submission/images/page_126.jpg: 640x512 (no detections), 75.2ms\n",
      "Speed: 0.3ms preprocess, 75.2ms inference, 0.2ms postprocess per image at shape (1, 3, 640, 640)\n",
      "\n",
      "image 1/1 /Users/codym/CAP/ai-starter-kit/yoda/data/sec-edgar-filings/AAPL/10-Q/0000320193-23-000006/full-submission/images/page_127.jpg: 640x512 (no detections), 72.2ms\n",
      "Speed: 0.4ms preprocess, 72.2ms inference, 0.2ms postprocess per image at shape (1, 3, 640, 640)\n",
      "\n"
     ]
    },
    {
     "name": "stdout",
     "output_type": "stream",
     "text": [
      "Cropping tables from /Users/codym/CAP/ai-starter-kit/yoda/data/sec-edgar-filings/AAPL/10-Q/0000320193-23-000006/full-submission/images/page_126.jpg\n",
      "Cropping tables from /Users/codym/CAP/ai-starter-kit/yoda/data/sec-edgar-filings/AAPL/10-Q/0000320193-23-000006/full-submission/images/page_127.jpg\n",
      "Cropping tables from /Users/codym/CAP/ai-starter-kit/yoda/data/sec-edgar-filings/AAPL/10-Q/0000320193-23-000006/full-submission/images/page_133.jpg\n"
     ]
    },
    {
     "name": "stderr",
     "output_type": "stream",
     "text": [
      "image 1/1 /Users/codym/CAP/ai-starter-kit/yoda/data/sec-edgar-filings/AAPL/10-Q/0000320193-23-000006/full-submission/images/page_133.jpg: 640x512 (no detections), 74.4ms\n",
      "Speed: 0.2ms preprocess, 74.4ms inference, 0.2ms postprocess per image at shape (1, 3, 640, 640)\n",
      "\n",
      "image 1/1 /Users/codym/CAP/ai-starter-kit/yoda/data/sec-edgar-filings/AAPL/10-Q/0000320193-23-000006/full-submission/images/page_24.jpg: 640x512 (no detections), 74.9ms\n",
      "Speed: 0.5ms preprocess, 74.9ms inference, 0.2ms postprocess per image at shape (1, 3, 640, 640)\n",
      "\n",
      "image 1/1 /Users/codym/CAP/ai-starter-kit/yoda/data/sec-edgar-filings/AAPL/10-Q/0000320193-23-000006/full-submission/images/page_30.jpg: 640x512 (no detections), 96.5ms\n",
      "Speed: 0.4ms preprocess, 96.5ms inference, 0.2ms postprocess per image at shape (1, 3, 640, 640)\n",
      "\n"
     ]
    },
    {
     "name": "stdout",
     "output_type": "stream",
     "text": [
      "Cropping tables from /Users/codym/CAP/ai-starter-kit/yoda/data/sec-edgar-filings/AAPL/10-Q/0000320193-23-000006/full-submission/images/page_24.jpg\n",
      "Cropping tables from /Users/codym/CAP/ai-starter-kit/yoda/data/sec-edgar-filings/AAPL/10-Q/0000320193-23-000006/full-submission/images/page_30.jpg\n",
      "Cropping tables from /Users/codym/CAP/ai-starter-kit/yoda/data/sec-edgar-filings/AAPL/10-Q/0000320193-23-000006/full-submission/images/page_18.jpg\n"
     ]
    },
    {
     "name": "stderr",
     "output_type": "stream",
     "text": [
      "image 1/1 /Users/codym/CAP/ai-starter-kit/yoda/data/sec-edgar-filings/AAPL/10-Q/0000320193-23-000006/full-submission/images/page_18.jpg: 640x512 1 borderless, 106.7ms\n",
      "Speed: 0.6ms preprocess, 106.7ms inference, 0.4ms postprocess per image at shape (1, 3, 640, 640)\n",
      "\n",
      "image 1/1 /Users/codym/CAP/ai-starter-kit/yoda/data/sec-edgar-filings/AAPL/10-Q/0000320193-23-000006/full-submission/images/page_26.jpg: 640x512 (no detections), 101.8ms\n",
      "Speed: 0.7ms preprocess, 101.8ms inference, 0.2ms postprocess per image at shape (1, 3, 640, 640)\n",
      "\n"
     ]
    },
    {
     "name": "stdout",
     "output_type": "stream",
     "text": [
      "Cropping tables from /Users/codym/CAP/ai-starter-kit/yoda/data/sec-edgar-filings/AAPL/10-Q/0000320193-23-000006/full-submission/images/page_26.jpg\n",
      "Cropping tables from /Users/codym/CAP/ai-starter-kit/yoda/data/sec-edgar-filings/AAPL/10-Q/0000320193-23-000006/full-submission/images/page_32.jpg\n"
     ]
    },
    {
     "name": "stderr",
     "output_type": "stream",
     "text": [
      "image 1/1 /Users/codym/CAP/ai-starter-kit/yoda/data/sec-edgar-filings/AAPL/10-Q/0000320193-23-000006/full-submission/images/page_32.jpg: 640x512 (no detections), 92.6ms\n",
      "Speed: 0.6ms preprocess, 92.6ms inference, 0.2ms postprocess per image at shape (1, 3, 640, 640)\n",
      "\n",
      "image 1/1 /Users/codym/CAP/ai-starter-kit/yoda/data/sec-edgar-filings/AAPL/10-Q/0000320193-23-000006/full-submission/images/page_119.jpg: 640x512 (no detections), 88.4ms\n",
      "Speed: 0.3ms preprocess, 88.4ms inference, 0.2ms postprocess per image at shape (1, 3, 640, 640)\n",
      "\n"
     ]
    },
    {
     "name": "stdout",
     "output_type": "stream",
     "text": [
      "Cropping tables from /Users/codym/CAP/ai-starter-kit/yoda/data/sec-edgar-filings/AAPL/10-Q/0000320193-23-000006/full-submission/images/page_119.jpg\n",
      "Cropping tables from /Users/codym/CAP/ai-starter-kit/yoda/data/sec-edgar-filings/AAPL/10-Q/0000320193-23-000006/full-submission/images/page_125.jpg\n"
     ]
    },
    {
     "name": "stderr",
     "output_type": "stream",
     "text": [
      "image 1/1 /Users/codym/CAP/ai-starter-kit/yoda/data/sec-edgar-filings/AAPL/10-Q/0000320193-23-000006/full-submission/images/page_125.jpg: 640x512 (no detections), 98.3ms\n",
      "Speed: 0.3ms preprocess, 98.3ms inference, 0.2ms postprocess per image at shape (1, 3, 640, 640)\n",
      "\n",
      "image 1/1 /Users/codym/CAP/ai-starter-kit/yoda/data/sec-edgar-filings/AAPL/10-Q/0000320193-23-000006/full-submission/images/page_131.jpg: 640x512 1 borderless, 91.5ms\n",
      "Speed: 0.4ms preprocess, 91.5ms inference, 0.4ms postprocess per image at shape (1, 3, 640, 640)\n",
      "\n"
     ]
    },
    {
     "name": "stdout",
     "output_type": "stream",
     "text": [
      "Cropping tables from /Users/codym/CAP/ai-starter-kit/yoda/data/sec-edgar-filings/AAPL/10-Q/0000320193-23-000006/full-submission/images/page_131.jpg\n",
      "Cropping tables from /Users/codym/CAP/ai-starter-kit/yoda/data/sec-edgar-filings/AAPL/10-Q/0000320193-23-000006/full-submission/images/page_130.jpg\n"
     ]
    },
    {
     "name": "stderr",
     "output_type": "stream",
     "text": [
      "image 1/1 /Users/codym/CAP/ai-starter-kit/yoda/data/sec-edgar-filings/AAPL/10-Q/0000320193-23-000006/full-submission/images/page_130.jpg: 640x512 (no detections), 75.7ms\n",
      "Speed: 0.3ms preprocess, 75.7ms inference, 0.2ms postprocess per image at shape (1, 3, 640, 640)\n",
      "\n",
      "image 1/1 /Users/codym/CAP/ai-starter-kit/yoda/data/sec-edgar-filings/AAPL/10-Q/0000320193-23-000006/full-submission/images/page_124.jpg: 640x512 1 borderless, 92.5ms\n",
      "Speed: 0.8ms preprocess, 92.5ms inference, 0.4ms postprocess per image at shape (1, 3, 640, 640)\n",
      "\n"
     ]
    },
    {
     "name": "stdout",
     "output_type": "stream",
     "text": [
      "Cropping tables from /Users/codym/CAP/ai-starter-kit/yoda/data/sec-edgar-filings/AAPL/10-Q/0000320193-23-000006/full-submission/images/page_124.jpg\n",
      "Cropping tables from /Users/codym/CAP/ai-starter-kit/yoda/data/sec-edgar-filings/AAPL/10-Q/0000320193-23-000006/full-submission/images/page_118.jpg\n"
     ]
    },
    {
     "name": "stderr",
     "output_type": "stream",
     "text": [
      "image 1/1 /Users/codym/CAP/ai-starter-kit/yoda/data/sec-edgar-filings/AAPL/10-Q/0000320193-23-000006/full-submission/images/page_118.jpg: 640x512 (no detections), 96.5ms\n",
      "Speed: 0.6ms preprocess, 96.5ms inference, 0.2ms postprocess per image at shape (1, 3, 640, 640)\n",
      "\n",
      "image 1/1 /Users/codym/CAP/ai-starter-kit/yoda/data/sec-edgar-filings/AAPL/10-Q/0000320193-23-000006/full-submission/images/page_33.jpg: 640x512 (no detections), 166.0ms\n",
      "Speed: 0.2ms preprocess, 166.0ms inference, 0.2ms postprocess per image at shape (1, 3, 640, 640)\n",
      "\n"
     ]
    },
    {
     "name": "stdout",
     "output_type": "stream",
     "text": [
      "Cropping tables from /Users/codym/CAP/ai-starter-kit/yoda/data/sec-edgar-filings/AAPL/10-Q/0000320193-23-000006/full-submission/images/page_33.jpg\n",
      "Cropping tables from /Users/codym/CAP/ai-starter-kit/yoda/data/sec-edgar-filings/AAPL/10-Q/0000320193-23-000006/full-submission/images/page_27.jpg\n"
     ]
    },
    {
     "name": "stderr",
     "output_type": "stream",
     "text": [
      "image 1/1 /Users/codym/CAP/ai-starter-kit/yoda/data/sec-edgar-filings/AAPL/10-Q/0000320193-23-000006/full-submission/images/page_27.jpg: 640x512 (no detections), 128.1ms\n",
      "Speed: 0.3ms preprocess, 128.1ms inference, 0.2ms postprocess per image at shape (1, 3, 640, 640)\n",
      "\n",
      "image 1/1 /Users/codym/CAP/ai-starter-kit/yoda/data/sec-edgar-filings/AAPL/10-Q/0000320193-23-000006/full-submission/images/page_23.jpg: 640x512 (no detections), 86.2ms\n",
      "Speed: 0.3ms preprocess, 86.2ms inference, 0.2ms postprocess per image at shape (1, 3, 640, 640)\n",
      "\n",
      "image 1/1 /Users/codym/CAP/ai-starter-kit/yoda/data/sec-edgar-filings/AAPL/10-Q/0000320193-23-000006/full-submission/images/page_37.jpg: 640x512 (no detections), 76.7ms\n",
      "Speed: 0.4ms preprocess, 76.7ms inference, 0.2ms postprocess per image at shape (1, 3, 640, 640)\n",
      "\n"
     ]
    },
    {
     "name": "stdout",
     "output_type": "stream",
     "text": [
      "Cropping tables from /Users/codym/CAP/ai-starter-kit/yoda/data/sec-edgar-filings/AAPL/10-Q/0000320193-23-000006/full-submission/images/page_23.jpg\n",
      "Cropping tables from /Users/codym/CAP/ai-starter-kit/yoda/data/sec-edgar-filings/AAPL/10-Q/0000320193-23-000006/full-submission/images/page_37.jpg\n",
      "Cropping tables from /Users/codym/CAP/ai-starter-kit/yoda/data/sec-edgar-filings/AAPL/10-Q/0000320193-23-000006/full-submission/images/page_120.jpg\n"
     ]
    },
    {
     "name": "stderr",
     "output_type": "stream",
     "text": [
      "image 1/1 /Users/codym/CAP/ai-starter-kit/yoda/data/sec-edgar-filings/AAPL/10-Q/0000320193-23-000006/full-submission/images/page_120.jpg: 640x512 (no detections), 76.6ms\n",
      "Speed: 0.3ms preprocess, 76.6ms inference, 0.2ms postprocess per image at shape (1, 3, 640, 640)\n",
      "\n",
      "image 1/1 /Users/codym/CAP/ai-starter-kit/yoda/data/sec-edgar-filings/AAPL/10-Q/0000320193-23-000006/full-submission/images/page_134.jpg: 640x512 (no detections), 82.6ms\n",
      "Speed: 0.6ms preprocess, 82.6ms inference, 0.2ms postprocess per image at shape (1, 3, 640, 640)\n",
      "\n"
     ]
    },
    {
     "name": "stdout",
     "output_type": "stream",
     "text": [
      "Cropping tables from /Users/codym/CAP/ai-starter-kit/yoda/data/sec-edgar-filings/AAPL/10-Q/0000320193-23-000006/full-submission/images/page_134.jpg\n",
      "Cropping tables from /Users/codym/CAP/ai-starter-kit/yoda/data/sec-edgar-filings/AAPL/10-Q/0000320193-23-000006/full-submission/images/page_108.jpg\n"
     ]
    },
    {
     "name": "stderr",
     "output_type": "stream",
     "text": [
      "image 1/1 /Users/codym/CAP/ai-starter-kit/yoda/data/sec-edgar-filings/AAPL/10-Q/0000320193-23-000006/full-submission/images/page_108.jpg: 640x512 (no detections), 122.6ms\n",
      "Speed: 0.3ms preprocess, 122.6ms inference, 0.2ms postprocess per image at shape (1, 3, 640, 640)\n",
      "\n",
      "image 1/1 /Users/codym/CAP/ai-starter-kit/yoda/data/sec-edgar-filings/AAPL/10-Q/0000320193-23-000006/full-submission/images/page_109.jpg: 640x512 (no detections), 79.4ms\n",
      "Speed: 0.2ms preprocess, 79.4ms inference, 0.2ms postprocess per image at shape (1, 3, 640, 640)\n",
      "\n"
     ]
    },
    {
     "name": "stdout",
     "output_type": "stream",
     "text": [
      "Cropping tables from /Users/codym/CAP/ai-starter-kit/yoda/data/sec-edgar-filings/AAPL/10-Q/0000320193-23-000006/full-submission/images/page_109.jpg\n",
      "Cropping tables from /Users/codym/CAP/ai-starter-kit/yoda/data/sec-edgar-filings/AAPL/10-Q/0000320193-23-000006/full-submission/images/page_135.jpg\n"
     ]
    },
    {
     "name": "stderr",
     "output_type": "stream",
     "text": [
      "image 1/1 /Users/codym/CAP/ai-starter-kit/yoda/data/sec-edgar-filings/AAPL/10-Q/0000320193-23-000006/full-submission/images/page_135.jpg: 640x512 (no detections), 102.1ms\n",
      "Speed: 0.2ms preprocess, 102.1ms inference, 0.2ms postprocess per image at shape (1, 3, 640, 640)\n",
      "\n",
      "image 1/1 /Users/codym/CAP/ai-starter-kit/yoda/data/sec-edgar-filings/AAPL/10-Q/0000320193-23-000006/full-submission/images/page_121.jpg: 640x512 (no detections), 93.7ms\n",
      "Speed: 0.6ms preprocess, 93.7ms inference, 0.2ms postprocess per image at shape (1, 3, 640, 640)\n",
      "\n"
     ]
    },
    {
     "name": "stdout",
     "output_type": "stream",
     "text": [
      "Cropping tables from /Users/codym/CAP/ai-starter-kit/yoda/data/sec-edgar-filings/AAPL/10-Q/0000320193-23-000006/full-submission/images/page_121.jpg\n",
      "Cropping tables from /Users/codym/CAP/ai-starter-kit/yoda/data/sec-edgar-filings/AAPL/10-Q/0000320193-23-000006/full-submission/images/page_36.jpg\n"
     ]
    },
    {
     "name": "stderr",
     "output_type": "stream",
     "text": [
      "image 1/1 /Users/codym/CAP/ai-starter-kit/yoda/data/sec-edgar-filings/AAPL/10-Q/0000320193-23-000006/full-submission/images/page_36.jpg: 640x512 (no detections), 94.1ms\n",
      "Speed: 0.6ms preprocess, 94.1ms inference, 0.2ms postprocess per image at shape (1, 3, 640, 640)\n",
      "\n",
      "image 1/1 /Users/codym/CAP/ai-starter-kit/yoda/data/sec-edgar-filings/AAPL/10-Q/0000320193-23-000006/full-submission/images/page_22.jpg: 640x512 1 borderless, 94.6ms\n",
      "Speed: 0.9ms preprocess, 94.6ms inference, 0.4ms postprocess per image at shape (1, 3, 640, 640)\n",
      "\n"
     ]
    },
    {
     "name": "stdout",
     "output_type": "stream",
     "text": [
      "Cropping tables from /Users/codym/CAP/ai-starter-kit/yoda/data/sec-edgar-filings/AAPL/10-Q/0000320193-23-000006/full-submission/images/page_22.jpg\n",
      "Cropping tables from /Users/codym/CAP/ai-starter-kit/yoda/data/sec-edgar-filings/AAPL/10-Q/0000320193-23-000006/full-submission/images/page_34.jpg\n"
     ]
    },
    {
     "name": "stderr",
     "output_type": "stream",
     "text": [
      "image 1/1 /Users/codym/CAP/ai-starter-kit/yoda/data/sec-edgar-filings/AAPL/10-Q/0000320193-23-000006/full-submission/images/page_34.jpg: 640x512 (no detections), 95.9ms\n",
      "Speed: 0.2ms preprocess, 95.9ms inference, 0.2ms postprocess per image at shape (1, 3, 640, 640)\n",
      "\n",
      "image 1/1 /Users/codym/CAP/ai-starter-kit/yoda/data/sec-edgar-filings/AAPL/10-Q/0000320193-23-000006/full-submission/images/page_20.jpg: 640x512 2 borderlesss, 92.6ms\n",
      "Speed: 20.5ms preprocess, 92.6ms inference, 0.4ms postprocess per image at shape (1, 3, 640, 640)\n",
      "\n"
     ]
    },
    {
     "name": "stdout",
     "output_type": "stream",
     "text": [
      "Cropping tables from /Users/codym/CAP/ai-starter-kit/yoda/data/sec-edgar-filings/AAPL/10-Q/0000320193-23-000006/full-submission/images/page_20.jpg\n",
      "Cropping tables from /Users/codym/CAP/ai-starter-kit/yoda/data/sec-edgar-filings/AAPL/10-Q/0000320193-23-000006/full-submission/images/page_137.jpg\n"
     ]
    },
    {
     "name": "stderr",
     "output_type": "stream",
     "text": [
      "image 1/1 /Users/codym/CAP/ai-starter-kit/yoda/data/sec-edgar-filings/AAPL/10-Q/0000320193-23-000006/full-submission/images/page_137.jpg: 640x512 (no detections), 111.1ms\n",
      "Speed: 3.8ms preprocess, 111.1ms inference, 0.2ms postprocess per image at shape (1, 3, 640, 640)\n",
      "\n",
      "image 1/1 /Users/codym/CAP/ai-starter-kit/yoda/data/sec-edgar-filings/AAPL/10-Q/0000320193-23-000006/full-submission/images/page_123.jpg: 640x512 (no detections), 83.2ms\n",
      "Speed: 0.4ms preprocess, 83.2ms inference, 0.2ms postprocess per image at shape (1, 3, 640, 640)\n",
      "\n"
     ]
    },
    {
     "name": "stdout",
     "output_type": "stream",
     "text": [
      "Cropping tables from /Users/codym/CAP/ai-starter-kit/yoda/data/sec-edgar-filings/AAPL/10-Q/0000320193-23-000006/full-submission/images/page_123.jpg\n",
      "Cropping tables from /Users/codym/CAP/ai-starter-kit/yoda/data/sec-edgar-filings/AAPL/10-Q/0000320193-23-000006/full-submission/images/page_122.jpg\n"
     ]
    },
    {
     "name": "stderr",
     "output_type": "stream",
     "text": [
      "image 1/1 /Users/codym/CAP/ai-starter-kit/yoda/data/sec-edgar-filings/AAPL/10-Q/0000320193-23-000006/full-submission/images/page_122.jpg: 640x512 (no detections), 74.8ms\n",
      "Speed: 0.2ms preprocess, 74.8ms inference, 0.2ms postprocess per image at shape (1, 3, 640, 640)\n",
      "\n",
      "image 1/1 /Users/codym/CAP/ai-starter-kit/yoda/data/sec-edgar-filings/AAPL/10-Q/0000320193-23-000006/full-submission/images/page_136.jpg: 640x512 1 borderless, 69.6ms\n",
      "Speed: 0.3ms preprocess, 69.6ms inference, 0.4ms postprocess per image at shape (1, 3, 640, 640)\n",
      "\n",
      "image 1/1 /Users/codym/CAP/ai-starter-kit/yoda/data/sec-edgar-filings/AAPL/10-Q/0000320193-23-000006/full-submission/images/page_21.jpg: 640x512 (no detections), 68.4ms\n",
      "Speed: 0.2ms preprocess, 68.4ms inference, 0.2ms postprocess per image at shape (1, 3, 640, 640)\n",
      "\n"
     ]
    },
    {
     "name": "stdout",
     "output_type": "stream",
     "text": [
      "Cropping tables from /Users/codym/CAP/ai-starter-kit/yoda/data/sec-edgar-filings/AAPL/10-Q/0000320193-23-000006/full-submission/images/page_136.jpg\n",
      "Cropping tables from /Users/codym/CAP/ai-starter-kit/yoda/data/sec-edgar-filings/AAPL/10-Q/0000320193-23-000006/full-submission/images/page_21.jpg\n",
      "Cropping tables from /Users/codym/CAP/ai-starter-kit/yoda/data/sec-edgar-filings/AAPL/10-Q/0000320193-23-000006/full-submission/images/page_35.jpg\n"
     ]
    },
    {
     "name": "stderr",
     "output_type": "stream",
     "text": [
      "image 1/1 /Users/codym/CAP/ai-starter-kit/yoda/data/sec-edgar-filings/AAPL/10-Q/0000320193-23-000006/full-submission/images/page_35.jpg: 640x512 (no detections), 73.9ms\n",
      "Speed: 0.2ms preprocess, 73.9ms inference, 0.2ms postprocess per image at shape (1, 3, 640, 640)\n",
      "\n",
      "image 1/1 /Users/codym/CAP/ai-starter-kit/yoda/data/sec-edgar-filings/AAPL/10-Q/0000320193-23-000006/full-submission/images/page_38.jpg: 640x512 (no detections), 72.7ms\n",
      "Speed: 0.5ms preprocess, 72.7ms inference, 0.2ms postprocess per image at shape (1, 3, 640, 640)\n",
      "\n",
      "image 1/1 /Users/codym/CAP/ai-starter-kit/yoda/data/sec-edgar-filings/AAPL/10-Q/0000320193-23-000006/full-submission/images/page_10.jpg: 640x512 1 borderless, 66.6ms\n",
      "Speed: 0.2ms preprocess, 66.6ms inference, 0.4ms postprocess per image at shape (1, 3, 640, 640)\n",
      "\n"
     ]
    },
    {
     "name": "stdout",
     "output_type": "stream",
     "text": [
      "Cropping tables from /Users/codym/CAP/ai-starter-kit/yoda/data/sec-edgar-filings/AAPL/10-Q/0000320193-23-000006/full-submission/images/page_38.jpg\n",
      "Cropping tables from /Users/codym/CAP/ai-starter-kit/yoda/data/sec-edgar-filings/AAPL/10-Q/0000320193-23-000006/full-submission/images/page_10.jpg\n",
      "Cropping tables from /Users/codym/CAP/ai-starter-kit/yoda/data/sec-edgar-filings/AAPL/10-Q/0000320193-23-000006/full-submission/images/page_113.jpg\n"
     ]
    },
    {
     "name": "stderr",
     "output_type": "stream",
     "text": [
      "image 1/1 /Users/codym/CAP/ai-starter-kit/yoda/data/sec-edgar-filings/AAPL/10-Q/0000320193-23-000006/full-submission/images/page_113.jpg: 640x512 (no detections), 70.6ms\n",
      "Speed: 0.2ms preprocess, 70.6ms inference, 0.2ms postprocess per image at shape (1, 3, 640, 640)\n",
      "\n",
      "image 1/1 /Users/codym/CAP/ai-starter-kit/yoda/data/sec-edgar-filings/AAPL/10-Q/0000320193-23-000006/full-submission/images/page_107.jpg: 640x512 (no detections), 72.5ms\n",
      "Speed: 0.2ms preprocess, 72.5ms inference, 0.2ms postprocess per image at shape (1, 3, 640, 640)\n",
      "\n",
      "image 1/1 /Users/codym/CAP/ai-starter-kit/yoda/data/sec-edgar-filings/AAPL/10-Q/0000320193-23-000006/full-submission/images/page_106.jpg: 640x512 (no detections), 68.1ms\n",
      "Speed: 0.2ms preprocess, 68.1ms inference, 0.2ms postprocess per image at shape (1, 3, 640, 640)\n",
      "\n"
     ]
    },
    {
     "name": "stdout",
     "output_type": "stream",
     "text": [
      "Cropping tables from /Users/codym/CAP/ai-starter-kit/yoda/data/sec-edgar-filings/AAPL/10-Q/0000320193-23-000006/full-submission/images/page_107.jpg\n",
      "Cropping tables from /Users/codym/CAP/ai-starter-kit/yoda/data/sec-edgar-filings/AAPL/10-Q/0000320193-23-000006/full-submission/images/page_106.jpg\n",
      "Cropping tables from /Users/codym/CAP/ai-starter-kit/yoda/data/sec-edgar-filings/AAPL/10-Q/0000320193-23-000006/full-submission/images/page_112.jpg\n"
     ]
    },
    {
     "name": "stderr",
     "output_type": "stream",
     "text": [
      "image 1/1 /Users/codym/CAP/ai-starter-kit/yoda/data/sec-edgar-filings/AAPL/10-Q/0000320193-23-000006/full-submission/images/page_112.jpg: 640x512 (no detections), 71.2ms\n",
      "Speed: 0.2ms preprocess, 71.2ms inference, 0.2ms postprocess per image at shape (1, 3, 640, 640)\n",
      "\n",
      "image 1/1 /Users/codym/CAP/ai-starter-kit/yoda/data/sec-edgar-filings/AAPL/10-Q/0000320193-23-000006/full-submission/images/page_11.jpg: 640x512 2 borderlesss, 73.3ms\n",
      "Speed: 0.2ms preprocess, 73.3ms inference, 0.4ms postprocess per image at shape (1, 3, 640, 640)\n",
      "\n",
      "image 1/1 /Users/codym/CAP/ai-starter-kit/yoda/data/sec-edgar-filings/AAPL/10-Q/0000320193-23-000006/full-submission/images/page_39.jpg: 640x512 (no detections), 69.9ms\n",
      "Speed: 0.2ms preprocess, 69.9ms inference, 0.2ms postprocess per image at shape (1, 3, 640, 640)\n",
      "\n"
     ]
    },
    {
     "name": "stdout",
     "output_type": "stream",
     "text": [
      "Cropping tables from /Users/codym/CAP/ai-starter-kit/yoda/data/sec-edgar-filings/AAPL/10-Q/0000320193-23-000006/full-submission/images/page_11.jpg\n",
      "Cropping tables from /Users/codym/CAP/ai-starter-kit/yoda/data/sec-edgar-filings/AAPL/10-Q/0000320193-23-000006/full-submission/images/page_39.jpg\n",
      "Cropping tables from /Users/codym/CAP/ai-starter-kit/yoda/data/sec-edgar-filings/AAPL/10-Q/0000320193-23-000006/full-submission/images/page_13.jpg\n"
     ]
    },
    {
     "name": "stderr",
     "output_type": "stream",
     "text": [
      "image 1/1 /Users/codym/CAP/ai-starter-kit/yoda/data/sec-edgar-filings/AAPL/10-Q/0000320193-23-000006/full-submission/images/page_13.jpg: 640x512 2 borderlesss, 97.3ms\n",
      "Speed: 0.4ms preprocess, 97.3ms inference, 0.4ms postprocess per image at shape (1, 3, 640, 640)\n",
      "\n",
      "image 1/1 /Users/codym/CAP/ai-starter-kit/yoda/data/sec-edgar-filings/AAPL/10-Q/0000320193-23-000006/full-submission/images/page_138.jpg: 640x512 (no detections), 67.1ms\n",
      "Speed: 0.2ms preprocess, 67.1ms inference, 0.2ms postprocess per image at shape (1, 3, 640, 640)\n",
      "\n",
      "image 1/1 /Users/codym/CAP/ai-starter-kit/yoda/data/sec-edgar-filings/AAPL/10-Q/0000320193-23-000006/full-submission/images/page_104.jpg: 640x512 (no detections), 67.2ms\n",
      "Speed: 0.2ms preprocess, 67.2ms inference, 0.2ms postprocess per image at shape (1, 3, 640, 640)\n",
      "\n"
     ]
    },
    {
     "name": "stdout",
     "output_type": "stream",
     "text": [
      "Cropping tables from /Users/codym/CAP/ai-starter-kit/yoda/data/sec-edgar-filings/AAPL/10-Q/0000320193-23-000006/full-submission/images/page_138.jpg\n",
      "Cropping tables from /Users/codym/CAP/ai-starter-kit/yoda/data/sec-edgar-filings/AAPL/10-Q/0000320193-23-000006/full-submission/images/page_104.jpg\n",
      "Cropping tables from /Users/codym/CAP/ai-starter-kit/yoda/data/sec-edgar-filings/AAPL/10-Q/0000320193-23-000006/full-submission/images/page_110.jpg\n"
     ]
    },
    {
     "name": "stderr",
     "output_type": "stream",
     "text": [
      "image 1/1 /Users/codym/CAP/ai-starter-kit/yoda/data/sec-edgar-filings/AAPL/10-Q/0000320193-23-000006/full-submission/images/page_110.jpg: 640x512 (no detections), 78.5ms\n",
      "Speed: 0.6ms preprocess, 78.5ms inference, 0.2ms postprocess per image at shape (1, 3, 640, 640)\n",
      "\n",
      "image 1/1 /Users/codym/CAP/ai-starter-kit/yoda/data/sec-edgar-filings/AAPL/10-Q/0000320193-23-000006/full-submission/images/page_111.jpg: 640x512 (no detections), 112.0ms\n",
      "Speed: 0.3ms preprocess, 112.0ms inference, 0.2ms postprocess per image at shape (1, 3, 640, 640)\n",
      "\n"
     ]
    },
    {
     "name": "stdout",
     "output_type": "stream",
     "text": [
      "Cropping tables from /Users/codym/CAP/ai-starter-kit/yoda/data/sec-edgar-filings/AAPL/10-Q/0000320193-23-000006/full-submission/images/page_111.jpg\n",
      "Cropping tables from /Users/codym/CAP/ai-starter-kit/yoda/data/sec-edgar-filings/AAPL/10-Q/0000320193-23-000006/full-submission/images/page_105.jpg\n"
     ]
    },
    {
     "name": "stderr",
     "output_type": "stream",
     "text": [
      "image 1/1 /Users/codym/CAP/ai-starter-kit/yoda/data/sec-edgar-filings/AAPL/10-Q/0000320193-23-000006/full-submission/images/page_105.jpg: 640x512 1 borderless, 131.9ms\n",
      "Speed: 0.2ms preprocess, 131.9ms inference, 0.4ms postprocess per image at shape (1, 3, 640, 640)\n",
      "\n",
      "image 1/1 /Users/codym/CAP/ai-starter-kit/yoda/data/sec-edgar-filings/AAPL/10-Q/0000320193-23-000006/full-submission/images/page_139.jpg: 640x512 (no detections), 69.6ms\n",
      "Speed: 0.3ms preprocess, 69.6ms inference, 0.2ms postprocess per image at shape (1, 3, 640, 640)\n",
      "\n",
      "image 1/1 /Users/codym/CAP/ai-starter-kit/yoda/data/sec-edgar-filings/AAPL/10-Q/0000320193-23-000006/full-submission/images/page_12.jpg: 640x512 3 borderlesss, 88.9ms\n",
      "Speed: 0.2ms preprocess, 88.9ms inference, 2.6ms postprocess per image at shape (1, 3, 640, 640)\n"
     ]
    },
    {
     "name": "stdout",
     "output_type": "stream",
     "text": [
      "Cropping tables from /Users/codym/CAP/ai-starter-kit/yoda/data/sec-edgar-filings/AAPL/10-Q/0000320193-23-000006/full-submission/images/page_139.jpg\n",
      "Cropping tables from /Users/codym/CAP/ai-starter-kit/yoda/data/sec-edgar-filings/AAPL/10-Q/0000320193-23-000006/full-submission/images/page_12.jpg\n"
     ]
    },
    {
     "name": "stderr",
     "output_type": "stream",
     "text": [
      "\n",
      "image 1/1 /Users/codym/CAP/ai-starter-kit/yoda/data/sec-edgar-filings/AAPL/10-Q/0000320193-23-000006/full-submission/images/page_16.jpg: 640x512 (no detections), 82.4ms\n",
      "Speed: 0.9ms preprocess, 82.4ms inference, 0.2ms postprocess per image at shape (1, 3, 640, 640)\n",
      "\n",
      "image 1/1 /Users/codym/CAP/ai-starter-kit/yoda/data/sec-edgar-filings/AAPL/10-Q/0000320193-23-000006/full-submission/images/page_101.jpg: 640x512 (no detections), 66.9ms\n",
      "Speed: 0.2ms preprocess, 66.9ms inference, 0.2ms postprocess per image at shape (1, 3, 640, 640)\n",
      "\n"
     ]
    },
    {
     "name": "stdout",
     "output_type": "stream",
     "text": [
      "Cropping tables from /Users/codym/CAP/ai-starter-kit/yoda/data/sec-edgar-filings/AAPL/10-Q/0000320193-23-000006/full-submission/images/page_16.jpg\n",
      "Cropping tables from /Users/codym/CAP/ai-starter-kit/yoda/data/sec-edgar-filings/AAPL/10-Q/0000320193-23-000006/full-submission/images/page_101.jpg\n",
      "Cropping tables from /Users/codym/CAP/ai-starter-kit/yoda/data/sec-edgar-filings/AAPL/10-Q/0000320193-23-000006/full-submission/images/page_115.jpg\n"
     ]
    },
    {
     "name": "stderr",
     "output_type": "stream",
     "text": [
      "image 1/1 /Users/codym/CAP/ai-starter-kit/yoda/data/sec-edgar-filings/AAPL/10-Q/0000320193-23-000006/full-submission/images/page_115.jpg: 640x512 (no detections), 68.6ms\n",
      "Speed: 0.5ms preprocess, 68.6ms inference, 0.2ms postprocess per image at shape (1, 3, 640, 640)\n",
      "\n",
      "image 1/1 /Users/codym/CAP/ai-starter-kit/yoda/data/sec-edgar-filings/AAPL/10-Q/0000320193-23-000006/full-submission/images/page_129.jpg: 640x512 (no detections), 67.3ms\n",
      "Speed: 0.2ms preprocess, 67.3ms inference, 0.2ms postprocess per image at shape (1, 3, 640, 640)\n",
      "\n",
      "image 1/1 /Users/codym/CAP/ai-starter-kit/yoda/data/sec-edgar-filings/AAPL/10-Q/0000320193-23-000006/full-submission/images/page_128.jpg: 640x512 (no detections), 78.3ms\n",
      "Speed: 0.2ms preprocess, 78.3ms inference, 0.5ms postprocess per image at shape (1, 3, 640, 640)\n",
      "\n"
     ]
    },
    {
     "name": "stdout",
     "output_type": "stream",
     "text": [
      "Cropping tables from /Users/codym/CAP/ai-starter-kit/yoda/data/sec-edgar-filings/AAPL/10-Q/0000320193-23-000006/full-submission/images/page_129.jpg\n",
      "Cropping tables from /Users/codym/CAP/ai-starter-kit/yoda/data/sec-edgar-filings/AAPL/10-Q/0000320193-23-000006/full-submission/images/page_128.jpg\n",
      "Cropping tables from /Users/codym/CAP/ai-starter-kit/yoda/data/sec-edgar-filings/AAPL/10-Q/0000320193-23-000006/full-submission/images/page_114.jpg\n"
     ]
    },
    {
     "name": "stderr",
     "output_type": "stream",
     "text": [
      "image 1/1 /Users/codym/CAP/ai-starter-kit/yoda/data/sec-edgar-filings/AAPL/10-Q/0000320193-23-000006/full-submission/images/page_114.jpg: 640x512 (no detections), 77.9ms\n",
      "Speed: 0.9ms preprocess, 77.9ms inference, 0.2ms postprocess per image at shape (1, 3, 640, 640)\n",
      "\n",
      "image 1/1 /Users/codym/CAP/ai-starter-kit/yoda/data/sec-edgar-filings/AAPL/10-Q/0000320193-23-000006/full-submission/images/page_100.jpg: 640x512 (no detections), 67.3ms\n",
      "Speed: 0.5ms preprocess, 67.3ms inference, 0.2ms postprocess per image at shape (1, 3, 640, 640)\n",
      "\n",
      "image 1/1 /Users/codym/CAP/ai-starter-kit/yoda/data/sec-edgar-filings/AAPL/10-Q/0000320193-23-000006/full-submission/images/page_17.jpg: 640x512 1 borderless, 67.5ms\n",
      "Speed: 0.2ms preprocess, 67.5ms inference, 0.4ms postprocess per image at shape (1, 3, 640, 640)\n",
      "\n"
     ]
    },
    {
     "name": "stdout",
     "output_type": "stream",
     "text": [
      "Cropping tables from /Users/codym/CAP/ai-starter-kit/yoda/data/sec-edgar-filings/AAPL/10-Q/0000320193-23-000006/full-submission/images/page_100.jpg\n",
      "Cropping tables from /Users/codym/CAP/ai-starter-kit/yoda/data/sec-edgar-filings/AAPL/10-Q/0000320193-23-000006/full-submission/images/page_17.jpg\n",
      "Cropping tables from /Users/codym/CAP/ai-starter-kit/yoda/data/sec-edgar-filings/AAPL/10-Q/0000320193-23-000006/full-submission/images/page_15.jpg\n"
     ]
    },
    {
     "name": "stderr",
     "output_type": "stream",
     "text": [
      "image 1/1 /Users/codym/CAP/ai-starter-kit/yoda/data/sec-edgar-filings/AAPL/10-Q/0000320193-23-000006/full-submission/images/page_15.jpg: 640x512 1 borderless, 72.9ms\n",
      "Speed: 0.2ms preprocess, 72.9ms inference, 0.4ms postprocess per image at shape (1, 3, 640, 640)\n",
      "\n",
      "image 1/1 /Users/codym/CAP/ai-starter-kit/yoda/data/sec-edgar-filings/AAPL/10-Q/0000320193-23-000006/full-submission/images/page_29.jpg: 640x512 (no detections), 70.3ms\n",
      "Speed: 0.5ms preprocess, 70.3ms inference, 0.2ms postprocess per image at shape (1, 3, 640, 640)\n",
      "\n",
      "image 1/1 /Users/codym/CAP/ai-starter-kit/yoda/data/sec-edgar-filings/AAPL/10-Q/0000320193-23-000006/full-submission/images/page_116.jpg: 640x512 (no detections), 65.0ms\n",
      "Speed: 0.2ms preprocess, 65.0ms inference, 0.2ms postprocess per image at shape (1, 3, 640, 640)\n",
      "\n"
     ]
    },
    {
     "name": "stdout",
     "output_type": "stream",
     "text": [
      "Cropping tables from /Users/codym/CAP/ai-starter-kit/yoda/data/sec-edgar-filings/AAPL/10-Q/0000320193-23-000006/full-submission/images/page_29.jpg\n",
      "Cropping tables from /Users/codym/CAP/ai-starter-kit/yoda/data/sec-edgar-filings/AAPL/10-Q/0000320193-23-000006/full-submission/images/page_116.jpg\n",
      "Cropping tables from /Users/codym/CAP/ai-starter-kit/yoda/data/sec-edgar-filings/AAPL/10-Q/0000320193-23-000006/full-submission/images/page_102.jpg\n"
     ]
    },
    {
     "name": "stderr",
     "output_type": "stream",
     "text": [
      "image 1/1 /Users/codym/CAP/ai-starter-kit/yoda/data/sec-edgar-filings/AAPL/10-Q/0000320193-23-000006/full-submission/images/page_102.jpg: 640x512 1 borderless, 74.5ms\n",
      "Speed: 0.4ms preprocess, 74.5ms inference, 0.4ms postprocess per image at shape (1, 3, 640, 640)\n",
      "\n",
      "image 1/1 /Users/codym/CAP/ai-starter-kit/yoda/data/sec-edgar-filings/AAPL/10-Q/0000320193-23-000006/full-submission/images/page_103.jpg: 640x512 (no detections), 68.7ms\n",
      "Speed: 0.3ms preprocess, 68.7ms inference, 0.2ms postprocess per image at shape (1, 3, 640, 640)\n",
      "\n"
     ]
    },
    {
     "name": "stdout",
     "output_type": "stream",
     "text": [
      "Cropping tables from /Users/codym/CAP/ai-starter-kit/yoda/data/sec-edgar-filings/AAPL/10-Q/0000320193-23-000006/full-submission/images/page_103.jpg\n",
      "Cropping tables from /Users/codym/CAP/ai-starter-kit/yoda/data/sec-edgar-filings/AAPL/10-Q/0000320193-23-000006/full-submission/images/page_117.jpg\n"
     ]
    },
    {
     "name": "stderr",
     "output_type": "stream",
     "text": [
      "image 1/1 /Users/codym/CAP/ai-starter-kit/yoda/data/sec-edgar-filings/AAPL/10-Q/0000320193-23-000006/full-submission/images/page_117.jpg: 640x512 (no detections), 90.2ms\n",
      "Speed: 0.1ms preprocess, 90.2ms inference, 0.3ms postprocess per image at shape (1, 3, 640, 640)\n",
      "\n",
      "image 1/1 /Users/codym/CAP/ai-starter-kit/yoda/data/sec-edgar-filings/AAPL/10-Q/0000320193-23-000006/full-submission/images/page_28.jpg: 640x512 (no detections), 163.1ms\n",
      "Speed: 0.7ms preprocess, 163.1ms inference, 0.2ms postprocess per image at shape (1, 3, 640, 640)\n",
      "\n"
     ]
    },
    {
     "name": "stdout",
     "output_type": "stream",
     "text": [
      "Cropping tables from /Users/codym/CAP/ai-starter-kit/yoda/data/sec-edgar-filings/AAPL/10-Q/0000320193-23-000006/full-submission/images/page_28.jpg\n",
      "Cropping tables from /Users/codym/CAP/ai-starter-kit/yoda/data/sec-edgar-filings/AAPL/10-Q/0000320193-23-000006/full-submission/images/page_14.jpg\n"
     ]
    },
    {
     "name": "stderr",
     "output_type": "stream",
     "text": [
      "image 1/1 /Users/codym/CAP/ai-starter-kit/yoda/data/sec-edgar-filings/AAPL/10-Q/0000320193-23-000006/full-submission/images/page_14.jpg: 640x512 1 borderless, 113.5ms\n",
      "Speed: 0.2ms preprocess, 113.5ms inference, 0.4ms postprocess per image at shape (1, 3, 640, 640)\n",
      "\n",
      "image 1/1 /Users/codym/CAP/ai-starter-kit/yoda/data/sec-edgar-filings/AAPL/10-Q/0000320193-23-000006/full-submission/images/page_98.jpg: 640x512 (no detections), 71.4ms\n",
      "Speed: 0.4ms preprocess, 71.4ms inference, 0.2ms postprocess per image at shape (1, 3, 640, 640)\n",
      "\n",
      "image 1/1 /Users/codym/CAP/ai-starter-kit/yoda/data/sec-edgar-filings/AAPL/10-Q/0000320193-23-000006/full-submission/images/page_73.jpg: 640x512 (no detections), 72.7ms\n",
      "Speed: 0.2ms preprocess, 72.7ms inference, 0.2ms postprocess per image at shape (1, 3, 640, 640)\n",
      "\n"
     ]
    },
    {
     "name": "stdout",
     "output_type": "stream",
     "text": [
      "Cropping tables from /Users/codym/CAP/ai-starter-kit/yoda/data/sec-edgar-filings/AAPL/10-Q/0000320193-23-000006/full-submission/images/page_98.jpg\n",
      "Cropping tables from /Users/codym/CAP/ai-starter-kit/yoda/data/sec-edgar-filings/AAPL/10-Q/0000320193-23-000006/full-submission/images/page_73.jpg\n",
      "Cropping tables from /Users/codym/CAP/ai-starter-kit/yoda/data/sec-edgar-filings/AAPL/10-Q/0000320193-23-000006/full-submission/images/page_67.jpg\n"
     ]
    },
    {
     "name": "stderr",
     "output_type": "stream",
     "text": [
      "image 1/1 /Users/codym/CAP/ai-starter-kit/yoda/data/sec-edgar-filings/AAPL/10-Q/0000320193-23-000006/full-submission/images/page_67.jpg: 640x512 (no detections), 92.5ms\n",
      "Speed: 0.6ms preprocess, 92.5ms inference, 0.2ms postprocess per image at shape (1, 3, 640, 640)\n",
      "\n",
      "image 1/1 /Users/codym/CAP/ai-starter-kit/yoda/data/sec-edgar-filings/AAPL/10-Q/0000320193-23-000006/full-submission/images/page_158.jpg: 640x512 (no detections), 84.2ms\n",
      "Speed: 0.5ms preprocess, 84.2ms inference, 0.2ms postprocess per image at shape (1, 3, 640, 640)\n",
      "\n"
     ]
    },
    {
     "name": "stdout",
     "output_type": "stream",
     "text": [
      "Cropping tables from /Users/codym/CAP/ai-starter-kit/yoda/data/sec-edgar-filings/AAPL/10-Q/0000320193-23-000006/full-submission/images/page_158.jpg\n",
      "Cropping tables from /Users/codym/CAP/ai-starter-kit/yoda/data/sec-edgar-filings/AAPL/10-Q/0000320193-23-000006/full-submission/images/page_159.jpg\n"
     ]
    },
    {
     "name": "stderr",
     "output_type": "stream",
     "text": [
      "image 1/1 /Users/codym/CAP/ai-starter-kit/yoda/data/sec-edgar-filings/AAPL/10-Q/0000320193-23-000006/full-submission/images/page_159.jpg: 640x512 (no detections), 78.9ms\n",
      "Speed: 0.7ms preprocess, 78.9ms inference, 0.2ms postprocess per image at shape (1, 3, 640, 640)\n",
      "\n",
      "image 1/1 /Users/codym/CAP/ai-starter-kit/yoda/data/sec-edgar-filings/AAPL/10-Q/0000320193-23-000006/full-submission/images/page_66.jpg: 640x512 (no detections), 76.7ms\n",
      "Speed: 0.7ms preprocess, 76.7ms inference, 0.2ms postprocess per image at shape (1, 3, 640, 640)\n",
      "\n",
      "image 1/1 /Users/codym/CAP/ai-starter-kit/yoda/data/sec-edgar-filings/AAPL/10-Q/0000320193-23-000006/full-submission/images/page_72.jpg: 640x512 (no detections), 65.2ms\n",
      "Speed: 0.2ms preprocess, 65.2ms inference, 0.2ms postprocess per image at shape (1, 3, 640, 640)\n",
      "\n"
     ]
    },
    {
     "name": "stdout",
     "output_type": "stream",
     "text": [
      "Cropping tables from /Users/codym/CAP/ai-starter-kit/yoda/data/sec-edgar-filings/AAPL/10-Q/0000320193-23-000006/full-submission/images/page_66.jpg\n",
      "Cropping tables from /Users/codym/CAP/ai-starter-kit/yoda/data/sec-edgar-filings/AAPL/10-Q/0000320193-23-000006/full-submission/images/page_72.jpg\n",
      "Cropping tables from /Users/codym/CAP/ai-starter-kit/yoda/data/sec-edgar-filings/AAPL/10-Q/0000320193-23-000006/full-submission/images/page_99.jpg\n"
     ]
    },
    {
     "name": "stderr",
     "output_type": "stream",
     "text": [
      "image 1/1 /Users/codym/CAP/ai-starter-kit/yoda/data/sec-edgar-filings/AAPL/10-Q/0000320193-23-000006/full-submission/images/page_99.jpg: 640x512 (no detections), 73.4ms\n",
      "Speed: 0.2ms preprocess, 73.4ms inference, 0.2ms postprocess per image at shape (1, 3, 640, 640)\n",
      "\n",
      "image 1/1 /Users/codym/CAP/ai-starter-kit/yoda/data/sec-edgar-filings/AAPL/10-Q/0000320193-23-000006/full-submission/images/page_58.jpg: 640x512 (no detections), 70.9ms\n",
      "Speed: 0.2ms preprocess, 70.9ms inference, 0.2ms postprocess per image at shape (1, 3, 640, 640)\n",
      "\n",
      "image 1/1 /Users/codym/CAP/ai-starter-kit/yoda/data/sec-edgar-filings/AAPL/10-Q/0000320193-23-000006/full-submission/images/page_64.jpg: 640x512 (no detections), 70.0ms\n",
      "Speed: 0.3ms preprocess, 70.0ms inference, 0.2ms postprocess per image at shape (1, 3, 640, 640)\n",
      "\n"
     ]
    },
    {
     "name": "stdout",
     "output_type": "stream",
     "text": [
      "Cropping tables from /Users/codym/CAP/ai-starter-kit/yoda/data/sec-edgar-filings/AAPL/10-Q/0000320193-23-000006/full-submission/images/page_58.jpg\n",
      "Cropping tables from /Users/codym/CAP/ai-starter-kit/yoda/data/sec-edgar-filings/AAPL/10-Q/0000320193-23-000006/full-submission/images/page_64.jpg\n",
      "Cropping tables from /Users/codym/CAP/ai-starter-kit/yoda/data/sec-edgar-filings/AAPL/10-Q/0000320193-23-000006/full-submission/images/page_70.jpg\n"
     ]
    },
    {
     "name": "stderr",
     "output_type": "stream",
     "text": [
      "image 1/1 /Users/codym/CAP/ai-starter-kit/yoda/data/sec-edgar-filings/AAPL/10-Q/0000320193-23-000006/full-submission/images/page_70.jpg: 640x512 (no detections), 72.6ms\n",
      "Speed: 0.2ms preprocess, 72.6ms inference, 0.2ms postprocess per image at shape (1, 3, 640, 640)\n",
      "\n",
      "image 1/1 /Users/codym/CAP/ai-starter-kit/yoda/data/sec-edgar-filings/AAPL/10-Q/0000320193-23-000006/full-submission/images/page_8.jpg: 640x512 1 borderless, 100.8ms\n",
      "Speed: 0.2ms preprocess, 100.8ms inference, 0.4ms postprocess per image at shape (1, 3, 640, 640)\n",
      "\n"
     ]
    },
    {
     "name": "stdout",
     "output_type": "stream",
     "text": [
      "Cropping tables from /Users/codym/CAP/ai-starter-kit/yoda/data/sec-edgar-filings/AAPL/10-Q/0000320193-23-000006/full-submission/images/page_8.jpg\n",
      "Cropping tables from /Users/codym/CAP/ai-starter-kit/yoda/data/sec-edgar-filings/AAPL/10-Q/0000320193-23-000006/full-submission/images/page_9.jpg\n"
     ]
    },
    {
     "name": "stderr",
     "output_type": "stream",
     "text": [
      "image 1/1 /Users/codym/CAP/ai-starter-kit/yoda/data/sec-edgar-filings/AAPL/10-Q/0000320193-23-000006/full-submission/images/page_9.jpg: 640x512 2 borderlesss, 72.2ms\n",
      "Speed: 0.7ms preprocess, 72.2ms inference, 0.4ms postprocess per image at shape (1, 3, 640, 640)\n",
      "\n",
      "image 1/1 /Users/codym/CAP/ai-starter-kit/yoda/data/sec-edgar-filings/AAPL/10-Q/0000320193-23-000006/full-submission/images/page_71.jpg: 640x512 (no detections), 82.0ms\n",
      "Speed: 0.2ms preprocess, 82.0ms inference, 0.2ms postprocess per image at shape (1, 3, 640, 640)\n",
      "\n",
      "image 1/1 /Users/codym/CAP/ai-starter-kit/yoda/data/sec-edgar-filings/AAPL/10-Q/0000320193-23-000006/full-submission/images/page_65.jpg: 640x512 (no detections), 71.2ms\n",
      "Speed: 0.2ms preprocess, 71.2ms inference, 0.2ms postprocess per image at shape (1, 3, 640, 640)\n",
      "\n"
     ]
    },
    {
     "name": "stdout",
     "output_type": "stream",
     "text": [
      "Cropping tables from /Users/codym/CAP/ai-starter-kit/yoda/data/sec-edgar-filings/AAPL/10-Q/0000320193-23-000006/full-submission/images/page_71.jpg\n",
      "Cropping tables from /Users/codym/CAP/ai-starter-kit/yoda/data/sec-edgar-filings/AAPL/10-Q/0000320193-23-000006/full-submission/images/page_65.jpg\n",
      "Cropping tables from /Users/codym/CAP/ai-starter-kit/yoda/data/sec-edgar-filings/AAPL/10-Q/0000320193-23-000006/full-submission/images/page_59.jpg\n"
     ]
    },
    {
     "name": "stderr",
     "output_type": "stream",
     "text": [
      "image 1/1 /Users/codym/CAP/ai-starter-kit/yoda/data/sec-edgar-filings/AAPL/10-Q/0000320193-23-000006/full-submission/images/page_59.jpg: 640x512 1 borderless, 163.9ms\n",
      "Speed: 0.5ms preprocess, 163.9ms inference, 14.3ms postprocess per image at shape (1, 3, 640, 640)\n",
      "\n",
      "image 1/1 /Users/codym/CAP/ai-starter-kit/yoda/data/sec-edgar-filings/AAPL/10-Q/0000320193-23-000006/full-submission/images/page_61.jpg: 640x512 1 borderless, 70.3ms\n",
      "Speed: 0.2ms preprocess, 70.3ms inference, 0.4ms postprocess per image at shape (1, 3, 640, 640)\n",
      "\n",
      "image 1/1 /Users/codym/CAP/ai-starter-kit/yoda/data/sec-edgar-filings/AAPL/10-Q/0000320193-23-000006/full-submission/images/page_75.jpg: 640x512 (no detections), 72.5ms\n",
      "Speed: 0.2ms preprocess, 72.5ms inference, 0.2ms postprocess per image at shape (1, 3, 640, 640)\n",
      "\n"
     ]
    },
    {
     "name": "stdout",
     "output_type": "stream",
     "text": [
      "Cropping tables from /Users/codym/CAP/ai-starter-kit/yoda/data/sec-edgar-filings/AAPL/10-Q/0000320193-23-000006/full-submission/images/page_61.jpg\n",
      "Cropping tables from /Users/codym/CAP/ai-starter-kit/yoda/data/sec-edgar-filings/AAPL/10-Q/0000320193-23-000006/full-submission/images/page_75.jpg\n",
      "Cropping tables from /Users/codym/CAP/ai-starter-kit/yoda/data/sec-edgar-filings/AAPL/10-Q/0000320193-23-000006/full-submission/images/page_49.jpg\n"
     ]
    },
    {
     "name": "stderr",
     "output_type": "stream",
     "text": [
      "image 1/1 /Users/codym/CAP/ai-starter-kit/yoda/data/sec-edgar-filings/AAPL/10-Q/0000320193-23-000006/full-submission/images/page_49.jpg: 640x512 2 borderlesss, 103.4ms\n",
      "Speed: 0.2ms preprocess, 103.4ms inference, 0.4ms postprocess per image at shape (1, 3, 640, 640)\n",
      "\n",
      "image 1/1 /Users/codym/CAP/ai-starter-kit/yoda/data/sec-edgar-filings/AAPL/10-Q/0000320193-23-000006/full-submission/images/page_162.jpg: 640x512 1 borderless, 83.1ms\n",
      "Speed: 0.6ms preprocess, 83.1ms inference, 0.4ms postprocess per image at shape (1, 3, 640, 640)\n",
      "\n",
      "image 1/1 /Users/codym/CAP/ai-starter-kit/yoda/data/sec-edgar-filings/AAPL/10-Q/0000320193-23-000006/full-submission/images/page_163.jpg: 640x512 (no detections), 66.2ms\n",
      "Speed: 0.2ms preprocess, 66.2ms inference, 0.2ms postprocess per image at shape (1, 3, 640, 640)\n",
      "\n"
     ]
    },
    {
     "name": "stdout",
     "output_type": "stream",
     "text": [
      "Cropping tables from /Users/codym/CAP/ai-starter-kit/yoda/data/sec-edgar-filings/AAPL/10-Q/0000320193-23-000006/full-submission/images/page_162.jpg\n",
      "Cropping tables from /Users/codym/CAP/ai-starter-kit/yoda/data/sec-edgar-filings/AAPL/10-Q/0000320193-23-000006/full-submission/images/page_163.jpg\n",
      "Cropping tables from /Users/codym/CAP/ai-starter-kit/yoda/data/sec-edgar-filings/AAPL/10-Q/0000320193-23-000006/full-submission/images/page_48.jpg\n"
     ]
    },
    {
     "name": "stderr",
     "output_type": "stream",
     "text": [
      "image 1/1 /Users/codym/CAP/ai-starter-kit/yoda/data/sec-edgar-filings/AAPL/10-Q/0000320193-23-000006/full-submission/images/page_48.jpg: 640x512 4 borderlesss, 74.3ms\n",
      "Speed: 0.3ms preprocess, 74.3ms inference, 0.4ms postprocess per image at shape (1, 3, 640, 640)\n",
      "\n",
      "image 1/1 /Users/codym/CAP/ai-starter-kit/yoda/data/sec-edgar-filings/AAPL/10-Q/0000320193-23-000006/full-submission/images/page_74.jpg: 640x512 (no detections), 67.4ms\n",
      "Speed: 0.2ms preprocess, 67.4ms inference, 0.2ms postprocess per image at shape (1, 3, 640, 640)\n",
      "\n"
     ]
    },
    {
     "name": "stdout",
     "output_type": "stream",
     "text": [
      "Cropping tables from /Users/codym/CAP/ai-starter-kit/yoda/data/sec-edgar-filings/AAPL/10-Q/0000320193-23-000006/full-submission/images/page_74.jpg\n",
      "Cropping tables from /Users/codym/CAP/ai-starter-kit/yoda/data/sec-edgar-filings/AAPL/10-Q/0000320193-23-000006/full-submission/images/page_60.jpg\n"
     ]
    },
    {
     "name": "stderr",
     "output_type": "stream",
     "text": [
      "image 1/1 /Users/codym/CAP/ai-starter-kit/yoda/data/sec-edgar-filings/AAPL/10-Q/0000320193-23-000006/full-submission/images/page_60.jpg: 640x512 1 borderless, 98.7ms\n",
      "Speed: 0.4ms preprocess, 98.7ms inference, 0.5ms postprocess per image at shape (1, 3, 640, 640)\n",
      "\n",
      "image 1/1 /Users/codym/CAP/ai-starter-kit/yoda/data/sec-edgar-filings/AAPL/10-Q/0000320193-23-000006/full-submission/images/page_89.jpg: 640x512 (no detections), 66.1ms\n",
      "Speed: 0.5ms preprocess, 66.1ms inference, 0.2ms postprocess per image at shape (1, 3, 640, 640)\n",
      "\n",
      "image 1/1 /Users/codym/CAP/ai-starter-kit/yoda/data/sec-edgar-filings/AAPL/10-Q/0000320193-23-000006/full-submission/images/page_76.jpg: 640x512 (no detections), 68.1ms\n",
      "Speed: 0.2ms preprocess, 68.1ms inference, 0.2ms postprocess per image at shape (1, 3, 640, 640)\n",
      "\n"
     ]
    },
    {
     "name": "stdout",
     "output_type": "stream",
     "text": [
      "Cropping tables from /Users/codym/CAP/ai-starter-kit/yoda/data/sec-edgar-filings/AAPL/10-Q/0000320193-23-000006/full-submission/images/page_89.jpg\n",
      "Cropping tables from /Users/codym/CAP/ai-starter-kit/yoda/data/sec-edgar-filings/AAPL/10-Q/0000320193-23-000006/full-submission/images/page_76.jpg\n",
      "Cropping tables from /Users/codym/CAP/ai-starter-kit/yoda/data/sec-edgar-filings/AAPL/10-Q/0000320193-23-000006/full-submission/images/page_62.jpg\n"
     ]
    },
    {
     "name": "stderr",
     "output_type": "stream",
     "text": [
      "image 1/1 /Users/codym/CAP/ai-starter-kit/yoda/data/sec-edgar-filings/AAPL/10-Q/0000320193-23-000006/full-submission/images/page_62.jpg: 640x512 3 borderlesss, 78.4ms\n",
      "Speed: 0.2ms preprocess, 78.4ms inference, 0.4ms postprocess per image at shape (1, 3, 640, 640)\n",
      "\n",
      "image 1/1 /Users/codym/CAP/ai-starter-kit/yoda/data/sec-edgar-filings/AAPL/10-Q/0000320193-23-000006/full-submission/images/page_161.jpg: 640x512 (no detections), 69.8ms\n",
      "Speed: 0.3ms preprocess, 69.8ms inference, 0.2ms postprocess per image at shape (1, 3, 640, 640)\n",
      "\n"
     ]
    },
    {
     "name": "stdout",
     "output_type": "stream",
     "text": [
      "Cropping tables from /Users/codym/CAP/ai-starter-kit/yoda/data/sec-edgar-filings/AAPL/10-Q/0000320193-23-000006/full-submission/images/page_161.jpg\n",
      "Cropping tables from /Users/codym/CAP/ai-starter-kit/yoda/data/sec-edgar-filings/AAPL/10-Q/0000320193-23-000006/full-submission/images/page_149.jpg\n"
     ]
    },
    {
     "name": "stderr",
     "output_type": "stream",
     "text": [
      "image 1/1 /Users/codym/CAP/ai-starter-kit/yoda/data/sec-edgar-filings/AAPL/10-Q/0000320193-23-000006/full-submission/images/page_149.jpg: 640x512 (no detections), 163.1ms\n",
      "Speed: 0.3ms preprocess, 163.1ms inference, 0.2ms postprocess per image at shape (1, 3, 640, 640)\n",
      "\n",
      "image 1/1 /Users/codym/CAP/ai-starter-kit/yoda/data/sec-edgar-filings/AAPL/10-Q/0000320193-23-000006/full-submission/images/page_148.jpg: 640x512 (no detections), 67.3ms\n",
      "Speed: 0.4ms preprocess, 67.3ms inference, 0.2ms postprocess per image at shape (1, 3, 640, 640)\n",
      "\n",
      "image 1/1 /Users/codym/CAP/ai-starter-kit/yoda/data/sec-edgar-filings/AAPL/10-Q/0000320193-23-000006/full-submission/images/page_160.jpg: 640x512 1 borderless, 69.2ms\n",
      "Speed: 0.2ms preprocess, 69.2ms inference, 0.4ms postprocess per image at shape (1, 3, 640, 640)\n",
      "\n"
     ]
    },
    {
     "name": "stdout",
     "output_type": "stream",
     "text": [
      "Cropping tables from /Users/codym/CAP/ai-starter-kit/yoda/data/sec-edgar-filings/AAPL/10-Q/0000320193-23-000006/full-submission/images/page_148.jpg\n",
      "Cropping tables from /Users/codym/CAP/ai-starter-kit/yoda/data/sec-edgar-filings/AAPL/10-Q/0000320193-23-000006/full-submission/images/page_160.jpg\n",
      "Cropping tables from /Users/codym/CAP/ai-starter-kit/yoda/data/sec-edgar-filings/AAPL/10-Q/0000320193-23-000006/full-submission/images/page_63.jpg\n"
     ]
    },
    {
     "name": "stderr",
     "output_type": "stream",
     "text": [
      "image 1/1 /Users/codym/CAP/ai-starter-kit/yoda/data/sec-edgar-filings/AAPL/10-Q/0000320193-23-000006/full-submission/images/page_63.jpg: 640x512 1 borderless, 74.7ms\n",
      "Speed: 0.2ms preprocess, 74.7ms inference, 0.4ms postprocess per image at shape (1, 3, 640, 640)\n",
      "\n",
      "image 1/1 /Users/codym/CAP/ai-starter-kit/yoda/data/sec-edgar-filings/AAPL/10-Q/0000320193-23-000006/full-submission/images/page_77.jpg: 640x512 (no detections), 92.7ms\n",
      "Speed: 0.2ms preprocess, 92.7ms inference, 0.4ms postprocess per image at shape (1, 3, 640, 640)\n",
      "\n"
     ]
    },
    {
     "name": "stdout",
     "output_type": "stream",
     "text": [
      "Cropping tables from /Users/codym/CAP/ai-starter-kit/yoda/data/sec-edgar-filings/AAPL/10-Q/0000320193-23-000006/full-submission/images/page_77.jpg\n",
      "Cropping tables from /Users/codym/CAP/ai-starter-kit/yoda/data/sec-edgar-filings/AAPL/10-Q/0000320193-23-000006/full-submission/images/page_88.jpg\n"
     ]
    },
    {
     "name": "stderr",
     "output_type": "stream",
     "text": [
      "image 1/1 /Users/codym/CAP/ai-starter-kit/yoda/data/sec-edgar-filings/AAPL/10-Q/0000320193-23-000006/full-submission/images/page_88.jpg: 640x512 (no detections), 85.0ms\n",
      "Speed: 0.5ms preprocess, 85.0ms inference, 0.2ms postprocess per image at shape (1, 3, 640, 640)\n",
      "\n",
      "image 1/1 /Users/codym/CAP/ai-starter-kit/yoda/data/sec-edgar-filings/AAPL/10-Q/0000320193-23-000064/full-submission/images/page_91.jpg: 640x512 (no detections), 70.2ms\n",
      "Speed: 0.2ms preprocess, 70.2ms inference, 0.2ms postprocess per image at shape (1, 3, 640, 640)\n",
      "\n",
      "image 1/1 /Users/codym/CAP/ai-starter-kit/yoda/data/sec-edgar-filings/AAPL/10-Q/0000320193-23-000064/full-submission/images/page_85.jpg: 640x512 (no detections), 65.4ms\n",
      "Speed: 0.3ms preprocess, 65.4ms inference, 0.2ms postprocess per image at shape (1, 3, 640, 640)\n",
      "\n"
     ]
    },
    {
     "name": "stdout",
     "output_type": "stream",
     "text": [
      "Cropping tables from /Users/codym/CAP/ai-starter-kit/yoda/data/sec-edgar-filings/AAPL/10-Q/0000320193-23-000064/full-submission/images/page_91.jpg\n",
      "Cropping tables from /Users/codym/CAP/ai-starter-kit/yoda/data/sec-edgar-filings/AAPL/10-Q/0000320193-23-000064/full-submission/images/page_85.jpg\n",
      "Cropping tables from /Users/codym/CAP/ai-starter-kit/yoda/data/sec-edgar-filings/AAPL/10-Q/0000320193-23-000064/full-submission/images/page_52.jpg\n"
     ]
    },
    {
     "name": "stderr",
     "output_type": "stream",
     "text": [
      "image 1/1 /Users/codym/CAP/ai-starter-kit/yoda/data/sec-edgar-filings/AAPL/10-Q/0000320193-23-000064/full-submission/images/page_52.jpg: 640x512 (no detections), 98.6ms\n",
      "Speed: 0.2ms preprocess, 98.6ms inference, 0.3ms postprocess per image at shape (1, 3, 640, 640)\n",
      "\n",
      "image 1/1 /Users/codym/CAP/ai-starter-kit/yoda/data/sec-edgar-filings/AAPL/10-Q/0000320193-23-000064/full-submission/images/page_46.jpg: 640x512 5 borderlesss, 79.6ms\n",
      "Speed: 0.4ms preprocess, 79.6ms inference, 0.4ms postprocess per image at shape (1, 3, 640, 640)\n",
      "\n",
      "image 1/1 /Users/codym/CAP/ai-starter-kit/yoda/data/sec-edgar-filings/AAPL/10-Q/0000320193-23-000064/full-submission/images/page_2.jpg: 640x512 1 borderless, 67.3ms\n",
      "Speed: 0.2ms preprocess, 67.3ms inference, 0.4ms postprocess per image at shape (1, 3, 640, 640)\n",
      "\n"
     ]
    },
    {
     "name": "stdout",
     "output_type": "stream",
     "text": [
      "Cropping tables from /Users/codym/CAP/ai-starter-kit/yoda/data/sec-edgar-filings/AAPL/10-Q/0000320193-23-000064/full-submission/images/page_46.jpg\n",
      "Cropping tables from /Users/codym/CAP/ai-starter-kit/yoda/data/sec-edgar-filings/AAPL/10-Q/0000320193-23-000064/full-submission/images/page_2.jpg\n",
      "Cropping tables from /Users/codym/CAP/ai-starter-kit/yoda/data/sec-edgar-filings/AAPL/10-Q/0000320193-23-000064/full-submission/images/page_151.jpg\n"
     ]
    },
    {
     "name": "stderr",
     "output_type": "stream",
     "text": [
      "image 1/1 /Users/codym/CAP/ai-starter-kit/yoda/data/sec-edgar-filings/AAPL/10-Q/0000320193-23-000064/full-submission/images/page_151.jpg: 640x512 (no detections), 70.3ms\n",
      "Speed: 0.2ms preprocess, 70.3ms inference, 0.2ms postprocess per image at shape (1, 3, 640, 640)\n",
      "\n",
      "image 1/1 /Users/codym/CAP/ai-starter-kit/yoda/data/sec-edgar-filings/AAPL/10-Q/0000320193-23-000064/full-submission/images/page_145.jpg: 640x512 (no detections), 69.3ms\n",
      "Speed: 0.6ms preprocess, 69.3ms inference, 0.2ms postprocess per image at shape (1, 3, 640, 640)\n",
      "\n"
     ]
    },
    {
     "name": "stdout",
     "output_type": "stream",
     "text": [
      "Cropping tables from /Users/codym/CAP/ai-starter-kit/yoda/data/sec-edgar-filings/AAPL/10-Q/0000320193-23-000064/full-submission/images/page_145.jpg\n",
      "Cropping tables from /Users/codym/CAP/ai-starter-kit/yoda/data/sec-edgar-filings/AAPL/10-Q/0000320193-23-000064/full-submission/images/page_144.jpg\n"
     ]
    },
    {
     "name": "stderr",
     "output_type": "stream",
     "text": [
      "image 1/1 /Users/codym/CAP/ai-starter-kit/yoda/data/sec-edgar-filings/AAPL/10-Q/0000320193-23-000064/full-submission/images/page_144.jpg: 640x512 (no detections), 101.0ms\n",
      "Speed: 0.3ms preprocess, 101.0ms inference, 0.3ms postprocess per image at shape (1, 3, 640, 640)\n",
      "\n",
      "image 1/1 /Users/codym/CAP/ai-starter-kit/yoda/data/sec-edgar-filings/AAPL/10-Q/0000320193-23-000064/full-submission/images/page_150.jpg: 640x512 (no detections), 74.6ms\n",
      "Speed: 0.4ms preprocess, 74.6ms inference, 0.2ms postprocess per image at shape (1, 3, 640, 640)\n",
      "\n",
      "image 1/1 /Users/codym/CAP/ai-starter-kit/yoda/data/sec-edgar-filings/AAPL/10-Q/0000320193-23-000064/full-submission/images/page_3.jpg: 640x512 1 borderless, 69.4ms\n",
      "Speed: 0.2ms preprocess, 69.4ms inference, 0.4ms postprocess per image at shape (1, 3, 640, 640)\n",
      "\n"
     ]
    },
    {
     "name": "stdout",
     "output_type": "stream",
     "text": [
      "Cropping tables from /Users/codym/CAP/ai-starter-kit/yoda/data/sec-edgar-filings/AAPL/10-Q/0000320193-23-000064/full-submission/images/page_150.jpg\n",
      "Cropping tables from /Users/codym/CAP/ai-starter-kit/yoda/data/sec-edgar-filings/AAPL/10-Q/0000320193-23-000064/full-submission/images/page_3.jpg\n",
      "Cropping tables from /Users/codym/CAP/ai-starter-kit/yoda/data/sec-edgar-filings/AAPL/10-Q/0000320193-23-000064/full-submission/images/page_47.jpg\n"
     ]
    },
    {
     "name": "stderr",
     "output_type": "stream",
     "text": [
      "image 1/1 /Users/codym/CAP/ai-starter-kit/yoda/data/sec-edgar-filings/AAPL/10-Q/0000320193-23-000064/full-submission/images/page_47.jpg: 640x512 2 borderlesss, 70.8ms\n",
      "Speed: 0.5ms preprocess, 70.8ms inference, 0.4ms postprocess per image at shape (1, 3, 640, 640)\n",
      "\n"
     ]
    },
    {
     "name": "stdout",
     "output_type": "stream",
     "text": [
      "Cropping tables from /Users/codym/CAP/ai-starter-kit/yoda/data/sec-edgar-filings/AAPL/10-Q/0000320193-23-000064/full-submission/images/page_53.jpg\n"
     ]
    },
    {
     "name": "stderr",
     "output_type": "stream",
     "text": [
      "image 1/1 /Users/codym/CAP/ai-starter-kit/yoda/data/sec-edgar-filings/AAPL/10-Q/0000320193-23-000064/full-submission/images/page_53.jpg: 640x512 (no detections), 211.1ms\n",
      "Speed: 0.2ms preprocess, 211.1ms inference, 0.2ms postprocess per image at shape (1, 3, 640, 640)\n",
      "\n",
      "image 1/1 /Users/codym/CAP/ai-starter-kit/yoda/data/sec-edgar-filings/AAPL/10-Q/0000320193-23-000064/full-submission/images/page_84.jpg: 640x512 (no detections), 74.4ms\n",
      "Speed: 1.0ms preprocess, 74.4ms inference, 0.2ms postprocess per image at shape (1, 3, 640, 640)\n",
      "\n",
      "image 1/1 /Users/codym/CAP/ai-starter-kit/yoda/data/sec-edgar-filings/AAPL/10-Q/0000320193-23-000064/full-submission/images/page_90.jpg: 640x512 (no detections), 64.1ms\n",
      "Speed: 0.2ms preprocess, 64.1ms inference, 0.2ms postprocess per image at shape (1, 3, 640, 640)\n",
      "\n"
     ]
    },
    {
     "name": "stdout",
     "output_type": "stream",
     "text": [
      "Cropping tables from /Users/codym/CAP/ai-starter-kit/yoda/data/sec-edgar-filings/AAPL/10-Q/0000320193-23-000064/full-submission/images/page_84.jpg\n",
      "Cropping tables from /Users/codym/CAP/ai-starter-kit/yoda/data/sec-edgar-filings/AAPL/10-Q/0000320193-23-000064/full-submission/images/page_90.jpg\n",
      "Cropping tables from /Users/codym/CAP/ai-starter-kit/yoda/data/sec-edgar-filings/AAPL/10-Q/0000320193-23-000064/full-submission/images/page_86.jpg\n"
     ]
    },
    {
     "name": "stderr",
     "output_type": "stream",
     "text": [
      "image 1/1 /Users/codym/CAP/ai-starter-kit/yoda/data/sec-edgar-filings/AAPL/10-Q/0000320193-23-000064/full-submission/images/page_86.jpg: 640x512 (no detections), 71.2ms\n",
      "Speed: 0.4ms preprocess, 71.2ms inference, 0.2ms postprocess per image at shape (1, 3, 640, 640)\n",
      "\n",
      "image 1/1 /Users/codym/CAP/ai-starter-kit/yoda/data/sec-edgar-filings/AAPL/10-Q/0000320193-23-000064/full-submission/images/page_92.jpg: 640x512 (no detections), 86.9ms\n",
      "Speed: 0.2ms preprocess, 86.9ms inference, 0.2ms postprocess per image at shape (1, 3, 640, 640)\n",
      "\n"
     ]
    },
    {
     "name": "stdout",
     "output_type": "stream",
     "text": [
      "Cropping tables from /Users/codym/CAP/ai-starter-kit/yoda/data/sec-edgar-filings/AAPL/10-Q/0000320193-23-000064/full-submission/images/page_92.jpg\n",
      "Cropping tables from /Users/codym/CAP/ai-starter-kit/yoda/data/sec-edgar-filings/AAPL/10-Q/0000320193-23-000064/full-submission/images/page_79.jpg\n"
     ]
    },
    {
     "name": "stderr",
     "output_type": "stream",
     "text": [
      "image 1/1 /Users/codym/CAP/ai-starter-kit/yoda/data/sec-edgar-filings/AAPL/10-Q/0000320193-23-000064/full-submission/images/page_79.jpg: 640x512 (no detections), 102.3ms\n",
      "Speed: 0.2ms preprocess, 102.3ms inference, 0.2ms postprocess per image at shape (1, 3, 640, 640)\n",
      "\n",
      "image 1/1 /Users/codym/CAP/ai-starter-kit/yoda/data/sec-edgar-filings/AAPL/10-Q/0000320193-23-000064/full-submission/images/page_45.jpg: 640x512 (no detections), 69.8ms\n",
      "Speed: 0.3ms preprocess, 69.8ms inference, 0.2ms postprocess per image at shape (1, 3, 640, 640)\n",
      "\n",
      "image 1/1 /Users/codym/CAP/ai-starter-kit/yoda/data/sec-edgar-filings/AAPL/10-Q/0000320193-23-000064/full-submission/images/page_51.jpg: 640x512 (no detections), 69.4ms\n",
      "Speed: 0.3ms preprocess, 69.4ms inference, 0.2ms postprocess per image at shape (1, 3, 640, 640)\n",
      "\n"
     ]
    },
    {
     "name": "stdout",
     "output_type": "stream",
     "text": [
      "Cropping tables from /Users/codym/CAP/ai-starter-kit/yoda/data/sec-edgar-filings/AAPL/10-Q/0000320193-23-000064/full-submission/images/page_45.jpg\n",
      "Cropping tables from /Users/codym/CAP/ai-starter-kit/yoda/data/sec-edgar-filings/AAPL/10-Q/0000320193-23-000064/full-submission/images/page_51.jpg\n",
      "Cropping tables from /Users/codym/CAP/ai-starter-kit/yoda/data/sec-edgar-filings/AAPL/10-Q/0000320193-23-000064/full-submission/images/page_1.jpg\n"
     ]
    },
    {
     "name": "stderr",
     "output_type": "stream",
     "text": [
      "image 1/1 /Users/codym/CAP/ai-starter-kit/yoda/data/sec-edgar-filings/AAPL/10-Q/0000320193-23-000064/full-submission/images/page_1.jpg: 640x512 1 borderless, 74.0ms\n",
      "Speed: 0.2ms preprocess, 74.0ms inference, 0.4ms postprocess per image at shape (1, 3, 640, 640)\n",
      "\n",
      "image 1/1 /Users/codym/CAP/ai-starter-kit/yoda/data/sec-edgar-filings/AAPL/10-Q/0000320193-23-000064/full-submission/images/page_146.jpg: 640x512 (no detections), 67.0ms\n",
      "Speed: 0.5ms preprocess, 67.0ms inference, 0.2ms postprocess per image at shape (1, 3, 640, 640)\n",
      "\n"
     ]
    },
    {
     "name": "stdout",
     "output_type": "stream",
     "text": [
      "Cropping tables from /Users/codym/CAP/ai-starter-kit/yoda/data/sec-edgar-filings/AAPL/10-Q/0000320193-23-000064/full-submission/images/page_146.jpg\n",
      "Cropping tables from /Users/codym/CAP/ai-starter-kit/yoda/data/sec-edgar-filings/AAPL/10-Q/0000320193-23-000064/full-submission/images/page_152.jpg\n"
     ]
    },
    {
     "name": "stderr",
     "output_type": "stream",
     "text": [
      "image 1/1 /Users/codym/CAP/ai-starter-kit/yoda/data/sec-edgar-filings/AAPL/10-Q/0000320193-23-000064/full-submission/images/page_152.jpg: 640x512 (no detections), 108.9ms\n",
      "Speed: 0.2ms preprocess, 108.9ms inference, 0.2ms postprocess per image at shape (1, 3, 640, 640)\n",
      "\n",
      "image 1/1 /Users/codym/CAP/ai-starter-kit/yoda/data/sec-edgar-filings/AAPL/10-Q/0000320193-23-000064/full-submission/images/page_153.jpg: 640x512 (no detections), 85.7ms\n",
      "Speed: 0.2ms preprocess, 85.7ms inference, 0.2ms postprocess per image at shape (1, 3, 640, 640)\n",
      "\n",
      "image 1/1 /Users/codym/CAP/ai-starter-kit/yoda/data/sec-edgar-filings/AAPL/10-Q/0000320193-23-000064/full-submission/images/page_147.jpg: 640x512 (no detections), 70.2ms\n",
      "Speed: 0.5ms preprocess, 70.2ms inference, 0.2ms postprocess per image at shape (1, 3, 640, 640)\n"
     ]
    },
    {
     "name": "stdout",
     "output_type": "stream",
     "text": [
      "Cropping tables from /Users/codym/CAP/ai-starter-kit/yoda/data/sec-edgar-filings/AAPL/10-Q/0000320193-23-000064/full-submission/images/page_153.jpg\n",
      "Cropping tables from /Users/codym/CAP/ai-starter-kit/yoda/data/sec-edgar-filings/AAPL/10-Q/0000320193-23-000064/full-submission/images/page_147.jpg\n"
     ]
    },
    {
     "name": "stderr",
     "output_type": "stream",
     "text": [
      "\n",
      "image 1/1 /Users/codym/CAP/ai-starter-kit/yoda/data/sec-edgar-filings/AAPL/10-Q/0000320193-23-000064/full-submission/images/page_0.jpg: 640x512 1 borderless, 79.1ms\n",
      "Speed: 0.3ms preprocess, 79.1ms inference, 0.4ms postprocess per image at shape (1, 3, 640, 640)\n",
      "\n",
      "image 1/1 /Users/codym/CAP/ai-starter-kit/yoda/data/sec-edgar-filings/AAPL/10-Q/0000320193-23-000064/full-submission/images/page_50.jpg: 640x512 (no detections), 66.2ms\n",
      "Speed: 0.2ms preprocess, 66.2ms inference, 0.2ms postprocess per image at shape (1, 3, 640, 640)\n",
      "\n"
     ]
    },
    {
     "name": "stdout",
     "output_type": "stream",
     "text": [
      "Cropping tables from /Users/codym/CAP/ai-starter-kit/yoda/data/sec-edgar-filings/AAPL/10-Q/0000320193-23-000064/full-submission/images/page_0.jpg\n",
      "Cropping tables from /Users/codym/CAP/ai-starter-kit/yoda/data/sec-edgar-filings/AAPL/10-Q/0000320193-23-000064/full-submission/images/page_50.jpg\n",
      "Cropping tables from /Users/codym/CAP/ai-starter-kit/yoda/data/sec-edgar-filings/AAPL/10-Q/0000320193-23-000064/full-submission/images/page_44.jpg\n"
     ]
    },
    {
     "name": "stderr",
     "output_type": "stream",
     "text": [
      "image 1/1 /Users/codym/CAP/ai-starter-kit/yoda/data/sec-edgar-filings/AAPL/10-Q/0000320193-23-000064/full-submission/images/page_44.jpg: 640x512 3 borderlesss, 108.1ms\n",
      "Speed: 0.2ms preprocess, 108.1ms inference, 0.7ms postprocess per image at shape (1, 3, 640, 640)\n",
      "\n",
      "image 1/1 /Users/codym/CAP/ai-starter-kit/yoda/data/sec-edgar-filings/AAPL/10-Q/0000320193-23-000064/full-submission/images/page_78.jpg: 640x512 (no detections), 67.2ms\n",
      "Speed: 0.2ms preprocess, 67.2ms inference, 0.2ms postprocess per image at shape (1, 3, 640, 640)\n",
      "\n",
      "image 1/1 /Users/codym/CAP/ai-starter-kit/yoda/data/sec-edgar-filings/AAPL/10-Q/0000320193-23-000064/full-submission/images/page_93.jpg: 640x512 (no detections), 77.9ms\n",
      "Speed: 0.2ms preprocess, 77.9ms inference, 0.2ms postprocess per image at shape (1, 3, 640, 640)\n",
      "\n"
     ]
    },
    {
     "name": "stdout",
     "output_type": "stream",
     "text": [
      "Cropping tables from /Users/codym/CAP/ai-starter-kit/yoda/data/sec-edgar-filings/AAPL/10-Q/0000320193-23-000064/full-submission/images/page_78.jpg\n",
      "Cropping tables from /Users/codym/CAP/ai-starter-kit/yoda/data/sec-edgar-filings/AAPL/10-Q/0000320193-23-000064/full-submission/images/page_93.jpg\n",
      "Cropping tables from /Users/codym/CAP/ai-starter-kit/yoda/data/sec-edgar-filings/AAPL/10-Q/0000320193-23-000064/full-submission/images/page_87.jpg\n"
     ]
    },
    {
     "name": "stderr",
     "output_type": "stream",
     "text": [
      "image 1/1 /Users/codym/CAP/ai-starter-kit/yoda/data/sec-edgar-filings/AAPL/10-Q/0000320193-23-000064/full-submission/images/page_87.jpg: 640x512 (no detections), 86.7ms\n",
      "Speed: 0.2ms preprocess, 86.7ms inference, 1.3ms postprocess per image at shape (1, 3, 640, 640)\n",
      "\n",
      "image 1/1 /Users/codym/CAP/ai-starter-kit/yoda/data/sec-edgar-filings/AAPL/10-Q/0000320193-23-000064/full-submission/images/page_83.jpg: 640x512 (no detections), 76.6ms\n",
      "Speed: 0.5ms preprocess, 76.6ms inference, 0.2ms postprocess per image at shape (1, 3, 640, 640)\n",
      "\n",
      "image 1/1 /Users/codym/CAP/ai-starter-kit/yoda/data/sec-edgar-filings/AAPL/10-Q/0000320193-23-000064/full-submission/images/page_97.jpg: 640x512 (no detections), 66.2ms\n",
      "Speed: 0.2ms preprocess, 66.2ms inference, 0.2ms postprocess per image at shape (1, 3, 640, 640)\n",
      "\n"
     ]
    },
    {
     "name": "stdout",
     "output_type": "stream",
     "text": [
      "Cropping tables from /Users/codym/CAP/ai-starter-kit/yoda/data/sec-edgar-filings/AAPL/10-Q/0000320193-23-000064/full-submission/images/page_83.jpg\n",
      "Cropping tables from /Users/codym/CAP/ai-starter-kit/yoda/data/sec-edgar-filings/AAPL/10-Q/0000320193-23-000064/full-submission/images/page_97.jpg\n",
      "Cropping tables from /Users/codym/CAP/ai-starter-kit/yoda/data/sec-edgar-filings/AAPL/10-Q/0000320193-23-000064/full-submission/images/page_40.jpg\n"
     ]
    },
    {
     "name": "stderr",
     "output_type": "stream",
     "text": [
      "image 1/1 /Users/codym/CAP/ai-starter-kit/yoda/data/sec-edgar-filings/AAPL/10-Q/0000320193-23-000064/full-submission/images/page_40.jpg: 640x512 4 borderlesss, 102.7ms\n",
      "Speed: 0.2ms preprocess, 102.7ms inference, 0.4ms postprocess per image at shape (1, 3, 640, 640)\n",
      "\n",
      "image 1/1 /Users/codym/CAP/ai-starter-kit/yoda/data/sec-edgar-filings/AAPL/10-Q/0000320193-23-000064/full-submission/images/page_54.jpg: 640x512 (no detections), 154.3ms\n",
      "Speed: 0.2ms preprocess, 154.3ms inference, 0.3ms postprocess per image at shape (1, 3, 640, 640)\n",
      "\n"
     ]
    },
    {
     "name": "stdout",
     "output_type": "stream",
     "text": [
      "Cropping tables from /Users/codym/CAP/ai-starter-kit/yoda/data/sec-edgar-filings/AAPL/10-Q/0000320193-23-000064/full-submission/images/page_54.jpg\n",
      "Cropping tables from /Users/codym/CAP/ai-starter-kit/yoda/data/sec-edgar-filings/AAPL/10-Q/0000320193-23-000064/full-submission/images/page_68.jpg\n"
     ]
    },
    {
     "name": "stderr",
     "output_type": "stream",
     "text": [
      "image 1/1 /Users/codym/CAP/ai-starter-kit/yoda/data/sec-edgar-filings/AAPL/10-Q/0000320193-23-000064/full-submission/images/page_68.jpg: 640x512 (no detections), 89.6ms\n",
      "Speed: 0.4ms preprocess, 89.6ms inference, 0.2ms postprocess per image at shape (1, 3, 640, 640)\n",
      "\n",
      "image 1/1 /Users/codym/CAP/ai-starter-kit/yoda/data/sec-edgar-filings/AAPL/10-Q/0000320193-23-000064/full-submission/images/page_4.jpg: 640x512 1 borderless, 71.0ms\n",
      "Speed: 0.2ms preprocess, 71.0ms inference, 0.4ms postprocess per image at shape (1, 3, 640, 640)\n",
      "\n"
     ]
    },
    {
     "name": "stdout",
     "output_type": "stream",
     "text": [
      "Cropping tables from /Users/codym/CAP/ai-starter-kit/yoda/data/sec-edgar-filings/AAPL/10-Q/0000320193-23-000064/full-submission/images/page_4.jpg\n",
      "Cropping tables from /Users/codym/CAP/ai-starter-kit/yoda/data/sec-edgar-filings/AAPL/10-Q/0000320193-23-000064/full-submission/images/page_143.jpg\n"
     ]
    },
    {
     "name": "stderr",
     "output_type": "stream",
     "text": [
      "image 1/1 /Users/codym/CAP/ai-starter-kit/yoda/data/sec-edgar-filings/AAPL/10-Q/0000320193-23-000064/full-submission/images/page_143.jpg: 640x512 (no detections), 102.7ms\n",
      "Speed: 0.2ms preprocess, 102.7ms inference, 0.2ms postprocess per image at shape (1, 3, 640, 640)\n",
      "\n",
      "image 1/1 /Users/codym/CAP/ai-starter-kit/yoda/data/sec-edgar-filings/AAPL/10-Q/0000320193-23-000064/full-submission/images/page_157.jpg: 640x512 (no detections), 72.0ms\n",
      "Speed: 0.2ms preprocess, 72.0ms inference, 0.2ms postprocess per image at shape (1, 3, 640, 640)\n",
      "\n",
      "image 1/1 /Users/codym/CAP/ai-starter-kit/yoda/data/sec-edgar-filings/AAPL/10-Q/0000320193-23-000064/full-submission/images/page_156.jpg: 640x512 (no detections), 69.3ms\n",
      "Speed: 0.2ms preprocess, 69.3ms inference, 0.2ms postprocess per image at shape (1, 3, 640, 640)\n",
      "\n"
     ]
    },
    {
     "name": "stdout",
     "output_type": "stream",
     "text": [
      "Cropping tables from /Users/codym/CAP/ai-starter-kit/yoda/data/sec-edgar-filings/AAPL/10-Q/0000320193-23-000064/full-submission/images/page_157.jpg\n",
      "Cropping tables from /Users/codym/CAP/ai-starter-kit/yoda/data/sec-edgar-filings/AAPL/10-Q/0000320193-23-000064/full-submission/images/page_156.jpg\n",
      "Cropping tables from /Users/codym/CAP/ai-starter-kit/yoda/data/sec-edgar-filings/AAPL/10-Q/0000320193-23-000064/full-submission/images/page_142.jpg\n"
     ]
    },
    {
     "name": "stderr",
     "output_type": "stream",
     "text": [
      "image 1/1 /Users/codym/CAP/ai-starter-kit/yoda/data/sec-edgar-filings/AAPL/10-Q/0000320193-23-000064/full-submission/images/page_142.jpg: 640x512 (no detections), 90.2ms\n",
      "Speed: 0.7ms preprocess, 90.2ms inference, 0.2ms postprocess per image at shape (1, 3, 640, 640)\n",
      "\n",
      "image 1/1 /Users/codym/CAP/ai-starter-kit/yoda/data/sec-edgar-filings/AAPL/10-Q/0000320193-23-000064/full-submission/images/page_5.jpg: 640x512 1 borderless, 72.4ms\n",
      "Speed: 0.2ms preprocess, 72.4ms inference, 0.4ms postprocess per image at shape (1, 3, 640, 640)\n",
      "\n"
     ]
    },
    {
     "name": "stdout",
     "output_type": "stream",
     "text": [
      "Cropping tables from /Users/codym/CAP/ai-starter-kit/yoda/data/sec-edgar-filings/AAPL/10-Q/0000320193-23-000064/full-submission/images/page_5.jpg\n",
      "Cropping tables from /Users/codym/CAP/ai-starter-kit/yoda/data/sec-edgar-filings/AAPL/10-Q/0000320193-23-000064/full-submission/images/page_69.jpg\n"
     ]
    },
    {
     "name": "stderr",
     "output_type": "stream",
     "text": [
      "image 1/1 /Users/codym/CAP/ai-starter-kit/yoda/data/sec-edgar-filings/AAPL/10-Q/0000320193-23-000064/full-submission/images/page_69.jpg: 640x512 (no detections), 112.7ms\n",
      "Speed: 6.9ms preprocess, 112.7ms inference, 0.6ms postprocess per image at shape (1, 3, 640, 640)\n",
      "\n",
      "image 1/1 /Users/codym/CAP/ai-starter-kit/yoda/data/sec-edgar-filings/AAPL/10-Q/0000320193-23-000064/full-submission/images/page_55.jpg: 640x512 (no detections), 69.9ms\n",
      "Speed: 0.2ms preprocess, 69.9ms inference, 0.2ms postprocess per image at shape (1, 3, 640, 640)\n",
      "\n",
      "image 1/1 /Users/codym/CAP/ai-starter-kit/yoda/data/sec-edgar-filings/AAPL/10-Q/0000320193-23-000064/full-submission/images/page_41.jpg: 640x512 4 borderlesss, 71.1ms\n",
      "Speed: 0.3ms preprocess, 71.1ms inference, 0.4ms postprocess per image at shape (1, 3, 640, 640)\n",
      "\n"
     ]
    },
    {
     "name": "stdout",
     "output_type": "stream",
     "text": [
      "Cropping tables from /Users/codym/CAP/ai-starter-kit/yoda/data/sec-edgar-filings/AAPL/10-Q/0000320193-23-000064/full-submission/images/page_55.jpg\n",
      "Cropping tables from /Users/codym/CAP/ai-starter-kit/yoda/data/sec-edgar-filings/AAPL/10-Q/0000320193-23-000064/full-submission/images/page_41.jpg\n",
      "Cropping tables from /Users/codym/CAP/ai-starter-kit/yoda/data/sec-edgar-filings/AAPL/10-Q/0000320193-23-000064/full-submission/images/page_96.jpg\n"
     ]
    },
    {
     "name": "stderr",
     "output_type": "stream",
     "text": [
      "image 1/1 /Users/codym/CAP/ai-starter-kit/yoda/data/sec-edgar-filings/AAPL/10-Q/0000320193-23-000064/full-submission/images/page_96.jpg: 640x512 (no detections), 69.5ms\n",
      "Speed: 0.3ms preprocess, 69.5ms inference, 0.2ms postprocess per image at shape (1, 3, 640, 640)\n",
      "\n",
      "image 1/1 /Users/codym/CAP/ai-starter-kit/yoda/data/sec-edgar-filings/AAPL/10-Q/0000320193-23-000064/full-submission/images/page_82.jpg: 640x512 (no detections), 69.0ms\n",
      "Speed: 0.2ms preprocess, 69.0ms inference, 0.2ms postprocess per image at shape (1, 3, 640, 640)\n",
      "\n",
      "image 1/1 /Users/codym/CAP/ai-starter-kit/yoda/data/sec-edgar-filings/AAPL/10-Q/0000320193-23-000064/full-submission/images/page_94.jpg: 640x512 (no detections), 74.1ms\n",
      "Speed: 0.3ms preprocess, 74.1ms inference, 0.2ms postprocess per image at shape (1, 3, 640, 640)\n",
      "\n"
     ]
    },
    {
     "name": "stdout",
     "output_type": "stream",
     "text": [
      "Cropping tables from /Users/codym/CAP/ai-starter-kit/yoda/data/sec-edgar-filings/AAPL/10-Q/0000320193-23-000064/full-submission/images/page_82.jpg\n",
      "Cropping tables from /Users/codym/CAP/ai-starter-kit/yoda/data/sec-edgar-filings/AAPL/10-Q/0000320193-23-000064/full-submission/images/page_94.jpg\n",
      "Cropping tables from /Users/codym/CAP/ai-starter-kit/yoda/data/sec-edgar-filings/AAPL/10-Q/0000320193-23-000064/full-submission/images/page_80.jpg\n"
     ]
    },
    {
     "name": "stderr",
     "output_type": "stream",
     "text": [
      "image 1/1 /Users/codym/CAP/ai-starter-kit/yoda/data/sec-edgar-filings/AAPL/10-Q/0000320193-23-000064/full-submission/images/page_80.jpg: 640x512 (no detections), 76.4ms\n",
      "Speed: 0.5ms preprocess, 76.4ms inference, 0.2ms postprocess per image at shape (1, 3, 640, 640)\n",
      "\n",
      "image 1/1 /Users/codym/CAP/ai-starter-kit/yoda/data/sec-edgar-filings/AAPL/10-Q/0000320193-23-000064/full-submission/images/page_57.jpg: 640x512 (no detections), 65.5ms\n",
      "Speed: 0.2ms preprocess, 65.5ms inference, 0.2ms postprocess per image at shape (1, 3, 640, 640)\n",
      "\n",
      "image 1/1 /Users/codym/CAP/ai-starter-kit/yoda/data/sec-edgar-filings/AAPL/10-Q/0000320193-23-000064/full-submission/images/page_43.jpg: 640x512 (no detections), 70.9ms\n",
      "Speed: 0.6ms preprocess, 70.9ms inference, 0.2ms postprocess per image at shape (1, 3, 640, 640)\n",
      "\n"
     ]
    },
    {
     "name": "stdout",
     "output_type": "stream",
     "text": [
      "Cropping tables from /Users/codym/CAP/ai-starter-kit/yoda/data/sec-edgar-filings/AAPL/10-Q/0000320193-23-000064/full-submission/images/page_57.jpg\n",
      "Cropping tables from /Users/codym/CAP/ai-starter-kit/yoda/data/sec-edgar-filings/AAPL/10-Q/0000320193-23-000064/full-submission/images/page_43.jpg\n",
      "Cropping tables from /Users/codym/CAP/ai-starter-kit/yoda/data/sec-edgar-filings/AAPL/10-Q/0000320193-23-000064/full-submission/images/page_7.jpg\n"
     ]
    },
    {
     "name": "stderr",
     "output_type": "stream",
     "text": [
      "image 1/1 /Users/codym/CAP/ai-starter-kit/yoda/data/sec-edgar-filings/AAPL/10-Q/0000320193-23-000064/full-submission/images/page_7.jpg: 640x512 1 borderless, 72.2ms\n",
      "Speed: 0.2ms preprocess, 72.2ms inference, 0.4ms postprocess per image at shape (1, 3, 640, 640)\n",
      "\n",
      "image 1/1 /Users/codym/CAP/ai-starter-kit/yoda/data/sec-edgar-filings/AAPL/10-Q/0000320193-23-000064/full-submission/images/page_154.jpg: 640x512 (no detections), 167.5ms\n",
      "Speed: 0.6ms preprocess, 167.5ms inference, 0.2ms postprocess per image at shape (1, 3, 640, 640)\n",
      "\n"
     ]
    },
    {
     "name": "stdout",
     "output_type": "stream",
     "text": [
      "Cropping tables from /Users/codym/CAP/ai-starter-kit/yoda/data/sec-edgar-filings/AAPL/10-Q/0000320193-23-000064/full-submission/images/page_154.jpg\n",
      "Cropping tables from /Users/codym/CAP/ai-starter-kit/yoda/data/sec-edgar-filings/AAPL/10-Q/0000320193-23-000064/full-submission/images/page_140.jpg\n"
     ]
    },
    {
     "name": "stderr",
     "output_type": "stream",
     "text": [
      "image 1/1 /Users/codym/CAP/ai-starter-kit/yoda/data/sec-edgar-filings/AAPL/10-Q/0000320193-23-000064/full-submission/images/page_140.jpg: 640x512 (no detections), 68.0ms\n",
      "Speed: 0.2ms preprocess, 68.0ms inference, 0.2ms postprocess per image at shape (1, 3, 640, 640)\n",
      "\n",
      "image 1/1 /Users/codym/CAP/ai-starter-kit/yoda/data/sec-edgar-filings/AAPL/10-Q/0000320193-23-000064/full-submission/images/page_141.jpg: 640x512 (no detections), 68.6ms\n",
      "Speed: 0.2ms preprocess, 68.6ms inference, 0.2ms postprocess per image at shape (1, 3, 640, 640)\n",
      "\n",
      "image 1/1 /Users/codym/CAP/ai-starter-kit/yoda/data/sec-edgar-filings/AAPL/10-Q/0000320193-23-000064/full-submission/images/page_155.jpg: 640x512 (no detections), 69.1ms\n",
      "Speed: 0.2ms preprocess, 69.1ms inference, 0.2ms postprocess per image at shape (1, 3, 640, 640)\n",
      "\n"
     ]
    },
    {
     "name": "stdout",
     "output_type": "stream",
     "text": [
      "Cropping tables from /Users/codym/CAP/ai-starter-kit/yoda/data/sec-edgar-filings/AAPL/10-Q/0000320193-23-000064/full-submission/images/page_141.jpg\n",
      "Cropping tables from /Users/codym/CAP/ai-starter-kit/yoda/data/sec-edgar-filings/AAPL/10-Q/0000320193-23-000064/full-submission/images/page_155.jpg\n",
      "Cropping tables from /Users/codym/CAP/ai-starter-kit/yoda/data/sec-edgar-filings/AAPL/10-Q/0000320193-23-000064/full-submission/images/page_6.jpg\n"
     ]
    },
    {
     "name": "stderr",
     "output_type": "stream",
     "text": [
      "image 1/1 /Users/codym/CAP/ai-starter-kit/yoda/data/sec-edgar-filings/AAPL/10-Q/0000320193-23-000064/full-submission/images/page_6.jpg: 640x512 1 borderless, 120.6ms\n",
      "Speed: 0.2ms preprocess, 120.6ms inference, 0.4ms postprocess per image at shape (1, 3, 640, 640)\n",
      "\n",
      "image 1/1 /Users/codym/CAP/ai-starter-kit/yoda/data/sec-edgar-filings/AAPL/10-Q/0000320193-23-000064/full-submission/images/page_42.jpg: 640x512 1 borderless, 70.2ms\n",
      "Speed: 0.4ms preprocess, 70.2ms inference, 0.4ms postprocess per image at shape (1, 3, 640, 640)\n",
      "\n",
      "image 1/1 /Users/codym/CAP/ai-starter-kit/yoda/data/sec-edgar-filings/AAPL/10-Q/0000320193-23-000064/full-submission/images/page_56.jpg: 640x512 (no detections), 65.6ms\n",
      "Speed: 0.2ms preprocess, 65.6ms inference, 0.2ms postprocess per image at shape (1, 3, 640, 640)\n",
      "\n"
     ]
    },
    {
     "name": "stdout",
     "output_type": "stream",
     "text": [
      "Cropping tables from /Users/codym/CAP/ai-starter-kit/yoda/data/sec-edgar-filings/AAPL/10-Q/0000320193-23-000064/full-submission/images/page_42.jpg\n",
      "Cropping tables from /Users/codym/CAP/ai-starter-kit/yoda/data/sec-edgar-filings/AAPL/10-Q/0000320193-23-000064/full-submission/images/page_56.jpg\n",
      "Cropping tables from /Users/codym/CAP/ai-starter-kit/yoda/data/sec-edgar-filings/AAPL/10-Q/0000320193-23-000064/full-submission/images/page_81.jpg\n"
     ]
    },
    {
     "name": "stderr",
     "output_type": "stream",
     "text": [
      "image 1/1 /Users/codym/CAP/ai-starter-kit/yoda/data/sec-edgar-filings/AAPL/10-Q/0000320193-23-000064/full-submission/images/page_81.jpg: 640x512 (no detections), 74.7ms\n",
      "Speed: 0.3ms preprocess, 74.7ms inference, 0.2ms postprocess per image at shape (1, 3, 640, 640)\n",
      "\n",
      "image 1/1 /Users/codym/CAP/ai-starter-kit/yoda/data/sec-edgar-filings/AAPL/10-Q/0000320193-23-000064/full-submission/images/page_95.jpg: 640x512 (no detections), 66.9ms\n",
      "Speed: 0.3ms preprocess, 66.9ms inference, 0.2ms postprocess per image at shape (1, 3, 640, 640)\n",
      "\n"
     ]
    },
    {
     "name": "stdout",
     "output_type": "stream",
     "text": [
      "Cropping tables from /Users/codym/CAP/ai-starter-kit/yoda/data/sec-edgar-filings/AAPL/10-Q/0000320193-23-000064/full-submission/images/page_95.jpg\n",
      "Cropping tables from /Users/codym/CAP/ai-starter-kit/yoda/data/sec-edgar-filings/AAPL/10-Q/0000320193-23-000064/full-submission/images/page_19.jpg\n"
     ]
    },
    {
     "name": "stderr",
     "output_type": "stream",
     "text": [
      "image 1/1 /Users/codym/CAP/ai-starter-kit/yoda/data/sec-edgar-filings/AAPL/10-Q/0000320193-23-000064/full-submission/images/page_19.jpg: 640x512 2 borderlesss, 110.3ms\n",
      "Speed: 0.2ms preprocess, 110.3ms inference, 0.5ms postprocess per image at shape (1, 3, 640, 640)\n",
      "\n",
      "image 1/1 /Users/codym/CAP/ai-starter-kit/yoda/data/sec-edgar-filings/AAPL/10-Q/0000320193-23-000064/full-submission/images/page_31.jpg: 640x512 2 borderlesss, 77.6ms\n",
      "Speed: 0.4ms preprocess, 77.6ms inference, 0.4ms postprocess per image at shape (1, 3, 640, 640)\n",
      "\n",
      "image 1/1 /Users/codym/CAP/ai-starter-kit/yoda/data/sec-edgar-filings/AAPL/10-Q/0000320193-23-000064/full-submission/images/page_25.jpg: 640x512 (no detections), 68.6ms\n",
      "Speed: 0.2ms preprocess, 68.6ms inference, 0.2ms postprocess per image at shape (1, 3, 640, 640)\n",
      "\n"
     ]
    },
    {
     "name": "stdout",
     "output_type": "stream",
     "text": [
      "Cropping tables from /Users/codym/CAP/ai-starter-kit/yoda/data/sec-edgar-filings/AAPL/10-Q/0000320193-23-000064/full-submission/images/page_31.jpg\n",
      "Cropping tables from /Users/codym/CAP/ai-starter-kit/yoda/data/sec-edgar-filings/AAPL/10-Q/0000320193-23-000064/full-submission/images/page_25.jpg\n",
      "Cropping tables from /Users/codym/CAP/ai-starter-kit/yoda/data/sec-edgar-filings/AAPL/10-Q/0000320193-23-000064/full-submission/images/page_132.jpg\n"
     ]
    },
    {
     "name": "stderr",
     "output_type": "stream",
     "text": [
      "image 1/1 /Users/codym/CAP/ai-starter-kit/yoda/data/sec-edgar-filings/AAPL/10-Q/0000320193-23-000064/full-submission/images/page_132.jpg: 640x512 (no detections), 82.5ms\n",
      "Speed: 0.2ms preprocess, 82.5ms inference, 0.2ms postprocess per image at shape (1, 3, 640, 640)\n",
      "\n",
      "image 1/1 /Users/codym/CAP/ai-starter-kit/yoda/data/sec-edgar-filings/AAPL/10-Q/0000320193-23-000064/full-submission/images/page_126.jpg: 640x512 (no detections), 104.2ms\n",
      "Speed: 0.3ms preprocess, 104.2ms inference, 0.2ms postprocess per image at shape (1, 3, 640, 640)\n",
      "\n"
     ]
    },
    {
     "name": "stdout",
     "output_type": "stream",
     "text": [
      "Cropping tables from /Users/codym/CAP/ai-starter-kit/yoda/data/sec-edgar-filings/AAPL/10-Q/0000320193-23-000064/full-submission/images/page_126.jpg\n",
      "Cropping tables from /Users/codym/CAP/ai-starter-kit/yoda/data/sec-edgar-filings/AAPL/10-Q/0000320193-23-000064/full-submission/images/page_127.jpg\n"
     ]
    },
    {
     "name": "stderr",
     "output_type": "stream",
     "text": [
      "image 1/1 /Users/codym/CAP/ai-starter-kit/yoda/data/sec-edgar-filings/AAPL/10-Q/0000320193-23-000064/full-submission/images/page_127.jpg: 640x512 (no detections), 71.7ms\n",
      "Speed: 0.2ms preprocess, 71.7ms inference, 0.2ms postprocess per image at shape (1, 3, 640, 640)\n",
      "\n",
      "image 1/1 /Users/codym/CAP/ai-starter-kit/yoda/data/sec-edgar-filings/AAPL/10-Q/0000320193-23-000064/full-submission/images/page_133.jpg: 640x512 (no detections), 70.6ms\n",
      "Speed: 0.3ms preprocess, 70.6ms inference, 0.2ms postprocess per image at shape (1, 3, 640, 640)\n",
      "\n",
      "image 1/1 /Users/codym/CAP/ai-starter-kit/yoda/data/sec-edgar-filings/AAPL/10-Q/0000320193-23-000064/full-submission/images/page_24.jpg: 640x512 (no detections), 90.4ms\n"
     ]
    },
    {
     "name": "stdout",
     "output_type": "stream",
     "text": [
      "Cropping tables from /Users/codym/CAP/ai-starter-kit/yoda/data/sec-edgar-filings/AAPL/10-Q/0000320193-23-000064/full-submission/images/page_133.jpg\n",
      "Cropping tables from /Users/codym/CAP/ai-starter-kit/yoda/data/sec-edgar-filings/AAPL/10-Q/0000320193-23-000064/full-submission/images/page_24.jpg\n"
     ]
    },
    {
     "name": "stderr",
     "output_type": "stream",
     "text": [
      "Speed: 0.4ms preprocess, 90.4ms inference, 0.2ms postprocess per image at shape (1, 3, 640, 640)\n",
      "\n",
      "image 1/1 /Users/codym/CAP/ai-starter-kit/yoda/data/sec-edgar-filings/AAPL/10-Q/0000320193-23-000064/full-submission/images/page_30.jpg: 640x512 4 borderlesss, 101.2ms\n",
      "Speed: 0.7ms preprocess, 101.2ms inference, 0.4ms postprocess per image at shape (1, 3, 640, 640)\n",
      "\n"
     ]
    },
    {
     "name": "stdout",
     "output_type": "stream",
     "text": [
      "Cropping tables from /Users/codym/CAP/ai-starter-kit/yoda/data/sec-edgar-filings/AAPL/10-Q/0000320193-23-000064/full-submission/images/page_30.jpg\n",
      "Cropping tables from /Users/codym/CAP/ai-starter-kit/yoda/data/sec-edgar-filings/AAPL/10-Q/0000320193-23-000064/full-submission/images/page_18.jpg\n"
     ]
    },
    {
     "name": "stderr",
     "output_type": "stream",
     "text": [
      "image 1/1 /Users/codym/CAP/ai-starter-kit/yoda/data/sec-edgar-filings/AAPL/10-Q/0000320193-23-000064/full-submission/images/page_18.jpg: 640x512 1 borderless, 81.9ms\n",
      "Speed: 0.8ms preprocess, 81.9ms inference, 0.7ms postprocess per image at shape (1, 3, 640, 640)\n",
      "\n",
      "image 1/1 /Users/codym/CAP/ai-starter-kit/yoda/data/sec-edgar-filings/AAPL/10-Q/0000320193-23-000064/full-submission/images/page_26.jpg: 640x512 (no detections), 69.0ms\n",
      "Speed: 0.5ms preprocess, 69.0ms inference, 0.2ms postprocess per image at shape (1, 3, 640, 640)\n",
      "\n",
      "image 1/1 /Users/codym/CAP/ai-starter-kit/yoda/data/sec-edgar-filings/AAPL/10-Q/0000320193-23-000064/full-submission/images/page_32.jpg: 640x512 2 borderlesss, 69.7ms\n",
      "Speed: 0.3ms preprocess, 69.7ms inference, 0.4ms postprocess per image at shape (1, 3, 640, 640)\n",
      "\n"
     ]
    },
    {
     "name": "stdout",
     "output_type": "stream",
     "text": [
      "Cropping tables from /Users/codym/CAP/ai-starter-kit/yoda/data/sec-edgar-filings/AAPL/10-Q/0000320193-23-000064/full-submission/images/page_26.jpg\n",
      "Cropping tables from /Users/codym/CAP/ai-starter-kit/yoda/data/sec-edgar-filings/AAPL/10-Q/0000320193-23-000064/full-submission/images/page_32.jpg\n",
      "Cropping tables from /Users/codym/CAP/ai-starter-kit/yoda/data/sec-edgar-filings/AAPL/10-Q/0000320193-23-000064/full-submission/images/page_119.jpg\n"
     ]
    },
    {
     "name": "stderr",
     "output_type": "stream",
     "text": [
      "image 1/1 /Users/codym/CAP/ai-starter-kit/yoda/data/sec-edgar-filings/AAPL/10-Q/0000320193-23-000064/full-submission/images/page_119.jpg: 640x512 (no detections), 80.9ms\n",
      "Speed: 0.2ms preprocess, 80.9ms inference, 0.4ms postprocess per image at shape (1, 3, 640, 640)\n",
      "\n",
      "image 1/1 /Users/codym/CAP/ai-starter-kit/yoda/data/sec-edgar-filings/AAPL/10-Q/0000320193-23-000064/full-submission/images/page_125.jpg: 640x512 (no detections), 99.5ms\n",
      "Speed: 0.5ms preprocess, 99.5ms inference, 0.2ms postprocess per image at shape (1, 3, 640, 640)\n",
      "\n"
     ]
    },
    {
     "name": "stdout",
     "output_type": "stream",
     "text": [
      "Cropping tables from /Users/codym/CAP/ai-starter-kit/yoda/data/sec-edgar-filings/AAPL/10-Q/0000320193-23-000064/full-submission/images/page_125.jpg\n",
      "Cropping tables from /Users/codym/CAP/ai-starter-kit/yoda/data/sec-edgar-filings/AAPL/10-Q/0000320193-23-000064/full-submission/images/page_131.jpg\n"
     ]
    },
    {
     "name": "stderr",
     "output_type": "stream",
     "text": [
      "image 1/1 /Users/codym/CAP/ai-starter-kit/yoda/data/sec-edgar-filings/AAPL/10-Q/0000320193-23-000064/full-submission/images/page_131.jpg: 640x512 (no detections), 73.0ms\n",
      "Speed: 0.2ms preprocess, 73.0ms inference, 0.2ms postprocess per image at shape (1, 3, 640, 640)\n",
      "\n",
      "image 1/1 /Users/codym/CAP/ai-starter-kit/yoda/data/sec-edgar-filings/AAPL/10-Q/0000320193-23-000064/full-submission/images/page_130.jpg: 640x512 (no detections), 69.2ms\n",
      "Speed: 0.6ms preprocess, 69.2ms inference, 0.2ms postprocess per image at shape (1, 3, 640, 640)\n",
      "\n"
     ]
    },
    {
     "name": "stdout",
     "output_type": "stream",
     "text": [
      "Cropping tables from /Users/codym/CAP/ai-starter-kit/yoda/data/sec-edgar-filings/AAPL/10-Q/0000320193-23-000064/full-submission/images/page_130.jpg\n",
      "Cropping tables from /Users/codym/CAP/ai-starter-kit/yoda/data/sec-edgar-filings/AAPL/10-Q/0000320193-23-000064/full-submission/images/page_124.jpg\n"
     ]
    },
    {
     "name": "stderr",
     "output_type": "stream",
     "text": [
      "image 1/1 /Users/codym/CAP/ai-starter-kit/yoda/data/sec-edgar-filings/AAPL/10-Q/0000320193-23-000064/full-submission/images/page_124.jpg: 640x512 (no detections), 92.1ms\n",
      "Speed: 0.6ms preprocess, 92.1ms inference, 0.2ms postprocess per image at shape (1, 3, 640, 640)\n",
      "\n",
      "image 1/1 /Users/codym/CAP/ai-starter-kit/yoda/data/sec-edgar-filings/AAPL/10-Q/0000320193-23-000064/full-submission/images/page_118.jpg: 640x512 (no detections), 66.7ms\n",
      "Speed: 0.4ms preprocess, 66.7ms inference, 0.2ms postprocess per image at shape (1, 3, 640, 640)\n",
      "\n"
     ]
    },
    {
     "name": "stdout",
     "output_type": "stream",
     "text": [
      "Cropping tables from /Users/codym/CAP/ai-starter-kit/yoda/data/sec-edgar-filings/AAPL/10-Q/0000320193-23-000064/full-submission/images/page_118.jpg\n",
      "Cropping tables from /Users/codym/CAP/ai-starter-kit/yoda/data/sec-edgar-filings/AAPL/10-Q/0000320193-23-000064/full-submission/images/page_33.jpg\n"
     ]
    },
    {
     "name": "stderr",
     "output_type": "stream",
     "text": [
      "image 1/1 /Users/codym/CAP/ai-starter-kit/yoda/data/sec-edgar-filings/AAPL/10-Q/0000320193-23-000064/full-submission/images/page_33.jpg: 640x512 2 borderlesss, 176.5ms\n",
      "Speed: 0.2ms preprocess, 176.5ms inference, 0.4ms postprocess per image at shape (1, 3, 640, 640)\n",
      "\n",
      "image 1/1 /Users/codym/CAP/ai-starter-kit/yoda/data/sec-edgar-filings/AAPL/10-Q/0000320193-23-000064/full-submission/images/page_27.jpg: 640x512 (no detections), 94.4ms\n",
      "Speed: 0.7ms preprocess, 94.4ms inference, 0.2ms postprocess per image at shape (1, 3, 640, 640)\n",
      "\n"
     ]
    },
    {
     "name": "stdout",
     "output_type": "stream",
     "text": [
      "Cropping tables from /Users/codym/CAP/ai-starter-kit/yoda/data/sec-edgar-filings/AAPL/10-Q/0000320193-23-000064/full-submission/images/page_27.jpg\n",
      "Cropping tables from /Users/codym/CAP/ai-starter-kit/yoda/data/sec-edgar-filings/AAPL/10-Q/0000320193-23-000064/full-submission/images/page_23.jpg\n"
     ]
    },
    {
     "name": "stderr",
     "output_type": "stream",
     "text": [
      "image 1/1 /Users/codym/CAP/ai-starter-kit/yoda/data/sec-edgar-filings/AAPL/10-Q/0000320193-23-000064/full-submission/images/page_23.jpg: 640x512 (no detections), 72.1ms\n",
      "Speed: 0.3ms preprocess, 72.1ms inference, 0.5ms postprocess per image at shape (1, 3, 640, 640)\n",
      "\n",
      "image 1/1 /Users/codym/CAP/ai-starter-kit/yoda/data/sec-edgar-filings/AAPL/10-Q/0000320193-23-000064/full-submission/images/page_37.jpg: 640x512 3 borderlesss, 101.7ms\n",
      "Speed: 0.3ms preprocess, 101.7ms inference, 0.4ms postprocess per image at shape (1, 3, 640, 640)\n",
      "\n"
     ]
    },
    {
     "name": "stdout",
     "output_type": "stream",
     "text": [
      "Cropping tables from /Users/codym/CAP/ai-starter-kit/yoda/data/sec-edgar-filings/AAPL/10-Q/0000320193-23-000064/full-submission/images/page_37.jpg\n",
      "Cropping tables from /Users/codym/CAP/ai-starter-kit/yoda/data/sec-edgar-filings/AAPL/10-Q/0000320193-23-000064/full-submission/images/page_120.jpg\n"
     ]
    },
    {
     "name": "stderr",
     "output_type": "stream",
     "text": [
      "image 1/1 /Users/codym/CAP/ai-starter-kit/yoda/data/sec-edgar-filings/AAPL/10-Q/0000320193-23-000064/full-submission/images/page_120.jpg: 640x512 (no detections), 69.5ms\n",
      "Speed: 0.2ms preprocess, 69.5ms inference, 0.2ms postprocess per image at shape (1, 3, 640, 640)\n",
      "\n",
      "image 1/1 /Users/codym/CAP/ai-starter-kit/yoda/data/sec-edgar-filings/AAPL/10-Q/0000320193-23-000064/full-submission/images/page_134.jpg: 640x512 (no detections), 67.1ms\n",
      "Speed: 0.4ms preprocess, 67.1ms inference, 0.2ms postprocess per image at shape (1, 3, 640, 640)\n",
      "\n",
      "image 1/1 /Users/codym/CAP/ai-starter-kit/yoda/data/sec-edgar-filings/AAPL/10-Q/0000320193-23-000064/full-submission/images/page_108.jpg: 640x512 (no detections), 78.1ms\n",
      "Speed: 0.2ms preprocess, 78.1ms inference, 0.2ms postprocess per image at shape (1, 3, 640, 640)\n",
      "\n"
     ]
    },
    {
     "name": "stdout",
     "output_type": "stream",
     "text": [
      "Cropping tables from /Users/codym/CAP/ai-starter-kit/yoda/data/sec-edgar-filings/AAPL/10-Q/0000320193-23-000064/full-submission/images/page_134.jpg\n",
      "Cropping tables from /Users/codym/CAP/ai-starter-kit/yoda/data/sec-edgar-filings/AAPL/10-Q/0000320193-23-000064/full-submission/images/page_108.jpg\n",
      "Cropping tables from /Users/codym/CAP/ai-starter-kit/yoda/data/sec-edgar-filings/AAPL/10-Q/0000320193-23-000064/full-submission/images/page_109.jpg\n"
     ]
    },
    {
     "name": "stderr",
     "output_type": "stream",
     "text": [
      "image 1/1 /Users/codym/CAP/ai-starter-kit/yoda/data/sec-edgar-filings/AAPL/10-Q/0000320193-23-000064/full-submission/images/page_109.jpg: 640x512 (no detections), 71.2ms\n",
      "Speed: 0.2ms preprocess, 71.2ms inference, 0.2ms postprocess per image at shape (1, 3, 640, 640)\n",
      "\n",
      "image 1/1 /Users/codym/CAP/ai-starter-kit/yoda/data/sec-edgar-filings/AAPL/10-Q/0000320193-23-000064/full-submission/images/page_135.jpg: 640x512 (no detections), 75.7ms\n",
      "Speed: 0.2ms preprocess, 75.7ms inference, 0.2ms postprocess per image at shape (1, 3, 640, 640)\n",
      "\n",
      "image 1/1 /Users/codym/CAP/ai-starter-kit/yoda/data/sec-edgar-filings/AAPL/10-Q/0000320193-23-000064/full-submission/images/page_121.jpg: 640x512 (no detections), 66.2ms\n",
      "Speed: 0.5ms preprocess, 66.2ms inference, 0.2ms postprocess per image at shape (1, 3, 640, 640)\n",
      "\n"
     ]
    },
    {
     "name": "stdout",
     "output_type": "stream",
     "text": [
      "Cropping tables from /Users/codym/CAP/ai-starter-kit/yoda/data/sec-edgar-filings/AAPL/10-Q/0000320193-23-000064/full-submission/images/page_135.jpg\n",
      "Cropping tables from /Users/codym/CAP/ai-starter-kit/yoda/data/sec-edgar-filings/AAPL/10-Q/0000320193-23-000064/full-submission/images/page_121.jpg\n",
      "Cropping tables from /Users/codym/CAP/ai-starter-kit/yoda/data/sec-edgar-filings/AAPL/10-Q/0000320193-23-000064/full-submission/images/page_36.jpg\n"
     ]
    },
    {
     "name": "stderr",
     "output_type": "stream",
     "text": [
      "image 1/1 /Users/codym/CAP/ai-starter-kit/yoda/data/sec-edgar-filings/AAPL/10-Q/0000320193-23-000064/full-submission/images/page_36.jpg: 640x512 3 borderlesss, 79.5ms\n",
      "Speed: 0.4ms preprocess, 79.5ms inference, 0.9ms postprocess per image at shape (1, 3, 640, 640)\n",
      "\n",
      "image 1/1 /Users/codym/CAP/ai-starter-kit/yoda/data/sec-edgar-filings/AAPL/10-Q/0000320193-23-000064/full-submission/images/page_22.jpg: 640x512 1 borderless, 77.5ms\n",
      "Speed: 1.7ms preprocess, 77.5ms inference, 0.4ms postprocess per image at shape (1, 3, 640, 640)\n",
      "\n",
      "image 1/1 /Users/codym/CAP/ai-starter-kit/yoda/data/sec-edgar-filings/AAPL/10-Q/0000320193-23-000064/full-submission/images/page_34.jpg: 640x512 4 borderlesss, 65.9ms\n",
      "Speed: 0.3ms preprocess, 65.9ms inference, 0.4ms postprocess per image at shape (1, 3, 640, 640)\n",
      "\n"
     ]
    },
    {
     "name": "stdout",
     "output_type": "stream",
     "text": [
      "Cropping tables from /Users/codym/CAP/ai-starter-kit/yoda/data/sec-edgar-filings/AAPL/10-Q/0000320193-23-000064/full-submission/images/page_22.jpg\n",
      "Cropping tables from /Users/codym/CAP/ai-starter-kit/yoda/data/sec-edgar-filings/AAPL/10-Q/0000320193-23-000064/full-submission/images/page_34.jpg\n",
      "Cropping tables from /Users/codym/CAP/ai-starter-kit/yoda/data/sec-edgar-filings/AAPL/10-Q/0000320193-23-000064/full-submission/images/page_20.jpg\n"
     ]
    },
    {
     "name": "stderr",
     "output_type": "stream",
     "text": [
      "image 1/1 /Users/codym/CAP/ai-starter-kit/yoda/data/sec-edgar-filings/AAPL/10-Q/0000320193-23-000064/full-submission/images/page_20.jpg: 640x512 (no detections), 68.3ms\n",
      "Speed: 5.6ms preprocess, 68.3ms inference, 0.2ms postprocess per image at shape (1, 3, 640, 640)\n",
      "\n",
      "image 1/1 /Users/codym/CAP/ai-starter-kit/yoda/data/sec-edgar-filings/AAPL/10-Q/0000320193-23-000064/full-submission/images/page_137.jpg: 640x512 (no detections), 102.3ms\n",
      "Speed: 0.3ms preprocess, 102.3ms inference, 0.2ms postprocess per image at shape (1, 3, 640, 640)\n",
      "\n"
     ]
    },
    {
     "name": "stdout",
     "output_type": "stream",
     "text": [
      "Cropping tables from /Users/codym/CAP/ai-starter-kit/yoda/data/sec-edgar-filings/AAPL/10-Q/0000320193-23-000064/full-submission/images/page_137.jpg\n",
      "Cropping tables from /Users/codym/CAP/ai-starter-kit/yoda/data/sec-edgar-filings/AAPL/10-Q/0000320193-23-000064/full-submission/images/page_123.jpg\n"
     ]
    },
    {
     "name": "stderr",
     "output_type": "stream",
     "text": [
      "image 1/1 /Users/codym/CAP/ai-starter-kit/yoda/data/sec-edgar-filings/AAPL/10-Q/0000320193-23-000064/full-submission/images/page_123.jpg: 640x512 (no detections), 64.1ms\n",
      "Speed: 0.2ms preprocess, 64.1ms inference, 0.2ms postprocess per image at shape (1, 3, 640, 640)\n",
      "\n",
      "image 1/1 /Users/codym/CAP/ai-starter-kit/yoda/data/sec-edgar-filings/AAPL/10-Q/0000320193-23-000064/full-submission/images/page_122.jpg: 640x512 (no detections), 67.6ms\n",
      "Speed: 0.2ms preprocess, 67.6ms inference, 0.2ms postprocess per image at shape (1, 3, 640, 640)\n",
      "\n",
      "image 1/1 /Users/codym/CAP/ai-starter-kit/yoda/data/sec-edgar-filings/AAPL/10-Q/0000320193-23-000064/full-submission/images/page_136.jpg: 640x512 (no detections), 67.8ms\n",
      "Speed: 0.3ms preprocess, 67.8ms inference, 0.2ms postprocess per image at shape (1, 3, 640, 640)\n",
      "\n"
     ]
    },
    {
     "name": "stdout",
     "output_type": "stream",
     "text": [
      "Cropping tables from /Users/codym/CAP/ai-starter-kit/yoda/data/sec-edgar-filings/AAPL/10-Q/0000320193-23-000064/full-submission/images/page_122.jpg\n",
      "Cropping tables from /Users/codym/CAP/ai-starter-kit/yoda/data/sec-edgar-filings/AAPL/10-Q/0000320193-23-000064/full-submission/images/page_136.jpg\n",
      "Cropping tables from /Users/codym/CAP/ai-starter-kit/yoda/data/sec-edgar-filings/AAPL/10-Q/0000320193-23-000064/full-submission/images/page_21.jpg\n"
     ]
    },
    {
     "name": "stderr",
     "output_type": "stream",
     "text": [
      "image 1/1 /Users/codym/CAP/ai-starter-kit/yoda/data/sec-edgar-filings/AAPL/10-Q/0000320193-23-000064/full-submission/images/page_21.jpg: 640x512 1 borderless, 77.1ms\n",
      "Speed: 0.4ms preprocess, 77.1ms inference, 0.4ms postprocess per image at shape (1, 3, 640, 640)\n",
      "\n",
      "image 1/1 /Users/codym/CAP/ai-starter-kit/yoda/data/sec-edgar-filings/AAPL/10-Q/0000320193-23-000064/full-submission/images/page_35.jpg: 640x512 4 borderlesss, 77.9ms\n",
      "Speed: 5.7ms preprocess, 77.9ms inference, 1.7ms postprocess per image at shape (1, 3, 640, 640)\n",
      "\n"
     ]
    },
    {
     "name": "stdout",
     "output_type": "stream",
     "text": [
      "Cropping tables from /Users/codym/CAP/ai-starter-kit/yoda/data/sec-edgar-filings/AAPL/10-Q/0000320193-23-000064/full-submission/images/page_35.jpg\n",
      "Cropping tables from /Users/codym/CAP/ai-starter-kit/yoda/data/sec-edgar-filings/AAPL/10-Q/0000320193-23-000064/full-submission/images/page_38.jpg\n"
     ]
    },
    {
     "name": "stderr",
     "output_type": "stream",
     "text": [
      "image 1/1 /Users/codym/CAP/ai-starter-kit/yoda/data/sec-edgar-filings/AAPL/10-Q/0000320193-23-000064/full-submission/images/page_38.jpg: 640x512 2 borderlesss, 75.3ms\n",
      "Speed: 1.5ms preprocess, 75.3ms inference, 0.4ms postprocess per image at shape (1, 3, 640, 640)\n",
      "\n",
      "image 1/1 /Users/codym/CAP/ai-starter-kit/yoda/data/sec-edgar-filings/AAPL/10-Q/0000320193-23-000064/full-submission/images/page_10.jpg: 640x512 2 borderlesss, 85.3ms\n",
      "Speed: 0.3ms preprocess, 85.3ms inference, 0.4ms postprocess per image at shape (1, 3, 640, 640)\n",
      "\n",
      "image 1/1 /Users/codym/CAP/ai-starter-kit/yoda/data/sec-edgar-filings/AAPL/10-Q/0000320193-23-000064/full-submission/images/page_113.jpg: 640x512 (no detections), 68.2ms\n",
      "Speed: 0.2ms preprocess, 68.2ms inference, 0.2ms postprocess per image at shape (1, 3, 640, 640)\n",
      "\n"
     ]
    },
    {
     "name": "stdout",
     "output_type": "stream",
     "text": [
      "Cropping tables from /Users/codym/CAP/ai-starter-kit/yoda/data/sec-edgar-filings/AAPL/10-Q/0000320193-23-000064/full-submission/images/page_10.jpg\n",
      "Cropping tables from /Users/codym/CAP/ai-starter-kit/yoda/data/sec-edgar-filings/AAPL/10-Q/0000320193-23-000064/full-submission/images/page_113.jpg\n",
      "Cropping tables from /Users/codym/CAP/ai-starter-kit/yoda/data/sec-edgar-filings/AAPL/10-Q/0000320193-23-000064/full-submission/images/page_107.jpg\n"
     ]
    },
    {
     "name": "stderr",
     "output_type": "stream",
     "text": [
      "image 1/1 /Users/codym/CAP/ai-starter-kit/yoda/data/sec-edgar-filings/AAPL/10-Q/0000320193-23-000064/full-submission/images/page_107.jpg: 640x512 (no detections), 67.3ms\n",
      "Speed: 0.3ms preprocess, 67.3ms inference, 0.2ms postprocess per image at shape (1, 3, 640, 640)\n",
      "\n",
      "image 1/1 /Users/codym/CAP/ai-starter-kit/yoda/data/sec-edgar-filings/AAPL/10-Q/0000320193-23-000064/full-submission/images/page_106.jpg: 640x512 (no detections), 102.3ms\n",
      "Speed: 1.2ms preprocess, 102.3ms inference, 0.2ms postprocess per image at shape (1, 3, 640, 640)\n",
      "\n"
     ]
    },
    {
     "name": "stdout",
     "output_type": "stream",
     "text": [
      "Cropping tables from /Users/codym/CAP/ai-starter-kit/yoda/data/sec-edgar-filings/AAPL/10-Q/0000320193-23-000064/full-submission/images/page_106.jpg\n",
      "Cropping tables from /Users/codym/CAP/ai-starter-kit/yoda/data/sec-edgar-filings/AAPL/10-Q/0000320193-23-000064/full-submission/images/page_112.jpg\n"
     ]
    },
    {
     "name": "stderr",
     "output_type": "stream",
     "text": [
      "image 1/1 /Users/codym/CAP/ai-starter-kit/yoda/data/sec-edgar-filings/AAPL/10-Q/0000320193-23-000064/full-submission/images/page_112.jpg: 640x512 (no detections), 67.0ms\n",
      "Speed: 0.3ms preprocess, 67.0ms inference, 0.2ms postprocess per image at shape (1, 3, 640, 640)\n",
      "\n",
      "image 1/1 /Users/codym/CAP/ai-starter-kit/yoda/data/sec-edgar-filings/AAPL/10-Q/0000320193-23-000064/full-submission/images/page_11.jpg: 640x512 2 borderlesss, 74.1ms\n",
      "Speed: 0.3ms preprocess, 74.1ms inference, 0.4ms postprocess per image at shape (1, 3, 640, 640)\n",
      "\n",
      "image 1/1 /Users/codym/CAP/ai-starter-kit/yoda/data/sec-edgar-filings/AAPL/10-Q/0000320193-23-000064/full-submission/images/page_39.jpg: 640x512 4 borderlesss, 70.0ms\n",
      "Speed: 0.2ms preprocess, 70.0ms inference, 0.4ms postprocess per image at shape (1, 3, 640, 640)\n",
      "\n"
     ]
    },
    {
     "name": "stdout",
     "output_type": "stream",
     "text": [
      "Cropping tables from /Users/codym/CAP/ai-starter-kit/yoda/data/sec-edgar-filings/AAPL/10-Q/0000320193-23-000064/full-submission/images/page_11.jpg\n",
      "Cropping tables from /Users/codym/CAP/ai-starter-kit/yoda/data/sec-edgar-filings/AAPL/10-Q/0000320193-23-000064/full-submission/images/page_39.jpg\n",
      "Cropping tables from /Users/codym/CAP/ai-starter-kit/yoda/data/sec-edgar-filings/AAPL/10-Q/0000320193-23-000064/full-submission/images/page_13.jpg\n"
     ]
    },
    {
     "name": "stderr",
     "output_type": "stream",
     "text": [
      "image 1/1 /Users/codym/CAP/ai-starter-kit/yoda/data/sec-edgar-filings/AAPL/10-Q/0000320193-23-000064/full-submission/images/page_13.jpg: 640x512 3 borderlesss, 107.7ms\n",
      "Speed: 0.2ms preprocess, 107.7ms inference, 0.4ms postprocess per image at shape (1, 3, 640, 640)\n",
      "\n",
      "image 1/1 /Users/codym/CAP/ai-starter-kit/yoda/data/sec-edgar-filings/AAPL/10-Q/0000320193-23-000064/full-submission/images/page_138.jpg: 640x512 (no detections), 67.6ms\n",
      "Speed: 0.2ms preprocess, 67.6ms inference, 0.2ms postprocess per image at shape (1, 3, 640, 640)\n",
      "\n",
      "image 1/1 /Users/codym/CAP/ai-starter-kit/yoda/data/sec-edgar-filings/AAPL/10-Q/0000320193-23-000064/full-submission/images/page_104.jpg: 640x512 (no detections), 70.6ms\n",
      "Speed: 0.6ms preprocess, 70.6ms inference, 0.2ms postprocess per image at shape (1, 3, 640, 640)\n",
      "\n"
     ]
    },
    {
     "name": "stdout",
     "output_type": "stream",
     "text": [
      "Cropping tables from /Users/codym/CAP/ai-starter-kit/yoda/data/sec-edgar-filings/AAPL/10-Q/0000320193-23-000064/full-submission/images/page_138.jpg\n",
      "Cropping tables from /Users/codym/CAP/ai-starter-kit/yoda/data/sec-edgar-filings/AAPL/10-Q/0000320193-23-000064/full-submission/images/page_104.jpg\n",
      "Cropping tables from /Users/codym/CAP/ai-starter-kit/yoda/data/sec-edgar-filings/AAPL/10-Q/0000320193-23-000064/full-submission/images/page_110.jpg\n"
     ]
    },
    {
     "name": "stderr",
     "output_type": "stream",
     "text": [
      "image 1/1 /Users/codym/CAP/ai-starter-kit/yoda/data/sec-edgar-filings/AAPL/10-Q/0000320193-23-000064/full-submission/images/page_110.jpg: 640x512 (no detections), 179.4ms\n",
      "Speed: 0.2ms preprocess, 179.4ms inference, 0.2ms postprocess per image at shape (1, 3, 640, 640)\n",
      "\n",
      "image 1/1 /Users/codym/CAP/ai-starter-kit/yoda/data/sec-edgar-filings/AAPL/10-Q/0000320193-23-000064/full-submission/images/page_111.jpg: 640x512 (no detections), 70.6ms\n",
      "Speed: 0.4ms preprocess, 70.6ms inference, 0.2ms postprocess per image at shape (1, 3, 640, 640)\n",
      "\n",
      "image 1/1 /Users/codym/CAP/ai-starter-kit/yoda/data/sec-edgar-filings/AAPL/10-Q/0000320193-23-000064/full-submission/images/page_105.jpg: 640x512 (no detections), 69.4ms\n",
      "Speed: 0.2ms preprocess, 69.4ms inference, 0.2ms postprocess per image at shape (1, 3, 640, 640)\n",
      "\n"
     ]
    },
    {
     "name": "stdout",
     "output_type": "stream",
     "text": [
      "Cropping tables from /Users/codym/CAP/ai-starter-kit/yoda/data/sec-edgar-filings/AAPL/10-Q/0000320193-23-000064/full-submission/images/page_111.jpg\n",
      "Cropping tables from /Users/codym/CAP/ai-starter-kit/yoda/data/sec-edgar-filings/AAPL/10-Q/0000320193-23-000064/full-submission/images/page_105.jpg\n",
      "Cropping tables from /Users/codym/CAP/ai-starter-kit/yoda/data/sec-edgar-filings/AAPL/10-Q/0000320193-23-000064/full-submission/images/page_139.jpg\n"
     ]
    },
    {
     "name": "stderr",
     "output_type": "stream",
     "text": [
      "image 1/1 /Users/codym/CAP/ai-starter-kit/yoda/data/sec-edgar-filings/AAPL/10-Q/0000320193-23-000064/full-submission/images/page_139.jpg: 640x512 (no detections), 71.5ms\n",
      "Speed: 0.2ms preprocess, 71.5ms inference, 0.2ms postprocess per image at shape (1, 3, 640, 640)\n",
      "\n",
      "image 1/1 /Users/codym/CAP/ai-starter-kit/yoda/data/sec-edgar-filings/AAPL/10-Q/0000320193-23-000064/full-submission/images/page_12.jpg: 640x512 1 borderless, 115.8ms\n",
      "Speed: 0.2ms preprocess, 115.8ms inference, 0.4ms postprocess per image at shape (1, 3, 640, 640)\n",
      "\n"
     ]
    },
    {
     "name": "stdout",
     "output_type": "stream",
     "text": [
      "Cropping tables from /Users/codym/CAP/ai-starter-kit/yoda/data/sec-edgar-filings/AAPL/10-Q/0000320193-23-000064/full-submission/images/page_12.jpg\n",
      "Cropping tables from /Users/codym/CAP/ai-starter-kit/yoda/data/sec-edgar-filings/AAPL/10-Q/0000320193-23-000064/full-submission/images/page_16.jpg\n"
     ]
    },
    {
     "name": "stderr",
     "output_type": "stream",
     "text": [
      "image 1/1 /Users/codym/CAP/ai-starter-kit/yoda/data/sec-edgar-filings/AAPL/10-Q/0000320193-23-000064/full-submission/images/page_16.jpg: 640x512 1 borderless, 67.5ms\n",
      "Speed: 0.2ms preprocess, 67.5ms inference, 0.4ms postprocess per image at shape (1, 3, 640, 640)\n",
      "\n",
      "image 1/1 /Users/codym/CAP/ai-starter-kit/yoda/data/sec-edgar-filings/AAPL/10-Q/0000320193-23-000064/full-submission/images/page_101.jpg: 640x512 (no detections), 69.5ms\n",
      "Speed: 0.2ms preprocess, 69.5ms inference, 0.2ms postprocess per image at shape (1, 3, 640, 640)\n",
      "\n",
      "image 1/1 /Users/codym/CAP/ai-starter-kit/yoda/data/sec-edgar-filings/AAPL/10-Q/0000320193-23-000064/full-submission/images/page_115.jpg: 640x512 (no detections), 65.8ms\n",
      "Speed: 0.2ms preprocess, 65.8ms inference, 0.2ms postprocess per image at shape (1, 3, 640, 640)\n",
      "\n"
     ]
    },
    {
     "name": "stdout",
     "output_type": "stream",
     "text": [
      "Cropping tables from /Users/codym/CAP/ai-starter-kit/yoda/data/sec-edgar-filings/AAPL/10-Q/0000320193-23-000064/full-submission/images/page_101.jpg\n",
      "Cropping tables from /Users/codym/CAP/ai-starter-kit/yoda/data/sec-edgar-filings/AAPL/10-Q/0000320193-23-000064/full-submission/images/page_115.jpg\n",
      "Cropping tables from /Users/codym/CAP/ai-starter-kit/yoda/data/sec-edgar-filings/AAPL/10-Q/0000320193-23-000064/full-submission/images/page_129.jpg\n"
     ]
    },
    {
     "name": "stderr",
     "output_type": "stream",
     "text": [
      "image 1/1 /Users/codym/CAP/ai-starter-kit/yoda/data/sec-edgar-filings/AAPL/10-Q/0000320193-23-000064/full-submission/images/page_129.jpg: 640x512 (no detections), 106.3ms\n",
      "Speed: 0.2ms preprocess, 106.3ms inference, 0.2ms postprocess per image at shape (1, 3, 640, 640)\n",
      "\n",
      "image 1/1 /Users/codym/CAP/ai-starter-kit/yoda/data/sec-edgar-filings/AAPL/10-Q/0000320193-23-000064/full-submission/images/page_128.jpg: 640x512 (no detections), 66.0ms\n",
      "Speed: 0.5ms preprocess, 66.0ms inference, 0.2ms postprocess per image at shape (1, 3, 640, 640)\n",
      "\n",
      "image 1/1 /Users/codym/CAP/ai-starter-kit/yoda/data/sec-edgar-filings/AAPL/10-Q/0000320193-23-000064/full-submission/images/page_114.jpg: 640x512 (no detections), 72.1ms\n",
      "Speed: 0.2ms preprocess, 72.1ms inference, 0.2ms postprocess per image at shape (1, 3, 640, 640)\n",
      "\n"
     ]
    },
    {
     "name": "stdout",
     "output_type": "stream",
     "text": [
      "Cropping tables from /Users/codym/CAP/ai-starter-kit/yoda/data/sec-edgar-filings/AAPL/10-Q/0000320193-23-000064/full-submission/images/page_128.jpg\n",
      "Cropping tables from /Users/codym/CAP/ai-starter-kit/yoda/data/sec-edgar-filings/AAPL/10-Q/0000320193-23-000064/full-submission/images/page_114.jpg\n",
      "Cropping tables from /Users/codym/CAP/ai-starter-kit/yoda/data/sec-edgar-filings/AAPL/10-Q/0000320193-23-000064/full-submission/images/page_100.jpg\n"
     ]
    },
    {
     "name": "stderr",
     "output_type": "stream",
     "text": [
      "image 1/1 /Users/codym/CAP/ai-starter-kit/yoda/data/sec-edgar-filings/AAPL/10-Q/0000320193-23-000064/full-submission/images/page_100.jpg: 640x512 (no detections), 81.3ms\n",
      "Speed: 0.2ms preprocess, 81.3ms inference, 0.2ms postprocess per image at shape (1, 3, 640, 640)\n",
      "\n",
      "image 1/1 /Users/codym/CAP/ai-starter-kit/yoda/data/sec-edgar-filings/AAPL/10-Q/0000320193-23-000064/full-submission/images/page_17.jpg: 640x512 1 borderless, 73.2ms\n",
      "Speed: 0.2ms preprocess, 73.2ms inference, 0.4ms postprocess per image at shape (1, 3, 640, 640)\n",
      "\n",
      "image 1/1 /Users/codym/CAP/ai-starter-kit/yoda/data/sec-edgar-filings/AAPL/10-Q/0000320193-23-000064/full-submission/images/page_15.jpg: 640x512 (no detections), 67.3ms\n",
      "Speed: 0.2ms preprocess, 67.3ms inference, 0.2ms postprocess per image at shape (1, 3, 640, 640)\n",
      "\n"
     ]
    },
    {
     "name": "stdout",
     "output_type": "stream",
     "text": [
      "Cropping tables from /Users/codym/CAP/ai-starter-kit/yoda/data/sec-edgar-filings/AAPL/10-Q/0000320193-23-000064/full-submission/images/page_17.jpg\n",
      "Cropping tables from /Users/codym/CAP/ai-starter-kit/yoda/data/sec-edgar-filings/AAPL/10-Q/0000320193-23-000064/full-submission/images/page_15.jpg\n",
      "Cropping tables from /Users/codym/CAP/ai-starter-kit/yoda/data/sec-edgar-filings/AAPL/10-Q/0000320193-23-000064/full-submission/images/page_29.jpg\n"
     ]
    },
    {
     "name": "stderr",
     "output_type": "stream",
     "text": [
      "image 1/1 /Users/codym/CAP/ai-starter-kit/yoda/data/sec-edgar-filings/AAPL/10-Q/0000320193-23-000064/full-submission/images/page_29.jpg: 640x512 1 borderless, 74.0ms\n",
      "Speed: 0.3ms preprocess, 74.0ms inference, 0.4ms postprocess per image at shape (1, 3, 640, 640)\n",
      "\n",
      "image 1/1 /Users/codym/CAP/ai-starter-kit/yoda/data/sec-edgar-filings/AAPL/10-Q/0000320193-23-000064/full-submission/images/page_116.jpg: 640x512 (no detections), 66.2ms\n",
      "Speed: 0.3ms preprocess, 66.2ms inference, 0.2ms postprocess per image at shape (1, 3, 640, 640)\n",
      "\n",
      "image 1/1 /Users/codym/CAP/ai-starter-kit/yoda/data/sec-edgar-filings/AAPL/10-Q/0000320193-23-000064/full-submission/images/page_102.jpg: 640x512 (no detections), 70.5ms\n",
      "Speed: 0.3ms preprocess, 70.5ms inference, 0.2ms postprocess per image at shape (1, 3, 640, 640)\n",
      "\n"
     ]
    },
    {
     "name": "stdout",
     "output_type": "stream",
     "text": [
      "Cropping tables from /Users/codym/CAP/ai-starter-kit/yoda/data/sec-edgar-filings/AAPL/10-Q/0000320193-23-000064/full-submission/images/page_116.jpg\n",
      "Cropping tables from /Users/codym/CAP/ai-starter-kit/yoda/data/sec-edgar-filings/AAPL/10-Q/0000320193-23-000064/full-submission/images/page_102.jpg\n",
      "Cropping tables from /Users/codym/CAP/ai-starter-kit/yoda/data/sec-edgar-filings/AAPL/10-Q/0000320193-23-000064/full-submission/images/page_103.jpg\n"
     ]
    },
    {
     "name": "stderr",
     "output_type": "stream",
     "text": [
      "image 1/1 /Users/codym/CAP/ai-starter-kit/yoda/data/sec-edgar-filings/AAPL/10-Q/0000320193-23-000064/full-submission/images/page_103.jpg: 640x512 (no detections), 78.3ms\n",
      "Speed: 0.2ms preprocess, 78.3ms inference, 0.2ms postprocess per image at shape (1, 3, 640, 640)\n",
      "\n",
      "image 1/1 /Users/codym/CAP/ai-starter-kit/yoda/data/sec-edgar-filings/AAPL/10-Q/0000320193-23-000064/full-submission/images/page_117.jpg: 640x512 (no detections), 69.2ms\n",
      "Speed: 0.5ms preprocess, 69.2ms inference, 0.2ms postprocess per image at shape (1, 3, 640, 640)\n",
      "\n"
     ]
    },
    {
     "name": "stdout",
     "output_type": "stream",
     "text": [
      "Cropping tables from /Users/codym/CAP/ai-starter-kit/yoda/data/sec-edgar-filings/AAPL/10-Q/0000320193-23-000064/full-submission/images/page_117.jpg\n",
      "Cropping tables from /Users/codym/CAP/ai-starter-kit/yoda/data/sec-edgar-filings/AAPL/10-Q/0000320193-23-000064/full-submission/images/page_28.jpg\n"
     ]
    },
    {
     "name": "stderr",
     "output_type": "stream",
     "text": [
      "image 1/1 /Users/codym/CAP/ai-starter-kit/yoda/data/sec-edgar-filings/AAPL/10-Q/0000320193-23-000064/full-submission/images/page_28.jpg: 640x512 1 borderless, 114.0ms\n",
      "Speed: 0.4ms preprocess, 114.0ms inference, 0.6ms postprocess per image at shape (1, 3, 640, 640)\n",
      "\n",
      "image 1/1 /Users/codym/CAP/ai-starter-kit/yoda/data/sec-edgar-filings/AAPL/10-Q/0000320193-23-000064/full-submission/images/page_14.jpg: 640x512 2 borderlesss, 70.0ms\n",
      "Speed: 0.2ms preprocess, 70.0ms inference, 0.4ms postprocess per image at shape (1, 3, 640, 640)\n",
      "\n",
      "image 1/1 /Users/codym/CAP/ai-starter-kit/yoda/data/sec-edgar-filings/AAPL/10-Q/0000320193-23-000064/full-submission/images/page_98.jpg: 640x512 (no detections), 69.0ms\n",
      "Speed: 0.4ms preprocess, 69.0ms inference, 0.2ms postprocess per image at shape (1, 3, 640, 640)\n",
      "\n"
     ]
    },
    {
     "name": "stdout",
     "output_type": "stream",
     "text": [
      "Cropping tables from /Users/codym/CAP/ai-starter-kit/yoda/data/sec-edgar-filings/AAPL/10-Q/0000320193-23-000064/full-submission/images/page_14.jpg\n",
      "Cropping tables from /Users/codym/CAP/ai-starter-kit/yoda/data/sec-edgar-filings/AAPL/10-Q/0000320193-23-000064/full-submission/images/page_98.jpg\n",
      "Cropping tables from /Users/codym/CAP/ai-starter-kit/yoda/data/sec-edgar-filings/AAPL/10-Q/0000320193-23-000064/full-submission/images/page_73.jpg\n"
     ]
    },
    {
     "name": "stderr",
     "output_type": "stream",
     "text": [
      "image 1/1 /Users/codym/CAP/ai-starter-kit/yoda/data/sec-edgar-filings/AAPL/10-Q/0000320193-23-000064/full-submission/images/page_73.jpg: 640x512 (no detections), 104.9ms\n",
      "Speed: 2.7ms preprocess, 104.9ms inference, 0.2ms postprocess per image at shape (1, 3, 640, 640)\n",
      "\n",
      "image 1/1 /Users/codym/CAP/ai-starter-kit/yoda/data/sec-edgar-filings/AAPL/10-Q/0000320193-23-000064/full-submission/images/page_67.jpg: 640x512 (no detections), 69.2ms\n",
      "Speed: 0.4ms preprocess, 69.2ms inference, 0.2ms postprocess per image at shape (1, 3, 640, 640)\n",
      "\n",
      "image 1/1 /Users/codym/CAP/ai-starter-kit/yoda/data/sec-edgar-filings/AAPL/10-Q/0000320193-23-000064/full-submission/images/page_158.jpg: 640x512 (no detections), 69.1ms\n",
      "Speed: 0.3ms preprocess, 69.1ms inference, 0.2ms postprocess per image at shape (1, 3, 640, 640)\n",
      "\n"
     ]
    },
    {
     "name": "stdout",
     "output_type": "stream",
     "text": [
      "Cropping tables from /Users/codym/CAP/ai-starter-kit/yoda/data/sec-edgar-filings/AAPL/10-Q/0000320193-23-000064/full-submission/images/page_67.jpg\n",
      "Cropping tables from /Users/codym/CAP/ai-starter-kit/yoda/data/sec-edgar-filings/AAPL/10-Q/0000320193-23-000064/full-submission/images/page_158.jpg\n",
      "Cropping tables from /Users/codym/CAP/ai-starter-kit/yoda/data/sec-edgar-filings/AAPL/10-Q/0000320193-23-000064/full-submission/images/page_66.jpg\n"
     ]
    },
    {
     "name": "stderr",
     "output_type": "stream",
     "text": [
      "image 1/1 /Users/codym/CAP/ai-starter-kit/yoda/data/sec-edgar-filings/AAPL/10-Q/0000320193-23-000064/full-submission/images/page_66.jpg: 640x512 (no detections), 75.2ms\n",
      "Speed: 0.2ms preprocess, 75.2ms inference, 0.2ms postprocess per image at shape (1, 3, 640, 640)\n",
      "\n",
      "image 1/1 /Users/codym/CAP/ai-starter-kit/yoda/data/sec-edgar-filings/AAPL/10-Q/0000320193-23-000064/full-submission/images/page_72.jpg: 640x512 (no detections), 79.7ms\n",
      "Speed: 0.2ms preprocess, 79.7ms inference, 0.6ms postprocess per image at shape (1, 3, 640, 640)\n",
      "\n"
     ]
    },
    {
     "name": "stdout",
     "output_type": "stream",
     "text": [
      "Cropping tables from /Users/codym/CAP/ai-starter-kit/yoda/data/sec-edgar-filings/AAPL/10-Q/0000320193-23-000064/full-submission/images/page_72.jpg\n",
      "Cropping tables from /Users/codym/CAP/ai-starter-kit/yoda/data/sec-edgar-filings/AAPL/10-Q/0000320193-23-000064/full-submission/images/page_99.jpg\n"
     ]
    },
    {
     "name": "stderr",
     "output_type": "stream",
     "text": [
      "image 1/1 /Users/codym/CAP/ai-starter-kit/yoda/data/sec-edgar-filings/AAPL/10-Q/0000320193-23-000064/full-submission/images/page_99.jpg: 640x512 (no detections), 81.4ms\n",
      "Speed: 0.3ms preprocess, 81.4ms inference, 0.2ms postprocess per image at shape (1, 3, 640, 640)\n",
      "\n",
      "image 1/1 /Users/codym/CAP/ai-starter-kit/yoda/data/sec-edgar-filings/AAPL/10-Q/0000320193-23-000064/full-submission/images/page_58.jpg: 640x512 (no detections), 66.0ms\n",
      "Speed: 0.4ms preprocess, 66.0ms inference, 0.2ms postprocess per image at shape (1, 3, 640, 640)\n",
      "\n",
      "image 1/1 /Users/codym/CAP/ai-starter-kit/yoda/data/sec-edgar-filings/AAPL/10-Q/0000320193-23-000064/full-submission/images/page_64.jpg: 640x512 (no detections), 77.1ms\n",
      "Speed: 0.2ms preprocess, 77.1ms inference, 0.2ms postprocess per image at shape (1, 3, 640, 640)\n",
      "\n"
     ]
    },
    {
     "name": "stdout",
     "output_type": "stream",
     "text": [
      "Cropping tables from /Users/codym/CAP/ai-starter-kit/yoda/data/sec-edgar-filings/AAPL/10-Q/0000320193-23-000064/full-submission/images/page_58.jpg\n",
      "Cropping tables from /Users/codym/CAP/ai-starter-kit/yoda/data/sec-edgar-filings/AAPL/10-Q/0000320193-23-000064/full-submission/images/page_64.jpg\n",
      "Cropping tables from /Users/codym/CAP/ai-starter-kit/yoda/data/sec-edgar-filings/AAPL/10-Q/0000320193-23-000064/full-submission/images/page_70.jpg\n"
     ]
    },
    {
     "name": "stderr",
     "output_type": "stream",
     "text": [
      "image 1/1 /Users/codym/CAP/ai-starter-kit/yoda/data/sec-edgar-filings/AAPL/10-Q/0000320193-23-000064/full-submission/images/page_70.jpg: 640x512 (no detections), 86.8ms\n",
      "Speed: 0.7ms preprocess, 86.8ms inference, 0.2ms postprocess per image at shape (1, 3, 640, 640)\n",
      "\n",
      "image 1/1 /Users/codym/CAP/ai-starter-kit/yoda/data/sec-edgar-filings/AAPL/10-Q/0000320193-23-000064/full-submission/images/page_8.jpg: 640x512 2 borderlesss, 172.8ms\n",
      "Speed: 0.2ms preprocess, 172.8ms inference, 0.6ms postprocess per image at shape (1, 3, 640, 640)\n"
     ]
    },
    {
     "name": "stdout",
     "output_type": "stream",
     "text": [
      "Cropping tables from /Users/codym/CAP/ai-starter-kit/yoda/data/sec-edgar-filings/AAPL/10-Q/0000320193-23-000064/full-submission/images/page_8.jpg\n"
     ]
    },
    {
     "name": "stderr",
     "output_type": "stream",
     "text": [
      "\n",
      "image 1/1 /Users/codym/CAP/ai-starter-kit/yoda/data/sec-edgar-filings/AAPL/10-Q/0000320193-23-000064/full-submission/images/page_9.jpg: 640x512 2 borderlesss, 77.2ms\n",
      "Speed: 0.6ms preprocess, 77.2ms inference, 0.4ms postprocess per image at shape (1, 3, 640, 640)\n",
      "\n",
      "image 1/1 /Users/codym/CAP/ai-starter-kit/yoda/data/sec-edgar-filings/AAPL/10-Q/0000320193-23-000064/full-submission/images/page_71.jpg: 640x512 (no detections), 72.6ms\n",
      "Speed: 0.4ms preprocess, 72.6ms inference, 0.2ms postprocess per image at shape (1, 3, 640, 640)\n",
      "\n"
     ]
    },
    {
     "name": "stdout",
     "output_type": "stream",
     "text": [
      "Cropping tables from /Users/codym/CAP/ai-starter-kit/yoda/data/sec-edgar-filings/AAPL/10-Q/0000320193-23-000064/full-submission/images/page_9.jpg\n",
      "Cropping tables from /Users/codym/CAP/ai-starter-kit/yoda/data/sec-edgar-filings/AAPL/10-Q/0000320193-23-000064/full-submission/images/page_71.jpg\n",
      "Cropping tables from /Users/codym/CAP/ai-starter-kit/yoda/data/sec-edgar-filings/AAPL/10-Q/0000320193-23-000064/full-submission/images/page_65.jpg\n"
     ]
    },
    {
     "name": "stderr",
     "output_type": "stream",
     "text": [
      "image 1/1 /Users/codym/CAP/ai-starter-kit/yoda/data/sec-edgar-filings/AAPL/10-Q/0000320193-23-000064/full-submission/images/page_65.jpg: 640x512 (no detections), 68.7ms\n",
      "Speed: 0.2ms preprocess, 68.7ms inference, 0.2ms postprocess per image at shape (1, 3, 640, 640)\n",
      "\n",
      "image 1/1 /Users/codym/CAP/ai-starter-kit/yoda/data/sec-edgar-filings/AAPL/10-Q/0000320193-23-000064/full-submission/images/page_59.jpg: 640x512 (no detections), 122.6ms\n",
      "Speed: 0.5ms preprocess, 122.6ms inference, 0.2ms postprocess per image at shape (1, 3, 640, 640)\n",
      "\n"
     ]
    },
    {
     "name": "stdout",
     "output_type": "stream",
     "text": [
      "Cropping tables from /Users/codym/CAP/ai-starter-kit/yoda/data/sec-edgar-filings/AAPL/10-Q/0000320193-23-000064/full-submission/images/page_59.jpg\n",
      "Cropping tables from /Users/codym/CAP/ai-starter-kit/yoda/data/sec-edgar-filings/AAPL/10-Q/0000320193-23-000064/full-submission/images/page_61.jpg\n"
     ]
    },
    {
     "name": "stderr",
     "output_type": "stream",
     "text": [
      "image 1/1 /Users/codym/CAP/ai-starter-kit/yoda/data/sec-edgar-filings/AAPL/10-Q/0000320193-23-000064/full-submission/images/page_61.jpg: 640x512 (no detections), 72.8ms\n",
      "Speed: 0.2ms preprocess, 72.8ms inference, 0.2ms postprocess per image at shape (1, 3, 640, 640)\n",
      "\n",
      "image 1/1 /Users/codym/CAP/ai-starter-kit/yoda/data/sec-edgar-filings/AAPL/10-Q/0000320193-23-000064/full-submission/images/page_75.jpg: 640x512 (no detections), 82.4ms\n",
      "Speed: 0.2ms preprocess, 82.4ms inference, 0.2ms postprocess per image at shape (1, 3, 640, 640)\n",
      "\n"
     ]
    },
    {
     "name": "stdout",
     "output_type": "stream",
     "text": [
      "Cropping tables from /Users/codym/CAP/ai-starter-kit/yoda/data/sec-edgar-filings/AAPL/10-Q/0000320193-23-000064/full-submission/images/page_75.jpg\n",
      "Cropping tables from /Users/codym/CAP/ai-starter-kit/yoda/data/sec-edgar-filings/AAPL/10-Q/0000320193-23-000064/full-submission/images/page_49.jpg\n"
     ]
    },
    {
     "name": "stderr",
     "output_type": "stream",
     "text": [
      "image 1/1 /Users/codym/CAP/ai-starter-kit/yoda/data/sec-edgar-filings/AAPL/10-Q/0000320193-23-000064/full-submission/images/page_49.jpg: 640x512 (no detections), 84.4ms\n",
      "Speed: 0.3ms preprocess, 84.4ms inference, 0.2ms postprocess per image at shape (1, 3, 640, 640)\n",
      "\n",
      "image 1/1 /Users/codym/CAP/ai-starter-kit/yoda/data/sec-edgar-filings/AAPL/10-Q/0000320193-23-000064/full-submission/images/page_48.jpg: 640x512 2 borderlesss, 71.2ms\n",
      "Speed: 0.2ms preprocess, 71.2ms inference, 0.4ms postprocess per image at shape (1, 3, 640, 640)\n",
      "\n"
     ]
    },
    {
     "name": "stdout",
     "output_type": "stream",
     "text": [
      "Cropping tables from /Users/codym/CAP/ai-starter-kit/yoda/data/sec-edgar-filings/AAPL/10-Q/0000320193-23-000064/full-submission/images/page_48.jpg\n",
      "Cropping tables from /Users/codym/CAP/ai-starter-kit/yoda/data/sec-edgar-filings/AAPL/10-Q/0000320193-23-000064/full-submission/images/page_74.jpg\n"
     ]
    },
    {
     "name": "stderr",
     "output_type": "stream",
     "text": [
      "image 1/1 /Users/codym/CAP/ai-starter-kit/yoda/data/sec-edgar-filings/AAPL/10-Q/0000320193-23-000064/full-submission/images/page_74.jpg: 640x512 (no detections), 68.2ms\n",
      "Speed: 0.2ms preprocess, 68.2ms inference, 0.2ms postprocess per image at shape (1, 3, 640, 640)\n",
      "\n",
      "image 1/1 /Users/codym/CAP/ai-starter-kit/yoda/data/sec-edgar-filings/AAPL/10-Q/0000320193-23-000064/full-submission/images/page_60.jpg: 640x512 (no detections), 74.4ms\n",
      "Speed: 0.2ms preprocess, 74.4ms inference, 0.2ms postprocess per image at shape (1, 3, 640, 640)\n",
      "\n",
      "image 1/1 /Users/codym/CAP/ai-starter-kit/yoda/data/sec-edgar-filings/AAPL/10-Q/0000320193-23-000064/full-submission/images/page_89.jpg: 640x512 (no detections), 69.2ms\n",
      "Speed: 0.3ms preprocess, 69.2ms inference, 0.2ms postprocess per image at shape (1, 3, 640, 640)\n",
      "\n"
     ]
    },
    {
     "name": "stdout",
     "output_type": "stream",
     "text": [
      "Cropping tables from /Users/codym/CAP/ai-starter-kit/yoda/data/sec-edgar-filings/AAPL/10-Q/0000320193-23-000064/full-submission/images/page_60.jpg\n",
      "Cropping tables from /Users/codym/CAP/ai-starter-kit/yoda/data/sec-edgar-filings/AAPL/10-Q/0000320193-23-000064/full-submission/images/page_89.jpg\n",
      "Cropping tables from /Users/codym/CAP/ai-starter-kit/yoda/data/sec-edgar-filings/AAPL/10-Q/0000320193-23-000064/full-submission/images/page_76.jpg\n"
     ]
    },
    {
     "name": "stderr",
     "output_type": "stream",
     "text": [
      "image 1/1 /Users/codym/CAP/ai-starter-kit/yoda/data/sec-edgar-filings/AAPL/10-Q/0000320193-23-000064/full-submission/images/page_76.jpg: 640x512 (no detections), 111.9ms\n",
      "Speed: 0.3ms preprocess, 111.9ms inference, 0.2ms postprocess per image at shape (1, 3, 640, 640)\n",
      "\n",
      "image 1/1 /Users/codym/CAP/ai-starter-kit/yoda/data/sec-edgar-filings/AAPL/10-Q/0000320193-23-000064/full-submission/images/page_62.jpg: 640x512 (no detections), 95.1ms\n",
      "Speed: 8.6ms preprocess, 95.1ms inference, 0.2ms postprocess per image at shape (1, 3, 640, 640)\n",
      "\n"
     ]
    },
    {
     "name": "stdout",
     "output_type": "stream",
     "text": [
      "Cropping tables from /Users/codym/CAP/ai-starter-kit/yoda/data/sec-edgar-filings/AAPL/10-Q/0000320193-23-000064/full-submission/images/page_62.jpg\n",
      "Cropping tables from /Users/codym/CAP/ai-starter-kit/yoda/data/sec-edgar-filings/AAPL/10-Q/0000320193-23-000064/full-submission/images/page_149.jpg\n"
     ]
    },
    {
     "name": "stderr",
     "output_type": "stream",
     "text": [
      "image 1/1 /Users/codym/CAP/ai-starter-kit/yoda/data/sec-edgar-filings/AAPL/10-Q/0000320193-23-000064/full-submission/images/page_149.jpg: 640x512 (no detections), 77.6ms\n",
      "Speed: 0.2ms preprocess, 77.6ms inference, 0.5ms postprocess per image at shape (1, 3, 640, 640)\n",
      "\n",
      "image 1/1 /Users/codym/CAP/ai-starter-kit/yoda/data/sec-edgar-filings/AAPL/10-Q/0000320193-23-000064/full-submission/images/page_148.jpg: 640x512 (no detections), 93.4ms\n",
      "Speed: 0.4ms preprocess, 93.4ms inference, 0.2ms postprocess per image at shape (1, 3, 640, 640)\n",
      "\n"
     ]
    },
    {
     "name": "stdout",
     "output_type": "stream",
     "text": [
      "Cropping tables from /Users/codym/CAP/ai-starter-kit/yoda/data/sec-edgar-filings/AAPL/10-Q/0000320193-23-000064/full-submission/images/page_148.jpg\n",
      "Cropping tables from /Users/codym/CAP/ai-starter-kit/yoda/data/sec-edgar-filings/AAPL/10-Q/0000320193-23-000064/full-submission/images/page_63.jpg\n"
     ]
    },
    {
     "name": "stderr",
     "output_type": "stream",
     "text": [
      "image 1/1 /Users/codym/CAP/ai-starter-kit/yoda/data/sec-edgar-filings/AAPL/10-Q/0000320193-23-000064/full-submission/images/page_63.jpg: 640x512 (no detections), 69.2ms\n",
      "Speed: 0.2ms preprocess, 69.2ms inference, 0.2ms postprocess per image at shape (1, 3, 640, 640)\n",
      "\n",
      "image 1/1 /Users/codym/CAP/ai-starter-kit/yoda/data/sec-edgar-filings/AAPL/10-Q/0000320193-23-000064/full-submission/images/page_77.jpg: 640x512 (no detections), 71.0ms\n",
      "Speed: 0.4ms preprocess, 71.0ms inference, 0.2ms postprocess per image at shape (1, 3, 640, 640)\n",
      "\n"
     ]
    },
    {
     "name": "stdout",
     "output_type": "stream",
     "text": [
      "Cropping tables from /Users/codym/CAP/ai-starter-kit/yoda/data/sec-edgar-filings/AAPL/10-Q/0000320193-23-000064/full-submission/images/page_77.jpg\n",
      "Cropping tables from /Users/codym/CAP/ai-starter-kit/yoda/data/sec-edgar-filings/AAPL/10-Q/0000320193-23-000064/full-submission/images/page_88.jpg\n"
     ]
    },
    {
     "name": "stderr",
     "output_type": "stream",
     "text": [
      "image 1/1 /Users/codym/CAP/ai-starter-kit/yoda/data/sec-edgar-filings/AAPL/10-Q/0000320193-23-000064/full-submission/images/page_88.jpg: 640x512 (no detections), 85.2ms\n",
      "Speed: 2.9ms preprocess, 85.2ms inference, 0.2ms postprocess per image at shape (1, 3, 640, 640)\n",
      "\n",
      "image 1/1 /Users/codym/CAP/ai-starter-kit/yoda/data/sec-edgar-filings/AAPL/10-Q/0000320193-23-000077/full-submission/images/page_91.jpg: 640x512 (no detections), 68.1ms\n",
      "Speed: 0.5ms preprocess, 68.1ms inference, 0.2ms postprocess per image at shape (1, 3, 640, 640)\n",
      "\n",
      "image 1/1 /Users/codym/CAP/ai-starter-kit/yoda/data/sec-edgar-filings/AAPL/10-Q/0000320193-23-000077/full-submission/images/page_85.jpg: 640x512 (no detections), 65.4ms\n",
      "Speed: 0.3ms preprocess, 65.4ms inference, 0.2ms postprocess per image at shape (1, 3, 640, 640)\n",
      "\n"
     ]
    },
    {
     "name": "stdout",
     "output_type": "stream",
     "text": [
      "Cropping tables from /Users/codym/CAP/ai-starter-kit/yoda/data/sec-edgar-filings/AAPL/10-Q/0000320193-23-000077/full-submission/images/page_91.jpg\n",
      "Cropping tables from /Users/codym/CAP/ai-starter-kit/yoda/data/sec-edgar-filings/AAPL/10-Q/0000320193-23-000077/full-submission/images/page_85.jpg\n",
      "Cropping tables from /Users/codym/CAP/ai-starter-kit/yoda/data/sec-edgar-filings/AAPL/10-Q/0000320193-23-000077/full-submission/images/page_52.jpg\n"
     ]
    },
    {
     "name": "stderr",
     "output_type": "stream",
     "text": [
      "image 1/1 /Users/codym/CAP/ai-starter-kit/yoda/data/sec-edgar-filings/AAPL/10-Q/0000320193-23-000077/full-submission/images/page_52.jpg: 640x512 (no detections), 104.4ms\n",
      "Speed: 0.2ms preprocess, 104.4ms inference, 0.3ms postprocess per image at shape (1, 3, 640, 640)\n",
      "\n",
      "image 1/1 /Users/codym/CAP/ai-starter-kit/yoda/data/sec-edgar-filings/AAPL/10-Q/0000320193-23-000077/full-submission/images/page_46.jpg: 640x512 1 borderless, 71.5ms\n",
      "Speed: 0.3ms preprocess, 71.5ms inference, 8.8ms postprocess per image at shape (1, 3, 640, 640)\n",
      "\n",
      "image 1/1 /Users/codym/CAP/ai-starter-kit/yoda/data/sec-edgar-filings/AAPL/10-Q/0000320193-23-000077/full-submission/images/page_2.jpg: 640x512 1 borderless, 70.7ms\n",
      "Speed: 0.2ms preprocess, 70.7ms inference, 0.4ms postprocess per image at shape (1, 3, 640, 640)\n",
      "\n"
     ]
    },
    {
     "name": "stdout",
     "output_type": "stream",
     "text": [
      "Cropping tables from /Users/codym/CAP/ai-starter-kit/yoda/data/sec-edgar-filings/AAPL/10-Q/0000320193-23-000077/full-submission/images/page_46.jpg\n",
      "Cropping tables from /Users/codym/CAP/ai-starter-kit/yoda/data/sec-edgar-filings/AAPL/10-Q/0000320193-23-000077/full-submission/images/page_2.jpg\n",
      "Cropping tables from /Users/codym/CAP/ai-starter-kit/yoda/data/sec-edgar-filings/AAPL/10-Q/0000320193-23-000077/full-submission/images/page_151.jpg\n"
     ]
    },
    {
     "name": "stderr",
     "output_type": "stream",
     "text": [
      "image 1/1 /Users/codym/CAP/ai-starter-kit/yoda/data/sec-edgar-filings/AAPL/10-Q/0000320193-23-000077/full-submission/images/page_151.jpg: 640x512 (no detections), 72.6ms\n",
      "Speed: 0.2ms preprocess, 72.6ms inference, 0.2ms postprocess per image at shape (1, 3, 640, 640)\n",
      "\n",
      "image 1/1 /Users/codym/CAP/ai-starter-kit/yoda/data/sec-edgar-filings/AAPL/10-Q/0000320193-23-000077/full-submission/images/page_145.jpg: 640x512 (no detections), 103.8ms\n",
      "Speed: 1.0ms preprocess, 103.8ms inference, 0.7ms postprocess per image at shape (1, 3, 640, 640)\n",
      "\n"
     ]
    },
    {
     "name": "stdout",
     "output_type": "stream",
     "text": [
      "Cropping tables from /Users/codym/CAP/ai-starter-kit/yoda/data/sec-edgar-filings/AAPL/10-Q/0000320193-23-000077/full-submission/images/page_145.jpg\n",
      "Cropping tables from /Users/codym/CAP/ai-starter-kit/yoda/data/sec-edgar-filings/AAPL/10-Q/0000320193-23-000077/full-submission/images/page_144.jpg\n"
     ]
    },
    {
     "name": "stderr",
     "output_type": "stream",
     "text": [
      "image 1/1 /Users/codym/CAP/ai-starter-kit/yoda/data/sec-edgar-filings/AAPL/10-Q/0000320193-23-000077/full-submission/images/page_144.jpg: 640x512 (no detections), 99.0ms\n",
      "Speed: 0.3ms preprocess, 99.0ms inference, 0.2ms postprocess per image at shape (1, 3, 640, 640)\n",
      "\n",
      "image 1/1 /Users/codym/CAP/ai-starter-kit/yoda/data/sec-edgar-filings/AAPL/10-Q/0000320193-23-000077/full-submission/images/page_150.jpg: 640x512 (no detections), 94.0ms\n",
      "Speed: 0.2ms preprocess, 94.0ms inference, 0.5ms postprocess per image at shape (1, 3, 640, 640)\n",
      "\n"
     ]
    },
    {
     "name": "stdout",
     "output_type": "stream",
     "text": [
      "Cropping tables from /Users/codym/CAP/ai-starter-kit/yoda/data/sec-edgar-filings/AAPL/10-Q/0000320193-23-000077/full-submission/images/page_150.jpg\n",
      "Cropping tables from /Users/codym/CAP/ai-starter-kit/yoda/data/sec-edgar-filings/AAPL/10-Q/0000320193-23-000077/full-submission/images/page_3.jpg\n"
     ]
    },
    {
     "name": "stderr",
     "output_type": "stream",
     "text": [
      "image 1/1 /Users/codym/CAP/ai-starter-kit/yoda/data/sec-edgar-filings/AAPL/10-Q/0000320193-23-000077/full-submission/images/page_3.jpg: 640x512 1 borderless, 81.4ms\n",
      "Speed: 0.5ms preprocess, 81.4ms inference, 0.4ms postprocess per image at shape (1, 3, 640, 640)\n",
      "\n",
      "image 1/1 /Users/codym/CAP/ai-starter-kit/yoda/data/sec-edgar-filings/AAPL/10-Q/0000320193-23-000077/full-submission/images/page_47.jpg: 640x512 5 borderlesss, 74.8ms\n",
      "Speed: 0.2ms preprocess, 74.8ms inference, 0.4ms postprocess per image at shape (1, 3, 640, 640)\n",
      "\n",
      "image 1/1 /Users/codym/CAP/ai-starter-kit/yoda/data/sec-edgar-filings/AAPL/10-Q/0000320193-23-000077/full-submission/images/page_53.jpg: 640x512 (no detections), 66.3ms\n",
      "Speed: 0.2ms preprocess, 66.3ms inference, 0.2ms postprocess per image at shape (1, 3, 640, 640)\n",
      "\n"
     ]
    },
    {
     "name": "stdout",
     "output_type": "stream",
     "text": [
      "Cropping tables from /Users/codym/CAP/ai-starter-kit/yoda/data/sec-edgar-filings/AAPL/10-Q/0000320193-23-000077/full-submission/images/page_47.jpg\n",
      "Cropping tables from /Users/codym/CAP/ai-starter-kit/yoda/data/sec-edgar-filings/AAPL/10-Q/0000320193-23-000077/full-submission/images/page_53.jpg\n",
      "Cropping tables from /Users/codym/CAP/ai-starter-kit/yoda/data/sec-edgar-filings/AAPL/10-Q/0000320193-23-000077/full-submission/images/page_84.jpg\n"
     ]
    },
    {
     "name": "stderr",
     "output_type": "stream",
     "text": [
      "image 1/1 /Users/codym/CAP/ai-starter-kit/yoda/data/sec-edgar-filings/AAPL/10-Q/0000320193-23-000077/full-submission/images/page_84.jpg: 640x512 (no detections), 93.5ms\n",
      "Speed: 0.9ms preprocess, 93.5ms inference, 0.2ms postprocess per image at shape (1, 3, 640, 640)\n",
      "\n",
      "image 1/1 /Users/codym/CAP/ai-starter-kit/yoda/data/sec-edgar-filings/AAPL/10-Q/0000320193-23-000077/full-submission/images/page_90.jpg: 640x512 (no detections), 71.3ms\n",
      "Speed: 0.2ms preprocess, 71.3ms inference, 0.2ms postprocess per image at shape (1, 3, 640, 640)\n",
      "\n",
      "image 1/1 /Users/codym/CAP/ai-starter-kit/yoda/data/sec-edgar-filings/AAPL/10-Q/0000320193-23-000077/full-submission/images/page_86.jpg: 640x512 (no detections), 69.2ms\n",
      "Speed: 0.2ms preprocess, 69.2ms inference, 0.2ms postprocess per image at shape (1, 3, 640, 640)\n",
      "\n"
     ]
    },
    {
     "name": "stdout",
     "output_type": "stream",
     "text": [
      "Cropping tables from /Users/codym/CAP/ai-starter-kit/yoda/data/sec-edgar-filings/AAPL/10-Q/0000320193-23-000077/full-submission/images/page_90.jpg\n",
      "Cropping tables from /Users/codym/CAP/ai-starter-kit/yoda/data/sec-edgar-filings/AAPL/10-Q/0000320193-23-000077/full-submission/images/page_86.jpg\n",
      "Cropping tables from /Users/codym/CAP/ai-starter-kit/yoda/data/sec-edgar-filings/AAPL/10-Q/0000320193-23-000077/full-submission/images/page_92.jpg\n"
     ]
    },
    {
     "name": "stderr",
     "output_type": "stream",
     "text": [
      "image 1/1 /Users/codym/CAP/ai-starter-kit/yoda/data/sec-edgar-filings/AAPL/10-Q/0000320193-23-000077/full-submission/images/page_92.jpg: 640x512 (no detections), 120.3ms\n",
      "Speed: 0.2ms preprocess, 120.3ms inference, 0.2ms postprocess per image at shape (1, 3, 640, 640)\n",
      "\n",
      "image 1/1 /Users/codym/CAP/ai-starter-kit/yoda/data/sec-edgar-filings/AAPL/10-Q/0000320193-23-000077/full-submission/images/page_79.jpg: 640x512 (no detections), 70.3ms\n",
      "Speed: 0.4ms preprocess, 70.3ms inference, 0.2ms postprocess per image at shape (1, 3, 640, 640)\n",
      "\n",
      "image 1/1 /Users/codym/CAP/ai-starter-kit/yoda/data/sec-edgar-filings/AAPL/10-Q/0000320193-23-000077/full-submission/images/page_45.jpg: 640x512 2 borderlesss, 77.9ms\n",
      "Speed: 0.3ms preprocess, 77.9ms inference, 0.4ms postprocess per image at shape (1, 3, 640, 640)\n"
     ]
    },
    {
     "name": "stdout",
     "output_type": "stream",
     "text": [
      "Cropping tables from /Users/codym/CAP/ai-starter-kit/yoda/data/sec-edgar-filings/AAPL/10-Q/0000320193-23-000077/full-submission/images/page_79.jpg\n",
      "Cropping tables from /Users/codym/CAP/ai-starter-kit/yoda/data/sec-edgar-filings/AAPL/10-Q/0000320193-23-000077/full-submission/images/page_45.jpg\n"
     ]
    },
    {
     "name": "stderr",
     "output_type": "stream",
     "text": [
      "\n",
      "image 1/1 /Users/codym/CAP/ai-starter-kit/yoda/data/sec-edgar-filings/AAPL/10-Q/0000320193-23-000077/full-submission/images/page_51.jpg: 640x512 (no detections), 83.6ms\n",
      "Speed: 0.6ms preprocess, 83.6ms inference, 0.2ms postprocess per image at shape (1, 3, 640, 640)\n",
      "\n",
      "image 1/1 /Users/codym/CAP/ai-starter-kit/yoda/data/sec-edgar-filings/AAPL/10-Q/0000320193-23-000077/full-submission/images/page_1.jpg: 640x512 1 borderless, 67.8ms\n",
      "Speed: 0.2ms preprocess, 67.8ms inference, 0.4ms postprocess per image at shape (1, 3, 640, 640)\n",
      "\n"
     ]
    },
    {
     "name": "stdout",
     "output_type": "stream",
     "text": [
      "Cropping tables from /Users/codym/CAP/ai-starter-kit/yoda/data/sec-edgar-filings/AAPL/10-Q/0000320193-23-000077/full-submission/images/page_51.jpg\n",
      "Cropping tables from /Users/codym/CAP/ai-starter-kit/yoda/data/sec-edgar-filings/AAPL/10-Q/0000320193-23-000077/full-submission/images/page_1.jpg\n",
      "Cropping tables from /Users/codym/CAP/ai-starter-kit/yoda/data/sec-edgar-filings/AAPL/10-Q/0000320193-23-000077/full-submission/images/page_146.jpg\n"
     ]
    },
    {
     "name": "stderr",
     "output_type": "stream",
     "text": [
      "image 1/1 /Users/codym/CAP/ai-starter-kit/yoda/data/sec-edgar-filings/AAPL/10-Q/0000320193-23-000077/full-submission/images/page_146.jpg: 640x512 (no detections), 71.1ms\n",
      "Speed: 0.3ms preprocess, 71.1ms inference, 0.2ms postprocess per image at shape (1, 3, 640, 640)\n",
      "\n",
      "image 1/1 /Users/codym/CAP/ai-starter-kit/yoda/data/sec-edgar-filings/AAPL/10-Q/0000320193-23-000077/full-submission/images/page_152.jpg: 640x512 (no detections), 66.8ms\n",
      "Speed: 0.6ms preprocess, 66.8ms inference, 0.2ms postprocess per image at shape (1, 3, 640, 640)\n",
      "\n",
      "image 1/1 /Users/codym/CAP/ai-starter-kit/yoda/data/sec-edgar-filings/AAPL/10-Q/0000320193-23-000077/full-submission/images/page_153.jpg: 640x512 (no detections), 66.6ms\n",
      "Speed: 0.2ms preprocess, 66.6ms inference, 0.2ms postprocess per image at shape (1, 3, 640, 640)\n",
      "\n"
     ]
    },
    {
     "name": "stdout",
     "output_type": "stream",
     "text": [
      "Cropping tables from /Users/codym/CAP/ai-starter-kit/yoda/data/sec-edgar-filings/AAPL/10-Q/0000320193-23-000077/full-submission/images/page_152.jpg\n",
      "Cropping tables from /Users/codym/CAP/ai-starter-kit/yoda/data/sec-edgar-filings/AAPL/10-Q/0000320193-23-000077/full-submission/images/page_153.jpg\n",
      "Cropping tables from /Users/codym/CAP/ai-starter-kit/yoda/data/sec-edgar-filings/AAPL/10-Q/0000320193-23-000077/full-submission/images/page_147.jpg\n"
     ]
    },
    {
     "name": "stderr",
     "output_type": "stream",
     "text": [
      "image 1/1 /Users/codym/CAP/ai-starter-kit/yoda/data/sec-edgar-filings/AAPL/10-Q/0000320193-23-000077/full-submission/images/page_147.jpg: 640x512 (no detections), 72.3ms\n",
      "Speed: 0.3ms preprocess, 72.3ms inference, 0.2ms postprocess per image at shape (1, 3, 640, 640)\n",
      "\n",
      "image 1/1 /Users/codym/CAP/ai-starter-kit/yoda/data/sec-edgar-filings/AAPL/10-Q/0000320193-23-000077/full-submission/images/page_0.jpg: 640x512 1 borderless, 71.1ms\n",
      "Speed: 0.4ms preprocess, 71.1ms inference, 0.4ms postprocess per image at shape (1, 3, 640, 640)\n",
      "\n",
      "image 1/1 /Users/codym/CAP/ai-starter-kit/yoda/data/sec-edgar-filings/AAPL/10-Q/0000320193-23-000077/full-submission/images/page_50.jpg: 640x512 (no detections), 68.7ms\n",
      "Speed: 0.6ms preprocess, 68.7ms inference, 0.2ms postprocess per image at shape (1, 3, 640, 640)\n",
      "\n"
     ]
    },
    {
     "name": "stdout",
     "output_type": "stream",
     "text": [
      "Cropping tables from /Users/codym/CAP/ai-starter-kit/yoda/data/sec-edgar-filings/AAPL/10-Q/0000320193-23-000077/full-submission/images/page_0.jpg\n",
      "Cropping tables from /Users/codym/CAP/ai-starter-kit/yoda/data/sec-edgar-filings/AAPL/10-Q/0000320193-23-000077/full-submission/images/page_50.jpg\n",
      "Cropping tables from /Users/codym/CAP/ai-starter-kit/yoda/data/sec-edgar-filings/AAPL/10-Q/0000320193-23-000077/full-submission/images/page_44.jpg\n"
     ]
    },
    {
     "name": "stderr",
     "output_type": "stream",
     "text": [
      "image 1/1 /Users/codym/CAP/ai-starter-kit/yoda/data/sec-edgar-filings/AAPL/10-Q/0000320193-23-000077/full-submission/images/page_44.jpg: 640x512 1 borderless, 73.1ms\n",
      "Speed: 0.2ms preprocess, 73.1ms inference, 0.4ms postprocess per image at shape (1, 3, 640, 640)\n",
      "\n",
      "image 1/1 /Users/codym/CAP/ai-starter-kit/yoda/data/sec-edgar-filings/AAPL/10-Q/0000320193-23-000077/full-submission/images/page_78.jpg: 640x512 (no detections), 66.1ms\n",
      "Speed: 0.2ms preprocess, 66.1ms inference, 0.2ms postprocess per image at shape (1, 3, 640, 640)\n",
      "\n"
     ]
    },
    {
     "name": "stdout",
     "output_type": "stream",
     "text": [
      "Cropping tables from /Users/codym/CAP/ai-starter-kit/yoda/data/sec-edgar-filings/AAPL/10-Q/0000320193-23-000077/full-submission/images/page_78.jpg\n",
      "Cropping tables from /Users/codym/CAP/ai-starter-kit/yoda/data/sec-edgar-filings/AAPL/10-Q/0000320193-23-000077/full-submission/images/page_93.jpg\n"
     ]
    },
    {
     "name": "stderr",
     "output_type": "stream",
     "text": [
      "image 1/1 /Users/codym/CAP/ai-starter-kit/yoda/data/sec-edgar-filings/AAPL/10-Q/0000320193-23-000077/full-submission/images/page_93.jpg: 640x512 (no detections), 121.1ms\n",
      "Speed: 14.8ms preprocess, 121.1ms inference, 0.2ms postprocess per image at shape (1, 3, 640, 640)\n",
      "\n",
      "image 1/1 /Users/codym/CAP/ai-starter-kit/yoda/data/sec-edgar-filings/AAPL/10-Q/0000320193-23-000077/full-submission/images/page_87.jpg: 640x512 (no detections), 76.0ms\n",
      "Speed: 0.3ms preprocess, 76.0ms inference, 0.2ms postprocess per image at shape (1, 3, 640, 640)\n",
      "\n",
      "image 1/1 /Users/codym/CAP/ai-starter-kit/yoda/data/sec-edgar-filings/AAPL/10-Q/0000320193-23-000077/full-submission/images/page_83.jpg: 640x512 (no detections), 66.1ms\n",
      "Speed: 0.2ms preprocess, 66.1ms inference, 0.2ms postprocess per image at shape (1, 3, 640, 640)\n",
      "\n"
     ]
    },
    {
     "name": "stdout",
     "output_type": "stream",
     "text": [
      "Cropping tables from /Users/codym/CAP/ai-starter-kit/yoda/data/sec-edgar-filings/AAPL/10-Q/0000320193-23-000077/full-submission/images/page_87.jpg\n",
      "Cropping tables from /Users/codym/CAP/ai-starter-kit/yoda/data/sec-edgar-filings/AAPL/10-Q/0000320193-23-000077/full-submission/images/page_83.jpg\n",
      "Cropping tables from /Users/codym/CAP/ai-starter-kit/yoda/data/sec-edgar-filings/AAPL/10-Q/0000320193-23-000077/full-submission/images/page_97.jpg\n"
     ]
    },
    {
     "name": "stderr",
     "output_type": "stream",
     "text": [
      "image 1/1 /Users/codym/CAP/ai-starter-kit/yoda/data/sec-edgar-filings/AAPL/10-Q/0000320193-23-000077/full-submission/images/page_97.jpg: 640x512 (no detections), 72.7ms\n",
      "Speed: 0.3ms preprocess, 72.7ms inference, 0.2ms postprocess per image at shape (1, 3, 640, 640)\n",
      "\n",
      "image 1/1 /Users/codym/CAP/ai-starter-kit/yoda/data/sec-edgar-filings/AAPL/10-Q/0000320193-23-000077/full-submission/images/page_40.jpg: 640x512 4 borderlesss, 81.9ms\n",
      "Speed: 0.2ms preprocess, 81.9ms inference, 0.4ms postprocess per image at shape (1, 3, 640, 640)\n",
      "\n"
     ]
    },
    {
     "name": "stdout",
     "output_type": "stream",
     "text": [
      "Cropping tables from /Users/codym/CAP/ai-starter-kit/yoda/data/sec-edgar-filings/AAPL/10-Q/0000320193-23-000077/full-submission/images/page_40.jpg\n",
      "Cropping tables from /Users/codym/CAP/ai-starter-kit/yoda/data/sec-edgar-filings/AAPL/10-Q/0000320193-23-000077/full-submission/images/page_54.jpg\n"
     ]
    },
    {
     "name": "stderr",
     "output_type": "stream",
     "text": [
      "image 1/1 /Users/codym/CAP/ai-starter-kit/yoda/data/sec-edgar-filings/AAPL/10-Q/0000320193-23-000077/full-submission/images/page_54.jpg: 640x512 (no detections), 85.2ms\n",
      "Speed: 0.6ms preprocess, 85.2ms inference, 0.2ms postprocess per image at shape (1, 3, 640, 640)\n",
      "\n",
      "image 1/1 /Users/codym/CAP/ai-starter-kit/yoda/data/sec-edgar-filings/AAPL/10-Q/0000320193-23-000077/full-submission/images/page_68.jpg: 640x512 (no detections), 67.7ms\n",
      "Speed: 0.2ms preprocess, 67.7ms inference, 0.2ms postprocess per image at shape (1, 3, 640, 640)\n",
      "\n",
      "image 1/1 /Users/codym/CAP/ai-starter-kit/yoda/data/sec-edgar-filings/AAPL/10-Q/0000320193-23-000077/full-submission/images/page_4.jpg: 640x512 1 borderless, 77.6ms\n",
      "Speed: 0.2ms preprocess, 77.6ms inference, 0.4ms postprocess per image at shape (1, 3, 640, 640)\n",
      "\n"
     ]
    },
    {
     "name": "stdout",
     "output_type": "stream",
     "text": [
      "Cropping tables from /Users/codym/CAP/ai-starter-kit/yoda/data/sec-edgar-filings/AAPL/10-Q/0000320193-23-000077/full-submission/images/page_68.jpg\n",
      "Cropping tables from /Users/codym/CAP/ai-starter-kit/yoda/data/sec-edgar-filings/AAPL/10-Q/0000320193-23-000077/full-submission/images/page_4.jpg\n",
      "Cropping tables from /Users/codym/CAP/ai-starter-kit/yoda/data/sec-edgar-filings/AAPL/10-Q/0000320193-23-000077/full-submission/images/page_143.jpg\n"
     ]
    },
    {
     "name": "stderr",
     "output_type": "stream",
     "text": [
      "image 1/1 /Users/codym/CAP/ai-starter-kit/yoda/data/sec-edgar-filings/AAPL/10-Q/0000320193-23-000077/full-submission/images/page_143.jpg: 640x512 (no detections), 67.8ms\n",
      "Speed: 0.3ms preprocess, 67.8ms inference, 0.2ms postprocess per image at shape (1, 3, 640, 640)\n",
      "\n",
      "image 1/1 /Users/codym/CAP/ai-starter-kit/yoda/data/sec-edgar-filings/AAPL/10-Q/0000320193-23-000077/full-submission/images/page_157.jpg: 640x512 (no detections), 71.2ms\n",
      "Speed: 0.2ms preprocess, 71.2ms inference, 0.2ms postprocess per image at shape (1, 3, 640, 640)\n",
      "\n",
      "image 1/1 /Users/codym/CAP/ai-starter-kit/yoda/data/sec-edgar-filings/AAPL/10-Q/0000320193-23-000077/full-submission/images/page_156.jpg: 640x512 (no detections), 69.1ms\n",
      "Speed: 0.2ms preprocess, 69.1ms inference, 0.2ms postprocess per image at shape (1, 3, 640, 640)\n",
      "\n"
     ]
    },
    {
     "name": "stdout",
     "output_type": "stream",
     "text": [
      "Cropping tables from /Users/codym/CAP/ai-starter-kit/yoda/data/sec-edgar-filings/AAPL/10-Q/0000320193-23-000077/full-submission/images/page_157.jpg\n",
      "Cropping tables from /Users/codym/CAP/ai-starter-kit/yoda/data/sec-edgar-filings/AAPL/10-Q/0000320193-23-000077/full-submission/images/page_156.jpg\n",
      "Cropping tables from /Users/codym/CAP/ai-starter-kit/yoda/data/sec-edgar-filings/AAPL/10-Q/0000320193-23-000077/full-submission/images/page_142.jpg\n"
     ]
    },
    {
     "name": "stderr",
     "output_type": "stream",
     "text": [
      "image 1/1 /Users/codym/CAP/ai-starter-kit/yoda/data/sec-edgar-filings/AAPL/10-Q/0000320193-23-000077/full-submission/images/page_142.jpg: 640x512 (no detections), 70.9ms\n",
      "Speed: 0.2ms preprocess, 70.9ms inference, 0.2ms postprocess per image at shape (1, 3, 640, 640)\n",
      "\n",
      "image 1/1 /Users/codym/CAP/ai-starter-kit/yoda/data/sec-edgar-filings/AAPL/10-Q/0000320193-23-000077/full-submission/images/page_5.jpg: 640x512 1 borderless, 84.5ms\n",
      "Speed: 0.2ms preprocess, 84.5ms inference, 0.4ms postprocess per image at shape (1, 3, 640, 640)\n",
      "\n",
      "image 1/1 /Users/codym/CAP/ai-starter-kit/yoda/data/sec-edgar-filings/AAPL/10-Q/0000320193-23-000077/full-submission/images/page_69.jpg: 640x512 (no detections), 64.5ms\n",
      "Speed: 0.2ms preprocess, 64.5ms inference, 0.2ms postprocess per image at shape (1, 3, 640, 640)\n",
      "\n"
     ]
    },
    {
     "name": "stdout",
     "output_type": "stream",
     "text": [
      "Cropping tables from /Users/codym/CAP/ai-starter-kit/yoda/data/sec-edgar-filings/AAPL/10-Q/0000320193-23-000077/full-submission/images/page_5.jpg\n",
      "Cropping tables from /Users/codym/CAP/ai-starter-kit/yoda/data/sec-edgar-filings/AAPL/10-Q/0000320193-23-000077/full-submission/images/page_69.jpg\n",
      "Cropping tables from /Users/codym/CAP/ai-starter-kit/yoda/data/sec-edgar-filings/AAPL/10-Q/0000320193-23-000077/full-submission/images/page_55.jpg\n"
     ]
    },
    {
     "name": "stderr",
     "output_type": "stream",
     "text": [
      "image 1/1 /Users/codym/CAP/ai-starter-kit/yoda/data/sec-edgar-filings/AAPL/10-Q/0000320193-23-000077/full-submission/images/page_55.jpg: 640x512 (no detections), 67.8ms\n",
      "Speed: 0.3ms preprocess, 67.8ms inference, 0.2ms postprocess per image at shape (1, 3, 640, 640)\n",
      "\n",
      "image 1/1 /Users/codym/CAP/ai-starter-kit/yoda/data/sec-edgar-filings/AAPL/10-Q/0000320193-23-000077/full-submission/images/page_41.jpg: 640x512 3 borderlesss, 72.6ms\n",
      "Speed: 0.2ms preprocess, 72.6ms inference, 0.4ms postprocess per image at shape (1, 3, 640, 640)\n",
      "\n",
      "image 1/1 /Users/codym/CAP/ai-starter-kit/yoda/data/sec-edgar-filings/AAPL/10-Q/0000320193-23-000077/full-submission/images/page_96.jpg: 640x512 (no detections), 65.1ms\n",
      "Speed: 0.2ms preprocess, 65.1ms inference, 0.2ms postprocess per image at shape (1, 3, 640, 640)\n",
      "\n"
     ]
    },
    {
     "name": "stdout",
     "output_type": "stream",
     "text": [
      "Cropping tables from /Users/codym/CAP/ai-starter-kit/yoda/data/sec-edgar-filings/AAPL/10-Q/0000320193-23-000077/full-submission/images/page_41.jpg\n",
      "Cropping tables from /Users/codym/CAP/ai-starter-kit/yoda/data/sec-edgar-filings/AAPL/10-Q/0000320193-23-000077/full-submission/images/page_96.jpg\n",
      "Cropping tables from /Users/codym/CAP/ai-starter-kit/yoda/data/sec-edgar-filings/AAPL/10-Q/0000320193-23-000077/full-submission/images/page_82.jpg\n"
     ]
    },
    {
     "name": "stderr",
     "output_type": "stream",
     "text": [
      "image 1/1 /Users/codym/CAP/ai-starter-kit/yoda/data/sec-edgar-filings/AAPL/10-Q/0000320193-23-000077/full-submission/images/page_82.jpg: 640x512 (no detections), 74.8ms\n",
      "Speed: 0.2ms preprocess, 74.8ms inference, 0.2ms postprocess per image at shape (1, 3, 640, 640)\n",
      "\n",
      "image 1/1 /Users/codym/CAP/ai-starter-kit/yoda/data/sec-edgar-filings/AAPL/10-Q/0000320193-23-000077/full-submission/images/page_94.jpg: 640x512 (no detections), 71.2ms\n",
      "Speed: 0.2ms preprocess, 71.2ms inference, 0.2ms postprocess per image at shape (1, 3, 640, 640)\n",
      "\n",
      "image 1/1 /Users/codym/CAP/ai-starter-kit/yoda/data/sec-edgar-filings/AAPL/10-Q/0000320193-23-000077/full-submission/images/page_80.jpg: 640x512 (no detections), 62.8ms\n",
      "Speed: 0.2ms preprocess, 62.8ms inference, 0.2ms postprocess per image at shape (1, 3, 640, 640)\n",
      "\n"
     ]
    },
    {
     "name": "stdout",
     "output_type": "stream",
     "text": [
      "Cropping tables from /Users/codym/CAP/ai-starter-kit/yoda/data/sec-edgar-filings/AAPL/10-Q/0000320193-23-000077/full-submission/images/page_94.jpg\n",
      "Cropping tables from /Users/codym/CAP/ai-starter-kit/yoda/data/sec-edgar-filings/AAPL/10-Q/0000320193-23-000077/full-submission/images/page_80.jpg\n",
      "Cropping tables from /Users/codym/CAP/ai-starter-kit/yoda/data/sec-edgar-filings/AAPL/10-Q/0000320193-23-000077/full-submission/images/page_57.jpg\n"
     ]
    },
    {
     "name": "stderr",
     "output_type": "stream",
     "text": [
      "image 1/1 /Users/codym/CAP/ai-starter-kit/yoda/data/sec-edgar-filings/AAPL/10-Q/0000320193-23-000077/full-submission/images/page_57.jpg: 640x512 (no detections), 75.5ms\n",
      "Speed: 0.2ms preprocess, 75.5ms inference, 0.2ms postprocess per image at shape (1, 3, 640, 640)\n",
      "\n",
      "image 1/1 /Users/codym/CAP/ai-starter-kit/yoda/data/sec-edgar-filings/AAPL/10-Q/0000320193-23-000077/full-submission/images/page_43.jpg: 640x512 1 bordered, 3 borderlesss, 72.0ms\n",
      "Speed: 0.3ms preprocess, 72.0ms inference, 0.4ms postprocess per image at shape (1, 3, 640, 640)\n",
      "\n",
      "image 1/1 /Users/codym/CAP/ai-starter-kit/yoda/data/sec-edgar-filings/AAPL/10-Q/0000320193-23-000077/full-submission/images/page_7.jpg: 640x512 1 borderless, 68.3ms\n",
      "Speed: 0.3ms preprocess, 68.3ms inference, 0.4ms postprocess per image at shape (1, 3, 640, 640)\n",
      "\n"
     ]
    },
    {
     "name": "stdout",
     "output_type": "stream",
     "text": [
      "Cropping tables from /Users/codym/CAP/ai-starter-kit/yoda/data/sec-edgar-filings/AAPL/10-Q/0000320193-23-000077/full-submission/images/page_43.jpg\n",
      "Cropping tables from /Users/codym/CAP/ai-starter-kit/yoda/data/sec-edgar-filings/AAPL/10-Q/0000320193-23-000077/full-submission/images/page_7.jpg\n",
      "Cropping tables from /Users/codym/CAP/ai-starter-kit/yoda/data/sec-edgar-filings/AAPL/10-Q/0000320193-23-000077/full-submission/images/page_154.jpg\n"
     ]
    },
    {
     "name": "stderr",
     "output_type": "stream",
     "text": [
      "image 1/1 /Users/codym/CAP/ai-starter-kit/yoda/data/sec-edgar-filings/AAPL/10-Q/0000320193-23-000077/full-submission/images/page_154.jpg: 640x512 (no detections), 70.0ms\n",
      "Speed: 0.2ms preprocess, 70.0ms inference, 0.2ms postprocess per image at shape (1, 3, 640, 640)\n",
      "\n",
      "image 1/1 /Users/codym/CAP/ai-starter-kit/yoda/data/sec-edgar-filings/AAPL/10-Q/0000320193-23-000077/full-submission/images/page_140.jpg: 640x512 (no detections), 68.6ms\n",
      "Speed: 0.4ms preprocess, 68.6ms inference, 0.2ms postprocess per image at shape (1, 3, 640, 640)\n",
      "\n",
      "image 1/1 /Users/codym/CAP/ai-starter-kit/yoda/data/sec-edgar-filings/AAPL/10-Q/0000320193-23-000077/full-submission/images/page_141.jpg: 640x512 (no detections), 66.8ms\n",
      "Speed: 0.2ms preprocess, 66.8ms inference, 0.2ms postprocess per image at shape (1, 3, 640, 640)\n",
      "\n"
     ]
    },
    {
     "name": "stdout",
     "output_type": "stream",
     "text": [
      "Cropping tables from /Users/codym/CAP/ai-starter-kit/yoda/data/sec-edgar-filings/AAPL/10-Q/0000320193-23-000077/full-submission/images/page_140.jpg\n",
      "Cropping tables from /Users/codym/CAP/ai-starter-kit/yoda/data/sec-edgar-filings/AAPL/10-Q/0000320193-23-000077/full-submission/images/page_141.jpg\n",
      "Cropping tables from /Users/codym/CAP/ai-starter-kit/yoda/data/sec-edgar-filings/AAPL/10-Q/0000320193-23-000077/full-submission/images/page_155.jpg\n"
     ]
    },
    {
     "name": "stderr",
     "output_type": "stream",
     "text": [
      "image 1/1 /Users/codym/CAP/ai-starter-kit/yoda/data/sec-edgar-filings/AAPL/10-Q/0000320193-23-000077/full-submission/images/page_155.jpg: 640x512 (no detections), 70.3ms\n",
      "Speed: 0.5ms preprocess, 70.3ms inference, 0.2ms postprocess per image at shape (1, 3, 640, 640)\n",
      "\n",
      "image 1/1 /Users/codym/CAP/ai-starter-kit/yoda/data/sec-edgar-filings/AAPL/10-Q/0000320193-23-000077/full-submission/images/page_6.jpg: 640x512 1 borderless, 70.3ms\n",
      "Speed: 0.2ms preprocess, 70.3ms inference, 0.4ms postprocess per image at shape (1, 3, 640, 640)\n",
      "\n",
      "image 1/1 /Users/codym/CAP/ai-starter-kit/yoda/data/sec-edgar-filings/AAPL/10-Q/0000320193-23-000077/full-submission/images/page_42.jpg: 640x512 5 borderlesss, 68.3ms\n",
      "Speed: 0.2ms preprocess, 68.3ms inference, 0.4ms postprocess per image at shape (1, 3, 640, 640)\n",
      "\n"
     ]
    },
    {
     "name": "stdout",
     "output_type": "stream",
     "text": [
      "Cropping tables from /Users/codym/CAP/ai-starter-kit/yoda/data/sec-edgar-filings/AAPL/10-Q/0000320193-23-000077/full-submission/images/page_6.jpg\n",
      "Cropping tables from /Users/codym/CAP/ai-starter-kit/yoda/data/sec-edgar-filings/AAPL/10-Q/0000320193-23-000077/full-submission/images/page_42.jpg\n",
      "Cropping tables from /Users/codym/CAP/ai-starter-kit/yoda/data/sec-edgar-filings/AAPL/10-Q/0000320193-23-000077/full-submission/images/page_56.jpg\n"
     ]
    },
    {
     "name": "stderr",
     "output_type": "stream",
     "text": [
      "image 1/1 /Users/codym/CAP/ai-starter-kit/yoda/data/sec-edgar-filings/AAPL/10-Q/0000320193-23-000077/full-submission/images/page_56.jpg: 640x512 (no detections), 73.3ms\n",
      "Speed: 2.9ms preprocess, 73.3ms inference, 0.2ms postprocess per image at shape (1, 3, 640, 640)\n",
      "\n",
      "image 1/1 /Users/codym/CAP/ai-starter-kit/yoda/data/sec-edgar-filings/AAPL/10-Q/0000320193-23-000077/full-submission/images/page_81.jpg: 640x512 (no detections), 72.6ms\n",
      "Speed: 0.3ms preprocess, 72.6ms inference, 0.2ms postprocess per image at shape (1, 3, 640, 640)\n",
      "\n",
      "image 1/1 /Users/codym/CAP/ai-starter-kit/yoda/data/sec-edgar-filings/AAPL/10-Q/0000320193-23-000077/full-submission/images/page_95.jpg: 640x512 (no detections), 75.6ms\n",
      "Speed: 0.2ms preprocess, 75.6ms inference, 0.2ms postprocess per image at shape (1, 3, 640, 640)\n",
      "\n"
     ]
    },
    {
     "name": "stdout",
     "output_type": "stream",
     "text": [
      "Cropping tables from /Users/codym/CAP/ai-starter-kit/yoda/data/sec-edgar-filings/AAPL/10-Q/0000320193-23-000077/full-submission/images/page_81.jpg\n",
      "Cropping tables from /Users/codym/CAP/ai-starter-kit/yoda/data/sec-edgar-filings/AAPL/10-Q/0000320193-23-000077/full-submission/images/page_95.jpg\n",
      "Cropping tables from /Users/codym/CAP/ai-starter-kit/yoda/data/sec-edgar-filings/AAPL/10-Q/0000320193-23-000077/full-submission/images/page_19.jpg\n"
     ]
    },
    {
     "name": "stderr",
     "output_type": "stream",
     "text": [
      "image 1/1 /Users/codym/CAP/ai-starter-kit/yoda/data/sec-edgar-filings/AAPL/10-Q/0000320193-23-000077/full-submission/images/page_19.jpg: 640x512 2 borderlesss, 92.5ms\n",
      "Speed: 0.4ms preprocess, 92.5ms inference, 0.5ms postprocess per image at shape (1, 3, 640, 640)\n",
      "\n",
      "image 1/1 /Users/codym/CAP/ai-starter-kit/yoda/data/sec-edgar-filings/AAPL/10-Q/0000320193-23-000077/full-submission/images/page_31.jpg: 640x512 3 borderlesss, 102.0ms\n",
      "Speed: 0.6ms preprocess, 102.0ms inference, 0.4ms postprocess per image at shape (1, 3, 640, 640)\n",
      "\n"
     ]
    },
    {
     "name": "stdout",
     "output_type": "stream",
     "text": [
      "Cropping tables from /Users/codym/CAP/ai-starter-kit/yoda/data/sec-edgar-filings/AAPL/10-Q/0000320193-23-000077/full-submission/images/page_31.jpg\n",
      "Cropping tables from /Users/codym/CAP/ai-starter-kit/yoda/data/sec-edgar-filings/AAPL/10-Q/0000320193-23-000077/full-submission/images/page_25.jpg\n"
     ]
    },
    {
     "name": "stderr",
     "output_type": "stream",
     "text": [
      "image 1/1 /Users/codym/CAP/ai-starter-kit/yoda/data/sec-edgar-filings/AAPL/10-Q/0000320193-23-000077/full-submission/images/page_25.jpg: 640x512 (no detections), 100.9ms\n",
      "Speed: 0.4ms preprocess, 100.9ms inference, 0.2ms postprocess per image at shape (1, 3, 640, 640)\n",
      "\n",
      "image 1/1 /Users/codym/CAP/ai-starter-kit/yoda/data/sec-edgar-filings/AAPL/10-Q/0000320193-23-000077/full-submission/images/page_132.jpg: 640x512 (no detections), 86.7ms\n",
      "Speed: 0.3ms preprocess, 86.7ms inference, 0.2ms postprocess per image at shape (1, 3, 640, 640)\n",
      "\n"
     ]
    },
    {
     "name": "stdout",
     "output_type": "stream",
     "text": [
      "Cropping tables from /Users/codym/CAP/ai-starter-kit/yoda/data/sec-edgar-filings/AAPL/10-Q/0000320193-23-000077/full-submission/images/page_132.jpg\n",
      "Cropping tables from /Users/codym/CAP/ai-starter-kit/yoda/data/sec-edgar-filings/AAPL/10-Q/0000320193-23-000077/full-submission/images/page_126.jpg\n"
     ]
    },
    {
     "name": "stderr",
     "output_type": "stream",
     "text": [
      "image 1/1 /Users/codym/CAP/ai-starter-kit/yoda/data/sec-edgar-filings/AAPL/10-Q/0000320193-23-000077/full-submission/images/page_126.jpg: 640x512 (no detections), 99.7ms\n",
      "Speed: 0.3ms preprocess, 99.7ms inference, 0.2ms postprocess per image at shape (1, 3, 640, 640)\n",
      "\n",
      "image 1/1 /Users/codym/CAP/ai-starter-kit/yoda/data/sec-edgar-filings/AAPL/10-Q/0000320193-23-000077/full-submission/images/page_127.jpg: 640x512 (no detections), 79.2ms\n",
      "Speed: 0.3ms preprocess, 79.2ms inference, 0.2ms postprocess per image at shape (1, 3, 640, 640)\n",
      "\n",
      "image 1/1 /Users/codym/CAP/ai-starter-kit/yoda/data/sec-edgar-filings/AAPL/10-Q/0000320193-23-000077/full-submission/images/page_133.jpg: 640x512 (no detections), 68.8ms\n",
      "Speed: 0.5ms preprocess, 68.8ms inference, 0.2ms postprocess per image at shape (1, 3, 640, 640)\n",
      "\n"
     ]
    },
    {
     "name": "stdout",
     "output_type": "stream",
     "text": [
      "Cropping tables from /Users/codym/CAP/ai-starter-kit/yoda/data/sec-edgar-filings/AAPL/10-Q/0000320193-23-000077/full-submission/images/page_127.jpg\n",
      "Cropping tables from /Users/codym/CAP/ai-starter-kit/yoda/data/sec-edgar-filings/AAPL/10-Q/0000320193-23-000077/full-submission/images/page_133.jpg\n",
      "Cropping tables from /Users/codym/CAP/ai-starter-kit/yoda/data/sec-edgar-filings/AAPL/10-Q/0000320193-23-000077/full-submission/images/page_24.jpg\n"
     ]
    },
    {
     "name": "stderr",
     "output_type": "stream",
     "text": [
      "image 1/1 /Users/codym/CAP/ai-starter-kit/yoda/data/sec-edgar-filings/AAPL/10-Q/0000320193-23-000077/full-submission/images/page_24.jpg: 640x512 (no detections), 90.4ms\n",
      "Speed: 0.8ms preprocess, 90.4ms inference, 0.2ms postprocess per image at shape (1, 3, 640, 640)\n",
      "\n",
      "image 1/1 /Users/codym/CAP/ai-starter-kit/yoda/data/sec-edgar-filings/AAPL/10-Q/0000320193-23-000077/full-submission/images/page_30.jpg: 640x512 (no detections), 94.1ms\n",
      "Speed: 0.6ms preprocess, 94.1ms inference, 0.2ms postprocess per image at shape (1, 3, 640, 640)\n",
      "\n"
     ]
    },
    {
     "name": "stdout",
     "output_type": "stream",
     "text": [
      "Cropping tables from /Users/codym/CAP/ai-starter-kit/yoda/data/sec-edgar-filings/AAPL/10-Q/0000320193-23-000077/full-submission/images/page_30.jpg\n",
      "Cropping tables from /Users/codym/CAP/ai-starter-kit/yoda/data/sec-edgar-filings/AAPL/10-Q/0000320193-23-000077/full-submission/images/page_18.jpg\n"
     ]
    },
    {
     "name": "stderr",
     "output_type": "stream",
     "text": [
      "image 1/1 /Users/codym/CAP/ai-starter-kit/yoda/data/sec-edgar-filings/AAPL/10-Q/0000320193-23-000077/full-submission/images/page_18.jpg: 640x512 1 borderless, 92.8ms\n",
      "Speed: 0.3ms preprocess, 92.8ms inference, 0.4ms postprocess per image at shape (1, 3, 640, 640)\n",
      "\n",
      "image 1/1 /Users/codym/CAP/ai-starter-kit/yoda/data/sec-edgar-filings/AAPL/10-Q/0000320193-23-000077/full-submission/images/page_26.jpg: 640x512 (no detections), 70.6ms\n",
      "Speed: 1.8ms preprocess, 70.6ms inference, 0.2ms postprocess per image at shape (1, 3, 640, 640)\n",
      "\n",
      "image 1/1 /Users/codym/CAP/ai-starter-kit/yoda/data/sec-edgar-filings/AAPL/10-Q/0000320193-23-000077/full-submission/images/page_32.jpg: 640x512 3 borderlesss, 78.7ms\n",
      "Speed: 0.3ms preprocess, 78.7ms inference, 0.4ms postprocess per image at shape (1, 3, 640, 640)\n",
      "\n"
     ]
    },
    {
     "name": "stdout",
     "output_type": "stream",
     "text": [
      "Cropping tables from /Users/codym/CAP/ai-starter-kit/yoda/data/sec-edgar-filings/AAPL/10-Q/0000320193-23-000077/full-submission/images/page_26.jpg\n",
      "Cropping tables from /Users/codym/CAP/ai-starter-kit/yoda/data/sec-edgar-filings/AAPL/10-Q/0000320193-23-000077/full-submission/images/page_32.jpg\n",
      "Cropping tables from /Users/codym/CAP/ai-starter-kit/yoda/data/sec-edgar-filings/AAPL/10-Q/0000320193-23-000077/full-submission/images/page_119.jpg\n"
     ]
    },
    {
     "name": "stderr",
     "output_type": "stream",
     "text": [
      "image 1/1 /Users/codym/CAP/ai-starter-kit/yoda/data/sec-edgar-filings/AAPL/10-Q/0000320193-23-000077/full-submission/images/page_119.jpg: 640x512 (no detections), 103.1ms\n",
      "Speed: 0.7ms preprocess, 103.1ms inference, 0.2ms postprocess per image at shape (1, 3, 640, 640)\n",
      "\n",
      "image 1/1 /Users/codym/CAP/ai-starter-kit/yoda/data/sec-edgar-filings/AAPL/10-Q/0000320193-23-000077/full-submission/images/page_125.jpg: 640x512 (no detections), 96.7ms\n",
      "Speed: 0.4ms preprocess, 96.7ms inference, 0.2ms postprocess per image at shape (1, 3, 640, 640)\n",
      "\n"
     ]
    },
    {
     "name": "stdout",
     "output_type": "stream",
     "text": [
      "Cropping tables from /Users/codym/CAP/ai-starter-kit/yoda/data/sec-edgar-filings/AAPL/10-Q/0000320193-23-000077/full-submission/images/page_125.jpg\n",
      "Cropping tables from /Users/codym/CAP/ai-starter-kit/yoda/data/sec-edgar-filings/AAPL/10-Q/0000320193-23-000077/full-submission/images/page_131.jpg\n"
     ]
    },
    {
     "name": "stderr",
     "output_type": "stream",
     "text": [
      "image 1/1 /Users/codym/CAP/ai-starter-kit/yoda/data/sec-edgar-filings/AAPL/10-Q/0000320193-23-000077/full-submission/images/page_131.jpg: 640x512 (no detections), 99.4ms\n",
      "Speed: 0.3ms preprocess, 99.4ms inference, 0.2ms postprocess per image at shape (1, 3, 640, 640)\n",
      "\n",
      "image 1/1 /Users/codym/CAP/ai-starter-kit/yoda/data/sec-edgar-filings/AAPL/10-Q/0000320193-23-000077/full-submission/images/page_130.jpg: 640x512 (no detections), 97.5ms\n",
      "Speed: 0.7ms preprocess, 97.5ms inference, 0.2ms postprocess per image at shape (1, 3, 640, 640)\n",
      "\n"
     ]
    },
    {
     "name": "stdout",
     "output_type": "stream",
     "text": [
      "Cropping tables from /Users/codym/CAP/ai-starter-kit/yoda/data/sec-edgar-filings/AAPL/10-Q/0000320193-23-000077/full-submission/images/page_130.jpg\n",
      "Cropping tables from /Users/codym/CAP/ai-starter-kit/yoda/data/sec-edgar-filings/AAPL/10-Q/0000320193-23-000077/full-submission/images/page_124.jpg\n"
     ]
    },
    {
     "name": "stderr",
     "output_type": "stream",
     "text": [
      "image 1/1 /Users/codym/CAP/ai-starter-kit/yoda/data/sec-edgar-filings/AAPL/10-Q/0000320193-23-000077/full-submission/images/page_124.jpg: 640x512 (no detections), 129.6ms\n",
      "Speed: 0.4ms preprocess, 129.6ms inference, 0.2ms postprocess per image at shape (1, 3, 640, 640)\n",
      "\n",
      "image 1/1 /Users/codym/CAP/ai-starter-kit/yoda/data/sec-edgar-filings/AAPL/10-Q/0000320193-23-000077/full-submission/images/page_118.jpg: 640x512 (no detections), 148.0ms\n",
      "Speed: 0.3ms preprocess, 148.0ms inference, 0.2ms postprocess per image at shape (1, 3, 640, 640)\n",
      "\n"
     ]
    },
    {
     "name": "stdout",
     "output_type": "stream",
     "text": [
      "Cropping tables from /Users/codym/CAP/ai-starter-kit/yoda/data/sec-edgar-filings/AAPL/10-Q/0000320193-23-000077/full-submission/images/page_118.jpg\n",
      "Cropping tables from /Users/codym/CAP/ai-starter-kit/yoda/data/sec-edgar-filings/AAPL/10-Q/0000320193-23-000077/full-submission/images/page_33.jpg\n"
     ]
    },
    {
     "name": "stderr",
     "output_type": "stream",
     "text": [
      "image 1/1 /Users/codym/CAP/ai-starter-kit/yoda/data/sec-edgar-filings/AAPL/10-Q/0000320193-23-000077/full-submission/images/page_33.jpg: 640x512 2 borderlesss, 102.2ms\n",
      "Speed: 0.2ms preprocess, 102.2ms inference, 0.4ms postprocess per image at shape (1, 3, 640, 640)\n",
      "\n",
      "image 1/1 /Users/codym/CAP/ai-starter-kit/yoda/data/sec-edgar-filings/AAPL/10-Q/0000320193-23-000077/full-submission/images/page_27.jpg: 640x512 (no detections), 108.0ms\n",
      "Speed: 0.5ms preprocess, 108.0ms inference, 0.2ms postprocess per image at shape (1, 3, 640, 640)\n",
      "\n"
     ]
    },
    {
     "name": "stdout",
     "output_type": "stream",
     "text": [
      "Cropping tables from /Users/codym/CAP/ai-starter-kit/yoda/data/sec-edgar-filings/AAPL/10-Q/0000320193-23-000077/full-submission/images/page_27.jpg\n",
      "Cropping tables from /Users/codym/CAP/ai-starter-kit/yoda/data/sec-edgar-filings/AAPL/10-Q/0000320193-23-000077/full-submission/images/page_23.jpg\n"
     ]
    },
    {
     "name": "stderr",
     "output_type": "stream",
     "text": [
      "image 1/1 /Users/codym/CAP/ai-starter-kit/yoda/data/sec-edgar-filings/AAPL/10-Q/0000320193-23-000077/full-submission/images/page_23.jpg: 640x512 (no detections), 156.2ms\n",
      "Speed: 0.4ms preprocess, 156.2ms inference, 0.2ms postprocess per image at shape (1, 3, 640, 640)\n",
      "\n",
      "image 1/1 /Users/codym/CAP/ai-starter-kit/yoda/data/sec-edgar-filings/AAPL/10-Q/0000320193-23-000077/full-submission/images/page_37.jpg: 640x512 3 borderlesss, 78.7ms\n",
      "Speed: 0.3ms preprocess, 78.7ms inference, 0.4ms postprocess per image at shape (1, 3, 640, 640)\n",
      "\n"
     ]
    },
    {
     "name": "stdout",
     "output_type": "stream",
     "text": [
      "Cropping tables from /Users/codym/CAP/ai-starter-kit/yoda/data/sec-edgar-filings/AAPL/10-Q/0000320193-23-000077/full-submission/images/page_37.jpg\n",
      "Cropping tables from /Users/codym/CAP/ai-starter-kit/yoda/data/sec-edgar-filings/AAPL/10-Q/0000320193-23-000077/full-submission/images/page_120.jpg\n"
     ]
    },
    {
     "name": "stderr",
     "output_type": "stream",
     "text": [
      "image 1/1 /Users/codym/CAP/ai-starter-kit/yoda/data/sec-edgar-filings/AAPL/10-Q/0000320193-23-000077/full-submission/images/page_120.jpg: 640x512 (no detections), 75.3ms\n",
      "Speed: 0.1ms preprocess, 75.3ms inference, 0.2ms postprocess per image at shape (1, 3, 640, 640)\n",
      "\n",
      "image 1/1 /Users/codym/CAP/ai-starter-kit/yoda/data/sec-edgar-filings/AAPL/10-Q/0000320193-23-000077/full-submission/images/page_134.jpg: 640x512 (no detections), 76.7ms\n",
      "Speed: 0.2ms preprocess, 76.7ms inference, 0.3ms postprocess per image at shape (1, 3, 640, 640)\n",
      "\n",
      "image 1/1 /Users/codym/CAP/ai-starter-kit/yoda/data/sec-edgar-filings/AAPL/10-Q/0000320193-23-000077/full-submission/images/page_108.jpg: 640x512 (no detections), 73.4ms\n",
      "Speed: 0.2ms preprocess, 73.4ms inference, 0.2ms postprocess per image at shape (1, 3, 640, 640)\n",
      "\n"
     ]
    },
    {
     "name": "stdout",
     "output_type": "stream",
     "text": [
      "Cropping tables from /Users/codym/CAP/ai-starter-kit/yoda/data/sec-edgar-filings/AAPL/10-Q/0000320193-23-000077/full-submission/images/page_134.jpg\n",
      "Cropping tables from /Users/codym/CAP/ai-starter-kit/yoda/data/sec-edgar-filings/AAPL/10-Q/0000320193-23-000077/full-submission/images/page_108.jpg\n",
      "Cropping tables from /Users/codym/CAP/ai-starter-kit/yoda/data/sec-edgar-filings/AAPL/10-Q/0000320193-23-000077/full-submission/images/page_109.jpg\n"
     ]
    },
    {
     "name": "stderr",
     "output_type": "stream",
     "text": [
      "image 1/1 /Users/codym/CAP/ai-starter-kit/yoda/data/sec-edgar-filings/AAPL/10-Q/0000320193-23-000077/full-submission/images/page_109.jpg: 640x512 (no detections), 87.7ms\n",
      "Speed: 0.6ms preprocess, 87.7ms inference, 0.2ms postprocess per image at shape (1, 3, 640, 640)\n",
      "\n",
      "image 1/1 /Users/codym/CAP/ai-starter-kit/yoda/data/sec-edgar-filings/AAPL/10-Q/0000320193-23-000077/full-submission/images/page_135.jpg: 640x512 (no detections), 101.0ms\n",
      "Speed: 0.8ms preprocess, 101.0ms inference, 0.2ms postprocess per image at shape (1, 3, 640, 640)\n",
      "\n"
     ]
    },
    {
     "name": "stdout",
     "output_type": "stream",
     "text": [
      "Cropping tables from /Users/codym/CAP/ai-starter-kit/yoda/data/sec-edgar-filings/AAPL/10-Q/0000320193-23-000077/full-submission/images/page_135.jpg\n",
      "Cropping tables from /Users/codym/CAP/ai-starter-kit/yoda/data/sec-edgar-filings/AAPL/10-Q/0000320193-23-000077/full-submission/images/page_121.jpg\n"
     ]
    },
    {
     "name": "stderr",
     "output_type": "stream",
     "text": [
      "image 1/1 /Users/codym/CAP/ai-starter-kit/yoda/data/sec-edgar-filings/AAPL/10-Q/0000320193-23-000077/full-submission/images/page_121.jpg: 640x512 (no detections), 91.3ms\n",
      "Speed: 0.3ms preprocess, 91.3ms inference, 0.2ms postprocess per image at shape (1, 3, 640, 640)\n",
      "\n",
      "image 1/1 /Users/codym/CAP/ai-starter-kit/yoda/data/sec-edgar-filings/AAPL/10-Q/0000320193-23-000077/full-submission/images/page_36.jpg: 640x512 3 borderlesss, 74.2ms\n",
      "Speed: 0.3ms preprocess, 74.2ms inference, 0.4ms postprocess per image at shape (1, 3, 640, 640)\n",
      "\n",
      "image 1/1 /Users/codym/CAP/ai-starter-kit/yoda/data/sec-edgar-filings/AAPL/10-Q/0000320193-23-000077/full-submission/images/page_22.jpg: 640x512 1 borderless, 65.8ms\n",
      "Speed: 0.2ms preprocess, 65.8ms inference, 0.4ms postprocess per image at shape (1, 3, 640, 640)\n",
      "\n"
     ]
    },
    {
     "name": "stdout",
     "output_type": "stream",
     "text": [
      "Cropping tables from /Users/codym/CAP/ai-starter-kit/yoda/data/sec-edgar-filings/AAPL/10-Q/0000320193-23-000077/full-submission/images/page_36.jpg\n",
      "Cropping tables from /Users/codym/CAP/ai-starter-kit/yoda/data/sec-edgar-filings/AAPL/10-Q/0000320193-23-000077/full-submission/images/page_22.jpg\n",
      "Cropping tables from /Users/codym/CAP/ai-starter-kit/yoda/data/sec-edgar-filings/AAPL/10-Q/0000320193-23-000077/full-submission/images/page_34.jpg\n"
     ]
    },
    {
     "name": "stderr",
     "output_type": "stream",
     "text": [
      "image 1/1 /Users/codym/CAP/ai-starter-kit/yoda/data/sec-edgar-filings/AAPL/10-Q/0000320193-23-000077/full-submission/images/page_34.jpg: 640x512 3 borderlesss, 71.9ms\n",
      "Speed: 0.3ms preprocess, 71.9ms inference, 0.4ms postprocess per image at shape (1, 3, 640, 640)\n",
      "\n",
      "image 1/1 /Users/codym/CAP/ai-starter-kit/yoda/data/sec-edgar-filings/AAPL/10-Q/0000320193-23-000077/full-submission/images/page_20.jpg: 640x512 (no detections), 78.0ms\n",
      "Speed: 1.0ms preprocess, 78.0ms inference, 0.2ms postprocess per image at shape (1, 3, 640, 640)\n",
      "\n",
      "image 1/1 /Users/codym/CAP/ai-starter-kit/yoda/data/sec-edgar-filings/AAPL/10-Q/0000320193-23-000077/full-submission/images/page_137.jpg: 640x512 (no detections), 80.1ms\n",
      "Speed: 0.2ms preprocess, 80.1ms inference, 0.2ms postprocess per image at shape (1, 3, 640, 640)\n",
      "\n"
     ]
    },
    {
     "name": "stdout",
     "output_type": "stream",
     "text": [
      "Cropping tables from /Users/codym/CAP/ai-starter-kit/yoda/data/sec-edgar-filings/AAPL/10-Q/0000320193-23-000077/full-submission/images/page_20.jpg\n",
      "Cropping tables from /Users/codym/CAP/ai-starter-kit/yoda/data/sec-edgar-filings/AAPL/10-Q/0000320193-23-000077/full-submission/images/page_137.jpg\n",
      "Cropping tables from /Users/codym/CAP/ai-starter-kit/yoda/data/sec-edgar-filings/AAPL/10-Q/0000320193-23-000077/full-submission/images/page_123.jpg\n"
     ]
    },
    {
     "name": "stderr",
     "output_type": "stream",
     "text": [
      "image 1/1 /Users/codym/CAP/ai-starter-kit/yoda/data/sec-edgar-filings/AAPL/10-Q/0000320193-23-000077/full-submission/images/page_123.jpg: 640x512 (no detections), 70.8ms\n",
      "Speed: 0.2ms preprocess, 70.8ms inference, 0.2ms postprocess per image at shape (1, 3, 640, 640)\n",
      "\n",
      "image 1/1 /Users/codym/CAP/ai-starter-kit/yoda/data/sec-edgar-filings/AAPL/10-Q/0000320193-23-000077/full-submission/images/page_122.jpg: 640x512 (no detections), 71.1ms\n",
      "Speed: 0.2ms preprocess, 71.1ms inference, 0.2ms postprocess per image at shape (1, 3, 640, 640)\n",
      "\n",
      "image 1/1 /Users/codym/CAP/ai-starter-kit/yoda/data/sec-edgar-filings/AAPL/10-Q/0000320193-23-000077/full-submission/images/page_136.jpg: 640x512 (no detections), 68.5ms\n",
      "Speed: 0.2ms preprocess, 68.5ms inference, 0.2ms postprocess per image at shape (1, 3, 640, 640)\n",
      "\n"
     ]
    },
    {
     "name": "stdout",
     "output_type": "stream",
     "text": [
      "Cropping tables from /Users/codym/CAP/ai-starter-kit/yoda/data/sec-edgar-filings/AAPL/10-Q/0000320193-23-000077/full-submission/images/page_122.jpg\n",
      "Cropping tables from /Users/codym/CAP/ai-starter-kit/yoda/data/sec-edgar-filings/AAPL/10-Q/0000320193-23-000077/full-submission/images/page_136.jpg\n",
      "Cropping tables from /Users/codym/CAP/ai-starter-kit/yoda/data/sec-edgar-filings/AAPL/10-Q/0000320193-23-000077/full-submission/images/page_21.jpg\n"
     ]
    },
    {
     "name": "stderr",
     "output_type": "stream",
     "text": [
      "image 1/1 /Users/codym/CAP/ai-starter-kit/yoda/data/sec-edgar-filings/AAPL/10-Q/0000320193-23-000077/full-submission/images/page_21.jpg: 640x512 (no detections), 93.7ms\n",
      "Speed: 0.3ms preprocess, 93.7ms inference, 0.2ms postprocess per image at shape (1, 3, 640, 640)\n",
      "\n",
      "image 1/1 /Users/codym/CAP/ai-starter-kit/yoda/data/sec-edgar-filings/AAPL/10-Q/0000320193-23-000077/full-submission/images/page_35.jpg: 640x512 3 borderlesss, 76.0ms\n",
      "Speed: 0.7ms preprocess, 76.0ms inference, 0.4ms postprocess per image at shape (1, 3, 640, 640)\n",
      "\n",
      "image 1/1 /Users/codym/CAP/ai-starter-kit/yoda/data/sec-edgar-filings/AAPL/10-Q/0000320193-23-000077/full-submission/images/page_38.jpg: 640x512 2 borderlesss, 72.6ms\n",
      "Speed: 1.4ms preprocess, 72.6ms inference, 0.4ms postprocess per image at shape (1, 3, 640, 640)\n"
     ]
    },
    {
     "name": "stdout",
     "output_type": "stream",
     "text": [
      "Cropping tables from /Users/codym/CAP/ai-starter-kit/yoda/data/sec-edgar-filings/AAPL/10-Q/0000320193-23-000077/full-submission/images/page_35.jpg\n",
      "Cropping tables from /Users/codym/CAP/ai-starter-kit/yoda/data/sec-edgar-filings/AAPL/10-Q/0000320193-23-000077/full-submission/images/page_38.jpg\n"
     ]
    },
    {
     "name": "stderr",
     "output_type": "stream",
     "text": [
      "\n",
      "image 1/1 /Users/codym/CAP/ai-starter-kit/yoda/data/sec-edgar-filings/AAPL/10-Q/0000320193-23-000077/full-submission/images/page_10.jpg: 640x512 2 borderlesss, 97.8ms\n",
      "Speed: 0.3ms preprocess, 97.8ms inference, 0.9ms postprocess per image at shape (1, 3, 640, 640)\n",
      "\n"
     ]
    },
    {
     "name": "stdout",
     "output_type": "stream",
     "text": [
      "Cropping tables from /Users/codym/CAP/ai-starter-kit/yoda/data/sec-edgar-filings/AAPL/10-Q/0000320193-23-000077/full-submission/images/page_10.jpg\n",
      "Cropping tables from /Users/codym/CAP/ai-starter-kit/yoda/data/sec-edgar-filings/AAPL/10-Q/0000320193-23-000077/full-submission/images/page_113.jpg\n"
     ]
    },
    {
     "name": "stderr",
     "output_type": "stream",
     "text": [
      "image 1/1 /Users/codym/CAP/ai-starter-kit/yoda/data/sec-edgar-filings/AAPL/10-Q/0000320193-23-000077/full-submission/images/page_113.jpg: 640x512 (no detections), 108.0ms\n",
      "Speed: 0.7ms preprocess, 108.0ms inference, 0.2ms postprocess per image at shape (1, 3, 640, 640)\n",
      "\n",
      "image 1/1 /Users/codym/CAP/ai-starter-kit/yoda/data/sec-edgar-filings/AAPL/10-Q/0000320193-23-000077/full-submission/images/page_107.jpg: 640x512 (no detections), 107.1ms\n",
      "Speed: 0.6ms preprocess, 107.1ms inference, 0.3ms postprocess per image at shape (1, 3, 640, 640)\n",
      "\n"
     ]
    },
    {
     "name": "stdout",
     "output_type": "stream",
     "text": [
      "Cropping tables from /Users/codym/CAP/ai-starter-kit/yoda/data/sec-edgar-filings/AAPL/10-Q/0000320193-23-000077/full-submission/images/page_107.jpg\n",
      "Cropping tables from /Users/codym/CAP/ai-starter-kit/yoda/data/sec-edgar-filings/AAPL/10-Q/0000320193-23-000077/full-submission/images/page_106.jpg\n"
     ]
    },
    {
     "name": "stderr",
     "output_type": "stream",
     "text": [
      "image 1/1 /Users/codym/CAP/ai-starter-kit/yoda/data/sec-edgar-filings/AAPL/10-Q/0000320193-23-000077/full-submission/images/page_106.jpg: 640x512 (no detections), 95.4ms\n",
      "Speed: 0.6ms preprocess, 95.4ms inference, 0.2ms postprocess per image at shape (1, 3, 640, 640)\n",
      "\n",
      "image 1/1 /Users/codym/CAP/ai-starter-kit/yoda/data/sec-edgar-filings/AAPL/10-Q/0000320193-23-000077/full-submission/images/page_112.jpg: 640x512 (no detections), 109.7ms\n",
      "Speed: 49.7ms preprocess, 109.7ms inference, 0.2ms postprocess per image at shape (1, 3, 640, 640)\n",
      "\n"
     ]
    },
    {
     "name": "stdout",
     "output_type": "stream",
     "text": [
      "Cropping tables from /Users/codym/CAP/ai-starter-kit/yoda/data/sec-edgar-filings/AAPL/10-Q/0000320193-23-000077/full-submission/images/page_112.jpg\n",
      "Cropping tables from /Users/codym/CAP/ai-starter-kit/yoda/data/sec-edgar-filings/AAPL/10-Q/0000320193-23-000077/full-submission/images/page_11.jpg\n"
     ]
    },
    {
     "name": "stderr",
     "output_type": "stream",
     "text": [
      "image 1/1 /Users/codym/CAP/ai-starter-kit/yoda/data/sec-edgar-filings/AAPL/10-Q/0000320193-23-000077/full-submission/images/page_11.jpg: 640x512 2 borderlesss, 74.8ms\n",
      "Speed: 0.2ms preprocess, 74.8ms inference, 0.4ms postprocess per image at shape (1, 3, 640, 640)\n",
      "\n",
      "image 1/1 /Users/codym/CAP/ai-starter-kit/yoda/data/sec-edgar-filings/AAPL/10-Q/0000320193-23-000077/full-submission/images/page_39.jpg: 640x512 2 borderlesss, 74.2ms\n",
      "Speed: 0.3ms preprocess, 74.2ms inference, 0.4ms postprocess per image at shape (1, 3, 640, 640)\n",
      "\n",
      "image 1/1 /Users/codym/CAP/ai-starter-kit/yoda/data/sec-edgar-filings/AAPL/10-Q/0000320193-23-000077/full-submission/images/page_13.jpg: 640x512 3 borderlesss, 70.5ms\n",
      "Speed: 4.7ms preprocess, 70.5ms inference, 0.4ms postprocess per image at shape (1, 3, 640, 640)\n",
      "\n"
     ]
    },
    {
     "name": "stdout",
     "output_type": "stream",
     "text": [
      "Cropping tables from /Users/codym/CAP/ai-starter-kit/yoda/data/sec-edgar-filings/AAPL/10-Q/0000320193-23-000077/full-submission/images/page_39.jpg\n",
      "Cropping tables from /Users/codym/CAP/ai-starter-kit/yoda/data/sec-edgar-filings/AAPL/10-Q/0000320193-23-000077/full-submission/images/page_13.jpg\n",
      "Cropping tables from /Users/codym/CAP/ai-starter-kit/yoda/data/sec-edgar-filings/AAPL/10-Q/0000320193-23-000077/full-submission/images/page_138.jpg\n"
     ]
    },
    {
     "name": "stderr",
     "output_type": "stream",
     "text": [
      "image 1/1 /Users/codym/CAP/ai-starter-kit/yoda/data/sec-edgar-filings/AAPL/10-Q/0000320193-23-000077/full-submission/images/page_138.jpg: 640x512 (no detections), 73.6ms\n",
      "Speed: 0.2ms preprocess, 73.6ms inference, 0.2ms postprocess per image at shape (1, 3, 640, 640)\n",
      "\n",
      "image 1/1 /Users/codym/CAP/ai-starter-kit/yoda/data/sec-edgar-filings/AAPL/10-Q/0000320193-23-000077/full-submission/images/page_104.jpg: 640x512 (no detections), 73.1ms\n",
      "Speed: 0.2ms preprocess, 73.1ms inference, 0.2ms postprocess per image at shape (1, 3, 640, 640)\n",
      "\n",
      "image 1/1 /Users/codym/CAP/ai-starter-kit/yoda/data/sec-edgar-filings/AAPL/10-Q/0000320193-23-000077/full-submission/images/page_110.jpg: 640x512 (no detections), 67.2ms\n",
      "Speed: 0.2ms preprocess, 67.2ms inference, 0.2ms postprocess per image at shape (1, 3, 640, 640)\n",
      "\n"
     ]
    },
    {
     "name": "stdout",
     "output_type": "stream",
     "text": [
      "Cropping tables from /Users/codym/CAP/ai-starter-kit/yoda/data/sec-edgar-filings/AAPL/10-Q/0000320193-23-000077/full-submission/images/page_104.jpg\n",
      "Cropping tables from /Users/codym/CAP/ai-starter-kit/yoda/data/sec-edgar-filings/AAPL/10-Q/0000320193-23-000077/full-submission/images/page_110.jpg\n",
      "Cropping tables from /Users/codym/CAP/ai-starter-kit/yoda/data/sec-edgar-filings/AAPL/10-Q/0000320193-23-000077/full-submission/images/page_111.jpg\n"
     ]
    },
    {
     "name": "stderr",
     "output_type": "stream",
     "text": [
      "image 1/1 /Users/codym/CAP/ai-starter-kit/yoda/data/sec-edgar-filings/AAPL/10-Q/0000320193-23-000077/full-submission/images/page_111.jpg: 640x512 (no detections), 82.6ms\n",
      "Speed: 0.2ms preprocess, 82.6ms inference, 0.2ms postprocess per image at shape (1, 3, 640, 640)\n",
      "\n",
      "image 1/1 /Users/codym/CAP/ai-starter-kit/yoda/data/sec-edgar-filings/AAPL/10-Q/0000320193-23-000077/full-submission/images/page_105.jpg: 640x512 (no detections), 93.9ms\n",
      "Speed: 0.5ms preprocess, 93.9ms inference, 0.2ms postprocess per image at shape (1, 3, 640, 640)\n",
      "\n"
     ]
    },
    {
     "name": "stdout",
     "output_type": "stream",
     "text": [
      "Cropping tables from /Users/codym/CAP/ai-starter-kit/yoda/data/sec-edgar-filings/AAPL/10-Q/0000320193-23-000077/full-submission/images/page_105.jpg\n",
      "Cropping tables from /Users/codym/CAP/ai-starter-kit/yoda/data/sec-edgar-filings/AAPL/10-Q/0000320193-23-000077/full-submission/images/page_139.jpg\n"
     ]
    },
    {
     "name": "stderr",
     "output_type": "stream",
     "text": [
      "image 1/1 /Users/codym/CAP/ai-starter-kit/yoda/data/sec-edgar-filings/AAPL/10-Q/0000320193-23-000077/full-submission/images/page_139.jpg: 640x512 (no detections), 95.2ms\n",
      "Speed: 0.2ms preprocess, 95.2ms inference, 0.2ms postprocess per image at shape (1, 3, 640, 640)\n",
      "\n",
      "image 1/1 /Users/codym/CAP/ai-starter-kit/yoda/data/sec-edgar-filings/AAPL/10-Q/0000320193-23-000077/full-submission/images/page_12.jpg: 640x512 1 borderless, 98.0ms\n",
      "Speed: 0.5ms preprocess, 98.0ms inference, 0.4ms postprocess per image at shape (1, 3, 640, 640)\n",
      "\n"
     ]
    },
    {
     "name": "stdout",
     "output_type": "stream",
     "text": [
      "Cropping tables from /Users/codym/CAP/ai-starter-kit/yoda/data/sec-edgar-filings/AAPL/10-Q/0000320193-23-000077/full-submission/images/page_12.jpg\n",
      "Cropping tables from /Users/codym/CAP/ai-starter-kit/yoda/data/sec-edgar-filings/AAPL/10-Q/0000320193-23-000077/full-submission/images/page_16.jpg\n"
     ]
    },
    {
     "name": "stderr",
     "output_type": "stream",
     "text": [
      "image 1/1 /Users/codym/CAP/ai-starter-kit/yoda/data/sec-edgar-filings/AAPL/10-Q/0000320193-23-000077/full-submission/images/page_16.jpg: 640x512 1 borderless, 94.5ms\n",
      "Speed: 0.6ms preprocess, 94.5ms inference, 0.4ms postprocess per image at shape (1, 3, 640, 640)\n",
      "\n",
      "image 1/1 /Users/codym/CAP/ai-starter-kit/yoda/data/sec-edgar-filings/AAPL/10-Q/0000320193-23-000077/full-submission/images/page_101.jpg: 640x512 (no detections), 85.2ms\n",
      "Speed: 0.2ms preprocess, 85.2ms inference, 0.2ms postprocess per image at shape (1, 3, 640, 640)\n",
      "\n"
     ]
    },
    {
     "name": "stdout",
     "output_type": "stream",
     "text": [
      "Cropping tables from /Users/codym/CAP/ai-starter-kit/yoda/data/sec-edgar-filings/AAPL/10-Q/0000320193-23-000077/full-submission/images/page_101.jpg\n",
      "Cropping tables from /Users/codym/CAP/ai-starter-kit/yoda/data/sec-edgar-filings/AAPL/10-Q/0000320193-23-000077/full-submission/images/page_115.jpg\n"
     ]
    },
    {
     "name": "stderr",
     "output_type": "stream",
     "text": [
      "image 1/1 /Users/codym/CAP/ai-starter-kit/yoda/data/sec-edgar-filings/AAPL/10-Q/0000320193-23-000077/full-submission/images/page_115.jpg: 640x512 (no detections), 90.7ms\n",
      "Speed: 0.5ms preprocess, 90.7ms inference, 0.2ms postprocess per image at shape (1, 3, 640, 640)\n",
      "\n",
      "image 1/1 /Users/codym/CAP/ai-starter-kit/yoda/data/sec-edgar-filings/AAPL/10-Q/0000320193-23-000077/full-submission/images/page_129.jpg: 640x512 (no detections), 92.1ms\n",
      "Speed: 0.6ms preprocess, 92.1ms inference, 0.2ms postprocess per image at shape (1, 3, 640, 640)\n",
      "\n"
     ]
    },
    {
     "name": "stdout",
     "output_type": "stream",
     "text": [
      "Cropping tables from /Users/codym/CAP/ai-starter-kit/yoda/data/sec-edgar-filings/AAPL/10-Q/0000320193-23-000077/full-submission/images/page_129.jpg\n",
      "Cropping tables from /Users/codym/CAP/ai-starter-kit/yoda/data/sec-edgar-filings/AAPL/10-Q/0000320193-23-000077/full-submission/images/page_128.jpg\n"
     ]
    },
    {
     "name": "stderr",
     "output_type": "stream",
     "text": [
      "image 1/1 /Users/codym/CAP/ai-starter-kit/yoda/data/sec-edgar-filings/AAPL/10-Q/0000320193-23-000077/full-submission/images/page_128.jpg: 640x512 (no detections), 95.4ms\n",
      "Speed: 0.8ms preprocess, 95.4ms inference, 0.2ms postprocess per image at shape (1, 3, 640, 640)\n",
      "\n",
      "image 1/1 /Users/codym/CAP/ai-starter-kit/yoda/data/sec-edgar-filings/AAPL/10-Q/0000320193-23-000077/full-submission/images/page_114.jpg: 640x512 (no detections), 92.1ms\n",
      "Speed: 0.6ms preprocess, 92.1ms inference, 0.2ms postprocess per image at shape (1, 3, 640, 640)\n",
      "\n"
     ]
    },
    {
     "name": "stdout",
     "output_type": "stream",
     "text": [
      "Cropping tables from /Users/codym/CAP/ai-starter-kit/yoda/data/sec-edgar-filings/AAPL/10-Q/0000320193-23-000077/full-submission/images/page_114.jpg\n",
      "Cropping tables from /Users/codym/CAP/ai-starter-kit/yoda/data/sec-edgar-filings/AAPL/10-Q/0000320193-23-000077/full-submission/images/page_100.jpg\n"
     ]
    },
    {
     "name": "stderr",
     "output_type": "stream",
     "text": [
      "image 1/1 /Users/codym/CAP/ai-starter-kit/yoda/data/sec-edgar-filings/AAPL/10-Q/0000320193-23-000077/full-submission/images/page_100.jpg: 640x512 (no detections), 87.8ms\n",
      "Speed: 0.4ms preprocess, 87.8ms inference, 0.3ms postprocess per image at shape (1, 3, 640, 640)\n",
      "\n",
      "image 1/1 /Users/codym/CAP/ai-starter-kit/yoda/data/sec-edgar-filings/AAPL/10-Q/0000320193-23-000077/full-submission/images/page_17.jpg: 640x512 1 borderless, 99.3ms\n",
      "Speed: 0.3ms preprocess, 99.3ms inference, 0.6ms postprocess per image at shape (1, 3, 640, 640)\n",
      "\n"
     ]
    },
    {
     "name": "stdout",
     "output_type": "stream",
     "text": [
      "Cropping tables from /Users/codym/CAP/ai-starter-kit/yoda/data/sec-edgar-filings/AAPL/10-Q/0000320193-23-000077/full-submission/images/page_17.jpg\n",
      "Cropping tables from /Users/codym/CAP/ai-starter-kit/yoda/data/sec-edgar-filings/AAPL/10-Q/0000320193-23-000077/full-submission/images/page_15.jpg\n"
     ]
    },
    {
     "name": "stderr",
     "output_type": "stream",
     "text": [
      "image 1/1 /Users/codym/CAP/ai-starter-kit/yoda/data/sec-edgar-filings/AAPL/10-Q/0000320193-23-000077/full-submission/images/page_15.jpg: 640x512 (no detections), 113.8ms\n",
      "Speed: 0.6ms preprocess, 113.8ms inference, 0.2ms postprocess per image at shape (1, 3, 640, 640)\n",
      "\n",
      "image 1/1 /Users/codym/CAP/ai-starter-kit/yoda/data/sec-edgar-filings/AAPL/10-Q/0000320193-23-000077/full-submission/images/page_29.jpg: 640x512 1 borderless, 88.7ms\n",
      "Speed: 0.7ms preprocess, 88.7ms inference, 0.4ms postprocess per image at shape (1, 3, 640, 640)\n",
      "\n"
     ]
    },
    {
     "name": "stdout",
     "output_type": "stream",
     "text": [
      "Cropping tables from /Users/codym/CAP/ai-starter-kit/yoda/data/sec-edgar-filings/AAPL/10-Q/0000320193-23-000077/full-submission/images/page_29.jpg\n",
      "Cropping tables from /Users/codym/CAP/ai-starter-kit/yoda/data/sec-edgar-filings/AAPL/10-Q/0000320193-23-000077/full-submission/images/page_116.jpg\n"
     ]
    },
    {
     "name": "stderr",
     "output_type": "stream",
     "text": [
      "image 1/1 /Users/codym/CAP/ai-starter-kit/yoda/data/sec-edgar-filings/AAPL/10-Q/0000320193-23-000077/full-submission/images/page_116.jpg: 640x512 (no detections), 186.7ms\n",
      "Speed: 0.6ms preprocess, 186.7ms inference, 0.3ms postprocess per image at shape (1, 3, 640, 640)\n",
      "\n",
      "image 1/1 /Users/codym/CAP/ai-starter-kit/yoda/data/sec-edgar-filings/AAPL/10-Q/0000320193-23-000077/full-submission/images/page_102.jpg: 640x512 (no detections), 93.6ms\n",
      "Speed: 0.3ms preprocess, 93.6ms inference, 0.2ms postprocess per image at shape (1, 3, 640, 640)\n",
      "\n"
     ]
    },
    {
     "name": "stdout",
     "output_type": "stream",
     "text": [
      "Cropping tables from /Users/codym/CAP/ai-starter-kit/yoda/data/sec-edgar-filings/AAPL/10-Q/0000320193-23-000077/full-submission/images/page_102.jpg\n",
      "Cropping tables from /Users/codym/CAP/ai-starter-kit/yoda/data/sec-edgar-filings/AAPL/10-Q/0000320193-23-000077/full-submission/images/page_103.jpg\n"
     ]
    },
    {
     "name": "stderr",
     "output_type": "stream",
     "text": [
      "image 1/1 /Users/codym/CAP/ai-starter-kit/yoda/data/sec-edgar-filings/AAPL/10-Q/0000320193-23-000077/full-submission/images/page_103.jpg: 640x512 (no detections), 94.0ms\n",
      "Speed: 0.5ms preprocess, 94.0ms inference, 0.2ms postprocess per image at shape (1, 3, 640, 640)\n",
      "\n",
      "image 1/1 /Users/codym/CAP/ai-starter-kit/yoda/data/sec-edgar-filings/AAPL/10-Q/0000320193-23-000077/full-submission/images/page_117.jpg: 640x512 (no detections), 86.7ms\n",
      "Speed: 0.4ms preprocess, 86.7ms inference, 0.2ms postprocess per image at shape (1, 3, 640, 640)\n",
      "\n"
     ]
    },
    {
     "name": "stdout",
     "output_type": "stream",
     "text": [
      "Cropping tables from /Users/codym/CAP/ai-starter-kit/yoda/data/sec-edgar-filings/AAPL/10-Q/0000320193-23-000077/full-submission/images/page_117.jpg\n",
      "Cropping tables from /Users/codym/CAP/ai-starter-kit/yoda/data/sec-edgar-filings/AAPL/10-Q/0000320193-23-000077/full-submission/images/page_28.jpg\n"
     ]
    },
    {
     "name": "stderr",
     "output_type": "stream",
     "text": [
      "image 1/1 /Users/codym/CAP/ai-starter-kit/yoda/data/sec-edgar-filings/AAPL/10-Q/0000320193-23-000077/full-submission/images/page_28.jpg: 640x512 (no detections), 79.7ms\n",
      "Speed: 0.2ms preprocess, 79.7ms inference, 0.2ms postprocess per image at shape (1, 3, 640, 640)\n",
      "\n",
      "image 1/1 /Users/codym/CAP/ai-starter-kit/yoda/data/sec-edgar-filings/AAPL/10-Q/0000320193-23-000077/full-submission/images/page_14.jpg: 640x512 2 borderlesss, 92.8ms\n",
      "Speed: 0.3ms preprocess, 92.8ms inference, 0.7ms postprocess per image at shape (1, 3, 640, 640)\n",
      "\n"
     ]
    },
    {
     "name": "stdout",
     "output_type": "stream",
     "text": [
      "Cropping tables from /Users/codym/CAP/ai-starter-kit/yoda/data/sec-edgar-filings/AAPL/10-Q/0000320193-23-000077/full-submission/images/page_14.jpg\n",
      "Cropping tables from /Users/codym/CAP/ai-starter-kit/yoda/data/sec-edgar-filings/AAPL/10-Q/0000320193-23-000077/full-submission/images/page_98.jpg\n"
     ]
    },
    {
     "name": "stderr",
     "output_type": "stream",
     "text": [
      "image 1/1 /Users/codym/CAP/ai-starter-kit/yoda/data/sec-edgar-filings/AAPL/10-Q/0000320193-23-000077/full-submission/images/page_98.jpg: 640x512 (no detections), 99.4ms\n",
      "Speed: 0.3ms preprocess, 99.4ms inference, 0.2ms postprocess per image at shape (1, 3, 640, 640)\n",
      "\n",
      "image 1/1 /Users/codym/CAP/ai-starter-kit/yoda/data/sec-edgar-filings/AAPL/10-Q/0000320193-23-000077/full-submission/images/page_73.jpg: 640x512 (no detections), 91.6ms\n",
      "Speed: 0.5ms preprocess, 91.6ms inference, 0.2ms postprocess per image at shape (1, 3, 640, 640)\n",
      "\n"
     ]
    },
    {
     "name": "stdout",
     "output_type": "stream",
     "text": [
      "Cropping tables from /Users/codym/CAP/ai-starter-kit/yoda/data/sec-edgar-filings/AAPL/10-Q/0000320193-23-000077/full-submission/images/page_73.jpg\n",
      "Cropping tables from /Users/codym/CAP/ai-starter-kit/yoda/data/sec-edgar-filings/AAPL/10-Q/0000320193-23-000077/full-submission/images/page_67.jpg\n"
     ]
    },
    {
     "name": "stderr",
     "output_type": "stream",
     "text": [
      "image 1/1 /Users/codym/CAP/ai-starter-kit/yoda/data/sec-edgar-filings/AAPL/10-Q/0000320193-23-000077/full-submission/images/page_67.jpg: 640x512 (no detections), 95.8ms\n",
      "Speed: 0.3ms preprocess, 95.8ms inference, 0.2ms postprocess per image at shape (1, 3, 640, 640)\n",
      "\n",
      "image 1/1 /Users/codym/CAP/ai-starter-kit/yoda/data/sec-edgar-filings/AAPL/10-Q/0000320193-23-000077/full-submission/images/page_158.jpg: 640x512 (no detections), 91.2ms\n",
      "Speed: 0.2ms preprocess, 91.2ms inference, 0.2ms postprocess per image at shape (1, 3, 640, 640)\n",
      "\n"
     ]
    },
    {
     "name": "stdout",
     "output_type": "stream",
     "text": [
      "Cropping tables from /Users/codym/CAP/ai-starter-kit/yoda/data/sec-edgar-filings/AAPL/10-Q/0000320193-23-000077/full-submission/images/page_158.jpg\n",
      "Cropping tables from /Users/codym/CAP/ai-starter-kit/yoda/data/sec-edgar-filings/AAPL/10-Q/0000320193-23-000077/full-submission/images/page_159.jpg\n"
     ]
    },
    {
     "name": "stderr",
     "output_type": "stream",
     "text": [
      "image 1/1 /Users/codym/CAP/ai-starter-kit/yoda/data/sec-edgar-filings/AAPL/10-Q/0000320193-23-000077/full-submission/images/page_159.jpg: 640x512 (no detections), 84.5ms\n",
      "Speed: 0.3ms preprocess, 84.5ms inference, 0.2ms postprocess per image at shape (1, 3, 640, 640)\n",
      "\n",
      "image 1/1 /Users/codym/CAP/ai-starter-kit/yoda/data/sec-edgar-filings/AAPL/10-Q/0000320193-23-000077/full-submission/images/page_66.jpg: 640x512 (no detections), 84.9ms\n",
      "Speed: 0.5ms preprocess, 84.9ms inference, 0.2ms postprocess per image at shape (1, 3, 640, 640)\n",
      "\n"
     ]
    },
    {
     "name": "stdout",
     "output_type": "stream",
     "text": [
      "Cropping tables from /Users/codym/CAP/ai-starter-kit/yoda/data/sec-edgar-filings/AAPL/10-Q/0000320193-23-000077/full-submission/images/page_66.jpg\n",
      "Cropping tables from /Users/codym/CAP/ai-starter-kit/yoda/data/sec-edgar-filings/AAPL/10-Q/0000320193-23-000077/full-submission/images/page_72.jpg\n"
     ]
    },
    {
     "name": "stderr",
     "output_type": "stream",
     "text": [
      "image 1/1 /Users/codym/CAP/ai-starter-kit/yoda/data/sec-edgar-filings/AAPL/10-Q/0000320193-23-000077/full-submission/images/page_72.jpg: 640x512 (no detections), 89.2ms\n",
      "Speed: 0.2ms preprocess, 89.2ms inference, 0.5ms postprocess per image at shape (1, 3, 640, 640)\n",
      "\n",
      "image 1/1 /Users/codym/CAP/ai-starter-kit/yoda/data/sec-edgar-filings/AAPL/10-Q/0000320193-23-000077/full-submission/images/page_99.jpg: 640x512 (no detections), 93.6ms\n",
      "Speed: 0.6ms preprocess, 93.6ms inference, 0.2ms postprocess per image at shape (1, 3, 640, 640)\n",
      "\n"
     ]
    },
    {
     "name": "stdout",
     "output_type": "stream",
     "text": [
      "Cropping tables from /Users/codym/CAP/ai-starter-kit/yoda/data/sec-edgar-filings/AAPL/10-Q/0000320193-23-000077/full-submission/images/page_99.jpg\n",
      "Cropping tables from /Users/codym/CAP/ai-starter-kit/yoda/data/sec-edgar-filings/AAPL/10-Q/0000320193-23-000077/full-submission/images/page_58.jpg\n"
     ]
    },
    {
     "name": "stderr",
     "output_type": "stream",
     "text": [
      "image 1/1 /Users/codym/CAP/ai-starter-kit/yoda/data/sec-edgar-filings/AAPL/10-Q/0000320193-23-000077/full-submission/images/page_58.jpg: 640x512 (no detections), 93.3ms\n",
      "Speed: 0.4ms preprocess, 93.3ms inference, 0.3ms postprocess per image at shape (1, 3, 640, 640)\n",
      "\n",
      "image 1/1 /Users/codym/CAP/ai-starter-kit/yoda/data/sec-edgar-filings/AAPL/10-Q/0000320193-23-000077/full-submission/images/page_64.jpg: 640x512 (no detections), 82.5ms\n",
      "Speed: 0.4ms preprocess, 82.5ms inference, 0.2ms postprocess per image at shape (1, 3, 640, 640)\n",
      "\n"
     ]
    },
    {
     "name": "stdout",
     "output_type": "stream",
     "text": [
      "Cropping tables from /Users/codym/CAP/ai-starter-kit/yoda/data/sec-edgar-filings/AAPL/10-Q/0000320193-23-000077/full-submission/images/page_64.jpg\n",
      "Cropping tables from /Users/codym/CAP/ai-starter-kit/yoda/data/sec-edgar-filings/AAPL/10-Q/0000320193-23-000077/full-submission/images/page_70.jpg\n"
     ]
    },
    {
     "name": "stderr",
     "output_type": "stream",
     "text": [
      "image 1/1 /Users/codym/CAP/ai-starter-kit/yoda/data/sec-edgar-filings/AAPL/10-Q/0000320193-23-000077/full-submission/images/page_70.jpg: 640x512 (no detections), 76.8ms\n",
      "Speed: 0.7ms preprocess, 76.8ms inference, 0.2ms postprocess per image at shape (1, 3, 640, 640)\n",
      "\n",
      "image 1/1 /Users/codym/CAP/ai-starter-kit/yoda/data/sec-edgar-filings/AAPL/10-Q/0000320193-23-000077/full-submission/images/page_8.jpg: 640x512 2 borderlesss, 75.2ms\n",
      "Speed: 0.3ms preprocess, 75.2ms inference, 0.4ms postprocess per image at shape (1, 3, 640, 640)\n",
      "\n",
      "image 1/1 /Users/codym/CAP/ai-starter-kit/yoda/data/sec-edgar-filings/AAPL/10-Q/0000320193-23-000077/full-submission/images/page_9.jpg: 640x512 2 borderlesss, 71.2ms\n",
      "Speed: 0.2ms preprocess, 71.2ms inference, 0.4ms postprocess per image at shape (1, 3, 640, 640)\n",
      "\n"
     ]
    },
    {
     "name": "stdout",
     "output_type": "stream",
     "text": [
      "Cropping tables from /Users/codym/CAP/ai-starter-kit/yoda/data/sec-edgar-filings/AAPL/10-Q/0000320193-23-000077/full-submission/images/page_8.jpg\n",
      "Cropping tables from /Users/codym/CAP/ai-starter-kit/yoda/data/sec-edgar-filings/AAPL/10-Q/0000320193-23-000077/full-submission/images/page_9.jpg\n",
      "Cropping tables from /Users/codym/CAP/ai-starter-kit/yoda/data/sec-edgar-filings/AAPL/10-Q/0000320193-23-000077/full-submission/images/page_71.jpg\n"
     ]
    },
    {
     "name": "stderr",
     "output_type": "stream",
     "text": [
      "image 1/1 /Users/codym/CAP/ai-starter-kit/yoda/data/sec-edgar-filings/AAPL/10-Q/0000320193-23-000077/full-submission/images/page_71.jpg: 640x512 (no detections), 71.9ms\n",
      "Speed: 0.3ms preprocess, 71.9ms inference, 0.2ms postprocess per image at shape (1, 3, 640, 640)\n",
      "\n",
      "image 1/1 /Users/codym/CAP/ai-starter-kit/yoda/data/sec-edgar-filings/AAPL/10-Q/0000320193-23-000077/full-submission/images/page_65.jpg: 640x512 (no detections), 74.9ms\n",
      "Speed: 0.9ms preprocess, 74.9ms inference, 0.2ms postprocess per image at shape (1, 3, 640, 640)\n",
      "\n",
      "image 1/1 /Users/codym/CAP/ai-starter-kit/yoda/data/sec-edgar-filings/AAPL/10-Q/0000320193-23-000077/full-submission/images/page_59.jpg: 640x512 (no detections), 77.4ms\n",
      "Speed: 0.2ms preprocess, 77.4ms inference, 0.2ms postprocess per image at shape (1, 3, 640, 640)\n",
      "\n"
     ]
    },
    {
     "name": "stdout",
     "output_type": "stream",
     "text": [
      "Cropping tables from /Users/codym/CAP/ai-starter-kit/yoda/data/sec-edgar-filings/AAPL/10-Q/0000320193-23-000077/full-submission/images/page_65.jpg\n",
      "Cropping tables from /Users/codym/CAP/ai-starter-kit/yoda/data/sec-edgar-filings/AAPL/10-Q/0000320193-23-000077/full-submission/images/page_59.jpg\n",
      "Cropping tables from /Users/codym/CAP/ai-starter-kit/yoda/data/sec-edgar-filings/AAPL/10-Q/0000320193-23-000077/full-submission/images/page_61.jpg\n"
     ]
    },
    {
     "name": "stderr",
     "output_type": "stream",
     "text": [
      "image 1/1 /Users/codym/CAP/ai-starter-kit/yoda/data/sec-edgar-filings/AAPL/10-Q/0000320193-23-000077/full-submission/images/page_61.jpg: 640x512 (no detections), 89.0ms\n",
      "Speed: 0.5ms preprocess, 89.0ms inference, 0.2ms postprocess per image at shape (1, 3, 640, 640)\n",
      "\n",
      "image 1/1 /Users/codym/CAP/ai-starter-kit/yoda/data/sec-edgar-filings/AAPL/10-Q/0000320193-23-000077/full-submission/images/page_75.jpg: 640x512 (no detections), 98.2ms\n",
      "Speed: 0.4ms preprocess, 98.2ms inference, 0.2ms postprocess per image at shape (1, 3, 640, 640)\n",
      "\n"
     ]
    },
    {
     "name": "stdout",
     "output_type": "stream",
     "text": [
      "Cropping tables from /Users/codym/CAP/ai-starter-kit/yoda/data/sec-edgar-filings/AAPL/10-Q/0000320193-23-000077/full-submission/images/page_75.jpg\n",
      "Cropping tables from /Users/codym/CAP/ai-starter-kit/yoda/data/sec-edgar-filings/AAPL/10-Q/0000320193-23-000077/full-submission/images/page_49.jpg\n"
     ]
    },
    {
     "name": "stderr",
     "output_type": "stream",
     "text": [
      "image 1/1 /Users/codym/CAP/ai-starter-kit/yoda/data/sec-edgar-filings/AAPL/10-Q/0000320193-23-000077/full-submission/images/page_49.jpg: 640x512 2 borderlesss, 72.4ms\n",
      "Speed: 0.3ms preprocess, 72.4ms inference, 0.4ms postprocess per image at shape (1, 3, 640, 640)\n",
      "\n",
      "image 1/1 /Users/codym/CAP/ai-starter-kit/yoda/data/sec-edgar-filings/AAPL/10-Q/0000320193-23-000077/full-submission/images/page_48.jpg: 640x512 3 borderlesss, 66.8ms\n",
      "Speed: 0.3ms preprocess, 66.8ms inference, 0.4ms postprocess per image at shape (1, 3, 640, 640)\n",
      "\n",
      "image 1/1 /Users/codym/CAP/ai-starter-kit/yoda/data/sec-edgar-filings/AAPL/10-Q/0000320193-23-000077/full-submission/images/page_74.jpg: 640x512 (no detections), 66.8ms\n",
      "Speed: 0.3ms preprocess, 66.8ms inference, 0.2ms postprocess per image at shape (1, 3, 640, 640)\n",
      "\n"
     ]
    },
    {
     "name": "stdout",
     "output_type": "stream",
     "text": [
      "Cropping tables from /Users/codym/CAP/ai-starter-kit/yoda/data/sec-edgar-filings/AAPL/10-Q/0000320193-23-000077/full-submission/images/page_48.jpg\n",
      "Cropping tables from /Users/codym/CAP/ai-starter-kit/yoda/data/sec-edgar-filings/AAPL/10-Q/0000320193-23-000077/full-submission/images/page_74.jpg\n",
      "Cropping tables from /Users/codym/CAP/ai-starter-kit/yoda/data/sec-edgar-filings/AAPL/10-Q/0000320193-23-000077/full-submission/images/page_60.jpg\n"
     ]
    },
    {
     "name": "stderr",
     "output_type": "stream",
     "text": [
      "image 1/1 /Users/codym/CAP/ai-starter-kit/yoda/data/sec-edgar-filings/AAPL/10-Q/0000320193-23-000077/full-submission/images/page_60.jpg: 640x512 (no detections), 74.6ms\n",
      "Speed: 0.2ms preprocess, 74.6ms inference, 0.2ms postprocess per image at shape (1, 3, 640, 640)\n",
      "\n",
      "image 1/1 /Users/codym/CAP/ai-starter-kit/yoda/data/sec-edgar-filings/AAPL/10-Q/0000320193-23-000077/full-submission/images/page_89.jpg: 640x512 (no detections), 66.8ms\n",
      "Speed: 0.2ms preprocess, 66.8ms inference, 0.2ms postprocess per image at shape (1, 3, 640, 640)\n",
      "\n",
      "image 1/1 /Users/codym/CAP/ai-starter-kit/yoda/data/sec-edgar-filings/AAPL/10-Q/0000320193-23-000077/full-submission/images/page_76.jpg: 640x512 (no detections), 65.5ms\n",
      "Speed: 0.2ms preprocess, 65.5ms inference, 0.2ms postprocess per image at shape (1, 3, 640, 640)\n",
      "\n"
     ]
    },
    {
     "name": "stdout",
     "output_type": "stream",
     "text": [
      "Cropping tables from /Users/codym/CAP/ai-starter-kit/yoda/data/sec-edgar-filings/AAPL/10-Q/0000320193-23-000077/full-submission/images/page_89.jpg\n",
      "Cropping tables from /Users/codym/CAP/ai-starter-kit/yoda/data/sec-edgar-filings/AAPL/10-Q/0000320193-23-000077/full-submission/images/page_76.jpg\n",
      "Cropping tables from /Users/codym/CAP/ai-starter-kit/yoda/data/sec-edgar-filings/AAPL/10-Q/0000320193-23-000077/full-submission/images/page_62.jpg\n"
     ]
    },
    {
     "name": "stderr",
     "output_type": "stream",
     "text": [
      "image 1/1 /Users/codym/CAP/ai-starter-kit/yoda/data/sec-edgar-filings/AAPL/10-Q/0000320193-23-000077/full-submission/images/page_62.jpg: 640x512 (no detections), 72.2ms\n",
      "Speed: 0.2ms preprocess, 72.2ms inference, 0.2ms postprocess per image at shape (1, 3, 640, 640)\n",
      "\n",
      "image 1/1 /Users/codym/CAP/ai-starter-kit/yoda/data/sec-edgar-filings/AAPL/10-Q/0000320193-23-000077/full-submission/images/page_149.jpg: 640x512 (no detections), 66.3ms\n",
      "Speed: 0.2ms preprocess, 66.3ms inference, 0.2ms postprocess per image at shape (1, 3, 640, 640)\n",
      "\n",
      "image 1/1 /Users/codym/CAP/ai-starter-kit/yoda/data/sec-edgar-filings/AAPL/10-Q/0000320193-23-000077/full-submission/images/page_148.jpg: 640x512 (no detections), 65.1ms\n",
      "Speed: 0.2ms preprocess, 65.1ms inference, 0.2ms postprocess per image at shape (1, 3, 640, 640)\n",
      "\n"
     ]
    },
    {
     "name": "stdout",
     "output_type": "stream",
     "text": [
      "Cropping tables from /Users/codym/CAP/ai-starter-kit/yoda/data/sec-edgar-filings/AAPL/10-Q/0000320193-23-000077/full-submission/images/page_149.jpg\n",
      "Cropping tables from /Users/codym/CAP/ai-starter-kit/yoda/data/sec-edgar-filings/AAPL/10-Q/0000320193-23-000077/full-submission/images/page_148.jpg\n",
      "Cropping tables from /Users/codym/CAP/ai-starter-kit/yoda/data/sec-edgar-filings/AAPL/10-Q/0000320193-23-000077/full-submission/images/page_63.jpg\n"
     ]
    },
    {
     "name": "stderr",
     "output_type": "stream",
     "text": [
      "image 1/1 /Users/codym/CAP/ai-starter-kit/yoda/data/sec-edgar-filings/AAPL/10-Q/0000320193-23-000077/full-submission/images/page_63.jpg: 640x512 (no detections), 73.9ms\n",
      "Speed: 0.2ms preprocess, 73.9ms inference, 0.2ms postprocess per image at shape (1, 3, 640, 640)\n",
      "\n",
      "image 1/1 /Users/codym/CAP/ai-starter-kit/yoda/data/sec-edgar-filings/AAPL/10-Q/0000320193-23-000077/full-submission/images/page_77.jpg: 640x512 (no detections), 67.8ms\n",
      "Speed: 0.2ms preprocess, 67.8ms inference, 0.2ms postprocess per image at shape (1, 3, 640, 640)\n",
      "\n",
      "image 1/1 /Users/codym/CAP/ai-starter-kit/yoda/data/sec-edgar-filings/AAPL/10-Q/0000320193-23-000077/full-submission/images/page_88.jpg: 640x512 (no detections), 65.0ms\n",
      "Speed: 0.2ms preprocess, 65.0ms inference, 0.2ms postprocess per image at shape (1, 3, 640, 640)\n",
      "\n"
     ]
    },
    {
     "name": "stdout",
     "output_type": "stream",
     "text": [
      "Cropping tables from /Users/codym/CAP/ai-starter-kit/yoda/data/sec-edgar-filings/AAPL/10-Q/0000320193-23-000077/full-submission/images/page_77.jpg\n",
      "Cropping tables from /Users/codym/CAP/ai-starter-kit/yoda/data/sec-edgar-filings/AAPL/10-Q/0000320193-23-000077/full-submission/images/page_88.jpg\n",
      "Cropping tables from /Users/codym/CAP/ai-starter-kit/yoda/data/sec-edgar-filings/AAPL/10-K/0000320193-23-000106/full-submission/cropped_tables/page_96_table_0.jpg\n"
     ]
    },
    {
     "name": "stderr",
     "output_type": "stream",
     "text": [
      "image 1/1 /Users/codym/CAP/ai-starter-kit/yoda/data/sec-edgar-filings/AAPL/10-K/0000320193-23-000106/full-submission/cropped_tables/page_96_table_0.jpg: 320x640 2 borderlesss, 49.3ms\n",
      "Speed: 0.1ms preprocess, 49.3ms inference, 0.3ms postprocess per image at shape (1, 3, 640, 640)\n",
      "\n",
      "image 1/1 /Users/codym/CAP/ai-starter-kit/yoda/data/sec-edgar-filings/AAPL/10-K/0000320193-23-000106/full-submission/cropped_tables/page_106_table_1.jpg: 224x640 1 borderless, 40.0ms\n",
      "Speed: 0.1ms preprocess, 40.0ms inference, 0.4ms postprocess per image at shape (1, 3, 640, 640)\n",
      "\n",
      "image 1/1 /Users/codym/CAP/ai-starter-kit/yoda/data/sec-edgar-filings/AAPL/10-K/0000320193-23-000106/full-submission/cropped_tables/page_45_table_0.jpg: 128x640 1 borderless, 22.2ms\n",
      "Speed: 0.1ms preprocess, 22.2ms inference, 0.3ms postprocess per image at shape (1, 3, 640, 640)\n",
      "\n",
      "image 1/1 /Users/codym/CAP/ai-starter-kit/yoda/data/sec-edgar-filings/AAPL/10-K/0000320193-23-000106/full-submission/cropped_tables/page_29_table_0.jpg: 288x640 1 borderless, 41.5ms\n",
      "Speed: 0.1ms preprocess, 41.5ms inference, 0.3ms postprocess per image at shape (1, 3, 640, 640)\n",
      "\n",
      "image 1/1 /Users/codym/CAP/ai-starter-kit/yoda/data/sec-edgar-filings/AAPL/10-K/0000320193-23-000106/full-submission/cropped_tables/page_59_table_0.jpg: 288x640 1 borderless, 42.4ms\n",
      "Speed: 0.1ms preprocess, 42.4ms inference, 0.3ms postprocess per image at shape (1, 3, 640, 640)\n",
      "\n"
     ]
    },
    {
     "name": "stdout",
     "output_type": "stream",
     "text": [
      "Cropping tables from /Users/codym/CAP/ai-starter-kit/yoda/data/sec-edgar-filings/AAPL/10-K/0000320193-23-000106/full-submission/cropped_tables/page_106_table_1.jpg\n",
      "Cropping tables from /Users/codym/CAP/ai-starter-kit/yoda/data/sec-edgar-filings/AAPL/10-K/0000320193-23-000106/full-submission/cropped_tables/page_45_table_0.jpg\n",
      "Cropping tables from /Users/codym/CAP/ai-starter-kit/yoda/data/sec-edgar-filings/AAPL/10-K/0000320193-23-000106/full-submission/cropped_tables/page_29_table_0.jpg\n",
      "Cropping tables from /Users/codym/CAP/ai-starter-kit/yoda/data/sec-edgar-filings/AAPL/10-K/0000320193-23-000106/full-submission/cropped_tables/page_59_table_0.jpg\n",
      "Cropping tables from /Users/codym/CAP/ai-starter-kit/yoda/data/sec-edgar-filings/AAPL/10-K/0000320193-23-000106/full-submission/cropped_tables/page_106_table_0.jpg\n"
     ]
    },
    {
     "name": "stderr",
     "output_type": "stream",
     "text": [
      "image 1/1 /Users/codym/CAP/ai-starter-kit/yoda/data/sec-edgar-filings/AAPL/10-K/0000320193-23-000106/full-submission/cropped_tables/page_106_table_0.jpg: 256x640 1 borderless, 43.9ms\n",
      "Speed: 0.1ms preprocess, 43.9ms inference, 0.4ms postprocess per image at shape (1, 3, 640, 640)\n",
      "\n",
      "image 1/1 /Users/codym/CAP/ai-starter-kit/yoda/data/sec-edgar-filings/AAPL/10-K/0000320193-23-000106/full-submission/cropped_tables/page_96_table_1.jpg: 96x640 1 borderless, 26.0ms\n",
      "Speed: 0.1ms preprocess, 26.0ms inference, 0.3ms postprocess per image at shape (1, 3, 640, 640)\n",
      "\n",
      "image 1/1 /Users/codym/CAP/ai-starter-kit/yoda/data/sec-edgar-filings/AAPL/10-K/0000320193-23-000106/full-submission/cropped_tables/page_106_table_2.jpg: 128x640 (no detections), 23.1ms\n",
      "Speed: 0.3ms preprocess, 23.1ms inference, 0.2ms postprocess per image at shape (1, 3, 640, 640)\n",
      "\n",
      "image 1/1 /Users/codym/CAP/ai-starter-kit/yoda/data/sec-edgar-filings/AAPL/10-K/0000320193-23-000106/full-submission/cropped_tables/page_96_table_2.jpg: 96x640 1 borderless, 17.5ms\n",
      "Speed: 0.1ms preprocess, 17.5ms inference, 0.3ms postprocess per image at shape (1, 3, 640, 640)\n",
      "\n",
      "image 1/1 /Users/codym/CAP/ai-starter-kit/yoda/data/sec-edgar-filings/AAPL/10-K/0000320193-23-000106/full-submission/cropped_tables/page_49_table_0.jpg: 128x640 1 borderless, 21.7ms\n",
      "Speed: 2.3ms preprocess, 21.7ms inference, 0.3ms postprocess per image at shape (1, 3, 640, 640)\n",
      "\n",
      "image 1/1 /Users/codym/CAP/ai-starter-kit/yoda/data/sec-edgar-filings/AAPL/10-K/0000320193-23-000106/full-submission/cropped_tables/page_39_table_0.jpg: 96x640 1 borderless, 17.9ms\n",
      "Speed: 0.0ms preprocess, 17.9ms inference, 0.3ms postprocess per image at shape (1, 3, 640, 640)\n",
      "\n",
      "image 1/1 /Users/codym/CAP/ai-starter-kit/yoda/data/sec-edgar-filings/AAPL/10-K/0000320193-23-000106/full-submission/cropped_tables/page_103_table_2.jpg: 192x640 2 borderlesss, 28.0ms\n",
      "Speed: 0.1ms preprocess, 28.0ms inference, 0.3ms postprocess per image at shape (1, 3, 640, 640)\n",
      "\n"
     ]
    },
    {
     "name": "stdout",
     "output_type": "stream",
     "text": [
      "Cropping tables from /Users/codym/CAP/ai-starter-kit/yoda/data/sec-edgar-filings/AAPL/10-K/0000320193-23-000106/full-submission/cropped_tables/page_96_table_1.jpg\n",
      "Cropping tables from /Users/codym/CAP/ai-starter-kit/yoda/data/sec-edgar-filings/AAPL/10-K/0000320193-23-000106/full-submission/cropped_tables/page_106_table_2.jpg\n",
      "Cropping tables from /Users/codym/CAP/ai-starter-kit/yoda/data/sec-edgar-filings/AAPL/10-K/0000320193-23-000106/full-submission/cropped_tables/page_96_table_2.jpg\n",
      "Cropping tables from /Users/codym/CAP/ai-starter-kit/yoda/data/sec-edgar-filings/AAPL/10-K/0000320193-23-000106/full-submission/cropped_tables/page_49_table_0.jpg\n",
      "Cropping tables from /Users/codym/CAP/ai-starter-kit/yoda/data/sec-edgar-filings/AAPL/10-K/0000320193-23-000106/full-submission/cropped_tables/page_39_table_0.jpg\n",
      "Cropping tables from /Users/codym/CAP/ai-starter-kit/yoda/data/sec-edgar-filings/AAPL/10-K/0000320193-23-000106/full-submission/cropped_tables/page_103_table_2.jpg\n",
      "Cropping tables from /Users/codym/CAP/ai-starter-kit/yoda/data/sec-edgar-filings/AAPL/10-K/0000320193-23-000106/full-submission/cropped_tables/page_116_table_0.jpg\n"
     ]
    },
    {
     "name": "stderr",
     "output_type": "stream",
     "text": [
      "image 1/1 /Users/codym/CAP/ai-starter-kit/yoda/data/sec-edgar-filings/AAPL/10-K/0000320193-23-000106/full-submission/cropped_tables/page_116_table_0.jpg: 576x640 (no detections), 74.2ms\n",
      "Speed: 0.2ms preprocess, 74.2ms inference, 0.3ms postprocess per image at shape (1, 3, 640, 640)\n",
      "\n",
      "image 1/1 /Users/codym/CAP/ai-starter-kit/yoda/data/sec-edgar-filings/AAPL/10-K/0000320193-23-000106/full-submission/cropped_tables/page_30_table_0.jpg: 192x640 1 borderless, 33.2ms\n",
      "Speed: 0.1ms preprocess, 33.2ms inference, 0.4ms postprocess per image at shape (1, 3, 640, 640)\n",
      "\n",
      "image 1/1 /Users/codym/CAP/ai-starter-kit/yoda/data/sec-edgar-filings/AAPL/10-K/0000320193-23-000106/full-submission/cropped_tables/page_40_table_0.jpg: 256x640 2 borderlesss, 50.7ms\n",
      "Speed: 0.1ms preprocess, 50.7ms inference, 0.4ms postprocess per image at shape (1, 3, 640, 640)\n",
      "\n",
      "image 1/1 /Users/codym/CAP/ai-starter-kit/yoda/data/sec-edgar-filings/AAPL/10-K/0000320193-23-000106/full-submission/cropped_tables/page_103_table_1.jpg: 224x640 1 borderless, 36.3ms\n",
      "Speed: 0.1ms preprocess, 36.3ms inference, 0.4ms postprocess per image at shape (1, 3, 640, 640)\n",
      "\n"
     ]
    },
    {
     "name": "stdout",
     "output_type": "stream",
     "text": [
      "Cropping tables from /Users/codym/CAP/ai-starter-kit/yoda/data/sec-edgar-filings/AAPL/10-K/0000320193-23-000106/full-submission/cropped_tables/page_30_table_0.jpg\n",
      "Cropping tables from /Users/codym/CAP/ai-starter-kit/yoda/data/sec-edgar-filings/AAPL/10-K/0000320193-23-000106/full-submission/cropped_tables/page_40_table_0.jpg\n",
      "Cropping tables from /Users/codym/CAP/ai-starter-kit/yoda/data/sec-edgar-filings/AAPL/10-K/0000320193-23-000106/full-submission/cropped_tables/page_103_table_1.jpg\n",
      "Cropping tables from /Users/codym/CAP/ai-starter-kit/yoda/data/sec-edgar-filings/AAPL/10-K/0000320193-23-000106/full-submission/cropped_tables/page_93_table_0.jpg\n"
     ]
    },
    {
     "name": "stderr",
     "output_type": "stream",
     "text": [
      "image 1/1 /Users/codym/CAP/ai-starter-kit/yoda/data/sec-edgar-filings/AAPL/10-K/0000320193-23-000106/full-submission/cropped_tables/page_93_table_0.jpg: 640x640 (no detections), 169.1ms\n",
      "Speed: 0.5ms preprocess, 169.1ms inference, 0.2ms postprocess per image at shape (1, 3, 640, 640)\n",
      "\n",
      "image 1/1 /Users/codym/CAP/ai-starter-kit/yoda/data/sec-edgar-filings/AAPL/10-K/0000320193-23-000106/full-submission/cropped_tables/page_103_table_0.jpg: 224x640 1 borderless, 65.5ms\n",
      "Speed: 0.1ms preprocess, 65.5ms inference, 0.8ms postprocess per image at shape (1, 3, 640, 640)\n",
      "\n",
      "image 1/1 /Users/codym/CAP/ai-starter-kit/yoda/data/sec-edgar-filings/AAPL/10-K/0000320193-23-000106/full-submission/cropped_tables/page_100_table_0.jpg: 160x640 1 borderless, 61.5ms\n",
      "Speed: 0.1ms preprocess, 61.5ms inference, 0.4ms postprocess per image at shape (1, 3, 640, 640)\n",
      "\n",
      "image 1/1 /Users/codym/CAP/ai-starter-kit/yoda/data/sec-edgar-filings/AAPL/10-K/0000320193-23-000106/full-submission/cropped_tables/page_33_table_0.jpg: 352x640 1 borderless, 49.6ms\n",
      "Speed: 0.3ms preprocess, 49.6ms inference, 0.4ms postprocess per image at shape (1, 3, 640, 640)\n"
     ]
    },
    {
     "name": "stdout",
     "output_type": "stream",
     "text": [
      "Cropping tables from /Users/codym/CAP/ai-starter-kit/yoda/data/sec-edgar-filings/AAPL/10-K/0000320193-23-000106/full-submission/cropped_tables/page_103_table_0.jpg\n",
      "Cropping tables from /Users/codym/CAP/ai-starter-kit/yoda/data/sec-edgar-filings/AAPL/10-K/0000320193-23-000106/full-submission/cropped_tables/page_100_table_0.jpg\n",
      "Cropping tables from /Users/codym/CAP/ai-starter-kit/yoda/data/sec-edgar-filings/AAPL/10-K/0000320193-23-000106/full-submission/cropped_tables/page_33_table_0.jpg\n"
     ]
    },
    {
     "name": "stderr",
     "output_type": "stream",
     "text": [
      "\n",
      "image 1/1 /Users/codym/CAP/ai-starter-kit/yoda/data/sec-edgar-filings/AAPL/10-K/0000320193-23-000106/full-submission/cropped_tables/page_99_table_1.jpg: 96x640 1 borderless, 23.1ms\n",
      "Speed: 0.1ms preprocess, 23.1ms inference, 0.3ms postprocess per image at shape (1, 3, 640, 640)\n",
      "\n",
      "image 1/1 /Users/codym/CAP/ai-starter-kit/yoda/data/sec-edgar-filings/AAPL/10-K/0000320193-23-000106/full-submission/cropped_tables/page_99_table_0.jpg: 160x640 1 borderless, 26.6ms\n",
      "Speed: 0.1ms preprocess, 26.6ms inference, 0.3ms postprocess per image at shape (1, 3, 640, 640)\n",
      "\n",
      "image 1/1 /Users/codym/CAP/ai-starter-kit/yoda/data/sec-edgar-filings/AAPL/10-K/0000320193-23-000106/full-submission/cropped_tables/page_95_table_2.jpg: 128x640 1 borderless, 20.7ms\n",
      "Speed: 0.1ms preprocess, 20.7ms inference, 0.3ms postprocess per image at shape (1, 3, 640, 640)\n",
      "\n",
      "image 1/1 /Users/codym/CAP/ai-starter-kit/yoda/data/sec-edgar-filings/AAPL/10-K/0000320193-23-000106/full-submission/cropped_tables/page_23_table_0.jpg: 224x640 1 borderless, 31.9ms\n",
      "Speed: 0.1ms preprocess, 31.9ms inference, 0.3ms postprocess per image at shape (1, 3, 640, 640)\n",
      "\n",
      "image 1/1 /Users/codym/CAP/ai-starter-kit/yoda/data/sec-edgar-filings/AAPL/10-K/0000320193-23-000106/full-submission/cropped_tables/page_105_table_2.jpg: 160x640 1 borderless, 26.1ms\n",
      "Speed: 0.1ms preprocess, 26.1ms inference, 0.3ms postprocess per image at shape (1, 3, 640, 640)\n",
      "\n"
     ]
    },
    {
     "name": "stdout",
     "output_type": "stream",
     "text": [
      "Cropping tables from /Users/codym/CAP/ai-starter-kit/yoda/data/sec-edgar-filings/AAPL/10-K/0000320193-23-000106/full-submission/cropped_tables/page_99_table_1.jpg\n",
      "Cropping tables from /Users/codym/CAP/ai-starter-kit/yoda/data/sec-edgar-filings/AAPL/10-K/0000320193-23-000106/full-submission/cropped_tables/page_99_table_0.jpg\n",
      "Cropping tables from /Users/codym/CAP/ai-starter-kit/yoda/data/sec-edgar-filings/AAPL/10-K/0000320193-23-000106/full-submission/cropped_tables/page_95_table_2.jpg\n",
      "Cropping tables from /Users/codym/CAP/ai-starter-kit/yoda/data/sec-edgar-filings/AAPL/10-K/0000320193-23-000106/full-submission/cropped_tables/page_23_table_0.jpg\n",
      "Cropping tables from /Users/codym/CAP/ai-starter-kit/yoda/data/sec-edgar-filings/AAPL/10-K/0000320193-23-000106/full-submission/cropped_tables/page_105_table_2.jpg\n",
      "Cropping tables from /Users/codym/CAP/ai-starter-kit/yoda/data/sec-edgar-filings/AAPL/10-K/0000320193-23-000106/full-submission/cropped_tables/page_105_table_0.jpg\n"
     ]
    },
    {
     "name": "stderr",
     "output_type": "stream",
     "text": [
      "image 1/1 /Users/codym/CAP/ai-starter-kit/yoda/data/sec-edgar-filings/AAPL/10-K/0000320193-23-000106/full-submission/cropped_tables/page_105_table_0.jpg: 320x640 1 borderless, 94.8ms\n",
      "Speed: 1.9ms preprocess, 94.8ms inference, 0.4ms postprocess per image at shape (1, 3, 640, 640)\n",
      "\n",
      "image 1/1 /Users/codym/CAP/ai-starter-kit/yoda/data/sec-edgar-filings/AAPL/10-K/0000320193-23-000106/full-submission/cropped_tables/page_95_table_1.jpg: 192x640 1 borderless, 35.6ms\n",
      "Speed: 1.2ms preprocess, 35.6ms inference, 0.4ms postprocess per image at shape (1, 3, 640, 640)\n",
      "\n",
      "image 1/1 /Users/codym/CAP/ai-starter-kit/yoda/data/sec-edgar-filings/AAPL/10-K/0000320193-23-000106/full-submission/cropped_tables/page_36_table_1.jpg: 96x640 1 borderless, 17.0ms\n",
      "Speed: 0.1ms preprocess, 17.0ms inference, 0.3ms postprocess per image at shape (1, 3, 640, 640)\n",
      "\n",
      "image 1/1 /Users/codym/CAP/ai-starter-kit/yoda/data/sec-edgar-filings/AAPL/10-K/0000320193-23-000106/full-submission/cropped_tables/page_46_table_1.jpg: 192x640 (no detections), 27.4ms\n",
      "Speed: 0.1ms preprocess, 27.4ms inference, 0.2ms postprocess per image at shape (1, 3, 640, 640)\n",
      "\n",
      "image 1/1 /Users/codym/CAP/ai-starter-kit/yoda/data/sec-edgar-filings/AAPL/10-K/0000320193-23-000106/full-submission/cropped_tables/page_46_table_0.jpg: 160x640 1 borderless, 44.0ms\n",
      "Speed: 0.8ms preprocess, 44.0ms inference, 0.3ms postprocess per image at shape (1, 3, 640, 640)\n",
      "\n",
      "image 1/1 /Users/codym/CAP/ai-starter-kit/yoda/data/sec-edgar-filings/AAPL/10-K/0000320193-23-000106/full-submission/cropped_tables/page_36_table_0.jpg: 128x640 1 borderless, 22.1ms\n",
      "Speed: 0.1ms preprocess, 22.1ms inference, 0.3ms postprocess per image at shape (1, 3, 640, 640)\n",
      "\n"
     ]
    },
    {
     "name": "stdout",
     "output_type": "stream",
     "text": [
      "Cropping tables from /Users/codym/CAP/ai-starter-kit/yoda/data/sec-edgar-filings/AAPL/10-K/0000320193-23-000106/full-submission/cropped_tables/page_95_table_1.jpg\n",
      "Cropping tables from /Users/codym/CAP/ai-starter-kit/yoda/data/sec-edgar-filings/AAPL/10-K/0000320193-23-000106/full-submission/cropped_tables/page_36_table_1.jpg\n",
      "Cropping tables from /Users/codym/CAP/ai-starter-kit/yoda/data/sec-edgar-filings/AAPL/10-K/0000320193-23-000106/full-submission/cropped_tables/page_46_table_1.jpg\n",
      "Cropping tables from /Users/codym/CAP/ai-starter-kit/yoda/data/sec-edgar-filings/AAPL/10-K/0000320193-23-000106/full-submission/cropped_tables/page_46_table_0.jpg\n",
      "Cropping tables from /Users/codym/CAP/ai-starter-kit/yoda/data/sec-edgar-filings/AAPL/10-K/0000320193-23-000106/full-submission/cropped_tables/page_36_table_0.jpg\n",
      "Cropping tables from /Users/codym/CAP/ai-starter-kit/yoda/data/sec-edgar-filings/AAPL/10-K/0000320193-23-000106/full-submission/cropped_tables/page_95_table_0.jpg\n"
     ]
    },
    {
     "name": "stderr",
     "output_type": "stream",
     "text": [
      "image 1/1 /Users/codym/CAP/ai-starter-kit/yoda/data/sec-edgar-filings/AAPL/10-K/0000320193-23-000106/full-submission/cropped_tables/page_95_table_0.jpg: 192x640 1 borderless, 30.9ms\n",
      "Speed: 0.1ms preprocess, 30.9ms inference, 0.4ms postprocess per image at shape (1, 3, 640, 640)\n",
      "\n",
      "image 1/1 /Users/codym/CAP/ai-starter-kit/yoda/data/sec-edgar-filings/AAPL/10-K/0000320193-23-000106/full-submission/cropped_tables/page_105_table_1.jpg: 160x640 1 borderless, 34.4ms\n",
      "Speed: 0.1ms preprocess, 34.4ms inference, 0.4ms postprocess per image at shape (1, 3, 640, 640)\n",
      "\n",
      "image 1/1 /Users/codym/CAP/ai-starter-kit/yoda/data/sec-edgar-filings/AAPL/10-K/0000320193-23-000106/full-submission/cropped_tables/page_73_table_0.jpg: 192x640 1 borderless, 28.5ms\n",
      "Speed: 0.2ms preprocess, 28.5ms inference, 0.3ms postprocess per image at shape (1, 3, 640, 640)\n",
      "\n",
      "image 1/1 /Users/codym/CAP/ai-starter-kit/yoda/data/sec-edgar-filings/AAPL/10-K/0000320193-23-000106/full-submission/cropped_tables/page_41_table_1.jpg: 96x640 1 borderless, 15.2ms\n",
      "Speed: 0.1ms preprocess, 15.2ms inference, 0.3ms postprocess per image at shape (1, 3, 640, 640)\n",
      "\n",
      "image 1/1 /Users/codym/CAP/ai-starter-kit/yoda/data/sec-edgar-filings/AAPL/10-K/0000320193-23-000106/full-submission/cropped_tables/page_41_table_0.jpg: 128x640 1 borderless, 24.0ms\n",
      "Speed: 0.0ms preprocess, 24.0ms inference, 0.3ms postprocess per image at shape (1, 3, 640, 640)\n",
      "\n",
      "image 1/1 /Users/codym/CAP/ai-starter-kit/yoda/data/sec-edgar-filings/AAPL/10-K/0000320193-23-000106/full-submission/cropped_tables/page_31_table_0.jpg: 352x640 1 borderless, 49.7ms\n",
      "Speed: 0.1ms preprocess, 49.7ms inference, 0.3ms postprocess per image at shape (1, 3, 640, 640)\n",
      "\n"
     ]
    },
    {
     "name": "stdout",
     "output_type": "stream",
     "text": [
      "Cropping tables from /Users/codym/CAP/ai-starter-kit/yoda/data/sec-edgar-filings/AAPL/10-K/0000320193-23-000106/full-submission/cropped_tables/page_105_table_1.jpg\n",
      "Cropping tables from /Users/codym/CAP/ai-starter-kit/yoda/data/sec-edgar-filings/AAPL/10-K/0000320193-23-000106/full-submission/cropped_tables/page_73_table_0.jpg\n",
      "Cropping tables from /Users/codym/CAP/ai-starter-kit/yoda/data/sec-edgar-filings/AAPL/10-K/0000320193-23-000106/full-submission/cropped_tables/page_41_table_1.jpg\n",
      "Cropping tables from /Users/codym/CAP/ai-starter-kit/yoda/data/sec-edgar-filings/AAPL/10-K/0000320193-23-000106/full-submission/cropped_tables/page_41_table_0.jpg\n",
      "Cropping tables from /Users/codym/CAP/ai-starter-kit/yoda/data/sec-edgar-filings/AAPL/10-K/0000320193-23-000106/full-submission/cropped_tables/page_31_table_0.jpg\n",
      "Cropping tables from /Users/codym/CAP/ai-starter-kit/yoda/data/sec-edgar-filings/AAPL/10-K/0000320193-23-000106/full-submission/cropped_tables/page_24_table_0.jpg\n"
     ]
    },
    {
     "name": "stderr",
     "output_type": "stream",
     "text": [
      "image 1/1 /Users/codym/CAP/ai-starter-kit/yoda/data/sec-edgar-filings/AAPL/10-K/0000320193-23-000106/full-submission/cropped_tables/page_24_table_0.jpg: 96x640 1 borderless, 18.1ms\n",
      "Speed: 0.1ms preprocess, 18.1ms inference, 0.4ms postprocess per image at shape (1, 3, 640, 640)\n",
      "\n",
      "image 1/1 /Users/codym/CAP/ai-starter-kit/yoda/data/sec-edgar-filings/AAPL/10-K/0000320193-23-000106/full-submission/cropped_tables/page_38_table_0.jpg: 128x640 1 borderless, 111.5ms\n",
      "Speed: 0.2ms preprocess, 111.5ms inference, 0.3ms postprocess per image at shape (1, 3, 640, 640)\n",
      "\n",
      "image 1/1 /Users/codym/CAP/ai-starter-kit/yoda/data/sec-edgar-filings/AAPL/10-K/0000320193-23-000106/full-submission/cropped_tables/page_24_table_1.jpg: 96x640 1 borderless, 23.9ms\n",
      "Speed: 0.1ms preprocess, 23.9ms inference, 0.3ms postprocess per image at shape (1, 3, 640, 640)\n",
      "\n"
     ]
    },
    {
     "name": "stdout",
     "output_type": "stream",
     "text": [
      "Cropping tables from /Users/codym/CAP/ai-starter-kit/yoda/data/sec-edgar-filings/AAPL/10-K/0000320193-23-000106/full-submission/cropped_tables/page_38_table_0.jpg\n",
      "Cropping tables from /Users/codym/CAP/ai-starter-kit/yoda/data/sec-edgar-filings/AAPL/10-K/0000320193-23-000106/full-submission/cropped_tables/page_24_table_1.jpg\n",
      "Cropping tables from /Users/codym/CAP/ai-starter-kit/yoda/data/sec-edgar-filings/AAPL/10-K/0000320193-23-000106/full-submission/cropped_tables/page_48_table_0.jpg\n"
     ]
    },
    {
     "name": "stderr",
     "output_type": "stream",
     "text": [
      "image 1/1 /Users/codym/CAP/ai-starter-kit/yoda/data/sec-edgar-filings/AAPL/10-K/0000320193-23-000106/full-submission/cropped_tables/page_48_table_0.jpg: 256x640 2 borderlesss, 52.6ms\n",
      "Speed: 0.2ms preprocess, 52.6ms inference, 0.4ms postprocess per image at shape (1, 3, 640, 640)\n",
      "\n",
      "image 1/1 /Users/codym/CAP/ai-starter-kit/yoda/data/sec-edgar-filings/AAPL/10-K/0000320193-23-000106/full-submission/cropped_tables/page_97_table_2.jpg: 128x640 1 borderless, 31.1ms\n",
      "Speed: 0.2ms preprocess, 31.1ms inference, 0.4ms postprocess per image at shape (1, 3, 640, 640)\n",
      "\n",
      "image 1/1 /Users/codym/CAP/ai-starter-kit/yoda/data/sec-edgar-filings/AAPL/10-K/0000320193-23-000106/full-submission/cropped_tables/page_97_table_3.jpg: 96x640 1 borderless, 21.6ms\n",
      "Speed: 0.1ms preprocess, 21.6ms inference, 0.3ms postprocess per image at shape (1, 3, 640, 640)\n",
      "\n",
      "image 1/1 /Users/codym/CAP/ai-starter-kit/yoda/data/sec-edgar-filings/AAPL/10-K/0000320193-23-000106/full-submission/cropped_tables/page_44_table_1.jpg: 160x640 1 borderless, 33.0ms\n",
      "Speed: 0.1ms preprocess, 33.0ms inference, 0.3ms postprocess per image at shape (1, 3, 640, 640)\n",
      "\n",
      "image 1/1 /Users/codym/CAP/ai-starter-kit/yoda/data/sec-edgar-filings/AAPL/10-K/0000320193-23-000106/full-submission/cropped_tables/page_97_table_1.jpg: 160x640 1 borderless, 27.4ms\n",
      "Speed: 0.1ms preprocess, 27.4ms inference, 0.3ms postprocess per image at shape (1, 3, 640, 640)\n",
      "\n",
      "image 1/1 /Users/codym/CAP/ai-starter-kit/yoda/data/sec-edgar-filings/AAPL/10-K/0000320193-23-000106/full-submission/cropped_tables/page_107_table_0.jpg: 288x640 1 borderless, 41.9ms\n",
      "Speed: 0.1ms preprocess, 41.9ms inference, 0.4ms postprocess per image at shape (1, 3, 640, 640)\n",
      "\n"
     ]
    },
    {
     "name": "stdout",
     "output_type": "stream",
     "text": [
      "Cropping tables from /Users/codym/CAP/ai-starter-kit/yoda/data/sec-edgar-filings/AAPL/10-K/0000320193-23-000106/full-submission/cropped_tables/page_97_table_2.jpg\n",
      "Cropping tables from /Users/codym/CAP/ai-starter-kit/yoda/data/sec-edgar-filings/AAPL/10-K/0000320193-23-000106/full-submission/cropped_tables/page_97_table_3.jpg\n",
      "Cropping tables from /Users/codym/CAP/ai-starter-kit/yoda/data/sec-edgar-filings/AAPL/10-K/0000320193-23-000106/full-submission/cropped_tables/page_44_table_1.jpg\n",
      "Cropping tables from /Users/codym/CAP/ai-starter-kit/yoda/data/sec-edgar-filings/AAPL/10-K/0000320193-23-000106/full-submission/cropped_tables/page_97_table_1.jpg\n",
      "Cropping tables from /Users/codym/CAP/ai-starter-kit/yoda/data/sec-edgar-filings/AAPL/10-K/0000320193-23-000106/full-submission/cropped_tables/page_107_table_0.jpg\n",
      "Cropping tables from /Users/codym/CAP/ai-starter-kit/yoda/data/sec-edgar-filings/AAPL/10-K/0000320193-23-000106/full-submission/cropped_tables/page_107_table_1.jpg\n"
     ]
    },
    {
     "name": "stderr",
     "output_type": "stream",
     "text": [
      "image 1/1 /Users/codym/CAP/ai-starter-kit/yoda/data/sec-edgar-filings/AAPL/10-K/0000320193-23-000106/full-submission/cropped_tables/page_107_table_1.jpg: 192x640 1 borderless, 47.9ms\n",
      "Speed: 0.1ms preprocess, 47.9ms inference, 0.3ms postprocess per image at shape (1, 3, 640, 640)\n",
      "\n",
      "image 1/1 /Users/codym/CAP/ai-starter-kit/yoda/data/sec-edgar-filings/AAPL/10-K/0000320193-23-000106/full-submission/cropped_tables/page_97_table_0.jpg: 192x640 1 borderless, 33.5ms\n",
      "Speed: 0.1ms preprocess, 33.5ms inference, 0.4ms postprocess per image at shape (1, 3, 640, 640)\n",
      "\n",
      "image 1/1 /Users/codym/CAP/ai-starter-kit/yoda/data/sec-edgar-filings/AAPL/10-K/0000320193-23-000106/full-submission/cropped_tables/page_44_table_0.jpg: 96x640 1 borderless, 17.8ms\n",
      "Speed: 2.6ms preprocess, 17.8ms inference, 0.3ms postprocess per image at shape (1, 3, 640, 640)\n",
      "\n",
      "image 1/1 /Users/codym/CAP/ai-starter-kit/yoda/data/sec-edgar-filings/AAPL/10-K/0000320193-23-000106/full-submission/cropped_tables/page_37_table_0.jpg: 160x640 1 borderless, 24.8ms\n",
      "Speed: 0.1ms preprocess, 24.8ms inference, 0.3ms postprocess per image at shape (1, 3, 640, 640)\n",
      "\n",
      "image 1/1 /Users/codym/CAP/ai-starter-kit/yoda/data/sec-edgar-filings/AAPL/10-K/0000320193-23-000106/full-submission/cropped_tables/page_104_table_1.jpg: 128x640 1 borderless, 25.0ms\n",
      "Speed: 0.1ms preprocess, 25.0ms inference, 0.3ms postprocess per image at shape (1, 3, 640, 640)\n",
      "\n",
      "image 1/1 /Users/codym/CAP/ai-starter-kit/yoda/data/sec-edgar-filings/AAPL/10-K/0000320193-23-000106/full-submission/cropped_tables/page_19_table_0.jpg: 96x640 1 borderless, 17.5ms\n",
      "Speed: 0.1ms preprocess, 17.5ms inference, 0.3ms postprocess per image at shape (1, 3, 640, 640)\n",
      "\n",
      "image 1/1 /Users/codym/CAP/ai-starter-kit/yoda/data/sec-edgar-filings/AAPL/10-K/0000320193-23-000106/full-submission/cropped_tables/page_1_table_0.jpg: 224x640 1 borderless, 36.7ms\n",
      "Speed: 0.1ms preprocess, 36.7ms inference, 0.4ms postprocess per image at shape (1, 3, 640, 640)\n",
      "\n"
     ]
    },
    {
     "name": "stdout",
     "output_type": "stream",
     "text": [
      "Cropping tables from /Users/codym/CAP/ai-starter-kit/yoda/data/sec-edgar-filings/AAPL/10-K/0000320193-23-000106/full-submission/cropped_tables/page_97_table_0.jpg\n",
      "Cropping tables from /Users/codym/CAP/ai-starter-kit/yoda/data/sec-edgar-filings/AAPL/10-K/0000320193-23-000106/full-submission/cropped_tables/page_44_table_0.jpg\n",
      "Cropping tables from /Users/codym/CAP/ai-starter-kit/yoda/data/sec-edgar-filings/AAPL/10-K/0000320193-23-000106/full-submission/cropped_tables/page_37_table_0.jpg\n",
      "Cropping tables from /Users/codym/CAP/ai-starter-kit/yoda/data/sec-edgar-filings/AAPL/10-K/0000320193-23-000106/full-submission/cropped_tables/page_104_table_1.jpg\n",
      "Cropping tables from /Users/codym/CAP/ai-starter-kit/yoda/data/sec-edgar-filings/AAPL/10-K/0000320193-23-000106/full-submission/cropped_tables/page_19_table_0.jpg\n",
      "Cropping tables from /Users/codym/CAP/ai-starter-kit/yoda/data/sec-edgar-filings/AAPL/10-K/0000320193-23-000106/full-submission/cropped_tables/page_1_table_0.jpg\n",
      "Cropping tables from /Users/codym/CAP/ai-starter-kit/yoda/data/sec-edgar-filings/AAPL/10-K/0000320193-23-000106/full-submission/cropped_tables/page_104_table_0.jpg\n"
     ]
    },
    {
     "name": "stderr",
     "output_type": "stream",
     "text": [
      "image 1/1 /Users/codym/CAP/ai-starter-kit/yoda/data/sec-edgar-filings/AAPL/10-K/0000320193-23-000106/full-submission/cropped_tables/page_104_table_0.jpg: 224x640 1 borderless, 40.2ms\n",
      "Speed: 0.1ms preprocess, 40.2ms inference, 0.4ms postprocess per image at shape (1, 3, 640, 640)\n",
      "\n",
      "image 1/1 /Users/codym/CAP/ai-starter-kit/yoda/data/sec-edgar-filings/AAPL/10-K/0000320193-23-000106/full-submission/cropped_tables/page_37_table_1.jpg: 160x640 1 borderless, 27.5ms\n",
      "Speed: 20.7ms preprocess, 27.5ms inference, 0.3ms postprocess per image at shape (1, 3, 640, 640)\n",
      "\n",
      "image 1/1 /Users/codym/CAP/ai-starter-kit/yoda/data/sec-edgar-filings/AAPL/10-K/0000320193-23-000106/full-submission/cropped_tables/page_22_table_0.jpg: 224x640 1 borderless, 37.3ms\n",
      "Speed: 0.1ms preprocess, 37.3ms inference, 0.4ms postprocess per image at shape (1, 3, 640, 640)\n",
      "\n",
      "image 1/1 /Users/codym/CAP/ai-starter-kit/yoda/data/sec-edgar-filings/AAPL/10-K/0000320193-23-000106/full-submission/cropped_tables/page_98_table_0.jpg: 160x640 1 borderless, 40.1ms\n",
      "Speed: 0.1ms preprocess, 40.1ms inference, 0.3ms postprocess per image at shape (1, 3, 640, 640)\n",
      "\n",
      "image 1/1 /Users/codym/CAP/ai-starter-kit/yoda/data/sec-edgar-filings/AAPL/10-K/0000320193-23-000106/full-submission/cropped_tables/page_98_table_1.jpg: 128x640 1 borderless, 31.9ms\n",
      "Speed: 0.1ms preprocess, 31.9ms inference, 0.4ms postprocess per image at shape (1, 3, 640, 640)\n",
      "\n"
     ]
    },
    {
     "name": "stdout",
     "output_type": "stream",
     "text": [
      "Cropping tables from /Users/codym/CAP/ai-starter-kit/yoda/data/sec-edgar-filings/AAPL/10-K/0000320193-23-000106/full-submission/cropped_tables/page_37_table_1.jpg\n",
      "Cropping tables from /Users/codym/CAP/ai-starter-kit/yoda/data/sec-edgar-filings/AAPL/10-K/0000320193-23-000106/full-submission/cropped_tables/page_22_table_0.jpg\n",
      "Cropping tables from /Users/codym/CAP/ai-starter-kit/yoda/data/sec-edgar-filings/AAPL/10-K/0000320193-23-000106/full-submission/cropped_tables/page_98_table_0.jpg\n",
      "Cropping tables from /Users/codym/CAP/ai-starter-kit/yoda/data/sec-edgar-filings/AAPL/10-K/0000320193-23-000106/full-submission/cropped_tables/page_98_table_1.jpg\n",
      "Cropping tables from /Users/codym/CAP/ai-starter-kit/yoda/data/sec-edgar-filings/AAPL/10-K/0000320193-23-000106/full-submission/cropped_tables/page_91_table_0.jpg\n"
     ]
    },
    {
     "name": "stderr",
     "output_type": "stream",
     "text": [
      "image 1/1 /Users/codym/CAP/ai-starter-kit/yoda/data/sec-edgar-filings/AAPL/10-K/0000320193-23-000106/full-submission/cropped_tables/page_91_table_0.jpg: 608x640 (no detections), 92.8ms\n",
      "Speed: 3.4ms preprocess, 92.8ms inference, 0.2ms postprocess per image at shape (1, 3, 640, 640)\n",
      "\n",
      "image 1/1 /Users/codym/CAP/ai-starter-kit/yoda/data/sec-edgar-filings/AAPL/10-K/0000320193-23-000106/full-submission/cropped_tables/page_98_table_3.jpg: 128x640 1 borderless, 40.4ms\n",
      "Speed: 0.1ms preprocess, 40.4ms inference, 0.4ms postprocess per image at shape (1, 3, 640, 640)\n",
      "\n",
      "image 1/1 /Users/codym/CAP/ai-starter-kit/yoda/data/sec-edgar-filings/AAPL/10-K/0000320193-23-000106/full-submission/cropped_tables/page_101_table_1.jpg: 160x640 2 borderlesss, 25.6ms\n",
      "Speed: 0.1ms preprocess, 25.6ms inference, 0.4ms postprocess per image at shape (1, 3, 640, 640)\n",
      "\n",
      "image 1/1 /Users/codym/CAP/ai-starter-kit/yoda/data/sec-edgar-filings/AAPL/10-K/0000320193-23-000106/full-submission/cropped_tables/page_42_table_0.jpg: 160x640 1 borderless, 24.1ms\n",
      "Speed: 0.1ms preprocess, 24.1ms inference, 0.3ms postprocess per image at shape (1, 3, 640, 640)\n",
      "\n",
      "image 1/1 /Users/codym/CAP/ai-starter-kit/yoda/data/sec-edgar-filings/AAPL/10-K/0000320193-23-000106/full-submission/cropped_tables/page_32_table_0.jpg: 224x640 1 borderless, 45.6ms\n",
      "Speed: 0.1ms preprocess, 45.6ms inference, 0.3ms postprocess per image at shape (1, 3, 640, 640)\n",
      "\n",
      "image 1/1 /Users/codym/CAP/ai-starter-kit/yoda/data/sec-edgar-filings/AAPL/10-K/0000320193-23-000106/full-submission/cropped_tables/page_42_table_1.jpg: 96x640 1 borderless, 19.0ms\n",
      "Speed: 3.6ms preprocess, 19.0ms inference, 0.3ms postprocess per image at shape (1, 3, 640, 640)\n",
      "\n"
     ]
    },
    {
     "name": "stdout",
     "output_type": "stream",
     "text": [
      "Cropping tables from /Users/codym/CAP/ai-starter-kit/yoda/data/sec-edgar-filings/AAPL/10-K/0000320193-23-000106/full-submission/cropped_tables/page_98_table_3.jpg\n",
      "Cropping tables from /Users/codym/CAP/ai-starter-kit/yoda/data/sec-edgar-filings/AAPL/10-K/0000320193-23-000106/full-submission/cropped_tables/page_101_table_1.jpg\n",
      "Cropping tables from /Users/codym/CAP/ai-starter-kit/yoda/data/sec-edgar-filings/AAPL/10-K/0000320193-23-000106/full-submission/cropped_tables/page_42_table_0.jpg\n",
      "Cropping tables from /Users/codym/CAP/ai-starter-kit/yoda/data/sec-edgar-filings/AAPL/10-K/0000320193-23-000106/full-submission/cropped_tables/page_32_table_0.jpg\n",
      "Cropping tables from /Users/codym/CAP/ai-starter-kit/yoda/data/sec-edgar-filings/AAPL/10-K/0000320193-23-000106/full-submission/cropped_tables/page_42_table_1.jpg\n",
      "Cropping tables from /Users/codym/CAP/ai-starter-kit/yoda/data/sec-edgar-filings/AAPL/10-K/0000320193-23-000106/full-submission/cropped_tables/page_101_table_0.jpg\n"
     ]
    },
    {
     "name": "stderr",
     "output_type": "stream",
     "text": [
      "image 1/1 /Users/codym/CAP/ai-starter-kit/yoda/data/sec-edgar-filings/AAPL/10-K/0000320193-23-000106/full-submission/cropped_tables/page_101_table_0.jpg: 256x640 2 borderlesss, 43.9ms\n",
      "Speed: 0.1ms preprocess, 43.9ms inference, 0.3ms postprocess per image at shape (1, 3, 640, 640)\n",
      "\n",
      "image 1/1 /Users/codym/CAP/ai-starter-kit/yoda/data/sec-edgar-filings/AAPL/10-K/0000320193-23-000106/full-submission/cropped_tables/page_98_table_2.jpg: 128x640 1 borderless, 27.9ms\n",
      "Speed: 0.1ms preprocess, 27.9ms inference, 0.3ms postprocess per image at shape (1, 3, 640, 640)\n",
      "\n",
      "image 1/1 /Users/codym/CAP/ai-starter-kit/yoda/data/sec-edgar-filings/AAPL/10-K/0000320193-23-000106/full-submission/cropped_tables/page_91_table_1.jpg: 288x640 1 borderless, 42.4ms\n",
      "Speed: 0.1ms preprocess, 42.4ms inference, 0.4ms postprocess per image at shape (1, 3, 640, 640)\n",
      "\n",
      "image 1/1 /Users/codym/CAP/ai-starter-kit/yoda/data/sec-edgar-filings/AAPL/10-K/0000320193-23-000106/full-submission/images/page_91.jpg: 640x512 2 borderlesss, 97.9ms\n",
      "Speed: 0.6ms preprocess, 97.9ms inference, 0.4ms postprocess per image at shape (1, 3, 640, 640)\n"
     ]
    },
    {
     "name": "stdout",
     "output_type": "stream",
     "text": [
      "Cropping tables from /Users/codym/CAP/ai-starter-kit/yoda/data/sec-edgar-filings/AAPL/10-K/0000320193-23-000106/full-submission/cropped_tables/page_98_table_2.jpg\n",
      "Cropping tables from /Users/codym/CAP/ai-starter-kit/yoda/data/sec-edgar-filings/AAPL/10-K/0000320193-23-000106/full-submission/cropped_tables/page_91_table_1.jpg\n",
      "Cropping tables from /Users/codym/CAP/ai-starter-kit/yoda/data/sec-edgar-filings/AAPL/10-K/0000320193-23-000106/full-submission/images/page_91.jpg\n"
     ]
    },
    {
     "name": "stderr",
     "output_type": "stream",
     "text": [
      "\n",
      "image 1/1 /Users/codym/CAP/ai-starter-kit/yoda/data/sec-edgar-filings/AAPL/10-K/0000320193-23-000106/full-submission/images/page_85.jpg: 640x512 (no detections), 70.8ms\n",
      "Speed: 0.4ms preprocess, 70.8ms inference, 0.2ms postprocess per image at shape (1, 3, 640, 640)\n",
      "\n",
      "image 1/1 /Users/codym/CAP/ai-starter-kit/yoda/data/sec-edgar-filings/AAPL/10-K/0000320193-23-000106/full-submission/images/page_52.jpg: 640x512 (no detections), 71.1ms\n",
      "Speed: 0.2ms preprocess, 71.1ms inference, 0.2ms postprocess per image at shape (1, 3, 640, 640)\n",
      "\n"
     ]
    },
    {
     "name": "stdout",
     "output_type": "stream",
     "text": [
      "Cropping tables from /Users/codym/CAP/ai-starter-kit/yoda/data/sec-edgar-filings/AAPL/10-K/0000320193-23-000106/full-submission/images/page_85.jpg\n",
      "Cropping tables from /Users/codym/CAP/ai-starter-kit/yoda/data/sec-edgar-filings/AAPL/10-K/0000320193-23-000106/full-submission/images/page_52.jpg\n",
      "Cropping tables from /Users/codym/CAP/ai-starter-kit/yoda/data/sec-edgar-filings/AAPL/10-K/0000320193-23-000106/full-submission/images/page_46.jpg\n"
     ]
    },
    {
     "name": "stderr",
     "output_type": "stream",
     "text": [
      "image 1/1 /Users/codym/CAP/ai-starter-kit/yoda/data/sec-edgar-filings/AAPL/10-K/0000320193-23-000106/full-submission/images/page_46.jpg: 640x512 2 borderlesss, 71.5ms\n",
      "Speed: 0.5ms preprocess, 71.5ms inference, 0.4ms postprocess per image at shape (1, 3, 640, 640)\n",
      "\n",
      "image 1/1 /Users/codym/CAP/ai-starter-kit/yoda/data/sec-edgar-filings/AAPL/10-K/0000320193-23-000106/full-submission/images/page_227.jpg: 640x512 (no detections), 68.8ms\n",
      "Speed: 0.3ms preprocess, 68.8ms inference, 0.2ms postprocess per image at shape (1, 3, 640, 640)\n",
      "\n",
      "image 1/1 /Users/codym/CAP/ai-starter-kit/yoda/data/sec-edgar-filings/AAPL/10-K/0000320193-23-000106/full-submission/images/page_233.jpg: 640x512 (no detections), 67.9ms\n",
      "Speed: 0.2ms preprocess, 67.9ms inference, 0.2ms postprocess per image at shape (1, 3, 640, 640)\n",
      "\n"
     ]
    },
    {
     "name": "stdout",
     "output_type": "stream",
     "text": [
      "Cropping tables from /Users/codym/CAP/ai-starter-kit/yoda/data/sec-edgar-filings/AAPL/10-K/0000320193-23-000106/full-submission/images/page_227.jpg\n",
      "Cropping tables from /Users/codym/CAP/ai-starter-kit/yoda/data/sec-edgar-filings/AAPL/10-K/0000320193-23-000106/full-submission/images/page_233.jpg\n",
      "Cropping tables from /Users/codym/CAP/ai-starter-kit/yoda/data/sec-edgar-filings/AAPL/10-K/0000320193-23-000106/full-submission/images/page_192.jpg\n"
     ]
    },
    {
     "name": "stderr",
     "output_type": "stream",
     "text": [
      "image 1/1 /Users/codym/CAP/ai-starter-kit/yoda/data/sec-edgar-filings/AAPL/10-K/0000320193-23-000106/full-submission/images/page_192.jpg: 640x512 (no detections), 172.7ms\n",
      "Speed: 5.7ms preprocess, 172.7ms inference, 0.2ms postprocess per image at shape (1, 3, 640, 640)\n",
      "\n",
      "image 1/1 /Users/codym/CAP/ai-starter-kit/yoda/data/sec-edgar-filings/AAPL/10-K/0000320193-23-000106/full-submission/images/page_2.jpg: 640x512 (no detections), 71.3ms\n",
      "Speed: 0.3ms preprocess, 71.3ms inference, 0.2ms postprocess per image at shape (1, 3, 640, 640)\n",
      "\n",
      "image 1/1 /Users/codym/CAP/ai-starter-kit/yoda/data/sec-edgar-filings/AAPL/10-K/0000320193-23-000106/full-submission/images/page_186.jpg: 640x512 (no detections), 66.8ms\n",
      "Speed: 0.2ms preprocess, 66.8ms inference, 0.2ms postprocess per image at shape (1, 3, 640, 640)\n",
      "\n"
     ]
    },
    {
     "name": "stdout",
     "output_type": "stream",
     "text": [
      "Cropping tables from /Users/codym/CAP/ai-starter-kit/yoda/data/sec-edgar-filings/AAPL/10-K/0000320193-23-000106/full-submission/images/page_2.jpg\n",
      "Cropping tables from /Users/codym/CAP/ai-starter-kit/yoda/data/sec-edgar-filings/AAPL/10-K/0000320193-23-000106/full-submission/images/page_186.jpg\n",
      "Cropping tables from /Users/codym/CAP/ai-starter-kit/yoda/data/sec-edgar-filings/AAPL/10-K/0000320193-23-000106/full-submission/images/page_179.jpg\n"
     ]
    },
    {
     "name": "stderr",
     "output_type": "stream",
     "text": [
      "image 1/1 /Users/codym/CAP/ai-starter-kit/yoda/data/sec-edgar-filings/AAPL/10-K/0000320193-23-000106/full-submission/images/page_179.jpg: 640x512 (no detections), 73.9ms\n",
      "Speed: 0.2ms preprocess, 73.9ms inference, 0.2ms postprocess per image at shape (1, 3, 640, 640)\n",
      "\n",
      "image 1/1 /Users/codym/CAP/ai-starter-kit/yoda/data/sec-edgar-filings/AAPL/10-K/0000320193-23-000106/full-submission/images/page_151.jpg: 640x512 (no detections), 68.5ms\n",
      "Speed: 0.4ms preprocess, 68.5ms inference, 0.2ms postprocess per image at shape (1, 3, 640, 640)\n",
      "\n",
      "image 1/1 /Users/codym/CAP/ai-starter-kit/yoda/data/sec-edgar-filings/AAPL/10-K/0000320193-23-000106/full-submission/images/page_145.jpg: 640x512 (no detections), 69.3ms\n",
      "Speed: 0.2ms preprocess, 69.3ms inference, 0.2ms postprocess per image at shape (1, 3, 640, 640)\n",
      "\n"
     ]
    },
    {
     "name": "stdout",
     "output_type": "stream",
     "text": [
      "Cropping tables from /Users/codym/CAP/ai-starter-kit/yoda/data/sec-edgar-filings/AAPL/10-K/0000320193-23-000106/full-submission/images/page_151.jpg\n",
      "Cropping tables from /Users/codym/CAP/ai-starter-kit/yoda/data/sec-edgar-filings/AAPL/10-K/0000320193-23-000106/full-submission/images/page_145.jpg\n",
      "Cropping tables from /Users/codym/CAP/ai-starter-kit/yoda/data/sec-edgar-filings/AAPL/10-K/0000320193-23-000106/full-submission/images/page_144.jpg\n"
     ]
    },
    {
     "name": "stderr",
     "output_type": "stream",
     "text": [
      "image 1/1 /Users/codym/CAP/ai-starter-kit/yoda/data/sec-edgar-filings/AAPL/10-K/0000320193-23-000106/full-submission/images/page_144.jpg: 640x512 (no detections), 77.3ms\n",
      "Speed: 0.2ms preprocess, 77.3ms inference, 0.2ms postprocess per image at shape (1, 3, 640, 640)\n",
      "\n",
      "image 1/1 /Users/codym/CAP/ai-starter-kit/yoda/data/sec-edgar-filings/AAPL/10-K/0000320193-23-000106/full-submission/images/page_150.jpg: 640x512 (no detections), 69.9ms\n",
      "Speed: 0.5ms preprocess, 69.9ms inference, 0.2ms postprocess per image at shape (1, 3, 640, 640)\n",
      "\n",
      "image 1/1 /Users/codym/CAP/ai-starter-kit/yoda/data/sec-edgar-filings/AAPL/10-K/0000320193-23-000106/full-submission/images/page_178.jpg: 640x512 (no detections), 81.4ms\n",
      "Speed: 0.2ms preprocess, 81.4ms inference, 0.2ms postprocess per image at shape (1, 3, 640, 640)\n",
      "\n"
     ]
    },
    {
     "name": "stdout",
     "output_type": "stream",
     "text": [
      "Cropping tables from /Users/codym/CAP/ai-starter-kit/yoda/data/sec-edgar-filings/AAPL/10-K/0000320193-23-000106/full-submission/images/page_150.jpg\n",
      "Cropping tables from /Users/codym/CAP/ai-starter-kit/yoda/data/sec-edgar-filings/AAPL/10-K/0000320193-23-000106/full-submission/images/page_178.jpg\n",
      "Cropping tables from /Users/codym/CAP/ai-starter-kit/yoda/data/sec-edgar-filings/AAPL/10-K/0000320193-23-000106/full-submission/images/page_187.jpg\n"
     ]
    },
    {
     "name": "stderr",
     "output_type": "stream",
     "text": [
      "image 1/1 /Users/codym/CAP/ai-starter-kit/yoda/data/sec-edgar-filings/AAPL/10-K/0000320193-23-000106/full-submission/images/page_187.jpg: 640x512 (no detections), 85.0ms\n",
      "Speed: 0.4ms preprocess, 85.0ms inference, 0.2ms postprocess per image at shape (1, 3, 640, 640)\n",
      "\n",
      "image 1/1 /Users/codym/CAP/ai-starter-kit/yoda/data/sec-edgar-filings/AAPL/10-K/0000320193-23-000106/full-submission/images/page_193.jpg: 640x512 (no detections), 67.4ms\n",
      "Speed: 0.2ms preprocess, 67.4ms inference, 0.2ms postprocess per image at shape (1, 3, 640, 640)\n",
      "\n",
      "image 1/1 /Users/codym/CAP/ai-starter-kit/yoda/data/sec-edgar-filings/AAPL/10-K/0000320193-23-000106/full-submission/images/page_3.jpg: 640x512 (no detections), 68.7ms\n",
      "Speed: 0.2ms preprocess, 68.7ms inference, 0.2ms postprocess per image at shape (1, 3, 640, 640)\n",
      "\n"
     ]
    },
    {
     "name": "stdout",
     "output_type": "stream",
     "text": [
      "Cropping tables from /Users/codym/CAP/ai-starter-kit/yoda/data/sec-edgar-filings/AAPL/10-K/0000320193-23-000106/full-submission/images/page_193.jpg\n",
      "Cropping tables from /Users/codym/CAP/ai-starter-kit/yoda/data/sec-edgar-filings/AAPL/10-K/0000320193-23-000106/full-submission/images/page_3.jpg\n",
      "Cropping tables from /Users/codym/CAP/ai-starter-kit/yoda/data/sec-edgar-filings/AAPL/10-K/0000320193-23-000106/full-submission/images/page_232.jpg\n"
     ]
    },
    {
     "name": "stderr",
     "output_type": "stream",
     "text": [
      "image 1/1 /Users/codym/CAP/ai-starter-kit/yoda/data/sec-edgar-filings/AAPL/10-K/0000320193-23-000106/full-submission/images/page_232.jpg: 640x512 (no detections), 72.5ms\n",
      "Speed: 0.2ms preprocess, 72.5ms inference, 0.2ms postprocess per image at shape (1, 3, 640, 640)\n",
      "\n",
      "image 1/1 /Users/codym/CAP/ai-starter-kit/yoda/data/sec-edgar-filings/AAPL/10-K/0000320193-23-000106/full-submission/images/page_226.jpg: 640x512 (no detections), 75.7ms\n",
      "Speed: 0.3ms preprocess, 75.7ms inference, 0.2ms postprocess per image at shape (1, 3, 640, 640)\n",
      "\n",
      "image 1/1 /Users/codym/CAP/ai-starter-kit/yoda/data/sec-edgar-filings/AAPL/10-K/0000320193-23-000106/full-submission/images/page_47.jpg: 640x512 1 borderless, 76.7ms\n",
      "Speed: 0.4ms preprocess, 76.7ms inference, 0.4ms postprocess per image at shape (1, 3, 640, 640)\n",
      "\n"
     ]
    },
    {
     "name": "stdout",
     "output_type": "stream",
     "text": [
      "Cropping tables from /Users/codym/CAP/ai-starter-kit/yoda/data/sec-edgar-filings/AAPL/10-K/0000320193-23-000106/full-submission/images/page_226.jpg\n",
      "Cropping tables from /Users/codym/CAP/ai-starter-kit/yoda/data/sec-edgar-filings/AAPL/10-K/0000320193-23-000106/full-submission/images/page_47.jpg\n",
      "Cropping tables from /Users/codym/CAP/ai-starter-kit/yoda/data/sec-edgar-filings/AAPL/10-K/0000320193-23-000106/full-submission/images/page_53.jpg\n"
     ]
    },
    {
     "name": "stderr",
     "output_type": "stream",
     "text": [
      "image 1/1 /Users/codym/CAP/ai-starter-kit/yoda/data/sec-edgar-filings/AAPL/10-K/0000320193-23-000106/full-submission/images/page_53.jpg: 640x512 (no detections), 75.8ms\n",
      "Speed: 0.2ms preprocess, 75.8ms inference, 0.2ms postprocess per image at shape (1, 3, 640, 640)\n",
      "\n",
      "image 1/1 /Users/codym/CAP/ai-starter-kit/yoda/data/sec-edgar-filings/AAPL/10-K/0000320193-23-000106/full-submission/images/page_84.jpg: 640x512 (no detections), 70.4ms\n",
      "Speed: 0.6ms preprocess, 70.4ms inference, 0.2ms postprocess per image at shape (1, 3, 640, 640)\n",
      "\n",
      "image 1/1 /Users/codym/CAP/ai-starter-kit/yoda/data/sec-edgar-filings/AAPL/10-K/0000320193-23-000106/full-submission/images/page_90.jpg: 640x512 1 borderless, 64.9ms\n",
      "Speed: 0.2ms preprocess, 64.9ms inference, 0.4ms postprocess per image at shape (1, 3, 640, 640)\n",
      "\n"
     ]
    },
    {
     "name": "stdout",
     "output_type": "stream",
     "text": [
      "Cropping tables from /Users/codym/CAP/ai-starter-kit/yoda/data/sec-edgar-filings/AAPL/10-K/0000320193-23-000106/full-submission/images/page_84.jpg\n",
      "Cropping tables from /Users/codym/CAP/ai-starter-kit/yoda/data/sec-edgar-filings/AAPL/10-K/0000320193-23-000106/full-submission/images/page_90.jpg\n",
      "Cropping tables from /Users/codym/CAP/ai-starter-kit/yoda/data/sec-edgar-filings/AAPL/10-K/0000320193-23-000106/full-submission/images/page_86.jpg\n"
     ]
    },
    {
     "name": "stderr",
     "output_type": "stream",
     "text": [
      "image 1/1 /Users/codym/CAP/ai-starter-kit/yoda/data/sec-edgar-filings/AAPL/10-K/0000320193-23-000106/full-submission/images/page_86.jpg: 640x512 (no detections), 75.7ms\n",
      "Speed: 0.1ms preprocess, 75.7ms inference, 0.2ms postprocess per image at shape (1, 3, 640, 640)\n",
      "\n",
      "image 1/1 /Users/codym/CAP/ai-starter-kit/yoda/data/sec-edgar-filings/AAPL/10-K/0000320193-23-000106/full-submission/images/page_92.jpg: 640x512 3 borderlesss, 74.3ms\n",
      "Speed: 0.2ms preprocess, 74.3ms inference, 0.6ms postprocess per image at shape (1, 3, 640, 640)\n",
      "\n",
      "image 1/1 /Users/codym/CAP/ai-starter-kit/yoda/data/sec-edgar-filings/AAPL/10-K/0000320193-23-000106/full-submission/images/page_79.jpg: 640x512 (no detections), 80.1ms\n",
      "Speed: 0.2ms preprocess, 80.1ms inference, 0.2ms postprocess per image at shape (1, 3, 640, 640)\n",
      "\n"
     ]
    },
    {
     "name": "stdout",
     "output_type": "stream",
     "text": [
      "Cropping tables from /Users/codym/CAP/ai-starter-kit/yoda/data/sec-edgar-filings/AAPL/10-K/0000320193-23-000106/full-submission/images/page_92.jpg\n",
      "Cropping tables from /Users/codym/CAP/ai-starter-kit/yoda/data/sec-edgar-filings/AAPL/10-K/0000320193-23-000106/full-submission/images/page_79.jpg\n",
      "Cropping tables from /Users/codym/CAP/ai-starter-kit/yoda/data/sec-edgar-filings/AAPL/10-K/0000320193-23-000106/full-submission/images/page_45.jpg\n"
     ]
    },
    {
     "name": "stderr",
     "output_type": "stream",
     "text": [
      "image 1/1 /Users/codym/CAP/ai-starter-kit/yoda/data/sec-edgar-filings/AAPL/10-K/0000320193-23-000106/full-submission/images/page_45.jpg: 640x512 2 borderlesss, 90.2ms\n",
      "Speed: 0.4ms preprocess, 90.2ms inference, 0.4ms postprocess per image at shape (1, 3, 640, 640)\n",
      "\n",
      "image 1/1 /Users/codym/CAP/ai-starter-kit/yoda/data/sec-edgar-filings/AAPL/10-K/0000320193-23-000106/full-submission/images/page_51.jpg: 640x512 (no detections), 91.3ms\n",
      "Speed: 0.5ms preprocess, 91.3ms inference, 0.2ms postprocess per image at shape (1, 3, 640, 640)\n",
      "\n"
     ]
    },
    {
     "name": "stdout",
     "output_type": "stream",
     "text": [
      "Cropping tables from /Users/codym/CAP/ai-starter-kit/yoda/data/sec-edgar-filings/AAPL/10-K/0000320193-23-000106/full-submission/images/page_51.jpg\n",
      "Cropping tables from /Users/codym/CAP/ai-starter-kit/yoda/data/sec-edgar-filings/AAPL/10-K/0000320193-23-000106/full-submission/images/page_218.jpg\n"
     ]
    },
    {
     "name": "stderr",
     "output_type": "stream",
     "text": [
      "image 1/1 /Users/codym/CAP/ai-starter-kit/yoda/data/sec-edgar-filings/AAPL/10-K/0000320193-23-000106/full-submission/images/page_218.jpg: 640x512 (no detections), 123.1ms\n",
      "Speed: 1.8ms preprocess, 123.1ms inference, 0.2ms postprocess per image at shape (1, 3, 640, 640)\n",
      "\n",
      "image 1/1 /Users/codym/CAP/ai-starter-kit/yoda/data/sec-edgar-filings/AAPL/10-K/0000320193-23-000106/full-submission/images/page_230.jpg: 640x512 (no detections), 95.5ms\n",
      "Speed: 0.8ms preprocess, 95.5ms inference, 0.2ms postprocess per image at shape (1, 3, 640, 640)\n",
      "\n"
     ]
    },
    {
     "name": "stdout",
     "output_type": "stream",
     "text": [
      "Cropping tables from /Users/codym/CAP/ai-starter-kit/yoda/data/sec-edgar-filings/AAPL/10-K/0000320193-23-000106/full-submission/images/page_230.jpg\n",
      "Cropping tables from /Users/codym/CAP/ai-starter-kit/yoda/data/sec-edgar-filings/AAPL/10-K/0000320193-23-000106/full-submission/images/page_224.jpg\n"
     ]
    },
    {
     "name": "stderr",
     "output_type": "stream",
     "text": [
      "image 1/1 /Users/codym/CAP/ai-starter-kit/yoda/data/sec-edgar-filings/AAPL/10-K/0000320193-23-000106/full-submission/images/page_224.jpg: 640x512 (no detections), 110.4ms\n",
      "Speed: 0.2ms preprocess, 110.4ms inference, 0.2ms postprocess per image at shape (1, 3, 640, 640)\n",
      "\n",
      "image 1/1 /Users/codym/CAP/ai-starter-kit/yoda/data/sec-edgar-filings/AAPL/10-K/0000320193-23-000106/full-submission/images/page_185.jpg: 640x512 (no detections), 106.0ms\n",
      "Speed: 0.5ms preprocess, 106.0ms inference, 0.2ms postprocess per image at shape (1, 3, 640, 640)\n",
      "\n"
     ]
    },
    {
     "name": "stdout",
     "output_type": "stream",
     "text": [
      "Cropping tables from /Users/codym/CAP/ai-starter-kit/yoda/data/sec-edgar-filings/AAPL/10-K/0000320193-23-000106/full-submission/images/page_185.jpg\n",
      "Cropping tables from /Users/codym/CAP/ai-starter-kit/yoda/data/sec-edgar-filings/AAPL/10-K/0000320193-23-000106/full-submission/images/page_1.jpg\n"
     ]
    },
    {
     "name": "stderr",
     "output_type": "stream",
     "text": [
      "image 1/1 /Users/codym/CAP/ai-starter-kit/yoda/data/sec-edgar-filings/AAPL/10-K/0000320193-23-000106/full-submission/images/page_1.jpg: 640x512 1 borderless, 107.9ms\n",
      "Speed: 0.6ms preprocess, 107.9ms inference, 0.5ms postprocess per image at shape (1, 3, 640, 640)\n",
      "\n",
      "image 1/1 /Users/codym/CAP/ai-starter-kit/yoda/data/sec-edgar-filings/AAPL/10-K/0000320193-23-000106/full-submission/images/page_191.jpg: 640x512 1 borderless, 94.3ms\n",
      "Speed: 0.6ms preprocess, 94.3ms inference, 0.4ms postprocess per image at shape (1, 3, 640, 640)\n",
      "\n"
     ]
    },
    {
     "name": "stdout",
     "output_type": "stream",
     "text": [
      "Cropping tables from /Users/codym/CAP/ai-starter-kit/yoda/data/sec-edgar-filings/AAPL/10-K/0000320193-23-000106/full-submission/images/page_191.jpg\n",
      "Cropping tables from /Users/codym/CAP/ai-starter-kit/yoda/data/sec-edgar-filings/AAPL/10-K/0000320193-23-000106/full-submission/images/page_146.jpg\n"
     ]
    },
    {
     "name": "stderr",
     "output_type": "stream",
     "text": [
      "image 1/1 /Users/codym/CAP/ai-starter-kit/yoda/data/sec-edgar-filings/AAPL/10-K/0000320193-23-000106/full-submission/images/page_146.jpg: 640x512 (no detections), 86.3ms\n",
      "Speed: 0.5ms preprocess, 86.3ms inference, 0.3ms postprocess per image at shape (1, 3, 640, 640)\n",
      "\n",
      "image 1/1 /Users/codym/CAP/ai-starter-kit/yoda/data/sec-edgar-filings/AAPL/10-K/0000320193-23-000106/full-submission/images/page_152.jpg: 640x512 (no detections), 105.2ms\n",
      "Speed: 0.3ms preprocess, 105.2ms inference, 0.2ms postprocess per image at shape (1, 3, 640, 640)\n",
      "\n"
     ]
    },
    {
     "name": "stdout",
     "output_type": "stream",
     "text": [
      "Cropping tables from /Users/codym/CAP/ai-starter-kit/yoda/data/sec-edgar-filings/AAPL/10-K/0000320193-23-000106/full-submission/images/page_152.jpg\n",
      "Cropping tables from /Users/codym/CAP/ai-starter-kit/yoda/data/sec-edgar-filings/AAPL/10-K/0000320193-23-000106/full-submission/images/page_153.jpg\n"
     ]
    },
    {
     "name": "stderr",
     "output_type": "stream",
     "text": [
      "image 1/1 /Users/codym/CAP/ai-starter-kit/yoda/data/sec-edgar-filings/AAPL/10-K/0000320193-23-000106/full-submission/images/page_153.jpg: 640x512 (no detections), 83.1ms\n",
      "Speed: 0.5ms preprocess, 83.1ms inference, 0.2ms postprocess per image at shape (1, 3, 640, 640)\n",
      "\n",
      "image 1/1 /Users/codym/CAP/ai-starter-kit/yoda/data/sec-edgar-filings/AAPL/10-K/0000320193-23-000106/full-submission/images/page_147.jpg: 640x512 (no detections), 79.7ms\n",
      "Speed: 0.7ms preprocess, 79.7ms inference, 0.2ms postprocess per image at shape (1, 3, 640, 640)\n",
      "\n"
     ]
    },
    {
     "name": "stdout",
     "output_type": "stream",
     "text": [
      "Cropping tables from /Users/codym/CAP/ai-starter-kit/yoda/data/sec-edgar-filings/AAPL/10-K/0000320193-23-000106/full-submission/images/page_147.jpg\n",
      "Cropping tables from /Users/codym/CAP/ai-starter-kit/yoda/data/sec-edgar-filings/AAPL/10-K/0000320193-23-000106/full-submission/images/page_0.jpg\n"
     ]
    },
    {
     "name": "stderr",
     "output_type": "stream",
     "text": [
      "image 1/1 /Users/codym/CAP/ai-starter-kit/yoda/data/sec-edgar-filings/AAPL/10-K/0000320193-23-000106/full-submission/images/page_0.jpg: 640x512 2 borderlesss, 96.4ms\n",
      "Speed: 0.3ms preprocess, 96.4ms inference, 0.4ms postprocess per image at shape (1, 3, 640, 640)\n",
      "\n",
      "image 1/1 /Users/codym/CAP/ai-starter-kit/yoda/data/sec-edgar-filings/AAPL/10-K/0000320193-23-000106/full-submission/images/page_190.jpg: 640x512 (no detections), 79.0ms\n",
      "Speed: 0.3ms preprocess, 79.0ms inference, 0.2ms postprocess per image at shape (1, 3, 640, 640)\n",
      "\n",
      "image 1/1 /Users/codym/CAP/ai-starter-kit/yoda/data/sec-edgar-filings/AAPL/10-K/0000320193-23-000106/full-submission/images/page_184.jpg: 640x512 (no detections), 63.3ms\n",
      "Speed: 0.2ms preprocess, 63.3ms inference, 0.2ms postprocess per image at shape (1, 3, 640, 640)\n",
      "\n"
     ]
    },
    {
     "name": "stdout",
     "output_type": "stream",
     "text": [
      "Cropping tables from /Users/codym/CAP/ai-starter-kit/yoda/data/sec-edgar-filings/AAPL/10-K/0000320193-23-000106/full-submission/images/page_190.jpg\n",
      "Cropping tables from /Users/codym/CAP/ai-starter-kit/yoda/data/sec-edgar-filings/AAPL/10-K/0000320193-23-000106/full-submission/images/page_184.jpg\n",
      "Cropping tables from /Users/codym/CAP/ai-starter-kit/yoda/data/sec-edgar-filings/AAPL/10-K/0000320193-23-000106/full-submission/images/page_225.jpg\n"
     ]
    },
    {
     "name": "stderr",
     "output_type": "stream",
     "text": [
      "image 1/1 /Users/codym/CAP/ai-starter-kit/yoda/data/sec-edgar-filings/AAPL/10-K/0000320193-23-000106/full-submission/images/page_225.jpg: 640x512 (no detections), 72.6ms\n",
      "Speed: 0.2ms preprocess, 72.6ms inference, 0.2ms postprocess per image at shape (1, 3, 640, 640)\n",
      "\n",
      "image 1/1 /Users/codym/CAP/ai-starter-kit/yoda/data/sec-edgar-filings/AAPL/10-K/0000320193-23-000106/full-submission/images/page_231.jpg: 640x512 (no detections), 67.7ms\n",
      "Speed: 0.2ms preprocess, 67.7ms inference, 0.2ms postprocess per image at shape (1, 3, 640, 640)\n",
      "\n",
      "image 1/1 /Users/codym/CAP/ai-starter-kit/yoda/data/sec-edgar-filings/AAPL/10-K/0000320193-23-000106/full-submission/images/page_219.jpg: 640x512 (no detections), 83.1ms\n",
      "Speed: 0.3ms preprocess, 83.1ms inference, 0.2ms postprocess per image at shape (1, 3, 640, 640)\n"
     ]
    },
    {
     "name": "stdout",
     "output_type": "stream",
     "text": [
      "Cropping tables from /Users/codym/CAP/ai-starter-kit/yoda/data/sec-edgar-filings/AAPL/10-K/0000320193-23-000106/full-submission/images/page_231.jpg\n",
      "Cropping tables from /Users/codym/CAP/ai-starter-kit/yoda/data/sec-edgar-filings/AAPL/10-K/0000320193-23-000106/full-submission/images/page_219.jpg\n"
     ]
    },
    {
     "name": "stderr",
     "output_type": "stream",
     "text": [
      "\n",
      "image 1/1 /Users/codym/CAP/ai-starter-kit/yoda/data/sec-edgar-filings/AAPL/10-K/0000320193-23-000106/full-submission/images/page_50.jpg: 640x512 (no detections), 100.3ms\n",
      "Speed: 0.3ms preprocess, 100.3ms inference, 0.2ms postprocess per image at shape (1, 3, 640, 640)\n",
      "\n",
      "image 1/1 /Users/codym/CAP/ai-starter-kit/yoda/data/sec-edgar-filings/AAPL/10-K/0000320193-23-000106/full-submission/images/page_44.jpg: 640x512 2 borderlesss, 73.2ms\n"
     ]
    },
    {
     "name": "stdout",
     "output_type": "stream",
     "text": [
      "Cropping tables from /Users/codym/CAP/ai-starter-kit/yoda/data/sec-edgar-filings/AAPL/10-K/0000320193-23-000106/full-submission/images/page_50.jpg\n",
      "Cropping tables from /Users/codym/CAP/ai-starter-kit/yoda/data/sec-edgar-filings/AAPL/10-K/0000320193-23-000106/full-submission/images/page_44.jpg\n"
     ]
    },
    {
     "name": "stderr",
     "output_type": "stream",
     "text": [
      "Speed: 0.2ms preprocess, 73.2ms inference, 0.4ms postprocess per image at shape (1, 3, 640, 640)\n",
      "\n",
      "image 1/1 /Users/codym/CAP/ai-starter-kit/yoda/data/sec-edgar-filings/AAPL/10-K/0000320193-23-000106/full-submission/images/page_78.jpg: 640x512 (no detections), 84.7ms\n",
      "Speed: 0.4ms preprocess, 84.7ms inference, 0.2ms postprocess per image at shape (1, 3, 640, 640)\n",
      "\n"
     ]
    },
    {
     "name": "stdout",
     "output_type": "stream",
     "text": [
      "Cropping tables from /Users/codym/CAP/ai-starter-kit/yoda/data/sec-edgar-filings/AAPL/10-K/0000320193-23-000106/full-submission/images/page_78.jpg\n",
      "Cropping tables from /Users/codym/CAP/ai-starter-kit/yoda/data/sec-edgar-filings/AAPL/10-K/0000320193-23-000106/full-submission/images/page_93.jpg\n"
     ]
    },
    {
     "name": "stderr",
     "output_type": "stream",
     "text": [
      "image 1/1 /Users/codym/CAP/ai-starter-kit/yoda/data/sec-edgar-filings/AAPL/10-K/0000320193-23-000106/full-submission/images/page_93.jpg: 640x512 2 borderlesss, 79.5ms\n",
      "Speed: 0.3ms preprocess, 79.5ms inference, 0.5ms postprocess per image at shape (1, 3, 640, 640)\n",
      "\n",
      "image 1/1 /Users/codym/CAP/ai-starter-kit/yoda/data/sec-edgar-filings/AAPL/10-K/0000320193-23-000106/full-submission/images/page_87.jpg: 640x512 (no detections), 74.3ms\n",
      "Speed: 0.4ms preprocess, 74.3ms inference, 0.2ms postprocess per image at shape (1, 3, 640, 640)\n",
      "\n",
      "image 1/1 /Users/codym/CAP/ai-starter-kit/yoda/data/sec-edgar-filings/AAPL/10-K/0000320193-23-000106/full-submission/images/page_83.jpg: 640x512 (no detections), 65.8ms\n",
      "Speed: 0.2ms preprocess, 65.8ms inference, 0.2ms postprocess per image at shape (1, 3, 640, 640)\n",
      "\n"
     ]
    },
    {
     "name": "stdout",
     "output_type": "stream",
     "text": [
      "Cropping tables from /Users/codym/CAP/ai-starter-kit/yoda/data/sec-edgar-filings/AAPL/10-K/0000320193-23-000106/full-submission/images/page_87.jpg\n",
      "Cropping tables from /Users/codym/CAP/ai-starter-kit/yoda/data/sec-edgar-filings/AAPL/10-K/0000320193-23-000106/full-submission/images/page_83.jpg\n",
      "Cropping tables from /Users/codym/CAP/ai-starter-kit/yoda/data/sec-edgar-filings/AAPL/10-K/0000320193-23-000106/full-submission/images/page_97.jpg\n"
     ]
    },
    {
     "name": "stderr",
     "output_type": "stream",
     "text": [
      "image 1/1 /Users/codym/CAP/ai-starter-kit/yoda/data/sec-edgar-filings/AAPL/10-K/0000320193-23-000106/full-submission/images/page_97.jpg: 640x512 4 borderlesss, 76.4ms\n",
      "Speed: 0.3ms preprocess, 76.4ms inference, 0.4ms postprocess per image at shape (1, 3, 640, 640)\n",
      "\n",
      "image 1/1 /Users/codym/CAP/ai-starter-kit/yoda/data/sec-edgar-filings/AAPL/10-K/0000320193-23-000106/full-submission/images/page_40.jpg: 640x512 2 borderlesss, 68.1ms\n",
      "Speed: 0.2ms preprocess, 68.1ms inference, 0.4ms postprocess per image at shape (1, 3, 640, 640)\n",
      "\n",
      "image 1/1 /Users/codym/CAP/ai-starter-kit/yoda/data/sec-edgar-filings/AAPL/10-K/0000320193-23-000106/full-submission/images/page_54.jpg: 640x512 (no detections), 70.6ms\n",
      "Speed: 0.2ms preprocess, 70.6ms inference, 0.2ms postprocess per image at shape (1, 3, 640, 640)\n",
      "\n"
     ]
    },
    {
     "name": "stdout",
     "output_type": "stream",
     "text": [
      "Cropping tables from /Users/codym/CAP/ai-starter-kit/yoda/data/sec-edgar-filings/AAPL/10-K/0000320193-23-000106/full-submission/images/page_40.jpg\n",
      "Cropping tables from /Users/codym/CAP/ai-starter-kit/yoda/data/sec-edgar-filings/AAPL/10-K/0000320193-23-000106/full-submission/images/page_54.jpg\n",
      "Cropping tables from /Users/codym/CAP/ai-starter-kit/yoda/data/sec-edgar-filings/AAPL/10-K/0000320193-23-000106/full-submission/images/page_68.jpg\n"
     ]
    },
    {
     "name": "stderr",
     "output_type": "stream",
     "text": [
      "image 1/1 /Users/codym/CAP/ai-starter-kit/yoda/data/sec-edgar-filings/AAPL/10-K/0000320193-23-000106/full-submission/images/page_68.jpg: 640x512 (no detections), 90.0ms\n",
      "Speed: 0.4ms preprocess, 90.0ms inference, 0.2ms postprocess per image at shape (1, 3, 640, 640)\n",
      "\n",
      "image 1/1 /Users/codym/CAP/ai-starter-kit/yoda/data/sec-edgar-filings/AAPL/10-K/0000320193-23-000106/full-submission/images/page_235.jpg: 640x512 (no detections), 70.1ms\n",
      "Speed: 0.3ms preprocess, 70.1ms inference, 0.2ms postprocess per image at shape (1, 3, 640, 640)\n",
      "\n",
      "image 1/1 /Users/codym/CAP/ai-starter-kit/yoda/data/sec-edgar-filings/AAPL/10-K/0000320193-23-000106/full-submission/images/page_221.jpg: 640x512 (no detections), 70.8ms\n",
      "Speed: 0.2ms preprocess, 70.8ms inference, 0.2ms postprocess per image at shape (1, 3, 640, 640)\n",
      "\n"
     ]
    },
    {
     "name": "stdout",
     "output_type": "stream",
     "text": [
      "Cropping tables from /Users/codym/CAP/ai-starter-kit/yoda/data/sec-edgar-filings/AAPL/10-K/0000320193-23-000106/full-submission/images/page_235.jpg\n",
      "Cropping tables from /Users/codym/CAP/ai-starter-kit/yoda/data/sec-edgar-filings/AAPL/10-K/0000320193-23-000106/full-submission/images/page_221.jpg\n",
      "Cropping tables from /Users/codym/CAP/ai-starter-kit/yoda/data/sec-edgar-filings/AAPL/10-K/0000320193-23-000106/full-submission/images/page_209.jpg\n"
     ]
    },
    {
     "name": "stderr",
     "output_type": "stream",
     "text": [
      "image 1/1 /Users/codym/CAP/ai-starter-kit/yoda/data/sec-edgar-filings/AAPL/10-K/0000320193-23-000106/full-submission/images/page_209.jpg: 640x512 (no detections), 71.7ms\n",
      "Speed: 0.2ms preprocess, 71.7ms inference, 0.2ms postprocess per image at shape (1, 3, 640, 640)\n",
      "\n",
      "image 1/1 /Users/codym/CAP/ai-starter-kit/yoda/data/sec-edgar-filings/AAPL/10-K/0000320193-23-000106/full-submission/images/page_180.jpg: 640x512 (no detections), 71.0ms\n",
      "Speed: 0.2ms preprocess, 71.0ms inference, 0.2ms postprocess per image at shape (1, 3, 640, 640)\n",
      "\n",
      "image 1/1 /Users/codym/CAP/ai-starter-kit/yoda/data/sec-edgar-filings/AAPL/10-K/0000320193-23-000106/full-submission/images/page_194.jpg: 640x512 (no detections), 67.3ms\n",
      "Speed: 0.2ms preprocess, 67.3ms inference, 0.2ms postprocess per image at shape (1, 3, 640, 640)\n",
      "\n"
     ]
    },
    {
     "name": "stdout",
     "output_type": "stream",
     "text": [
      "Cropping tables from /Users/codym/CAP/ai-starter-kit/yoda/data/sec-edgar-filings/AAPL/10-K/0000320193-23-000106/full-submission/images/page_180.jpg\n",
      "Cropping tables from /Users/codym/CAP/ai-starter-kit/yoda/data/sec-edgar-filings/AAPL/10-K/0000320193-23-000106/full-submission/images/page_194.jpg\n",
      "Cropping tables from /Users/codym/CAP/ai-starter-kit/yoda/data/sec-edgar-filings/AAPL/10-K/0000320193-23-000106/full-submission/images/page_4.jpg\n"
     ]
    },
    {
     "name": "stderr",
     "output_type": "stream",
     "text": [
      "image 1/1 /Users/codym/CAP/ai-starter-kit/yoda/data/sec-edgar-filings/AAPL/10-K/0000320193-23-000106/full-submission/images/page_4.jpg: 640x512 (no detections), 74.5ms\n",
      "Speed: 0.2ms preprocess, 74.5ms inference, 0.2ms postprocess per image at shape (1, 3, 640, 640)\n",
      "\n",
      "image 1/1 /Users/codym/CAP/ai-starter-kit/yoda/data/sec-edgar-filings/AAPL/10-K/0000320193-23-000106/full-submission/images/page_143.jpg: 640x512 (no detections), 69.7ms\n",
      "Speed: 0.2ms preprocess, 69.7ms inference, 0.2ms postprocess per image at shape (1, 3, 640, 640)\n",
      "\n",
      "image 1/1 /Users/codym/CAP/ai-starter-kit/yoda/data/sec-edgar-filings/AAPL/10-K/0000320193-23-000106/full-submission/images/page_157.jpg: 640x512 (no detections), 65.5ms\n",
      "Speed: 0.2ms preprocess, 65.5ms inference, 0.2ms postprocess per image at shape (1, 3, 640, 640)\n",
      "\n"
     ]
    },
    {
     "name": "stdout",
     "output_type": "stream",
     "text": [
      "Cropping tables from /Users/codym/CAP/ai-starter-kit/yoda/data/sec-edgar-filings/AAPL/10-K/0000320193-23-000106/full-submission/images/page_143.jpg\n",
      "Cropping tables from /Users/codym/CAP/ai-starter-kit/yoda/data/sec-edgar-filings/AAPL/10-K/0000320193-23-000106/full-submission/images/page_157.jpg\n",
      "Cropping tables from /Users/codym/CAP/ai-starter-kit/yoda/data/sec-edgar-filings/AAPL/10-K/0000320193-23-000106/full-submission/images/page_156.jpg\n"
     ]
    },
    {
     "name": "stderr",
     "output_type": "stream",
     "text": [
      "image 1/1 /Users/codym/CAP/ai-starter-kit/yoda/data/sec-edgar-filings/AAPL/10-K/0000320193-23-000106/full-submission/images/page_156.jpg: 640x512 (no detections), 73.6ms\n",
      "Speed: 0.2ms preprocess, 73.6ms inference, 0.2ms postprocess per image at shape (1, 3, 640, 640)\n",
      "\n",
      "image 1/1 /Users/codym/CAP/ai-starter-kit/yoda/data/sec-edgar-filings/AAPL/10-K/0000320193-23-000106/full-submission/images/page_142.jpg: 640x512 (no detections), 74.8ms\n",
      "Speed: 0.2ms preprocess, 74.8ms inference, 0.2ms postprocess per image at shape (1, 3, 640, 640)\n",
      "\n"
     ]
    },
    {
     "name": "stdout",
     "output_type": "stream",
     "text": [
      "Cropping tables from /Users/codym/CAP/ai-starter-kit/yoda/data/sec-edgar-filings/AAPL/10-K/0000320193-23-000106/full-submission/images/page_142.jpg\n",
      "Cropping tables from /Users/codym/CAP/ai-starter-kit/yoda/data/sec-edgar-filings/AAPL/10-K/0000320193-23-000106/full-submission/images/page_195.jpg\n"
     ]
    },
    {
     "name": "stderr",
     "output_type": "stream",
     "text": [
      "image 1/1 /Users/codym/CAP/ai-starter-kit/yoda/data/sec-edgar-filings/AAPL/10-K/0000320193-23-000106/full-submission/images/page_195.jpg: 640x512 (no detections), 82.0ms\n",
      "Speed: 0.2ms preprocess, 82.0ms inference, 0.2ms postprocess per image at shape (1, 3, 640, 640)\n",
      "\n",
      "image 1/1 /Users/codym/CAP/ai-starter-kit/yoda/data/sec-edgar-filings/AAPL/10-K/0000320193-23-000106/full-submission/images/page_5.jpg: 640x512 (no detections), 70.2ms\n",
      "Speed: 0.5ms preprocess, 70.2ms inference, 0.2ms postprocess per image at shape (1, 3, 640, 640)\n",
      "\n",
      "image 1/1 /Users/codym/CAP/ai-starter-kit/yoda/data/sec-edgar-filings/AAPL/10-K/0000320193-23-000106/full-submission/images/page_181.jpg: 640x512 (no detections), 69.2ms\n",
      "Speed: 0.4ms preprocess, 69.2ms inference, 0.2ms postprocess per image at shape (1, 3, 640, 640)\n",
      "\n"
     ]
    },
    {
     "name": "stdout",
     "output_type": "stream",
     "text": [
      "Cropping tables from /Users/codym/CAP/ai-starter-kit/yoda/data/sec-edgar-filings/AAPL/10-K/0000320193-23-000106/full-submission/images/page_5.jpg\n",
      "Cropping tables from /Users/codym/CAP/ai-starter-kit/yoda/data/sec-edgar-filings/AAPL/10-K/0000320193-23-000106/full-submission/images/page_181.jpg\n",
      "Cropping tables from /Users/codym/CAP/ai-starter-kit/yoda/data/sec-edgar-filings/AAPL/10-K/0000320193-23-000106/full-submission/images/page_208.jpg\n"
     ]
    },
    {
     "name": "stderr",
     "output_type": "stream",
     "text": [
      "image 1/1 /Users/codym/CAP/ai-starter-kit/yoda/data/sec-edgar-filings/AAPL/10-K/0000320193-23-000106/full-submission/images/page_208.jpg: 640x512 (no detections), 81.2ms\n",
      "Speed: 0.3ms preprocess, 81.2ms inference, 0.2ms postprocess per image at shape (1, 3, 640, 640)\n",
      "\n",
      "image 1/1 /Users/codym/CAP/ai-starter-kit/yoda/data/sec-edgar-filings/AAPL/10-K/0000320193-23-000106/full-submission/images/page_220.jpg: 640x512 (no detections), 72.2ms\n",
      "Speed: 0.4ms preprocess, 72.2ms inference, 0.2ms postprocess per image at shape (1, 3, 640, 640)\n",
      "\n",
      "image 1/1 /Users/codym/CAP/ai-starter-kit/yoda/data/sec-edgar-filings/AAPL/10-K/0000320193-23-000106/full-submission/images/page_234.jpg: 640x512 (no detections), 66.9ms\n",
      "Speed: 0.3ms preprocess, 66.9ms inference, 0.2ms postprocess per image at shape (1, 3, 640, 640)\n",
      "\n"
     ]
    },
    {
     "name": "stdout",
     "output_type": "stream",
     "text": [
      "Cropping tables from /Users/codym/CAP/ai-starter-kit/yoda/data/sec-edgar-filings/AAPL/10-K/0000320193-23-000106/full-submission/images/page_220.jpg\n",
      "Cropping tables from /Users/codym/CAP/ai-starter-kit/yoda/data/sec-edgar-filings/AAPL/10-K/0000320193-23-000106/full-submission/images/page_234.jpg\n",
      "Cropping tables from /Users/codym/CAP/ai-starter-kit/yoda/data/sec-edgar-filings/AAPL/10-K/0000320193-23-000106/full-submission/images/page_69.jpg\n"
     ]
    },
    {
     "name": "stderr",
     "output_type": "stream",
     "text": [
      "image 1/1 /Users/codym/CAP/ai-starter-kit/yoda/data/sec-edgar-filings/AAPL/10-K/0000320193-23-000106/full-submission/images/page_69.jpg: 640x512 (no detections), 84.8ms\n",
      "Speed: 0.3ms preprocess, 84.8ms inference, 0.2ms postprocess per image at shape (1, 3, 640, 640)\n",
      "\n",
      "image 1/1 /Users/codym/CAP/ai-starter-kit/yoda/data/sec-edgar-filings/AAPL/10-K/0000320193-23-000106/full-submission/images/page_55.jpg: 640x512 2 borderlesss, 108.3ms\n",
      "Speed: 0.3ms preprocess, 108.3ms inference, 0.4ms postprocess per image at shape (1, 3, 640, 640)\n",
      "\n"
     ]
    },
    {
     "name": "stdout",
     "output_type": "stream",
     "text": [
      "Cropping tables from /Users/codym/CAP/ai-starter-kit/yoda/data/sec-edgar-filings/AAPL/10-K/0000320193-23-000106/full-submission/images/page_55.jpg\n",
      "Cropping tables from /Users/codym/CAP/ai-starter-kit/yoda/data/sec-edgar-filings/AAPL/10-K/0000320193-23-000106/full-submission/images/page_41.jpg\n"
     ]
    },
    {
     "name": "stderr",
     "output_type": "stream",
     "text": [
      "image 1/1 /Users/codym/CAP/ai-starter-kit/yoda/data/sec-edgar-filings/AAPL/10-K/0000320193-23-000106/full-submission/images/page_41.jpg: 640x512 2 borderlesss, 97.5ms\n",
      "Speed: 0.2ms preprocess, 97.5ms inference, 0.4ms postprocess per image at shape (1, 3, 640, 640)\n",
      "\n",
      "image 1/1 /Users/codym/CAP/ai-starter-kit/yoda/data/sec-edgar-filings/AAPL/10-K/0000320193-23-000106/full-submission/images/page_96.jpg: 640x512 5 borderlesss, 93.2ms\n",
      "Speed: 0.3ms preprocess, 93.2ms inference, 0.4ms postprocess per image at shape (1, 3, 640, 640)\n",
      "\n"
     ]
    },
    {
     "name": "stdout",
     "output_type": "stream",
     "text": [
      "Cropping tables from /Users/codym/CAP/ai-starter-kit/yoda/data/sec-edgar-filings/AAPL/10-K/0000320193-23-000106/full-submission/images/page_96.jpg\n",
      "Cropping tables from /Users/codym/CAP/ai-starter-kit/yoda/data/sec-edgar-filings/AAPL/10-K/0000320193-23-000106/full-submission/images/page_82.jpg\n"
     ]
    },
    {
     "name": "stderr",
     "output_type": "stream",
     "text": [
      "image 1/1 /Users/codym/CAP/ai-starter-kit/yoda/data/sec-edgar-filings/AAPL/10-K/0000320193-23-000106/full-submission/images/page_82.jpg: 640x512 (no detections), 75.6ms\n",
      "Speed: 0.2ms preprocess, 75.6ms inference, 0.2ms postprocess per image at shape (1, 3, 640, 640)\n",
      "\n",
      "image 1/1 /Users/codym/CAP/ai-starter-kit/yoda/data/sec-edgar-filings/AAPL/10-K/0000320193-23-000106/full-submission/images/page_94.jpg: 640x512 (no detections), 77.0ms\n",
      "Speed: 0.3ms preprocess, 77.0ms inference, 0.2ms postprocess per image at shape (1, 3, 640, 640)\n",
      "\n"
     ]
    },
    {
     "name": "stdout",
     "output_type": "stream",
     "text": [
      "Cropping tables from /Users/codym/CAP/ai-starter-kit/yoda/data/sec-edgar-filings/AAPL/10-K/0000320193-23-000106/full-submission/images/page_94.jpg\n",
      "Cropping tables from /Users/codym/CAP/ai-starter-kit/yoda/data/sec-edgar-filings/AAPL/10-K/0000320193-23-000106/full-submission/images/page_80.jpg\n"
     ]
    },
    {
     "name": "stderr",
     "output_type": "stream",
     "text": [
      "image 1/1 /Users/codym/CAP/ai-starter-kit/yoda/data/sec-edgar-filings/AAPL/10-K/0000320193-23-000106/full-submission/images/page_80.jpg: 640x512 (no detections), 144.9ms\n",
      "Speed: 5.5ms preprocess, 144.9ms inference, 0.2ms postprocess per image at shape (1, 3, 640, 640)\n",
      "\n",
      "image 1/1 /Users/codym/CAP/ai-starter-kit/yoda/data/sec-edgar-filings/AAPL/10-K/0000320193-23-000106/full-submission/images/page_57.jpg: 640x512 2 borderlesss, 87.2ms\n",
      "Speed: 0.3ms preprocess, 87.2ms inference, 0.4ms postprocess per image at shape (1, 3, 640, 640)\n",
      "\n",
      "image 1/1 /Users/codym/CAP/ai-starter-kit/yoda/data/sec-edgar-filings/AAPL/10-K/0000320193-23-000106/full-submission/images/page_43.jpg: 640x512 1 borderless, 73.1ms\n",
      "Speed: 0.6ms preprocess, 73.1ms inference, 0.4ms postprocess per image at shape (1, 3, 640, 640)\n",
      "\n"
     ]
    },
    {
     "name": "stdout",
     "output_type": "stream",
     "text": [
      "Cropping tables from /Users/codym/CAP/ai-starter-kit/yoda/data/sec-edgar-filings/AAPL/10-K/0000320193-23-000106/full-submission/images/page_57.jpg\n",
      "Cropping tables from /Users/codym/CAP/ai-starter-kit/yoda/data/sec-edgar-filings/AAPL/10-K/0000320193-23-000106/full-submission/images/page_43.jpg\n",
      "Cropping tables from /Users/codym/CAP/ai-starter-kit/yoda/data/sec-edgar-filings/AAPL/10-K/0000320193-23-000106/full-submission/images/page_222.jpg\n"
     ]
    },
    {
     "name": "stderr",
     "output_type": "stream",
     "text": [
      "image 1/1 /Users/codym/CAP/ai-starter-kit/yoda/data/sec-edgar-filings/AAPL/10-K/0000320193-23-000106/full-submission/images/page_222.jpg: 640x512 (no detections), 108.6ms\n",
      "Speed: 0.2ms preprocess, 108.6ms inference, 0.3ms postprocess per image at shape (1, 3, 640, 640)\n",
      "\n",
      "image 1/1 /Users/codym/CAP/ai-starter-kit/yoda/data/sec-edgar-filings/AAPL/10-K/0000320193-23-000106/full-submission/images/page_236.jpg: 640x512 1 borderless, 105.2ms\n",
      "Speed: 0.2ms preprocess, 105.2ms inference, 0.4ms postprocess per image at shape (1, 3, 640, 640)\n",
      "\n"
     ]
    },
    {
     "name": "stdout",
     "output_type": "stream",
     "text": [
      "Cropping tables from /Users/codym/CAP/ai-starter-kit/yoda/data/sec-edgar-filings/AAPL/10-K/0000320193-23-000106/full-submission/images/page_236.jpg\n",
      "Cropping tables from /Users/codym/CAP/ai-starter-kit/yoda/data/sec-edgar-filings/AAPL/10-K/0000320193-23-000106/full-submission/images/page_7.jpg\n"
     ]
    },
    {
     "name": "stderr",
     "output_type": "stream",
     "text": [
      "image 1/1 /Users/codym/CAP/ai-starter-kit/yoda/data/sec-edgar-filings/AAPL/10-K/0000320193-23-000106/full-submission/images/page_7.jpg: 640x512 (no detections), 83.7ms\n",
      "Speed: 0.3ms preprocess, 83.7ms inference, 0.2ms postprocess per image at shape (1, 3, 640, 640)\n",
      "\n",
      "image 1/1 /Users/codym/CAP/ai-starter-kit/yoda/data/sec-edgar-filings/AAPL/10-K/0000320193-23-000106/full-submission/images/page_197.jpg: 640x512 (no detections), 76.0ms\n",
      "Speed: 0.2ms preprocess, 76.0ms inference, 0.3ms postprocess per image at shape (1, 3, 640, 640)\n",
      "\n",
      "image 1/1 /Users/codym/CAP/ai-starter-kit/yoda/data/sec-edgar-filings/AAPL/10-K/0000320193-23-000106/full-submission/images/page_183.jpg: 640x512 (no detections), 74.3ms\n",
      "Speed: 0.2ms preprocess, 74.3ms inference, 0.2ms postprocess per image at shape (1, 3, 640, 640)\n",
      "\n"
     ]
    },
    {
     "name": "stdout",
     "output_type": "stream",
     "text": [
      "Cropping tables from /Users/codym/CAP/ai-starter-kit/yoda/data/sec-edgar-filings/AAPL/10-K/0000320193-23-000106/full-submission/images/page_197.jpg\n",
      "Cropping tables from /Users/codym/CAP/ai-starter-kit/yoda/data/sec-edgar-filings/AAPL/10-K/0000320193-23-000106/full-submission/images/page_183.jpg\n",
      "Cropping tables from /Users/codym/CAP/ai-starter-kit/yoda/data/sec-edgar-filings/AAPL/10-K/0000320193-23-000106/full-submission/images/page_154.jpg\n"
     ]
    },
    {
     "name": "stderr",
     "output_type": "stream",
     "text": [
      "image 1/1 /Users/codym/CAP/ai-starter-kit/yoda/data/sec-edgar-filings/AAPL/10-K/0000320193-23-000106/full-submission/images/page_154.jpg: 640x512 (no detections), 83.8ms\n",
      "Speed: 3.3ms preprocess, 83.8ms inference, 0.2ms postprocess per image at shape (1, 3, 640, 640)\n",
      "\n",
      "image 1/1 /Users/codym/CAP/ai-starter-kit/yoda/data/sec-edgar-filings/AAPL/10-K/0000320193-23-000106/full-submission/images/page_140.jpg: 640x512 (no detections), 71.9ms\n",
      "Speed: 0.7ms preprocess, 71.9ms inference, 0.2ms postprocess per image at shape (1, 3, 640, 640)\n",
      "\n",
      "image 1/1 /Users/codym/CAP/ai-starter-kit/yoda/data/sec-edgar-filings/AAPL/10-K/0000320193-23-000106/full-submission/images/page_168.jpg: 640x512 (no detections), 67.6ms\n",
      "Speed: 0.2ms preprocess, 67.6ms inference, 0.2ms postprocess per image at shape (1, 3, 640, 640)\n",
      "\n"
     ]
    },
    {
     "name": "stdout",
     "output_type": "stream",
     "text": [
      "Cropping tables from /Users/codym/CAP/ai-starter-kit/yoda/data/sec-edgar-filings/AAPL/10-K/0000320193-23-000106/full-submission/images/page_140.jpg\n",
      "Cropping tables from /Users/codym/CAP/ai-starter-kit/yoda/data/sec-edgar-filings/AAPL/10-K/0000320193-23-000106/full-submission/images/page_168.jpg\n",
      "Cropping tables from /Users/codym/CAP/ai-starter-kit/yoda/data/sec-edgar-filings/AAPL/10-K/0000320193-23-000106/full-submission/images/page_169.jpg\n"
     ]
    },
    {
     "name": "stderr",
     "output_type": "stream",
     "text": [
      "image 1/1 /Users/codym/CAP/ai-starter-kit/yoda/data/sec-edgar-filings/AAPL/10-K/0000320193-23-000106/full-submission/images/page_169.jpg: 640x512 (no detections), 80.3ms\n",
      "Speed: 0.2ms preprocess, 80.3ms inference, 0.2ms postprocess per image at shape (1, 3, 640, 640)\n",
      "\n",
      "image 1/1 /Users/codym/CAP/ai-starter-kit/yoda/data/sec-edgar-filings/AAPL/10-K/0000320193-23-000106/full-submission/images/page_141.jpg: 640x512 (no detections), 75.1ms\n",
      "Speed: 0.3ms preprocess, 75.1ms inference, 0.2ms postprocess per image at shape (1, 3, 640, 640)\n",
      "\n",
      "image 1/1 /Users/codym/CAP/ai-starter-kit/yoda/data/sec-edgar-filings/AAPL/10-K/0000320193-23-000106/full-submission/images/page_155.jpg: 640x512 (no detections), 67.2ms\n",
      "Speed: 0.2ms preprocess, 67.2ms inference, 0.2ms postprocess per image at shape (1, 3, 640, 640)\n",
      "\n"
     ]
    },
    {
     "name": "stdout",
     "output_type": "stream",
     "text": [
      "Cropping tables from /Users/codym/CAP/ai-starter-kit/yoda/data/sec-edgar-filings/AAPL/10-K/0000320193-23-000106/full-submission/images/page_141.jpg\n",
      "Cropping tables from /Users/codym/CAP/ai-starter-kit/yoda/data/sec-edgar-filings/AAPL/10-K/0000320193-23-000106/full-submission/images/page_155.jpg\n",
      "Cropping tables from /Users/codym/CAP/ai-starter-kit/yoda/data/sec-edgar-filings/AAPL/10-K/0000320193-23-000106/full-submission/images/page_182.jpg\n"
     ]
    },
    {
     "name": "stderr",
     "output_type": "stream",
     "text": [
      "image 1/1 /Users/codym/CAP/ai-starter-kit/yoda/data/sec-edgar-filings/AAPL/10-K/0000320193-23-000106/full-submission/images/page_182.jpg: 640x512 (no detections), 65.9ms\n",
      "Speed: 0.2ms preprocess, 65.9ms inference, 0.2ms postprocess per image at shape (1, 3, 640, 640)\n",
      "\n",
      "image 1/1 /Users/codym/CAP/ai-starter-kit/yoda/data/sec-edgar-filings/AAPL/10-K/0000320193-23-000106/full-submission/images/page_6.jpg: 640x512 (no detections), 80.6ms\n",
      "Speed: 0.4ms preprocess, 80.6ms inference, 0.2ms postprocess per image at shape (1, 3, 640, 640)\n",
      "\n",
      "image 1/1 /Users/codym/CAP/ai-starter-kit/yoda/data/sec-edgar-filings/AAPL/10-K/0000320193-23-000106/full-submission/images/page_196.jpg: 640x512 (no detections), 80.5ms\n",
      "Speed: 0.2ms preprocess, 80.5ms inference, 0.2ms postprocess per image at shape (1, 3, 640, 640)\n",
      "\n"
     ]
    },
    {
     "name": "stdout",
     "output_type": "stream",
     "text": [
      "Cropping tables from /Users/codym/CAP/ai-starter-kit/yoda/data/sec-edgar-filings/AAPL/10-K/0000320193-23-000106/full-submission/images/page_6.jpg\n",
      "Cropping tables from /Users/codym/CAP/ai-starter-kit/yoda/data/sec-edgar-filings/AAPL/10-K/0000320193-23-000106/full-submission/images/page_196.jpg\n",
      "Cropping tables from /Users/codym/CAP/ai-starter-kit/yoda/data/sec-edgar-filings/AAPL/10-K/0000320193-23-000106/full-submission/images/page_237.jpg\n"
     ]
    },
    {
     "name": "stderr",
     "output_type": "stream",
     "text": [
      "image 1/1 /Users/codym/CAP/ai-starter-kit/yoda/data/sec-edgar-filings/AAPL/10-K/0000320193-23-000106/full-submission/images/page_237.jpg: 640x512 (no detections), 91.5ms\n",
      "Speed: 0.3ms preprocess, 91.5ms inference, 0.2ms postprocess per image at shape (1, 3, 640, 640)\n",
      "\n",
      "image 1/1 /Users/codym/CAP/ai-starter-kit/yoda/data/sec-edgar-filings/AAPL/10-K/0000320193-23-000106/full-submission/images/page_223.jpg: 640x512 (no detections), 73.4ms\n",
      "Speed: 0.5ms preprocess, 73.4ms inference, 0.2ms postprocess per image at shape (1, 3, 640, 640)\n",
      "\n",
      "image 1/1 /Users/codym/CAP/ai-starter-kit/yoda/data/sec-edgar-filings/AAPL/10-K/0000320193-23-000106/full-submission/images/page_42.jpg: 640x512 2 borderlesss, 72.0ms\n",
      "Speed: 0.3ms preprocess, 72.0ms inference, 0.4ms postprocess per image at shape (1, 3, 640, 640)\n"
     ]
    },
    {
     "name": "stdout",
     "output_type": "stream",
     "text": [
      "Cropping tables from /Users/codym/CAP/ai-starter-kit/yoda/data/sec-edgar-filings/AAPL/10-K/0000320193-23-000106/full-submission/images/page_223.jpg\n",
      "Cropping tables from /Users/codym/CAP/ai-starter-kit/yoda/data/sec-edgar-filings/AAPL/10-K/0000320193-23-000106/full-submission/images/page_42.jpg\n"
     ]
    },
    {
     "name": "stderr",
     "output_type": "stream",
     "text": [
      "\n",
      "image 1/1 /Users/codym/CAP/ai-starter-kit/yoda/data/sec-edgar-filings/AAPL/10-K/0000320193-23-000106/full-submission/images/page_56.jpg: 640x512 1 borderless, 72.0ms\n",
      "Speed: 1.2ms preprocess, 72.0ms inference, 0.4ms postprocess per image at shape (1, 3, 640, 640)\n",
      "\n",
      "image 1/1 /Users/codym/CAP/ai-starter-kit/yoda/data/sec-edgar-filings/AAPL/10-K/0000320193-23-000106/full-submission/images/page_81.jpg: 640x512 (no detections), 72.9ms\n",
      "Speed: 0.2ms preprocess, 72.9ms inference, 0.2ms postprocess per image at shape (1, 3, 640, 640)\n",
      "\n"
     ]
    },
    {
     "name": "stdout",
     "output_type": "stream",
     "text": [
      "Cropping tables from /Users/codym/CAP/ai-starter-kit/yoda/data/sec-edgar-filings/AAPL/10-K/0000320193-23-000106/full-submission/images/page_56.jpg\n",
      "Cropping tables from /Users/codym/CAP/ai-starter-kit/yoda/data/sec-edgar-filings/AAPL/10-K/0000320193-23-000106/full-submission/images/page_81.jpg\n",
      "Cropping tables from /Users/codym/CAP/ai-starter-kit/yoda/data/sec-edgar-filings/AAPL/10-K/0000320193-23-000106/full-submission/images/page_95.jpg\n"
     ]
    },
    {
     "name": "stderr",
     "output_type": "stream",
     "text": [
      "image 1/1 /Users/codym/CAP/ai-starter-kit/yoda/data/sec-edgar-filings/AAPL/10-K/0000320193-23-000106/full-submission/images/page_95.jpg: 640x512 3 borderlesss, 77.2ms\n",
      "Speed: 0.2ms preprocess, 77.2ms inference, 0.4ms postprocess per image at shape (1, 3, 640, 640)\n",
      "\n",
      "image 1/1 /Users/codym/CAP/ai-starter-kit/yoda/data/sec-edgar-filings/AAPL/10-K/0000320193-23-000106/full-submission/images/page_19.jpg: 640x512 1 borderless, 71.8ms\n",
      "Speed: 0.5ms preprocess, 71.8ms inference, 0.4ms postprocess per image at shape (1, 3, 640, 640)\n",
      "\n",
      "image 1/1 /Users/codym/CAP/ai-starter-kit/yoda/data/sec-edgar-filings/AAPL/10-K/0000320193-23-000106/full-submission/images/page_31.jpg: 640x512 1 borderless, 71.9ms\n",
      "Speed: 0.2ms preprocess, 71.9ms inference, 0.4ms postprocess per image at shape (1, 3, 640, 640)\n",
      "\n"
     ]
    },
    {
     "name": "stdout",
     "output_type": "stream",
     "text": [
      "Cropping tables from /Users/codym/CAP/ai-starter-kit/yoda/data/sec-edgar-filings/AAPL/10-K/0000320193-23-000106/full-submission/images/page_19.jpg\n",
      "Cropping tables from /Users/codym/CAP/ai-starter-kit/yoda/data/sec-edgar-filings/AAPL/10-K/0000320193-23-000106/full-submission/images/page_31.jpg\n",
      "Cropping tables from /Users/codym/CAP/ai-starter-kit/yoda/data/sec-edgar-filings/AAPL/10-K/0000320193-23-000106/full-submission/images/page_25.jpg\n"
     ]
    },
    {
     "name": "stderr",
     "output_type": "stream",
     "text": [
      "image 1/1 /Users/codym/CAP/ai-starter-kit/yoda/data/sec-edgar-filings/AAPL/10-K/0000320193-23-000106/full-submission/images/page_25.jpg: 640x512 (no detections), 90.0ms\n",
      "Speed: 0.5ms preprocess, 90.0ms inference, 0.2ms postprocess per image at shape (1, 3, 640, 640)\n",
      "\n",
      "image 1/1 /Users/codym/CAP/ai-starter-kit/yoda/data/sec-edgar-filings/AAPL/10-K/0000320193-23-000106/full-submission/images/page_244.jpg: 640x512 (no detections), 100.0ms\n",
      "Speed: 0.7ms preprocess, 100.0ms inference, 0.3ms postprocess per image at shape (1, 3, 640, 640)\n",
      "\n"
     ]
    },
    {
     "name": "stdout",
     "output_type": "stream",
     "text": [
      "Cropping tables from /Users/codym/CAP/ai-starter-kit/yoda/data/sec-edgar-filings/AAPL/10-K/0000320193-23-000106/full-submission/images/page_244.jpg\n",
      "Cropping tables from /Users/codym/CAP/ai-starter-kit/yoda/data/sec-edgar-filings/AAPL/10-K/0000320193-23-000106/full-submission/images/page_132.jpg\n"
     ]
    },
    {
     "name": "stderr",
     "output_type": "stream",
     "text": [
      "image 1/1 /Users/codym/CAP/ai-starter-kit/yoda/data/sec-edgar-filings/AAPL/10-K/0000320193-23-000106/full-submission/images/page_132.jpg: 640x512 (no detections), 85.7ms\n",
      "Speed: 0.4ms preprocess, 85.7ms inference, 0.2ms postprocess per image at shape (1, 3, 640, 640)\n",
      "\n",
      "image 1/1 /Users/codym/CAP/ai-starter-kit/yoda/data/sec-edgar-filings/AAPL/10-K/0000320193-23-000106/full-submission/images/page_126.jpg: 640x512 (no detections), 75.5ms\n",
      "Speed: 0.5ms preprocess, 75.5ms inference, 0.2ms postprocess per image at shape (1, 3, 640, 640)\n",
      "\n",
      "image 1/1 /Users/codym/CAP/ai-starter-kit/yoda/data/sec-edgar-filings/AAPL/10-K/0000320193-23-000106/full-submission/images/page_127.jpg: 640x512 (no detections), 77.9ms\n",
      "Speed: 0.5ms preprocess, 77.9ms inference, 0.3ms postprocess per image at shape (1, 3, 640, 640)\n"
     ]
    },
    {
     "name": "stdout",
     "output_type": "stream",
     "text": [
      "Cropping tables from /Users/codym/CAP/ai-starter-kit/yoda/data/sec-edgar-filings/AAPL/10-K/0000320193-23-000106/full-submission/images/page_126.jpg\n",
      "Cropping tables from /Users/codym/CAP/ai-starter-kit/yoda/data/sec-edgar-filings/AAPL/10-K/0000320193-23-000106/full-submission/images/page_127.jpg\n"
     ]
    },
    {
     "name": "stderr",
     "output_type": "stream",
     "text": [
      "\n",
      "image 1/1 /Users/codym/CAP/ai-starter-kit/yoda/data/sec-edgar-filings/AAPL/10-K/0000320193-23-000106/full-submission/images/page_133.jpg: 640x512 (no detections), 93.9ms\n",
      "Speed: 1.1ms preprocess, 93.9ms inference, 0.2ms postprocess per image at shape (1, 3, 640, 640)\n",
      "\n"
     ]
    },
    {
     "name": "stdout",
     "output_type": "stream",
     "text": [
      "Cropping tables from /Users/codym/CAP/ai-starter-kit/yoda/data/sec-edgar-filings/AAPL/10-K/0000320193-23-000106/full-submission/images/page_133.jpg\n",
      "Cropping tables from /Users/codym/CAP/ai-starter-kit/yoda/data/sec-edgar-filings/AAPL/10-K/0000320193-23-000106/full-submission/images/page_245.jpg\n"
     ]
    },
    {
     "name": "stderr",
     "output_type": "stream",
     "text": [
      "image 1/1 /Users/codym/CAP/ai-starter-kit/yoda/data/sec-edgar-filings/AAPL/10-K/0000320193-23-000106/full-submission/images/page_245.jpg: 640x512 (no detections), 98.1ms\n",
      "Speed: 0.6ms preprocess, 98.1ms inference, 0.2ms postprocess per image at shape (1, 3, 640, 640)\n",
      "\n",
      "image 1/1 /Users/codym/CAP/ai-starter-kit/yoda/data/sec-edgar-filings/AAPL/10-K/0000320193-23-000106/full-submission/images/page_24.jpg: 640x512 3 borderlesss, 82.1ms\n",
      "Speed: 0.2ms preprocess, 82.1ms inference, 0.4ms postprocess per image at shape (1, 3, 640, 640)\n",
      "\n",
      "image 1/1 /Users/codym/CAP/ai-starter-kit/yoda/data/sec-edgar-filings/AAPL/10-K/0000320193-23-000106/full-submission/images/page_30.jpg: 640x512 1 borderless, 71.5ms\n",
      "Speed: 0.3ms preprocess, 71.5ms inference, 0.4ms postprocess per image at shape (1, 3, 640, 640)\n",
      "\n"
     ]
    },
    {
     "name": "stdout",
     "output_type": "stream",
     "text": [
      "Cropping tables from /Users/codym/CAP/ai-starter-kit/yoda/data/sec-edgar-filings/AAPL/10-K/0000320193-23-000106/full-submission/images/page_24.jpg\n",
      "Cropping tables from /Users/codym/CAP/ai-starter-kit/yoda/data/sec-edgar-filings/AAPL/10-K/0000320193-23-000106/full-submission/images/page_30.jpg\n",
      "Cropping tables from /Users/codym/CAP/ai-starter-kit/yoda/data/sec-edgar-filings/AAPL/10-K/0000320193-23-000106/full-submission/images/page_18.jpg\n"
     ]
    },
    {
     "name": "stderr",
     "output_type": "stream",
     "text": [
      "image 1/1 /Users/codym/CAP/ai-starter-kit/yoda/data/sec-edgar-filings/AAPL/10-K/0000320193-23-000106/full-submission/images/page_18.jpg: 640x512 (no detections), 83.8ms\n",
      "Speed: 0.2ms preprocess, 83.8ms inference, 0.2ms postprocess per image at shape (1, 3, 640, 640)\n",
      "\n",
      "image 1/1 /Users/codym/CAP/ai-starter-kit/yoda/data/sec-edgar-filings/AAPL/10-K/0000320193-23-000106/full-submission/images/page_26.jpg: 640x512 (no detections), 97.2ms\n",
      "Speed: 0.3ms preprocess, 97.2ms inference, 0.2ms postprocess per image at shape (1, 3, 640, 640)\n",
      "\n"
     ]
    },
    {
     "name": "stdout",
     "output_type": "stream",
     "text": [
      "Cropping tables from /Users/codym/CAP/ai-starter-kit/yoda/data/sec-edgar-filings/AAPL/10-K/0000320193-23-000106/full-submission/images/page_26.jpg\n",
      "Cropping tables from /Users/codym/CAP/ai-starter-kit/yoda/data/sec-edgar-filings/AAPL/10-K/0000320193-23-000106/full-submission/images/page_32.jpg\n"
     ]
    },
    {
     "name": "stderr",
     "output_type": "stream",
     "text": [
      "image 1/1 /Users/codym/CAP/ai-starter-kit/yoda/data/sec-edgar-filings/AAPL/10-K/0000320193-23-000106/full-submission/images/page_32.jpg: 640x512 1 borderless, 77.3ms\n",
      "Speed: 0.5ms preprocess, 77.3ms inference, 0.4ms postprocess per image at shape (1, 3, 640, 640)\n",
      "\n",
      "image 1/1 /Users/codym/CAP/ai-starter-kit/yoda/data/sec-edgar-filings/AAPL/10-K/0000320193-23-000106/full-submission/images/page_119.jpg: 640x512 (no detections), 151.8ms\n",
      "Speed: 0.4ms preprocess, 151.8ms inference, 0.2ms postprocess per image at shape (1, 3, 640, 640)\n",
      "\n"
     ]
    },
    {
     "name": "stdout",
     "output_type": "stream",
     "text": [
      "Cropping tables from /Users/codym/CAP/ai-starter-kit/yoda/data/sec-edgar-filings/AAPL/10-K/0000320193-23-000106/full-submission/images/page_119.jpg\n",
      "Cropping tables from /Users/codym/CAP/ai-starter-kit/yoda/data/sec-edgar-filings/AAPL/10-K/0000320193-23-000106/full-submission/images/page_125.jpg\n"
     ]
    },
    {
     "name": "stderr",
     "output_type": "stream",
     "text": [
      "image 1/1 /Users/codym/CAP/ai-starter-kit/yoda/data/sec-edgar-filings/AAPL/10-K/0000320193-23-000106/full-submission/images/page_125.jpg: 640x512 (no detections), 125.1ms\n",
      "Speed: 0.4ms preprocess, 125.1ms inference, 12.4ms postprocess per image at shape (1, 3, 640, 640)\n",
      "\n",
      "image 1/1 /Users/codym/CAP/ai-starter-kit/yoda/data/sec-edgar-filings/AAPL/10-K/0000320193-23-000106/full-submission/images/page_131.jpg: 640x512 (no detections), 90.2ms\n",
      "Speed: 0.2ms preprocess, 90.2ms inference, 0.2ms postprocess per image at shape (1, 3, 640, 640)\n",
      "\n"
     ]
    },
    {
     "name": "stdout",
     "output_type": "stream",
     "text": [
      "Cropping tables from /Users/codym/CAP/ai-starter-kit/yoda/data/sec-edgar-filings/AAPL/10-K/0000320193-23-000106/full-submission/images/page_131.jpg\n",
      "Cropping tables from /Users/codym/CAP/ai-starter-kit/yoda/data/sec-edgar-filings/AAPL/10-K/0000320193-23-000106/full-submission/images/page_130.jpg\n"
     ]
    },
    {
     "name": "stderr",
     "output_type": "stream",
     "text": [
      "image 1/1 /Users/codym/CAP/ai-starter-kit/yoda/data/sec-edgar-filings/AAPL/10-K/0000320193-23-000106/full-submission/images/page_130.jpg: 640x512 (no detections), 69.2ms\n",
      "Speed: 0.2ms preprocess, 69.2ms inference, 0.2ms postprocess per image at shape (1, 3, 640, 640)\n",
      "\n",
      "image 1/1 /Users/codym/CAP/ai-starter-kit/yoda/data/sec-edgar-filings/AAPL/10-K/0000320193-23-000106/full-submission/images/page_124.jpg: 640x512 (no detections), 94.0ms\n",
      "Speed: 0.5ms preprocess, 94.0ms inference, 0.3ms postprocess per image at shape (1, 3, 640, 640)\n",
      "\n"
     ]
    },
    {
     "name": "stdout",
     "output_type": "stream",
     "text": [
      "Cropping tables from /Users/codym/CAP/ai-starter-kit/yoda/data/sec-edgar-filings/AAPL/10-K/0000320193-23-000106/full-submission/images/page_124.jpg\n",
      "Cropping tables from /Users/codym/CAP/ai-starter-kit/yoda/data/sec-edgar-filings/AAPL/10-K/0000320193-23-000106/full-submission/images/page_118.jpg\n"
     ]
    },
    {
     "name": "stderr",
     "output_type": "stream",
     "text": [
      "image 1/1 /Users/codym/CAP/ai-starter-kit/yoda/data/sec-edgar-filings/AAPL/10-K/0000320193-23-000106/full-submission/images/page_118.jpg: 640x512 (no detections), 72.2ms\n",
      "Speed: 0.8ms preprocess, 72.2ms inference, 0.2ms postprocess per image at shape (1, 3, 640, 640)\n",
      "\n",
      "image 1/1 /Users/codym/CAP/ai-starter-kit/yoda/data/sec-edgar-filings/AAPL/10-K/0000320193-23-000106/full-submission/images/page_246.jpg: 640x512 (no detections), 67.8ms\n",
      "Speed: 0.3ms preprocess, 67.8ms inference, 0.2ms postprocess per image at shape (1, 3, 640, 640)\n",
      "\n",
      "image 1/1 /Users/codym/CAP/ai-starter-kit/yoda/data/sec-edgar-filings/AAPL/10-K/0000320193-23-000106/full-submission/images/page_33.jpg: 640x512 1 borderless, 73.4ms\n",
      "Speed: 0.4ms preprocess, 73.4ms inference, 0.4ms postprocess per image at shape (1, 3, 640, 640)\n",
      "\n"
     ]
    },
    {
     "name": "stdout",
     "output_type": "stream",
     "text": [
      "Cropping tables from /Users/codym/CAP/ai-starter-kit/yoda/data/sec-edgar-filings/AAPL/10-K/0000320193-23-000106/full-submission/images/page_246.jpg\n",
      "Cropping tables from /Users/codym/CAP/ai-starter-kit/yoda/data/sec-edgar-filings/AAPL/10-K/0000320193-23-000106/full-submission/images/page_33.jpg\n",
      "Cropping tables from /Users/codym/CAP/ai-starter-kit/yoda/data/sec-edgar-filings/AAPL/10-K/0000320193-23-000106/full-submission/images/page_27.jpg\n"
     ]
    },
    {
     "name": "stderr",
     "output_type": "stream",
     "text": [
      "image 1/1 /Users/codym/CAP/ai-starter-kit/yoda/data/sec-edgar-filings/AAPL/10-K/0000320193-23-000106/full-submission/images/page_27.jpg: 640x512 1 borderless, 70.6ms\n",
      "Speed: 4.0ms preprocess, 70.6ms inference, 0.4ms postprocess per image at shape (1, 3, 640, 640)\n",
      "\n",
      "image 1/1 /Users/codym/CAP/ai-starter-kit/yoda/data/sec-edgar-filings/AAPL/10-K/0000320193-23-000106/full-submission/images/page_23.jpg: 640x512 1 borderless, 118.0ms\n",
      "Speed: 0.2ms preprocess, 118.0ms inference, 0.4ms postprocess per image at shape (1, 3, 640, 640)\n",
      "\n"
     ]
    },
    {
     "name": "stdout",
     "output_type": "stream",
     "text": [
      "Cropping tables from /Users/codym/CAP/ai-starter-kit/yoda/data/sec-edgar-filings/AAPL/10-K/0000320193-23-000106/full-submission/images/page_23.jpg\n",
      "Cropping tables from /Users/codym/CAP/ai-starter-kit/yoda/data/sec-edgar-filings/AAPL/10-K/0000320193-23-000106/full-submission/images/page_37.jpg\n"
     ]
    },
    {
     "name": "stderr",
     "output_type": "stream",
     "text": [
      "image 1/1 /Users/codym/CAP/ai-starter-kit/yoda/data/sec-edgar-filings/AAPL/10-K/0000320193-23-000106/full-submission/images/page_37.jpg: 640x512 2 borderlesss, 77.6ms\n",
      "Speed: 0.2ms preprocess, 77.6ms inference, 0.4ms postprocess per image at shape (1, 3, 640, 640)\n",
      "\n",
      "image 1/1 /Users/codym/CAP/ai-starter-kit/yoda/data/sec-edgar-filings/AAPL/10-K/0000320193-23-000106/full-submission/images/page_242.jpg: 640x512 1 borderless, 68.2ms\n",
      "Speed: 0.2ms preprocess, 68.2ms inference, 0.4ms postprocess per image at shape (1, 3, 640, 640)\n",
      "\n",
      "image 1/1 /Users/codym/CAP/ai-starter-kit/yoda/data/sec-edgar-filings/AAPL/10-K/0000320193-23-000106/full-submission/images/page_120.jpg: 640x512 (no detections), 72.3ms\n",
      "Speed: 0.2ms preprocess, 72.3ms inference, 0.2ms postprocess per image at shape (1, 3, 640, 640)\n",
      "\n"
     ]
    },
    {
     "name": "stdout",
     "output_type": "stream",
     "text": [
      "Cropping tables from /Users/codym/CAP/ai-starter-kit/yoda/data/sec-edgar-filings/AAPL/10-K/0000320193-23-000106/full-submission/images/page_242.jpg\n",
      "Cropping tables from /Users/codym/CAP/ai-starter-kit/yoda/data/sec-edgar-filings/AAPL/10-K/0000320193-23-000106/full-submission/images/page_120.jpg\n",
      "Cropping tables from /Users/codym/CAP/ai-starter-kit/yoda/data/sec-edgar-filings/AAPL/10-K/0000320193-23-000106/full-submission/images/page_134.jpg\n"
     ]
    },
    {
     "name": "stderr",
     "output_type": "stream",
     "text": [
      "image 1/1 /Users/codym/CAP/ai-starter-kit/yoda/data/sec-edgar-filings/AAPL/10-K/0000320193-23-000106/full-submission/images/page_134.jpg: 640x512 (no detections), 73.4ms\n",
      "Speed: 0.2ms preprocess, 73.4ms inference, 0.2ms postprocess per image at shape (1, 3, 640, 640)\n",
      "\n",
      "image 1/1 /Users/codym/CAP/ai-starter-kit/yoda/data/sec-edgar-filings/AAPL/10-K/0000320193-23-000106/full-submission/images/page_108.jpg: 640x512 1 borderless, 86.1ms\n",
      "Speed: 0.1ms preprocess, 86.1ms inference, 0.4ms postprocess per image at shape (1, 3, 640, 640)\n",
      "\n",
      "image 1/1 /Users/codym/CAP/ai-starter-kit/yoda/data/sec-edgar-filings/AAPL/10-K/0000320193-23-000106/full-submission/images/page_109.jpg: 640x512 (no detections), 70.1ms\n",
      "Speed: 0.2ms preprocess, 70.1ms inference, 0.2ms postprocess per image at shape (1, 3, 640, 640)\n",
      "\n"
     ]
    },
    {
     "name": "stdout",
     "output_type": "stream",
     "text": [
      "Cropping tables from /Users/codym/CAP/ai-starter-kit/yoda/data/sec-edgar-filings/AAPL/10-K/0000320193-23-000106/full-submission/images/page_108.jpg\n",
      "Cropping tables from /Users/codym/CAP/ai-starter-kit/yoda/data/sec-edgar-filings/AAPL/10-K/0000320193-23-000106/full-submission/images/page_109.jpg\n",
      "Cropping tables from /Users/codym/CAP/ai-starter-kit/yoda/data/sec-edgar-filings/AAPL/10-K/0000320193-23-000106/full-submission/images/page_135.jpg\n"
     ]
    },
    {
     "name": "stderr",
     "output_type": "stream",
     "text": [
      "image 1/1 /Users/codym/CAP/ai-starter-kit/yoda/data/sec-edgar-filings/AAPL/10-K/0000320193-23-000106/full-submission/images/page_135.jpg: 640x512 (no detections), 81.4ms\n",
      "Speed: 0.2ms preprocess, 81.4ms inference, 0.2ms postprocess per image at shape (1, 3, 640, 640)\n",
      "\n",
      "image 1/1 /Users/codym/CAP/ai-starter-kit/yoda/data/sec-edgar-filings/AAPL/10-K/0000320193-23-000106/full-submission/images/page_121.jpg: 640x512 (no detections), 85.6ms\n",
      "Speed: 0.2ms preprocess, 85.6ms inference, 0.2ms postprocess per image at shape (1, 3, 640, 640)\n",
      "\n"
     ]
    },
    {
     "name": "stdout",
     "output_type": "stream",
     "text": [
      "Cropping tables from /Users/codym/CAP/ai-starter-kit/yoda/data/sec-edgar-filings/AAPL/10-K/0000320193-23-000106/full-submission/images/page_121.jpg\n",
      "Cropping tables from /Users/codym/CAP/ai-starter-kit/yoda/data/sec-edgar-filings/AAPL/10-K/0000320193-23-000106/full-submission/images/page_243.jpg\n"
     ]
    },
    {
     "name": "stderr",
     "output_type": "stream",
     "text": [
      "image 1/1 /Users/codym/CAP/ai-starter-kit/yoda/data/sec-edgar-filings/AAPL/10-K/0000320193-23-000106/full-submission/images/page_243.jpg: 640x512 (no detections), 104.8ms\n",
      "Speed: 0.6ms preprocess, 104.8ms inference, 0.2ms postprocess per image at shape (1, 3, 640, 640)\n",
      "\n",
      "image 1/1 /Users/codym/CAP/ai-starter-kit/yoda/data/sec-edgar-filings/AAPL/10-K/0000320193-23-000106/full-submission/images/page_36.jpg: 640x512 2 borderlesss, 101.2ms\n",
      "Speed: 0.6ms preprocess, 101.2ms inference, 0.4ms postprocess per image at shape (1, 3, 640, 640)\n",
      "\n"
     ]
    },
    {
     "name": "stdout",
     "output_type": "stream",
     "text": [
      "Cropping tables from /Users/codym/CAP/ai-starter-kit/yoda/data/sec-edgar-filings/AAPL/10-K/0000320193-23-000106/full-submission/images/page_36.jpg\n",
      "Cropping tables from /Users/codym/CAP/ai-starter-kit/yoda/data/sec-edgar-filings/AAPL/10-K/0000320193-23-000106/full-submission/images/page_22.jpg\n"
     ]
    },
    {
     "name": "stderr",
     "output_type": "stream",
     "text": [
      "image 1/1 /Users/codym/CAP/ai-starter-kit/yoda/data/sec-edgar-filings/AAPL/10-K/0000320193-23-000106/full-submission/images/page_22.jpg: 640x512 1 borderless, 88.2ms\n",
      "Speed: 2.2ms preprocess, 88.2ms inference, 0.5ms postprocess per image at shape (1, 3, 640, 640)\n",
      "\n",
      "image 1/1 /Users/codym/CAP/ai-starter-kit/yoda/data/sec-edgar-filings/AAPL/10-K/0000320193-23-000106/full-submission/images/page_34.jpg: 640x512 (no detections), 78.6ms\n",
      "Speed: 0.2ms preprocess, 78.6ms inference, 0.2ms postprocess per image at shape (1, 3, 640, 640)\n",
      "\n",
      "image 1/1 /Users/codym/CAP/ai-starter-kit/yoda/data/sec-edgar-filings/AAPL/10-K/0000320193-23-000106/full-submission/images/page_20.jpg: 640x512 (no detections), 82.0ms\n",
      "Speed: 0.6ms preprocess, 82.0ms inference, 0.3ms postprocess per image at shape (1, 3, 640, 640)\n",
      "\n"
     ]
    },
    {
     "name": "stdout",
     "output_type": "stream",
     "text": [
      "Cropping tables from /Users/codym/CAP/ai-starter-kit/yoda/data/sec-edgar-filings/AAPL/10-K/0000320193-23-000106/full-submission/images/page_34.jpg\n",
      "Cropping tables from /Users/codym/CAP/ai-starter-kit/yoda/data/sec-edgar-filings/AAPL/10-K/0000320193-23-000106/full-submission/images/page_20.jpg\n",
      "Cropping tables from /Users/codym/CAP/ai-starter-kit/yoda/data/sec-edgar-filings/AAPL/10-K/0000320193-23-000106/full-submission/images/page_241.jpg\n"
     ]
    },
    {
     "name": "stderr",
     "output_type": "stream",
     "text": [
      "image 1/1 /Users/codym/CAP/ai-starter-kit/yoda/data/sec-edgar-filings/AAPL/10-K/0000320193-23-000106/full-submission/images/page_241.jpg: 640x512 (no detections), 97.2ms\n",
      "Speed: 0.3ms preprocess, 97.2ms inference, 0.2ms postprocess per image at shape (1, 3, 640, 640)\n",
      "\n",
      "image 1/1 /Users/codym/CAP/ai-starter-kit/yoda/data/sec-edgar-filings/AAPL/10-K/0000320193-23-000106/full-submission/images/page_137.jpg: 640x512 (no detections), 101.1ms\n",
      "Speed: 0.7ms preprocess, 101.1ms inference, 0.2ms postprocess per image at shape (1, 3, 640, 640)\n",
      "\n"
     ]
    },
    {
     "name": "stdout",
     "output_type": "stream",
     "text": [
      "Cropping tables from /Users/codym/CAP/ai-starter-kit/yoda/data/sec-edgar-filings/AAPL/10-K/0000320193-23-000106/full-submission/images/page_137.jpg\n",
      "Cropping tables from /Users/codym/CAP/ai-starter-kit/yoda/data/sec-edgar-filings/AAPL/10-K/0000320193-23-000106/full-submission/images/page_123.jpg\n"
     ]
    },
    {
     "name": "stderr",
     "output_type": "stream",
     "text": [
      "image 1/1 /Users/codym/CAP/ai-starter-kit/yoda/data/sec-edgar-filings/AAPL/10-K/0000320193-23-000106/full-submission/images/page_123.jpg: 640x512 (no detections), 94.3ms\n",
      "Speed: 0.5ms preprocess, 94.3ms inference, 0.2ms postprocess per image at shape (1, 3, 640, 640)\n",
      "\n",
      "image 1/1 /Users/codym/CAP/ai-starter-kit/yoda/data/sec-edgar-filings/AAPL/10-K/0000320193-23-000106/full-submission/images/page_122.jpg: 640x512 (no detections), 73.3ms\n",
      "Speed: 0.4ms preprocess, 73.3ms inference, 0.2ms postprocess per image at shape (1, 3, 640, 640)\n",
      "\n",
      "image 1/1 /Users/codym/CAP/ai-starter-kit/yoda/data/sec-edgar-filings/AAPL/10-K/0000320193-23-000106/full-submission/images/page_136.jpg: 640x512 (no detections), 75.3ms\n",
      "Speed: 0.2ms preprocess, 75.3ms inference, 0.2ms postprocess per image at shape (1, 3, 640, 640)\n",
      "\n"
     ]
    },
    {
     "name": "stdout",
     "output_type": "stream",
     "text": [
      "Cropping tables from /Users/codym/CAP/ai-starter-kit/yoda/data/sec-edgar-filings/AAPL/10-K/0000320193-23-000106/full-submission/images/page_122.jpg\n",
      "Cropping tables from /Users/codym/CAP/ai-starter-kit/yoda/data/sec-edgar-filings/AAPL/10-K/0000320193-23-000106/full-submission/images/page_136.jpg\n",
      "Cropping tables from /Users/codym/CAP/ai-starter-kit/yoda/data/sec-edgar-filings/AAPL/10-K/0000320193-23-000106/full-submission/images/page_240.jpg\n"
     ]
    },
    {
     "name": "stderr",
     "output_type": "stream",
     "text": [
      "image 1/1 /Users/codym/CAP/ai-starter-kit/yoda/data/sec-edgar-filings/AAPL/10-K/0000320193-23-000106/full-submission/images/page_240.jpg: 640x512 (no detections), 84.0ms\n",
      "Speed: 0.2ms preprocess, 84.0ms inference, 0.2ms postprocess per image at shape (1, 3, 640, 640)\n",
      "\n",
      "image 1/1 /Users/codym/CAP/ai-starter-kit/yoda/data/sec-edgar-filings/AAPL/10-K/0000320193-23-000106/full-submission/images/page_21.jpg: 640x512 (no detections), 74.4ms\n",
      "Speed: 0.6ms preprocess, 74.4ms inference, 0.2ms postprocess per image at shape (1, 3, 640, 640)\n",
      "\n",
      "image 1/1 /Users/codym/CAP/ai-starter-kit/yoda/data/sec-edgar-filings/AAPL/10-K/0000320193-23-000106/full-submission/images/page_35.jpg: 640x512 (no detections), 71.8ms\n",
      "Speed: 0.3ms preprocess, 71.8ms inference, 0.2ms postprocess per image at shape (1, 3, 640, 640)\n",
      "\n"
     ]
    },
    {
     "name": "stdout",
     "output_type": "stream",
     "text": [
      "Cropping tables from /Users/codym/CAP/ai-starter-kit/yoda/data/sec-edgar-filings/AAPL/10-K/0000320193-23-000106/full-submission/images/page_21.jpg\n",
      "Cropping tables from /Users/codym/CAP/ai-starter-kit/yoda/data/sec-edgar-filings/AAPL/10-K/0000320193-23-000106/full-submission/images/page_35.jpg\n",
      "Cropping tables from /Users/codym/CAP/ai-starter-kit/yoda/data/sec-edgar-filings/AAPL/10-K/0000320193-23-000106/full-submission/images/page_38.jpg\n"
     ]
    },
    {
     "name": "stderr",
     "output_type": "stream",
     "text": [
      "image 1/1 /Users/codym/CAP/ai-starter-kit/yoda/data/sec-edgar-filings/AAPL/10-K/0000320193-23-000106/full-submission/images/page_38.jpg: 640x512 1 borderless, 72.1ms\n",
      "Speed: 0.2ms preprocess, 72.1ms inference, 0.4ms postprocess per image at shape (1, 3, 640, 640)\n",
      "\n",
      "image 1/1 /Users/codym/CAP/ai-starter-kit/yoda/data/sec-edgar-filings/AAPL/10-K/0000320193-23-000106/full-submission/images/page_10.jpg: 640x512 (no detections), 69.1ms\n",
      "Speed: 8.4ms preprocess, 69.1ms inference, 0.2ms postprocess per image at shape (1, 3, 640, 640)\n",
      "\n",
      "image 1/1 /Users/codym/CAP/ai-starter-kit/yoda/data/sec-edgar-filings/AAPL/10-K/0000320193-23-000106/full-submission/images/page_113.jpg: 640x512 4 borderlesss, 72.2ms\n",
      "Speed: 0.2ms preprocess, 72.2ms inference, 0.4ms postprocess per image at shape (1, 3, 640, 640)\n",
      "\n"
     ]
    },
    {
     "name": "stdout",
     "output_type": "stream",
     "text": [
      "Cropping tables from /Users/codym/CAP/ai-starter-kit/yoda/data/sec-edgar-filings/AAPL/10-K/0000320193-23-000106/full-submission/images/page_10.jpg\n",
      "Cropping tables from /Users/codym/CAP/ai-starter-kit/yoda/data/sec-edgar-filings/AAPL/10-K/0000320193-23-000106/full-submission/images/page_113.jpg\n",
      "Cropping tables from /Users/codym/CAP/ai-starter-kit/yoda/data/sec-edgar-filings/AAPL/10-K/0000320193-23-000106/full-submission/images/page_107.jpg\n"
     ]
    },
    {
     "name": "stderr",
     "output_type": "stream",
     "text": [
      "image 1/1 /Users/codym/CAP/ai-starter-kit/yoda/data/sec-edgar-filings/AAPL/10-K/0000320193-23-000106/full-submission/images/page_107.jpg: 640x512 4 borderlesss, 97.2ms\n",
      "Speed: 0.9ms preprocess, 97.2ms inference, 0.5ms postprocess per image at shape (1, 3, 640, 640)\n",
      "\n",
      "image 1/1 /Users/codym/CAP/ai-starter-kit/yoda/data/sec-edgar-filings/AAPL/10-K/0000320193-23-000106/full-submission/images/page_106.jpg: 640x512 7 borderlesss, 96.9ms\n",
      "Speed: 0.8ms preprocess, 96.9ms inference, 0.4ms postprocess per image at shape (1, 3, 640, 640)\n",
      "\n"
     ]
    },
    {
     "name": "stdout",
     "output_type": "stream",
     "text": [
      "Cropping tables from /Users/codym/CAP/ai-starter-kit/yoda/data/sec-edgar-filings/AAPL/10-K/0000320193-23-000106/full-submission/images/page_106.jpg\n",
      "Cropping tables from /Users/codym/CAP/ai-starter-kit/yoda/data/sec-edgar-filings/AAPL/10-K/0000320193-23-000106/full-submission/images/page_112.jpg\n"
     ]
    },
    {
     "name": "stderr",
     "output_type": "stream",
     "text": [
      "image 1/1 /Users/codym/CAP/ai-starter-kit/yoda/data/sec-edgar-filings/AAPL/10-K/0000320193-23-000106/full-submission/images/page_112.jpg: 640x512 5 borderlesss, 188.0ms\n",
      "Speed: 0.4ms preprocess, 188.0ms inference, 0.4ms postprocess per image at shape (1, 3, 640, 640)\n",
      "\n",
      "image 1/1 /Users/codym/CAP/ai-starter-kit/yoda/data/sec-edgar-filings/AAPL/10-K/0000320193-23-000106/full-submission/images/page_11.jpg: 640x512 (no detections), 70.2ms\n",
      "Speed: 0.5ms preprocess, 70.2ms inference, 0.2ms postprocess per image at shape (1, 3, 640, 640)\n",
      "\n",
      "image 1/1 /Users/codym/CAP/ai-starter-kit/yoda/data/sec-edgar-filings/AAPL/10-K/0000320193-23-000106/full-submission/images/page_39.jpg: 640x512 2 borderlesss, 67.5ms\n",
      "Speed: 0.2ms preprocess, 67.5ms inference, 0.4ms postprocess per image at shape (1, 3, 640, 640)\n",
      "\n"
     ]
    },
    {
     "name": "stdout",
     "output_type": "stream",
     "text": [
      "Cropping tables from /Users/codym/CAP/ai-starter-kit/yoda/data/sec-edgar-filings/AAPL/10-K/0000320193-23-000106/full-submission/images/page_11.jpg\n",
      "Cropping tables from /Users/codym/CAP/ai-starter-kit/yoda/data/sec-edgar-filings/AAPL/10-K/0000320193-23-000106/full-submission/images/page_39.jpg\n",
      "Cropping tables from /Users/codym/CAP/ai-starter-kit/yoda/data/sec-edgar-filings/AAPL/10-K/0000320193-23-000106/full-submission/images/page_13.jpg\n"
     ]
    },
    {
     "name": "stderr",
     "output_type": "stream",
     "text": [
      "image 1/1 /Users/codym/CAP/ai-starter-kit/yoda/data/sec-edgar-filings/AAPL/10-K/0000320193-23-000106/full-submission/images/page_13.jpg: 640x512 (no detections), 81.8ms\n",
      "Speed: 0.4ms preprocess, 81.8ms inference, 0.2ms postprocess per image at shape (1, 3, 640, 640)\n",
      "\n",
      "image 1/1 /Users/codym/CAP/ai-starter-kit/yoda/data/sec-edgar-filings/AAPL/10-K/0000320193-23-000106/full-submission/images/page_138.jpg: 640x512 (no detections), 82.8ms\n",
      "Speed: 0.2ms preprocess, 82.8ms inference, 0.2ms postprocess per image at shape (1, 3, 640, 640)\n",
      "\n",
      "image 1/1 /Users/codym/CAP/ai-starter-kit/yoda/data/sec-edgar-filings/AAPL/10-K/0000320193-23-000106/full-submission/images/page_104.jpg: 640x512 6 borderlesss, 73.3ms\n",
      "Speed: 0.4ms preprocess, 73.3ms inference, 0.4ms postprocess per image at shape (1, 3, 640, 640)\n"
     ]
    },
    {
     "name": "stdout",
     "output_type": "stream",
     "text": [
      "Cropping tables from /Users/codym/CAP/ai-starter-kit/yoda/data/sec-edgar-filings/AAPL/10-K/0000320193-23-000106/full-submission/images/page_138.jpg\n",
      "Cropping tables from /Users/codym/CAP/ai-starter-kit/yoda/data/sec-edgar-filings/AAPL/10-K/0000320193-23-000106/full-submission/images/page_104.jpg\n"
     ]
    },
    {
     "name": "stderr",
     "output_type": "stream",
     "text": [
      "\n",
      "image 1/1 /Users/codym/CAP/ai-starter-kit/yoda/data/sec-edgar-filings/AAPL/10-K/0000320193-23-000106/full-submission/images/page_110.jpg: 640x512 1 borderless, 71.7ms\n",
      "Speed: 0.2ms preprocess, 71.7ms inference, 0.3ms postprocess per image at shape (1, 3, 640, 640)\n",
      "\n",
      "image 1/1 /Users/codym/CAP/ai-starter-kit/yoda/data/sec-edgar-filings/AAPL/10-K/0000320193-23-000106/full-submission/images/page_111.jpg: 640x512 1 borderless, 70.0ms\n",
      "Speed: 0.3ms preprocess, 70.0ms inference, 0.5ms postprocess per image at shape (1, 3, 640, 640)\n",
      "\n"
     ]
    },
    {
     "name": "stdout",
     "output_type": "stream",
     "text": [
      "Cropping tables from /Users/codym/CAP/ai-starter-kit/yoda/data/sec-edgar-filings/AAPL/10-K/0000320193-23-000106/full-submission/images/page_110.jpg\n",
      "Cropping tables from /Users/codym/CAP/ai-starter-kit/yoda/data/sec-edgar-filings/AAPL/10-K/0000320193-23-000106/full-submission/images/page_111.jpg\n",
      "Cropping tables from /Users/codym/CAP/ai-starter-kit/yoda/data/sec-edgar-filings/AAPL/10-K/0000320193-23-000106/full-submission/images/page_105.jpg\n"
     ]
    },
    {
     "name": "stderr",
     "output_type": "stream",
     "text": [
      "image 1/1 /Users/codym/CAP/ai-starter-kit/yoda/data/sec-edgar-filings/AAPL/10-K/0000320193-23-000106/full-submission/images/page_105.jpg: 640x512 6 borderlesss, 72.7ms\n",
      "Speed: 0.6ms preprocess, 72.7ms inference, 0.4ms postprocess per image at shape (1, 3, 640, 640)\n",
      "\n",
      "image 1/1 /Users/codym/CAP/ai-starter-kit/yoda/data/sec-edgar-filings/AAPL/10-K/0000320193-23-000106/full-submission/images/page_139.jpg: 640x512 (no detections), 67.8ms\n",
      "Speed: 0.4ms preprocess, 67.8ms inference, 0.2ms postprocess per image at shape (1, 3, 640, 640)\n",
      "\n",
      "image 1/1 /Users/codym/CAP/ai-starter-kit/yoda/data/sec-edgar-filings/AAPL/10-K/0000320193-23-000106/full-submission/images/page_12.jpg: 640x512 (no detections), 82.7ms\n",
      "Speed: 0.2ms preprocess, 82.7ms inference, 0.5ms postprocess per image at shape (1, 3, 640, 640)\n",
      "\n"
     ]
    },
    {
     "name": "stdout",
     "output_type": "stream",
     "text": [
      "Cropping tables from /Users/codym/CAP/ai-starter-kit/yoda/data/sec-edgar-filings/AAPL/10-K/0000320193-23-000106/full-submission/images/page_139.jpg\n",
      "Cropping tables from /Users/codym/CAP/ai-starter-kit/yoda/data/sec-edgar-filings/AAPL/10-K/0000320193-23-000106/full-submission/images/page_12.jpg\n",
      "Cropping tables from /Users/codym/CAP/ai-starter-kit/yoda/data/sec-edgar-filings/AAPL/10-K/0000320193-23-000106/full-submission/images/page_16.jpg\n"
     ]
    },
    {
     "name": "stderr",
     "output_type": "stream",
     "text": [
      "image 1/1 /Users/codym/CAP/ai-starter-kit/yoda/data/sec-edgar-filings/AAPL/10-K/0000320193-23-000106/full-submission/images/page_16.jpg: 640x512 (no detections), 96.8ms\n",
      "Speed: 0.5ms preprocess, 96.8ms inference, 0.2ms postprocess per image at shape (1, 3, 640, 640)\n",
      "\n",
      "image 1/1 /Users/codym/CAP/ai-starter-kit/yoda/data/sec-edgar-filings/AAPL/10-K/0000320193-23-000106/full-submission/images/page_101.jpg: 640x512 3 borderlesss, 110.9ms\n",
      "Speed: 0.6ms preprocess, 110.9ms inference, 0.7ms postprocess per image at shape (1, 3, 640, 640)\n",
      "\n"
     ]
    },
    {
     "name": "stdout",
     "output_type": "stream",
     "text": [
      "Cropping tables from /Users/codym/CAP/ai-starter-kit/yoda/data/sec-edgar-filings/AAPL/10-K/0000320193-23-000106/full-submission/images/page_101.jpg\n",
      "Cropping tables from /Users/codym/CAP/ai-starter-kit/yoda/data/sec-edgar-filings/AAPL/10-K/0000320193-23-000106/full-submission/images/page_115.jpg\n"
     ]
    },
    {
     "name": "stderr",
     "output_type": "stream",
     "text": [
      "image 1/1 /Users/codym/CAP/ai-starter-kit/yoda/data/sec-edgar-filings/AAPL/10-K/0000320193-23-000106/full-submission/images/page_115.jpg: 640x512 1 borderless, 102.9ms\n",
      "Speed: 0.8ms preprocess, 102.9ms inference, 1.2ms postprocess per image at shape (1, 3, 640, 640)\n",
      "\n",
      "image 1/1 /Users/codym/CAP/ai-starter-kit/yoda/data/sec-edgar-filings/AAPL/10-K/0000320193-23-000106/full-submission/images/page_129.jpg: 640x512 (no detections), 100.1ms\n",
      "Speed: 0.5ms preprocess, 100.1ms inference, 0.2ms postprocess per image at shape (1, 3, 640, 640)\n",
      "\n"
     ]
    },
    {
     "name": "stdout",
     "output_type": "stream",
     "text": [
      "Cropping tables from /Users/codym/CAP/ai-starter-kit/yoda/data/sec-edgar-filings/AAPL/10-K/0000320193-23-000106/full-submission/images/page_129.jpg\n",
      "Cropping tables from /Users/codym/CAP/ai-starter-kit/yoda/data/sec-edgar-filings/AAPL/10-K/0000320193-23-000106/full-submission/images/page_128.jpg\n"
     ]
    },
    {
     "name": "stderr",
     "output_type": "stream",
     "text": [
      "image 1/1 /Users/codym/CAP/ai-starter-kit/yoda/data/sec-edgar-filings/AAPL/10-K/0000320193-23-000106/full-submission/images/page_128.jpg: 640x512 (no detections), 104.7ms\n",
      "Speed: 0.6ms preprocess, 104.7ms inference, 0.3ms postprocess per image at shape (1, 3, 640, 640)\n",
      "\n",
      "image 1/1 /Users/codym/CAP/ai-starter-kit/yoda/data/sec-edgar-filings/AAPL/10-K/0000320193-23-000106/full-submission/images/page_114.jpg: 640x512 (no detections), 98.5ms\n",
      "Speed: 0.6ms preprocess, 98.5ms inference, 0.2ms postprocess per image at shape (1, 3, 640, 640)\n",
      "\n"
     ]
    },
    {
     "name": "stdout",
     "output_type": "stream",
     "text": [
      "Cropping tables from /Users/codym/CAP/ai-starter-kit/yoda/data/sec-edgar-filings/AAPL/10-K/0000320193-23-000106/full-submission/images/page_114.jpg\n",
      "Cropping tables from /Users/codym/CAP/ai-starter-kit/yoda/data/sec-edgar-filings/AAPL/10-K/0000320193-23-000106/full-submission/images/page_100.jpg\n"
     ]
    },
    {
     "name": "stderr",
     "output_type": "stream",
     "text": [
      "image 1/1 /Users/codym/CAP/ai-starter-kit/yoda/data/sec-edgar-filings/AAPL/10-K/0000320193-23-000106/full-submission/images/page_100.jpg: 640x512 1 borderless, 105.7ms\n",
      "Speed: 0.7ms preprocess, 105.7ms inference, 0.4ms postprocess per image at shape (1, 3, 640, 640)\n",
      "\n"
     ]
    },
    {
     "name": "stdout",
     "output_type": "stream",
     "text": [
      "Cropping tables from /Users/codym/CAP/ai-starter-kit/yoda/data/sec-edgar-filings/AAPL/10-K/0000320193-23-000106/full-submission/images/page_17.jpg\n"
     ]
    },
    {
     "name": "stderr",
     "output_type": "stream",
     "text": [
      "image 1/1 /Users/codym/CAP/ai-starter-kit/yoda/data/sec-edgar-filings/AAPL/10-K/0000320193-23-000106/full-submission/images/page_17.jpg: 640x512 (no detections), 197.5ms\n",
      "Speed: 5.8ms preprocess, 197.5ms inference, 0.4ms postprocess per image at shape (1, 3, 640, 640)\n",
      "\n",
      "image 1/1 /Users/codym/CAP/ai-starter-kit/yoda/data/sec-edgar-filings/AAPL/10-K/0000320193-23-000106/full-submission/images/page_15.jpg: 640x512 (no detections), 98.2ms\n",
      "Speed: 0.6ms preprocess, 98.2ms inference, 0.2ms postprocess per image at shape (1, 3, 640, 640)\n",
      "\n"
     ]
    },
    {
     "name": "stdout",
     "output_type": "stream",
     "text": [
      "Cropping tables from /Users/codym/CAP/ai-starter-kit/yoda/data/sec-edgar-filings/AAPL/10-K/0000320193-23-000106/full-submission/images/page_15.jpg\n",
      "Cropping tables from /Users/codym/CAP/ai-starter-kit/yoda/data/sec-edgar-filings/AAPL/10-K/0000320193-23-000106/full-submission/images/page_29.jpg\n"
     ]
    },
    {
     "name": "stderr",
     "output_type": "stream",
     "text": [
      "image 1/1 /Users/codym/CAP/ai-starter-kit/yoda/data/sec-edgar-filings/AAPL/10-K/0000320193-23-000106/full-submission/images/page_29.jpg: 640x512 1 borderless, 101.0ms\n",
      "Speed: 0.4ms preprocess, 101.0ms inference, 0.6ms postprocess per image at shape (1, 3, 640, 640)\n",
      "\n",
      "image 1/1 /Users/codym/CAP/ai-starter-kit/yoda/data/sec-edgar-filings/AAPL/10-K/0000320193-23-000106/full-submission/images/page_116.jpg: 640x512 2 borderlesss, 106.1ms\n",
      "Speed: 0.4ms preprocess, 106.1ms inference, 0.7ms postprocess per image at shape (1, 3, 640, 640)\n",
      "\n"
     ]
    },
    {
     "name": "stdout",
     "output_type": "stream",
     "text": [
      "Cropping tables from /Users/codym/CAP/ai-starter-kit/yoda/data/sec-edgar-filings/AAPL/10-K/0000320193-23-000106/full-submission/images/page_116.jpg\n",
      "Cropping tables from /Users/codym/CAP/ai-starter-kit/yoda/data/sec-edgar-filings/AAPL/10-K/0000320193-23-000106/full-submission/images/page_102.jpg\n"
     ]
    },
    {
     "name": "stderr",
     "output_type": "stream",
     "text": [
      "image 1/1 /Users/codym/CAP/ai-starter-kit/yoda/data/sec-edgar-filings/AAPL/10-K/0000320193-23-000106/full-submission/images/page_102.jpg: 640x512 (no detections), 102.4ms\n",
      "Speed: 0.6ms preprocess, 102.4ms inference, 0.3ms postprocess per image at shape (1, 3, 640, 640)\n",
      "\n",
      "image 1/1 /Users/codym/CAP/ai-starter-kit/yoda/data/sec-edgar-filings/AAPL/10-K/0000320193-23-000106/full-submission/images/page_103.jpg: 640x512 5 borderlesss, 108.9ms\n",
      "Speed: 0.4ms preprocess, 108.9ms inference, 0.5ms postprocess per image at shape (1, 3, 640, 640)\n",
      "\n"
     ]
    },
    {
     "name": "stdout",
     "output_type": "stream",
     "text": [
      "Cropping tables from /Users/codym/CAP/ai-starter-kit/yoda/data/sec-edgar-filings/AAPL/10-K/0000320193-23-000106/full-submission/images/page_103.jpg\n",
      "Cropping tables from /Users/codym/CAP/ai-starter-kit/yoda/data/sec-edgar-filings/AAPL/10-K/0000320193-23-000106/full-submission/images/page_117.jpg\n"
     ]
    },
    {
     "name": "stderr",
     "output_type": "stream",
     "text": [
      "image 1/1 /Users/codym/CAP/ai-starter-kit/yoda/data/sec-edgar-filings/AAPL/10-K/0000320193-23-000106/full-submission/images/page_117.jpg: 640x512 (no detections), 99.2ms\n",
      "Speed: 0.5ms preprocess, 99.2ms inference, 0.2ms postprocess per image at shape (1, 3, 640, 640)\n",
      "\n",
      "image 1/1 /Users/codym/CAP/ai-starter-kit/yoda/data/sec-edgar-filings/AAPL/10-K/0000320193-23-000106/full-submission/images/page_28.jpg: 640x512 2 borderlesss, 154.2ms\n",
      "Speed: 0.3ms preprocess, 154.2ms inference, 0.5ms postprocess per image at shape (1, 3, 640, 640)\n",
      "\n"
     ]
    },
    {
     "name": "stdout",
     "output_type": "stream",
     "text": [
      "Cropping tables from /Users/codym/CAP/ai-starter-kit/yoda/data/sec-edgar-filings/AAPL/10-K/0000320193-23-000106/full-submission/images/page_28.jpg\n",
      "Cropping tables from /Users/codym/CAP/ai-starter-kit/yoda/data/sec-edgar-filings/AAPL/10-K/0000320193-23-000106/full-submission/images/page_14.jpg\n"
     ]
    },
    {
     "name": "stderr",
     "output_type": "stream",
     "text": [
      "image 1/1 /Users/codym/CAP/ai-starter-kit/yoda/data/sec-edgar-filings/AAPL/10-K/0000320193-23-000106/full-submission/images/page_14.jpg: 640x512 (no detections), 131.4ms\n",
      "Speed: 0.6ms preprocess, 131.4ms inference, 0.3ms postprocess per image at shape (1, 3, 640, 640)\n",
      "\n",
      "image 1/1 /Users/codym/CAP/ai-starter-kit/yoda/data/sec-edgar-filings/AAPL/10-K/0000320193-23-000106/full-submission/images/page_98.jpg: 640x512 4 borderlesss, 119.8ms\n",
      "Speed: 0.9ms preprocess, 119.8ms inference, 0.9ms postprocess per image at shape (1, 3, 640, 640)\n",
      "\n"
     ]
    },
    {
     "name": "stdout",
     "output_type": "stream",
     "text": [
      "Cropping tables from /Users/codym/CAP/ai-starter-kit/yoda/data/sec-edgar-filings/AAPL/10-K/0000320193-23-000106/full-submission/images/page_98.jpg\n",
      "Cropping tables from /Users/codym/CAP/ai-starter-kit/yoda/data/sec-edgar-filings/AAPL/10-K/0000320193-23-000106/full-submission/images/page_73.jpg\n"
     ]
    },
    {
     "name": "stderr",
     "output_type": "stream",
     "text": [
      "image 1/1 /Users/codym/CAP/ai-starter-kit/yoda/data/sec-edgar-filings/AAPL/10-K/0000320193-23-000106/full-submission/images/page_73.jpg: 640x512 1 borderless, 119.0ms\n",
      "Speed: 2.0ms preprocess, 119.0ms inference, 0.4ms postprocess per image at shape (1, 3, 640, 640)\n",
      "\n",
      "image 1/1 /Users/codym/CAP/ai-starter-kit/yoda/data/sec-edgar-filings/AAPL/10-K/0000320193-23-000106/full-submission/images/page_67.jpg: 640x512 (no detections), 121.2ms\n",
      "Speed: 4.4ms preprocess, 121.2ms inference, 0.2ms postprocess per image at shape (1, 3, 640, 640)\n",
      "\n"
     ]
    },
    {
     "name": "stdout",
     "output_type": "stream",
     "text": [
      "Cropping tables from /Users/codym/CAP/ai-starter-kit/yoda/data/sec-edgar-filings/AAPL/10-K/0000320193-23-000106/full-submission/images/page_67.jpg\n",
      "Cropping tables from /Users/codym/CAP/ai-starter-kit/yoda/data/sec-edgar-filings/AAPL/10-K/0000320193-23-000106/full-submission/images/page_206.jpg\n"
     ]
    },
    {
     "name": "stderr",
     "output_type": "stream",
     "text": [
      "image 1/1 /Users/codym/CAP/ai-starter-kit/yoda/data/sec-edgar-filings/AAPL/10-K/0000320193-23-000106/full-submission/images/page_206.jpg: 640x512 (no detections), 104.1ms\n",
      "Speed: 0.3ms preprocess, 104.1ms inference, 0.2ms postprocess per image at shape (1, 3, 640, 640)\n",
      "\n",
      "image 1/1 /Users/codym/CAP/ai-starter-kit/yoda/data/sec-edgar-filings/AAPL/10-K/0000320193-23-000106/full-submission/images/page_212.jpg: 640x512 (no detections), 99.8ms\n",
      "Speed: 8.1ms preprocess, 99.8ms inference, 0.2ms postprocess per image at shape (1, 3, 640, 640)\n",
      "\n"
     ]
    },
    {
     "name": "stdout",
     "output_type": "stream",
     "text": [
      "Cropping tables from /Users/codym/CAP/ai-starter-kit/yoda/data/sec-edgar-filings/AAPL/10-K/0000320193-23-000106/full-submission/images/page_212.jpg\n",
      "Cropping tables from /Users/codym/CAP/ai-starter-kit/yoda/data/sec-edgar-filings/AAPL/10-K/0000320193-23-000106/full-submission/images/page_158.jpg\n"
     ]
    },
    {
     "name": "stderr",
     "output_type": "stream",
     "text": [
      "image 1/1 /Users/codym/CAP/ai-starter-kit/yoda/data/sec-edgar-filings/AAPL/10-K/0000320193-23-000106/full-submission/images/page_158.jpg: 640x512 (no detections), 98.5ms\n",
      "Speed: 0.6ms preprocess, 98.5ms inference, 0.3ms postprocess per image at shape (1, 3, 640, 640)\n",
      "\n",
      "image 1/1 /Users/codym/CAP/ai-starter-kit/yoda/data/sec-edgar-filings/AAPL/10-K/0000320193-23-000106/full-submission/images/page_170.jpg: 640x512 (no detections), 97.5ms\n",
      "Speed: 1.5ms preprocess, 97.5ms inference, 0.2ms postprocess per image at shape (1, 3, 640, 640)\n",
      "\n"
     ]
    },
    {
     "name": "stdout",
     "output_type": "stream",
     "text": [
      "Cropping tables from /Users/codym/CAP/ai-starter-kit/yoda/data/sec-edgar-filings/AAPL/10-K/0000320193-23-000106/full-submission/images/page_170.jpg\n",
      "Cropping tables from /Users/codym/CAP/ai-starter-kit/yoda/data/sec-edgar-filings/AAPL/10-K/0000320193-23-000106/full-submission/images/page_164.jpg\n"
     ]
    },
    {
     "name": "stderr",
     "output_type": "stream",
     "text": [
      "image 1/1 /Users/codym/CAP/ai-starter-kit/yoda/data/sec-edgar-filings/AAPL/10-K/0000320193-23-000106/full-submission/images/page_164.jpg: 640x512 (no detections), 92.5ms\n",
      "Speed: 0.4ms preprocess, 92.5ms inference, 0.2ms postprocess per image at shape (1, 3, 640, 640)\n",
      "\n",
      "image 1/1 /Users/codym/CAP/ai-starter-kit/yoda/data/sec-edgar-filings/AAPL/10-K/0000320193-23-000106/full-submission/images/page_165.jpg: 640x512 (no detections), 145.3ms\n",
      "Speed: 0.7ms preprocess, 145.3ms inference, 0.2ms postprocess per image at shape (1, 3, 640, 640)\n",
      "\n"
     ]
    },
    {
     "name": "stdout",
     "output_type": "stream",
     "text": [
      "Cropping tables from /Users/codym/CAP/ai-starter-kit/yoda/data/sec-edgar-filings/AAPL/10-K/0000320193-23-000106/full-submission/images/page_165.jpg\n",
      "Cropping tables from /Users/codym/CAP/ai-starter-kit/yoda/data/sec-edgar-filings/AAPL/10-K/0000320193-23-000106/full-submission/images/page_171.jpg\n"
     ]
    },
    {
     "name": "stderr",
     "output_type": "stream",
     "text": [
      "image 1/1 /Users/codym/CAP/ai-starter-kit/yoda/data/sec-edgar-filings/AAPL/10-K/0000320193-23-000106/full-submission/images/page_171.jpg: 640x512 (no detections), 189.5ms\n",
      "Speed: 0.3ms preprocess, 189.5ms inference, 0.3ms postprocess per image at shape (1, 3, 640, 640)\n",
      "\n",
      "image 1/1 /Users/codym/CAP/ai-starter-kit/yoda/data/sec-edgar-filings/AAPL/10-K/0000320193-23-000106/full-submission/images/page_159.jpg: 640x512 (no detections), 97.8ms\n",
      "Speed: 2.6ms preprocess, 97.8ms inference, 0.2ms postprocess per image at shape (1, 3, 640, 640)\n",
      "\n"
     ]
    },
    {
     "name": "stdout",
     "output_type": "stream",
     "text": [
      "Cropping tables from /Users/codym/CAP/ai-starter-kit/yoda/data/sec-edgar-filings/AAPL/10-K/0000320193-23-000106/full-submission/images/page_159.jpg\n",
      "Cropping tables from /Users/codym/CAP/ai-starter-kit/yoda/data/sec-edgar-filings/AAPL/10-K/0000320193-23-000106/full-submission/images/page_213.jpg\n"
     ]
    },
    {
     "name": "stderr",
     "output_type": "stream",
     "text": [
      "image 1/1 /Users/codym/CAP/ai-starter-kit/yoda/data/sec-edgar-filings/AAPL/10-K/0000320193-23-000106/full-submission/images/page_213.jpg: 640x512 (no detections), 101.7ms\n",
      "Speed: 0.5ms preprocess, 101.7ms inference, 0.2ms postprocess per image at shape (1, 3, 640, 640)\n",
      "\n",
      "image 1/1 /Users/codym/CAP/ai-starter-kit/yoda/data/sec-edgar-filings/AAPL/10-K/0000320193-23-000106/full-submission/images/page_207.jpg: 640x512 (no detections), 73.9ms\n",
      "Speed: 0.4ms preprocess, 73.9ms inference, 0.2ms postprocess per image at shape (1, 3, 640, 640)\n",
      "\n",
      "image 1/1 /Users/codym/CAP/ai-starter-kit/yoda/data/sec-edgar-filings/AAPL/10-K/0000320193-23-000106/full-submission/images/page_66.jpg: 640x512 (no detections), 71.8ms\n",
      "Speed: 0.4ms preprocess, 71.8ms inference, 0.2ms postprocess per image at shape (1, 3, 640, 640)\n",
      "\n"
     ]
    },
    {
     "name": "stdout",
     "output_type": "stream",
     "text": [
      "Cropping tables from /Users/codym/CAP/ai-starter-kit/yoda/data/sec-edgar-filings/AAPL/10-K/0000320193-23-000106/full-submission/images/page_207.jpg\n",
      "Cropping tables from /Users/codym/CAP/ai-starter-kit/yoda/data/sec-edgar-filings/AAPL/10-K/0000320193-23-000106/full-submission/images/page_66.jpg\n",
      "Cropping tables from /Users/codym/CAP/ai-starter-kit/yoda/data/sec-edgar-filings/AAPL/10-K/0000320193-23-000106/full-submission/images/page_72.jpg\n"
     ]
    },
    {
     "name": "stderr",
     "output_type": "stream",
     "text": [
      "image 1/1 /Users/codym/CAP/ai-starter-kit/yoda/data/sec-edgar-filings/AAPL/10-K/0000320193-23-000106/full-submission/images/page_72.jpg: 640x512 (no detections), 71.4ms\n",
      "Speed: 0.2ms preprocess, 71.4ms inference, 0.2ms postprocess per image at shape (1, 3, 640, 640)\n",
      "\n",
      "image 1/1 /Users/codym/CAP/ai-starter-kit/yoda/data/sec-edgar-filings/AAPL/10-K/0000320193-23-000106/full-submission/images/page_99.jpg: 640x512 5 borderlesss, 77.7ms\n",
      "Speed: 0.3ms preprocess, 77.7ms inference, 0.4ms postprocess per image at shape (1, 3, 640, 640)\n",
      "\n"
     ]
    },
    {
     "name": "stdout",
     "output_type": "stream",
     "text": [
      "Cropping tables from /Users/codym/CAP/ai-starter-kit/yoda/data/sec-edgar-filings/AAPL/10-K/0000320193-23-000106/full-submission/images/page_99.jpg\n",
      "Cropping tables from /Users/codym/CAP/ai-starter-kit/yoda/data/sec-edgar-filings/AAPL/10-K/0000320193-23-000106/full-submission/images/page_58.jpg\n"
     ]
    },
    {
     "name": "stderr",
     "output_type": "stream",
     "text": [
      "image 1/1 /Users/codym/CAP/ai-starter-kit/yoda/data/sec-edgar-filings/AAPL/10-K/0000320193-23-000106/full-submission/images/page_58.jpg: 640x512 (no detections), 110.4ms\n",
      "Speed: 0.2ms preprocess, 110.4ms inference, 0.2ms postprocess per image at shape (1, 3, 640, 640)\n",
      "\n",
      "image 1/1 /Users/codym/CAP/ai-starter-kit/yoda/data/sec-edgar-filings/AAPL/10-K/0000320193-23-000106/full-submission/images/page_64.jpg: 640x512 (no detections), 76.6ms\n",
      "Speed: 0.2ms preprocess, 76.6ms inference, 0.2ms postprocess per image at shape (1, 3, 640, 640)\n",
      "\n",
      "image 1/1 /Users/codym/CAP/ai-starter-kit/yoda/data/sec-edgar-filings/AAPL/10-K/0000320193-23-000106/full-submission/images/page_70.jpg: 640x512 (no detections), 70.0ms\n",
      "Speed: 0.3ms preprocess, 70.0ms inference, 0.2ms postprocess per image at shape (1, 3, 640, 640)\n",
      "\n"
     ]
    },
    {
     "name": "stdout",
     "output_type": "stream",
     "text": [
      "Cropping tables from /Users/codym/CAP/ai-starter-kit/yoda/data/sec-edgar-filings/AAPL/10-K/0000320193-23-000106/full-submission/images/page_64.jpg\n",
      "Cropping tables from /Users/codym/CAP/ai-starter-kit/yoda/data/sec-edgar-filings/AAPL/10-K/0000320193-23-000106/full-submission/images/page_70.jpg\n",
      "Cropping tables from /Users/codym/CAP/ai-starter-kit/yoda/data/sec-edgar-filings/AAPL/10-K/0000320193-23-000106/full-submission/images/page_239.jpg\n"
     ]
    },
    {
     "name": "stderr",
     "output_type": "stream",
     "text": [
      "image 1/1 /Users/codym/CAP/ai-starter-kit/yoda/data/sec-edgar-filings/AAPL/10-K/0000320193-23-000106/full-submission/images/page_239.jpg: 640x512 (no detections), 69.2ms\n",
      "Speed: 0.2ms preprocess, 69.2ms inference, 0.2ms postprocess per image at shape (1, 3, 640, 640)\n",
      "\n",
      "image 1/1 /Users/codym/CAP/ai-starter-kit/yoda/data/sec-edgar-filings/AAPL/10-K/0000320193-23-000106/full-submission/images/page_211.jpg: 640x512 (no detections), 70.1ms\n",
      "Speed: 0.5ms preprocess, 70.1ms inference, 0.2ms postprocess per image at shape (1, 3, 640, 640)\n",
      "\n"
     ]
    },
    {
     "name": "stdout",
     "output_type": "stream",
     "text": [
      "Cropping tables from /Users/codym/CAP/ai-starter-kit/yoda/data/sec-edgar-filings/AAPL/10-K/0000320193-23-000106/full-submission/images/page_211.jpg\n",
      "Cropping tables from /Users/codym/CAP/ai-starter-kit/yoda/data/sec-edgar-filings/AAPL/10-K/0000320193-23-000106/full-submission/images/page_205.jpg\n"
     ]
    },
    {
     "name": "stderr",
     "output_type": "stream",
     "text": [
      "image 1/1 /Users/codym/CAP/ai-starter-kit/yoda/data/sec-edgar-filings/AAPL/10-K/0000320193-23-000106/full-submission/images/page_205.jpg: 640x512 (no detections), 86.8ms\n",
      "Speed: 0.2ms preprocess, 86.8ms inference, 0.2ms postprocess per image at shape (1, 3, 640, 640)\n",
      "\n",
      "image 1/1 /Users/codym/CAP/ai-starter-kit/yoda/data/sec-edgar-filings/AAPL/10-K/0000320193-23-000106/full-submission/images/page_198.jpg: 640x512 (no detections), 70.0ms\n",
      "Speed: 0.2ms preprocess, 70.0ms inference, 0.2ms postprocess per image at shape (1, 3, 640, 640)\n",
      "\n",
      "image 1/1 /Users/codym/CAP/ai-starter-kit/yoda/data/sec-edgar-filings/AAPL/10-K/0000320193-23-000106/full-submission/images/page_8.jpg: 640x512 (no detections), 71.9ms\n",
      "Speed: 0.2ms preprocess, 71.9ms inference, 0.2ms postprocess per image at shape (1, 3, 640, 640)\n",
      "\n"
     ]
    },
    {
     "name": "stdout",
     "output_type": "stream",
     "text": [
      "Cropping tables from /Users/codym/CAP/ai-starter-kit/yoda/data/sec-edgar-filings/AAPL/10-K/0000320193-23-000106/full-submission/images/page_198.jpg\n",
      "Cropping tables from /Users/codym/CAP/ai-starter-kit/yoda/data/sec-edgar-filings/AAPL/10-K/0000320193-23-000106/full-submission/images/page_8.jpg\n",
      "Cropping tables from /Users/codym/CAP/ai-starter-kit/yoda/data/sec-edgar-filings/AAPL/10-K/0000320193-23-000106/full-submission/images/page_167.jpg\n"
     ]
    },
    {
     "name": "stderr",
     "output_type": "stream",
     "text": [
      "image 1/1 /Users/codym/CAP/ai-starter-kit/yoda/data/sec-edgar-filings/AAPL/10-K/0000320193-23-000106/full-submission/images/page_167.jpg: 640x512 (no detections), 72.8ms\n",
      "Speed: 0.2ms preprocess, 72.8ms inference, 0.2ms postprocess per image at shape (1, 3, 640, 640)\n",
      "\n",
      "image 1/1 /Users/codym/CAP/ai-starter-kit/yoda/data/sec-edgar-filings/AAPL/10-K/0000320193-23-000106/full-submission/images/page_173.jpg: 640x512 (no detections), 68.3ms\n",
      "Speed: 0.2ms preprocess, 68.3ms inference, 0.2ms postprocess per image at shape (1, 3, 640, 640)\n",
      "\n",
      "image 1/1 /Users/codym/CAP/ai-starter-kit/yoda/data/sec-edgar-filings/AAPL/10-K/0000320193-23-000106/full-submission/images/page_172.jpg: 640x512 (no detections), 78.1ms\n",
      "Speed: 0.2ms preprocess, 78.1ms inference, 0.2ms postprocess per image at shape (1, 3, 640, 640)\n",
      "\n"
     ]
    },
    {
     "name": "stdout",
     "output_type": "stream",
     "text": [
      "Cropping tables from /Users/codym/CAP/ai-starter-kit/yoda/data/sec-edgar-filings/AAPL/10-K/0000320193-23-000106/full-submission/images/page_173.jpg\n",
      "Cropping tables from /Users/codym/CAP/ai-starter-kit/yoda/data/sec-edgar-filings/AAPL/10-K/0000320193-23-000106/full-submission/images/page_172.jpg\n",
      "Cropping tables from /Users/codym/CAP/ai-starter-kit/yoda/data/sec-edgar-filings/AAPL/10-K/0000320193-23-000106/full-submission/images/page_166.jpg\n"
     ]
    },
    {
     "name": "stderr",
     "output_type": "stream",
     "text": [
      "image 1/1 /Users/codym/CAP/ai-starter-kit/yoda/data/sec-edgar-filings/AAPL/10-K/0000320193-23-000106/full-submission/images/page_166.jpg: 640x512 (no detections), 71.0ms\n",
      "Speed: 0.2ms preprocess, 71.0ms inference, 0.2ms postprocess per image at shape (1, 3, 640, 640)\n",
      "\n",
      "image 1/1 /Users/codym/CAP/ai-starter-kit/yoda/data/sec-edgar-filings/AAPL/10-K/0000320193-23-000106/full-submission/images/page_199.jpg: 640x512 (no detections), 89.8ms\n",
      "Speed: 0.2ms preprocess, 89.8ms inference, 0.2ms postprocess per image at shape (1, 3, 640, 640)\n",
      "\n",
      "image 1/1 /Users/codym/CAP/ai-starter-kit/yoda/data/sec-edgar-filings/AAPL/10-K/0000320193-23-000106/full-submission/images/page_9.jpg: 640x512 (no detections), 66.9ms\n",
      "Speed: 0.6ms preprocess, 66.9ms inference, 0.2ms postprocess per image at shape (1, 3, 640, 640)\n",
      "\n"
     ]
    },
    {
     "name": "stdout",
     "output_type": "stream",
     "text": [
      "Cropping tables from /Users/codym/CAP/ai-starter-kit/yoda/data/sec-edgar-filings/AAPL/10-K/0000320193-23-000106/full-submission/images/page_199.jpg\n",
      "Cropping tables from /Users/codym/CAP/ai-starter-kit/yoda/data/sec-edgar-filings/AAPL/10-K/0000320193-23-000106/full-submission/images/page_9.jpg\n",
      "Cropping tables from /Users/codym/CAP/ai-starter-kit/yoda/data/sec-edgar-filings/AAPL/10-K/0000320193-23-000106/full-submission/images/page_204.jpg\n"
     ]
    },
    {
     "name": "stderr",
     "output_type": "stream",
     "text": [
      "image 1/1 /Users/codym/CAP/ai-starter-kit/yoda/data/sec-edgar-filings/AAPL/10-K/0000320193-23-000106/full-submission/images/page_204.jpg: 640x512 (no detections), 67.4ms\n",
      "Speed: 0.3ms preprocess, 67.4ms inference, 0.2ms postprocess per image at shape (1, 3, 640, 640)\n",
      "\n",
      "image 1/1 /Users/codym/CAP/ai-starter-kit/yoda/data/sec-edgar-filings/AAPL/10-K/0000320193-23-000106/full-submission/images/page_210.jpg: 640x512 (no detections), 73.4ms\n",
      "Speed: 0.2ms preprocess, 73.4ms inference, 0.2ms postprocess per image at shape (1, 3, 640, 640)\n",
      "\n"
     ]
    },
    {
     "name": "stdout",
     "output_type": "stream",
     "text": [
      "Cropping tables from /Users/codym/CAP/ai-starter-kit/yoda/data/sec-edgar-filings/AAPL/10-K/0000320193-23-000106/full-submission/images/page_210.jpg\n",
      "Cropping tables from /Users/codym/CAP/ai-starter-kit/yoda/data/sec-edgar-filings/AAPL/10-K/0000320193-23-000106/full-submission/images/page_238.jpg\n"
     ]
    },
    {
     "name": "stderr",
     "output_type": "stream",
     "text": [
      "image 1/1 /Users/codym/CAP/ai-starter-kit/yoda/data/sec-edgar-filings/AAPL/10-K/0000320193-23-000106/full-submission/images/page_238.jpg: 640x512 (no detections), 91.3ms\n",
      "Speed: 0.2ms preprocess, 91.3ms inference, 0.2ms postprocess per image at shape (1, 3, 640, 640)\n",
      "\n",
      "image 1/1 /Users/codym/CAP/ai-starter-kit/yoda/data/sec-edgar-filings/AAPL/10-K/0000320193-23-000106/full-submission/images/page_71.jpg: 640x512 (no detections), 105.0ms\n",
      "Speed: 0.3ms preprocess, 105.0ms inference, 0.3ms postprocess per image at shape (1, 3, 640, 640)\n",
      "\n"
     ]
    },
    {
     "name": "stdout",
     "output_type": "stream",
     "text": [
      "Cropping tables from /Users/codym/CAP/ai-starter-kit/yoda/data/sec-edgar-filings/AAPL/10-K/0000320193-23-000106/full-submission/images/page_71.jpg\n",
      "Cropping tables from /Users/codym/CAP/ai-starter-kit/yoda/data/sec-edgar-filings/AAPL/10-K/0000320193-23-000106/full-submission/images/page_65.jpg\n"
     ]
    },
    {
     "name": "stderr",
     "output_type": "stream",
     "text": [
      "image 1/1 /Users/codym/CAP/ai-starter-kit/yoda/data/sec-edgar-filings/AAPL/10-K/0000320193-23-000106/full-submission/images/page_65.jpg: 640x512 (no detections), 86.0ms\n",
      "Speed: 0.5ms preprocess, 86.0ms inference, 0.2ms postprocess per image at shape (1, 3, 640, 640)\n",
      "\n",
      "image 1/1 /Users/codym/CAP/ai-starter-kit/yoda/data/sec-edgar-filings/AAPL/10-K/0000320193-23-000106/full-submission/images/page_59.jpg: 640x512 1 borderless, 125.4ms\n",
      "Speed: 16.4ms preprocess, 125.4ms inference, 2.2ms postprocess per image at shape (1, 3, 640, 640)\n",
      "\n"
     ]
    },
    {
     "name": "stdout",
     "output_type": "stream",
     "text": [
      "Cropping tables from /Users/codym/CAP/ai-starter-kit/yoda/data/sec-edgar-filings/AAPL/10-K/0000320193-23-000106/full-submission/images/page_59.jpg\n",
      "Cropping tables from /Users/codym/CAP/ai-starter-kit/yoda/data/sec-edgar-filings/AAPL/10-K/0000320193-23-000106/full-submission/images/page_61.jpg\n"
     ]
    },
    {
     "name": "stderr",
     "output_type": "stream",
     "text": [
      "image 1/1 /Users/codym/CAP/ai-starter-kit/yoda/data/sec-edgar-filings/AAPL/10-K/0000320193-23-000106/full-submission/images/page_61.jpg: 640x512 (no detections), 76.2ms\n",
      "Speed: 0.5ms preprocess, 76.2ms inference, 0.2ms postprocess per image at shape (1, 3, 640, 640)\n",
      "\n",
      "image 1/1 /Users/codym/CAP/ai-starter-kit/yoda/data/sec-edgar-filings/AAPL/10-K/0000320193-23-000106/full-submission/images/page_75.jpg: 640x512 1 borderless, 101.7ms\n",
      "Speed: 0.2ms preprocess, 101.7ms inference, 0.4ms postprocess per image at shape (1, 3, 640, 640)\n",
      "\n"
     ]
    },
    {
     "name": "stdout",
     "output_type": "stream",
     "text": [
      "Cropping tables from /Users/codym/CAP/ai-starter-kit/yoda/data/sec-edgar-filings/AAPL/10-K/0000320193-23-000106/full-submission/images/page_75.jpg\n",
      "Cropping tables from /Users/codym/CAP/ai-starter-kit/yoda/data/sec-edgar-filings/AAPL/10-K/0000320193-23-000106/full-submission/images/page_49.jpg\n"
     ]
    },
    {
     "name": "stderr",
     "output_type": "stream",
     "text": [
      "image 1/1 /Users/codym/CAP/ai-starter-kit/yoda/data/sec-edgar-filings/AAPL/10-K/0000320193-23-000106/full-submission/images/page_49.jpg: 640x512 1 borderless, 88.1ms\n",
      "Speed: 0.2ms preprocess, 88.1ms inference, 0.9ms postprocess per image at shape (1, 3, 640, 640)\n",
      "\n",
      "image 1/1 /Users/codym/CAP/ai-starter-kit/yoda/data/sec-edgar-filings/AAPL/10-K/0000320193-23-000106/full-submission/images/page_214.jpg: 640x512 (no detections), 101.8ms\n",
      "Speed: 0.2ms preprocess, 101.8ms inference, 0.2ms postprocess per image at shape (1, 3, 640, 640)\n",
      "\n"
     ]
    },
    {
     "name": "stdout",
     "output_type": "stream",
     "text": [
      "Cropping tables from /Users/codym/CAP/ai-starter-kit/yoda/data/sec-edgar-filings/AAPL/10-K/0000320193-23-000106/full-submission/images/page_214.jpg\n",
      "Cropping tables from /Users/codym/CAP/ai-starter-kit/yoda/data/sec-edgar-filings/AAPL/10-K/0000320193-23-000106/full-submission/images/page_200.jpg\n"
     ]
    },
    {
     "name": "stderr",
     "output_type": "stream",
     "text": [
      "image 1/1 /Users/codym/CAP/ai-starter-kit/yoda/data/sec-edgar-filings/AAPL/10-K/0000320193-23-000106/full-submission/images/page_200.jpg: 640x512 (no detections), 100.9ms\n",
      "Speed: 0.5ms preprocess, 100.9ms inference, 0.2ms postprocess per image at shape (1, 3, 640, 640)\n",
      "\n",
      "image 1/1 /Users/codym/CAP/ai-starter-kit/yoda/data/sec-edgar-filings/AAPL/10-K/0000320193-23-000106/full-submission/images/page_228.jpg: 640x512 (no detections), 86.1ms\n",
      "Speed: 0.4ms preprocess, 86.1ms inference, 0.2ms postprocess per image at shape (1, 3, 640, 640)\n",
      "\n"
     ]
    },
    {
     "name": "stdout",
     "output_type": "stream",
     "text": [
      "Cropping tables from /Users/codym/CAP/ai-starter-kit/yoda/data/sec-edgar-filings/AAPL/10-K/0000320193-23-000106/full-submission/images/page_228.jpg\n",
      "Cropping tables from /Users/codym/CAP/ai-starter-kit/yoda/data/sec-edgar-filings/AAPL/10-K/0000320193-23-000106/full-submission/images/page_189.jpg\n"
     ]
    },
    {
     "name": "stderr",
     "output_type": "stream",
     "text": [
      "image 1/1 /Users/codym/CAP/ai-starter-kit/yoda/data/sec-edgar-filings/AAPL/10-K/0000320193-23-000106/full-submission/images/page_189.jpg: 640x512 (no detections), 86.9ms\n",
      "Speed: 0.3ms preprocess, 86.9ms inference, 0.2ms postprocess per image at shape (1, 3, 640, 640)\n",
      "\n",
      "image 1/1 /Users/codym/CAP/ai-starter-kit/yoda/data/sec-edgar-filings/AAPL/10-K/0000320193-23-000106/full-submission/images/page_162.jpg: 640x512 (no detections), 73.9ms\n",
      "Speed: 0.2ms preprocess, 73.9ms inference, 0.2ms postprocess per image at shape (1, 3, 640, 640)\n",
      "\n"
     ]
    },
    {
     "name": "stdout",
     "output_type": "stream",
     "text": [
      "Cropping tables from /Users/codym/CAP/ai-starter-kit/yoda/data/sec-edgar-filings/AAPL/10-K/0000320193-23-000106/full-submission/images/page_162.jpg\n",
      "Cropping tables from /Users/codym/CAP/ai-starter-kit/yoda/data/sec-edgar-filings/AAPL/10-K/0000320193-23-000106/full-submission/images/page_176.jpg\n"
     ]
    },
    {
     "name": "stderr",
     "output_type": "stream",
     "text": [
      "image 1/1 /Users/codym/CAP/ai-starter-kit/yoda/data/sec-edgar-filings/AAPL/10-K/0000320193-23-000106/full-submission/images/page_176.jpg: 640x512 (no detections), 104.1ms\n",
      "Speed: 0.8ms preprocess, 104.1ms inference, 0.2ms postprocess per image at shape (1, 3, 640, 640)\n",
      "\n",
      "image 1/1 /Users/codym/CAP/ai-starter-kit/yoda/data/sec-edgar-filings/AAPL/10-K/0000320193-23-000106/full-submission/images/page_177.jpg: 640x512 (no detections), 75.2ms\n",
      "Speed: 0.2ms preprocess, 75.2ms inference, 0.2ms postprocess per image at shape (1, 3, 640, 640)\n",
      "\n",
      "image 1/1 /Users/codym/CAP/ai-starter-kit/yoda/data/sec-edgar-filings/AAPL/10-K/0000320193-23-000106/full-submission/images/page_163.jpg: 640x512 (no detections), 79.8ms\n",
      "Speed: 0.2ms preprocess, 79.8ms inference, 0.2ms postprocess per image at shape (1, 3, 640, 640)\n"
     ]
    },
    {
     "name": "stdout",
     "output_type": "stream",
     "text": [
      "Cropping tables from /Users/codym/CAP/ai-starter-kit/yoda/data/sec-edgar-filings/AAPL/10-K/0000320193-23-000106/full-submission/images/page_177.jpg\n",
      "Cropping tables from /Users/codym/CAP/ai-starter-kit/yoda/data/sec-edgar-filings/AAPL/10-K/0000320193-23-000106/full-submission/images/page_163.jpg\n"
     ]
    },
    {
     "name": "stderr",
     "output_type": "stream",
     "text": [
      "\n",
      "image 1/1 /Users/codym/CAP/ai-starter-kit/yoda/data/sec-edgar-filings/AAPL/10-K/0000320193-23-000106/full-submission/images/page_188.jpg: 640x512 (no detections), 81.7ms\n",
      "Speed: 0.5ms preprocess, 81.7ms inference, 0.2ms postprocess per image at shape (1, 3, 640, 640)\n",
      "\n"
     ]
    },
    {
     "name": "stdout",
     "output_type": "stream",
     "text": [
      "Cropping tables from /Users/codym/CAP/ai-starter-kit/yoda/data/sec-edgar-filings/AAPL/10-K/0000320193-23-000106/full-submission/images/page_188.jpg\n",
      "Cropping tables from /Users/codym/CAP/ai-starter-kit/yoda/data/sec-edgar-filings/AAPL/10-K/0000320193-23-000106/full-submission/images/page_229.jpg\n"
     ]
    },
    {
     "name": "stderr",
     "output_type": "stream",
     "text": [
      "image 1/1 /Users/codym/CAP/ai-starter-kit/yoda/data/sec-edgar-filings/AAPL/10-K/0000320193-23-000106/full-submission/images/page_229.jpg: 640x512 (no detections), 86.4ms\n",
      "Speed: 0.5ms preprocess, 86.4ms inference, 0.2ms postprocess per image at shape (1, 3, 640, 640)\n",
      "\n",
      "image 1/1 /Users/codym/CAP/ai-starter-kit/yoda/data/sec-edgar-filings/AAPL/10-K/0000320193-23-000106/full-submission/images/page_201.jpg: 640x512 (no detections), 150.2ms\n",
      "Speed: 0.3ms preprocess, 150.2ms inference, 0.3ms postprocess per image at shape (1, 3, 640, 640)\n",
      "\n"
     ]
    },
    {
     "name": "stdout",
     "output_type": "stream",
     "text": [
      "Cropping tables from /Users/codym/CAP/ai-starter-kit/yoda/data/sec-edgar-filings/AAPL/10-K/0000320193-23-000106/full-submission/images/page_201.jpg\n",
      "Cropping tables from /Users/codym/CAP/ai-starter-kit/yoda/data/sec-edgar-filings/AAPL/10-K/0000320193-23-000106/full-submission/images/page_215.jpg\n"
     ]
    },
    {
     "name": "stderr",
     "output_type": "stream",
     "text": [
      "image 1/1 /Users/codym/CAP/ai-starter-kit/yoda/data/sec-edgar-filings/AAPL/10-K/0000320193-23-000106/full-submission/images/page_215.jpg: 640x512 (no detections), 78.9ms\n",
      "Speed: 0.2ms preprocess, 78.9ms inference, 0.2ms postprocess per image at shape (1, 3, 640, 640)\n",
      "\n",
      "image 1/1 /Users/codym/CAP/ai-starter-kit/yoda/data/sec-edgar-filings/AAPL/10-K/0000320193-23-000106/full-submission/images/page_48.jpg: 640x512 1 borderless, 87.5ms\n",
      "Speed: 0.5ms preprocess, 87.5ms inference, 0.4ms postprocess per image at shape (1, 3, 640, 640)\n",
      "\n"
     ]
    },
    {
     "name": "stdout",
     "output_type": "stream",
     "text": [
      "Cropping tables from /Users/codym/CAP/ai-starter-kit/yoda/data/sec-edgar-filings/AAPL/10-K/0000320193-23-000106/full-submission/images/page_48.jpg\n",
      "Cropping tables from /Users/codym/CAP/ai-starter-kit/yoda/data/sec-edgar-filings/AAPL/10-K/0000320193-23-000106/full-submission/images/page_74.jpg\n"
     ]
    },
    {
     "name": "stderr",
     "output_type": "stream",
     "text": [
      "image 1/1 /Users/codym/CAP/ai-starter-kit/yoda/data/sec-edgar-filings/AAPL/10-K/0000320193-23-000106/full-submission/images/page_74.jpg: 640x512 (no detections), 82.4ms\n",
      "Speed: 0.2ms preprocess, 82.4ms inference, 0.2ms postprocess per image at shape (1, 3, 640, 640)\n",
      "\n",
      "image 1/1 /Users/codym/CAP/ai-starter-kit/yoda/data/sec-edgar-filings/AAPL/10-K/0000320193-23-000106/full-submission/images/page_60.jpg: 640x512 (no detections), 86.4ms\n",
      "Speed: 0.5ms preprocess, 86.4ms inference, 0.2ms postprocess per image at shape (1, 3, 640, 640)\n",
      "\n"
     ]
    },
    {
     "name": "stdout",
     "output_type": "stream",
     "text": [
      "Cropping tables from /Users/codym/CAP/ai-starter-kit/yoda/data/sec-edgar-filings/AAPL/10-K/0000320193-23-000106/full-submission/images/page_60.jpg\n",
      "Cropping tables from /Users/codym/CAP/ai-starter-kit/yoda/data/sec-edgar-filings/AAPL/10-K/0000320193-23-000106/full-submission/images/page_89.jpg\n"
     ]
    },
    {
     "name": "stderr",
     "output_type": "stream",
     "text": [
      "image 1/1 /Users/codym/CAP/ai-starter-kit/yoda/data/sec-edgar-filings/AAPL/10-K/0000320193-23-000106/full-submission/images/page_89.jpg: 640x512 (no detections), 82.4ms\n",
      "Speed: 0.3ms preprocess, 82.4ms inference, 0.2ms postprocess per image at shape (1, 3, 640, 640)\n",
      "\n",
      "image 1/1 /Users/codym/CAP/ai-starter-kit/yoda/data/sec-edgar-filings/AAPL/10-K/0000320193-23-000106/full-submission/images/page_76.jpg: 640x512 (no detections), 74.1ms\n",
      "Speed: 0.8ms preprocess, 74.1ms inference, 0.2ms postprocess per image at shape (1, 3, 640, 640)\n",
      "\n",
      "image 1/1 /Users/codym/CAP/ai-starter-kit/yoda/data/sec-edgar-filings/AAPL/10-K/0000320193-23-000106/full-submission/images/page_62.jpg: 640x512 (no detections), 74.6ms\n",
      "Speed: 0.3ms preprocess, 74.6ms inference, 0.2ms postprocess per image at shape (1, 3, 640, 640)\n",
      "\n"
     ]
    },
    {
     "name": "stdout",
     "output_type": "stream",
     "text": [
      "Cropping tables from /Users/codym/CAP/ai-starter-kit/yoda/data/sec-edgar-filings/AAPL/10-K/0000320193-23-000106/full-submission/images/page_76.jpg\n",
      "Cropping tables from /Users/codym/CAP/ai-starter-kit/yoda/data/sec-edgar-filings/AAPL/10-K/0000320193-23-000106/full-submission/images/page_62.jpg\n",
      "Cropping tables from /Users/codym/CAP/ai-starter-kit/yoda/data/sec-edgar-filings/AAPL/10-K/0000320193-23-000106/full-submission/images/page_203.jpg\n"
     ]
    },
    {
     "name": "stderr",
     "output_type": "stream",
     "text": [
      "image 1/1 /Users/codym/CAP/ai-starter-kit/yoda/data/sec-edgar-filings/AAPL/10-K/0000320193-23-000106/full-submission/images/page_203.jpg: 640x512 (no detections), 77.9ms\n",
      "Speed: 0.2ms preprocess, 77.9ms inference, 0.2ms postprocess per image at shape (1, 3, 640, 640)\n",
      "\n",
      "image 1/1 /Users/codym/CAP/ai-starter-kit/yoda/data/sec-edgar-filings/AAPL/10-K/0000320193-23-000106/full-submission/images/page_217.jpg: 640x512 (no detections), 89.5ms\n",
      "Speed: 4.5ms preprocess, 89.5ms inference, 0.2ms postprocess per image at shape (1, 3, 640, 640)\n",
      "\n"
     ]
    },
    {
     "name": "stdout",
     "output_type": "stream",
     "text": [
      "Cropping tables from /Users/codym/CAP/ai-starter-kit/yoda/data/sec-edgar-filings/AAPL/10-K/0000320193-23-000106/full-submission/images/page_217.jpg\n",
      "Cropping tables from /Users/codym/CAP/ai-starter-kit/yoda/data/sec-edgar-filings/AAPL/10-K/0000320193-23-000106/full-submission/images/page_175.jpg\n"
     ]
    },
    {
     "name": "stderr",
     "output_type": "stream",
     "text": [
      "image 1/1 /Users/codym/CAP/ai-starter-kit/yoda/data/sec-edgar-filings/AAPL/10-K/0000320193-23-000106/full-submission/images/page_175.jpg: 640x512 (no detections), 84.4ms\n",
      "Speed: 0.3ms preprocess, 84.4ms inference, 0.2ms postprocess per image at shape (1, 3, 640, 640)\n",
      "\n",
      "image 1/1 /Users/codym/CAP/ai-starter-kit/yoda/data/sec-edgar-filings/AAPL/10-K/0000320193-23-000106/full-submission/images/page_161.jpg: 640x512 (no detections), 84.7ms\n",
      "Speed: 0.2ms preprocess, 84.7ms inference, 0.2ms postprocess per image at shape (1, 3, 640, 640)\n",
      "\n",
      "image 1/1 /Users/codym/CAP/ai-starter-kit/yoda/data/sec-edgar-filings/AAPL/10-K/0000320193-23-000106/full-submission/images/page_149.jpg: 640x512 (no detections), 71.4ms\n",
      "Speed: 0.2ms preprocess, 71.4ms inference, 0.2ms postprocess per image at shape (1, 3, 640, 640)\n"
     ]
    },
    {
     "name": "stdout",
     "output_type": "stream",
     "text": [
      "Cropping tables from /Users/codym/CAP/ai-starter-kit/yoda/data/sec-edgar-filings/AAPL/10-K/0000320193-23-000106/full-submission/images/page_161.jpg\n",
      "Cropping tables from /Users/codym/CAP/ai-starter-kit/yoda/data/sec-edgar-filings/AAPL/10-K/0000320193-23-000106/full-submission/images/page_149.jpg\n"
     ]
    },
    {
     "name": "stderr",
     "output_type": "stream",
     "text": [
      "\n",
      "image 1/1 /Users/codym/CAP/ai-starter-kit/yoda/data/sec-edgar-filings/AAPL/10-K/0000320193-23-000106/full-submission/images/page_148.jpg: 640x512 (no detections), 69.6ms\n",
      "Speed: 0.2ms preprocess, 69.6ms inference, 0.2ms postprocess per image at shape (1, 3, 640, 640)\n",
      "\n",
      "image 1/1 /Users/codym/CAP/ai-starter-kit/yoda/data/sec-edgar-filings/AAPL/10-K/0000320193-23-000106/full-submission/images/page_160.jpg: 640x512 (no detections), 65.2ms\n",
      "Speed: 0.2ms preprocess, 65.2ms inference, 0.2ms postprocess per image at shape (1, 3, 640, 640)\n",
      "\n"
     ]
    },
    {
     "name": "stdout",
     "output_type": "stream",
     "text": [
      "Cropping tables from /Users/codym/CAP/ai-starter-kit/yoda/data/sec-edgar-filings/AAPL/10-K/0000320193-23-000106/full-submission/images/page_148.jpg\n",
      "Cropping tables from /Users/codym/CAP/ai-starter-kit/yoda/data/sec-edgar-filings/AAPL/10-K/0000320193-23-000106/full-submission/images/page_160.jpg\n",
      "Cropping tables from /Users/codym/CAP/ai-starter-kit/yoda/data/sec-edgar-filings/AAPL/10-K/0000320193-23-000106/full-submission/images/page_174.jpg\n"
     ]
    },
    {
     "name": "stderr",
     "output_type": "stream",
     "text": [
      "image 1/1 /Users/codym/CAP/ai-starter-kit/yoda/data/sec-edgar-filings/AAPL/10-K/0000320193-23-000106/full-submission/images/page_174.jpg: 640x512 (no detections), 79.1ms\n",
      "Speed: 0.3ms preprocess, 79.1ms inference, 0.2ms postprocess per image at shape (1, 3, 640, 640)\n",
      "\n",
      "image 1/1 /Users/codym/CAP/ai-starter-kit/yoda/data/sec-edgar-filings/AAPL/10-K/0000320193-23-000106/full-submission/images/page_216.jpg: 640x512 (no detections), 73.6ms\n",
      "Speed: 0.2ms preprocess, 73.6ms inference, 0.2ms postprocess per image at shape (1, 3, 640, 640)\n",
      "\n"
     ]
    },
    {
     "name": "stdout",
     "output_type": "stream",
     "text": [
      "Cropping tables from /Users/codym/CAP/ai-starter-kit/yoda/data/sec-edgar-filings/AAPL/10-K/0000320193-23-000106/full-submission/images/page_216.jpg\n",
      "Cropping tables from /Users/codym/CAP/ai-starter-kit/yoda/data/sec-edgar-filings/AAPL/10-K/0000320193-23-000106/full-submission/images/page_202.jpg\n"
     ]
    },
    {
     "name": "stderr",
     "output_type": "stream",
     "text": [
      "image 1/1 /Users/codym/CAP/ai-starter-kit/yoda/data/sec-edgar-filings/AAPL/10-K/0000320193-23-000106/full-submission/images/page_202.jpg: 640x512 (no detections), 75.4ms\n",
      "Speed: 0.2ms preprocess, 75.4ms inference, 0.2ms postprocess per image at shape (1, 3, 640, 640)\n",
      "\n",
      "image 1/1 /Users/codym/CAP/ai-starter-kit/yoda/data/sec-edgar-filings/AAPL/10-K/0000320193-23-000106/full-submission/images/page_63.jpg: 640x512 (no detections), 62.9ms\n",
      "Speed: 0.2ms preprocess, 62.9ms inference, 0.2ms postprocess per image at shape (1, 3, 640, 640)\n",
      "\n",
      "image 1/1 /Users/codym/CAP/ai-starter-kit/yoda/data/sec-edgar-filings/AAPL/10-K/0000320193-23-000106/full-submission/images/page_77.jpg: 640x512 (no detections), 68.9ms\n",
      "Speed: 0.2ms preprocess, 68.9ms inference, 0.2ms postprocess per image at shape (1, 3, 640, 640)\n",
      "\n"
     ]
    },
    {
     "name": "stdout",
     "output_type": "stream",
     "text": [
      "Cropping tables from /Users/codym/CAP/ai-starter-kit/yoda/data/sec-edgar-filings/AAPL/10-K/0000320193-23-000106/full-submission/images/page_63.jpg\n",
      "Cropping tables from /Users/codym/CAP/ai-starter-kit/yoda/data/sec-edgar-filings/AAPL/10-K/0000320193-23-000106/full-submission/images/page_77.jpg\n",
      "Cropping tables from /Users/codym/CAP/ai-starter-kit/yoda/data/sec-edgar-filings/AAPL/10-K/0000320193-23-000106/full-submission/images/page_88.jpg\n"
     ]
    },
    {
     "name": "stderr",
     "output_type": "stream",
     "text": [
      "image 1/1 /Users/codym/CAP/ai-starter-kit/yoda/data/sec-edgar-filings/AAPL/10-K/0000320193-23-000106/full-submission/images/page_88.jpg: 640x512 (no detections), 147.5ms\n",
      "Speed: 0.2ms preprocess, 147.5ms inference, 0.2ms postprocess per image at shape (1, 3, 640, 640)\n",
      "\n",
      "image 1/1 /Users/codym/CAP/ai-starter-kit/yoda/data/sec-edgar-filings/NVDA/10-Q/0001045810-23-000093/full-submission/images/page_91.jpg: 640x512 (no detections), 88.6ms\n",
      "Speed: 0.2ms preprocess, 88.6ms inference, 0.3ms postprocess per image at shape (1, 3, 640, 640)\n",
      "\n"
     ]
    },
    {
     "name": "stdout",
     "output_type": "stream",
     "text": [
      "Cropping tables from /Users/codym/CAP/ai-starter-kit/yoda/data/sec-edgar-filings/NVDA/10-Q/0001045810-23-000093/full-submission/images/page_91.jpg\n",
      "Cropping tables from /Users/codym/CAP/ai-starter-kit/yoda/data/sec-edgar-filings/NVDA/10-Q/0001045810-23-000093/full-submission/images/page_85.jpg\n"
     ]
    },
    {
     "name": "stderr",
     "output_type": "stream",
     "text": [
      "image 1/1 /Users/codym/CAP/ai-starter-kit/yoda/data/sec-edgar-filings/NVDA/10-Q/0001045810-23-000093/full-submission/images/page_85.jpg: 640x512 (no detections), 84.7ms\n",
      "Speed: 0.2ms preprocess, 84.7ms inference, 0.2ms postprocess per image at shape (1, 3, 640, 640)\n",
      "\n",
      "image 1/1 /Users/codym/CAP/ai-starter-kit/yoda/data/sec-edgar-filings/NVDA/10-Q/0001045810-23-000093/full-submission/images/page_52.jpg: 640x512 1 bordered, 3 borderlesss, 83.4ms\n",
      "Speed: 0.5ms preprocess, 83.4ms inference, 0.4ms postprocess per image at shape (1, 3, 640, 640)\n",
      "\n"
     ]
    },
    {
     "name": "stdout",
     "output_type": "stream",
     "text": [
      "Cropping tables from /Users/codym/CAP/ai-starter-kit/yoda/data/sec-edgar-filings/NVDA/10-Q/0001045810-23-000093/full-submission/images/page_52.jpg\n",
      "Cropping tables from /Users/codym/CAP/ai-starter-kit/yoda/data/sec-edgar-filings/NVDA/10-Q/0001045810-23-000093/full-submission/images/page_46.jpg\n"
     ]
    },
    {
     "name": "stderr",
     "output_type": "stream",
     "text": [
      "image 1/1 /Users/codym/CAP/ai-starter-kit/yoda/data/sec-edgar-filings/NVDA/10-Q/0001045810-23-000093/full-submission/images/page_46.jpg: 640x512 (no detections), 86.4ms\n",
      "Speed: 0.2ms preprocess, 86.4ms inference, 0.2ms postprocess per image at shape (1, 3, 640, 640)\n",
      "\n",
      "image 1/1 /Users/codym/CAP/ai-starter-kit/yoda/data/sec-edgar-filings/NVDA/10-Q/0001045810-23-000093/full-submission/images/page_2.jpg: 640x512 1 borderless, 73.0ms\n",
      "Speed: 0.6ms preprocess, 73.0ms inference, 0.4ms postprocess per image at shape (1, 3, 640, 640)\n",
      "\n"
     ]
    },
    {
     "name": "stdout",
     "output_type": "stream",
     "text": [
      "Cropping tables from /Users/codym/CAP/ai-starter-kit/yoda/data/sec-edgar-filings/NVDA/10-Q/0001045810-23-000093/full-submission/images/page_2.jpg\n",
      "Cropping tables from /Users/codym/CAP/ai-starter-kit/yoda/data/sec-edgar-filings/NVDA/10-Q/0001045810-23-000093/full-submission/images/page_151.jpg\n"
     ]
    },
    {
     "name": "stderr",
     "output_type": "stream",
     "text": [
      "image 1/1 /Users/codym/CAP/ai-starter-kit/yoda/data/sec-edgar-filings/NVDA/10-Q/0001045810-23-000093/full-submission/images/page_151.jpg: 640x512 (no detections), 95.7ms\n",
      "Speed: 0.2ms preprocess, 95.7ms inference, 0.2ms postprocess per image at shape (1, 3, 640, 640)\n",
      "\n",
      "image 1/1 /Users/codym/CAP/ai-starter-kit/yoda/data/sec-edgar-filings/NVDA/10-Q/0001045810-23-000093/full-submission/images/page_145.jpg: 640x512 (no detections), 70.3ms\n",
      "Speed: 0.2ms preprocess, 70.3ms inference, 0.2ms postprocess per image at shape (1, 3, 640, 640)\n",
      "\n",
      "image 1/1 /Users/codym/CAP/ai-starter-kit/yoda/data/sec-edgar-filings/NVDA/10-Q/0001045810-23-000093/full-submission/images/page_144.jpg: 640x512 (no detections), 80.2ms\n",
      "Speed: 0.2ms preprocess, 80.2ms inference, 0.2ms postprocess per image at shape (1, 3, 640, 640)\n",
      "\n"
     ]
    },
    {
     "name": "stdout",
     "output_type": "stream",
     "text": [
      "Cropping tables from /Users/codym/CAP/ai-starter-kit/yoda/data/sec-edgar-filings/NVDA/10-Q/0001045810-23-000093/full-submission/images/page_145.jpg\n",
      "Cropping tables from /Users/codym/CAP/ai-starter-kit/yoda/data/sec-edgar-filings/NVDA/10-Q/0001045810-23-000093/full-submission/images/page_144.jpg\n",
      "Cropping tables from /Users/codym/CAP/ai-starter-kit/yoda/data/sec-edgar-filings/NVDA/10-Q/0001045810-23-000093/full-submission/images/page_150.jpg\n"
     ]
    },
    {
     "name": "stderr",
     "output_type": "stream",
     "text": [
      "image 1/1 /Users/codym/CAP/ai-starter-kit/yoda/data/sec-edgar-filings/NVDA/10-Q/0001045810-23-000093/full-submission/images/page_150.jpg: 640x512 (no detections), 102.3ms\n",
      "Speed: 0.5ms preprocess, 102.3ms inference, 0.2ms postprocess per image at shape (1, 3, 640, 640)\n",
      "\n",
      "image 1/1 /Users/codym/CAP/ai-starter-kit/yoda/data/sec-edgar-filings/NVDA/10-Q/0001045810-23-000093/full-submission/images/page_3.jpg: 640x512 1 bordered, 1 borderless, 80.3ms\n",
      "Speed: 1.0ms preprocess, 80.3ms inference, 0.4ms postprocess per image at shape (1, 3, 640, 640)\n",
      "\n",
      "image 1/1 /Users/codym/CAP/ai-starter-kit/yoda/data/sec-edgar-filings/NVDA/10-Q/0001045810-23-000093/full-submission/images/page_47.jpg: 640x512 (no detections), 83.3ms\n",
      "Speed: 0.4ms preprocess, 83.3ms inference, 0.2ms postprocess per image at shape (1, 3, 640, 640)\n",
      "\n"
     ]
    },
    {
     "name": "stdout",
     "output_type": "stream",
     "text": [
      "Cropping tables from /Users/codym/CAP/ai-starter-kit/yoda/data/sec-edgar-filings/NVDA/10-Q/0001045810-23-000093/full-submission/images/page_3.jpg\n",
      "Cropping tables from /Users/codym/CAP/ai-starter-kit/yoda/data/sec-edgar-filings/NVDA/10-Q/0001045810-23-000093/full-submission/images/page_47.jpg\n",
      "Cropping tables from /Users/codym/CAP/ai-starter-kit/yoda/data/sec-edgar-filings/NVDA/10-Q/0001045810-23-000093/full-submission/images/page_53.jpg\n"
     ]
    },
    {
     "name": "stderr",
     "output_type": "stream",
     "text": [
      "image 1/1 /Users/codym/CAP/ai-starter-kit/yoda/data/sec-edgar-filings/NVDA/10-Q/0001045810-23-000093/full-submission/images/page_53.jpg: 640x512 1 bordered, 3 borderlesss, 86.0ms\n",
      "Speed: 0.5ms preprocess, 86.0ms inference, 0.4ms postprocess per image at shape (1, 3, 640, 640)\n",
      "\n",
      "image 1/1 /Users/codym/CAP/ai-starter-kit/yoda/data/sec-edgar-filings/NVDA/10-Q/0001045810-23-000093/full-submission/images/page_84.jpg: 640x512 (no detections), 93.5ms\n",
      "Speed: 0.2ms preprocess, 93.5ms inference, 0.2ms postprocess per image at shape (1, 3, 640, 640)\n",
      "\n"
     ]
    },
    {
     "name": "stdout",
     "output_type": "stream",
     "text": [
      "Cropping tables from /Users/codym/CAP/ai-starter-kit/yoda/data/sec-edgar-filings/NVDA/10-Q/0001045810-23-000093/full-submission/images/page_84.jpg\n",
      "Cropping tables from /Users/codym/CAP/ai-starter-kit/yoda/data/sec-edgar-filings/NVDA/10-Q/0001045810-23-000093/full-submission/images/page_90.jpg\n"
     ]
    },
    {
     "name": "stderr",
     "output_type": "stream",
     "text": [
      "image 1/1 /Users/codym/CAP/ai-starter-kit/yoda/data/sec-edgar-filings/NVDA/10-Q/0001045810-23-000093/full-submission/images/page_90.jpg: 640x512 (no detections), 74.9ms\n",
      "Speed: 0.2ms preprocess, 74.9ms inference, 0.2ms postprocess per image at shape (1, 3, 640, 640)\n",
      "\n",
      "image 1/1 /Users/codym/CAP/ai-starter-kit/yoda/data/sec-edgar-filings/NVDA/10-Q/0001045810-23-000093/full-submission/images/page_86.jpg: 640x512 (no detections), 69.4ms\n",
      "Speed: 0.2ms preprocess, 69.4ms inference, 0.2ms postprocess per image at shape (1, 3, 640, 640)\n",
      "\n",
      "image 1/1 /Users/codym/CAP/ai-starter-kit/yoda/data/sec-edgar-filings/NVDA/10-Q/0001045810-23-000093/full-submission/images/page_92.jpg: 640x512 (no detections), 67.8ms\n",
      "Speed: 0.2ms preprocess, 67.8ms inference, 0.2ms postprocess per image at shape (1, 3, 640, 640)\n",
      "\n"
     ]
    },
    {
     "name": "stdout",
     "output_type": "stream",
     "text": [
      "Cropping tables from /Users/codym/CAP/ai-starter-kit/yoda/data/sec-edgar-filings/NVDA/10-Q/0001045810-23-000093/full-submission/images/page_86.jpg\n",
      "Cropping tables from /Users/codym/CAP/ai-starter-kit/yoda/data/sec-edgar-filings/NVDA/10-Q/0001045810-23-000093/full-submission/images/page_92.jpg\n",
      "Cropping tables from /Users/codym/CAP/ai-starter-kit/yoda/data/sec-edgar-filings/NVDA/10-Q/0001045810-23-000093/full-submission/images/page_79.jpg\n"
     ]
    },
    {
     "name": "stderr",
     "output_type": "stream",
     "text": [
      "image 1/1 /Users/codym/CAP/ai-starter-kit/yoda/data/sec-edgar-filings/NVDA/10-Q/0001045810-23-000093/full-submission/images/page_79.jpg: 640x512 (no detections), 71.9ms\n",
      "Speed: 0.2ms preprocess, 71.9ms inference, 0.2ms postprocess per image at shape (1, 3, 640, 640)\n",
      "\n",
      "image 1/1 /Users/codym/CAP/ai-starter-kit/yoda/data/sec-edgar-filings/NVDA/10-Q/0001045810-23-000093/full-submission/images/page_45.jpg: 640x512 (no detections), 71.0ms\n",
      "Speed: 0.7ms preprocess, 71.0ms inference, 0.2ms postprocess per image at shape (1, 3, 640, 640)\n",
      "\n",
      "image 1/1 /Users/codym/CAP/ai-starter-kit/yoda/data/sec-edgar-filings/NVDA/10-Q/0001045810-23-000093/full-submission/images/page_51.jpg: 640x512 1 borderless, 68.7ms\n",
      "Speed: 0.2ms preprocess, 68.7ms inference, 0.4ms postprocess per image at shape (1, 3, 640, 640)\n",
      "\n"
     ]
    },
    {
     "name": "stdout",
     "output_type": "stream",
     "text": [
      "Cropping tables from /Users/codym/CAP/ai-starter-kit/yoda/data/sec-edgar-filings/NVDA/10-Q/0001045810-23-000093/full-submission/images/page_45.jpg\n",
      "Cropping tables from /Users/codym/CAP/ai-starter-kit/yoda/data/sec-edgar-filings/NVDA/10-Q/0001045810-23-000093/full-submission/images/page_51.jpg\n",
      "Cropping tables from /Users/codym/CAP/ai-starter-kit/yoda/data/sec-edgar-filings/NVDA/10-Q/0001045810-23-000093/full-submission/images/page_1.jpg\n"
     ]
    },
    {
     "name": "stderr",
     "output_type": "stream",
     "text": [
      "image 1/1 /Users/codym/CAP/ai-starter-kit/yoda/data/sec-edgar-filings/NVDA/10-Q/0001045810-23-000093/full-submission/images/page_1.jpg: 640x512 (no detections), 168.5ms\n",
      "Speed: 6.7ms preprocess, 168.5ms inference, 0.2ms postprocess per image at shape (1, 3, 640, 640)\n",
      "\n",
      "image 1/1 /Users/codym/CAP/ai-starter-kit/yoda/data/sec-edgar-filings/NVDA/10-Q/0001045810-23-000093/full-submission/images/page_146.jpg: 640x512 (no detections), 161.2ms\n",
      "Speed: 0.3ms preprocess, 161.2ms inference, 0.2ms postprocess per image at shape (1, 3, 640, 640)\n",
      "\n"
     ]
    },
    {
     "name": "stdout",
     "output_type": "stream",
     "text": [
      "Cropping tables from /Users/codym/CAP/ai-starter-kit/yoda/data/sec-edgar-filings/NVDA/10-Q/0001045810-23-000093/full-submission/images/page_146.jpg\n",
      "Cropping tables from /Users/codym/CAP/ai-starter-kit/yoda/data/sec-edgar-filings/NVDA/10-Q/0001045810-23-000093/full-submission/images/page_152.jpg\n"
     ]
    },
    {
     "name": "stderr",
     "output_type": "stream",
     "text": [
      "image 1/1 /Users/codym/CAP/ai-starter-kit/yoda/data/sec-edgar-filings/NVDA/10-Q/0001045810-23-000093/full-submission/images/page_152.jpg: 640x512 (no detections), 85.9ms\n",
      "Speed: 0.2ms preprocess, 85.9ms inference, 0.2ms postprocess per image at shape (1, 3, 640, 640)\n",
      "\n",
      "image 1/1 /Users/codym/CAP/ai-starter-kit/yoda/data/sec-edgar-filings/NVDA/10-Q/0001045810-23-000093/full-submission/images/page_153.jpg: 640x512 (no detections), 78.7ms\n",
      "Speed: 0.2ms preprocess, 78.7ms inference, 0.2ms postprocess per image at shape (1, 3, 640, 640)\n",
      "\n"
     ]
    },
    {
     "name": "stdout",
     "output_type": "stream",
     "text": [
      "Cropping tables from /Users/codym/CAP/ai-starter-kit/yoda/data/sec-edgar-filings/NVDA/10-Q/0001045810-23-000093/full-submission/images/page_153.jpg\n",
      "Cropping tables from /Users/codym/CAP/ai-starter-kit/yoda/data/sec-edgar-filings/NVDA/10-Q/0001045810-23-000093/full-submission/images/page_147.jpg\n"
     ]
    },
    {
     "name": "stderr",
     "output_type": "stream",
     "text": [
      "image 1/1 /Users/codym/CAP/ai-starter-kit/yoda/data/sec-edgar-filings/NVDA/10-Q/0001045810-23-000093/full-submission/images/page_147.jpg: 640x512 (no detections), 78.7ms\n",
      "Speed: 1.0ms preprocess, 78.7ms inference, 0.2ms postprocess per image at shape (1, 3, 640, 640)\n",
      "\n",
      "image 1/1 /Users/codym/CAP/ai-starter-kit/yoda/data/sec-edgar-filings/NVDA/10-Q/0001045810-23-000093/full-submission/images/page_0.jpg: 640x512 (no detections), 76.1ms\n",
      "Speed: 0.7ms preprocess, 76.1ms inference, 0.2ms postprocess per image at shape (1, 3, 640, 640)\n",
      "\n",
      "image 1/1 /Users/codym/CAP/ai-starter-kit/yoda/data/sec-edgar-filings/NVDA/10-Q/0001045810-23-000093/full-submission/images/page_50.jpg: 640x512 3 borderlesss, 69.1ms\n",
      "Speed: 0.2ms preprocess, 69.1ms inference, 0.4ms postprocess per image at shape (1, 3, 640, 640)\n",
      "\n"
     ]
    },
    {
     "name": "stdout",
     "output_type": "stream",
     "text": [
      "Cropping tables from /Users/codym/CAP/ai-starter-kit/yoda/data/sec-edgar-filings/NVDA/10-Q/0001045810-23-000093/full-submission/images/page_0.jpg\n",
      "Cropping tables from /Users/codym/CAP/ai-starter-kit/yoda/data/sec-edgar-filings/NVDA/10-Q/0001045810-23-000093/full-submission/images/page_50.jpg\n",
      "Cropping tables from /Users/codym/CAP/ai-starter-kit/yoda/data/sec-edgar-filings/NVDA/10-Q/0001045810-23-000093/full-submission/images/page_44.jpg\n"
     ]
    },
    {
     "name": "stderr",
     "output_type": "stream",
     "text": [
      "image 1/1 /Users/codym/CAP/ai-starter-kit/yoda/data/sec-edgar-filings/NVDA/10-Q/0001045810-23-000093/full-submission/images/page_44.jpg: 640x512 (no detections), 72.5ms\n",
      "Speed: 0.5ms preprocess, 72.5ms inference, 0.2ms postprocess per image at shape (1, 3, 640, 640)\n",
      "\n",
      "image 1/1 /Users/codym/CAP/ai-starter-kit/yoda/data/sec-edgar-filings/NVDA/10-Q/0001045810-23-000093/full-submission/images/page_78.jpg: 640x512 (no detections), 75.1ms\n",
      "Speed: 5.6ms preprocess, 75.1ms inference, 0.2ms postprocess per image at shape (1, 3, 640, 640)\n",
      "\n"
     ]
    },
    {
     "name": "stdout",
     "output_type": "stream",
     "text": [
      "Cropping tables from /Users/codym/CAP/ai-starter-kit/yoda/data/sec-edgar-filings/NVDA/10-Q/0001045810-23-000093/full-submission/images/page_78.jpg\n",
      "Cropping tables from /Users/codym/CAP/ai-starter-kit/yoda/data/sec-edgar-filings/NVDA/10-Q/0001045810-23-000093/full-submission/images/page_93.jpg\n"
     ]
    },
    {
     "name": "stderr",
     "output_type": "stream",
     "text": [
      "image 1/1 /Users/codym/CAP/ai-starter-kit/yoda/data/sec-edgar-filings/NVDA/10-Q/0001045810-23-000093/full-submission/images/page_93.jpg: 640x512 (no detections), 85.1ms\n",
      "Speed: 0.2ms preprocess, 85.1ms inference, 0.2ms postprocess per image at shape (1, 3, 640, 640)\n",
      "\n",
      "image 1/1 /Users/codym/CAP/ai-starter-kit/yoda/data/sec-edgar-filings/NVDA/10-Q/0001045810-23-000093/full-submission/images/page_87.jpg: 640x512 (no detections), 74.6ms\n",
      "Speed: 0.2ms preprocess, 74.6ms inference, 0.2ms postprocess per image at shape (1, 3, 640, 640)\n",
      "\n"
     ]
    },
    {
     "name": "stdout",
     "output_type": "stream",
     "text": [
      "Cropping tables from /Users/codym/CAP/ai-starter-kit/yoda/data/sec-edgar-filings/NVDA/10-Q/0001045810-23-000093/full-submission/images/page_87.jpg\n",
      "Cropping tables from /Users/codym/CAP/ai-starter-kit/yoda/data/sec-edgar-filings/NVDA/10-Q/0001045810-23-000093/full-submission/images/page_83.jpg\n"
     ]
    },
    {
     "name": "stderr",
     "output_type": "stream",
     "text": [
      "image 1/1 /Users/codym/CAP/ai-starter-kit/yoda/data/sec-edgar-filings/NVDA/10-Q/0001045810-23-000093/full-submission/images/page_83.jpg: 640x512 (no detections), 92.7ms\n",
      "Speed: 0.3ms preprocess, 92.7ms inference, 0.2ms postprocess per image at shape (1, 3, 640, 640)\n",
      "\n",
      "image 1/1 /Users/codym/CAP/ai-starter-kit/yoda/data/sec-edgar-filings/NVDA/10-Q/0001045810-23-000093/full-submission/images/page_97.jpg: 640x512 (no detections), 89.4ms\n",
      "Speed: 0.3ms preprocess, 89.4ms inference, 0.2ms postprocess per image at shape (1, 3, 640, 640)\n",
      "\n"
     ]
    },
    {
     "name": "stdout",
     "output_type": "stream",
     "text": [
      "Cropping tables from /Users/codym/CAP/ai-starter-kit/yoda/data/sec-edgar-filings/NVDA/10-Q/0001045810-23-000093/full-submission/images/page_97.jpg\n",
      "Cropping tables from /Users/codym/CAP/ai-starter-kit/yoda/data/sec-edgar-filings/NVDA/10-Q/0001045810-23-000093/full-submission/images/page_40.jpg\n"
     ]
    },
    {
     "name": "stderr",
     "output_type": "stream",
     "text": [
      "image 1/1 /Users/codym/CAP/ai-starter-kit/yoda/data/sec-edgar-filings/NVDA/10-Q/0001045810-23-000093/full-submission/images/page_40.jpg: 640x512 (no detections), 85.8ms\n",
      "Speed: 0.3ms preprocess, 85.8ms inference, 0.2ms postprocess per image at shape (1, 3, 640, 640)\n",
      "\n",
      "image 1/1 /Users/codym/CAP/ai-starter-kit/yoda/data/sec-edgar-filings/NVDA/10-Q/0001045810-23-000093/full-submission/images/page_54.jpg: 640x512 1 bordered, 3 borderlesss, 98.4ms\n",
      "Speed: 0.4ms preprocess, 98.4ms inference, 0.5ms postprocess per image at shape (1, 3, 640, 640)\n",
      "\n"
     ]
    },
    {
     "name": "stdout",
     "output_type": "stream",
     "text": [
      "Cropping tables from /Users/codym/CAP/ai-starter-kit/yoda/data/sec-edgar-filings/NVDA/10-Q/0001045810-23-000093/full-submission/images/page_54.jpg\n",
      "Cropping tables from /Users/codym/CAP/ai-starter-kit/yoda/data/sec-edgar-filings/NVDA/10-Q/0001045810-23-000093/full-submission/images/page_68.jpg\n"
     ]
    },
    {
     "name": "stderr",
     "output_type": "stream",
     "text": [
      "image 1/1 /Users/codym/CAP/ai-starter-kit/yoda/data/sec-edgar-filings/NVDA/10-Q/0001045810-23-000093/full-submission/images/page_68.jpg: 640x512 2 borderlesss, 119.0ms\n",
      "Speed: 0.8ms preprocess, 119.0ms inference, 1.1ms postprocess per image at shape (1, 3, 640, 640)\n",
      "\n",
      "image 1/1 /Users/codym/CAP/ai-starter-kit/yoda/data/sec-edgar-filings/NVDA/10-Q/0001045810-23-000093/full-submission/images/page_4.jpg: 640x512 1 bordered, 1 borderless, 187.5ms\n"
     ]
    },
    {
     "name": "stdout",
     "output_type": "stream",
     "text": [
      "Cropping tables from /Users/codym/CAP/ai-starter-kit/yoda/data/sec-edgar-filings/NVDA/10-Q/0001045810-23-000093/full-submission/images/page_4.jpg\n"
     ]
    },
    {
     "name": "stderr",
     "output_type": "stream",
     "text": [
      "Speed: 0.5ms preprocess, 187.5ms inference, 0.6ms postprocess per image at shape (1, 3, 640, 640)\n",
      "\n",
      "image 1/1 /Users/codym/CAP/ai-starter-kit/yoda/data/sec-edgar-filings/NVDA/10-Q/0001045810-23-000093/full-submission/images/page_143.jpg: 640x512 (no detections), 113.6ms\n",
      "Speed: 0.3ms preprocess, 113.6ms inference, 0.2ms postprocess per image at shape (1, 3, 640, 640)\n",
      "\n"
     ]
    },
    {
     "name": "stdout",
     "output_type": "stream",
     "text": [
      "Cropping tables from /Users/codym/CAP/ai-starter-kit/yoda/data/sec-edgar-filings/NVDA/10-Q/0001045810-23-000093/full-submission/images/page_143.jpg\n",
      "Cropping tables from /Users/codym/CAP/ai-starter-kit/yoda/data/sec-edgar-filings/NVDA/10-Q/0001045810-23-000093/full-submission/images/page_157.jpg\n"
     ]
    },
    {
     "name": "stderr",
     "output_type": "stream",
     "text": [
      "image 1/1 /Users/codym/CAP/ai-starter-kit/yoda/data/sec-edgar-filings/NVDA/10-Q/0001045810-23-000093/full-submission/images/page_157.jpg: 640x512 (no detections), 112.1ms\n",
      "Speed: 0.3ms preprocess, 112.1ms inference, 0.2ms postprocess per image at shape (1, 3, 640, 640)\n",
      "\n",
      "image 1/1 /Users/codym/CAP/ai-starter-kit/yoda/data/sec-edgar-filings/NVDA/10-Q/0001045810-23-000093/full-submission/images/page_156.jpg: 640x512 (no detections), 94.7ms\n",
      "Speed: 0.5ms preprocess, 94.7ms inference, 0.2ms postprocess per image at shape (1, 3, 640, 640)\n",
      "\n"
     ]
    },
    {
     "name": "stdout",
     "output_type": "stream",
     "text": [
      "Cropping tables from /Users/codym/CAP/ai-starter-kit/yoda/data/sec-edgar-filings/NVDA/10-Q/0001045810-23-000093/full-submission/images/page_156.jpg\n",
      "Cropping tables from /Users/codym/CAP/ai-starter-kit/yoda/data/sec-edgar-filings/NVDA/10-Q/0001045810-23-000093/full-submission/images/page_142.jpg\n"
     ]
    },
    {
     "name": "stderr",
     "output_type": "stream",
     "text": [
      "image 1/1 /Users/codym/CAP/ai-starter-kit/yoda/data/sec-edgar-filings/NVDA/10-Q/0001045810-23-000093/full-submission/images/page_142.jpg: 640x512 (no detections), 95.3ms\n",
      "Speed: 0.6ms preprocess, 95.3ms inference, 0.2ms postprocess per image at shape (1, 3, 640, 640)\n",
      "\n",
      "image 1/1 /Users/codym/CAP/ai-starter-kit/yoda/data/sec-edgar-filings/NVDA/10-Q/0001045810-23-000093/full-submission/images/page_5.jpg: 640x512 1 borderless, 76.7ms\n",
      "Speed: 0.7ms preprocess, 76.7ms inference, 0.4ms postprocess per image at shape (1, 3, 640, 640)\n",
      "\n"
     ]
    },
    {
     "name": "stdout",
     "output_type": "stream",
     "text": [
      "Cropping tables from /Users/codym/CAP/ai-starter-kit/yoda/data/sec-edgar-filings/NVDA/10-Q/0001045810-23-000093/full-submission/images/page_5.jpg\n",
      "Cropping tables from /Users/codym/CAP/ai-starter-kit/yoda/data/sec-edgar-filings/NVDA/10-Q/0001045810-23-000093/full-submission/images/page_69.jpg\n"
     ]
    },
    {
     "name": "stderr",
     "output_type": "stream",
     "text": [
      "image 1/1 /Users/codym/CAP/ai-starter-kit/yoda/data/sec-edgar-filings/NVDA/10-Q/0001045810-23-000093/full-submission/images/page_69.jpg: 640x512 1 borderless, 81.2ms\n",
      "Speed: 6.0ms preprocess, 81.2ms inference, 0.5ms postprocess per image at shape (1, 3, 640, 640)\n",
      "\n",
      "image 1/1 /Users/codym/CAP/ai-starter-kit/yoda/data/sec-edgar-filings/NVDA/10-Q/0001045810-23-000093/full-submission/images/page_55.jpg: 640x512 1 bordered, 87.2ms\n",
      "Speed: 0.6ms preprocess, 87.2ms inference, 0.4ms postprocess per image at shape (1, 3, 640, 640)\n",
      "\n"
     ]
    },
    {
     "name": "stdout",
     "output_type": "stream",
     "text": [
      "Cropping tables from /Users/codym/CAP/ai-starter-kit/yoda/data/sec-edgar-filings/NVDA/10-Q/0001045810-23-000093/full-submission/images/page_55.jpg\n",
      "Cropping tables from /Users/codym/CAP/ai-starter-kit/yoda/data/sec-edgar-filings/NVDA/10-Q/0001045810-23-000093/full-submission/images/page_41.jpg\n"
     ]
    },
    {
     "name": "stderr",
     "output_type": "stream",
     "text": [
      "image 1/1 /Users/codym/CAP/ai-starter-kit/yoda/data/sec-edgar-filings/NVDA/10-Q/0001045810-23-000093/full-submission/images/page_41.jpg: 640x512 (no detections), 82.7ms\n",
      "Speed: 0.2ms preprocess, 82.7ms inference, 0.2ms postprocess per image at shape (1, 3, 640, 640)\n",
      "\n",
      "image 1/1 /Users/codym/CAP/ai-starter-kit/yoda/data/sec-edgar-filings/NVDA/10-Q/0001045810-23-000093/full-submission/images/page_96.jpg: 640x512 (no detections), 82.3ms\n",
      "Speed: 0.2ms preprocess, 82.3ms inference, 0.2ms postprocess per image at shape (1, 3, 640, 640)\n",
      "\n"
     ]
    },
    {
     "name": "stdout",
     "output_type": "stream",
     "text": [
      "Cropping tables from /Users/codym/CAP/ai-starter-kit/yoda/data/sec-edgar-filings/NVDA/10-Q/0001045810-23-000093/full-submission/images/page_96.jpg\n",
      "Cropping tables from /Users/codym/CAP/ai-starter-kit/yoda/data/sec-edgar-filings/NVDA/10-Q/0001045810-23-000093/full-submission/images/page_82.jpg\n"
     ]
    },
    {
     "name": "stderr",
     "output_type": "stream",
     "text": [
      "image 1/1 /Users/codym/CAP/ai-starter-kit/yoda/data/sec-edgar-filings/NVDA/10-Q/0001045810-23-000093/full-submission/images/page_82.jpg: 640x512 (no detections), 83.3ms\n",
      "Speed: 0.2ms preprocess, 83.3ms inference, 0.2ms postprocess per image at shape (1, 3, 640, 640)\n",
      "\n",
      "image 1/1 /Users/codym/CAP/ai-starter-kit/yoda/data/sec-edgar-filings/NVDA/10-Q/0001045810-23-000093/full-submission/images/page_94.jpg: 640x512 (no detections), 73.6ms\n",
      "Speed: 0.2ms preprocess, 73.6ms inference, 0.2ms postprocess per image at shape (1, 3, 640, 640)\n",
      "\n",
      "image 1/1 /Users/codym/CAP/ai-starter-kit/yoda/data/sec-edgar-filings/NVDA/10-Q/0001045810-23-000093/full-submission/images/page_80.jpg: 640x512 (no detections), 71.9ms\n",
      "Speed: 0.2ms preprocess, 71.9ms inference, 0.2ms postprocess per image at shape (1, 3, 640, 640)\n",
      "\n"
     ]
    },
    {
     "name": "stdout",
     "output_type": "stream",
     "text": [
      "Cropping tables from /Users/codym/CAP/ai-starter-kit/yoda/data/sec-edgar-filings/NVDA/10-Q/0001045810-23-000093/full-submission/images/page_94.jpg\n",
      "Cropping tables from /Users/codym/CAP/ai-starter-kit/yoda/data/sec-edgar-filings/NVDA/10-Q/0001045810-23-000093/full-submission/images/page_80.jpg\n",
      "Cropping tables from /Users/codym/CAP/ai-starter-kit/yoda/data/sec-edgar-filings/NVDA/10-Q/0001045810-23-000093/full-submission/images/page_57.jpg\n"
     ]
    },
    {
     "name": "stderr",
     "output_type": "stream",
     "text": [
      "image 1/1 /Users/codym/CAP/ai-starter-kit/yoda/data/sec-edgar-filings/NVDA/10-Q/0001045810-23-000093/full-submission/images/page_57.jpg: 640x512 1 bordered, 72.2ms\n",
      "Speed: 0.2ms preprocess, 72.2ms inference, 0.4ms postprocess per image at shape (1, 3, 640, 640)\n",
      "\n",
      "image 1/1 /Users/codym/CAP/ai-starter-kit/yoda/data/sec-edgar-filings/NVDA/10-Q/0001045810-23-000093/full-submission/images/page_43.jpg: 640x512 (no detections), 73.2ms\n",
      "Speed: 0.5ms preprocess, 73.2ms inference, 0.2ms postprocess per image at shape (1, 3, 640, 640)\n",
      "\n",
      "image 1/1 /Users/codym/CAP/ai-starter-kit/yoda/data/sec-edgar-filings/NVDA/10-Q/0001045810-23-000093/full-submission/images/page_7.jpg: 640x512 (no detections), 76.6ms\n",
      "Speed: 0.3ms preprocess, 76.6ms inference, 0.2ms postprocess per image at shape (1, 3, 640, 640)\n",
      "\n"
     ]
    },
    {
     "name": "stdout",
     "output_type": "stream",
     "text": [
      "Cropping tables from /Users/codym/CAP/ai-starter-kit/yoda/data/sec-edgar-filings/NVDA/10-Q/0001045810-23-000093/full-submission/images/page_43.jpg\n",
      "Cropping tables from /Users/codym/CAP/ai-starter-kit/yoda/data/sec-edgar-filings/NVDA/10-Q/0001045810-23-000093/full-submission/images/page_7.jpg\n",
      "Cropping tables from /Users/codym/CAP/ai-starter-kit/yoda/data/sec-edgar-filings/NVDA/10-Q/0001045810-23-000093/full-submission/images/page_154.jpg\n"
     ]
    },
    {
     "name": "stderr",
     "output_type": "stream",
     "text": [
      "image 1/1 /Users/codym/CAP/ai-starter-kit/yoda/data/sec-edgar-filings/NVDA/10-Q/0001045810-23-000093/full-submission/images/page_154.jpg: 640x512 (no detections), 73.3ms\n",
      "Speed: 0.3ms preprocess, 73.3ms inference, 0.2ms postprocess per image at shape (1, 3, 640, 640)\n",
      "\n",
      "image 1/1 /Users/codym/CAP/ai-starter-kit/yoda/data/sec-edgar-filings/NVDA/10-Q/0001045810-23-000093/full-submission/images/page_140.jpg: 640x512 (no detections), 69.2ms\n",
      "Speed: 0.2ms preprocess, 69.2ms inference, 0.2ms postprocess per image at shape (1, 3, 640, 640)\n",
      "\n",
      "image 1/1 /Users/codym/CAP/ai-starter-kit/yoda/data/sec-edgar-filings/NVDA/10-Q/0001045810-23-000093/full-submission/images/page_168.jpg: 640x512 (no detections), 73.6ms\n",
      "Speed: 0.2ms preprocess, 73.6ms inference, 0.2ms postprocess per image at shape (1, 3, 640, 640)\n",
      "\n"
     ]
    },
    {
     "name": "stdout",
     "output_type": "stream",
     "text": [
      "Cropping tables from /Users/codym/CAP/ai-starter-kit/yoda/data/sec-edgar-filings/NVDA/10-Q/0001045810-23-000093/full-submission/images/page_140.jpg\n",
      "Cropping tables from /Users/codym/CAP/ai-starter-kit/yoda/data/sec-edgar-filings/NVDA/10-Q/0001045810-23-000093/full-submission/images/page_168.jpg\n",
      "Cropping tables from /Users/codym/CAP/ai-starter-kit/yoda/data/sec-edgar-filings/NVDA/10-Q/0001045810-23-000093/full-submission/images/page_169.jpg\n"
     ]
    },
    {
     "name": "stderr",
     "output_type": "stream",
     "text": [
      "image 1/1 /Users/codym/CAP/ai-starter-kit/yoda/data/sec-edgar-filings/NVDA/10-Q/0001045810-23-000093/full-submission/images/page_169.jpg: 640x512 (no detections), 75.7ms\n",
      "Speed: 0.2ms preprocess, 75.7ms inference, 0.2ms postprocess per image at shape (1, 3, 640, 640)\n",
      "\n",
      "image 1/1 /Users/codym/CAP/ai-starter-kit/yoda/data/sec-edgar-filings/NVDA/10-Q/0001045810-23-000093/full-submission/images/page_141.jpg: 640x512 (no detections), 71.1ms\n",
      "Speed: 0.2ms preprocess, 71.1ms inference, 0.2ms postprocess per image at shape (1, 3, 640, 640)\n",
      "\n",
      "image 1/1 /Users/codym/CAP/ai-starter-kit/yoda/data/sec-edgar-filings/NVDA/10-Q/0001045810-23-000093/full-submission/images/page_155.jpg: 640x512 (no detections), 72.2ms\n",
      "Speed: 0.2ms preprocess, 72.2ms inference, 0.2ms postprocess per image at shape (1, 3, 640, 640)\n",
      "\n"
     ]
    },
    {
     "name": "stdout",
     "output_type": "stream",
     "text": [
      "Cropping tables from /Users/codym/CAP/ai-starter-kit/yoda/data/sec-edgar-filings/NVDA/10-Q/0001045810-23-000093/full-submission/images/page_141.jpg\n",
      "Cropping tables from /Users/codym/CAP/ai-starter-kit/yoda/data/sec-edgar-filings/NVDA/10-Q/0001045810-23-000093/full-submission/images/page_155.jpg\n",
      "Cropping tables from /Users/codym/CAP/ai-starter-kit/yoda/data/sec-edgar-filings/NVDA/10-Q/0001045810-23-000093/full-submission/images/page_6.jpg\n"
     ]
    },
    {
     "name": "stderr",
     "output_type": "stream",
     "text": [
      "image 1/1 /Users/codym/CAP/ai-starter-kit/yoda/data/sec-edgar-filings/NVDA/10-Q/0001045810-23-000093/full-submission/images/page_6.jpg: 640x512 1 bordered, 1 borderless, 72.7ms\n",
      "Speed: 0.5ms preprocess, 72.7ms inference, 0.4ms postprocess per image at shape (1, 3, 640, 640)\n",
      "\n",
      "image 1/1 /Users/codym/CAP/ai-starter-kit/yoda/data/sec-edgar-filings/NVDA/10-Q/0001045810-23-000093/full-submission/images/page_42.jpg: 640x512 (no detections), 70.8ms\n",
      "Speed: 0.2ms preprocess, 70.8ms inference, 0.2ms postprocess per image at shape (1, 3, 640, 640)\n",
      "\n",
      "image 1/1 /Users/codym/CAP/ai-starter-kit/yoda/data/sec-edgar-filings/NVDA/10-Q/0001045810-23-000093/full-submission/images/page_56.jpg: 640x512 1 borderless, 67.8ms\n",
      "Speed: 0.2ms preprocess, 67.8ms inference, 0.4ms postprocess per image at shape (1, 3, 640, 640)\n",
      "\n"
     ]
    },
    {
     "name": "stdout",
     "output_type": "stream",
     "text": [
      "Cropping tables from /Users/codym/CAP/ai-starter-kit/yoda/data/sec-edgar-filings/NVDA/10-Q/0001045810-23-000093/full-submission/images/page_42.jpg\n",
      "Cropping tables from /Users/codym/CAP/ai-starter-kit/yoda/data/sec-edgar-filings/NVDA/10-Q/0001045810-23-000093/full-submission/images/page_56.jpg\n",
      "Cropping tables from /Users/codym/CAP/ai-starter-kit/yoda/data/sec-edgar-filings/NVDA/10-Q/0001045810-23-000093/full-submission/images/page_81.jpg\n"
     ]
    },
    {
     "name": "stderr",
     "output_type": "stream",
     "text": [
      "image 1/1 /Users/codym/CAP/ai-starter-kit/yoda/data/sec-edgar-filings/NVDA/10-Q/0001045810-23-000093/full-submission/images/page_81.jpg: 640x512 (no detections), 71.5ms\n",
      "Speed: 0.2ms preprocess, 71.5ms inference, 0.2ms postprocess per image at shape (1, 3, 640, 640)\n",
      "\n",
      "image 1/1 /Users/codym/CAP/ai-starter-kit/yoda/data/sec-edgar-filings/NVDA/10-Q/0001045810-23-000093/full-submission/images/page_95.jpg: 640x512 (no detections), 72.3ms\n",
      "Speed: 0.2ms preprocess, 72.3ms inference, 0.2ms postprocess per image at shape (1, 3, 640, 640)\n",
      "\n",
      "image 1/1 /Users/codym/CAP/ai-starter-kit/yoda/data/sec-edgar-filings/NVDA/10-Q/0001045810-23-000093/full-submission/images/page_19.jpg: 640x512 (no detections), 68.8ms\n",
      "Speed: 1.5ms preprocess, 68.8ms inference, 0.2ms postprocess per image at shape (1, 3, 640, 640)\n",
      "\n"
     ]
    },
    {
     "name": "stdout",
     "output_type": "stream",
     "text": [
      "Cropping tables from /Users/codym/CAP/ai-starter-kit/yoda/data/sec-edgar-filings/NVDA/10-Q/0001045810-23-000093/full-submission/images/page_95.jpg\n",
      "Cropping tables from /Users/codym/CAP/ai-starter-kit/yoda/data/sec-edgar-filings/NVDA/10-Q/0001045810-23-000093/full-submission/images/page_19.jpg\n",
      "Cropping tables from /Users/codym/CAP/ai-starter-kit/yoda/data/sec-edgar-filings/NVDA/10-Q/0001045810-23-000093/full-submission/images/page_31.jpg\n"
     ]
    },
    {
     "name": "stderr",
     "output_type": "stream",
     "text": [
      "image 1/1 /Users/codym/CAP/ai-starter-kit/yoda/data/sec-edgar-filings/NVDA/10-Q/0001045810-23-000093/full-submission/images/page_31.jpg: 640x512 (no detections), 78.1ms\n",
      "Speed: 0.2ms preprocess, 78.1ms inference, 0.2ms postprocess per image at shape (1, 3, 640, 640)\n",
      "\n",
      "image 1/1 /Users/codym/CAP/ai-starter-kit/yoda/data/sec-edgar-filings/NVDA/10-Q/0001045810-23-000093/full-submission/images/page_25.jpg: 640x512 (no detections), 72.1ms\n",
      "Speed: 0.2ms preprocess, 72.1ms inference, 0.2ms postprocess per image at shape (1, 3, 640, 640)\n",
      "\n"
     ]
    },
    {
     "name": "stdout",
     "output_type": "stream",
     "text": [
      "Cropping tables from /Users/codym/CAP/ai-starter-kit/yoda/data/sec-edgar-filings/NVDA/10-Q/0001045810-23-000093/full-submission/images/page_25.jpg\n",
      "Cropping tables from /Users/codym/CAP/ai-starter-kit/yoda/data/sec-edgar-filings/NVDA/10-Q/0001045810-23-000093/full-submission/images/page_132.jpg\n"
     ]
    },
    {
     "name": "stderr",
     "output_type": "stream",
     "text": [
      "image 1/1 /Users/codym/CAP/ai-starter-kit/yoda/data/sec-edgar-filings/NVDA/10-Q/0001045810-23-000093/full-submission/images/page_132.jpg: 640x512 (no detections), 100.8ms\n",
      "Speed: 0.2ms preprocess, 100.8ms inference, 0.2ms postprocess per image at shape (1, 3, 640, 640)\n",
      "\n",
      "image 1/1 /Users/codym/CAP/ai-starter-kit/yoda/data/sec-edgar-filings/NVDA/10-Q/0001045810-23-000093/full-submission/images/page_126.jpg: 640x512 (no detections), 67.5ms\n",
      "Speed: 0.2ms preprocess, 67.5ms inference, 0.2ms postprocess per image at shape (1, 3, 640, 640)\n",
      "\n",
      "image 1/1 /Users/codym/CAP/ai-starter-kit/yoda/data/sec-edgar-filings/NVDA/10-Q/0001045810-23-000093/full-submission/images/page_127.jpg: 640x512 (no detections), 70.2ms\n",
      "Speed: 0.2ms preprocess, 70.2ms inference, 0.2ms postprocess per image at shape (1, 3, 640, 640)\n",
      "\n"
     ]
    },
    {
     "name": "stdout",
     "output_type": "stream",
     "text": [
      "Cropping tables from /Users/codym/CAP/ai-starter-kit/yoda/data/sec-edgar-filings/NVDA/10-Q/0001045810-23-000093/full-submission/images/page_126.jpg\n",
      "Cropping tables from /Users/codym/CAP/ai-starter-kit/yoda/data/sec-edgar-filings/NVDA/10-Q/0001045810-23-000093/full-submission/images/page_127.jpg\n",
      "Cropping tables from /Users/codym/CAP/ai-starter-kit/yoda/data/sec-edgar-filings/NVDA/10-Q/0001045810-23-000093/full-submission/images/page_133.jpg\n"
     ]
    },
    {
     "name": "stderr",
     "output_type": "stream",
     "text": [
      "image 1/1 /Users/codym/CAP/ai-starter-kit/yoda/data/sec-edgar-filings/NVDA/10-Q/0001045810-23-000093/full-submission/images/page_133.jpg: 640x512 (no detections), 68.7ms\n",
      "Speed: 0.6ms preprocess, 68.7ms inference, 0.2ms postprocess per image at shape (1, 3, 640, 640)\n",
      "\n",
      "image 1/1 /Users/codym/CAP/ai-starter-kit/yoda/data/sec-edgar-filings/NVDA/10-Q/0001045810-23-000093/full-submission/images/page_24.jpg: 640x512 1 borderless, 83.5ms\n",
      "Speed: 0.4ms preprocess, 83.5ms inference, 0.4ms postprocess per image at shape (1, 3, 640, 640)\n",
      "\n",
      "image 1/1 /Users/codym/CAP/ai-starter-kit/yoda/data/sec-edgar-filings/NVDA/10-Q/0001045810-23-000093/full-submission/images/page_30.jpg: 640x512 (no detections), 68.2ms\n",
      "Speed: 0.3ms preprocess, 68.2ms inference, 0.3ms postprocess per image at shape (1, 3, 640, 640)\n",
      "\n"
     ]
    },
    {
     "name": "stdout",
     "output_type": "stream",
     "text": [
      "Cropping tables from /Users/codym/CAP/ai-starter-kit/yoda/data/sec-edgar-filings/NVDA/10-Q/0001045810-23-000093/full-submission/images/page_24.jpg\n",
      "Cropping tables from /Users/codym/CAP/ai-starter-kit/yoda/data/sec-edgar-filings/NVDA/10-Q/0001045810-23-000093/full-submission/images/page_30.jpg\n",
      "Cropping tables from /Users/codym/CAP/ai-starter-kit/yoda/data/sec-edgar-filings/NVDA/10-Q/0001045810-23-000093/full-submission/images/page_18.jpg\n"
     ]
    },
    {
     "name": "stderr",
     "output_type": "stream",
     "text": [
      "image 1/1 /Users/codym/CAP/ai-starter-kit/yoda/data/sec-edgar-filings/NVDA/10-Q/0001045810-23-000093/full-submission/images/page_18.jpg: 640x512 (no detections), 75.1ms\n",
      "Speed: 0.2ms preprocess, 75.1ms inference, 0.2ms postprocess per image at shape (1, 3, 640, 640)\n",
      "\n",
      "image 1/1 /Users/codym/CAP/ai-starter-kit/yoda/data/sec-edgar-filings/NVDA/10-Q/0001045810-23-000093/full-submission/images/page_26.jpg: 640x512 1 borderless, 74.6ms\n",
      "Speed: 0.4ms preprocess, 74.6ms inference, 0.4ms postprocess per image at shape (1, 3, 640, 640)\n",
      "\n",
      "image 1/1 /Users/codym/CAP/ai-starter-kit/yoda/data/sec-edgar-filings/NVDA/10-Q/0001045810-23-000093/full-submission/images/page_32.jpg: 640x512 (no detections), 74.6ms\n",
      "Speed: 0.5ms preprocess, 74.6ms inference, 0.2ms postprocess per image at shape (1, 3, 640, 640)\n",
      "\n"
     ]
    },
    {
     "name": "stdout",
     "output_type": "stream",
     "text": [
      "Cropping tables from /Users/codym/CAP/ai-starter-kit/yoda/data/sec-edgar-filings/NVDA/10-Q/0001045810-23-000093/full-submission/images/page_26.jpg\n",
      "Cropping tables from /Users/codym/CAP/ai-starter-kit/yoda/data/sec-edgar-filings/NVDA/10-Q/0001045810-23-000093/full-submission/images/page_32.jpg\n",
      "Cropping tables from /Users/codym/CAP/ai-starter-kit/yoda/data/sec-edgar-filings/NVDA/10-Q/0001045810-23-000093/full-submission/images/page_119.jpg\n"
     ]
    },
    {
     "name": "stderr",
     "output_type": "stream",
     "text": [
      "image 1/1 /Users/codym/CAP/ai-starter-kit/yoda/data/sec-edgar-filings/NVDA/10-Q/0001045810-23-000093/full-submission/images/page_119.jpg: 640x512 (no detections), 71.2ms\n",
      "Speed: 0.2ms preprocess, 71.2ms inference, 0.2ms postprocess per image at shape (1, 3, 640, 640)\n",
      "\n",
      "image 1/1 /Users/codym/CAP/ai-starter-kit/yoda/data/sec-edgar-filings/NVDA/10-Q/0001045810-23-000093/full-submission/images/page_125.jpg: 640x512 (no detections), 64.9ms\n",
      "Speed: 0.2ms preprocess, 64.9ms inference, 0.2ms postprocess per image at shape (1, 3, 640, 640)\n",
      "\n",
      "image 1/1 /Users/codym/CAP/ai-starter-kit/yoda/data/sec-edgar-filings/NVDA/10-Q/0001045810-23-000093/full-submission/images/page_131.jpg: 640x512 (no detections), 93.4ms\n",
      "Speed: 0.3ms preprocess, 93.4ms inference, 0.2ms postprocess per image at shape (1, 3, 640, 640)\n"
     ]
    },
    {
     "name": "stdout",
     "output_type": "stream",
     "text": [
      "Cropping tables from /Users/codym/CAP/ai-starter-kit/yoda/data/sec-edgar-filings/NVDA/10-Q/0001045810-23-000093/full-submission/images/page_125.jpg\n",
      "Cropping tables from /Users/codym/CAP/ai-starter-kit/yoda/data/sec-edgar-filings/NVDA/10-Q/0001045810-23-000093/full-submission/images/page_131.jpg\n"
     ]
    },
    {
     "name": "stderr",
     "output_type": "stream",
     "text": [
      "\n",
      "image 1/1 /Users/codym/CAP/ai-starter-kit/yoda/data/sec-edgar-filings/NVDA/10-Q/0001045810-23-000093/full-submission/images/page_130.jpg: 640x512 (no detections), 76.4ms\n",
      "Speed: 0.2ms preprocess, 76.4ms inference, 0.2ms postprocess per image at shape (1, 3, 640, 640)\n",
      "\n",
      "image 1/1 /Users/codym/CAP/ai-starter-kit/yoda/data/sec-edgar-filings/NVDA/10-Q/0001045810-23-000093/full-submission/images/page_124.jpg: 640x512 (no detections), 65.6ms\n",
      "Speed: 0.2ms preprocess, 65.6ms inference, 0.2ms postprocess per image at shape (1, 3, 640, 640)\n",
      "\n"
     ]
    },
    {
     "name": "stdout",
     "output_type": "stream",
     "text": [
      "Cropping tables from /Users/codym/CAP/ai-starter-kit/yoda/data/sec-edgar-filings/NVDA/10-Q/0001045810-23-000093/full-submission/images/page_130.jpg\n",
      "Cropping tables from /Users/codym/CAP/ai-starter-kit/yoda/data/sec-edgar-filings/NVDA/10-Q/0001045810-23-000093/full-submission/images/page_124.jpg\n",
      "Cropping tables from /Users/codym/CAP/ai-starter-kit/yoda/data/sec-edgar-filings/NVDA/10-Q/0001045810-23-000093/full-submission/images/page_118.jpg\n"
     ]
    },
    {
     "name": "stderr",
     "output_type": "stream",
     "text": [
      "image 1/1 /Users/codym/CAP/ai-starter-kit/yoda/data/sec-edgar-filings/NVDA/10-Q/0001045810-23-000093/full-submission/images/page_118.jpg: 640x512 (no detections), 79.8ms\n",
      "Speed: 0.3ms preprocess, 79.8ms inference, 0.2ms postprocess per image at shape (1, 3, 640, 640)\n",
      "\n",
      "image 1/1 /Users/codym/CAP/ai-starter-kit/yoda/data/sec-edgar-filings/NVDA/10-Q/0001045810-23-000093/full-submission/images/page_33.jpg: 640x512 (no detections), 78.5ms\n",
      "Speed: 0.2ms preprocess, 78.5ms inference, 0.2ms postprocess per image at shape (1, 3, 640, 640)\n",
      "\n",
      "image 1/1 /Users/codym/CAP/ai-starter-kit/yoda/data/sec-edgar-filings/NVDA/10-Q/0001045810-23-000093/full-submission/images/page_27.jpg: 640x512 1 bordered, 74.0ms\n",
      "Speed: 0.2ms preprocess, 74.0ms inference, 0.4ms postprocess per image at shape (1, 3, 640, 640)\n",
      "\n"
     ]
    },
    {
     "name": "stdout",
     "output_type": "stream",
     "text": [
      "Cropping tables from /Users/codym/CAP/ai-starter-kit/yoda/data/sec-edgar-filings/NVDA/10-Q/0001045810-23-000093/full-submission/images/page_33.jpg\n",
      "Cropping tables from /Users/codym/CAP/ai-starter-kit/yoda/data/sec-edgar-filings/NVDA/10-Q/0001045810-23-000093/full-submission/images/page_27.jpg\n",
      "Cropping tables from /Users/codym/CAP/ai-starter-kit/yoda/data/sec-edgar-filings/NVDA/10-Q/0001045810-23-000093/full-submission/images/page_23.jpg\n"
     ]
    },
    {
     "name": "stderr",
     "output_type": "stream",
     "text": [
      "image 1/1 /Users/codym/CAP/ai-starter-kit/yoda/data/sec-edgar-filings/NVDA/10-Q/0001045810-23-000093/full-submission/images/page_23.jpg: 640x512 (no detections), 76.2ms\n",
      "Speed: 0.2ms preprocess, 76.2ms inference, 0.2ms postprocess per image at shape (1, 3, 640, 640)\n",
      "\n",
      "image 1/1 /Users/codym/CAP/ai-starter-kit/yoda/data/sec-edgar-filings/NVDA/10-Q/0001045810-23-000093/full-submission/images/page_37.jpg: 640x512 (no detections), 98.7ms\n",
      "Speed: 0.4ms preprocess, 98.7ms inference, 0.3ms postprocess per image at shape (1, 3, 640, 640)\n",
      "\n"
     ]
    },
    {
     "name": "stdout",
     "output_type": "stream",
     "text": [
      "Cropping tables from /Users/codym/CAP/ai-starter-kit/yoda/data/sec-edgar-filings/NVDA/10-Q/0001045810-23-000093/full-submission/images/page_37.jpg\n",
      "Cropping tables from /Users/codym/CAP/ai-starter-kit/yoda/data/sec-edgar-filings/NVDA/10-Q/0001045810-23-000093/full-submission/images/page_120.jpg\n"
     ]
    },
    {
     "name": "stderr",
     "output_type": "stream",
     "text": [
      "image 1/1 /Users/codym/CAP/ai-starter-kit/yoda/data/sec-edgar-filings/NVDA/10-Q/0001045810-23-000093/full-submission/images/page_120.jpg: 640x512 (no detections), 106.2ms\n",
      "Speed: 9.0ms preprocess, 106.2ms inference, 0.2ms postprocess per image at shape (1, 3, 640, 640)\n",
      "\n",
      "image 1/1 /Users/codym/CAP/ai-starter-kit/yoda/data/sec-edgar-filings/NVDA/10-Q/0001045810-23-000093/full-submission/images/page_134.jpg: 640x512 (no detections), 74.5ms\n",
      "Speed: 0.2ms preprocess, 74.5ms inference, 0.2ms postprocess per image at shape (1, 3, 640, 640)\n",
      "\n"
     ]
    },
    {
     "name": "stdout",
     "output_type": "stream",
     "text": [
      "Cropping tables from /Users/codym/CAP/ai-starter-kit/yoda/data/sec-edgar-filings/NVDA/10-Q/0001045810-23-000093/full-submission/images/page_134.jpg\n",
      "Cropping tables from /Users/codym/CAP/ai-starter-kit/yoda/data/sec-edgar-filings/NVDA/10-Q/0001045810-23-000093/full-submission/images/page_108.jpg\n"
     ]
    },
    {
     "name": "stderr",
     "output_type": "stream",
     "text": [
      "image 1/1 /Users/codym/CAP/ai-starter-kit/yoda/data/sec-edgar-filings/NVDA/10-Q/0001045810-23-000093/full-submission/images/page_108.jpg: 640x512 (no detections), 112.4ms\n",
      "Speed: 2.4ms preprocess, 112.4ms inference, 0.2ms postprocess per image at shape (1, 3, 640, 640)\n",
      "\n",
      "image 1/1 /Users/codym/CAP/ai-starter-kit/yoda/data/sec-edgar-filings/NVDA/10-Q/0001045810-23-000093/full-submission/images/page_109.jpg: 640x512 (no detections), 72.6ms\n",
      "Speed: 0.2ms preprocess, 72.6ms inference, 0.2ms postprocess per image at shape (1, 3, 640, 640)\n",
      "\n"
     ]
    },
    {
     "name": "stdout",
     "output_type": "stream",
     "text": [
      "Cropping tables from /Users/codym/CAP/ai-starter-kit/yoda/data/sec-edgar-filings/NVDA/10-Q/0001045810-23-000093/full-submission/images/page_109.jpg\n",
      "Cropping tables from /Users/codym/CAP/ai-starter-kit/yoda/data/sec-edgar-filings/NVDA/10-Q/0001045810-23-000093/full-submission/images/page_135.jpg\n"
     ]
    },
    {
     "name": "stderr",
     "output_type": "stream",
     "text": [
      "image 1/1 /Users/codym/CAP/ai-starter-kit/yoda/data/sec-edgar-filings/NVDA/10-Q/0001045810-23-000093/full-submission/images/page_135.jpg: 640x512 (no detections), 96.2ms\n",
      "Speed: 0.2ms preprocess, 96.2ms inference, 0.2ms postprocess per image at shape (1, 3, 640, 640)\n",
      "\n",
      "image 1/1 /Users/codym/CAP/ai-starter-kit/yoda/data/sec-edgar-filings/NVDA/10-Q/0001045810-23-000093/full-submission/images/page_121.jpg: 640x512 (no detections), 67.2ms\n",
      "Speed: 0.2ms preprocess, 67.2ms inference, 0.2ms postprocess per image at shape (1, 3, 640, 640)\n",
      "\n",
      "image 1/1 /Users/codym/CAP/ai-starter-kit/yoda/data/sec-edgar-filings/NVDA/10-Q/0001045810-23-000093/full-submission/images/page_36.jpg: 640x512 (no detections), 68.8ms\n",
      "Speed: 0.2ms preprocess, 68.8ms inference, 0.2ms postprocess per image at shape (1, 3, 640, 640)\n",
      "\n"
     ]
    },
    {
     "name": "stdout",
     "output_type": "stream",
     "text": [
      "Cropping tables from /Users/codym/CAP/ai-starter-kit/yoda/data/sec-edgar-filings/NVDA/10-Q/0001045810-23-000093/full-submission/images/page_121.jpg\n",
      "Cropping tables from /Users/codym/CAP/ai-starter-kit/yoda/data/sec-edgar-filings/NVDA/10-Q/0001045810-23-000093/full-submission/images/page_36.jpg\n",
      "Cropping tables from /Users/codym/CAP/ai-starter-kit/yoda/data/sec-edgar-filings/NVDA/10-Q/0001045810-23-000093/full-submission/images/page_22.jpg\n"
     ]
    },
    {
     "name": "stderr",
     "output_type": "stream",
     "text": [
      "image 1/1 /Users/codym/CAP/ai-starter-kit/yoda/data/sec-edgar-filings/NVDA/10-Q/0001045810-23-000093/full-submission/images/page_22.jpg: 640x512 (no detections), 153.6ms\n",
      "Speed: 0.2ms preprocess, 153.6ms inference, 0.2ms postprocess per image at shape (1, 3, 640, 640)\n",
      "\n",
      "image 1/1 /Users/codym/CAP/ai-starter-kit/yoda/data/sec-edgar-filings/NVDA/10-Q/0001045810-23-000093/full-submission/images/page_34.jpg: 640x512 (no detections), 88.0ms\n",
      "Speed: 0.3ms preprocess, 88.0ms inference, 0.2ms postprocess per image at shape (1, 3, 640, 640)\n",
      "\n",
      "image 1/1 /Users/codym/CAP/ai-starter-kit/yoda/data/sec-edgar-filings/NVDA/10-Q/0001045810-23-000093/full-submission/images/page_20.jpg: 640x512 1 bordered, 69.7ms\n",
      "Speed: 0.2ms preprocess, 69.7ms inference, 0.4ms postprocess per image at shape (1, 3, 640, 640)\n",
      "\n"
     ]
    },
    {
     "name": "stdout",
     "output_type": "stream",
     "text": [
      "Cropping tables from /Users/codym/CAP/ai-starter-kit/yoda/data/sec-edgar-filings/NVDA/10-Q/0001045810-23-000093/full-submission/images/page_34.jpg\n",
      "Cropping tables from /Users/codym/CAP/ai-starter-kit/yoda/data/sec-edgar-filings/NVDA/10-Q/0001045810-23-000093/full-submission/images/page_20.jpg\n",
      "Cropping tables from /Users/codym/CAP/ai-starter-kit/yoda/data/sec-edgar-filings/NVDA/10-Q/0001045810-23-000093/full-submission/images/page_137.jpg\n"
     ]
    },
    {
     "name": "stderr",
     "output_type": "stream",
     "text": [
      "image 1/1 /Users/codym/CAP/ai-starter-kit/yoda/data/sec-edgar-filings/NVDA/10-Q/0001045810-23-000093/full-submission/images/page_137.jpg: 640x512 (no detections), 74.3ms\n",
      "Speed: 0.2ms preprocess, 74.3ms inference, 0.2ms postprocess per image at shape (1, 3, 640, 640)\n",
      "\n",
      "image 1/1 /Users/codym/CAP/ai-starter-kit/yoda/data/sec-edgar-filings/NVDA/10-Q/0001045810-23-000093/full-submission/images/page_123.jpg: 640x512 (no detections), 66.8ms\n",
      "Speed: 0.2ms preprocess, 66.8ms inference, 0.2ms postprocess per image at shape (1, 3, 640, 640)\n",
      "\n",
      "image 1/1 /Users/codym/CAP/ai-starter-kit/yoda/data/sec-edgar-filings/NVDA/10-Q/0001045810-23-000093/full-submission/images/page_122.jpg: 640x512 (no detections), 75.8ms\n",
      "Speed: 4.0ms preprocess, 75.8ms inference, 0.2ms postprocess per image at shape (1, 3, 640, 640)\n",
      "\n"
     ]
    },
    {
     "name": "stdout",
     "output_type": "stream",
     "text": [
      "Cropping tables from /Users/codym/CAP/ai-starter-kit/yoda/data/sec-edgar-filings/NVDA/10-Q/0001045810-23-000093/full-submission/images/page_123.jpg\n",
      "Cropping tables from /Users/codym/CAP/ai-starter-kit/yoda/data/sec-edgar-filings/NVDA/10-Q/0001045810-23-000093/full-submission/images/page_122.jpg\n",
      "Cropping tables from /Users/codym/CAP/ai-starter-kit/yoda/data/sec-edgar-filings/NVDA/10-Q/0001045810-23-000093/full-submission/images/page_136.jpg\n"
     ]
    },
    {
     "name": "stderr",
     "output_type": "stream",
     "text": [
      "image 1/1 /Users/codym/CAP/ai-starter-kit/yoda/data/sec-edgar-filings/NVDA/10-Q/0001045810-23-000093/full-submission/images/page_136.jpg: 640x512 (no detections), 69.9ms\n",
      "Speed: 0.2ms preprocess, 69.9ms inference, 0.2ms postprocess per image at shape (1, 3, 640, 640)\n",
      "\n",
      "image 1/1 /Users/codym/CAP/ai-starter-kit/yoda/data/sec-edgar-filings/NVDA/10-Q/0001045810-23-000093/full-submission/images/page_21.jpg: 640x512 1 bordered, 2 borderlesss, 116.9ms\n",
      "Speed: 0.2ms preprocess, 116.9ms inference, 0.4ms postprocess per image at shape (1, 3, 640, 640)\n",
      "\n"
     ]
    },
    {
     "name": "stdout",
     "output_type": "stream",
     "text": [
      "Cropping tables from /Users/codym/CAP/ai-starter-kit/yoda/data/sec-edgar-filings/NVDA/10-Q/0001045810-23-000093/full-submission/images/page_21.jpg\n",
      "Cropping tables from /Users/codym/CAP/ai-starter-kit/yoda/data/sec-edgar-filings/NVDA/10-Q/0001045810-23-000093/full-submission/images/page_35.jpg\n"
     ]
    },
    {
     "name": "stderr",
     "output_type": "stream",
     "text": [
      "image 1/1 /Users/codym/CAP/ai-starter-kit/yoda/data/sec-edgar-filings/NVDA/10-Q/0001045810-23-000093/full-submission/images/page_35.jpg: 640x512 (no detections), 70.4ms\n",
      "Speed: 0.5ms preprocess, 70.4ms inference, 0.2ms postprocess per image at shape (1, 3, 640, 640)\n",
      "\n",
      "image 1/1 /Users/codym/CAP/ai-starter-kit/yoda/data/sec-edgar-filings/NVDA/10-Q/0001045810-23-000093/full-submission/images/page_38.jpg: 640x512 (no detections), 69.3ms\n",
      "Speed: 0.5ms preprocess, 69.3ms inference, 0.2ms postprocess per image at shape (1, 3, 640, 640)\n",
      "\n",
      "image 1/1 /Users/codym/CAP/ai-starter-kit/yoda/data/sec-edgar-filings/NVDA/10-Q/0001045810-23-000093/full-submission/images/page_10.jpg: 640x512 1 bordered, 69.4ms\n",
      "Speed: 0.2ms preprocess, 69.4ms inference, 0.5ms postprocess per image at shape (1, 3, 640, 640)\n",
      "\n"
     ]
    },
    {
     "name": "stdout",
     "output_type": "stream",
     "text": [
      "Cropping tables from /Users/codym/CAP/ai-starter-kit/yoda/data/sec-edgar-filings/NVDA/10-Q/0001045810-23-000093/full-submission/images/page_38.jpg\n",
      "Cropping tables from /Users/codym/CAP/ai-starter-kit/yoda/data/sec-edgar-filings/NVDA/10-Q/0001045810-23-000093/full-submission/images/page_10.jpg\n",
      "Cropping tables from /Users/codym/CAP/ai-starter-kit/yoda/data/sec-edgar-filings/NVDA/10-Q/0001045810-23-000093/full-submission/images/page_113.jpg\n"
     ]
    },
    {
     "name": "stderr",
     "output_type": "stream",
     "text": [
      "image 1/1 /Users/codym/CAP/ai-starter-kit/yoda/data/sec-edgar-filings/NVDA/10-Q/0001045810-23-000093/full-submission/images/page_113.jpg: 640x512 (no detections), 69.9ms\n",
      "Speed: 0.2ms preprocess, 69.9ms inference, 0.2ms postprocess per image at shape (1, 3, 640, 640)\n",
      "\n",
      "image 1/1 /Users/codym/CAP/ai-starter-kit/yoda/data/sec-edgar-filings/NVDA/10-Q/0001045810-23-000093/full-submission/images/page_107.jpg: 640x512 (no detections), 69.1ms\n",
      "Speed: 0.2ms preprocess, 69.1ms inference, 0.2ms postprocess per image at shape (1, 3, 640, 640)\n",
      "\n",
      "image 1/1 /Users/codym/CAP/ai-starter-kit/yoda/data/sec-edgar-filings/NVDA/10-Q/0001045810-23-000093/full-submission/images/page_106.jpg: 640x512 (no detections), 64.1ms\n",
      "Speed: 0.2ms preprocess, 64.1ms inference, 0.2ms postprocess per image at shape (1, 3, 640, 640)\n",
      "\n"
     ]
    },
    {
     "name": "stdout",
     "output_type": "stream",
     "text": [
      "Cropping tables from /Users/codym/CAP/ai-starter-kit/yoda/data/sec-edgar-filings/NVDA/10-Q/0001045810-23-000093/full-submission/images/page_107.jpg\n",
      "Cropping tables from /Users/codym/CAP/ai-starter-kit/yoda/data/sec-edgar-filings/NVDA/10-Q/0001045810-23-000093/full-submission/images/page_106.jpg\n",
      "Cropping tables from /Users/codym/CAP/ai-starter-kit/yoda/data/sec-edgar-filings/NVDA/10-Q/0001045810-23-000093/full-submission/images/page_112.jpg\n"
     ]
    },
    {
     "name": "stderr",
     "output_type": "stream",
     "text": [
      "image 1/1 /Users/codym/CAP/ai-starter-kit/yoda/data/sec-edgar-filings/NVDA/10-Q/0001045810-23-000093/full-submission/images/page_112.jpg: 640x512 (no detections), 148.2ms\n",
      "Speed: 0.7ms preprocess, 148.2ms inference, 0.2ms postprocess per image at shape (1, 3, 640, 640)\n",
      "\n",
      "image 1/1 /Users/codym/CAP/ai-starter-kit/yoda/data/sec-edgar-filings/NVDA/10-Q/0001045810-23-000093/full-submission/images/page_11.jpg: 640x512 2 borderlesss, 87.3ms\n",
      "Speed: 0.2ms preprocess, 87.3ms inference, 0.4ms postprocess per image at shape (1, 3, 640, 640)\n",
      "\n",
      "image 1/1 /Users/codym/CAP/ai-starter-kit/yoda/data/sec-edgar-filings/NVDA/10-Q/0001045810-23-000093/full-submission/images/page_39.jpg: 640x512 (no detections), 70.0ms\n",
      "Speed: 0.3ms preprocess, 70.0ms inference, 0.2ms postprocess per image at shape (1, 3, 640, 640)\n",
      "\n"
     ]
    },
    {
     "name": "stdout",
     "output_type": "stream",
     "text": [
      "Cropping tables from /Users/codym/CAP/ai-starter-kit/yoda/data/sec-edgar-filings/NVDA/10-Q/0001045810-23-000093/full-submission/images/page_11.jpg\n",
      "Cropping tables from /Users/codym/CAP/ai-starter-kit/yoda/data/sec-edgar-filings/NVDA/10-Q/0001045810-23-000093/full-submission/images/page_39.jpg\n",
      "Cropping tables from /Users/codym/CAP/ai-starter-kit/yoda/data/sec-edgar-filings/NVDA/10-Q/0001045810-23-000093/full-submission/images/page_13.jpg\n"
     ]
    },
    {
     "name": "stderr",
     "output_type": "stream",
     "text": [
      "image 1/1 /Users/codym/CAP/ai-starter-kit/yoda/data/sec-edgar-filings/NVDA/10-Q/0001045810-23-000093/full-submission/images/page_13.jpg: 640x512 1 borderless, 72.3ms\n",
      "Speed: 0.2ms preprocess, 72.3ms inference, 0.4ms postprocess per image at shape (1, 3, 640, 640)\n",
      "\n",
      "image 1/1 /Users/codym/CAP/ai-starter-kit/yoda/data/sec-edgar-filings/NVDA/10-Q/0001045810-23-000093/full-submission/images/page_138.jpg: 640x512 (no detections), 69.3ms\n",
      "Speed: 0.1ms preprocess, 69.3ms inference, 0.2ms postprocess per image at shape (1, 3, 640, 640)\n",
      "\n",
      "image 1/1 /Users/codym/CAP/ai-starter-kit/yoda/data/sec-edgar-filings/NVDA/10-Q/0001045810-23-000093/full-submission/images/page_104.jpg: 640x512 (no detections), 84.5ms\n",
      "Speed: 0.2ms preprocess, 84.5ms inference, 0.2ms postprocess per image at shape (1, 3, 640, 640)\n",
      "\n"
     ]
    },
    {
     "name": "stdout",
     "output_type": "stream",
     "text": [
      "Cropping tables from /Users/codym/CAP/ai-starter-kit/yoda/data/sec-edgar-filings/NVDA/10-Q/0001045810-23-000093/full-submission/images/page_138.jpg\n",
      "Cropping tables from /Users/codym/CAP/ai-starter-kit/yoda/data/sec-edgar-filings/NVDA/10-Q/0001045810-23-000093/full-submission/images/page_104.jpg\n",
      "Cropping tables from /Users/codym/CAP/ai-starter-kit/yoda/data/sec-edgar-filings/NVDA/10-Q/0001045810-23-000093/full-submission/images/page_110.jpg\n"
     ]
    },
    {
     "name": "stderr",
     "output_type": "stream",
     "text": [
      "image 1/1 /Users/codym/CAP/ai-starter-kit/yoda/data/sec-edgar-filings/NVDA/10-Q/0001045810-23-000093/full-submission/images/page_110.jpg: 640x512 (no detections), 72.3ms\n",
      "Speed: 2.0ms preprocess, 72.3ms inference, 0.2ms postprocess per image at shape (1, 3, 640, 640)\n",
      "\n",
      "image 1/1 /Users/codym/CAP/ai-starter-kit/yoda/data/sec-edgar-filings/NVDA/10-Q/0001045810-23-000093/full-submission/images/page_111.jpg: 640x512 (no detections), 67.9ms\n",
      "Speed: 0.2ms preprocess, 67.9ms inference, 0.2ms postprocess per image at shape (1, 3, 640, 640)\n",
      "\n"
     ]
    },
    {
     "name": "stdout",
     "output_type": "stream",
     "text": [
      "Cropping tables from /Users/codym/CAP/ai-starter-kit/yoda/data/sec-edgar-filings/NVDA/10-Q/0001045810-23-000093/full-submission/images/page_111.jpg\n",
      "Cropping tables from /Users/codym/CAP/ai-starter-kit/yoda/data/sec-edgar-filings/NVDA/10-Q/0001045810-23-000093/full-submission/images/page_105.jpg\n"
     ]
    },
    {
     "name": "stderr",
     "output_type": "stream",
     "text": [
      "image 1/1 /Users/codym/CAP/ai-starter-kit/yoda/data/sec-edgar-filings/NVDA/10-Q/0001045810-23-000093/full-submission/images/page_105.jpg: 640x512 (no detections), 91.6ms\n",
      "Speed: 0.2ms preprocess, 91.6ms inference, 0.2ms postprocess per image at shape (1, 3, 640, 640)\n",
      "\n",
      "image 1/1 /Users/codym/CAP/ai-starter-kit/yoda/data/sec-edgar-filings/NVDA/10-Q/0001045810-23-000093/full-submission/images/page_139.jpg: 640x512 (no detections), 68.7ms\n",
      "Speed: 0.4ms preprocess, 68.7ms inference, 0.2ms postprocess per image at shape (1, 3, 640, 640)\n",
      "\n",
      "image 1/1 /Users/codym/CAP/ai-starter-kit/yoda/data/sec-edgar-filings/NVDA/10-Q/0001045810-23-000093/full-submission/images/page_12.jpg: 640x512 2 bordereds, 65.6ms\n",
      "Speed: 0.2ms preprocess, 65.6ms inference, 0.4ms postprocess per image at shape (1, 3, 640, 640)\n",
      "\n"
     ]
    },
    {
     "name": "stdout",
     "output_type": "stream",
     "text": [
      "Cropping tables from /Users/codym/CAP/ai-starter-kit/yoda/data/sec-edgar-filings/NVDA/10-Q/0001045810-23-000093/full-submission/images/page_139.jpg\n",
      "Cropping tables from /Users/codym/CAP/ai-starter-kit/yoda/data/sec-edgar-filings/NVDA/10-Q/0001045810-23-000093/full-submission/images/page_12.jpg\n",
      "Cropping tables from /Users/codym/CAP/ai-starter-kit/yoda/data/sec-edgar-filings/NVDA/10-Q/0001045810-23-000093/full-submission/images/page_16.jpg\n"
     ]
    },
    {
     "name": "stderr",
     "output_type": "stream",
     "text": [
      "image 1/1 /Users/codym/CAP/ai-starter-kit/yoda/data/sec-edgar-filings/NVDA/10-Q/0001045810-23-000093/full-submission/images/page_16.jpg: 640x512 1 bordered, 70.7ms\n",
      "Speed: 0.2ms preprocess, 70.7ms inference, 0.4ms postprocess per image at shape (1, 3, 640, 640)\n",
      "\n",
      "image 1/1 /Users/codym/CAP/ai-starter-kit/yoda/data/sec-edgar-filings/NVDA/10-Q/0001045810-23-000093/full-submission/images/page_101.jpg: 640x512 (no detections), 68.7ms\n",
      "Speed: 0.2ms preprocess, 68.7ms inference, 0.2ms postprocess per image at shape (1, 3, 640, 640)\n",
      "\n",
      "image 1/1 /Users/codym/CAP/ai-starter-kit/yoda/data/sec-edgar-filings/NVDA/10-Q/0001045810-23-000093/full-submission/images/page_115.jpg: 640x512 (no detections), 65.2ms\n",
      "Speed: 0.3ms preprocess, 65.2ms inference, 0.2ms postprocess per image at shape (1, 3, 640, 640)\n",
      "\n"
     ]
    },
    {
     "name": "stdout",
     "output_type": "stream",
     "text": [
      "Cropping tables from /Users/codym/CAP/ai-starter-kit/yoda/data/sec-edgar-filings/NVDA/10-Q/0001045810-23-000093/full-submission/images/page_101.jpg\n",
      "Cropping tables from /Users/codym/CAP/ai-starter-kit/yoda/data/sec-edgar-filings/NVDA/10-Q/0001045810-23-000093/full-submission/images/page_115.jpg\n",
      "Cropping tables from /Users/codym/CAP/ai-starter-kit/yoda/data/sec-edgar-filings/NVDA/10-Q/0001045810-23-000093/full-submission/images/page_129.jpg\n"
     ]
    },
    {
     "name": "stderr",
     "output_type": "stream",
     "text": [
      "image 1/1 /Users/codym/CAP/ai-starter-kit/yoda/data/sec-edgar-filings/NVDA/10-Q/0001045810-23-000093/full-submission/images/page_129.jpg: 640x512 (no detections), 70.0ms\n",
      "Speed: 0.5ms preprocess, 70.0ms inference, 0.2ms postprocess per image at shape (1, 3, 640, 640)\n",
      "\n",
      "image 1/1 /Users/codym/CAP/ai-starter-kit/yoda/data/sec-edgar-filings/NVDA/10-Q/0001045810-23-000093/full-submission/images/page_128.jpg: 640x512 (no detections), 72.4ms\n",
      "Speed: 0.2ms preprocess, 72.4ms inference, 0.2ms postprocess per image at shape (1, 3, 640, 640)\n",
      "\n",
      "image 1/1 /Users/codym/CAP/ai-starter-kit/yoda/data/sec-edgar-filings/NVDA/10-Q/0001045810-23-000093/full-submission/images/page_114.jpg: 640x512 (no detections), 69.5ms\n",
      "Speed: 0.2ms preprocess, 69.5ms inference, 0.2ms postprocess per image at shape (1, 3, 640, 640)\n",
      "\n"
     ]
    },
    {
     "name": "stdout",
     "output_type": "stream",
     "text": [
      "Cropping tables from /Users/codym/CAP/ai-starter-kit/yoda/data/sec-edgar-filings/NVDA/10-Q/0001045810-23-000093/full-submission/images/page_128.jpg\n",
      "Cropping tables from /Users/codym/CAP/ai-starter-kit/yoda/data/sec-edgar-filings/NVDA/10-Q/0001045810-23-000093/full-submission/images/page_114.jpg\n",
      "Cropping tables from /Users/codym/CAP/ai-starter-kit/yoda/data/sec-edgar-filings/NVDA/10-Q/0001045810-23-000093/full-submission/images/page_100.jpg\n"
     ]
    },
    {
     "name": "stderr",
     "output_type": "stream",
     "text": [
      "image 1/1 /Users/codym/CAP/ai-starter-kit/yoda/data/sec-edgar-filings/NVDA/10-Q/0001045810-23-000093/full-submission/images/page_100.jpg: 640x512 (no detections), 66.4ms\n",
      "Speed: 0.2ms preprocess, 66.4ms inference, 0.2ms postprocess per image at shape (1, 3, 640, 640)\n",
      "\n",
      "image 1/1 /Users/codym/CAP/ai-starter-kit/yoda/data/sec-edgar-filings/NVDA/10-Q/0001045810-23-000093/full-submission/images/page_17.jpg: 640x512 1 borderless, 68.6ms\n",
      "Speed: 0.2ms preprocess, 68.6ms inference, 0.4ms postprocess per image at shape (1, 3, 640, 640)\n",
      "\n",
      "image 1/1 /Users/codym/CAP/ai-starter-kit/yoda/data/sec-edgar-filings/NVDA/10-Q/0001045810-23-000093/full-submission/images/page_15.jpg: 640x512 (no detections), 80.0ms\n",
      "Speed: 0.2ms preprocess, 80.0ms inference, 0.2ms postprocess per image at shape (1, 3, 640, 640)\n",
      "\n"
     ]
    },
    {
     "name": "stdout",
     "output_type": "stream",
     "text": [
      "Cropping tables from /Users/codym/CAP/ai-starter-kit/yoda/data/sec-edgar-filings/NVDA/10-Q/0001045810-23-000093/full-submission/images/page_17.jpg\n",
      "Cropping tables from /Users/codym/CAP/ai-starter-kit/yoda/data/sec-edgar-filings/NVDA/10-Q/0001045810-23-000093/full-submission/images/page_15.jpg\n",
      "Cropping tables from /Users/codym/CAP/ai-starter-kit/yoda/data/sec-edgar-filings/NVDA/10-Q/0001045810-23-000093/full-submission/images/page_29.jpg\n"
     ]
    },
    {
     "name": "stderr",
     "output_type": "stream",
     "text": [
      "image 1/1 /Users/codym/CAP/ai-starter-kit/yoda/data/sec-edgar-filings/NVDA/10-Q/0001045810-23-000093/full-submission/images/page_29.jpg: 640x512 1 bordered, 76.6ms\n",
      "Speed: 0.4ms preprocess, 76.6ms inference, 0.4ms postprocess per image at shape (1, 3, 640, 640)\n",
      "\n",
      "image 1/1 /Users/codym/CAP/ai-starter-kit/yoda/data/sec-edgar-filings/NVDA/10-Q/0001045810-23-000093/full-submission/images/page_116.jpg: 640x512 (no detections), 78.1ms\n",
      "Speed: 0.3ms preprocess, 78.1ms inference, 0.2ms postprocess per image at shape (1, 3, 640, 640)\n",
      "\n",
      "image 1/1 /Users/codym/CAP/ai-starter-kit/yoda/data/sec-edgar-filings/NVDA/10-Q/0001045810-23-000093/full-submission/images/page_102.jpg: 640x512 (no detections), 70.2ms\n",
      "Speed: 0.3ms preprocess, 70.2ms inference, 0.2ms postprocess per image at shape (1, 3, 640, 640)\n",
      "\n"
     ]
    },
    {
     "name": "stdout",
     "output_type": "stream",
     "text": [
      "Cropping tables from /Users/codym/CAP/ai-starter-kit/yoda/data/sec-edgar-filings/NVDA/10-Q/0001045810-23-000093/full-submission/images/page_116.jpg\n",
      "Cropping tables from /Users/codym/CAP/ai-starter-kit/yoda/data/sec-edgar-filings/NVDA/10-Q/0001045810-23-000093/full-submission/images/page_102.jpg\n",
      "Cropping tables from /Users/codym/CAP/ai-starter-kit/yoda/data/sec-edgar-filings/NVDA/10-Q/0001045810-23-000093/full-submission/images/page_103.jpg\n"
     ]
    },
    {
     "name": "stderr",
     "output_type": "stream",
     "text": [
      "image 1/1 /Users/codym/CAP/ai-starter-kit/yoda/data/sec-edgar-filings/NVDA/10-Q/0001045810-23-000093/full-submission/images/page_103.jpg: 640x512 (no detections), 68.3ms\n",
      "Speed: 0.1ms preprocess, 68.3ms inference, 0.2ms postprocess per image at shape (1, 3, 640, 640)\n",
      "\n",
      "image 1/1 /Users/codym/CAP/ai-starter-kit/yoda/data/sec-edgar-filings/NVDA/10-Q/0001045810-23-000093/full-submission/images/page_117.jpg: 640x512 (no detections), 67.0ms\n",
      "Speed: 0.4ms preprocess, 67.0ms inference, 0.2ms postprocess per image at shape (1, 3, 640, 640)\n",
      "\n",
      "image 1/1 /Users/codym/CAP/ai-starter-kit/yoda/data/sec-edgar-filings/NVDA/10-Q/0001045810-23-000093/full-submission/images/page_28.jpg: 640x512 1 borderless, 85.6ms\n",
      "Speed: 0.2ms preprocess, 85.6ms inference, 0.5ms postprocess per image at shape (1, 3, 640, 640)\n",
      "\n"
     ]
    },
    {
     "name": "stdout",
     "output_type": "stream",
     "text": [
      "Cropping tables from /Users/codym/CAP/ai-starter-kit/yoda/data/sec-edgar-filings/NVDA/10-Q/0001045810-23-000093/full-submission/images/page_117.jpg\n",
      "Cropping tables from /Users/codym/CAP/ai-starter-kit/yoda/data/sec-edgar-filings/NVDA/10-Q/0001045810-23-000093/full-submission/images/page_28.jpg\n",
      "Cropping tables from /Users/codym/CAP/ai-starter-kit/yoda/data/sec-edgar-filings/NVDA/10-Q/0001045810-23-000093/full-submission/images/page_14.jpg\n"
     ]
    },
    {
     "name": "stderr",
     "output_type": "stream",
     "text": [
      "image 1/1 /Users/codym/CAP/ai-starter-kit/yoda/data/sec-edgar-filings/NVDA/10-Q/0001045810-23-000093/full-submission/images/page_14.jpg: 640x512 2 bordereds, 1 borderless, 85.3ms\n",
      "Speed: 0.2ms preprocess, 85.3ms inference, 0.4ms postprocess per image at shape (1, 3, 640, 640)\n",
      "\n",
      "image 1/1 /Users/codym/CAP/ai-starter-kit/yoda/data/sec-edgar-filings/NVDA/10-Q/0001045810-23-000093/full-submission/images/page_98.jpg: 640x512 (no detections), 66.0ms\n",
      "Speed: 0.2ms preprocess, 66.0ms inference, 0.2ms postprocess per image at shape (1, 3, 640, 640)\n",
      "\n",
      "image 1/1 /Users/codym/CAP/ai-starter-kit/yoda/data/sec-edgar-filings/NVDA/10-Q/0001045810-23-000093/full-submission/images/page_73.jpg: 640x512 (no detections), 70.5ms\n",
      "Speed: 0.2ms preprocess, 70.5ms inference, 0.2ms postprocess per image at shape (1, 3, 640, 640)\n",
      "\n"
     ]
    },
    {
     "name": "stdout",
     "output_type": "stream",
     "text": [
      "Cropping tables from /Users/codym/CAP/ai-starter-kit/yoda/data/sec-edgar-filings/NVDA/10-Q/0001045810-23-000093/full-submission/images/page_98.jpg\n",
      "Cropping tables from /Users/codym/CAP/ai-starter-kit/yoda/data/sec-edgar-filings/NVDA/10-Q/0001045810-23-000093/full-submission/images/page_73.jpg\n",
      "Cropping tables from /Users/codym/CAP/ai-starter-kit/yoda/data/sec-edgar-filings/NVDA/10-Q/0001045810-23-000093/full-submission/images/page_67.jpg\n"
     ]
    },
    {
     "name": "stderr",
     "output_type": "stream",
     "text": [
      "image 1/1 /Users/codym/CAP/ai-starter-kit/yoda/data/sec-edgar-filings/NVDA/10-Q/0001045810-23-000093/full-submission/images/page_67.jpg: 640x512 1 borderless, 143.8ms\n",
      "Speed: 0.2ms preprocess, 143.8ms inference, 0.4ms postprocess per image at shape (1, 3, 640, 640)\n",
      "\n",
      "image 1/1 /Users/codym/CAP/ai-starter-kit/yoda/data/sec-edgar-filings/NVDA/10-Q/0001045810-23-000093/full-submission/images/page_158.jpg: 640x512 (no detections), 79.8ms\n",
      "Speed: 0.4ms preprocess, 79.8ms inference, 0.2ms postprocess per image at shape (1, 3, 640, 640)\n",
      "\n",
      "image 1/1 /Users/codym/CAP/ai-starter-kit/yoda/data/sec-edgar-filings/NVDA/10-Q/0001045810-23-000093/full-submission/images/page_170.jpg: 640x512 (no detections), 73.7ms\n",
      "Speed: 0.2ms preprocess, 73.7ms inference, 0.2ms postprocess per image at shape (1, 3, 640, 640)\n",
      "\n"
     ]
    },
    {
     "name": "stdout",
     "output_type": "stream",
     "text": [
      "Cropping tables from /Users/codym/CAP/ai-starter-kit/yoda/data/sec-edgar-filings/NVDA/10-Q/0001045810-23-000093/full-submission/images/page_158.jpg\n",
      "Cropping tables from /Users/codym/CAP/ai-starter-kit/yoda/data/sec-edgar-filings/NVDA/10-Q/0001045810-23-000093/full-submission/images/page_170.jpg\n",
      "Cropping tables from /Users/codym/CAP/ai-starter-kit/yoda/data/sec-edgar-filings/NVDA/10-Q/0001045810-23-000093/full-submission/images/page_164.jpg\n"
     ]
    },
    {
     "name": "stderr",
     "output_type": "stream",
     "text": [
      "image 1/1 /Users/codym/CAP/ai-starter-kit/yoda/data/sec-edgar-filings/NVDA/10-Q/0001045810-23-000093/full-submission/images/page_164.jpg: 640x512 (no detections), 75.4ms\n",
      "Speed: 0.2ms preprocess, 75.4ms inference, 0.2ms postprocess per image at shape (1, 3, 640, 640)\n",
      "\n",
      "image 1/1 /Users/codym/CAP/ai-starter-kit/yoda/data/sec-edgar-filings/NVDA/10-Q/0001045810-23-000093/full-submission/images/page_165.jpg: 640x512 (no detections), 70.9ms\n",
      "Speed: 0.2ms preprocess, 70.9ms inference, 0.2ms postprocess per image at shape (1, 3, 640, 640)\n",
      "\n",
      "image 1/1 /Users/codym/CAP/ai-starter-kit/yoda/data/sec-edgar-filings/NVDA/10-Q/0001045810-23-000093/full-submission/images/page_171.jpg: 640x512 (no detections), 85.9ms\n",
      "Speed: 0.2ms preprocess, 85.9ms inference, 0.2ms postprocess per image at shape (1, 3, 640, 640)\n"
     ]
    },
    {
     "name": "stdout",
     "output_type": "stream",
     "text": [
      "Cropping tables from /Users/codym/CAP/ai-starter-kit/yoda/data/sec-edgar-filings/NVDA/10-Q/0001045810-23-000093/full-submission/images/page_165.jpg\n",
      "Cropping tables from /Users/codym/CAP/ai-starter-kit/yoda/data/sec-edgar-filings/NVDA/10-Q/0001045810-23-000093/full-submission/images/page_171.jpg\n"
     ]
    },
    {
     "name": "stderr",
     "output_type": "stream",
     "text": [
      "\n",
      "image 1/1 /Users/codym/CAP/ai-starter-kit/yoda/data/sec-edgar-filings/NVDA/10-Q/0001045810-23-000093/full-submission/images/page_159.jpg: 640x512 (no detections), 70.1ms\n",
      "Speed: 0.2ms preprocess, 70.1ms inference, 0.2ms postprocess per image at shape (1, 3, 640, 640)\n",
      "\n",
      "image 1/1 /Users/codym/CAP/ai-starter-kit/yoda/data/sec-edgar-filings/NVDA/10-Q/0001045810-23-000093/full-submission/images/page_66.jpg: 640x512 (no detections), 69.1ms\n",
      "Speed: 0.2ms preprocess, 69.1ms inference, 0.2ms postprocess per image at shape (1, 3, 640, 640)\n",
      "\n"
     ]
    },
    {
     "name": "stdout",
     "output_type": "stream",
     "text": [
      "Cropping tables from /Users/codym/CAP/ai-starter-kit/yoda/data/sec-edgar-filings/NVDA/10-Q/0001045810-23-000093/full-submission/images/page_159.jpg\n",
      "Cropping tables from /Users/codym/CAP/ai-starter-kit/yoda/data/sec-edgar-filings/NVDA/10-Q/0001045810-23-000093/full-submission/images/page_66.jpg\n",
      "Cropping tables from /Users/codym/CAP/ai-starter-kit/yoda/data/sec-edgar-filings/NVDA/10-Q/0001045810-23-000093/full-submission/images/page_72.jpg\n"
     ]
    },
    {
     "name": "stderr",
     "output_type": "stream",
     "text": [
      "image 1/1 /Users/codym/CAP/ai-starter-kit/yoda/data/sec-edgar-filings/NVDA/10-Q/0001045810-23-000093/full-submission/images/page_72.jpg: 640x512 (no detections), 72.4ms\n",
      "Speed: 0.5ms preprocess, 72.4ms inference, 0.2ms postprocess per image at shape (1, 3, 640, 640)\n",
      "\n",
      "image 1/1 /Users/codym/CAP/ai-starter-kit/yoda/data/sec-edgar-filings/NVDA/10-Q/0001045810-23-000093/full-submission/images/page_99.jpg: 640x512 (no detections), 67.6ms\n",
      "Speed: 0.2ms preprocess, 67.6ms inference, 0.2ms postprocess per image at shape (1, 3, 640, 640)\n",
      "\n",
      "image 1/1 /Users/codym/CAP/ai-starter-kit/yoda/data/sec-edgar-filings/NVDA/10-Q/0001045810-23-000093/full-submission/images/page_58.jpg: 640x512 2 bordereds, 70.0ms\n",
      "Speed: 0.2ms preprocess, 70.0ms inference, 0.4ms postprocess per image at shape (1, 3, 640, 640)\n",
      "\n"
     ]
    },
    {
     "name": "stdout",
     "output_type": "stream",
     "text": [
      "Cropping tables from /Users/codym/CAP/ai-starter-kit/yoda/data/sec-edgar-filings/NVDA/10-Q/0001045810-23-000093/full-submission/images/page_99.jpg\n",
      "Cropping tables from /Users/codym/CAP/ai-starter-kit/yoda/data/sec-edgar-filings/NVDA/10-Q/0001045810-23-000093/full-submission/images/page_58.jpg\n",
      "Cropping tables from /Users/codym/CAP/ai-starter-kit/yoda/data/sec-edgar-filings/NVDA/10-Q/0001045810-23-000093/full-submission/images/page_64.jpg\n"
     ]
    },
    {
     "name": "stderr",
     "output_type": "stream",
     "text": [
      "image 1/1 /Users/codym/CAP/ai-starter-kit/yoda/data/sec-edgar-filings/NVDA/10-Q/0001045810-23-000093/full-submission/images/page_64.jpg: 640x512 (no detections), 82.8ms\n",
      "Speed: 0.2ms preprocess, 82.8ms inference, 0.2ms postprocess per image at shape (1, 3, 640, 640)\n",
      "\n",
      "image 1/1 /Users/codym/CAP/ai-starter-kit/yoda/data/sec-edgar-filings/NVDA/10-Q/0001045810-23-000093/full-submission/images/page_70.jpg: 640x512 2 borderlesss, 73.2ms\n",
      "Speed: 0.2ms preprocess, 73.2ms inference, 0.4ms postprocess per image at shape (1, 3, 640, 640)\n",
      "\n",
      "image 1/1 /Users/codym/CAP/ai-starter-kit/yoda/data/sec-edgar-filings/NVDA/10-Q/0001045810-23-000093/full-submission/images/page_8.jpg: 640x512 2 bordereds, 89.7ms\n",
      "Speed: 0.2ms preprocess, 89.7ms inference, 0.4ms postprocess per image at shape (1, 3, 640, 640)\n",
      "\n"
     ]
    },
    {
     "name": "stdout",
     "output_type": "stream",
     "text": [
      "Cropping tables from /Users/codym/CAP/ai-starter-kit/yoda/data/sec-edgar-filings/NVDA/10-Q/0001045810-23-000093/full-submission/images/page_70.jpg\n",
      "Cropping tables from /Users/codym/CAP/ai-starter-kit/yoda/data/sec-edgar-filings/NVDA/10-Q/0001045810-23-000093/full-submission/images/page_8.jpg\n",
      "Cropping tables from /Users/codym/CAP/ai-starter-kit/yoda/data/sec-edgar-filings/NVDA/10-Q/0001045810-23-000093/full-submission/images/page_167.jpg\n"
     ]
    },
    {
     "name": "stderr",
     "output_type": "stream",
     "text": [
      "image 1/1 /Users/codym/CAP/ai-starter-kit/yoda/data/sec-edgar-filings/NVDA/10-Q/0001045810-23-000093/full-submission/images/page_167.jpg: 640x512 (no detections), 74.4ms\n",
      "Speed: 0.9ms preprocess, 74.4ms inference, 0.2ms postprocess per image at shape (1, 3, 640, 640)\n",
      "\n",
      "image 1/1 /Users/codym/CAP/ai-starter-kit/yoda/data/sec-edgar-filings/NVDA/10-Q/0001045810-23-000093/full-submission/images/page_173.jpg: 640x512 (no detections), 71.5ms\n",
      "Speed: 0.2ms preprocess, 71.5ms inference, 0.2ms postprocess per image at shape (1, 3, 640, 640)\n",
      "\n",
      "image 1/1 /Users/codym/CAP/ai-starter-kit/yoda/data/sec-edgar-filings/NVDA/10-Q/0001045810-23-000093/full-submission/images/page_172.jpg: 640x512 (no detections), 70.8ms\n",
      "Speed: 0.2ms preprocess, 70.8ms inference, 0.2ms postprocess per image at shape (1, 3, 640, 640)\n",
      "\n"
     ]
    },
    {
     "name": "stdout",
     "output_type": "stream",
     "text": [
      "Cropping tables from /Users/codym/CAP/ai-starter-kit/yoda/data/sec-edgar-filings/NVDA/10-Q/0001045810-23-000093/full-submission/images/page_173.jpg\n",
      "Cropping tables from /Users/codym/CAP/ai-starter-kit/yoda/data/sec-edgar-filings/NVDA/10-Q/0001045810-23-000093/full-submission/images/page_172.jpg\n",
      "Cropping tables from /Users/codym/CAP/ai-starter-kit/yoda/data/sec-edgar-filings/NVDA/10-Q/0001045810-23-000093/full-submission/images/page_166.jpg\n"
     ]
    },
    {
     "name": "stderr",
     "output_type": "stream",
     "text": [
      "image 1/1 /Users/codym/CAP/ai-starter-kit/yoda/data/sec-edgar-filings/NVDA/10-Q/0001045810-23-000093/full-submission/images/page_166.jpg: 640x512 (no detections), 75.6ms\n",
      "Speed: 0.2ms preprocess, 75.6ms inference, 0.2ms postprocess per image at shape (1, 3, 640, 640)\n",
      "\n",
      "image 1/1 /Users/codym/CAP/ai-starter-kit/yoda/data/sec-edgar-filings/NVDA/10-Q/0001045810-23-000093/full-submission/images/page_9.jpg: 640x512 (no detections), 74.6ms\n",
      "Speed: 0.2ms preprocess, 74.6ms inference, 0.2ms postprocess per image at shape (1, 3, 640, 640)\n",
      "\n",
      "image 1/1 /Users/codym/CAP/ai-starter-kit/yoda/data/sec-edgar-filings/NVDA/10-Q/0001045810-23-000093/full-submission/images/page_71.jpg: 640x512 2 borderlesss, 80.8ms\n",
      "Speed: 0.2ms preprocess, 80.8ms inference, 0.4ms postprocess per image at shape (1, 3, 640, 640)\n",
      "\n"
     ]
    },
    {
     "name": "stdout",
     "output_type": "stream",
     "text": [
      "Cropping tables from /Users/codym/CAP/ai-starter-kit/yoda/data/sec-edgar-filings/NVDA/10-Q/0001045810-23-000093/full-submission/images/page_9.jpg\n",
      "Cropping tables from /Users/codym/CAP/ai-starter-kit/yoda/data/sec-edgar-filings/NVDA/10-Q/0001045810-23-000093/full-submission/images/page_71.jpg\n",
      "Cropping tables from /Users/codym/CAP/ai-starter-kit/yoda/data/sec-edgar-filings/NVDA/10-Q/0001045810-23-000093/full-submission/images/page_65.jpg\n"
     ]
    },
    {
     "name": "stderr",
     "output_type": "stream",
     "text": [
      "image 1/1 /Users/codym/CAP/ai-starter-kit/yoda/data/sec-edgar-filings/NVDA/10-Q/0001045810-23-000093/full-submission/images/page_65.jpg: 640x512 1 borderless, 76.5ms\n",
      "Speed: 0.3ms preprocess, 76.5ms inference, 0.5ms postprocess per image at shape (1, 3, 640, 640)\n",
      "\n",
      "image 1/1 /Users/codym/CAP/ai-starter-kit/yoda/data/sec-edgar-filings/NVDA/10-Q/0001045810-23-000093/full-submission/images/page_59.jpg: 640x512 4 borderlesss, 76.8ms\n",
      "Speed: 0.5ms preprocess, 76.8ms inference, 0.4ms postprocess per image at shape (1, 3, 640, 640)\n",
      "\n",
      "image 1/1 /Users/codym/CAP/ai-starter-kit/yoda/data/sec-edgar-filings/NVDA/10-Q/0001045810-23-000093/full-submission/images/page_61.jpg: 640x512 2 bordereds, 2 borderlesss, 72.5ms\n",
      "Speed: 0.2ms preprocess, 72.5ms inference, 0.4ms postprocess per image at shape (1, 3, 640, 640)\n",
      "\n"
     ]
    },
    {
     "name": "stdout",
     "output_type": "stream",
     "text": [
      "Cropping tables from /Users/codym/CAP/ai-starter-kit/yoda/data/sec-edgar-filings/NVDA/10-Q/0001045810-23-000093/full-submission/images/page_59.jpg\n",
      "Cropping tables from /Users/codym/CAP/ai-starter-kit/yoda/data/sec-edgar-filings/NVDA/10-Q/0001045810-23-000093/full-submission/images/page_61.jpg\n",
      "Cropping tables from /Users/codym/CAP/ai-starter-kit/yoda/data/sec-edgar-filings/NVDA/10-Q/0001045810-23-000093/full-submission/images/page_75.jpg\n"
     ]
    },
    {
     "name": "stderr",
     "output_type": "stream",
     "text": [
      "image 1/1 /Users/codym/CAP/ai-starter-kit/yoda/data/sec-edgar-filings/NVDA/10-Q/0001045810-23-000093/full-submission/images/page_75.jpg: 640x512 (no detections), 70.2ms\n",
      "Speed: 0.2ms preprocess, 70.2ms inference, 0.2ms postprocess per image at shape (1, 3, 640, 640)\n",
      "\n",
      "image 1/1 /Users/codym/CAP/ai-starter-kit/yoda/data/sec-edgar-filings/NVDA/10-Q/0001045810-23-000093/full-submission/images/page_49.jpg: 640x512 2 borderlesss, 71.0ms\n",
      "Speed: 0.2ms preprocess, 71.0ms inference, 0.4ms postprocess per image at shape (1, 3, 640, 640)\n",
      "\n",
      "image 1/1 /Users/codym/CAP/ai-starter-kit/yoda/data/sec-edgar-filings/NVDA/10-Q/0001045810-23-000093/full-submission/images/page_162.jpg: 640x512 (no detections), 70.2ms\n",
      "Speed: 0.2ms preprocess, 70.2ms inference, 0.2ms postprocess per image at shape (1, 3, 640, 640)\n",
      "\n"
     ]
    },
    {
     "name": "stdout",
     "output_type": "stream",
     "text": [
      "Cropping tables from /Users/codym/CAP/ai-starter-kit/yoda/data/sec-edgar-filings/NVDA/10-Q/0001045810-23-000093/full-submission/images/page_49.jpg\n",
      "Cropping tables from /Users/codym/CAP/ai-starter-kit/yoda/data/sec-edgar-filings/NVDA/10-Q/0001045810-23-000093/full-submission/images/page_162.jpg\n",
      "Cropping tables from /Users/codym/CAP/ai-starter-kit/yoda/data/sec-edgar-filings/NVDA/10-Q/0001045810-23-000093/full-submission/images/page_176.jpg\n"
     ]
    },
    {
     "name": "stderr",
     "output_type": "stream",
     "text": [
      "image 1/1 /Users/codym/CAP/ai-starter-kit/yoda/data/sec-edgar-filings/NVDA/10-Q/0001045810-23-000093/full-submission/images/page_176.jpg: 640x512 (no detections), 93.8ms\n",
      "Speed: 0.6ms preprocess, 93.8ms inference, 0.2ms postprocess per image at shape (1, 3, 640, 640)\n",
      "\n",
      "image 1/1 /Users/codym/CAP/ai-starter-kit/yoda/data/sec-edgar-filings/NVDA/10-Q/0001045810-23-000093/full-submission/images/page_177.jpg: 640x512 (no detections), 94.2ms\n",
      "Speed: 0.5ms preprocess, 94.2ms inference, 0.2ms postprocess per image at shape (1, 3, 640, 640)\n",
      "\n"
     ]
    },
    {
     "name": "stdout",
     "output_type": "stream",
     "text": [
      "Cropping tables from /Users/codym/CAP/ai-starter-kit/yoda/data/sec-edgar-filings/NVDA/10-Q/0001045810-23-000093/full-submission/images/page_177.jpg\n",
      "Cropping tables from /Users/codym/CAP/ai-starter-kit/yoda/data/sec-edgar-filings/NVDA/10-Q/0001045810-23-000093/full-submission/images/page_163.jpg\n"
     ]
    },
    {
     "name": "stderr",
     "output_type": "stream",
     "text": [
      "image 1/1 /Users/codym/CAP/ai-starter-kit/yoda/data/sec-edgar-filings/NVDA/10-Q/0001045810-23-000093/full-submission/images/page_163.jpg: 640x512 (no detections), 92.5ms\n",
      "Speed: 0.3ms preprocess, 92.5ms inference, 0.2ms postprocess per image at shape (1, 3, 640, 640)\n",
      "\n",
      "image 1/1 /Users/codym/CAP/ai-starter-kit/yoda/data/sec-edgar-filings/NVDA/10-Q/0001045810-23-000093/full-submission/images/page_48.jpg: 640x512 (no detections), 83.7ms\n",
      "Speed: 0.2ms preprocess, 83.7ms inference, 0.2ms postprocess per image at shape (1, 3, 640, 640)\n",
      "\n",
      "image 1/1 /Users/codym/CAP/ai-starter-kit/yoda/data/sec-edgar-filings/NVDA/10-Q/0001045810-23-000093/full-submission/images/page_74.jpg: 640x512 (no detections), 71.2ms\n",
      "Speed: 0.2ms preprocess, 71.2ms inference, 0.2ms postprocess per image at shape (1, 3, 640, 640)\n",
      "\n"
     ]
    },
    {
     "name": "stdout",
     "output_type": "stream",
     "text": [
      "Cropping tables from /Users/codym/CAP/ai-starter-kit/yoda/data/sec-edgar-filings/NVDA/10-Q/0001045810-23-000093/full-submission/images/page_48.jpg\n",
      "Cropping tables from /Users/codym/CAP/ai-starter-kit/yoda/data/sec-edgar-filings/NVDA/10-Q/0001045810-23-000093/full-submission/images/page_74.jpg\n",
      "Cropping tables from /Users/codym/CAP/ai-starter-kit/yoda/data/sec-edgar-filings/NVDA/10-Q/0001045810-23-000093/full-submission/images/page_60.jpg\n"
     ]
    },
    {
     "name": "stderr",
     "output_type": "stream",
     "text": [
      "image 1/1 /Users/codym/CAP/ai-starter-kit/yoda/data/sec-edgar-filings/NVDA/10-Q/0001045810-23-000093/full-submission/images/page_60.jpg: 640x512 5 borderlesss, 92.5ms\n",
      "Speed: 0.5ms preprocess, 92.5ms inference, 0.4ms postprocess per image at shape (1, 3, 640, 640)\n",
      "\n",
      "image 1/1 /Users/codym/CAP/ai-starter-kit/yoda/data/sec-edgar-filings/NVDA/10-Q/0001045810-23-000093/full-submission/images/page_89.jpg: 640x512 (no detections), 92.8ms\n",
      "Speed: 0.5ms preprocess, 92.8ms inference, 0.2ms postprocess per image at shape (1, 3, 640, 640)\n",
      "\n"
     ]
    },
    {
     "name": "stdout",
     "output_type": "stream",
     "text": [
      "Cropping tables from /Users/codym/CAP/ai-starter-kit/yoda/data/sec-edgar-filings/NVDA/10-Q/0001045810-23-000093/full-submission/images/page_89.jpg\n",
      "Cropping tables from /Users/codym/CAP/ai-starter-kit/yoda/data/sec-edgar-filings/NVDA/10-Q/0001045810-23-000093/full-submission/images/page_76.jpg\n"
     ]
    },
    {
     "name": "stderr",
     "output_type": "stream",
     "text": [
      "image 1/1 /Users/codym/CAP/ai-starter-kit/yoda/data/sec-edgar-filings/NVDA/10-Q/0001045810-23-000093/full-submission/images/page_76.jpg: 640x512 (no detections), 83.0ms\n",
      "Speed: 0.4ms preprocess, 83.0ms inference, 0.2ms postprocess per image at shape (1, 3, 640, 640)\n",
      "\n",
      "image 1/1 /Users/codym/CAP/ai-starter-kit/yoda/data/sec-edgar-filings/NVDA/10-Q/0001045810-23-000093/full-submission/images/page_62.jpg: 640x512 5 borderlesss, 94.1ms\n",
      "Speed: 0.6ms preprocess, 94.1ms inference, 0.4ms postprocess per image at shape (1, 3, 640, 640)\n",
      "\n"
     ]
    },
    {
     "name": "stdout",
     "output_type": "stream",
     "text": [
      "Cropping tables from /Users/codym/CAP/ai-starter-kit/yoda/data/sec-edgar-filings/NVDA/10-Q/0001045810-23-000093/full-submission/images/page_62.jpg\n",
      "Cropping tables from /Users/codym/CAP/ai-starter-kit/yoda/data/sec-edgar-filings/NVDA/10-Q/0001045810-23-000093/full-submission/images/page_175.jpg\n"
     ]
    },
    {
     "name": "stderr",
     "output_type": "stream",
     "text": [
      "image 1/1 /Users/codym/CAP/ai-starter-kit/yoda/data/sec-edgar-filings/NVDA/10-Q/0001045810-23-000093/full-submission/images/page_175.jpg: 640x512 (no detections), 71.4ms\n",
      "Speed: 0.2ms preprocess, 71.4ms inference, 0.2ms postprocess per image at shape (1, 3, 640, 640)\n",
      "\n",
      "image 1/1 /Users/codym/CAP/ai-starter-kit/yoda/data/sec-edgar-filings/NVDA/10-Q/0001045810-23-000093/full-submission/images/page_161.jpg: 640x512 (no detections), 70.7ms\n",
      "Speed: 0.2ms preprocess, 70.7ms inference, 0.2ms postprocess per image at shape (1, 3, 640, 640)\n",
      "\n",
      "image 1/1 /Users/codym/CAP/ai-starter-kit/yoda/data/sec-edgar-filings/NVDA/10-Q/0001045810-23-000093/full-submission/images/page_149.jpg: 640x512 (no detections), 69.7ms\n",
      "Speed: 0.2ms preprocess, 69.7ms inference, 0.2ms postprocess per image at shape (1, 3, 640, 640)\n",
      "\n"
     ]
    },
    {
     "name": "stdout",
     "output_type": "stream",
     "text": [
      "Cropping tables from /Users/codym/CAP/ai-starter-kit/yoda/data/sec-edgar-filings/NVDA/10-Q/0001045810-23-000093/full-submission/images/page_161.jpg\n",
      "Cropping tables from /Users/codym/CAP/ai-starter-kit/yoda/data/sec-edgar-filings/NVDA/10-Q/0001045810-23-000093/full-submission/images/page_149.jpg\n",
      "Cropping tables from /Users/codym/CAP/ai-starter-kit/yoda/data/sec-edgar-filings/NVDA/10-Q/0001045810-23-000093/full-submission/images/page_148.jpg\n"
     ]
    },
    {
     "name": "stderr",
     "output_type": "stream",
     "text": [
      "image 1/1 /Users/codym/CAP/ai-starter-kit/yoda/data/sec-edgar-filings/NVDA/10-Q/0001045810-23-000093/full-submission/images/page_148.jpg: 640x512 (no detections), 72.4ms\n",
      "Speed: 0.2ms preprocess, 72.4ms inference, 0.2ms postprocess per image at shape (1, 3, 640, 640)\n",
      "\n",
      "image 1/1 /Users/codym/CAP/ai-starter-kit/yoda/data/sec-edgar-filings/NVDA/10-Q/0001045810-23-000093/full-submission/images/page_160.jpg: 640x512 (no detections), 76.5ms\n",
      "Speed: 0.7ms preprocess, 76.5ms inference, 0.2ms postprocess per image at shape (1, 3, 640, 640)\n",
      "\n",
      "image 1/1 /Users/codym/CAP/ai-starter-kit/yoda/data/sec-edgar-filings/NVDA/10-Q/0001045810-23-000093/full-submission/images/page_174.jpg: 640x512 (no detections), 69.2ms\n",
      "Speed: 0.4ms preprocess, 69.2ms inference, 0.2ms postprocess per image at shape (1, 3, 640, 640)\n",
      "\n"
     ]
    },
    {
     "name": "stdout",
     "output_type": "stream",
     "text": [
      "Cropping tables from /Users/codym/CAP/ai-starter-kit/yoda/data/sec-edgar-filings/NVDA/10-Q/0001045810-23-000093/full-submission/images/page_160.jpg\n",
      "Cropping tables from /Users/codym/CAP/ai-starter-kit/yoda/data/sec-edgar-filings/NVDA/10-Q/0001045810-23-000093/full-submission/images/page_174.jpg\n",
      "Cropping tables from /Users/codym/CAP/ai-starter-kit/yoda/data/sec-edgar-filings/NVDA/10-Q/0001045810-23-000093/full-submission/images/page_63.jpg\n"
     ]
    },
    {
     "name": "stderr",
     "output_type": "stream",
     "text": [
      "image 1/1 /Users/codym/CAP/ai-starter-kit/yoda/data/sec-edgar-filings/NVDA/10-Q/0001045810-23-000093/full-submission/images/page_63.jpg: 640x512 1 bordered, 73.3ms\n",
      "Speed: 0.3ms preprocess, 73.3ms inference, 0.4ms postprocess per image at shape (1, 3, 640, 640)\n",
      "\n",
      "image 1/1 /Users/codym/CAP/ai-starter-kit/yoda/data/sec-edgar-filings/NVDA/10-Q/0001045810-23-000093/full-submission/images/page_77.jpg: 640x512 (no detections), 69.2ms\n",
      "Speed: 0.2ms preprocess, 69.2ms inference, 0.2ms postprocess per image at shape (1, 3, 640, 640)\n",
      "\n",
      "image 1/1 /Users/codym/CAP/ai-starter-kit/yoda/data/sec-edgar-filings/NVDA/10-Q/0001045810-23-000093/full-submission/images/page_88.jpg: 640x512 (no detections), 68.1ms\n",
      "Speed: 0.2ms preprocess, 68.1ms inference, 0.2ms postprocess per image at shape (1, 3, 640, 640)\n",
      "\n"
     ]
    },
    {
     "name": "stdout",
     "output_type": "stream",
     "text": [
      "Cropping tables from /Users/codym/CAP/ai-starter-kit/yoda/data/sec-edgar-filings/NVDA/10-Q/0001045810-23-000093/full-submission/images/page_77.jpg\n",
      "Cropping tables from /Users/codym/CAP/ai-starter-kit/yoda/data/sec-edgar-filings/NVDA/10-Q/0001045810-23-000093/full-submission/images/page_88.jpg\n",
      "Cropping tables from /Users/codym/CAP/ai-starter-kit/yoda/data/sec-edgar-filings/NVDA/10-Q/0001045810-23-000227/full-submission/images/page_91.jpg\n"
     ]
    },
    {
     "name": "stderr",
     "output_type": "stream",
     "text": [
      "image 1/1 /Users/codym/CAP/ai-starter-kit/yoda/data/sec-edgar-filings/NVDA/10-Q/0001045810-23-000227/full-submission/images/page_91.jpg: 640x512 (no detections), 71.7ms\n",
      "Speed: 0.2ms preprocess, 71.7ms inference, 0.2ms postprocess per image at shape (1, 3, 640, 640)\n",
      "\n",
      "image 1/1 /Users/codym/CAP/ai-starter-kit/yoda/data/sec-edgar-filings/NVDA/10-Q/0001045810-23-000227/full-submission/images/page_85.jpg: 640x512 (no detections), 71.2ms\n",
      "Speed: 4.2ms preprocess, 71.2ms inference, 0.2ms postprocess per image at shape (1, 3, 640, 640)\n",
      "\n",
      "image 1/1 /Users/codym/CAP/ai-starter-kit/yoda/data/sec-edgar-filings/NVDA/10-Q/0001045810-23-000227/full-submission/images/page_52.jpg: 640x512 (no detections), 71.4ms\n",
      "Speed: 0.2ms preprocess, 71.4ms inference, 0.2ms postprocess per image at shape (1, 3, 640, 640)\n",
      "\n"
     ]
    },
    {
     "name": "stdout",
     "output_type": "stream",
     "text": [
      "Cropping tables from /Users/codym/CAP/ai-starter-kit/yoda/data/sec-edgar-filings/NVDA/10-Q/0001045810-23-000227/full-submission/images/page_85.jpg\n",
      "Cropping tables from /Users/codym/CAP/ai-starter-kit/yoda/data/sec-edgar-filings/NVDA/10-Q/0001045810-23-000227/full-submission/images/page_52.jpg\n",
      "Cropping tables from /Users/codym/CAP/ai-starter-kit/yoda/data/sec-edgar-filings/NVDA/10-Q/0001045810-23-000227/full-submission/images/page_46.jpg\n"
     ]
    },
    {
     "name": "stderr",
     "output_type": "stream",
     "text": [
      "image 1/1 /Users/codym/CAP/ai-starter-kit/yoda/data/sec-edgar-filings/NVDA/10-Q/0001045810-23-000227/full-submission/images/page_46.jpg: 640x512 1 borderless, 72.0ms\n",
      "Speed: 0.3ms preprocess, 72.0ms inference, 0.4ms postprocess per image at shape (1, 3, 640, 640)\n",
      "\n",
      "image 1/1 /Users/codym/CAP/ai-starter-kit/yoda/data/sec-edgar-filings/NVDA/10-Q/0001045810-23-000227/full-submission/images/page_192.jpg: 640x512 (no detections), 67.8ms\n",
      "Speed: 0.7ms preprocess, 67.8ms inference, 0.2ms postprocess per image at shape (1, 3, 640, 640)\n",
      "\n",
      "image 1/1 /Users/codym/CAP/ai-starter-kit/yoda/data/sec-edgar-filings/NVDA/10-Q/0001045810-23-000227/full-submission/images/page_2.jpg: 640x512 1 bordered, 1 borderless, 70.1ms\n",
      "Speed: 0.3ms preprocess, 70.1ms inference, 0.4ms postprocess per image at shape (1, 3, 640, 640)\n",
      "\n"
     ]
    },
    {
     "name": "stdout",
     "output_type": "stream",
     "text": [
      "Cropping tables from /Users/codym/CAP/ai-starter-kit/yoda/data/sec-edgar-filings/NVDA/10-Q/0001045810-23-000227/full-submission/images/page_192.jpg\n",
      "Cropping tables from /Users/codym/CAP/ai-starter-kit/yoda/data/sec-edgar-filings/NVDA/10-Q/0001045810-23-000227/full-submission/images/page_2.jpg\n",
      "Cropping tables from /Users/codym/CAP/ai-starter-kit/yoda/data/sec-edgar-filings/NVDA/10-Q/0001045810-23-000227/full-submission/images/page_186.jpg\n"
     ]
    },
    {
     "name": "stderr",
     "output_type": "stream",
     "text": [
      "image 1/1 /Users/codym/CAP/ai-starter-kit/yoda/data/sec-edgar-filings/NVDA/10-Q/0001045810-23-000227/full-submission/images/page_186.jpg: 640x512 1 borderless, 71.5ms\n",
      "Speed: 0.2ms preprocess, 71.5ms inference, 0.4ms postprocess per image at shape (1, 3, 640, 640)\n",
      "\n",
      "image 1/1 /Users/codym/CAP/ai-starter-kit/yoda/data/sec-edgar-filings/NVDA/10-Q/0001045810-23-000227/full-submission/images/page_179.jpg: 640x512 1 borderless, 135.0ms\n",
      "Speed: 9.7ms preprocess, 135.0ms inference, 0.5ms postprocess per image at shape (1, 3, 640, 640)\n",
      "\n"
     ]
    },
    {
     "name": "stdout",
     "output_type": "stream",
     "text": [
      "Cropping tables from /Users/codym/CAP/ai-starter-kit/yoda/data/sec-edgar-filings/NVDA/10-Q/0001045810-23-000227/full-submission/images/page_179.jpg\n",
      "Cropping tables from /Users/codym/CAP/ai-starter-kit/yoda/data/sec-edgar-filings/NVDA/10-Q/0001045810-23-000227/full-submission/images/page_151.jpg\n"
     ]
    },
    {
     "name": "stderr",
     "output_type": "stream",
     "text": [
      "image 1/1 /Users/codym/CAP/ai-starter-kit/yoda/data/sec-edgar-filings/NVDA/10-Q/0001045810-23-000227/full-submission/images/page_151.jpg: 640x512 (no detections), 79.9ms\n",
      "Speed: 0.5ms preprocess, 79.9ms inference, 0.2ms postprocess per image at shape (1, 3, 640, 640)\n",
      "\n",
      "image 1/1 /Users/codym/CAP/ai-starter-kit/yoda/data/sec-edgar-filings/NVDA/10-Q/0001045810-23-000227/full-submission/images/page_145.jpg: 640x512 1 bordered, 87.3ms\n",
      "Speed: 0.2ms preprocess, 87.3ms inference, 0.4ms postprocess per image at shape (1, 3, 640, 640)\n",
      "\n",
      "image 1/1 /Users/codym/CAP/ai-starter-kit/yoda/data/sec-edgar-filings/NVDA/10-Q/0001045810-23-000227/full-submission/images/page_144.jpg: 640x512 2 bordereds, 1 borderless, 67.3ms\n",
      "Speed: 0.3ms preprocess, 67.3ms inference, 0.4ms postprocess per image at shape (1, 3, 640, 640)\n"
     ]
    },
    {
     "name": "stdout",
     "output_type": "stream",
     "text": [
      "Cropping tables from /Users/codym/CAP/ai-starter-kit/yoda/data/sec-edgar-filings/NVDA/10-Q/0001045810-23-000227/full-submission/images/page_145.jpg\n",
      "Cropping tables from /Users/codym/CAP/ai-starter-kit/yoda/data/sec-edgar-filings/NVDA/10-Q/0001045810-23-000227/full-submission/images/page_144.jpg\n"
     ]
    },
    {
     "name": "stderr",
     "output_type": "stream",
     "text": [
      "\n",
      "image 1/1 /Users/codym/CAP/ai-starter-kit/yoda/data/sec-edgar-filings/NVDA/10-Q/0001045810-23-000227/full-submission/images/page_150.jpg: 640x512 (no detections), 76.8ms\n",
      "Speed: 0.2ms preprocess, 76.8ms inference, 0.2ms postprocess per image at shape (1, 3, 640, 640)\n",
      "\n",
      "image 1/1 /Users/codym/CAP/ai-starter-kit/yoda/data/sec-edgar-filings/NVDA/10-Q/0001045810-23-000227/full-submission/images/page_178.jpg: 640x512 1 borderless, 70.7ms\n",
      "Speed: 5.8ms preprocess, 70.7ms inference, 0.4ms postprocess per image at shape (1, 3, 640, 640)\n",
      "\n"
     ]
    },
    {
     "name": "stdout",
     "output_type": "stream",
     "text": [
      "Cropping tables from /Users/codym/CAP/ai-starter-kit/yoda/data/sec-edgar-filings/NVDA/10-Q/0001045810-23-000227/full-submission/images/page_150.jpg\n",
      "Cropping tables from /Users/codym/CAP/ai-starter-kit/yoda/data/sec-edgar-filings/NVDA/10-Q/0001045810-23-000227/full-submission/images/page_178.jpg\n",
      "Cropping tables from /Users/codym/CAP/ai-starter-kit/yoda/data/sec-edgar-filings/NVDA/10-Q/0001045810-23-000227/full-submission/images/page_187.jpg\n"
     ]
    },
    {
     "name": "stderr",
     "output_type": "stream",
     "text": [
      "image 1/1 /Users/codym/CAP/ai-starter-kit/yoda/data/sec-edgar-filings/NVDA/10-Q/0001045810-23-000227/full-submission/images/page_187.jpg: 640x512 1 borderless, 67.2ms\n",
      "Speed: 0.2ms preprocess, 67.2ms inference, 0.4ms postprocess per image at shape (1, 3, 640, 640)\n",
      "\n",
      "image 1/1 /Users/codym/CAP/ai-starter-kit/yoda/data/sec-edgar-filings/NVDA/10-Q/0001045810-23-000227/full-submission/images/page_193.jpg: 640x512 (no detections), 69.8ms\n",
      "Speed: 0.2ms preprocess, 69.8ms inference, 0.2ms postprocess per image at shape (1, 3, 640, 640)\n",
      "\n",
      "image 1/1 /Users/codym/CAP/ai-starter-kit/yoda/data/sec-edgar-filings/NVDA/10-Q/0001045810-23-000227/full-submission/images/page_3.jpg: 640x512 1 bordered, 71.8ms\n",
      "Speed: 0.2ms preprocess, 71.8ms inference, 0.4ms postprocess per image at shape (1, 3, 640, 640)\n",
      "\n"
     ]
    },
    {
     "name": "stdout",
     "output_type": "stream",
     "text": [
      "Cropping tables from /Users/codym/CAP/ai-starter-kit/yoda/data/sec-edgar-filings/NVDA/10-Q/0001045810-23-000227/full-submission/images/page_193.jpg\n",
      "Cropping tables from /Users/codym/CAP/ai-starter-kit/yoda/data/sec-edgar-filings/NVDA/10-Q/0001045810-23-000227/full-submission/images/page_3.jpg\n",
      "Cropping tables from /Users/codym/CAP/ai-starter-kit/yoda/data/sec-edgar-filings/NVDA/10-Q/0001045810-23-000227/full-submission/images/page_47.jpg\n"
     ]
    },
    {
     "name": "stderr",
     "output_type": "stream",
     "text": [
      "image 1/1 /Users/codym/CAP/ai-starter-kit/yoda/data/sec-edgar-filings/NVDA/10-Q/0001045810-23-000227/full-submission/images/page_47.jpg: 640x512 (no detections), 72.2ms\n",
      "Speed: 0.2ms preprocess, 72.2ms inference, 0.2ms postprocess per image at shape (1, 3, 640, 640)\n",
      "\n",
      "image 1/1 /Users/codym/CAP/ai-starter-kit/yoda/data/sec-edgar-filings/NVDA/10-Q/0001045810-23-000227/full-submission/images/page_53.jpg: 640x512 2 borderlesss, 69.7ms\n",
      "Speed: 0.3ms preprocess, 69.7ms inference, 0.4ms postprocess per image at shape (1, 3, 640, 640)\n",
      "\n",
      "image 1/1 /Users/codym/CAP/ai-starter-kit/yoda/data/sec-edgar-filings/NVDA/10-Q/0001045810-23-000227/full-submission/images/page_84.jpg: 640x512 (no detections), 67.1ms\n",
      "Speed: 0.2ms preprocess, 67.1ms inference, 0.2ms postprocess per image at shape (1, 3, 640, 640)\n",
      "\n"
     ]
    },
    {
     "name": "stdout",
     "output_type": "stream",
     "text": [
      "Cropping tables from /Users/codym/CAP/ai-starter-kit/yoda/data/sec-edgar-filings/NVDA/10-Q/0001045810-23-000227/full-submission/images/page_53.jpg\n",
      "Cropping tables from /Users/codym/CAP/ai-starter-kit/yoda/data/sec-edgar-filings/NVDA/10-Q/0001045810-23-000227/full-submission/images/page_84.jpg\n",
      "Cropping tables from /Users/codym/CAP/ai-starter-kit/yoda/data/sec-edgar-filings/NVDA/10-Q/0001045810-23-000227/full-submission/images/page_90.jpg\n"
     ]
    },
    {
     "name": "stderr",
     "output_type": "stream",
     "text": [
      "image 1/1 /Users/codym/CAP/ai-starter-kit/yoda/data/sec-edgar-filings/NVDA/10-Q/0001045810-23-000227/full-submission/images/page_90.jpg: 640x512 (no detections), 72.9ms\n",
      "Speed: 0.3ms preprocess, 72.9ms inference, 0.2ms postprocess per image at shape (1, 3, 640, 640)\n",
      "\n",
      "image 1/1 /Users/codym/CAP/ai-starter-kit/yoda/data/sec-edgar-filings/NVDA/10-Q/0001045810-23-000227/full-submission/images/page_86.jpg: 640x512 (no detections), 85.4ms\n",
      "Speed: 0.5ms preprocess, 85.4ms inference, 0.2ms postprocess per image at shape (1, 3, 640, 640)\n",
      "\n",
      "image 1/1 /Users/codym/CAP/ai-starter-kit/yoda/data/sec-edgar-filings/NVDA/10-Q/0001045810-23-000227/full-submission/images/page_92.jpg: 640x512 (no detections), 67.1ms\n",
      "Speed: 0.3ms preprocess, 67.1ms inference, 0.2ms postprocess per image at shape (1, 3, 640, 640)\n",
      "\n"
     ]
    },
    {
     "name": "stdout",
     "output_type": "stream",
     "text": [
      "Cropping tables from /Users/codym/CAP/ai-starter-kit/yoda/data/sec-edgar-filings/NVDA/10-Q/0001045810-23-000227/full-submission/images/page_86.jpg\n",
      "Cropping tables from /Users/codym/CAP/ai-starter-kit/yoda/data/sec-edgar-filings/NVDA/10-Q/0001045810-23-000227/full-submission/images/page_92.jpg\n",
      "Cropping tables from /Users/codym/CAP/ai-starter-kit/yoda/data/sec-edgar-filings/NVDA/10-Q/0001045810-23-000227/full-submission/images/page_79.jpg\n"
     ]
    },
    {
     "name": "stderr",
     "output_type": "stream",
     "text": [
      "image 1/1 /Users/codym/CAP/ai-starter-kit/yoda/data/sec-edgar-filings/NVDA/10-Q/0001045810-23-000227/full-submission/images/page_79.jpg: 640x512 (no detections), 73.1ms\n",
      "Speed: 0.2ms preprocess, 73.1ms inference, 0.2ms postprocess per image at shape (1, 3, 640, 640)\n",
      "\n",
      "image 1/1 /Users/codym/CAP/ai-starter-kit/yoda/data/sec-edgar-filings/NVDA/10-Q/0001045810-23-000227/full-submission/images/page_45.jpg: 640x512 (no detections), 150.5ms\n",
      "Speed: 0.2ms preprocess, 150.5ms inference, 0.2ms postprocess per image at shape (1, 3, 640, 640)\n",
      "\n"
     ]
    },
    {
     "name": "stdout",
     "output_type": "stream",
     "text": [
      "Cropping tables from /Users/codym/CAP/ai-starter-kit/yoda/data/sec-edgar-filings/NVDA/10-Q/0001045810-23-000227/full-submission/images/page_45.jpg\n",
      "Cropping tables from /Users/codym/CAP/ai-starter-kit/yoda/data/sec-edgar-filings/NVDA/10-Q/0001045810-23-000227/full-submission/images/page_51.jpg\n"
     ]
    },
    {
     "name": "stderr",
     "output_type": "stream",
     "text": [
      "image 1/1 /Users/codym/CAP/ai-starter-kit/yoda/data/sec-edgar-filings/NVDA/10-Q/0001045810-23-000227/full-submission/images/page_51.jpg: 640x512 (no detections), 76.2ms\n",
      "Speed: 0.2ms preprocess, 76.2ms inference, 0.2ms postprocess per image at shape (1, 3, 640, 640)\n",
      "\n",
      "image 1/1 /Users/codym/CAP/ai-starter-kit/yoda/data/sec-edgar-filings/NVDA/10-Q/0001045810-23-000227/full-submission/images/page_185.jpg: 640x512 1 borderless, 70.4ms\n",
      "Speed: 0.2ms preprocess, 70.4ms inference, 0.4ms postprocess per image at shape (1, 3, 640, 640)\n",
      "\n",
      "image 1/1 /Users/codym/CAP/ai-starter-kit/yoda/data/sec-edgar-filings/NVDA/10-Q/0001045810-23-000227/full-submission/images/page_1.jpg: 640x512 (no detections), 71.3ms\n",
      "Speed: 0.2ms preprocess, 71.3ms inference, 0.2ms postprocess per image at shape (1, 3, 640, 640)\n",
      "\n"
     ]
    },
    {
     "name": "stdout",
     "output_type": "stream",
     "text": [
      "Cropping tables from /Users/codym/CAP/ai-starter-kit/yoda/data/sec-edgar-filings/NVDA/10-Q/0001045810-23-000227/full-submission/images/page_185.jpg\n",
      "Cropping tables from /Users/codym/CAP/ai-starter-kit/yoda/data/sec-edgar-filings/NVDA/10-Q/0001045810-23-000227/full-submission/images/page_1.jpg\n",
      "Cropping tables from /Users/codym/CAP/ai-starter-kit/yoda/data/sec-edgar-filings/NVDA/10-Q/0001045810-23-000227/full-submission/images/page_191.jpg\n"
     ]
    },
    {
     "name": "stderr",
     "output_type": "stream",
     "text": [
      "image 1/1 /Users/codym/CAP/ai-starter-kit/yoda/data/sec-edgar-filings/NVDA/10-Q/0001045810-23-000227/full-submission/images/page_191.jpg: 640x512 (no detections), 72.1ms\n",
      "Speed: 0.2ms preprocess, 72.1ms inference, 0.2ms postprocess per image at shape (1, 3, 640, 640)\n",
      "\n",
      "image 1/1 /Users/codym/CAP/ai-starter-kit/yoda/data/sec-edgar-filings/NVDA/10-Q/0001045810-23-000227/full-submission/images/page_146.jpg: 640x512 1 borderless, 69.2ms\n",
      "Speed: 0.5ms preprocess, 69.2ms inference, 0.4ms postprocess per image at shape (1, 3, 640, 640)\n",
      "\n",
      "image 1/1 /Users/codym/CAP/ai-starter-kit/yoda/data/sec-edgar-filings/NVDA/10-Q/0001045810-23-000227/full-submission/images/page_152.jpg: 640x512 (no detections), 69.7ms\n",
      "Speed: 0.2ms preprocess, 69.7ms inference, 0.2ms postprocess per image at shape (1, 3, 640, 640)\n",
      "\n"
     ]
    },
    {
     "name": "stdout",
     "output_type": "stream",
     "text": [
      "Cropping tables from /Users/codym/CAP/ai-starter-kit/yoda/data/sec-edgar-filings/NVDA/10-Q/0001045810-23-000227/full-submission/images/page_146.jpg\n",
      "Cropping tables from /Users/codym/CAP/ai-starter-kit/yoda/data/sec-edgar-filings/NVDA/10-Q/0001045810-23-000227/full-submission/images/page_152.jpg\n",
      "Cropping tables from /Users/codym/CAP/ai-starter-kit/yoda/data/sec-edgar-filings/NVDA/10-Q/0001045810-23-000227/full-submission/images/page_153.jpg\n"
     ]
    },
    {
     "name": "stderr",
     "output_type": "stream",
     "text": [
      "image 1/1 /Users/codym/CAP/ai-starter-kit/yoda/data/sec-edgar-filings/NVDA/10-Q/0001045810-23-000227/full-submission/images/page_153.jpg: 640x512 1 borderless, 72.5ms\n",
      "Speed: 3.8ms preprocess, 72.5ms inference, 0.4ms postprocess per image at shape (1, 3, 640, 640)\n",
      "\n",
      "image 1/1 /Users/codym/CAP/ai-starter-kit/yoda/data/sec-edgar-filings/NVDA/10-Q/0001045810-23-000227/full-submission/images/page_147.jpg: 640x512 (no detections), 70.4ms\n",
      "Speed: 0.2ms preprocess, 70.4ms inference, 0.2ms postprocess per image at shape (1, 3, 640, 640)\n",
      "\n",
      "image 1/1 /Users/codym/CAP/ai-starter-kit/yoda/data/sec-edgar-filings/NVDA/10-Q/0001045810-23-000227/full-submission/images/page_0.jpg: 640x512 (no detections), 71.4ms\n",
      "Speed: 0.6ms preprocess, 71.4ms inference, 0.2ms postprocess per image at shape (1, 3, 640, 640)\n",
      "\n"
     ]
    },
    {
     "name": "stdout",
     "output_type": "stream",
     "text": [
      "Cropping tables from /Users/codym/CAP/ai-starter-kit/yoda/data/sec-edgar-filings/NVDA/10-Q/0001045810-23-000227/full-submission/images/page_147.jpg\n",
      "Cropping tables from /Users/codym/CAP/ai-starter-kit/yoda/data/sec-edgar-filings/NVDA/10-Q/0001045810-23-000227/full-submission/images/page_0.jpg\n",
      "Cropping tables from /Users/codym/CAP/ai-starter-kit/yoda/data/sec-edgar-filings/NVDA/10-Q/0001045810-23-000227/full-submission/images/page_190.jpg\n"
     ]
    },
    {
     "name": "stderr",
     "output_type": "stream",
     "text": [
      "image 1/1 /Users/codym/CAP/ai-starter-kit/yoda/data/sec-edgar-filings/NVDA/10-Q/0001045810-23-000227/full-submission/images/page_190.jpg: 640x512 (no detections), 72.3ms\n",
      "Speed: 0.2ms preprocess, 72.3ms inference, 0.2ms postprocess per image at shape (1, 3, 640, 640)\n",
      "\n",
      "image 1/1 /Users/codym/CAP/ai-starter-kit/yoda/data/sec-edgar-filings/NVDA/10-Q/0001045810-23-000227/full-submission/images/page_184.jpg: 640x512 (no detections), 69.4ms\n",
      "Speed: 0.3ms preprocess, 69.4ms inference, 0.2ms postprocess per image at shape (1, 3, 640, 640)\n",
      "\n",
      "image 1/1 /Users/codym/CAP/ai-starter-kit/yoda/data/sec-edgar-filings/NVDA/10-Q/0001045810-23-000227/full-submission/images/page_50.jpg: 640x512 (no detections), 67.0ms\n",
      "Speed: 0.2ms preprocess, 67.0ms inference, 0.2ms postprocess per image at shape (1, 3, 640, 640)\n",
      "\n"
     ]
    },
    {
     "name": "stdout",
     "output_type": "stream",
     "text": [
      "Cropping tables from /Users/codym/CAP/ai-starter-kit/yoda/data/sec-edgar-filings/NVDA/10-Q/0001045810-23-000227/full-submission/images/page_184.jpg\n",
      "Cropping tables from /Users/codym/CAP/ai-starter-kit/yoda/data/sec-edgar-filings/NVDA/10-Q/0001045810-23-000227/full-submission/images/page_50.jpg\n",
      "Cropping tables from /Users/codym/CAP/ai-starter-kit/yoda/data/sec-edgar-filings/NVDA/10-Q/0001045810-23-000227/full-submission/images/page_44.jpg\n"
     ]
    },
    {
     "name": "stderr",
     "output_type": "stream",
     "text": [
      "image 1/1 /Users/codym/CAP/ai-starter-kit/yoda/data/sec-edgar-filings/NVDA/10-Q/0001045810-23-000227/full-submission/images/page_44.jpg: 640x512 (no detections), 76.7ms\n",
      "Speed: 7.4ms preprocess, 76.7ms inference, 0.2ms postprocess per image at shape (1, 3, 640, 640)\n",
      "\n",
      "image 1/1 /Users/codym/CAP/ai-starter-kit/yoda/data/sec-edgar-filings/NVDA/10-Q/0001045810-23-000227/full-submission/images/page_78.jpg: 640x512 1 borderless, 107.7ms\n",
      "Speed: 0.2ms preprocess, 107.7ms inference, 0.5ms postprocess per image at shape (1, 3, 640, 640)\n",
      "\n"
     ]
    },
    {
     "name": "stdout",
     "output_type": "stream",
     "text": [
      "Cropping tables from /Users/codym/CAP/ai-starter-kit/yoda/data/sec-edgar-filings/NVDA/10-Q/0001045810-23-000227/full-submission/images/page_78.jpg\n",
      "Cropping tables from /Users/codym/CAP/ai-starter-kit/yoda/data/sec-edgar-filings/NVDA/10-Q/0001045810-23-000227/full-submission/images/page_93.jpg\n"
     ]
    },
    {
     "name": "stderr",
     "output_type": "stream",
     "text": [
      "image 1/1 /Users/codym/CAP/ai-starter-kit/yoda/data/sec-edgar-filings/NVDA/10-Q/0001045810-23-000227/full-submission/images/page_93.jpg: 640x512 (no detections), 68.6ms\n",
      "Speed: 0.2ms preprocess, 68.6ms inference, 0.2ms postprocess per image at shape (1, 3, 640, 640)\n",
      "\n",
      "image 1/1 /Users/codym/CAP/ai-starter-kit/yoda/data/sec-edgar-filings/NVDA/10-Q/0001045810-23-000227/full-submission/images/page_87.jpg: 640x512 (no detections), 70.2ms\n",
      "Speed: 0.2ms preprocess, 70.2ms inference, 0.2ms postprocess per image at shape (1, 3, 640, 640)\n",
      "\n",
      "image 1/1 /Users/codym/CAP/ai-starter-kit/yoda/data/sec-edgar-filings/NVDA/10-Q/0001045810-23-000227/full-submission/images/page_83.jpg: 640x512 (no detections), 67.9ms\n",
      "Speed: 0.2ms preprocess, 67.9ms inference, 0.2ms postprocess per image at shape (1, 3, 640, 640)\n",
      "\n"
     ]
    },
    {
     "name": "stdout",
     "output_type": "stream",
     "text": [
      "Cropping tables from /Users/codym/CAP/ai-starter-kit/yoda/data/sec-edgar-filings/NVDA/10-Q/0001045810-23-000227/full-submission/images/page_87.jpg\n",
      "Cropping tables from /Users/codym/CAP/ai-starter-kit/yoda/data/sec-edgar-filings/NVDA/10-Q/0001045810-23-000227/full-submission/images/page_83.jpg\n",
      "Cropping tables from /Users/codym/CAP/ai-starter-kit/yoda/data/sec-edgar-filings/NVDA/10-Q/0001045810-23-000227/full-submission/images/page_97.jpg\n"
     ]
    },
    {
     "name": "stderr",
     "output_type": "stream",
     "text": [
      "image 1/1 /Users/codym/CAP/ai-starter-kit/yoda/data/sec-edgar-filings/NVDA/10-Q/0001045810-23-000227/full-submission/images/page_97.jpg: 640x512 (no detections), 72.3ms\n",
      "Speed: 0.2ms preprocess, 72.3ms inference, 0.2ms postprocess per image at shape (1, 3, 640, 640)\n",
      "\n",
      "image 1/1 /Users/codym/CAP/ai-starter-kit/yoda/data/sec-edgar-filings/NVDA/10-Q/0001045810-23-000227/full-submission/images/page_40.jpg: 640x512 (no detections), 69.9ms\n",
      "Speed: 0.2ms preprocess, 69.9ms inference, 0.2ms postprocess per image at shape (1, 3, 640, 640)\n",
      "\n",
      "image 1/1 /Users/codym/CAP/ai-starter-kit/yoda/data/sec-edgar-filings/NVDA/10-Q/0001045810-23-000227/full-submission/images/page_54.jpg: 640x512 4 borderlesss, 63.9ms\n",
      "Speed: 0.2ms preprocess, 63.9ms inference, 0.4ms postprocess per image at shape (1, 3, 640, 640)\n",
      "\n"
     ]
    },
    {
     "name": "stdout",
     "output_type": "stream",
     "text": [
      "Cropping tables from /Users/codym/CAP/ai-starter-kit/yoda/data/sec-edgar-filings/NVDA/10-Q/0001045810-23-000227/full-submission/images/page_40.jpg\n",
      "Cropping tables from /Users/codym/CAP/ai-starter-kit/yoda/data/sec-edgar-filings/NVDA/10-Q/0001045810-23-000227/full-submission/images/page_54.jpg\n",
      "Cropping tables from /Users/codym/CAP/ai-starter-kit/yoda/data/sec-edgar-filings/NVDA/10-Q/0001045810-23-000227/full-submission/images/page_68.jpg\n"
     ]
    },
    {
     "name": "stderr",
     "output_type": "stream",
     "text": [
      "image 1/1 /Users/codym/CAP/ai-starter-kit/yoda/data/sec-edgar-filings/NVDA/10-Q/0001045810-23-000227/full-submission/images/page_68.jpg: 640x512 4 borderlesss, 71.7ms\n",
      "Speed: 0.5ms preprocess, 71.7ms inference, 0.4ms postprocess per image at shape (1, 3, 640, 640)\n",
      "\n",
      "image 1/1 /Users/codym/CAP/ai-starter-kit/yoda/data/sec-edgar-filings/NVDA/10-Q/0001045810-23-000227/full-submission/images/page_209.jpg: 640x512 (no detections), 67.2ms\n",
      "Speed: 0.5ms preprocess, 67.2ms inference, 0.2ms postprocess per image at shape (1, 3, 640, 640)\n",
      "\n",
      "image 1/1 /Users/codym/CAP/ai-starter-kit/yoda/data/sec-edgar-filings/NVDA/10-Q/0001045810-23-000227/full-submission/images/page_180.jpg: 640x512 (no detections), 67.9ms\n",
      "Speed: 0.2ms preprocess, 67.9ms inference, 0.2ms postprocess per image at shape (1, 3, 640, 640)\n",
      "\n"
     ]
    },
    {
     "name": "stdout",
     "output_type": "stream",
     "text": [
      "Cropping tables from /Users/codym/CAP/ai-starter-kit/yoda/data/sec-edgar-filings/NVDA/10-Q/0001045810-23-000227/full-submission/images/page_209.jpg\n",
      "Cropping tables from /Users/codym/CAP/ai-starter-kit/yoda/data/sec-edgar-filings/NVDA/10-Q/0001045810-23-000227/full-submission/images/page_180.jpg\n",
      "Cropping tables from /Users/codym/CAP/ai-starter-kit/yoda/data/sec-edgar-filings/NVDA/10-Q/0001045810-23-000227/full-submission/images/page_194.jpg\n"
     ]
    },
    {
     "name": "stderr",
     "output_type": "stream",
     "text": [
      "image 1/1 /Users/codym/CAP/ai-starter-kit/yoda/data/sec-edgar-filings/NVDA/10-Q/0001045810-23-000227/full-submission/images/page_194.jpg: 640x512 (no detections), 71.1ms\n",
      "Speed: 0.4ms preprocess, 71.1ms inference, 0.2ms postprocess per image at shape (1, 3, 640, 640)\n",
      "\n",
      "image 1/1 /Users/codym/CAP/ai-starter-kit/yoda/data/sec-edgar-filings/NVDA/10-Q/0001045810-23-000227/full-submission/images/page_4.jpg: 640x512 1 bordered, 72.7ms\n",
      "Speed: 0.2ms preprocess, 72.7ms inference, 0.4ms postprocess per image at shape (1, 3, 640, 640)\n",
      "\n",
      "image 1/1 /Users/codym/CAP/ai-starter-kit/yoda/data/sec-edgar-filings/NVDA/10-Q/0001045810-23-000227/full-submission/images/page_143.jpg: 640x512 1 bordered, 66.4ms\n",
      "Speed: 0.2ms preprocess, 66.4ms inference, 0.4ms postprocess per image at shape (1, 3, 640, 640)\n",
      "\n"
     ]
    },
    {
     "name": "stdout",
     "output_type": "stream",
     "text": [
      "Cropping tables from /Users/codym/CAP/ai-starter-kit/yoda/data/sec-edgar-filings/NVDA/10-Q/0001045810-23-000227/full-submission/images/page_4.jpg\n",
      "Cropping tables from /Users/codym/CAP/ai-starter-kit/yoda/data/sec-edgar-filings/NVDA/10-Q/0001045810-23-000227/full-submission/images/page_143.jpg\n",
      "Cropping tables from /Users/codym/CAP/ai-starter-kit/yoda/data/sec-edgar-filings/NVDA/10-Q/0001045810-23-000227/full-submission/images/page_157.jpg\n"
     ]
    },
    {
     "name": "stderr",
     "output_type": "stream",
     "text": [
      "image 1/1 /Users/codym/CAP/ai-starter-kit/yoda/data/sec-edgar-filings/NVDA/10-Q/0001045810-23-000227/full-submission/images/page_157.jpg: 640x512 (no detections), 73.4ms\n",
      "Speed: 0.2ms preprocess, 73.4ms inference, 0.2ms postprocess per image at shape (1, 3, 640, 640)\n",
      "\n",
      "image 1/1 /Users/codym/CAP/ai-starter-kit/yoda/data/sec-edgar-filings/NVDA/10-Q/0001045810-23-000227/full-submission/images/page_156.jpg: 640x512 (no detections), 82.6ms\n",
      "Speed: 0.2ms preprocess, 82.6ms inference, 0.2ms postprocess per image at shape (1, 3, 640, 640)\n",
      "\n",
      "image 1/1 /Users/codym/CAP/ai-starter-kit/yoda/data/sec-edgar-filings/NVDA/10-Q/0001045810-23-000227/full-submission/images/page_142.jpg: 640x512 (no detections), 67.1ms\n",
      "Speed: 0.2ms preprocess, 67.1ms inference, 0.2ms postprocess per image at shape (1, 3, 640, 640)\n",
      "\n"
     ]
    },
    {
     "name": "stdout",
     "output_type": "stream",
     "text": [
      "Cropping tables from /Users/codym/CAP/ai-starter-kit/yoda/data/sec-edgar-filings/NVDA/10-Q/0001045810-23-000227/full-submission/images/page_156.jpg\n",
      "Cropping tables from /Users/codym/CAP/ai-starter-kit/yoda/data/sec-edgar-filings/NVDA/10-Q/0001045810-23-000227/full-submission/images/page_142.jpg\n",
      "Cropping tables from /Users/codym/CAP/ai-starter-kit/yoda/data/sec-edgar-filings/NVDA/10-Q/0001045810-23-000227/full-submission/images/page_195.jpg\n"
     ]
    },
    {
     "name": "stderr",
     "output_type": "stream",
     "text": [
      "image 1/1 /Users/codym/CAP/ai-starter-kit/yoda/data/sec-edgar-filings/NVDA/10-Q/0001045810-23-000227/full-submission/images/page_195.jpg: 640x512 (no detections), 82.1ms\n",
      "Speed: 23.9ms preprocess, 82.1ms inference, 0.2ms postprocess per image at shape (1, 3, 640, 640)\n",
      "\n",
      "image 1/1 /Users/codym/CAP/ai-starter-kit/yoda/data/sec-edgar-filings/NVDA/10-Q/0001045810-23-000227/full-submission/images/page_5.jpg: 640x512 1 borderless, 75.5ms\n",
      "Speed: 0.2ms preprocess, 75.5ms inference, 0.4ms postprocess per image at shape (1, 3, 640, 640)\n",
      "\n",
      "image 1/1 /Users/codym/CAP/ai-starter-kit/yoda/data/sec-edgar-filings/NVDA/10-Q/0001045810-23-000227/full-submission/images/page_181.jpg: 640x512 (no detections), 69.3ms\n",
      "Speed: 0.2ms preprocess, 69.3ms inference, 0.2ms postprocess per image at shape (1, 3, 640, 640)\n",
      "\n"
     ]
    },
    {
     "name": "stdout",
     "output_type": "stream",
     "text": [
      "Cropping tables from /Users/codym/CAP/ai-starter-kit/yoda/data/sec-edgar-filings/NVDA/10-Q/0001045810-23-000227/full-submission/images/page_5.jpg\n",
      "Cropping tables from /Users/codym/CAP/ai-starter-kit/yoda/data/sec-edgar-filings/NVDA/10-Q/0001045810-23-000227/full-submission/images/page_181.jpg\n",
      "Cropping tables from /Users/codym/CAP/ai-starter-kit/yoda/data/sec-edgar-filings/NVDA/10-Q/0001045810-23-000227/full-submission/images/page_208.jpg\n"
     ]
    },
    {
     "name": "stderr",
     "output_type": "stream",
     "text": [
      "image 1/1 /Users/codym/CAP/ai-starter-kit/yoda/data/sec-edgar-filings/NVDA/10-Q/0001045810-23-000227/full-submission/images/page_208.jpg: 640x512 (no detections), 74.0ms\n",
      "Speed: 0.2ms preprocess, 74.0ms inference, 0.2ms postprocess per image at shape (1, 3, 640, 640)\n",
      "\n",
      "image 1/1 /Users/codym/CAP/ai-starter-kit/yoda/data/sec-edgar-filings/NVDA/10-Q/0001045810-23-000227/full-submission/images/page_69.jpg: 640x512 1 bordered, 4 borderlesss, 68.9ms\n",
      "Speed: 0.4ms preprocess, 68.9ms inference, 0.4ms postprocess per image at shape (1, 3, 640, 640)\n",
      "\n"
     ]
    },
    {
     "name": "stdout",
     "output_type": "stream",
     "text": [
      "Cropping tables from /Users/codym/CAP/ai-starter-kit/yoda/data/sec-edgar-filings/NVDA/10-Q/0001045810-23-000227/full-submission/images/page_69.jpg\n",
      "Cropping tables from /Users/codym/CAP/ai-starter-kit/yoda/data/sec-edgar-filings/NVDA/10-Q/0001045810-23-000227/full-submission/images/page_55.jpg\n"
     ]
    },
    {
     "name": "stderr",
     "output_type": "stream",
     "text": [
      "image 1/1 /Users/codym/CAP/ai-starter-kit/yoda/data/sec-edgar-filings/NVDA/10-Q/0001045810-23-000227/full-submission/images/page_55.jpg: 640x512 (no detections), 90.3ms\n",
      "Speed: 8.5ms preprocess, 90.3ms inference, 0.2ms postprocess per image at shape (1, 3, 640, 640)\n",
      "\n",
      "image 1/1 /Users/codym/CAP/ai-starter-kit/yoda/data/sec-edgar-filings/NVDA/10-Q/0001045810-23-000227/full-submission/images/page_41.jpg: 640x512 (no detections), 106.9ms\n",
      "Speed: 2.4ms preprocess, 106.9ms inference, 0.2ms postprocess per image at shape (1, 3, 640, 640)\n",
      "\n"
     ]
    },
    {
     "name": "stdout",
     "output_type": "stream",
     "text": [
      "Cropping tables from /Users/codym/CAP/ai-starter-kit/yoda/data/sec-edgar-filings/NVDA/10-Q/0001045810-23-000227/full-submission/images/page_41.jpg\n",
      "Cropping tables from /Users/codym/CAP/ai-starter-kit/yoda/data/sec-edgar-filings/NVDA/10-Q/0001045810-23-000227/full-submission/images/page_96.jpg\n"
     ]
    },
    {
     "name": "stderr",
     "output_type": "stream",
     "text": [
      "image 1/1 /Users/codym/CAP/ai-starter-kit/yoda/data/sec-edgar-filings/NVDA/10-Q/0001045810-23-000227/full-submission/images/page_96.jpg: 640x512 (no detections), 71.9ms\n",
      "Speed: 0.3ms preprocess, 71.9ms inference, 0.2ms postprocess per image at shape (1, 3, 640, 640)\n",
      "\n",
      "image 1/1 /Users/codym/CAP/ai-starter-kit/yoda/data/sec-edgar-filings/NVDA/10-Q/0001045810-23-000227/full-submission/images/page_82.jpg: 640x512 (no detections), 70.3ms\n",
      "Speed: 0.2ms preprocess, 70.3ms inference, 0.2ms postprocess per image at shape (1, 3, 640, 640)\n",
      "\n",
      "image 1/1 /Users/codym/CAP/ai-starter-kit/yoda/data/sec-edgar-filings/NVDA/10-Q/0001045810-23-000227/full-submission/images/page_94.jpg: 640x512 (no detections), 69.5ms\n",
      "Speed: 0.2ms preprocess, 69.5ms inference, 0.2ms postprocess per image at shape (1, 3, 640, 640)\n",
      "\n"
     ]
    },
    {
     "name": "stdout",
     "output_type": "stream",
     "text": [
      "Cropping tables from /Users/codym/CAP/ai-starter-kit/yoda/data/sec-edgar-filings/NVDA/10-Q/0001045810-23-000227/full-submission/images/page_82.jpg\n",
      "Cropping tables from /Users/codym/CAP/ai-starter-kit/yoda/data/sec-edgar-filings/NVDA/10-Q/0001045810-23-000227/full-submission/images/page_94.jpg\n",
      "Cropping tables from /Users/codym/CAP/ai-starter-kit/yoda/data/sec-edgar-filings/NVDA/10-Q/0001045810-23-000227/full-submission/images/page_80.jpg\n"
     ]
    },
    {
     "name": "stderr",
     "output_type": "stream",
     "text": [
      "image 1/1 /Users/codym/CAP/ai-starter-kit/yoda/data/sec-edgar-filings/NVDA/10-Q/0001045810-23-000227/full-submission/images/page_80.jpg: 640x512 4 borderlesss, 72.4ms\n",
      "Speed: 0.2ms preprocess, 72.4ms inference, 0.4ms postprocess per image at shape (1, 3, 640, 640)\n",
      "\n",
      "image 1/1 /Users/codym/CAP/ai-starter-kit/yoda/data/sec-edgar-filings/NVDA/10-Q/0001045810-23-000227/full-submission/images/page_57.jpg: 640x512 1 bordered, 88.3ms\n",
      "Speed: 0.2ms preprocess, 88.3ms inference, 0.4ms postprocess per image at shape (1, 3, 640, 640)\n",
      "\n",
      "image 1/1 /Users/codym/CAP/ai-starter-kit/yoda/data/sec-edgar-filings/NVDA/10-Q/0001045810-23-000227/full-submission/images/page_43.jpg: 640x512 (no detections), 69.4ms\n"
     ]
    },
    {
     "name": "stdout",
     "output_type": "stream",
     "text": [
      "Cropping tables from /Users/codym/CAP/ai-starter-kit/yoda/data/sec-edgar-filings/NVDA/10-Q/0001045810-23-000227/full-submission/images/page_57.jpg\n",
      "Cropping tables from /Users/codym/CAP/ai-starter-kit/yoda/data/sec-edgar-filings/NVDA/10-Q/0001045810-23-000227/full-submission/images/page_43.jpg\n"
     ]
    },
    {
     "name": "stderr",
     "output_type": "stream",
     "text": [
      "Speed: 0.2ms preprocess, 69.4ms inference, 0.2ms postprocess per image at shape (1, 3, 640, 640)\n",
      "\n",
      "image 1/1 /Users/codym/CAP/ai-starter-kit/yoda/data/sec-edgar-filings/NVDA/10-Q/0001045810-23-000227/full-submission/images/page_7.jpg: 640x512 1 bordered, 1 borderless, 74.4ms\n",
      "Speed: 0.4ms preprocess, 74.4ms inference, 0.4ms postprocess per image at shape (1, 3, 640, 640)\n",
      "\n",
      "image 1/1 /Users/codym/CAP/ai-starter-kit/yoda/data/sec-edgar-filings/NVDA/10-Q/0001045810-23-000227/full-submission/images/page_197.jpg: 640x512 (no detections), 66.9ms\n",
      "Speed: 0.2ms preprocess, 66.9ms inference, 0.2ms postprocess per image at shape (1, 3, 640, 640)\n",
      "\n"
     ]
    },
    {
     "name": "stdout",
     "output_type": "stream",
     "text": [
      "Cropping tables from /Users/codym/CAP/ai-starter-kit/yoda/data/sec-edgar-filings/NVDA/10-Q/0001045810-23-000227/full-submission/images/page_7.jpg\n",
      "Cropping tables from /Users/codym/CAP/ai-starter-kit/yoda/data/sec-edgar-filings/NVDA/10-Q/0001045810-23-000227/full-submission/images/page_197.jpg\n",
      "Cropping tables from /Users/codym/CAP/ai-starter-kit/yoda/data/sec-edgar-filings/NVDA/10-Q/0001045810-23-000227/full-submission/images/page_183.jpg\n"
     ]
    },
    {
     "name": "stderr",
     "output_type": "stream",
     "text": [
      "image 1/1 /Users/codym/CAP/ai-starter-kit/yoda/data/sec-edgar-filings/NVDA/10-Q/0001045810-23-000227/full-submission/images/page_183.jpg: 640x512 (no detections), 70.3ms\n",
      "Speed: 0.2ms preprocess, 70.3ms inference, 0.2ms postprocess per image at shape (1, 3, 640, 640)\n",
      "\n",
      "image 1/1 /Users/codym/CAP/ai-starter-kit/yoda/data/sec-edgar-filings/NVDA/10-Q/0001045810-23-000227/full-submission/images/page_154.jpg: 640x512 1 borderless, 66.4ms\n",
      "Speed: 0.2ms preprocess, 66.4ms inference, 0.4ms postprocess per image at shape (1, 3, 640, 640)\n",
      "\n",
      "image 1/1 /Users/codym/CAP/ai-starter-kit/yoda/data/sec-edgar-filings/NVDA/10-Q/0001045810-23-000227/full-submission/images/page_140.jpg: 640x512 (no detections), 71.1ms\n",
      "Speed: 0.2ms preprocess, 71.1ms inference, 0.2ms postprocess per image at shape (1, 3, 640, 640)\n",
      "\n"
     ]
    },
    {
     "name": "stdout",
     "output_type": "stream",
     "text": [
      "Cropping tables from /Users/codym/CAP/ai-starter-kit/yoda/data/sec-edgar-filings/NVDA/10-Q/0001045810-23-000227/full-submission/images/page_154.jpg\n",
      "Cropping tables from /Users/codym/CAP/ai-starter-kit/yoda/data/sec-edgar-filings/NVDA/10-Q/0001045810-23-000227/full-submission/images/page_140.jpg\n",
      "Cropping tables from /Users/codym/CAP/ai-starter-kit/yoda/data/sec-edgar-filings/NVDA/10-Q/0001045810-23-000227/full-submission/images/page_168.jpg\n"
     ]
    },
    {
     "name": "stderr",
     "output_type": "stream",
     "text": [
      "image 1/1 /Users/codym/CAP/ai-starter-kit/yoda/data/sec-edgar-filings/NVDA/10-Q/0001045810-23-000227/full-submission/images/page_168.jpg: 640x512 (no detections), 79.8ms\n",
      "Speed: 0.2ms preprocess, 79.8ms inference, 0.2ms postprocess per image at shape (1, 3, 640, 640)\n",
      "\n",
      "image 1/1 /Users/codym/CAP/ai-starter-kit/yoda/data/sec-edgar-filings/NVDA/10-Q/0001045810-23-000227/full-submission/images/page_169.jpg: 640x512 1 borderless, 65.0ms\n",
      "Speed: 0.2ms preprocess, 65.0ms inference, 0.4ms postprocess per image at shape (1, 3, 640, 640)\n",
      "\n",
      "image 1/1 /Users/codym/CAP/ai-starter-kit/yoda/data/sec-edgar-filings/NVDA/10-Q/0001045810-23-000227/full-submission/images/page_141.jpg: 640x512 (no detections), 65.8ms\n",
      "Speed: 0.2ms preprocess, 65.8ms inference, 0.2ms postprocess per image at shape (1, 3, 640, 640)\n",
      "\n"
     ]
    },
    {
     "name": "stdout",
     "output_type": "stream",
     "text": [
      "Cropping tables from /Users/codym/CAP/ai-starter-kit/yoda/data/sec-edgar-filings/NVDA/10-Q/0001045810-23-000227/full-submission/images/page_169.jpg\n",
      "Cropping tables from /Users/codym/CAP/ai-starter-kit/yoda/data/sec-edgar-filings/NVDA/10-Q/0001045810-23-000227/full-submission/images/page_141.jpg\n",
      "Cropping tables from /Users/codym/CAP/ai-starter-kit/yoda/data/sec-edgar-filings/NVDA/10-Q/0001045810-23-000227/full-submission/images/page_155.jpg\n"
     ]
    },
    {
     "name": "stderr",
     "output_type": "stream",
     "text": [
      "image 1/1 /Users/codym/CAP/ai-starter-kit/yoda/data/sec-edgar-filings/NVDA/10-Q/0001045810-23-000227/full-submission/images/page_155.jpg: 640x512 (no detections), 79.8ms\n",
      "Speed: 0.2ms preprocess, 79.8ms inference, 0.2ms postprocess per image at shape (1, 3, 640, 640)\n",
      "\n",
      "image 1/1 /Users/codym/CAP/ai-starter-kit/yoda/data/sec-edgar-filings/NVDA/10-Q/0001045810-23-000227/full-submission/images/page_182.jpg: 640x512 1 borderless, 67.5ms\n",
      "Speed: 0.7ms preprocess, 67.5ms inference, 0.4ms postprocess per image at shape (1, 3, 640, 640)\n",
      "\n",
      "image 1/1 /Users/codym/CAP/ai-starter-kit/yoda/data/sec-edgar-filings/NVDA/10-Q/0001045810-23-000227/full-submission/images/page_6.jpg: 640x512 1 borderless, 69.3ms\n",
      "Speed: 0.2ms preprocess, 69.3ms inference, 0.4ms postprocess per image at shape (1, 3, 640, 640)\n",
      "\n"
     ]
    },
    {
     "name": "stdout",
     "output_type": "stream",
     "text": [
      "Cropping tables from /Users/codym/CAP/ai-starter-kit/yoda/data/sec-edgar-filings/NVDA/10-Q/0001045810-23-000227/full-submission/images/page_182.jpg\n",
      "Cropping tables from /Users/codym/CAP/ai-starter-kit/yoda/data/sec-edgar-filings/NVDA/10-Q/0001045810-23-000227/full-submission/images/page_6.jpg\n",
      "Cropping tables from /Users/codym/CAP/ai-starter-kit/yoda/data/sec-edgar-filings/NVDA/10-Q/0001045810-23-000227/full-submission/images/page_196.jpg\n"
     ]
    },
    {
     "name": "stderr",
     "output_type": "stream",
     "text": [
      "image 1/1 /Users/codym/CAP/ai-starter-kit/yoda/data/sec-edgar-filings/NVDA/10-Q/0001045810-23-000227/full-submission/images/page_196.jpg: 640x512 (no detections), 74.2ms\n",
      "Speed: 0.3ms preprocess, 74.2ms inference, 0.2ms postprocess per image at shape (1, 3, 640, 640)\n",
      "\n",
      "image 1/1 /Users/codym/CAP/ai-starter-kit/yoda/data/sec-edgar-filings/NVDA/10-Q/0001045810-23-000227/full-submission/images/page_42.jpg: 640x512 (no detections), 72.0ms\n",
      "Speed: 0.2ms preprocess, 72.0ms inference, 0.2ms postprocess per image at shape (1, 3, 640, 640)\n",
      "\n",
      "image 1/1 /Users/codym/CAP/ai-starter-kit/yoda/data/sec-edgar-filings/NVDA/10-Q/0001045810-23-000227/full-submission/images/page_56.jpg: 640x512 (no detections), 65.4ms\n",
      "Speed: 0.2ms preprocess, 65.4ms inference, 0.2ms postprocess per image at shape (1, 3, 640, 640)\n",
      "\n"
     ]
    },
    {
     "name": "stdout",
     "output_type": "stream",
     "text": [
      "Cropping tables from /Users/codym/CAP/ai-starter-kit/yoda/data/sec-edgar-filings/NVDA/10-Q/0001045810-23-000227/full-submission/images/page_42.jpg\n",
      "Cropping tables from /Users/codym/CAP/ai-starter-kit/yoda/data/sec-edgar-filings/NVDA/10-Q/0001045810-23-000227/full-submission/images/page_56.jpg\n",
      "Cropping tables from /Users/codym/CAP/ai-starter-kit/yoda/data/sec-edgar-filings/NVDA/10-Q/0001045810-23-000227/full-submission/images/page_81.jpg\n"
     ]
    },
    {
     "name": "stderr",
     "output_type": "stream",
     "text": [
      "image 1/1 /Users/codym/CAP/ai-starter-kit/yoda/data/sec-edgar-filings/NVDA/10-Q/0001045810-23-000227/full-submission/images/page_81.jpg: 640x512 2 borderlesss, 73.7ms\n",
      "Speed: 0.2ms preprocess, 73.7ms inference, 0.4ms postprocess per image at shape (1, 3, 640, 640)\n",
      "\n",
      "image 1/1 /Users/codym/CAP/ai-starter-kit/yoda/data/sec-edgar-filings/NVDA/10-Q/0001045810-23-000227/full-submission/images/page_95.jpg: 640x512 (no detections), 73.0ms\n",
      "Speed: 0.2ms preprocess, 73.0ms inference, 0.2ms postprocess per image at shape (1, 3, 640, 640)\n",
      "\n",
      "image 1/1 /Users/codym/CAP/ai-starter-kit/yoda/data/sec-edgar-filings/NVDA/10-Q/0001045810-23-000227/full-submission/images/page_19.jpg: 640x512 2 bordereds, 67.8ms\n",
      "Speed: 0.2ms preprocess, 67.8ms inference, 0.4ms postprocess per image at shape (1, 3, 640, 640)\n",
      "\n"
     ]
    },
    {
     "name": "stdout",
     "output_type": "stream",
     "text": [
      "Cropping tables from /Users/codym/CAP/ai-starter-kit/yoda/data/sec-edgar-filings/NVDA/10-Q/0001045810-23-000227/full-submission/images/page_95.jpg\n",
      "Cropping tables from /Users/codym/CAP/ai-starter-kit/yoda/data/sec-edgar-filings/NVDA/10-Q/0001045810-23-000227/full-submission/images/page_19.jpg\n",
      "Cropping tables from /Users/codym/CAP/ai-starter-kit/yoda/data/sec-edgar-filings/NVDA/10-Q/0001045810-23-000227/full-submission/images/page_31.jpg\n"
     ]
    },
    {
     "name": "stderr",
     "output_type": "stream",
     "text": [
      "image 1/1 /Users/codym/CAP/ai-starter-kit/yoda/data/sec-edgar-filings/NVDA/10-Q/0001045810-23-000227/full-submission/images/page_31.jpg: 640x512 1 bordered, 2 borderlesss, 70.6ms\n",
      "Speed: 0.2ms preprocess, 70.6ms inference, 0.4ms postprocess per image at shape (1, 3, 640, 640)\n",
      "\n",
      "image 1/1 /Users/codym/CAP/ai-starter-kit/yoda/data/sec-edgar-filings/NVDA/10-Q/0001045810-23-000227/full-submission/images/page_25.jpg: 640x512 (no detections), 70.2ms\n",
      "Speed: 0.3ms preprocess, 70.2ms inference, 0.2ms postprocess per image at shape (1, 3, 640, 640)\n",
      "\n",
      "image 1/1 /Users/codym/CAP/ai-starter-kit/yoda/data/sec-edgar-filings/NVDA/10-Q/0001045810-23-000227/full-submission/images/page_132.jpg: 640x512 (no detections), 75.3ms\n",
      "Speed: 0.2ms preprocess, 75.3ms inference, 0.2ms postprocess per image at shape (1, 3, 640, 640)\n",
      "\n"
     ]
    },
    {
     "name": "stdout",
     "output_type": "stream",
     "text": [
      "Cropping tables from /Users/codym/CAP/ai-starter-kit/yoda/data/sec-edgar-filings/NVDA/10-Q/0001045810-23-000227/full-submission/images/page_25.jpg\n",
      "Cropping tables from /Users/codym/CAP/ai-starter-kit/yoda/data/sec-edgar-filings/NVDA/10-Q/0001045810-23-000227/full-submission/images/page_132.jpg\n",
      "Cropping tables from /Users/codym/CAP/ai-starter-kit/yoda/data/sec-edgar-filings/NVDA/10-Q/0001045810-23-000227/full-submission/images/page_126.jpg\n"
     ]
    },
    {
     "name": "stderr",
     "output_type": "stream",
     "text": [
      "image 1/1 /Users/codym/CAP/ai-starter-kit/yoda/data/sec-edgar-filings/NVDA/10-Q/0001045810-23-000227/full-submission/images/page_126.jpg: 640x512 (no detections), 70.8ms\n",
      "Speed: 0.4ms preprocess, 70.8ms inference, 0.2ms postprocess per image at shape (1, 3, 640, 640)\n",
      "\n",
      "image 1/1 /Users/codym/CAP/ai-starter-kit/yoda/data/sec-edgar-filings/NVDA/10-Q/0001045810-23-000227/full-submission/images/page_127.jpg: 640x512 (no detections), 69.2ms\n",
      "Speed: 0.2ms preprocess, 69.2ms inference, 0.2ms postprocess per image at shape (1, 3, 640, 640)\n",
      "\n",
      "image 1/1 /Users/codym/CAP/ai-starter-kit/yoda/data/sec-edgar-filings/NVDA/10-Q/0001045810-23-000227/full-submission/images/page_133.jpg: 640x512 (no detections), 69.4ms\n",
      "Speed: 0.2ms preprocess, 69.4ms inference, 0.2ms postprocess per image at shape (1, 3, 640, 640)\n",
      "\n"
     ]
    },
    {
     "name": "stdout",
     "output_type": "stream",
     "text": [
      "Cropping tables from /Users/codym/CAP/ai-starter-kit/yoda/data/sec-edgar-filings/NVDA/10-Q/0001045810-23-000227/full-submission/images/page_127.jpg\n",
      "Cropping tables from /Users/codym/CAP/ai-starter-kit/yoda/data/sec-edgar-filings/NVDA/10-Q/0001045810-23-000227/full-submission/images/page_133.jpg\n",
      "Cropping tables from /Users/codym/CAP/ai-starter-kit/yoda/data/sec-edgar-filings/NVDA/10-Q/0001045810-23-000227/full-submission/images/page_24.jpg\n"
     ]
    },
    {
     "name": "stderr",
     "output_type": "stream",
     "text": [
      "image 1/1 /Users/codym/CAP/ai-starter-kit/yoda/data/sec-edgar-filings/NVDA/10-Q/0001045810-23-000227/full-submission/images/page_24.jpg: 640x512 (no detections), 70.1ms\n",
      "Speed: 0.5ms preprocess, 70.1ms inference, 0.2ms postprocess per image at shape (1, 3, 640, 640)\n",
      "\n",
      "image 1/1 /Users/codym/CAP/ai-starter-kit/yoda/data/sec-edgar-filings/NVDA/10-Q/0001045810-23-000227/full-submission/images/page_30.jpg: 640x512 1 borderless, 71.3ms\n",
      "Speed: 0.2ms preprocess, 71.3ms inference, 0.4ms postprocess per image at shape (1, 3, 640, 640)\n",
      "\n",
      "image 1/1 /Users/codym/CAP/ai-starter-kit/yoda/data/sec-edgar-filings/NVDA/10-Q/0001045810-23-000227/full-submission/images/page_18.jpg: 640x512 1 borderless, 68.8ms\n",
      "Speed: 0.2ms preprocess, 68.8ms inference, 0.3ms postprocess per image at shape (1, 3, 640, 640)\n",
      "\n"
     ]
    },
    {
     "name": "stdout",
     "output_type": "stream",
     "text": [
      "Cropping tables from /Users/codym/CAP/ai-starter-kit/yoda/data/sec-edgar-filings/NVDA/10-Q/0001045810-23-000227/full-submission/images/page_30.jpg\n",
      "Cropping tables from /Users/codym/CAP/ai-starter-kit/yoda/data/sec-edgar-filings/NVDA/10-Q/0001045810-23-000227/full-submission/images/page_18.jpg\n",
      "Cropping tables from /Users/codym/CAP/ai-starter-kit/yoda/data/sec-edgar-filings/NVDA/10-Q/0001045810-23-000227/full-submission/images/page_26.jpg\n"
     ]
    },
    {
     "name": "stderr",
     "output_type": "stream",
     "text": [
      "image 1/1 /Users/codym/CAP/ai-starter-kit/yoda/data/sec-edgar-filings/NVDA/10-Q/0001045810-23-000227/full-submission/images/page_26.jpg: 640x512 1 bordered, 151.5ms\n",
      "Speed: 0.3ms preprocess, 151.5ms inference, 0.4ms postprocess per image at shape (1, 3, 640, 640)\n",
      "\n",
      "image 1/1 /Users/codym/CAP/ai-starter-kit/yoda/data/sec-edgar-filings/NVDA/10-Q/0001045810-23-000227/full-submission/images/page_32.jpg: 640x512 1 bordered, 84.8ms\n",
      "Speed: 0.3ms preprocess, 84.8ms inference, 0.4ms postprocess per image at shape (1, 3, 640, 640)\n",
      "\n",
      "image 1/1 /Users/codym/CAP/ai-starter-kit/yoda/data/sec-edgar-filings/NVDA/10-Q/0001045810-23-000227/full-submission/images/page_119.jpg: 640x512 (no detections), 69.5ms\n",
      "Speed: 0.2ms preprocess, 69.5ms inference, 0.2ms postprocess per image at shape (1, 3, 640, 640)\n",
      "\n"
     ]
    },
    {
     "name": "stdout",
     "output_type": "stream",
     "text": [
      "Cropping tables from /Users/codym/CAP/ai-starter-kit/yoda/data/sec-edgar-filings/NVDA/10-Q/0001045810-23-000227/full-submission/images/page_32.jpg\n",
      "Cropping tables from /Users/codym/CAP/ai-starter-kit/yoda/data/sec-edgar-filings/NVDA/10-Q/0001045810-23-000227/full-submission/images/page_119.jpg\n",
      "Cropping tables from /Users/codym/CAP/ai-starter-kit/yoda/data/sec-edgar-filings/NVDA/10-Q/0001045810-23-000227/full-submission/images/page_125.jpg\n"
     ]
    },
    {
     "name": "stderr",
     "output_type": "stream",
     "text": [
      "image 1/1 /Users/codym/CAP/ai-starter-kit/yoda/data/sec-edgar-filings/NVDA/10-Q/0001045810-23-000227/full-submission/images/page_125.jpg: 640x512 (no detections), 69.1ms\n",
      "Speed: 0.2ms preprocess, 69.1ms inference, 0.2ms postprocess per image at shape (1, 3, 640, 640)\n",
      "\n",
      "image 1/1 /Users/codym/CAP/ai-starter-kit/yoda/data/sec-edgar-filings/NVDA/10-Q/0001045810-23-000227/full-submission/images/page_131.jpg: 640x512 (no detections), 70.7ms\n",
      "Speed: 0.2ms preprocess, 70.7ms inference, 0.2ms postprocess per image at shape (1, 3, 640, 640)\n",
      "\n",
      "image 1/1 /Users/codym/CAP/ai-starter-kit/yoda/data/sec-edgar-filings/NVDA/10-Q/0001045810-23-000227/full-submission/images/page_130.jpg: 640x512 (no detections), 68.9ms\n",
      "Speed: 0.3ms preprocess, 68.9ms inference, 0.2ms postprocess per image at shape (1, 3, 640, 640)\n",
      "\n"
     ]
    },
    {
     "name": "stdout",
     "output_type": "stream",
     "text": [
      "Cropping tables from /Users/codym/CAP/ai-starter-kit/yoda/data/sec-edgar-filings/NVDA/10-Q/0001045810-23-000227/full-submission/images/page_131.jpg\n",
      "Cropping tables from /Users/codym/CAP/ai-starter-kit/yoda/data/sec-edgar-filings/NVDA/10-Q/0001045810-23-000227/full-submission/images/page_130.jpg\n",
      "Cropping tables from /Users/codym/CAP/ai-starter-kit/yoda/data/sec-edgar-filings/NVDA/10-Q/0001045810-23-000227/full-submission/images/page_124.jpg\n"
     ]
    },
    {
     "name": "stderr",
     "output_type": "stream",
     "text": [
      "image 1/1 /Users/codym/CAP/ai-starter-kit/yoda/data/sec-edgar-filings/NVDA/10-Q/0001045810-23-000227/full-submission/images/page_124.jpg: 640x512 (no detections), 78.5ms\n",
      "Speed: 0.3ms preprocess, 78.5ms inference, 0.2ms postprocess per image at shape (1, 3, 640, 640)\n",
      "\n",
      "image 1/1 /Users/codym/CAP/ai-starter-kit/yoda/data/sec-edgar-filings/NVDA/10-Q/0001045810-23-000227/full-submission/images/page_118.jpg: 640x512 (no detections), 70.0ms\n",
      "Speed: 0.2ms preprocess, 70.0ms inference, 0.2ms postprocess per image at shape (1, 3, 640, 640)\n",
      "\n",
      "image 1/1 /Users/codym/CAP/ai-starter-kit/yoda/data/sec-edgar-filings/NVDA/10-Q/0001045810-23-000227/full-submission/images/page_33.jpg: 640x512 1 bordered, 67.4ms\n",
      "Speed: 0.2ms preprocess, 67.4ms inference, 0.4ms postprocess per image at shape (1, 3, 640, 640)\n",
      "\n"
     ]
    },
    {
     "name": "stdout",
     "output_type": "stream",
     "text": [
      "Cropping tables from /Users/codym/CAP/ai-starter-kit/yoda/data/sec-edgar-filings/NVDA/10-Q/0001045810-23-000227/full-submission/images/page_118.jpg\n",
      "Cropping tables from /Users/codym/CAP/ai-starter-kit/yoda/data/sec-edgar-filings/NVDA/10-Q/0001045810-23-000227/full-submission/images/page_33.jpg\n",
      "Cropping tables from /Users/codym/CAP/ai-starter-kit/yoda/data/sec-edgar-filings/NVDA/10-Q/0001045810-23-000227/full-submission/images/page_27.jpg\n"
     ]
    },
    {
     "name": "stderr",
     "output_type": "stream",
     "text": [
      "image 1/1 /Users/codym/CAP/ai-starter-kit/yoda/data/sec-edgar-filings/NVDA/10-Q/0001045810-23-000227/full-submission/images/page_27.jpg: 640x512 (no detections), 70.2ms\n",
      "Speed: 0.2ms preprocess, 70.2ms inference, 0.2ms postprocess per image at shape (1, 3, 640, 640)\n",
      "\n",
      "image 1/1 /Users/codym/CAP/ai-starter-kit/yoda/data/sec-edgar-filings/NVDA/10-Q/0001045810-23-000227/full-submission/images/page_23.jpg: 640x512 1 bordered, 2 borderlesss, 70.7ms\n",
      "Speed: 0.4ms preprocess, 70.7ms inference, 0.4ms postprocess per image at shape (1, 3, 640, 640)\n",
      "\n",
      "image 1/1 /Users/codym/CAP/ai-starter-kit/yoda/data/sec-edgar-filings/NVDA/10-Q/0001045810-23-000227/full-submission/images/page_37.jpg: 640x512 (no detections), 65.2ms\n",
      "Speed: 0.7ms preprocess, 65.2ms inference, 0.2ms postprocess per image at shape (1, 3, 640, 640)\n",
      "\n"
     ]
    },
    {
     "name": "stdout",
     "output_type": "stream",
     "text": [
      "Cropping tables from /Users/codym/CAP/ai-starter-kit/yoda/data/sec-edgar-filings/NVDA/10-Q/0001045810-23-000227/full-submission/images/page_23.jpg\n",
      "Cropping tables from /Users/codym/CAP/ai-starter-kit/yoda/data/sec-edgar-filings/NVDA/10-Q/0001045810-23-000227/full-submission/images/page_37.jpg\n",
      "Cropping tables from /Users/codym/CAP/ai-starter-kit/yoda/data/sec-edgar-filings/NVDA/10-Q/0001045810-23-000227/full-submission/images/page_120.jpg\n"
     ]
    },
    {
     "name": "stderr",
     "output_type": "stream",
     "text": [
      "image 1/1 /Users/codym/CAP/ai-starter-kit/yoda/data/sec-edgar-filings/NVDA/10-Q/0001045810-23-000227/full-submission/images/page_120.jpg: 640x512 (no detections), 71.1ms\n",
      "Speed: 0.2ms preprocess, 71.1ms inference, 0.2ms postprocess per image at shape (1, 3, 640, 640)\n",
      "\n",
      "image 1/1 /Users/codym/CAP/ai-starter-kit/yoda/data/sec-edgar-filings/NVDA/10-Q/0001045810-23-000227/full-submission/images/page_134.jpg: 640x512 (no detections), 67.7ms\n",
      "Speed: 0.2ms preprocess, 67.7ms inference, 0.2ms postprocess per image at shape (1, 3, 640, 640)\n",
      "\n",
      "image 1/1 /Users/codym/CAP/ai-starter-kit/yoda/data/sec-edgar-filings/NVDA/10-Q/0001045810-23-000227/full-submission/images/page_108.jpg: 640x512 (no detections), 68.2ms\n",
      "Speed: 0.2ms preprocess, 68.2ms inference, 0.2ms postprocess per image at shape (1, 3, 640, 640)\n",
      "\n"
     ]
    },
    {
     "name": "stdout",
     "output_type": "stream",
     "text": [
      "Cropping tables from /Users/codym/CAP/ai-starter-kit/yoda/data/sec-edgar-filings/NVDA/10-Q/0001045810-23-000227/full-submission/images/page_134.jpg\n",
      "Cropping tables from /Users/codym/CAP/ai-starter-kit/yoda/data/sec-edgar-filings/NVDA/10-Q/0001045810-23-000227/full-submission/images/page_108.jpg\n",
      "Cropping tables from /Users/codym/CAP/ai-starter-kit/yoda/data/sec-edgar-filings/NVDA/10-Q/0001045810-23-000227/full-submission/images/page_109.jpg\n"
     ]
    },
    {
     "name": "stderr",
     "output_type": "stream",
     "text": [
      "image 1/1 /Users/codym/CAP/ai-starter-kit/yoda/data/sec-edgar-filings/NVDA/10-Q/0001045810-23-000227/full-submission/images/page_109.jpg: 640x512 (no detections), 76.2ms\n",
      "Speed: 0.2ms preprocess, 76.2ms inference, 0.2ms postprocess per image at shape (1, 3, 640, 640)\n",
      "\n",
      "image 1/1 /Users/codym/CAP/ai-starter-kit/yoda/data/sec-edgar-filings/NVDA/10-Q/0001045810-23-000227/full-submission/images/page_135.jpg: 640x512 (no detections), 68.6ms\n",
      "Speed: 0.2ms preprocess, 68.6ms inference, 0.2ms postprocess per image at shape (1, 3, 640, 640)\n",
      "\n",
      "image 1/1 /Users/codym/CAP/ai-starter-kit/yoda/data/sec-edgar-filings/NVDA/10-Q/0001045810-23-000227/full-submission/images/page_121.jpg: 640x512 (no detections), 70.3ms\n",
      "Speed: 0.2ms preprocess, 70.3ms inference, 0.2ms postprocess per image at shape (1, 3, 640, 640)\n",
      "\n"
     ]
    },
    {
     "name": "stdout",
     "output_type": "stream",
     "text": [
      "Cropping tables from /Users/codym/CAP/ai-starter-kit/yoda/data/sec-edgar-filings/NVDA/10-Q/0001045810-23-000227/full-submission/images/page_135.jpg\n",
      "Cropping tables from /Users/codym/CAP/ai-starter-kit/yoda/data/sec-edgar-filings/NVDA/10-Q/0001045810-23-000227/full-submission/images/page_121.jpg\n",
      "Cropping tables from /Users/codym/CAP/ai-starter-kit/yoda/data/sec-edgar-filings/NVDA/10-Q/0001045810-23-000227/full-submission/images/page_36.jpg\n"
     ]
    },
    {
     "name": "stderr",
     "output_type": "stream",
     "text": [
      "image 1/1 /Users/codym/CAP/ai-starter-kit/yoda/data/sec-edgar-filings/NVDA/10-Q/0001045810-23-000227/full-submission/images/page_36.jpg: 640x512 (no detections), 74.3ms\n",
      "Speed: 0.3ms preprocess, 74.3ms inference, 0.2ms postprocess per image at shape (1, 3, 640, 640)\n",
      "\n",
      "image 1/1 /Users/codym/CAP/ai-starter-kit/yoda/data/sec-edgar-filings/NVDA/10-Q/0001045810-23-000227/full-submission/images/page_22.jpg: 640x512 1 bordered, 72.9ms\n",
      "Speed: 0.2ms preprocess, 72.9ms inference, 0.4ms postprocess per image at shape (1, 3, 640, 640)\n",
      "\n"
     ]
    },
    {
     "name": "stdout",
     "output_type": "stream",
     "text": [
      "Cropping tables from /Users/codym/CAP/ai-starter-kit/yoda/data/sec-edgar-filings/NVDA/10-Q/0001045810-23-000227/full-submission/images/page_22.jpg\n",
      "Cropping tables from /Users/codym/CAP/ai-starter-kit/yoda/data/sec-edgar-filings/NVDA/10-Q/0001045810-23-000227/full-submission/images/page_34.jpg\n"
     ]
    },
    {
     "name": "stderr",
     "output_type": "stream",
     "text": [
      "image 1/1 /Users/codym/CAP/ai-starter-kit/yoda/data/sec-edgar-filings/NVDA/10-Q/0001045810-23-000227/full-submission/images/page_34.jpg: 640x512 (no detections), 103.5ms\n",
      "Speed: 0.2ms preprocess, 103.5ms inference, 0.2ms postprocess per image at shape (1, 3, 640, 640)\n",
      "\n",
      "image 1/1 /Users/codym/CAP/ai-starter-kit/yoda/data/sec-edgar-filings/NVDA/10-Q/0001045810-23-000227/full-submission/images/page_20.jpg: 640x512 (no detections), 93.5ms\n",
      "Speed: 5.9ms preprocess, 93.5ms inference, 0.2ms postprocess per image at shape (1, 3, 640, 640)\n",
      "\n"
     ]
    },
    {
     "name": "stdout",
     "output_type": "stream",
     "text": [
      "Cropping tables from /Users/codym/CAP/ai-starter-kit/yoda/data/sec-edgar-filings/NVDA/10-Q/0001045810-23-000227/full-submission/images/page_20.jpg\n",
      "Cropping tables from /Users/codym/CAP/ai-starter-kit/yoda/data/sec-edgar-filings/NVDA/10-Q/0001045810-23-000227/full-submission/images/page_137.jpg\n"
     ]
    },
    {
     "name": "stderr",
     "output_type": "stream",
     "text": [
      "image 1/1 /Users/codym/CAP/ai-starter-kit/yoda/data/sec-edgar-filings/NVDA/10-Q/0001045810-23-000227/full-submission/images/page_137.jpg: 640x512 (no detections), 73.5ms\n",
      "Speed: 0.2ms preprocess, 73.5ms inference, 0.2ms postprocess per image at shape (1, 3, 640, 640)\n",
      "\n",
      "image 1/1 /Users/codym/CAP/ai-starter-kit/yoda/data/sec-edgar-filings/NVDA/10-Q/0001045810-23-000227/full-submission/images/page_123.jpg: 640x512 (no detections), 72.3ms\n",
      "Speed: 0.6ms preprocess, 72.3ms inference, 0.2ms postprocess per image at shape (1, 3, 640, 640)\n",
      "\n",
      "image 1/1 /Users/codym/CAP/ai-starter-kit/yoda/data/sec-edgar-filings/NVDA/10-Q/0001045810-23-000227/full-submission/images/page_122.jpg: 640x512 (no detections), 69.7ms\n",
      "Speed: 0.2ms preprocess, 69.7ms inference, 0.2ms postprocess per image at shape (1, 3, 640, 640)\n",
      "\n"
     ]
    },
    {
     "name": "stdout",
     "output_type": "stream",
     "text": [
      "Cropping tables from /Users/codym/CAP/ai-starter-kit/yoda/data/sec-edgar-filings/NVDA/10-Q/0001045810-23-000227/full-submission/images/page_123.jpg\n",
      "Cropping tables from /Users/codym/CAP/ai-starter-kit/yoda/data/sec-edgar-filings/NVDA/10-Q/0001045810-23-000227/full-submission/images/page_122.jpg\n",
      "Cropping tables from /Users/codym/CAP/ai-starter-kit/yoda/data/sec-edgar-filings/NVDA/10-Q/0001045810-23-000227/full-submission/images/page_136.jpg\n"
     ]
    },
    {
     "name": "stderr",
     "output_type": "stream",
     "text": [
      "image 1/1 /Users/codym/CAP/ai-starter-kit/yoda/data/sec-edgar-filings/NVDA/10-Q/0001045810-23-000227/full-submission/images/page_136.jpg: 640x512 (no detections), 69.8ms\n",
      "Speed: 0.2ms preprocess, 69.8ms inference, 0.2ms postprocess per image at shape (1, 3, 640, 640)\n",
      "\n",
      "image 1/1 /Users/codym/CAP/ai-starter-kit/yoda/data/sec-edgar-filings/NVDA/10-Q/0001045810-23-000227/full-submission/images/page_21.jpg: 640x512 (no detections), 95.1ms\n",
      "Speed: 0.3ms preprocess, 95.1ms inference, 0.2ms postprocess per image at shape (1, 3, 640, 640)\n",
      "\n",
      "image 1/1 /Users/codym/CAP/ai-starter-kit/yoda/data/sec-edgar-filings/NVDA/10-Q/0001045810-23-000227/full-submission/images/page_35.jpg: 640x512 (no detections), 70.7ms\n",
      "Speed: 0.7ms preprocess, 70.7ms inference, 0.2ms postprocess per image at shape (1, 3, 640, 640)\n",
      "\n"
     ]
    },
    {
     "name": "stdout",
     "output_type": "stream",
     "text": [
      "Cropping tables from /Users/codym/CAP/ai-starter-kit/yoda/data/sec-edgar-filings/NVDA/10-Q/0001045810-23-000227/full-submission/images/page_21.jpg\n",
      "Cropping tables from /Users/codym/CAP/ai-starter-kit/yoda/data/sec-edgar-filings/NVDA/10-Q/0001045810-23-000227/full-submission/images/page_35.jpg\n",
      "Cropping tables from /Users/codym/CAP/ai-starter-kit/yoda/data/sec-edgar-filings/NVDA/10-Q/0001045810-23-000227/full-submission/images/page_38.jpg\n"
     ]
    },
    {
     "name": "stderr",
     "output_type": "stream",
     "text": [
      "image 1/1 /Users/codym/CAP/ai-starter-kit/yoda/data/sec-edgar-filings/NVDA/10-Q/0001045810-23-000227/full-submission/images/page_38.jpg: 640x512 (no detections), 73.7ms\n",
      "Speed: 0.3ms preprocess, 73.7ms inference, 0.2ms postprocess per image at shape (1, 3, 640, 640)\n",
      "\n",
      "image 1/1 /Users/codym/CAP/ai-starter-kit/yoda/data/sec-edgar-filings/NVDA/10-Q/0001045810-23-000227/full-submission/images/page_10.jpg: 640x512 3 bordereds, 73.8ms\n",
      "Speed: 0.2ms preprocess, 73.8ms inference, 0.4ms postprocess per image at shape (1, 3, 640, 640)\n",
      "\n",
      "image 1/1 /Users/codym/CAP/ai-starter-kit/yoda/data/sec-edgar-filings/NVDA/10-Q/0001045810-23-000227/full-submission/images/page_113.jpg: 640x512 (no detections), 69.0ms\n",
      "Speed: 0.2ms preprocess, 69.0ms inference, 0.2ms postprocess per image at shape (1, 3, 640, 640)\n",
      "\n"
     ]
    },
    {
     "name": "stdout",
     "output_type": "stream",
     "text": [
      "Cropping tables from /Users/codym/CAP/ai-starter-kit/yoda/data/sec-edgar-filings/NVDA/10-Q/0001045810-23-000227/full-submission/images/page_10.jpg\n",
      "Cropping tables from /Users/codym/CAP/ai-starter-kit/yoda/data/sec-edgar-filings/NVDA/10-Q/0001045810-23-000227/full-submission/images/page_113.jpg\n",
      "Cropping tables from /Users/codym/CAP/ai-starter-kit/yoda/data/sec-edgar-filings/NVDA/10-Q/0001045810-23-000227/full-submission/images/page_107.jpg\n"
     ]
    },
    {
     "name": "stderr",
     "output_type": "stream",
     "text": [
      "image 1/1 /Users/codym/CAP/ai-starter-kit/yoda/data/sec-edgar-filings/NVDA/10-Q/0001045810-23-000227/full-submission/images/page_107.jpg: 640x512 (no detections), 74.2ms\n",
      "Speed: 0.2ms preprocess, 74.2ms inference, 0.2ms postprocess per image at shape (1, 3, 640, 640)\n",
      "\n",
      "image 1/1 /Users/codym/CAP/ai-starter-kit/yoda/data/sec-edgar-filings/NVDA/10-Q/0001045810-23-000227/full-submission/images/page_106.jpg: 640x512 (no detections), 73.4ms\n",
      "Speed: 0.2ms preprocess, 73.4ms inference, 0.2ms postprocess per image at shape (1, 3, 640, 640)\n",
      "\n",
      "image 1/1 /Users/codym/CAP/ai-starter-kit/yoda/data/sec-edgar-filings/NVDA/10-Q/0001045810-23-000227/full-submission/images/page_112.jpg: 640x512 (no detections), 71.8ms\n",
      "Speed: 0.6ms preprocess, 71.8ms inference, 0.2ms postprocess per image at shape (1, 3, 640, 640)\n",
      "\n"
     ]
    },
    {
     "name": "stdout",
     "output_type": "stream",
     "text": [
      "Cropping tables from /Users/codym/CAP/ai-starter-kit/yoda/data/sec-edgar-filings/NVDA/10-Q/0001045810-23-000227/full-submission/images/page_106.jpg\n",
      "Cropping tables from /Users/codym/CAP/ai-starter-kit/yoda/data/sec-edgar-filings/NVDA/10-Q/0001045810-23-000227/full-submission/images/page_112.jpg\n",
      "Cropping tables from /Users/codym/CAP/ai-starter-kit/yoda/data/sec-edgar-filings/NVDA/10-Q/0001045810-23-000227/full-submission/images/page_11.jpg\n"
     ]
    },
    {
     "name": "stderr",
     "output_type": "stream",
     "text": [
      "image 1/1 /Users/codym/CAP/ai-starter-kit/yoda/data/sec-edgar-filings/NVDA/10-Q/0001045810-23-000227/full-submission/images/page_11.jpg: 640x512 1 bordered, 1 borderless, 76.4ms\n",
      "Speed: 0.2ms preprocess, 76.4ms inference, 0.4ms postprocess per image at shape (1, 3, 640, 640)\n",
      "\n",
      "image 1/1 /Users/codym/CAP/ai-starter-kit/yoda/data/sec-edgar-filings/NVDA/10-Q/0001045810-23-000227/full-submission/images/page_39.jpg: 640x512 (no detections), 70.1ms\n",
      "Speed: 0.2ms preprocess, 70.1ms inference, 0.2ms postprocess per image at shape (1, 3, 640, 640)\n",
      "\n",
      "image 1/1 /Users/codym/CAP/ai-starter-kit/yoda/data/sec-edgar-filings/NVDA/10-Q/0001045810-23-000227/full-submission/images/page_13.jpg: 640x512 3 bordereds, 70.5ms\n",
      "Speed: 0.2ms preprocess, 70.5ms inference, 0.4ms postprocess per image at shape (1, 3, 640, 640)\n",
      "\n"
     ]
    },
    {
     "name": "stdout",
     "output_type": "stream",
     "text": [
      "Cropping tables from /Users/codym/CAP/ai-starter-kit/yoda/data/sec-edgar-filings/NVDA/10-Q/0001045810-23-000227/full-submission/images/page_39.jpg\n",
      "Cropping tables from /Users/codym/CAP/ai-starter-kit/yoda/data/sec-edgar-filings/NVDA/10-Q/0001045810-23-000227/full-submission/images/page_13.jpg\n",
      "Cropping tables from /Users/codym/CAP/ai-starter-kit/yoda/data/sec-edgar-filings/NVDA/10-Q/0001045810-23-000227/full-submission/images/page_138.jpg\n"
     ]
    },
    {
     "name": "stderr",
     "output_type": "stream",
     "text": [
      "image 1/1 /Users/codym/CAP/ai-starter-kit/yoda/data/sec-edgar-filings/NVDA/10-Q/0001045810-23-000227/full-submission/images/page_138.jpg: 640x512 (no detections), 72.1ms\n",
      "Speed: 0.2ms preprocess, 72.1ms inference, 0.2ms postprocess per image at shape (1, 3, 640, 640)\n",
      "\n",
      "image 1/1 /Users/codym/CAP/ai-starter-kit/yoda/data/sec-edgar-filings/NVDA/10-Q/0001045810-23-000227/full-submission/images/page_104.jpg: 640x512 (no detections), 69.2ms\n",
      "Speed: 0.2ms preprocess, 69.2ms inference, 0.2ms postprocess per image at shape (1, 3, 640, 640)\n",
      "\n",
      "image 1/1 /Users/codym/CAP/ai-starter-kit/yoda/data/sec-edgar-filings/NVDA/10-Q/0001045810-23-000227/full-submission/images/page_110.jpg: 640x512 (no detections), 68.2ms\n",
      "Speed: 0.2ms preprocess, 68.2ms inference, 0.2ms postprocess per image at shape (1, 3, 640, 640)\n",
      "\n"
     ]
    },
    {
     "name": "stdout",
     "output_type": "stream",
     "text": [
      "Cropping tables from /Users/codym/CAP/ai-starter-kit/yoda/data/sec-edgar-filings/NVDA/10-Q/0001045810-23-000227/full-submission/images/page_104.jpg\n",
      "Cropping tables from /Users/codym/CAP/ai-starter-kit/yoda/data/sec-edgar-filings/NVDA/10-Q/0001045810-23-000227/full-submission/images/page_110.jpg\n",
      "Cropping tables from /Users/codym/CAP/ai-starter-kit/yoda/data/sec-edgar-filings/NVDA/10-Q/0001045810-23-000227/full-submission/images/page_111.jpg\n"
     ]
    },
    {
     "name": "stderr",
     "output_type": "stream",
     "text": [
      "image 1/1 /Users/codym/CAP/ai-starter-kit/yoda/data/sec-edgar-filings/NVDA/10-Q/0001045810-23-000227/full-submission/images/page_111.jpg: 640x512 (no detections), 71.5ms\n",
      "Speed: 0.5ms preprocess, 71.5ms inference, 0.2ms postprocess per image at shape (1, 3, 640, 640)\n",
      "\n",
      "image 1/1 /Users/codym/CAP/ai-starter-kit/yoda/data/sec-edgar-filings/NVDA/10-Q/0001045810-23-000227/full-submission/images/page_105.jpg: 640x512 (no detections), 127.6ms\n",
      "Speed: 16.3ms preprocess, 127.6ms inference, 0.2ms postprocess per image at shape (1, 3, 640, 640)\n",
      "\n"
     ]
    },
    {
     "name": "stdout",
     "output_type": "stream",
     "text": [
      "Cropping tables from /Users/codym/CAP/ai-starter-kit/yoda/data/sec-edgar-filings/NVDA/10-Q/0001045810-23-000227/full-submission/images/page_105.jpg\n",
      "Cropping tables from /Users/codym/CAP/ai-starter-kit/yoda/data/sec-edgar-filings/NVDA/10-Q/0001045810-23-000227/full-submission/images/page_139.jpg\n"
     ]
    },
    {
     "name": "stderr",
     "output_type": "stream",
     "text": [
      "image 1/1 /Users/codym/CAP/ai-starter-kit/yoda/data/sec-edgar-filings/NVDA/10-Q/0001045810-23-000227/full-submission/images/page_139.jpg: 640x512 (no detections), 74.1ms\n",
      "Speed: 0.2ms preprocess, 74.1ms inference, 0.2ms postprocess per image at shape (1, 3, 640, 640)\n",
      "\n",
      "image 1/1 /Users/codym/CAP/ai-starter-kit/yoda/data/sec-edgar-filings/NVDA/10-Q/0001045810-23-000227/full-submission/images/page_12.jpg: 640x512 1 bordered, 1 borderless, 70.3ms\n",
      "Speed: 0.2ms preprocess, 70.3ms inference, 0.4ms postprocess per image at shape (1, 3, 640, 640)\n",
      "\n",
      "image 1/1 /Users/codym/CAP/ai-starter-kit/yoda/data/sec-edgar-filings/NVDA/10-Q/0001045810-23-000227/full-submission/images/page_16.jpg: 640x512 1 bordered, 79.7ms\n",
      "Speed: 0.2ms preprocess, 79.7ms inference, 0.4ms postprocess per image at shape (1, 3, 640, 640)\n",
      "\n"
     ]
    },
    {
     "name": "stdout",
     "output_type": "stream",
     "text": [
      "Cropping tables from /Users/codym/CAP/ai-starter-kit/yoda/data/sec-edgar-filings/NVDA/10-Q/0001045810-23-000227/full-submission/images/page_12.jpg\n",
      "Cropping tables from /Users/codym/CAP/ai-starter-kit/yoda/data/sec-edgar-filings/NVDA/10-Q/0001045810-23-000227/full-submission/images/page_16.jpg\n",
      "Cropping tables from /Users/codym/CAP/ai-starter-kit/yoda/data/sec-edgar-filings/NVDA/10-Q/0001045810-23-000227/full-submission/images/page_101.jpg\n"
     ]
    },
    {
     "name": "stderr",
     "output_type": "stream",
     "text": [
      "image 1/1 /Users/codym/CAP/ai-starter-kit/yoda/data/sec-edgar-filings/NVDA/10-Q/0001045810-23-000227/full-submission/images/page_101.jpg: 640x512 (no detections), 71.4ms\n",
      "Speed: 1.1ms preprocess, 71.4ms inference, 0.2ms postprocess per image at shape (1, 3, 640, 640)\n",
      "\n",
      "image 1/1 /Users/codym/CAP/ai-starter-kit/yoda/data/sec-edgar-filings/NVDA/10-Q/0001045810-23-000227/full-submission/images/page_115.jpg: 640x512 (no detections), 76.9ms\n",
      "Speed: 0.5ms preprocess, 76.9ms inference, 0.2ms postprocess per image at shape (1, 3, 640, 640)\n",
      "\n",
      "image 1/1 /Users/codym/CAP/ai-starter-kit/yoda/data/sec-edgar-filings/NVDA/10-Q/0001045810-23-000227/full-submission/images/page_129.jpg: 640x512 (no detections), 69.0ms\n",
      "Speed: 0.2ms preprocess, 69.0ms inference, 0.2ms postprocess per image at shape (1, 3, 640, 640)\n",
      "\n"
     ]
    },
    {
     "name": "stdout",
     "output_type": "stream",
     "text": [
      "Cropping tables from /Users/codym/CAP/ai-starter-kit/yoda/data/sec-edgar-filings/NVDA/10-Q/0001045810-23-000227/full-submission/images/page_115.jpg\n",
      "Cropping tables from /Users/codym/CAP/ai-starter-kit/yoda/data/sec-edgar-filings/NVDA/10-Q/0001045810-23-000227/full-submission/images/page_129.jpg\n",
      "Cropping tables from /Users/codym/CAP/ai-starter-kit/yoda/data/sec-edgar-filings/NVDA/10-Q/0001045810-23-000227/full-submission/images/page_128.jpg\n"
     ]
    },
    {
     "name": "stderr",
     "output_type": "stream",
     "text": [
      "image 1/1 /Users/codym/CAP/ai-starter-kit/yoda/data/sec-edgar-filings/NVDA/10-Q/0001045810-23-000227/full-submission/images/page_128.jpg: 640x512 (no detections), 74.5ms\n",
      "Speed: 0.2ms preprocess, 74.5ms inference, 0.2ms postprocess per image at shape (1, 3, 640, 640)\n",
      "\n",
      "image 1/1 /Users/codym/CAP/ai-starter-kit/yoda/data/sec-edgar-filings/NVDA/10-Q/0001045810-23-000227/full-submission/images/page_114.jpg: 640x512 (no detections), 72.0ms\n",
      "Speed: 0.2ms preprocess, 72.0ms inference, 0.2ms postprocess per image at shape (1, 3, 640, 640)\n",
      "\n",
      "image 1/1 /Users/codym/CAP/ai-starter-kit/yoda/data/sec-edgar-filings/NVDA/10-Q/0001045810-23-000227/full-submission/images/page_100.jpg: 640x512 (no detections), 78.6ms\n",
      "Speed: 0.3ms preprocess, 78.6ms inference, 0.2ms postprocess per image at shape (1, 3, 640, 640)\n",
      "\n"
     ]
    },
    {
     "name": "stdout",
     "output_type": "stream",
     "text": [
      "Cropping tables from /Users/codym/CAP/ai-starter-kit/yoda/data/sec-edgar-filings/NVDA/10-Q/0001045810-23-000227/full-submission/images/page_114.jpg\n",
      "Cropping tables from /Users/codym/CAP/ai-starter-kit/yoda/data/sec-edgar-filings/NVDA/10-Q/0001045810-23-000227/full-submission/images/page_100.jpg\n",
      "Cropping tables from /Users/codym/CAP/ai-starter-kit/yoda/data/sec-edgar-filings/NVDA/10-Q/0001045810-23-000227/full-submission/images/page_17.jpg\n"
     ]
    },
    {
     "name": "stderr",
     "output_type": "stream",
     "text": [
      "image 1/1 /Users/codym/CAP/ai-starter-kit/yoda/data/sec-edgar-filings/NVDA/10-Q/0001045810-23-000227/full-submission/images/page_17.jpg: 640x512 (no detections), 70.1ms\n",
      "Speed: 0.2ms preprocess, 70.1ms inference, 0.2ms postprocess per image at shape (1, 3, 640, 640)\n",
      "\n",
      "image 1/1 /Users/codym/CAP/ai-starter-kit/yoda/data/sec-edgar-filings/NVDA/10-Q/0001045810-23-000227/full-submission/images/page_15.jpg: 640x512 2 bordereds, 1 borderless, 72.2ms\n",
      "Speed: 0.2ms preprocess, 72.2ms inference, 0.4ms postprocess per image at shape (1, 3, 640, 640)\n",
      "\n",
      "image 1/1 /Users/codym/CAP/ai-starter-kit/yoda/data/sec-edgar-filings/NVDA/10-Q/0001045810-23-000227/full-submission/images/page_29.jpg: 640x512 1 borderless, 77.8ms\n",
      "Speed: 0.2ms preprocess, 77.8ms inference, 0.4ms postprocess per image at shape (1, 3, 640, 640)\n",
      "\n"
     ]
    },
    {
     "name": "stdout",
     "output_type": "stream",
     "text": [
      "Cropping tables from /Users/codym/CAP/ai-starter-kit/yoda/data/sec-edgar-filings/NVDA/10-Q/0001045810-23-000227/full-submission/images/page_15.jpg\n",
      "Cropping tables from /Users/codym/CAP/ai-starter-kit/yoda/data/sec-edgar-filings/NVDA/10-Q/0001045810-23-000227/full-submission/images/page_29.jpg\n",
      "Cropping tables from /Users/codym/CAP/ai-starter-kit/yoda/data/sec-edgar-filings/NVDA/10-Q/0001045810-23-000227/full-submission/images/page_116.jpg\n"
     ]
    },
    {
     "name": "stderr",
     "output_type": "stream",
     "text": [
      "image 1/1 /Users/codym/CAP/ai-starter-kit/yoda/data/sec-edgar-filings/NVDA/10-Q/0001045810-23-000227/full-submission/images/page_116.jpg: 640x512 (no detections), 74.4ms\n",
      "Speed: 0.2ms preprocess, 74.4ms inference, 0.2ms postprocess per image at shape (1, 3, 640, 640)\n",
      "\n",
      "image 1/1 /Users/codym/CAP/ai-starter-kit/yoda/data/sec-edgar-filings/NVDA/10-Q/0001045810-23-000227/full-submission/images/page_102.jpg: 640x512 (no detections), 68.2ms\n",
      "Speed: 0.2ms preprocess, 68.2ms inference, 0.2ms postprocess per image at shape (1, 3, 640, 640)\n",
      "\n",
      "image 1/1 /Users/codym/CAP/ai-starter-kit/yoda/data/sec-edgar-filings/NVDA/10-Q/0001045810-23-000227/full-submission/images/page_103.jpg: 640x512 (no detections), 67.6ms\n",
      "Speed: 0.2ms preprocess, 67.6ms inference, 0.2ms postprocess per image at shape (1, 3, 640, 640)\n",
      "\n"
     ]
    },
    {
     "name": "stdout",
     "output_type": "stream",
     "text": [
      "Cropping tables from /Users/codym/CAP/ai-starter-kit/yoda/data/sec-edgar-filings/NVDA/10-Q/0001045810-23-000227/full-submission/images/page_102.jpg\n",
      "Cropping tables from /Users/codym/CAP/ai-starter-kit/yoda/data/sec-edgar-filings/NVDA/10-Q/0001045810-23-000227/full-submission/images/page_103.jpg\n",
      "Cropping tables from /Users/codym/CAP/ai-starter-kit/yoda/data/sec-edgar-filings/NVDA/10-Q/0001045810-23-000227/full-submission/images/page_117.jpg\n"
     ]
    },
    {
     "name": "stderr",
     "output_type": "stream",
     "text": [
      "image 1/1 /Users/codym/CAP/ai-starter-kit/yoda/data/sec-edgar-filings/NVDA/10-Q/0001045810-23-000227/full-submission/images/page_117.jpg: 640x512 (no detections), 70.9ms\n",
      "Speed: 0.2ms preprocess, 70.9ms inference, 0.2ms postprocess per image at shape (1, 3, 640, 640)\n",
      "\n",
      "image 1/1 /Users/codym/CAP/ai-starter-kit/yoda/data/sec-edgar-filings/NVDA/10-Q/0001045810-23-000227/full-submission/images/page_28.jpg: 640x512 1 bordered, 1 borderless, 70.7ms\n",
      "Speed: 0.2ms preprocess, 70.7ms inference, 0.4ms postprocess per image at shape (1, 3, 640, 640)\n",
      "\n",
      "image 1/1 /Users/codym/CAP/ai-starter-kit/yoda/data/sec-edgar-filings/NVDA/10-Q/0001045810-23-000227/full-submission/images/page_14.jpg: 640x512 1 borderless, 70.3ms\n",
      "Speed: 0.3ms preprocess, 70.3ms inference, 0.4ms postprocess per image at shape (1, 3, 640, 640)\n",
      "\n"
     ]
    },
    {
     "name": "stdout",
     "output_type": "stream",
     "text": [
      "Cropping tables from /Users/codym/CAP/ai-starter-kit/yoda/data/sec-edgar-filings/NVDA/10-Q/0001045810-23-000227/full-submission/images/page_28.jpg\n",
      "Cropping tables from /Users/codym/CAP/ai-starter-kit/yoda/data/sec-edgar-filings/NVDA/10-Q/0001045810-23-000227/full-submission/images/page_14.jpg\n",
      "Cropping tables from /Users/codym/CAP/ai-starter-kit/yoda/data/sec-edgar-filings/NVDA/10-Q/0001045810-23-000227/full-submission/images/page_98.jpg\n"
     ]
    },
    {
     "name": "stderr",
     "output_type": "stream",
     "text": [
      "image 1/1 /Users/codym/CAP/ai-starter-kit/yoda/data/sec-edgar-filings/NVDA/10-Q/0001045810-23-000227/full-submission/images/page_98.jpg: 640x512 (no detections), 74.8ms\n",
      "Speed: 0.2ms preprocess, 74.8ms inference, 0.2ms postprocess per image at shape (1, 3, 640, 640)\n",
      "\n",
      "image 1/1 /Users/codym/CAP/ai-starter-kit/yoda/data/sec-edgar-filings/NVDA/10-Q/0001045810-23-000227/full-submission/images/page_73.jpg: 640x512 1 borderless, 72.4ms\n",
      "Speed: 0.3ms preprocess, 72.4ms inference, 0.4ms postprocess per image at shape (1, 3, 640, 640)\n",
      "\n",
      "image 1/1 /Users/codym/CAP/ai-starter-kit/yoda/data/sec-edgar-filings/NVDA/10-Q/0001045810-23-000227/full-submission/images/page_67.jpg: 640x512 3 bordereds, 67.3ms\n",
      "Speed: 0.4ms preprocess, 67.3ms inference, 0.5ms postprocess per image at shape (1, 3, 640, 640)\n",
      "\n"
     ]
    },
    {
     "name": "stdout",
     "output_type": "stream",
     "text": [
      "Cropping tables from /Users/codym/CAP/ai-starter-kit/yoda/data/sec-edgar-filings/NVDA/10-Q/0001045810-23-000227/full-submission/images/page_73.jpg\n",
      "Cropping tables from /Users/codym/CAP/ai-starter-kit/yoda/data/sec-edgar-filings/NVDA/10-Q/0001045810-23-000227/full-submission/images/page_67.jpg\n",
      "Cropping tables from /Users/codym/CAP/ai-starter-kit/yoda/data/sec-edgar-filings/NVDA/10-Q/0001045810-23-000227/full-submission/images/page_206.jpg\n"
     ]
    },
    {
     "name": "stderr",
     "output_type": "stream",
     "text": [
      "image 1/1 /Users/codym/CAP/ai-starter-kit/yoda/data/sec-edgar-filings/NVDA/10-Q/0001045810-23-000227/full-submission/images/page_206.jpg: 640x512 2 borderlesss, 73.9ms\n",
      "Speed: 0.2ms preprocess, 73.9ms inference, 0.4ms postprocess per image at shape (1, 3, 640, 640)\n",
      "\n",
      "image 1/1 /Users/codym/CAP/ai-starter-kit/yoda/data/sec-edgar-filings/NVDA/10-Q/0001045810-23-000227/full-submission/images/page_212.jpg: 640x512 (no detections), 63.0ms\n",
      "Speed: 0.2ms preprocess, 63.0ms inference, 0.2ms postprocess per image at shape (1, 3, 640, 640)\n",
      "\n",
      "image 1/1 /Users/codym/CAP/ai-starter-kit/yoda/data/sec-edgar-filings/NVDA/10-Q/0001045810-23-000227/full-submission/images/page_158.jpg: 640x512 1 borderless, 68.6ms\n",
      "Speed: 0.2ms preprocess, 68.6ms inference, 0.3ms postprocess per image at shape (1, 3, 640, 640)\n",
      "\n"
     ]
    },
    {
     "name": "stdout",
     "output_type": "stream",
     "text": [
      "Cropping tables from /Users/codym/CAP/ai-starter-kit/yoda/data/sec-edgar-filings/NVDA/10-Q/0001045810-23-000227/full-submission/images/page_212.jpg\n",
      "Cropping tables from /Users/codym/CAP/ai-starter-kit/yoda/data/sec-edgar-filings/NVDA/10-Q/0001045810-23-000227/full-submission/images/page_158.jpg\n",
      "Cropping tables from /Users/codym/CAP/ai-starter-kit/yoda/data/sec-edgar-filings/NVDA/10-Q/0001045810-23-000227/full-submission/images/page_170.jpg\n"
     ]
    },
    {
     "name": "stderr",
     "output_type": "stream",
     "text": [
      "image 1/1 /Users/codym/CAP/ai-starter-kit/yoda/data/sec-edgar-filings/NVDA/10-Q/0001045810-23-000227/full-submission/images/page_170.jpg: 640x512 1 borderless, 83.3ms\n",
      "Speed: 0.3ms preprocess, 83.3ms inference, 0.4ms postprocess per image at shape (1, 3, 640, 640)\n",
      "\n",
      "image 1/1 /Users/codym/CAP/ai-starter-kit/yoda/data/sec-edgar-filings/NVDA/10-Q/0001045810-23-000227/full-submission/images/page_164.jpg: 640x512 1 bordered, 141.0ms\n",
      "Speed: 0.4ms preprocess, 141.0ms inference, 0.4ms postprocess per image at shape (1, 3, 640, 640)\n",
      "\n"
     ]
    },
    {
     "name": "stdout",
     "output_type": "stream",
     "text": [
      "Cropping tables from /Users/codym/CAP/ai-starter-kit/yoda/data/sec-edgar-filings/NVDA/10-Q/0001045810-23-000227/full-submission/images/page_164.jpg\n",
      "Cropping tables from /Users/codym/CAP/ai-starter-kit/yoda/data/sec-edgar-filings/NVDA/10-Q/0001045810-23-000227/full-submission/images/page_165.jpg\n"
     ]
    },
    {
     "name": "stderr",
     "output_type": "stream",
     "text": [
      "image 1/1 /Users/codym/CAP/ai-starter-kit/yoda/data/sec-edgar-filings/NVDA/10-Q/0001045810-23-000227/full-submission/images/page_165.jpg: 640x512 (no detections), 71.8ms\n",
      "Speed: 0.2ms preprocess, 71.8ms inference, 0.2ms postprocess per image at shape (1, 3, 640, 640)\n",
      "\n",
      "image 1/1 /Users/codym/CAP/ai-starter-kit/yoda/data/sec-edgar-filings/NVDA/10-Q/0001045810-23-000227/full-submission/images/page_171.jpg: 640x512 1 borderless, 68.6ms\n",
      "Speed: 0.3ms preprocess, 68.6ms inference, 0.4ms postprocess per image at shape (1, 3, 640, 640)\n",
      "\n"
     ]
    },
    {
     "name": "stdout",
     "output_type": "stream",
     "text": [
      "Cropping tables from /Users/codym/CAP/ai-starter-kit/yoda/data/sec-edgar-filings/NVDA/10-Q/0001045810-23-000227/full-submission/images/page_171.jpg\n",
      "Cropping tables from /Users/codym/CAP/ai-starter-kit/yoda/data/sec-edgar-filings/NVDA/10-Q/0001045810-23-000227/full-submission/images/page_159.jpg\n"
     ]
    },
    {
     "name": "stderr",
     "output_type": "stream",
     "text": [
      "image 1/1 /Users/codym/CAP/ai-starter-kit/yoda/data/sec-edgar-filings/NVDA/10-Q/0001045810-23-000227/full-submission/images/page_159.jpg: 640x512 (no detections), 110.6ms\n",
      "Speed: 0.2ms preprocess, 110.6ms inference, 0.2ms postprocess per image at shape (1, 3, 640, 640)\n",
      "\n",
      "image 1/1 /Users/codym/CAP/ai-starter-kit/yoda/data/sec-edgar-filings/NVDA/10-Q/0001045810-23-000227/full-submission/images/page_213.jpg: 640x512 (no detections), 66.8ms\n",
      "Speed: 0.2ms preprocess, 66.8ms inference, 0.2ms postprocess per image at shape (1, 3, 640, 640)\n",
      "\n",
      "image 1/1 /Users/codym/CAP/ai-starter-kit/yoda/data/sec-edgar-filings/NVDA/10-Q/0001045810-23-000227/full-submission/images/page_207.jpg: 640x512 1 bordered, 65.9ms\n",
      "Speed: 0.2ms preprocess, 65.9ms inference, 0.4ms postprocess per image at shape (1, 3, 640, 640)\n",
      "\n"
     ]
    },
    {
     "name": "stdout",
     "output_type": "stream",
     "text": [
      "Cropping tables from /Users/codym/CAP/ai-starter-kit/yoda/data/sec-edgar-filings/NVDA/10-Q/0001045810-23-000227/full-submission/images/page_213.jpg\n",
      "Cropping tables from /Users/codym/CAP/ai-starter-kit/yoda/data/sec-edgar-filings/NVDA/10-Q/0001045810-23-000227/full-submission/images/page_207.jpg\n",
      "Cropping tables from /Users/codym/CAP/ai-starter-kit/yoda/data/sec-edgar-filings/NVDA/10-Q/0001045810-23-000227/full-submission/images/page_66.jpg\n"
     ]
    },
    {
     "name": "stderr",
     "output_type": "stream",
     "text": [
      "image 1/1 /Users/codym/CAP/ai-starter-kit/yoda/data/sec-edgar-filings/NVDA/10-Q/0001045810-23-000227/full-submission/images/page_66.jpg: 640x512 1 borderless, 123.6ms\n",
      "Speed: 10.1ms preprocess, 123.6ms inference, 0.4ms postprocess per image at shape (1, 3, 640, 640)\n",
      "\n",
      "image 1/1 /Users/codym/CAP/ai-starter-kit/yoda/data/sec-edgar-filings/NVDA/10-Q/0001045810-23-000227/full-submission/images/page_72.jpg: 640x512 1 borderless, 75.4ms\n",
      "Speed: 0.2ms preprocess, 75.4ms inference, 0.4ms postprocess per image at shape (1, 3, 640, 640)\n",
      "\n",
      "image 1/1 /Users/codym/CAP/ai-starter-kit/yoda/data/sec-edgar-filings/NVDA/10-Q/0001045810-23-000227/full-submission/images/page_99.jpg: 640x512 (no detections), 66.8ms\n",
      "Speed: 0.2ms preprocess, 66.8ms inference, 0.2ms postprocess per image at shape (1, 3, 640, 640)\n",
      "\n"
     ]
    },
    {
     "name": "stdout",
     "output_type": "stream",
     "text": [
      "Cropping tables from /Users/codym/CAP/ai-starter-kit/yoda/data/sec-edgar-filings/NVDA/10-Q/0001045810-23-000227/full-submission/images/page_72.jpg\n",
      "Cropping tables from /Users/codym/CAP/ai-starter-kit/yoda/data/sec-edgar-filings/NVDA/10-Q/0001045810-23-000227/full-submission/images/page_99.jpg\n",
      "Cropping tables from /Users/codym/CAP/ai-starter-kit/yoda/data/sec-edgar-filings/NVDA/10-Q/0001045810-23-000227/full-submission/images/page_58.jpg\n"
     ]
    },
    {
     "name": "stderr",
     "output_type": "stream",
     "text": [
      "image 1/1 /Users/codym/CAP/ai-starter-kit/yoda/data/sec-edgar-filings/NVDA/10-Q/0001045810-23-000227/full-submission/images/page_58.jpg: 640x512 2 bordereds, 71.7ms\n",
      "Speed: 0.2ms preprocess, 71.7ms inference, 0.4ms postprocess per image at shape (1, 3, 640, 640)\n",
      "\n",
      "image 1/1 /Users/codym/CAP/ai-starter-kit/yoda/data/sec-edgar-filings/NVDA/10-Q/0001045810-23-000227/full-submission/images/page_64.jpg: 640x512 (no detections), 71.6ms\n",
      "Speed: 0.2ms preprocess, 71.6ms inference, 0.2ms postprocess per image at shape (1, 3, 640, 640)\n",
      "\n",
      "image 1/1 /Users/codym/CAP/ai-starter-kit/yoda/data/sec-edgar-filings/NVDA/10-Q/0001045810-23-000227/full-submission/images/page_70.jpg: 640x512 1 bordered, 82.1ms\n",
      "Speed: 0.2ms preprocess, 82.1ms inference, 0.4ms postprocess per image at shape (1, 3, 640, 640)\n",
      "\n"
     ]
    },
    {
     "name": "stdout",
     "output_type": "stream",
     "text": [
      "Cropping tables from /Users/codym/CAP/ai-starter-kit/yoda/data/sec-edgar-filings/NVDA/10-Q/0001045810-23-000227/full-submission/images/page_64.jpg\n",
      "Cropping tables from /Users/codym/CAP/ai-starter-kit/yoda/data/sec-edgar-filings/NVDA/10-Q/0001045810-23-000227/full-submission/images/page_70.jpg\n",
      "Cropping tables from /Users/codym/CAP/ai-starter-kit/yoda/data/sec-edgar-filings/NVDA/10-Q/0001045810-23-000227/full-submission/images/page_211.jpg\n"
     ]
    },
    {
     "name": "stderr",
     "output_type": "stream",
     "text": [
      "image 1/1 /Users/codym/CAP/ai-starter-kit/yoda/data/sec-edgar-filings/NVDA/10-Q/0001045810-23-000227/full-submission/images/page_211.jpg: 640x512 (no detections), 71.2ms\n",
      "Speed: 0.2ms preprocess, 71.2ms inference, 0.2ms postprocess per image at shape (1, 3, 640, 640)\n",
      "\n",
      "image 1/1 /Users/codym/CAP/ai-starter-kit/yoda/data/sec-edgar-filings/NVDA/10-Q/0001045810-23-000227/full-submission/images/page_205.jpg: 640x512 1 bordered, 70.2ms\n",
      "Speed: 0.2ms preprocess, 70.2ms inference, 0.4ms postprocess per image at shape (1, 3, 640, 640)\n",
      "\n",
      "image 1/1 /Users/codym/CAP/ai-starter-kit/yoda/data/sec-edgar-filings/NVDA/10-Q/0001045810-23-000227/full-submission/images/page_198.jpg: 640x512 (no detections), 68.3ms\n",
      "Speed: 0.2ms preprocess, 68.3ms inference, 0.2ms postprocess per image at shape (1, 3, 640, 640)\n",
      "\n"
     ]
    },
    {
     "name": "stdout",
     "output_type": "stream",
     "text": [
      "Cropping tables from /Users/codym/CAP/ai-starter-kit/yoda/data/sec-edgar-filings/NVDA/10-Q/0001045810-23-000227/full-submission/images/page_205.jpg\n",
      "Cropping tables from /Users/codym/CAP/ai-starter-kit/yoda/data/sec-edgar-filings/NVDA/10-Q/0001045810-23-000227/full-submission/images/page_198.jpg\n",
      "Cropping tables from /Users/codym/CAP/ai-starter-kit/yoda/data/sec-edgar-filings/NVDA/10-Q/0001045810-23-000227/full-submission/images/page_8.jpg\n"
     ]
    },
    {
     "name": "stderr",
     "output_type": "stream",
     "text": [
      "image 1/1 /Users/codym/CAP/ai-starter-kit/yoda/data/sec-edgar-filings/NVDA/10-Q/0001045810-23-000227/full-submission/images/page_8.jpg: 640x512 (no detections), 70.1ms\n",
      "Speed: 0.2ms preprocess, 70.1ms inference, 0.2ms postprocess per image at shape (1, 3, 640, 640)\n",
      "\n",
      "image 1/1 /Users/codym/CAP/ai-starter-kit/yoda/data/sec-edgar-filings/NVDA/10-Q/0001045810-23-000227/full-submission/images/page_167.jpg: 640x512 1 borderless, 68.2ms\n",
      "Speed: 0.2ms preprocess, 68.2ms inference, 0.4ms postprocess per image at shape (1, 3, 640, 640)\n",
      "\n",
      "image 1/1 /Users/codym/CAP/ai-starter-kit/yoda/data/sec-edgar-filings/NVDA/10-Q/0001045810-23-000227/full-submission/images/page_173.jpg: 640x512 (no detections), 67.1ms\n",
      "Speed: 0.2ms preprocess, 67.1ms inference, 0.2ms postprocess per image at shape (1, 3, 640, 640)\n",
      "\n"
     ]
    },
    {
     "name": "stdout",
     "output_type": "stream",
     "text": [
      "Cropping tables from /Users/codym/CAP/ai-starter-kit/yoda/data/sec-edgar-filings/NVDA/10-Q/0001045810-23-000227/full-submission/images/page_167.jpg\n",
      "Cropping tables from /Users/codym/CAP/ai-starter-kit/yoda/data/sec-edgar-filings/NVDA/10-Q/0001045810-23-000227/full-submission/images/page_173.jpg\n",
      "Cropping tables from /Users/codym/CAP/ai-starter-kit/yoda/data/sec-edgar-filings/NVDA/10-Q/0001045810-23-000227/full-submission/images/page_172.jpg\n"
     ]
    },
    {
     "name": "stderr",
     "output_type": "stream",
     "text": [
      "image 1/1 /Users/codym/CAP/ai-starter-kit/yoda/data/sec-edgar-filings/NVDA/10-Q/0001045810-23-000227/full-submission/images/page_172.jpg: 640x512 1 bordered, 1 borderless, 75.7ms\n",
      "Speed: 0.6ms preprocess, 75.7ms inference, 0.4ms postprocess per image at shape (1, 3, 640, 640)\n",
      "\n",
      "image 1/1 /Users/codym/CAP/ai-starter-kit/yoda/data/sec-edgar-filings/NVDA/10-Q/0001045810-23-000227/full-submission/images/page_166.jpg: 640x512 1 borderless, 82.2ms\n",
      "Speed: 0.4ms preprocess, 82.2ms inference, 0.4ms postprocess per image at shape (1, 3, 640, 640)\n",
      "\n",
      "image 1/1 /Users/codym/CAP/ai-starter-kit/yoda/data/sec-edgar-filings/NVDA/10-Q/0001045810-23-000227/full-submission/images/page_199.jpg: 640x512 (no detections), 66.7ms\n",
      "Speed: 0.2ms preprocess, 66.7ms inference, 0.2ms postprocess per image at shape (1, 3, 640, 640)\n",
      "\n"
     ]
    },
    {
     "name": "stdout",
     "output_type": "stream",
     "text": [
      "Cropping tables from /Users/codym/CAP/ai-starter-kit/yoda/data/sec-edgar-filings/NVDA/10-Q/0001045810-23-000227/full-submission/images/page_166.jpg\n",
      "Cropping tables from /Users/codym/CAP/ai-starter-kit/yoda/data/sec-edgar-filings/NVDA/10-Q/0001045810-23-000227/full-submission/images/page_199.jpg\n",
      "Cropping tables from /Users/codym/CAP/ai-starter-kit/yoda/data/sec-edgar-filings/NVDA/10-Q/0001045810-23-000227/full-submission/images/page_9.jpg\n"
     ]
    },
    {
     "name": "stderr",
     "output_type": "stream",
     "text": [
      "image 1/1 /Users/codym/CAP/ai-starter-kit/yoda/data/sec-edgar-filings/NVDA/10-Q/0001045810-23-000227/full-submission/images/page_9.jpg: 640x512 1 bordered, 78.9ms\n",
      "Speed: 0.2ms preprocess, 78.9ms inference, 0.4ms postprocess per image at shape (1, 3, 640, 640)\n",
      "\n",
      "image 1/1 /Users/codym/CAP/ai-starter-kit/yoda/data/sec-edgar-filings/NVDA/10-Q/0001045810-23-000227/full-submission/images/page_204.jpg: 640x512 1 bordered, 66.2ms\n",
      "Speed: 0.2ms preprocess, 66.2ms inference, 0.4ms postprocess per image at shape (1, 3, 640, 640)\n",
      "\n",
      "image 1/1 /Users/codym/CAP/ai-starter-kit/yoda/data/sec-edgar-filings/NVDA/10-Q/0001045810-23-000227/full-submission/images/page_210.jpg: 640x512 (no detections), 65.6ms\n",
      "Speed: 0.4ms preprocess, 65.6ms inference, 0.2ms postprocess per image at shape (1, 3, 640, 640)\n",
      "\n"
     ]
    },
    {
     "name": "stdout",
     "output_type": "stream",
     "text": [
      "Cropping tables from /Users/codym/CAP/ai-starter-kit/yoda/data/sec-edgar-filings/NVDA/10-Q/0001045810-23-000227/full-submission/images/page_204.jpg\n",
      "Cropping tables from /Users/codym/CAP/ai-starter-kit/yoda/data/sec-edgar-filings/NVDA/10-Q/0001045810-23-000227/full-submission/images/page_210.jpg\n",
      "Cropping tables from /Users/codym/CAP/ai-starter-kit/yoda/data/sec-edgar-filings/NVDA/10-Q/0001045810-23-000227/full-submission/images/page_71.jpg\n"
     ]
    },
    {
     "name": "stderr",
     "output_type": "stream",
     "text": [
      "image 1/1 /Users/codym/CAP/ai-starter-kit/yoda/data/sec-edgar-filings/NVDA/10-Q/0001045810-23-000227/full-submission/images/page_71.jpg: 640x512 2 bordereds, 1 borderless, 72.9ms\n",
      "Speed: 0.2ms preprocess, 72.9ms inference, 0.4ms postprocess per image at shape (1, 3, 640, 640)\n",
      "\n",
      "image 1/1 /Users/codym/CAP/ai-starter-kit/yoda/data/sec-edgar-filings/NVDA/10-Q/0001045810-23-000227/full-submission/images/page_65.jpg: 640x512 1 bordered, 2 borderlesss, 70.9ms\n",
      "Speed: 0.4ms preprocess, 70.9ms inference, 0.4ms postprocess per image at shape (1, 3, 640, 640)\n",
      "\n",
      "image 1/1 /Users/codym/CAP/ai-starter-kit/yoda/data/sec-edgar-filings/NVDA/10-Q/0001045810-23-000227/full-submission/images/page_59.jpg: 640x512 5 borderlesss, 82.2ms\n",
      "Speed: 0.2ms preprocess, 82.2ms inference, 0.4ms postprocess per image at shape (1, 3, 640, 640)\n"
     ]
    },
    {
     "name": "stdout",
     "output_type": "stream",
     "text": [
      "Cropping tables from /Users/codym/CAP/ai-starter-kit/yoda/data/sec-edgar-filings/NVDA/10-Q/0001045810-23-000227/full-submission/images/page_65.jpg\n",
      "Cropping tables from /Users/codym/CAP/ai-starter-kit/yoda/data/sec-edgar-filings/NVDA/10-Q/0001045810-23-000227/full-submission/images/page_59.jpg\n"
     ]
    },
    {
     "name": "stderr",
     "output_type": "stream",
     "text": [
      "\n",
      "image 1/1 /Users/codym/CAP/ai-starter-kit/yoda/data/sec-edgar-filings/NVDA/10-Q/0001045810-23-000227/full-submission/images/page_61.jpg: 640x512 1 bordered, 87.4ms\n",
      "Speed: 0.4ms preprocess, 87.4ms inference, 0.4ms postprocess per image at shape (1, 3, 640, 640)\n",
      "\n"
     ]
    },
    {
     "name": "stdout",
     "output_type": "stream",
     "text": [
      "Cropping tables from /Users/codym/CAP/ai-starter-kit/yoda/data/sec-edgar-filings/NVDA/10-Q/0001045810-23-000227/full-submission/images/page_61.jpg\n",
      "Cropping tables from /Users/codym/CAP/ai-starter-kit/yoda/data/sec-edgar-filings/NVDA/10-Q/0001045810-23-000227/full-submission/images/page_75.jpg\n"
     ]
    },
    {
     "name": "stderr",
     "output_type": "stream",
     "text": [
      "image 1/1 /Users/codym/CAP/ai-starter-kit/yoda/data/sec-edgar-filings/NVDA/10-Q/0001045810-23-000227/full-submission/images/page_75.jpg: 640x512 2 borderlesss, 100.7ms\n",
      "Speed: 0.6ms preprocess, 100.7ms inference, 0.6ms postprocess per image at shape (1, 3, 640, 640)\n",
      "\n",
      "image 1/1 /Users/codym/CAP/ai-starter-kit/yoda/data/sec-edgar-filings/NVDA/10-Q/0001045810-23-000227/full-submission/images/page_49.jpg: 640x512 (no detections), 89.4ms\n",
      "Speed: 0.4ms preprocess, 89.4ms inference, 0.2ms postprocess per image at shape (1, 3, 640, 640)\n",
      "\n"
     ]
    },
    {
     "name": "stdout",
     "output_type": "stream",
     "text": [
      "Cropping tables from /Users/codym/CAP/ai-starter-kit/yoda/data/sec-edgar-filings/NVDA/10-Q/0001045810-23-000227/full-submission/images/page_49.jpg\n",
      "Cropping tables from /Users/codym/CAP/ai-starter-kit/yoda/data/sec-edgar-filings/NVDA/10-Q/0001045810-23-000227/full-submission/images/page_214.jpg\n"
     ]
    },
    {
     "name": "stderr",
     "output_type": "stream",
     "text": [
      "image 1/1 /Users/codym/CAP/ai-starter-kit/yoda/data/sec-edgar-filings/NVDA/10-Q/0001045810-23-000227/full-submission/images/page_214.jpg: 640x512 (no detections), 71.5ms\n",
      "Speed: 0.2ms preprocess, 71.5ms inference, 0.2ms postprocess per image at shape (1, 3, 640, 640)\n",
      "\n",
      "image 1/1 /Users/codym/CAP/ai-starter-kit/yoda/data/sec-edgar-filings/NVDA/10-Q/0001045810-23-000227/full-submission/images/page_200.jpg: 640x512 (no detections), 88.1ms\n",
      "Speed: 0.2ms preprocess, 88.1ms inference, 0.2ms postprocess per image at shape (1, 3, 640, 640)\n",
      "\n"
     ]
    },
    {
     "name": "stdout",
     "output_type": "stream",
     "text": [
      "Cropping tables from /Users/codym/CAP/ai-starter-kit/yoda/data/sec-edgar-filings/NVDA/10-Q/0001045810-23-000227/full-submission/images/page_200.jpg\n",
      "Cropping tables from /Users/codym/CAP/ai-starter-kit/yoda/data/sec-edgar-filings/NVDA/10-Q/0001045810-23-000227/full-submission/images/page_189.jpg\n"
     ]
    },
    {
     "name": "stderr",
     "output_type": "stream",
     "text": [
      "image 1/1 /Users/codym/CAP/ai-starter-kit/yoda/data/sec-edgar-filings/NVDA/10-Q/0001045810-23-000227/full-submission/images/page_189.jpg: 640x512 (no detections), 84.9ms\n",
      "Speed: 0.5ms preprocess, 84.9ms inference, 0.4ms postprocess per image at shape (1, 3, 640, 640)\n",
      "\n",
      "image 1/1 /Users/codym/CAP/ai-starter-kit/yoda/data/sec-edgar-filings/NVDA/10-Q/0001045810-23-000227/full-submission/images/page_162.jpg: 640x512 (no detections), 93.5ms\n",
      "Speed: 0.6ms preprocess, 93.5ms inference, 0.2ms postprocess per image at shape (1, 3, 640, 640)\n",
      "\n"
     ]
    },
    {
     "name": "stdout",
     "output_type": "stream",
     "text": [
      "Cropping tables from /Users/codym/CAP/ai-starter-kit/yoda/data/sec-edgar-filings/NVDA/10-Q/0001045810-23-000227/full-submission/images/page_162.jpg\n",
      "Cropping tables from /Users/codym/CAP/ai-starter-kit/yoda/data/sec-edgar-filings/NVDA/10-Q/0001045810-23-000227/full-submission/images/page_176.jpg\n"
     ]
    },
    {
     "name": "stderr",
     "output_type": "stream",
     "text": [
      "image 1/1 /Users/codym/CAP/ai-starter-kit/yoda/data/sec-edgar-filings/NVDA/10-Q/0001045810-23-000227/full-submission/images/page_176.jpg: 640x512 1 borderless, 198.1ms\n",
      "Speed: 0.4ms preprocess, 198.1ms inference, 0.4ms postprocess per image at shape (1, 3, 640, 640)\n",
      "\n",
      "image 1/1 /Users/codym/CAP/ai-starter-kit/yoda/data/sec-edgar-filings/NVDA/10-Q/0001045810-23-000227/full-submission/images/page_177.jpg: 640x512 1 borderless, 74.8ms\n",
      "Speed: 0.4ms preprocess, 74.8ms inference, 0.4ms postprocess per image at shape (1, 3, 640, 640)\n",
      "\n"
     ]
    },
    {
     "name": "stdout",
     "output_type": "stream",
     "text": [
      "Cropping tables from /Users/codym/CAP/ai-starter-kit/yoda/data/sec-edgar-filings/NVDA/10-Q/0001045810-23-000227/full-submission/images/page_177.jpg\n",
      "Cropping tables from /Users/codym/CAP/ai-starter-kit/yoda/data/sec-edgar-filings/NVDA/10-Q/0001045810-23-000227/full-submission/images/page_163.jpg\n"
     ]
    },
    {
     "name": "stderr",
     "output_type": "stream",
     "text": [
      "image 1/1 /Users/codym/CAP/ai-starter-kit/yoda/data/sec-edgar-filings/NVDA/10-Q/0001045810-23-000227/full-submission/images/page_163.jpg: 640x512 (no detections), 81.3ms\n",
      "Speed: 0.4ms preprocess, 81.3ms inference, 0.2ms postprocess per image at shape (1, 3, 640, 640)\n",
      "\n",
      "image 1/1 /Users/codym/CAP/ai-starter-kit/yoda/data/sec-edgar-filings/NVDA/10-Q/0001045810-23-000227/full-submission/images/page_188.jpg: 640x512 (no detections), 122.6ms\n",
      "Speed: 0.2ms preprocess, 122.6ms inference, 0.2ms postprocess per image at shape (1, 3, 640, 640)\n",
      "\n"
     ]
    },
    {
     "name": "stdout",
     "output_type": "stream",
     "text": [
      "Cropping tables from /Users/codym/CAP/ai-starter-kit/yoda/data/sec-edgar-filings/NVDA/10-Q/0001045810-23-000227/full-submission/images/page_188.jpg\n",
      "Cropping tables from /Users/codym/CAP/ai-starter-kit/yoda/data/sec-edgar-filings/NVDA/10-Q/0001045810-23-000227/full-submission/images/page_201.jpg\n"
     ]
    },
    {
     "name": "stderr",
     "output_type": "stream",
     "text": [
      "image 1/1 /Users/codym/CAP/ai-starter-kit/yoda/data/sec-edgar-filings/NVDA/10-Q/0001045810-23-000227/full-submission/images/page_201.jpg: 640x512 1 borderless, 81.8ms\n",
      "Speed: 0.2ms preprocess, 81.8ms inference, 0.4ms postprocess per image at shape (1, 3, 640, 640)\n",
      "\n",
      "image 1/1 /Users/codym/CAP/ai-starter-kit/yoda/data/sec-edgar-filings/NVDA/10-Q/0001045810-23-000227/full-submission/images/page_215.jpg: 640x512 (no detections), 72.3ms\n",
      "Speed: 14.8ms preprocess, 72.3ms inference, 0.2ms postprocess per image at shape (1, 3, 640, 640)\n",
      "\n"
     ]
    },
    {
     "name": "stdout",
     "output_type": "stream",
     "text": [
      "Cropping tables from /Users/codym/CAP/ai-starter-kit/yoda/data/sec-edgar-filings/NVDA/10-Q/0001045810-23-000227/full-submission/images/page_215.jpg\n",
      "Cropping tables from /Users/codym/CAP/ai-starter-kit/yoda/data/sec-edgar-filings/NVDA/10-Q/0001045810-23-000227/full-submission/images/page_48.jpg\n"
     ]
    },
    {
     "name": "stderr",
     "output_type": "stream",
     "text": [
      "image 1/1 /Users/codym/CAP/ai-starter-kit/yoda/data/sec-edgar-filings/NVDA/10-Q/0001045810-23-000227/full-submission/images/page_48.jpg: 640x512 (no detections), 72.6ms\n",
      "Speed: 5.4ms preprocess, 72.6ms inference, 0.2ms postprocess per image at shape (1, 3, 640, 640)\n",
      "\n",
      "image 1/1 /Users/codym/CAP/ai-starter-kit/yoda/data/sec-edgar-filings/NVDA/10-Q/0001045810-23-000227/full-submission/images/page_74.jpg: 640x512 2 borderlesss, 66.6ms\n",
      "Speed: 0.3ms preprocess, 66.6ms inference, 0.4ms postprocess per image at shape (1, 3, 640, 640)\n",
      "\n",
      "image 1/1 /Users/codym/CAP/ai-starter-kit/yoda/data/sec-edgar-filings/NVDA/10-Q/0001045810-23-000227/full-submission/images/page_60.jpg: 640x512 3 bordereds, 2 borderlesss, 103.0ms\n",
      "Speed: 0.2ms preprocess, 103.0ms inference, 0.6ms postprocess per image at shape (1, 3, 640, 640)\n"
     ]
    },
    {
     "name": "stdout",
     "output_type": "stream",
     "text": [
      "Cropping tables from /Users/codym/CAP/ai-starter-kit/yoda/data/sec-edgar-filings/NVDA/10-Q/0001045810-23-000227/full-submission/images/page_74.jpg\n",
      "Cropping tables from /Users/codym/CAP/ai-starter-kit/yoda/data/sec-edgar-filings/NVDA/10-Q/0001045810-23-000227/full-submission/images/page_60.jpg\n"
     ]
    },
    {
     "name": "stderr",
     "output_type": "stream",
     "text": [
      "\n",
      "image 1/1 /Users/codym/CAP/ai-starter-kit/yoda/data/sec-edgar-filings/NVDA/10-Q/0001045810-23-000227/full-submission/images/page_89.jpg: 640x512 (no detections), 116.6ms\n",
      "Speed: 0.4ms preprocess, 116.6ms inference, 0.2ms postprocess per image at shape (1, 3, 640, 640)\n",
      "\n"
     ]
    },
    {
     "name": "stdout",
     "output_type": "stream",
     "text": [
      "Cropping tables from /Users/codym/CAP/ai-starter-kit/yoda/data/sec-edgar-filings/NVDA/10-Q/0001045810-23-000227/full-submission/images/page_89.jpg\n",
      "Cropping tables from /Users/codym/CAP/ai-starter-kit/yoda/data/sec-edgar-filings/NVDA/10-Q/0001045810-23-000227/full-submission/images/page_76.jpg\n"
     ]
    },
    {
     "name": "stderr",
     "output_type": "stream",
     "text": [
      "image 1/1 /Users/codym/CAP/ai-starter-kit/yoda/data/sec-edgar-filings/NVDA/10-Q/0001045810-23-000227/full-submission/images/page_76.jpg: 640x512 1 borderless, 77.1ms\n",
      "Speed: 1.7ms preprocess, 77.1ms inference, 0.4ms postprocess per image at shape (1, 3, 640, 640)\n",
      "\n",
      "image 1/1 /Users/codym/CAP/ai-starter-kit/yoda/data/sec-edgar-filings/NVDA/10-Q/0001045810-23-000227/full-submission/images/page_62.jpg: 640x512 1 borderless, 172.3ms\n",
      "Speed: 0.3ms preprocess, 172.3ms inference, 0.4ms postprocess per image at shape (1, 3, 640, 640)\n",
      "\n"
     ]
    },
    {
     "name": "stdout",
     "output_type": "stream",
     "text": [
      "Cropping tables from /Users/codym/CAP/ai-starter-kit/yoda/data/sec-edgar-filings/NVDA/10-Q/0001045810-23-000227/full-submission/images/page_62.jpg\n",
      "Cropping tables from /Users/codym/CAP/ai-starter-kit/yoda/data/sec-edgar-filings/NVDA/10-Q/0001045810-23-000227/full-submission/images/page_203.jpg\n"
     ]
    },
    {
     "name": "stderr",
     "output_type": "stream",
     "text": [
      "image 1/1 /Users/codym/CAP/ai-starter-kit/yoda/data/sec-edgar-filings/NVDA/10-Q/0001045810-23-000227/full-submission/images/page_203.jpg: 640x512 (no detections), 79.1ms\n",
      "Speed: 0.2ms preprocess, 79.1ms inference, 0.2ms postprocess per image at shape (1, 3, 640, 640)\n",
      "\n",
      "image 1/1 /Users/codym/CAP/ai-starter-kit/yoda/data/sec-edgar-filings/NVDA/10-Q/0001045810-23-000227/full-submission/images/page_217.jpg: 640x512 (no detections), 83.3ms\n",
      "Speed: 0.2ms preprocess, 83.3ms inference, 0.2ms postprocess per image at shape (1, 3, 640, 640)\n",
      "\n"
     ]
    },
    {
     "name": "stdout",
     "output_type": "stream",
     "text": [
      "Cropping tables from /Users/codym/CAP/ai-starter-kit/yoda/data/sec-edgar-filings/NVDA/10-Q/0001045810-23-000227/full-submission/images/page_217.jpg\n",
      "Cropping tables from /Users/codym/CAP/ai-starter-kit/yoda/data/sec-edgar-filings/NVDA/10-Q/0001045810-23-000227/full-submission/images/page_175.jpg\n"
     ]
    },
    {
     "name": "stderr",
     "output_type": "stream",
     "text": [
      "image 1/1 /Users/codym/CAP/ai-starter-kit/yoda/data/sec-edgar-filings/NVDA/10-Q/0001045810-23-000227/full-submission/images/page_175.jpg: 640x512 (no detections), 76.7ms\n",
      "Speed: 0.3ms preprocess, 76.7ms inference, 0.5ms postprocess per image at shape (1, 3, 640, 640)\n",
      "\n",
      "image 1/1 /Users/codym/CAP/ai-starter-kit/yoda/data/sec-edgar-filings/NVDA/10-Q/0001045810-23-000227/full-submission/images/page_161.jpg: 640x512 (no detections), 96.4ms\n",
      "Speed: 0.3ms preprocess, 96.4ms inference, 0.2ms postprocess per image at shape (1, 3, 640, 640)\n",
      "\n"
     ]
    },
    {
     "name": "stdout",
     "output_type": "stream",
     "text": [
      "Cropping tables from /Users/codym/CAP/ai-starter-kit/yoda/data/sec-edgar-filings/NVDA/10-Q/0001045810-23-000227/full-submission/images/page_161.jpg\n",
      "Cropping tables from /Users/codym/CAP/ai-starter-kit/yoda/data/sec-edgar-filings/NVDA/10-Q/0001045810-23-000227/full-submission/images/page_149.jpg\n"
     ]
    },
    {
     "name": "stderr",
     "output_type": "stream",
     "text": [
      "image 1/1 /Users/codym/CAP/ai-starter-kit/yoda/data/sec-edgar-filings/NVDA/10-Q/0001045810-23-000227/full-submission/images/page_149.jpg: 640x512 (no detections), 102.7ms\n",
      "Speed: 0.4ms preprocess, 102.7ms inference, 0.2ms postprocess per image at shape (1, 3, 640, 640)\n",
      "\n",
      "image 1/1 /Users/codym/CAP/ai-starter-kit/yoda/data/sec-edgar-filings/NVDA/10-Q/0001045810-23-000227/full-submission/images/page_148.jpg: 640x512 1 bordered, 1 borderless, 88.2ms\n",
      "Speed: 0.6ms preprocess, 88.2ms inference, 0.4ms postprocess per image at shape (1, 3, 640, 640)\n",
      "\n"
     ]
    },
    {
     "name": "stdout",
     "output_type": "stream",
     "text": [
      "Cropping tables from /Users/codym/CAP/ai-starter-kit/yoda/data/sec-edgar-filings/NVDA/10-Q/0001045810-23-000227/full-submission/images/page_148.jpg\n",
      "Cropping tables from /Users/codym/CAP/ai-starter-kit/yoda/data/sec-edgar-filings/NVDA/10-Q/0001045810-23-000227/full-submission/images/page_160.jpg\n"
     ]
    },
    {
     "name": "stderr",
     "output_type": "stream",
     "text": [
      "image 1/1 /Users/codym/CAP/ai-starter-kit/yoda/data/sec-edgar-filings/NVDA/10-Q/0001045810-23-000227/full-submission/images/page_160.jpg: 640x512 (no detections), 108.2ms\n",
      "Speed: 0.2ms preprocess, 108.2ms inference, 0.2ms postprocess per image at shape (1, 3, 640, 640)\n",
      "\n",
      "image 1/1 /Users/codym/CAP/ai-starter-kit/yoda/data/sec-edgar-filings/NVDA/10-Q/0001045810-23-000227/full-submission/images/page_174.jpg: 640x512 (no detections), 91.6ms\n",
      "Speed: 0.3ms preprocess, 91.6ms inference, 0.2ms postprocess per image at shape (1, 3, 640, 640)\n",
      "\n"
     ]
    },
    {
     "name": "stdout",
     "output_type": "stream",
     "text": [
      "Cropping tables from /Users/codym/CAP/ai-starter-kit/yoda/data/sec-edgar-filings/NVDA/10-Q/0001045810-23-000227/full-submission/images/page_174.jpg\n",
      "Cropping tables from /Users/codym/CAP/ai-starter-kit/yoda/data/sec-edgar-filings/NVDA/10-Q/0001045810-23-000227/full-submission/images/page_216.jpg\n"
     ]
    },
    {
     "name": "stderr",
     "output_type": "stream",
     "text": [
      "image 1/1 /Users/codym/CAP/ai-starter-kit/yoda/data/sec-edgar-filings/NVDA/10-Q/0001045810-23-000227/full-submission/images/page_216.jpg: 640x512 (no detections), 77.8ms\n",
      "Speed: 0.4ms preprocess, 77.8ms inference, 0.2ms postprocess per image at shape (1, 3, 640, 640)\n",
      "\n",
      "image 1/1 /Users/codym/CAP/ai-starter-kit/yoda/data/sec-edgar-filings/NVDA/10-Q/0001045810-23-000227/full-submission/images/page_202.jpg: 640x512 1 bordered, 77.2ms\n",
      "Speed: 0.2ms preprocess, 77.2ms inference, 0.4ms postprocess per image at shape (1, 3, 640, 640)\n",
      "\n",
      "image 1/1 /Users/codym/CAP/ai-starter-kit/yoda/data/sec-edgar-filings/NVDA/10-Q/0001045810-23-000227/full-submission/images/page_63.jpg: 640x512 2 bordereds, 69.2ms\n",
      "Speed: 0.2ms preprocess, 69.2ms inference, 0.4ms postprocess per image at shape (1, 3, 640, 640)\n",
      "\n"
     ]
    },
    {
     "name": "stdout",
     "output_type": "stream",
     "text": [
      "Cropping tables from /Users/codym/CAP/ai-starter-kit/yoda/data/sec-edgar-filings/NVDA/10-Q/0001045810-23-000227/full-submission/images/page_202.jpg\n",
      "Cropping tables from /Users/codym/CAP/ai-starter-kit/yoda/data/sec-edgar-filings/NVDA/10-Q/0001045810-23-000227/full-submission/images/page_63.jpg\n",
      "Cropping tables from /Users/codym/CAP/ai-starter-kit/yoda/data/sec-edgar-filings/NVDA/10-Q/0001045810-23-000227/full-submission/images/page_77.jpg\n"
     ]
    },
    {
     "name": "stderr",
     "output_type": "stream",
     "text": [
      "image 1/1 /Users/codym/CAP/ai-starter-kit/yoda/data/sec-edgar-filings/NVDA/10-Q/0001045810-23-000227/full-submission/images/page_77.jpg: 640x512 3 borderlesss, 82.1ms\n",
      "Speed: 0.3ms preprocess, 82.1ms inference, 0.4ms postprocess per image at shape (1, 3, 640, 640)\n",
      "\n",
      "image 1/1 /Users/codym/CAP/ai-starter-kit/yoda/data/sec-edgar-filings/NVDA/10-Q/0001045810-23-000227/full-submission/images/page_88.jpg: 640x512 (no detections), 79.6ms\n",
      "Speed: 0.3ms preprocess, 79.6ms inference, 0.2ms postprocess per image at shape (1, 3, 640, 640)\n",
      "\n"
     ]
    },
    {
     "name": "stdout",
     "output_type": "stream",
     "text": [
      "Cropping tables from /Users/codym/CAP/ai-starter-kit/yoda/data/sec-edgar-filings/NVDA/10-Q/0001045810-23-000227/full-submission/images/page_88.jpg\n",
      "Cropping tables from /Users/codym/CAP/ai-starter-kit/yoda/data/sec-edgar-filings/NVDA/10-Q/0001045810-23-000175/full-submission/images/page_91.jpg\n"
     ]
    },
    {
     "name": "stderr",
     "output_type": "stream",
     "text": [
      "image 1/1 /Users/codym/CAP/ai-starter-kit/yoda/data/sec-edgar-filings/NVDA/10-Q/0001045810-23-000175/full-submission/images/page_91.jpg: 640x512 (no detections), 79.0ms\n",
      "Speed: 0.5ms preprocess, 79.0ms inference, 0.2ms postprocess per image at shape (1, 3, 640, 640)\n",
      "\n",
      "image 1/1 /Users/codym/CAP/ai-starter-kit/yoda/data/sec-edgar-filings/NVDA/10-Q/0001045810-23-000175/full-submission/images/page_85.jpg: 640x512 (no detections), 83.8ms\n",
      "Speed: 1.8ms preprocess, 83.8ms inference, 0.2ms postprocess per image at shape (1, 3, 640, 640)\n",
      "\n"
     ]
    },
    {
     "name": "stdout",
     "output_type": "stream",
     "text": [
      "Cropping tables from /Users/codym/CAP/ai-starter-kit/yoda/data/sec-edgar-filings/NVDA/10-Q/0001045810-23-000175/full-submission/images/page_85.jpg\n",
      "Cropping tables from /Users/codym/CAP/ai-starter-kit/yoda/data/sec-edgar-filings/NVDA/10-Q/0001045810-23-000175/full-submission/images/page_52.jpg\n"
     ]
    },
    {
     "name": "stderr",
     "output_type": "stream",
     "text": [
      "image 1/1 /Users/codym/CAP/ai-starter-kit/yoda/data/sec-edgar-filings/NVDA/10-Q/0001045810-23-000175/full-submission/images/page_52.jpg: 640x512 (no detections), 70.9ms\n",
      "Speed: 0.2ms preprocess, 70.9ms inference, 0.2ms postprocess per image at shape (1, 3, 640, 640)\n",
      "\n",
      "image 1/1 /Users/codym/CAP/ai-starter-kit/yoda/data/sec-edgar-filings/NVDA/10-Q/0001045810-23-000175/full-submission/images/page_46.jpg: 640x512 (no detections), 73.6ms\n",
      "Speed: 0.3ms preprocess, 73.6ms inference, 0.2ms postprocess per image at shape (1, 3, 640, 640)\n",
      "\n",
      "image 1/1 /Users/codym/CAP/ai-starter-kit/yoda/data/sec-edgar-filings/NVDA/10-Q/0001045810-23-000175/full-submission/images/page_227.jpg: 640x512 (no detections), 72.2ms\n",
      "Speed: 0.2ms preprocess, 72.2ms inference, 0.2ms postprocess per image at shape (1, 3, 640, 640)\n",
      "\n"
     ]
    },
    {
     "name": "stdout",
     "output_type": "stream",
     "text": [
      "Cropping tables from /Users/codym/CAP/ai-starter-kit/yoda/data/sec-edgar-filings/NVDA/10-Q/0001045810-23-000175/full-submission/images/page_46.jpg\n",
      "Cropping tables from /Users/codym/CAP/ai-starter-kit/yoda/data/sec-edgar-filings/NVDA/10-Q/0001045810-23-000175/full-submission/images/page_227.jpg\n",
      "Cropping tables from /Users/codym/CAP/ai-starter-kit/yoda/data/sec-edgar-filings/NVDA/10-Q/0001045810-23-000175/full-submission/images/page_233.jpg\n"
     ]
    },
    {
     "name": "stderr",
     "output_type": "stream",
     "text": [
      "image 1/1 /Users/codym/CAP/ai-starter-kit/yoda/data/sec-edgar-filings/NVDA/10-Q/0001045810-23-000175/full-submission/images/page_233.jpg: 640x512 (no detections), 120.5ms\n",
      "Speed: 1.5ms preprocess, 120.5ms inference, 0.2ms postprocess per image at shape (1, 3, 640, 640)\n",
      "\n"
     ]
    },
    {
     "name": "stdout",
     "output_type": "stream",
     "text": [
      "Cropping tables from /Users/codym/CAP/ai-starter-kit/yoda/data/sec-edgar-filings/NVDA/10-Q/0001045810-23-000175/full-submission/images/page_192.jpg\n"
     ]
    },
    {
     "name": "stderr",
     "output_type": "stream",
     "text": [
      "image 1/1 /Users/codym/CAP/ai-starter-kit/yoda/data/sec-edgar-filings/NVDA/10-Q/0001045810-23-000175/full-submission/images/page_192.jpg: 640x512 (no detections), 239.2ms\n",
      "Speed: 0.7ms preprocess, 239.2ms inference, 0.2ms postprocess per image at shape (1, 3, 640, 640)\n",
      "\n",
      "image 1/1 /Users/codym/CAP/ai-starter-kit/yoda/data/sec-edgar-filings/NVDA/10-Q/0001045810-23-000175/full-submission/images/page_2.jpg: 640x512 1 borderless, 92.3ms\n",
      "Speed: 0.4ms preprocess, 92.3ms inference, 0.4ms postprocess per image at shape (1, 3, 640, 640)\n",
      "\n"
     ]
    },
    {
     "name": "stdout",
     "output_type": "stream",
     "text": [
      "Cropping tables from /Users/codym/CAP/ai-starter-kit/yoda/data/sec-edgar-filings/NVDA/10-Q/0001045810-23-000175/full-submission/images/page_2.jpg\n",
      "Cropping tables from /Users/codym/CAP/ai-starter-kit/yoda/data/sec-edgar-filings/NVDA/10-Q/0001045810-23-000175/full-submission/images/page_186.jpg\n"
     ]
    },
    {
     "name": "stderr",
     "output_type": "stream",
     "text": [
      "image 1/1 /Users/codym/CAP/ai-starter-kit/yoda/data/sec-edgar-filings/NVDA/10-Q/0001045810-23-000175/full-submission/images/page_186.jpg: 640x512 (no detections), 82.5ms\n",
      "Speed: 0.4ms preprocess, 82.5ms inference, 0.2ms postprocess per image at shape (1, 3, 640, 640)\n",
      "\n",
      "image 1/1 /Users/codym/CAP/ai-starter-kit/yoda/data/sec-edgar-filings/NVDA/10-Q/0001045810-23-000175/full-submission/images/page_179.jpg: 640x512 (no detections), 98.8ms\n",
      "Speed: 0.5ms preprocess, 98.8ms inference, 0.4ms postprocess per image at shape (1, 3, 640, 640)\n",
      "\n"
     ]
    },
    {
     "name": "stdout",
     "output_type": "stream",
     "text": [
      "Cropping tables from /Users/codym/CAP/ai-starter-kit/yoda/data/sec-edgar-filings/NVDA/10-Q/0001045810-23-000175/full-submission/images/page_179.jpg\n",
      "Cropping tables from /Users/codym/CAP/ai-starter-kit/yoda/data/sec-edgar-filings/NVDA/10-Q/0001045810-23-000175/full-submission/images/page_151.jpg\n"
     ]
    },
    {
     "name": "stderr",
     "output_type": "stream",
     "text": [
      "image 1/1 /Users/codym/CAP/ai-starter-kit/yoda/data/sec-edgar-filings/NVDA/10-Q/0001045810-23-000175/full-submission/images/page_151.jpg: 640x512 (no detections), 79.0ms\n",
      "Speed: 0.2ms preprocess, 79.0ms inference, 0.3ms postprocess per image at shape (1, 3, 640, 640)\n",
      "\n",
      "image 1/1 /Users/codym/CAP/ai-starter-kit/yoda/data/sec-edgar-filings/NVDA/10-Q/0001045810-23-000175/full-submission/images/page_145.jpg: 640x512 (no detections), 77.6ms\n",
      "Speed: 0.2ms preprocess, 77.6ms inference, 0.2ms postprocess per image at shape (1, 3, 640, 640)\n",
      "\n",
      "image 1/1 /Users/codym/CAP/ai-starter-kit/yoda/data/sec-edgar-filings/NVDA/10-Q/0001045810-23-000175/full-submission/images/page_144.jpg: 640x512 (no detections), 73.0ms\n",
      "Speed: 0.3ms preprocess, 73.0ms inference, 0.2ms postprocess per image at shape (1, 3, 640, 640)\n",
      "\n"
     ]
    },
    {
     "name": "stdout",
     "output_type": "stream",
     "text": [
      "Cropping tables from /Users/codym/CAP/ai-starter-kit/yoda/data/sec-edgar-filings/NVDA/10-Q/0001045810-23-000175/full-submission/images/page_145.jpg\n",
      "Cropping tables from /Users/codym/CAP/ai-starter-kit/yoda/data/sec-edgar-filings/NVDA/10-Q/0001045810-23-000175/full-submission/images/page_144.jpg\n",
      "Cropping tables from /Users/codym/CAP/ai-starter-kit/yoda/data/sec-edgar-filings/NVDA/10-Q/0001045810-23-000175/full-submission/images/page_150.jpg\n"
     ]
    },
    {
     "name": "stderr",
     "output_type": "stream",
     "text": [
      "image 1/1 /Users/codym/CAP/ai-starter-kit/yoda/data/sec-edgar-filings/NVDA/10-Q/0001045810-23-000175/full-submission/images/page_150.jpg: 640x512 (no detections), 86.7ms\n",
      "Speed: 0.2ms preprocess, 86.7ms inference, 0.2ms postprocess per image at shape (1, 3, 640, 640)\n",
      "\n",
      "image 1/1 /Users/codym/CAP/ai-starter-kit/yoda/data/sec-edgar-filings/NVDA/10-Q/0001045810-23-000175/full-submission/images/page_178.jpg: 640x512 (no detections), 84.4ms\n",
      "Speed: 0.2ms preprocess, 84.4ms inference, 0.2ms postprocess per image at shape (1, 3, 640, 640)\n",
      "\n"
     ]
    },
    {
     "name": "stdout",
     "output_type": "stream",
     "text": [
      "Cropping tables from /Users/codym/CAP/ai-starter-kit/yoda/data/sec-edgar-filings/NVDA/10-Q/0001045810-23-000175/full-submission/images/page_178.jpg\n",
      "Cropping tables from /Users/codym/CAP/ai-starter-kit/yoda/data/sec-edgar-filings/NVDA/10-Q/0001045810-23-000175/full-submission/images/page_187.jpg\n"
     ]
    },
    {
     "name": "stderr",
     "output_type": "stream",
     "text": [
      "image 1/1 /Users/codym/CAP/ai-starter-kit/yoda/data/sec-edgar-filings/NVDA/10-Q/0001045810-23-000175/full-submission/images/page_187.jpg: 640x512 (no detections), 99.0ms\n",
      "Speed: 0.3ms preprocess, 99.0ms inference, 0.2ms postprocess per image at shape (1, 3, 640, 640)\n",
      "\n",
      "image 1/1 /Users/codym/CAP/ai-starter-kit/yoda/data/sec-edgar-filings/NVDA/10-Q/0001045810-23-000175/full-submission/images/page_193.jpg: 640x512 (no detections), 112.7ms\n",
      "Speed: 0.5ms preprocess, 112.7ms inference, 0.2ms postprocess per image at shape (1, 3, 640, 640)\n",
      "\n"
     ]
    },
    {
     "name": "stdout",
     "output_type": "stream",
     "text": [
      "Cropping tables from /Users/codym/CAP/ai-starter-kit/yoda/data/sec-edgar-filings/NVDA/10-Q/0001045810-23-000175/full-submission/images/page_193.jpg\n",
      "Cropping tables from /Users/codym/CAP/ai-starter-kit/yoda/data/sec-edgar-filings/NVDA/10-Q/0001045810-23-000175/full-submission/images/page_3.jpg\n"
     ]
    },
    {
     "name": "stderr",
     "output_type": "stream",
     "text": [
      "image 1/1 /Users/codym/CAP/ai-starter-kit/yoda/data/sec-edgar-filings/NVDA/10-Q/0001045810-23-000175/full-submission/images/page_3.jpg: 640x512 1 bordered, 80.1ms\n",
      "Speed: 0.2ms preprocess, 80.1ms inference, 0.4ms postprocess per image at shape (1, 3, 640, 640)\n",
      "\n",
      "image 1/1 /Users/codym/CAP/ai-starter-kit/yoda/data/sec-edgar-filings/NVDA/10-Q/0001045810-23-000175/full-submission/images/page_232.jpg: 640x512 (no detections), 72.4ms\n",
      "Speed: 0.5ms preprocess, 72.4ms inference, 0.2ms postprocess per image at shape (1, 3, 640, 640)\n",
      "\n"
     ]
    },
    {
     "name": "stdout",
     "output_type": "stream",
     "text": [
      "Cropping tables from /Users/codym/CAP/ai-starter-kit/yoda/data/sec-edgar-filings/NVDA/10-Q/0001045810-23-000175/full-submission/images/page_232.jpg\n",
      "Cropping tables from /Users/codym/CAP/ai-starter-kit/yoda/data/sec-edgar-filings/NVDA/10-Q/0001045810-23-000175/full-submission/images/page_226.jpg\n"
     ]
    },
    {
     "name": "stderr",
     "output_type": "stream",
     "text": [
      "image 1/1 /Users/codym/CAP/ai-starter-kit/yoda/data/sec-edgar-filings/NVDA/10-Q/0001045810-23-000175/full-submission/images/page_226.jpg: 640x512 (no detections), 110.8ms\n",
      "Speed: 0.2ms preprocess, 110.8ms inference, 0.2ms postprocess per image at shape (1, 3, 640, 640)\n",
      "\n",
      "image 1/1 /Users/codym/CAP/ai-starter-kit/yoda/data/sec-edgar-filings/NVDA/10-Q/0001045810-23-000175/full-submission/images/page_47.jpg: 640x512 (no detections), 85.3ms\n",
      "Speed: 0.5ms preprocess, 85.3ms inference, 0.2ms postprocess per image at shape (1, 3, 640, 640)\n",
      "\n"
     ]
    },
    {
     "name": "stdout",
     "output_type": "stream",
     "text": [
      "Cropping tables from /Users/codym/CAP/ai-starter-kit/yoda/data/sec-edgar-filings/NVDA/10-Q/0001045810-23-000175/full-submission/images/page_47.jpg\n",
      "Cropping tables from /Users/codym/CAP/ai-starter-kit/yoda/data/sec-edgar-filings/NVDA/10-Q/0001045810-23-000175/full-submission/images/page_53.jpg\n"
     ]
    },
    {
     "name": "stderr",
     "output_type": "stream",
     "text": [
      "image 1/1 /Users/codym/CAP/ai-starter-kit/yoda/data/sec-edgar-filings/NVDA/10-Q/0001045810-23-000175/full-submission/images/page_53.jpg: 640x512 1 borderless, 110.5ms\n",
      "Speed: 0.2ms preprocess, 110.5ms inference, 0.4ms postprocess per image at shape (1, 3, 640, 640)\n",
      "\n",
      "image 1/1 /Users/codym/CAP/ai-starter-kit/yoda/data/sec-edgar-filings/NVDA/10-Q/0001045810-23-000175/full-submission/images/page_84.jpg: 640x512 (no detections), 87.1ms\n",
      "Speed: 0.4ms preprocess, 87.1ms inference, 0.2ms postprocess per image at shape (1, 3, 640, 640)\n",
      "\n",
      "image 1/1 /Users/codym/CAP/ai-starter-kit/yoda/data/sec-edgar-filings/NVDA/10-Q/0001045810-23-000175/full-submission/images/page_90.jpg: 640x512 (no detections), 68.9ms\n",
      "Speed: 0.2ms preprocess, 68.9ms inference, 0.2ms postprocess per image at shape (1, 3, 640, 640)\n"
     ]
    },
    {
     "name": "stdout",
     "output_type": "stream",
     "text": [
      "Cropping tables from /Users/codym/CAP/ai-starter-kit/yoda/data/sec-edgar-filings/NVDA/10-Q/0001045810-23-000175/full-submission/images/page_84.jpg\n",
      "Cropping tables from /Users/codym/CAP/ai-starter-kit/yoda/data/sec-edgar-filings/NVDA/10-Q/0001045810-23-000175/full-submission/images/page_90.jpg\n"
     ]
    },
    {
     "name": "stderr",
     "output_type": "stream",
     "text": [
      "\n",
      "image 1/1 /Users/codym/CAP/ai-starter-kit/yoda/data/sec-edgar-filings/NVDA/10-Q/0001045810-23-000175/full-submission/images/page_86.jpg: 640x512 (no detections), 84.6ms\n",
      "Speed: 0.2ms preprocess, 84.6ms inference, 0.2ms postprocess per image at shape (1, 3, 640, 640)\n",
      "\n"
     ]
    },
    {
     "name": "stdout",
     "output_type": "stream",
     "text": [
      "Cropping tables from /Users/codym/CAP/ai-starter-kit/yoda/data/sec-edgar-filings/NVDA/10-Q/0001045810-23-000175/full-submission/images/page_86.jpg\n",
      "Cropping tables from /Users/codym/CAP/ai-starter-kit/yoda/data/sec-edgar-filings/NVDA/10-Q/0001045810-23-000175/full-submission/images/page_92.jpg\n"
     ]
    },
    {
     "name": "stderr",
     "output_type": "stream",
     "text": [
      "image 1/1 /Users/codym/CAP/ai-starter-kit/yoda/data/sec-edgar-filings/NVDA/10-Q/0001045810-23-000175/full-submission/images/page_92.jpg: 640x512 (no detections), 200.8ms\n",
      "Speed: 0.4ms preprocess, 200.8ms inference, 0.2ms postprocess per image at shape (1, 3, 640, 640)\n",
      "\n",
      "image 1/1 /Users/codym/CAP/ai-starter-kit/yoda/data/sec-edgar-filings/NVDA/10-Q/0001045810-23-000175/full-submission/images/page_79.jpg: 640x512 (no detections), 72.8ms\n",
      "Speed: 0.5ms preprocess, 72.8ms inference, 0.2ms postprocess per image at shape (1, 3, 640, 640)\n",
      "\n",
      "image 1/1 /Users/codym/CAP/ai-starter-kit/yoda/data/sec-edgar-filings/NVDA/10-Q/0001045810-23-000175/full-submission/images/page_45.jpg: 640x512 1 borderless, 74.2ms\n",
      "Speed: 0.5ms preprocess, 74.2ms inference, 0.4ms postprocess per image at shape (1, 3, 640, 640)\n",
      "\n"
     ]
    },
    {
     "name": "stdout",
     "output_type": "stream",
     "text": [
      "Cropping tables from /Users/codym/CAP/ai-starter-kit/yoda/data/sec-edgar-filings/NVDA/10-Q/0001045810-23-000175/full-submission/images/page_79.jpg\n",
      "Cropping tables from /Users/codym/CAP/ai-starter-kit/yoda/data/sec-edgar-filings/NVDA/10-Q/0001045810-23-000175/full-submission/images/page_45.jpg\n",
      "Cropping tables from /Users/codym/CAP/ai-starter-kit/yoda/data/sec-edgar-filings/NVDA/10-Q/0001045810-23-000175/full-submission/images/page_51.jpg\n"
     ]
    },
    {
     "name": "stderr",
     "output_type": "stream",
     "text": [
      "image 1/1 /Users/codym/CAP/ai-starter-kit/yoda/data/sec-edgar-filings/NVDA/10-Q/0001045810-23-000175/full-submission/images/page_51.jpg: 640x512 (no detections), 72.5ms\n",
      "Speed: 0.5ms preprocess, 72.5ms inference, 0.2ms postprocess per image at shape (1, 3, 640, 640)\n",
      "\n",
      "image 1/1 /Users/codym/CAP/ai-starter-kit/yoda/data/sec-edgar-filings/NVDA/10-Q/0001045810-23-000175/full-submission/images/page_218.jpg: 640x512 (no detections), 69.4ms\n",
      "Speed: 0.2ms preprocess, 69.4ms inference, 0.2ms postprocess per image at shape (1, 3, 640, 640)\n",
      "\n",
      "image 1/1 /Users/codym/CAP/ai-starter-kit/yoda/data/sec-edgar-filings/NVDA/10-Q/0001045810-23-000175/full-submission/images/page_230.jpg: 640x512 (no detections), 69.0ms\n",
      "Speed: 0.2ms preprocess, 69.0ms inference, 0.2ms postprocess per image at shape (1, 3, 640, 640)\n",
      "\n"
     ]
    },
    {
     "name": "stdout",
     "output_type": "stream",
     "text": [
      "Cropping tables from /Users/codym/CAP/ai-starter-kit/yoda/data/sec-edgar-filings/NVDA/10-Q/0001045810-23-000175/full-submission/images/page_218.jpg\n",
      "Cropping tables from /Users/codym/CAP/ai-starter-kit/yoda/data/sec-edgar-filings/NVDA/10-Q/0001045810-23-000175/full-submission/images/page_230.jpg\n",
      "Cropping tables from /Users/codym/CAP/ai-starter-kit/yoda/data/sec-edgar-filings/NVDA/10-Q/0001045810-23-000175/full-submission/images/page_224.jpg\n"
     ]
    },
    {
     "name": "stderr",
     "output_type": "stream",
     "text": [
      "image 1/1 /Users/codym/CAP/ai-starter-kit/yoda/data/sec-edgar-filings/NVDA/10-Q/0001045810-23-000175/full-submission/images/page_224.jpg: 640x512 (no detections), 80.9ms\n",
      "Speed: 0.3ms preprocess, 80.9ms inference, 0.2ms postprocess per image at shape (1, 3, 640, 640)\n",
      "\n",
      "image 1/1 /Users/codym/CAP/ai-starter-kit/yoda/data/sec-edgar-filings/NVDA/10-Q/0001045810-23-000175/full-submission/images/page_185.jpg: 640x512 (no detections), 84.0ms\n",
      "Speed: 0.5ms preprocess, 84.0ms inference, 0.2ms postprocess per image at shape (1, 3, 640, 640)\n",
      "\n",
      "image 1/1 /Users/codym/CAP/ai-starter-kit/yoda/data/sec-edgar-filings/NVDA/10-Q/0001045810-23-000175/full-submission/images/page_1.jpg: 640x512 (no detections), 69.6ms\n",
      "Speed: 0.3ms preprocess, 69.6ms inference, 0.2ms postprocess per image at shape (1, 3, 640, 640)\n",
      "\n"
     ]
    },
    {
     "name": "stdout",
     "output_type": "stream",
     "text": [
      "Cropping tables from /Users/codym/CAP/ai-starter-kit/yoda/data/sec-edgar-filings/NVDA/10-Q/0001045810-23-000175/full-submission/images/page_185.jpg\n",
      "Cropping tables from /Users/codym/CAP/ai-starter-kit/yoda/data/sec-edgar-filings/NVDA/10-Q/0001045810-23-000175/full-submission/images/page_1.jpg\n",
      "Cropping tables from /Users/codym/CAP/ai-starter-kit/yoda/data/sec-edgar-filings/NVDA/10-Q/0001045810-23-000175/full-submission/images/page_191.jpg\n"
     ]
    },
    {
     "name": "stderr",
     "output_type": "stream",
     "text": [
      "image 1/1 /Users/codym/CAP/ai-starter-kit/yoda/data/sec-edgar-filings/NVDA/10-Q/0001045810-23-000175/full-submission/images/page_191.jpg: 640x512 (no detections), 69.0ms\n",
      "Speed: 0.2ms preprocess, 69.0ms inference, 0.2ms postprocess per image at shape (1, 3, 640, 640)\n",
      "\n",
      "image 1/1 /Users/codym/CAP/ai-starter-kit/yoda/data/sec-edgar-filings/NVDA/10-Q/0001045810-23-000175/full-submission/images/page_146.jpg: 640x512 (no detections), 66.1ms\n",
      "Speed: 0.6ms preprocess, 66.1ms inference, 0.2ms postprocess per image at shape (1, 3, 640, 640)\n",
      "\n",
      "image 1/1 /Users/codym/CAP/ai-starter-kit/yoda/data/sec-edgar-filings/NVDA/10-Q/0001045810-23-000175/full-submission/images/page_152.jpg: 640x512 (no detections), 67.8ms\n",
      "Speed: 0.2ms preprocess, 67.8ms inference, 0.2ms postprocess per image at shape (1, 3, 640, 640)\n",
      "\n"
     ]
    },
    {
     "name": "stdout",
     "output_type": "stream",
     "text": [
      "Cropping tables from /Users/codym/CAP/ai-starter-kit/yoda/data/sec-edgar-filings/NVDA/10-Q/0001045810-23-000175/full-submission/images/page_146.jpg\n",
      "Cropping tables from /Users/codym/CAP/ai-starter-kit/yoda/data/sec-edgar-filings/NVDA/10-Q/0001045810-23-000175/full-submission/images/page_152.jpg\n",
      "Cropping tables from /Users/codym/CAP/ai-starter-kit/yoda/data/sec-edgar-filings/NVDA/10-Q/0001045810-23-000175/full-submission/images/page_153.jpg\n"
     ]
    },
    {
     "name": "stderr",
     "output_type": "stream",
     "text": [
      "image 1/1 /Users/codym/CAP/ai-starter-kit/yoda/data/sec-edgar-filings/NVDA/10-Q/0001045810-23-000175/full-submission/images/page_153.jpg: 640x512 (no detections), 71.1ms\n",
      "Speed: 0.2ms preprocess, 71.1ms inference, 0.2ms postprocess per image at shape (1, 3, 640, 640)\n",
      "\n",
      "image 1/1 /Users/codym/CAP/ai-starter-kit/yoda/data/sec-edgar-filings/NVDA/10-Q/0001045810-23-000175/full-submission/images/page_147.jpg: 640x512 (no detections), 68.2ms\n",
      "Speed: 0.3ms preprocess, 68.2ms inference, 0.2ms postprocess per image at shape (1, 3, 640, 640)\n",
      "\n"
     ]
    },
    {
     "name": "stdout",
     "output_type": "stream",
     "text": [
      "Cropping tables from /Users/codym/CAP/ai-starter-kit/yoda/data/sec-edgar-filings/NVDA/10-Q/0001045810-23-000175/full-submission/images/page_147.jpg\n",
      "Cropping tables from /Users/codym/CAP/ai-starter-kit/yoda/data/sec-edgar-filings/NVDA/10-Q/0001045810-23-000175/full-submission/images/page_0.jpg\n"
     ]
    },
    {
     "name": "stderr",
     "output_type": "stream",
     "text": [
      "image 1/1 /Users/codym/CAP/ai-starter-kit/yoda/data/sec-edgar-filings/NVDA/10-Q/0001045810-23-000175/full-submission/images/page_0.jpg: 640x512 (no detections), 96.6ms\n",
      "Speed: 0.3ms preprocess, 96.6ms inference, 0.2ms postprocess per image at shape (1, 3, 640, 640)\n",
      "\n",
      "image 1/1 /Users/codym/CAP/ai-starter-kit/yoda/data/sec-edgar-filings/NVDA/10-Q/0001045810-23-000175/full-submission/images/page_190.jpg: 640x512 (no detections), 96.3ms\n",
      "Speed: 5.5ms preprocess, 96.3ms inference, 0.2ms postprocess per image at shape (1, 3, 640, 640)\n",
      "\n"
     ]
    },
    {
     "name": "stdout",
     "output_type": "stream",
     "text": [
      "Cropping tables from /Users/codym/CAP/ai-starter-kit/yoda/data/sec-edgar-filings/NVDA/10-Q/0001045810-23-000175/full-submission/images/page_190.jpg\n",
      "Cropping tables from /Users/codym/CAP/ai-starter-kit/yoda/data/sec-edgar-filings/NVDA/10-Q/0001045810-23-000175/full-submission/images/page_184.jpg\n"
     ]
    },
    {
     "name": "stderr",
     "output_type": "stream",
     "text": [
      "image 1/1 /Users/codym/CAP/ai-starter-kit/yoda/data/sec-edgar-filings/NVDA/10-Q/0001045810-23-000175/full-submission/images/page_184.jpg: 640x512 (no detections), 68.2ms\n",
      "Speed: 0.2ms preprocess, 68.2ms inference, 0.2ms postprocess per image at shape (1, 3, 640, 640)\n",
      "\n",
      "image 1/1 /Users/codym/CAP/ai-starter-kit/yoda/data/sec-edgar-filings/NVDA/10-Q/0001045810-23-000175/full-submission/images/page_225.jpg: 640x512 (no detections), 71.1ms\n",
      "Speed: 0.2ms preprocess, 71.1ms inference, 0.2ms postprocess per image at shape (1, 3, 640, 640)\n",
      "\n",
      "image 1/1 /Users/codym/CAP/ai-starter-kit/yoda/data/sec-edgar-filings/NVDA/10-Q/0001045810-23-000175/full-submission/images/page_231.jpg: 640x512 (no detections), 69.0ms\n",
      "Speed: 0.2ms preprocess, 69.0ms inference, 0.2ms postprocess per image at shape (1, 3, 640, 640)\n",
      "\n"
     ]
    },
    {
     "name": "stdout",
     "output_type": "stream",
     "text": [
      "Cropping tables from /Users/codym/CAP/ai-starter-kit/yoda/data/sec-edgar-filings/NVDA/10-Q/0001045810-23-000175/full-submission/images/page_225.jpg\n",
      "Cropping tables from /Users/codym/CAP/ai-starter-kit/yoda/data/sec-edgar-filings/NVDA/10-Q/0001045810-23-000175/full-submission/images/page_231.jpg\n",
      "Cropping tables from /Users/codym/CAP/ai-starter-kit/yoda/data/sec-edgar-filings/NVDA/10-Q/0001045810-23-000175/full-submission/images/page_219.jpg\n"
     ]
    },
    {
     "name": "stderr",
     "output_type": "stream",
     "text": [
      "image 1/1 /Users/codym/CAP/ai-starter-kit/yoda/data/sec-edgar-filings/NVDA/10-Q/0001045810-23-000175/full-submission/images/page_219.jpg: 640x512 (no detections), 72.0ms\n",
      "Speed: 0.2ms preprocess, 72.0ms inference, 0.2ms postprocess per image at shape (1, 3, 640, 640)\n",
      "\n",
      "image 1/1 /Users/codym/CAP/ai-starter-kit/yoda/data/sec-edgar-filings/NVDA/10-Q/0001045810-23-000175/full-submission/images/page_50.jpg: 640x512 (no detections), 81.7ms\n",
      "Speed: 0.6ms preprocess, 81.7ms inference, 0.2ms postprocess per image at shape (1, 3, 640, 640)\n",
      "\n",
      "image 1/1 /Users/codym/CAP/ai-starter-kit/yoda/data/sec-edgar-filings/NVDA/10-Q/0001045810-23-000175/full-submission/images/page_44.jpg: 640x512 1 bordered, 68.8ms\n",
      "Speed: 0.2ms preprocess, 68.8ms inference, 0.4ms postprocess per image at shape (1, 3, 640, 640)\n",
      "\n"
     ]
    },
    {
     "name": "stdout",
     "output_type": "stream",
     "text": [
      "Cropping tables from /Users/codym/CAP/ai-starter-kit/yoda/data/sec-edgar-filings/NVDA/10-Q/0001045810-23-000175/full-submission/images/page_50.jpg\n",
      "Cropping tables from /Users/codym/CAP/ai-starter-kit/yoda/data/sec-edgar-filings/NVDA/10-Q/0001045810-23-000175/full-submission/images/page_44.jpg\n",
      "Cropping tables from /Users/codym/CAP/ai-starter-kit/yoda/data/sec-edgar-filings/NVDA/10-Q/0001045810-23-000175/full-submission/images/page_78.jpg\n"
     ]
    },
    {
     "name": "stderr",
     "output_type": "stream",
     "text": [
      "image 1/1 /Users/codym/CAP/ai-starter-kit/yoda/data/sec-edgar-filings/NVDA/10-Q/0001045810-23-000175/full-submission/images/page_78.jpg: 640x512 3 borderlesss, 78.4ms\n",
      "Speed: 0.3ms preprocess, 78.4ms inference, 0.4ms postprocess per image at shape (1, 3, 640, 640)\n",
      "\n",
      "image 1/1 /Users/codym/CAP/ai-starter-kit/yoda/data/sec-edgar-filings/NVDA/10-Q/0001045810-23-000175/full-submission/images/page_93.jpg: 640x512 (no detections), 70.7ms\n",
      "Speed: 0.3ms preprocess, 70.7ms inference, 0.2ms postprocess per image at shape (1, 3, 640, 640)\n",
      "\n",
      "image 1/1 /Users/codym/CAP/ai-starter-kit/yoda/data/sec-edgar-filings/NVDA/10-Q/0001045810-23-000175/full-submission/images/page_87.jpg: 640x512 (no detections), 73.4ms\n",
      "Speed: 0.2ms preprocess, 73.4ms inference, 0.2ms postprocess per image at shape (1, 3, 640, 640)\n",
      "\n"
     ]
    },
    {
     "name": "stdout",
     "output_type": "stream",
     "text": [
      "Cropping tables from /Users/codym/CAP/ai-starter-kit/yoda/data/sec-edgar-filings/NVDA/10-Q/0001045810-23-000175/full-submission/images/page_93.jpg\n",
      "Cropping tables from /Users/codym/CAP/ai-starter-kit/yoda/data/sec-edgar-filings/NVDA/10-Q/0001045810-23-000175/full-submission/images/page_87.jpg\n",
      "Cropping tables from /Users/codym/CAP/ai-starter-kit/yoda/data/sec-edgar-filings/NVDA/10-Q/0001045810-23-000175/full-submission/images/page_83.jpg\n"
     ]
    },
    {
     "name": "stderr",
     "output_type": "stream",
     "text": [
      "image 1/1 /Users/codym/CAP/ai-starter-kit/yoda/data/sec-edgar-filings/NVDA/10-Q/0001045810-23-000175/full-submission/images/page_83.jpg: 640x512 (no detections), 72.2ms\n",
      "Speed: 0.2ms preprocess, 72.2ms inference, 0.2ms postprocess per image at shape (1, 3, 640, 640)\n",
      "\n",
      "image 1/1 /Users/codym/CAP/ai-starter-kit/yoda/data/sec-edgar-filings/NVDA/10-Q/0001045810-23-000175/full-submission/images/page_97.jpg: 640x512 (no detections), 71.1ms\n",
      "Speed: 0.2ms preprocess, 71.1ms inference, 0.2ms postprocess per image at shape (1, 3, 640, 640)\n",
      "\n",
      "image 1/1 /Users/codym/CAP/ai-starter-kit/yoda/data/sec-edgar-filings/NVDA/10-Q/0001045810-23-000175/full-submission/images/page_40.jpg: 640x512 (no detections), 86.7ms\n",
      "Speed: 0.2ms preprocess, 86.7ms inference, 0.2ms postprocess per image at shape (1, 3, 640, 640)\n",
      "\n"
     ]
    },
    {
     "name": "stdout",
     "output_type": "stream",
     "text": [
      "Cropping tables from /Users/codym/CAP/ai-starter-kit/yoda/data/sec-edgar-filings/NVDA/10-Q/0001045810-23-000175/full-submission/images/page_97.jpg\n",
      "Cropping tables from /Users/codym/CAP/ai-starter-kit/yoda/data/sec-edgar-filings/NVDA/10-Q/0001045810-23-000175/full-submission/images/page_40.jpg\n",
      "Cropping tables from /Users/codym/CAP/ai-starter-kit/yoda/data/sec-edgar-filings/NVDA/10-Q/0001045810-23-000175/full-submission/images/page_54.jpg\n"
     ]
    },
    {
     "name": "stderr",
     "output_type": "stream",
     "text": [
      "image 1/1 /Users/codym/CAP/ai-starter-kit/yoda/data/sec-edgar-filings/NVDA/10-Q/0001045810-23-000175/full-submission/images/page_54.jpg: 640x512 3 borderlesss, 71.4ms\n",
      "Speed: 0.4ms preprocess, 71.4ms inference, 0.4ms postprocess per image at shape (1, 3, 640, 640)\n",
      "\n",
      "image 1/1 /Users/codym/CAP/ai-starter-kit/yoda/data/sec-edgar-filings/NVDA/10-Q/0001045810-23-000175/full-submission/images/page_68.jpg: 640x512 4 borderlesss, 71.1ms\n",
      "Speed: 0.4ms preprocess, 71.1ms inference, 0.4ms postprocess per image at shape (1, 3, 640, 640)\n",
      "\n",
      "image 1/1 /Users/codym/CAP/ai-starter-kit/yoda/data/sec-edgar-filings/NVDA/10-Q/0001045810-23-000175/full-submission/images/page_235.jpg: 640x512 (no detections), 69.3ms\n",
      "Speed: 0.2ms preprocess, 69.3ms inference, 0.2ms postprocess per image at shape (1, 3, 640, 640)\n",
      "\n"
     ]
    },
    {
     "name": "stdout",
     "output_type": "stream",
     "text": [
      "Cropping tables from /Users/codym/CAP/ai-starter-kit/yoda/data/sec-edgar-filings/NVDA/10-Q/0001045810-23-000175/full-submission/images/page_68.jpg\n",
      "Cropping tables from /Users/codym/CAP/ai-starter-kit/yoda/data/sec-edgar-filings/NVDA/10-Q/0001045810-23-000175/full-submission/images/page_235.jpg\n",
      "Cropping tables from /Users/codym/CAP/ai-starter-kit/yoda/data/sec-edgar-filings/NVDA/10-Q/0001045810-23-000175/full-submission/images/page_221.jpg\n"
     ]
    },
    {
     "name": "stderr",
     "output_type": "stream",
     "text": [
      "image 1/1 /Users/codym/CAP/ai-starter-kit/yoda/data/sec-edgar-filings/NVDA/10-Q/0001045810-23-000175/full-submission/images/page_221.jpg: 640x512 (no detections), 81.4ms\n",
      "Speed: 0.2ms preprocess, 81.4ms inference, 0.2ms postprocess per image at shape (1, 3, 640, 640)\n",
      "\n",
      "image 1/1 /Users/codym/CAP/ai-starter-kit/yoda/data/sec-edgar-filings/NVDA/10-Q/0001045810-23-000175/full-submission/images/page_209.jpg: 640x512 (no detections), 70.9ms\n",
      "Speed: 0.4ms preprocess, 70.9ms inference, 0.2ms postprocess per image at shape (1, 3, 640, 640)\n",
      "\n",
      "image 1/1 /Users/codym/CAP/ai-starter-kit/yoda/data/sec-edgar-filings/NVDA/10-Q/0001045810-23-000175/full-submission/images/page_180.jpg: 640x512 (no detections), 70.9ms\n",
      "Speed: 0.2ms preprocess, 70.9ms inference, 0.2ms postprocess per image at shape (1, 3, 640, 640)\n",
      "\n"
     ]
    },
    {
     "name": "stdout",
     "output_type": "stream",
     "text": [
      "Cropping tables from /Users/codym/CAP/ai-starter-kit/yoda/data/sec-edgar-filings/NVDA/10-Q/0001045810-23-000175/full-submission/images/page_209.jpg\n",
      "Cropping tables from /Users/codym/CAP/ai-starter-kit/yoda/data/sec-edgar-filings/NVDA/10-Q/0001045810-23-000175/full-submission/images/page_180.jpg\n",
      "Cropping tables from /Users/codym/CAP/ai-starter-kit/yoda/data/sec-edgar-filings/NVDA/10-Q/0001045810-23-000175/full-submission/images/page_194.jpg\n"
     ]
    },
    {
     "name": "stderr",
     "output_type": "stream",
     "text": [
      "image 1/1 /Users/codym/CAP/ai-starter-kit/yoda/data/sec-edgar-filings/NVDA/10-Q/0001045810-23-000175/full-submission/images/page_194.jpg: 640x512 (no detections), 71.4ms\n",
      "Speed: 0.2ms preprocess, 71.4ms inference, 0.3ms postprocess per image at shape (1, 3, 640, 640)\n",
      "\n",
      "image 1/1 /Users/codym/CAP/ai-starter-kit/yoda/data/sec-edgar-filings/NVDA/10-Q/0001045810-23-000175/full-submission/images/page_4.jpg: 640x512 1 bordered, 72.3ms\n",
      "Speed: 0.2ms preprocess, 72.3ms inference, 0.4ms postprocess per image at shape (1, 3, 640, 640)\n",
      "\n",
      "image 1/1 /Users/codym/CAP/ai-starter-kit/yoda/data/sec-edgar-filings/NVDA/10-Q/0001045810-23-000175/full-submission/images/page_143.jpg: 640x512 (no detections), 68.2ms\n",
      "Speed: 0.2ms preprocess, 68.2ms inference, 0.2ms postprocess per image at shape (1, 3, 640, 640)\n",
      "\n"
     ]
    },
    {
     "name": "stdout",
     "output_type": "stream",
     "text": [
      "Cropping tables from /Users/codym/CAP/ai-starter-kit/yoda/data/sec-edgar-filings/NVDA/10-Q/0001045810-23-000175/full-submission/images/page_4.jpg\n",
      "Cropping tables from /Users/codym/CAP/ai-starter-kit/yoda/data/sec-edgar-filings/NVDA/10-Q/0001045810-23-000175/full-submission/images/page_143.jpg\n",
      "Cropping tables from /Users/codym/CAP/ai-starter-kit/yoda/data/sec-edgar-filings/NVDA/10-Q/0001045810-23-000175/full-submission/images/page_157.jpg\n"
     ]
    },
    {
     "name": "stderr",
     "output_type": "stream",
     "text": [
      "image 1/1 /Users/codym/CAP/ai-starter-kit/yoda/data/sec-edgar-filings/NVDA/10-Q/0001045810-23-000175/full-submission/images/page_157.jpg: 640x512 (no detections), 144.6ms\n",
      "Speed: 0.2ms preprocess, 144.6ms inference, 0.2ms postprocess per image at shape (1, 3, 640, 640)\n",
      "\n",
      "image 1/1 /Users/codym/CAP/ai-starter-kit/yoda/data/sec-edgar-filings/NVDA/10-Q/0001045810-23-000175/full-submission/images/page_156.jpg: 640x512 (no detections), 71.4ms\n",
      "Speed: 0.5ms preprocess, 71.4ms inference, 0.2ms postprocess per image at shape (1, 3, 640, 640)\n",
      "\n",
      "image 1/1 /Users/codym/CAP/ai-starter-kit/yoda/data/sec-edgar-filings/NVDA/10-Q/0001045810-23-000175/full-submission/images/page_142.jpg: 640x512 (no detections), 69.5ms\n",
      "Speed: 0.2ms preprocess, 69.5ms inference, 0.2ms postprocess per image at shape (1, 3, 640, 640)\n",
      "\n"
     ]
    },
    {
     "name": "stdout",
     "output_type": "stream",
     "text": [
      "Cropping tables from /Users/codym/CAP/ai-starter-kit/yoda/data/sec-edgar-filings/NVDA/10-Q/0001045810-23-000175/full-submission/images/page_156.jpg\n",
      "Cropping tables from /Users/codym/CAP/ai-starter-kit/yoda/data/sec-edgar-filings/NVDA/10-Q/0001045810-23-000175/full-submission/images/page_142.jpg\n",
      "Cropping tables from /Users/codym/CAP/ai-starter-kit/yoda/data/sec-edgar-filings/NVDA/10-Q/0001045810-23-000175/full-submission/images/page_195.jpg\n"
     ]
    },
    {
     "name": "stderr",
     "output_type": "stream",
     "text": [
      "image 1/1 /Users/codym/CAP/ai-starter-kit/yoda/data/sec-edgar-filings/NVDA/10-Q/0001045810-23-000175/full-submission/images/page_195.jpg: 640x512 (no detections), 71.9ms\n",
      "Speed: 0.5ms preprocess, 71.9ms inference, 0.2ms postprocess per image at shape (1, 3, 640, 640)\n",
      "\n",
      "image 1/1 /Users/codym/CAP/ai-starter-kit/yoda/data/sec-edgar-filings/NVDA/10-Q/0001045810-23-000175/full-submission/images/page_5.jpg: 640x512 1 borderless, 71.2ms\n",
      "Speed: 0.2ms preprocess, 71.2ms inference, 0.4ms postprocess per image at shape (1, 3, 640, 640)\n",
      "\n",
      "image 1/1 /Users/codym/CAP/ai-starter-kit/yoda/data/sec-edgar-filings/NVDA/10-Q/0001045810-23-000175/full-submission/images/page_181.jpg: 640x512 (no detections), 69.3ms\n",
      "Speed: 0.8ms preprocess, 69.3ms inference, 0.2ms postprocess per image at shape (1, 3, 640, 640)\n",
      "\n"
     ]
    },
    {
     "name": "stdout",
     "output_type": "stream",
     "text": [
      "Cropping tables from /Users/codym/CAP/ai-starter-kit/yoda/data/sec-edgar-filings/NVDA/10-Q/0001045810-23-000175/full-submission/images/page_5.jpg\n",
      "Cropping tables from /Users/codym/CAP/ai-starter-kit/yoda/data/sec-edgar-filings/NVDA/10-Q/0001045810-23-000175/full-submission/images/page_181.jpg\n",
      "Cropping tables from /Users/codym/CAP/ai-starter-kit/yoda/data/sec-edgar-filings/NVDA/10-Q/0001045810-23-000175/full-submission/images/page_208.jpg\n"
     ]
    },
    {
     "name": "stderr",
     "output_type": "stream",
     "text": [
      "image 1/1 /Users/codym/CAP/ai-starter-kit/yoda/data/sec-edgar-filings/NVDA/10-Q/0001045810-23-000175/full-submission/images/page_208.jpg: 640x512 (no detections), 68.5ms\n",
      "Speed: 0.7ms preprocess, 68.5ms inference, 0.2ms postprocess per image at shape (1, 3, 640, 640)\n",
      "\n",
      "image 1/1 /Users/codym/CAP/ai-starter-kit/yoda/data/sec-edgar-filings/NVDA/10-Q/0001045810-23-000175/full-submission/images/page_220.jpg: 640x512 (no detections), 70.1ms\n",
      "Speed: 0.2ms preprocess, 70.1ms inference, 0.2ms postprocess per image at shape (1, 3, 640, 640)\n",
      "\n",
      "image 1/1 /Users/codym/CAP/ai-starter-kit/yoda/data/sec-edgar-filings/NVDA/10-Q/0001045810-23-000175/full-submission/images/page_234.jpg: 640x512 (no detections), 71.4ms\n",
      "Speed: 0.5ms preprocess, 71.4ms inference, 0.2ms postprocess per image at shape (1, 3, 640, 640)\n",
      "\n"
     ]
    },
    {
     "name": "stdout",
     "output_type": "stream",
     "text": [
      "Cropping tables from /Users/codym/CAP/ai-starter-kit/yoda/data/sec-edgar-filings/NVDA/10-Q/0001045810-23-000175/full-submission/images/page_220.jpg\n",
      "Cropping tables from /Users/codym/CAP/ai-starter-kit/yoda/data/sec-edgar-filings/NVDA/10-Q/0001045810-23-000175/full-submission/images/page_234.jpg\n",
      "Cropping tables from /Users/codym/CAP/ai-starter-kit/yoda/data/sec-edgar-filings/NVDA/10-Q/0001045810-23-000175/full-submission/images/page_69.jpg\n"
     ]
    },
    {
     "name": "stderr",
     "output_type": "stream",
     "text": [
      "image 1/1 /Users/codym/CAP/ai-starter-kit/yoda/data/sec-edgar-filings/NVDA/10-Q/0001045810-23-000175/full-submission/images/page_69.jpg: 640x512 1 bordered, 2 borderlesss, 71.3ms\n",
      "Speed: 0.5ms preprocess, 71.3ms inference, 0.4ms postprocess per image at shape (1, 3, 640, 640)\n",
      "\n",
      "image 1/1 /Users/codym/CAP/ai-starter-kit/yoda/data/sec-edgar-filings/NVDA/10-Q/0001045810-23-000175/full-submission/images/page_55.jpg: 640x512 (no detections), 72.3ms\n",
      "Speed: 0.4ms preprocess, 72.3ms inference, 0.2ms postprocess per image at shape (1, 3, 640, 640)\n",
      "\n",
      "image 1/1 /Users/codym/CAP/ai-starter-kit/yoda/data/sec-edgar-filings/NVDA/10-Q/0001045810-23-000175/full-submission/images/page_41.jpg: 640x512 (no detections), 75.3ms\n",
      "Speed: 8.1ms preprocess, 75.3ms inference, 0.2ms postprocess per image at shape (1, 3, 640, 640)\n",
      "\n"
     ]
    },
    {
     "name": "stdout",
     "output_type": "stream",
     "text": [
      "Cropping tables from /Users/codym/CAP/ai-starter-kit/yoda/data/sec-edgar-filings/NVDA/10-Q/0001045810-23-000175/full-submission/images/page_55.jpg\n",
      "Cropping tables from /Users/codym/CAP/ai-starter-kit/yoda/data/sec-edgar-filings/NVDA/10-Q/0001045810-23-000175/full-submission/images/page_41.jpg\n",
      "Cropping tables from /Users/codym/CAP/ai-starter-kit/yoda/data/sec-edgar-filings/NVDA/10-Q/0001045810-23-000175/full-submission/images/page_96.jpg\n"
     ]
    },
    {
     "name": "stderr",
     "output_type": "stream",
     "text": [
      "image 1/1 /Users/codym/CAP/ai-starter-kit/yoda/data/sec-edgar-filings/NVDA/10-Q/0001045810-23-000175/full-submission/images/page_96.jpg: 640x512 (no detections), 68.0ms\n",
      "Speed: 0.1ms preprocess, 68.0ms inference, 0.2ms postprocess per image at shape (1, 3, 640, 640)\n",
      "\n",
      "image 1/1 /Users/codym/CAP/ai-starter-kit/yoda/data/sec-edgar-filings/NVDA/10-Q/0001045810-23-000175/full-submission/images/page_82.jpg: 640x512 1 borderless, 73.1ms\n",
      "Speed: 0.3ms preprocess, 73.1ms inference, 0.4ms postprocess per image at shape (1, 3, 640, 640)\n",
      "\n",
      "image 1/1 /Users/codym/CAP/ai-starter-kit/yoda/data/sec-edgar-filings/NVDA/10-Q/0001045810-23-000175/full-submission/images/page_94.jpg: 640x512 (no detections), 70.1ms\n",
      "Speed: 0.2ms preprocess, 70.1ms inference, 0.2ms postprocess per image at shape (1, 3, 640, 640)\n",
      "\n"
     ]
    },
    {
     "name": "stdout",
     "output_type": "stream",
     "text": [
      "Cropping tables from /Users/codym/CAP/ai-starter-kit/yoda/data/sec-edgar-filings/NVDA/10-Q/0001045810-23-000175/full-submission/images/page_82.jpg\n",
      "Cropping tables from /Users/codym/CAP/ai-starter-kit/yoda/data/sec-edgar-filings/NVDA/10-Q/0001045810-23-000175/full-submission/images/page_94.jpg\n",
      "Cropping tables from /Users/codym/CAP/ai-starter-kit/yoda/data/sec-edgar-filings/NVDA/10-Q/0001045810-23-000175/full-submission/images/page_80.jpg\n"
     ]
    },
    {
     "name": "stderr",
     "output_type": "stream",
     "text": [
      "image 1/1 /Users/codym/CAP/ai-starter-kit/yoda/data/sec-edgar-filings/NVDA/10-Q/0001045810-23-000175/full-submission/images/page_80.jpg: 640x512 2 borderlesss, 70.0ms\n",
      "Speed: 0.4ms preprocess, 70.0ms inference, 0.4ms postprocess per image at shape (1, 3, 640, 640)\n",
      "\n",
      "image 1/1 /Users/codym/CAP/ai-starter-kit/yoda/data/sec-edgar-filings/NVDA/10-Q/0001045810-23-000175/full-submission/images/page_57.jpg: 640x512 (no detections), 70.4ms\n",
      "Speed: 0.4ms preprocess, 70.4ms inference, 0.2ms postprocess per image at shape (1, 3, 640, 640)\n",
      "\n",
      "image 1/1 /Users/codym/CAP/ai-starter-kit/yoda/data/sec-edgar-filings/NVDA/10-Q/0001045810-23-000175/full-submission/images/page_43.jpg: 640x512 (no detections), 64.5ms\n",
      "Speed: 0.4ms preprocess, 64.5ms inference, 0.2ms postprocess per image at shape (1, 3, 640, 640)\n",
      "\n"
     ]
    },
    {
     "name": "stdout",
     "output_type": "stream",
     "text": [
      "Cropping tables from /Users/codym/CAP/ai-starter-kit/yoda/data/sec-edgar-filings/NVDA/10-Q/0001045810-23-000175/full-submission/images/page_57.jpg\n",
      "Cropping tables from /Users/codym/CAP/ai-starter-kit/yoda/data/sec-edgar-filings/NVDA/10-Q/0001045810-23-000175/full-submission/images/page_43.jpg\n",
      "Cropping tables from /Users/codym/CAP/ai-starter-kit/yoda/data/sec-edgar-filings/NVDA/10-Q/0001045810-23-000175/full-submission/images/page_222.jpg\n"
     ]
    },
    {
     "name": "stderr",
     "output_type": "stream",
     "text": [
      "image 1/1 /Users/codym/CAP/ai-starter-kit/yoda/data/sec-edgar-filings/NVDA/10-Q/0001045810-23-000175/full-submission/images/page_222.jpg: 640x512 (no detections), 70.4ms\n",
      "Speed: 2.4ms preprocess, 70.4ms inference, 0.2ms postprocess per image at shape (1, 3, 640, 640)\n",
      "\n",
      "image 1/1 /Users/codym/CAP/ai-starter-kit/yoda/data/sec-edgar-filings/NVDA/10-Q/0001045810-23-000175/full-submission/images/page_236.jpg: 640x512 (no detections), 66.0ms\n",
      "Speed: 0.2ms preprocess, 66.0ms inference, 0.2ms postprocess per image at shape (1, 3, 640, 640)\n",
      "\n",
      "image 1/1 /Users/codym/CAP/ai-starter-kit/yoda/data/sec-edgar-filings/NVDA/10-Q/0001045810-23-000175/full-submission/images/page_7.jpg: 640x512 1 bordered, 1 borderless, 67.5ms\n",
      "Speed: 0.2ms preprocess, 67.5ms inference, 0.4ms postprocess per image at shape (1, 3, 640, 640)\n",
      "\n"
     ]
    },
    {
     "name": "stdout",
     "output_type": "stream",
     "text": [
      "Cropping tables from /Users/codym/CAP/ai-starter-kit/yoda/data/sec-edgar-filings/NVDA/10-Q/0001045810-23-000175/full-submission/images/page_236.jpg\n",
      "Cropping tables from /Users/codym/CAP/ai-starter-kit/yoda/data/sec-edgar-filings/NVDA/10-Q/0001045810-23-000175/full-submission/images/page_7.jpg\n",
      "Cropping tables from /Users/codym/CAP/ai-starter-kit/yoda/data/sec-edgar-filings/NVDA/10-Q/0001045810-23-000175/full-submission/images/page_197.jpg\n"
     ]
    },
    {
     "name": "stderr",
     "output_type": "stream",
     "text": [
      "image 1/1 /Users/codym/CAP/ai-starter-kit/yoda/data/sec-edgar-filings/NVDA/10-Q/0001045810-23-000175/full-submission/images/page_197.jpg: 640x512 (no detections), 71.8ms\n",
      "Speed: 0.2ms preprocess, 71.8ms inference, 0.2ms postprocess per image at shape (1, 3, 640, 640)\n",
      "\n",
      "image 1/1 /Users/codym/CAP/ai-starter-kit/yoda/data/sec-edgar-filings/NVDA/10-Q/0001045810-23-000175/full-submission/images/page_183.jpg: 640x512 (no detections), 67.4ms\n",
      "Speed: 0.2ms preprocess, 67.4ms inference, 0.2ms postprocess per image at shape (1, 3, 640, 640)\n",
      "\n",
      "image 1/1 /Users/codym/CAP/ai-starter-kit/yoda/data/sec-edgar-filings/NVDA/10-Q/0001045810-23-000175/full-submission/images/page_154.jpg: 640x512 (no detections), 66.8ms\n",
      "Speed: 0.2ms preprocess, 66.8ms inference, 0.2ms postprocess per image at shape (1, 3, 640, 640)\n",
      "\n"
     ]
    },
    {
     "name": "stdout",
     "output_type": "stream",
     "text": [
      "Cropping tables from /Users/codym/CAP/ai-starter-kit/yoda/data/sec-edgar-filings/NVDA/10-Q/0001045810-23-000175/full-submission/images/page_183.jpg\n",
      "Cropping tables from /Users/codym/CAP/ai-starter-kit/yoda/data/sec-edgar-filings/NVDA/10-Q/0001045810-23-000175/full-submission/images/page_154.jpg\n",
      "Cropping tables from /Users/codym/CAP/ai-starter-kit/yoda/data/sec-edgar-filings/NVDA/10-Q/0001045810-23-000175/full-submission/images/page_140.jpg\n"
     ]
    },
    {
     "name": "stderr",
     "output_type": "stream",
     "text": [
      "image 1/1 /Users/codym/CAP/ai-starter-kit/yoda/data/sec-edgar-filings/NVDA/10-Q/0001045810-23-000175/full-submission/images/page_140.jpg: 640x512 (no detections), 72.2ms\n",
      "Speed: 0.2ms preprocess, 72.2ms inference, 0.2ms postprocess per image at shape (1, 3, 640, 640)\n",
      "\n",
      "image 1/1 /Users/codym/CAP/ai-starter-kit/yoda/data/sec-edgar-filings/NVDA/10-Q/0001045810-23-000175/full-submission/images/page_168.jpg: 640x512 (no detections), 70.3ms\n",
      "Speed: 0.4ms preprocess, 70.3ms inference, 0.2ms postprocess per image at shape (1, 3, 640, 640)\n",
      "\n",
      "image 1/1 /Users/codym/CAP/ai-starter-kit/yoda/data/sec-edgar-filings/NVDA/10-Q/0001045810-23-000175/full-submission/images/page_169.jpg: 640x512 (no detections), 72.7ms\n",
      "Speed: 0.2ms preprocess, 72.7ms inference, 0.2ms postprocess per image at shape (1, 3, 640, 640)\n",
      "\n"
     ]
    },
    {
     "name": "stdout",
     "output_type": "stream",
     "text": [
      "Cropping tables from /Users/codym/CAP/ai-starter-kit/yoda/data/sec-edgar-filings/NVDA/10-Q/0001045810-23-000175/full-submission/images/page_168.jpg\n",
      "Cropping tables from /Users/codym/CAP/ai-starter-kit/yoda/data/sec-edgar-filings/NVDA/10-Q/0001045810-23-000175/full-submission/images/page_169.jpg\n",
      "Cropping tables from /Users/codym/CAP/ai-starter-kit/yoda/data/sec-edgar-filings/NVDA/10-Q/0001045810-23-000175/full-submission/images/page_141.jpg\n"
     ]
    },
    {
     "name": "stderr",
     "output_type": "stream",
     "text": [
      "image 1/1 /Users/codym/CAP/ai-starter-kit/yoda/data/sec-edgar-filings/NVDA/10-Q/0001045810-23-000175/full-submission/images/page_141.jpg: 640x512 (no detections), 67.5ms\n",
      "Speed: 0.3ms preprocess, 67.5ms inference, 0.2ms postprocess per image at shape (1, 3, 640, 640)\n",
      "\n",
      "image 1/1 /Users/codym/CAP/ai-starter-kit/yoda/data/sec-edgar-filings/NVDA/10-Q/0001045810-23-000175/full-submission/images/page_155.jpg: 640x512 (no detections), 65.6ms\n",
      "Speed: 0.2ms preprocess, 65.6ms inference, 0.2ms postprocess per image at shape (1, 3, 640, 640)\n",
      "\n",
      "image 1/1 /Users/codym/CAP/ai-starter-kit/yoda/data/sec-edgar-filings/NVDA/10-Q/0001045810-23-000175/full-submission/images/page_182.jpg: 640x512 (no detections), 69.5ms\n",
      "Speed: 0.2ms preprocess, 69.5ms inference, 0.2ms postprocess per image at shape (1, 3, 640, 640)\n",
      "\n"
     ]
    },
    {
     "name": "stdout",
     "output_type": "stream",
     "text": [
      "Cropping tables from /Users/codym/CAP/ai-starter-kit/yoda/data/sec-edgar-filings/NVDA/10-Q/0001045810-23-000175/full-submission/images/page_155.jpg\n",
      "Cropping tables from /Users/codym/CAP/ai-starter-kit/yoda/data/sec-edgar-filings/NVDA/10-Q/0001045810-23-000175/full-submission/images/page_182.jpg\n",
      "Cropping tables from /Users/codym/CAP/ai-starter-kit/yoda/data/sec-edgar-filings/NVDA/10-Q/0001045810-23-000175/full-submission/images/page_6.jpg\n"
     ]
    },
    {
     "name": "stderr",
     "output_type": "stream",
     "text": [
      "image 1/1 /Users/codym/CAP/ai-starter-kit/yoda/data/sec-edgar-filings/NVDA/10-Q/0001045810-23-000175/full-submission/images/page_6.jpg: 640x512 1 borderless, 68.4ms\n",
      "Speed: 0.2ms preprocess, 68.4ms inference, 0.4ms postprocess per image at shape (1, 3, 640, 640)\n",
      "\n",
      "image 1/1 /Users/codym/CAP/ai-starter-kit/yoda/data/sec-edgar-filings/NVDA/10-Q/0001045810-23-000175/full-submission/images/page_196.jpg: 640x512 (no detections), 68.2ms\n",
      "Speed: 0.2ms preprocess, 68.2ms inference, 0.2ms postprocess per image at shape (1, 3, 640, 640)\n",
      "\n",
      "image 1/1 /Users/codym/CAP/ai-starter-kit/yoda/data/sec-edgar-filings/NVDA/10-Q/0001045810-23-000175/full-submission/images/page_237.jpg: 640x512 (no detections), 67.0ms\n",
      "Speed: 0.2ms preprocess, 67.0ms inference, 0.2ms postprocess per image at shape (1, 3, 640, 640)\n",
      "\n"
     ]
    },
    {
     "name": "stdout",
     "output_type": "stream",
     "text": [
      "Cropping tables from /Users/codym/CAP/ai-starter-kit/yoda/data/sec-edgar-filings/NVDA/10-Q/0001045810-23-000175/full-submission/images/page_196.jpg\n",
      "Cropping tables from /Users/codym/CAP/ai-starter-kit/yoda/data/sec-edgar-filings/NVDA/10-Q/0001045810-23-000175/full-submission/images/page_237.jpg\n",
      "Cropping tables from /Users/codym/CAP/ai-starter-kit/yoda/data/sec-edgar-filings/NVDA/10-Q/0001045810-23-000175/full-submission/images/page_223.jpg\n"
     ]
    },
    {
     "name": "stderr",
     "output_type": "stream",
     "text": [
      "image 1/1 /Users/codym/CAP/ai-starter-kit/yoda/data/sec-edgar-filings/NVDA/10-Q/0001045810-23-000175/full-submission/images/page_223.jpg: 640x512 (no detections), 85.1ms\n",
      "Speed: 0.4ms preprocess, 85.1ms inference, 0.2ms postprocess per image at shape (1, 3, 640, 640)\n",
      "\n",
      "image 1/1 /Users/codym/CAP/ai-starter-kit/yoda/data/sec-edgar-filings/NVDA/10-Q/0001045810-23-000175/full-submission/images/page_42.jpg: 640x512 (no detections), 84.0ms\n",
      "Speed: 0.2ms preprocess, 84.0ms inference, 0.2ms postprocess per image at shape (1, 3, 640, 640)\n",
      "\n",
      "image 1/1 /Users/codym/CAP/ai-starter-kit/yoda/data/sec-edgar-filings/NVDA/10-Q/0001045810-23-000175/full-submission/images/page_56.jpg: 640x512 1 borderless, 66.9ms\n",
      "Speed: 0.2ms preprocess, 66.9ms inference, 0.4ms postprocess per image at shape (1, 3, 640, 640)\n",
      "\n"
     ]
    },
    {
     "name": "stdout",
     "output_type": "stream",
     "text": [
      "Cropping tables from /Users/codym/CAP/ai-starter-kit/yoda/data/sec-edgar-filings/NVDA/10-Q/0001045810-23-000175/full-submission/images/page_42.jpg\n",
      "Cropping tables from /Users/codym/CAP/ai-starter-kit/yoda/data/sec-edgar-filings/NVDA/10-Q/0001045810-23-000175/full-submission/images/page_56.jpg\n",
      "Cropping tables from /Users/codym/CAP/ai-starter-kit/yoda/data/sec-edgar-filings/NVDA/10-Q/0001045810-23-000175/full-submission/images/page_81.jpg\n"
     ]
    },
    {
     "name": "stderr",
     "output_type": "stream",
     "text": [
      "image 1/1 /Users/codym/CAP/ai-starter-kit/yoda/data/sec-edgar-filings/NVDA/10-Q/0001045810-23-000175/full-submission/images/page_81.jpg: 640x512 3 borderlesss, 69.5ms\n",
      "Speed: 0.2ms preprocess, 69.5ms inference, 0.4ms postprocess per image at shape (1, 3, 640, 640)\n",
      "\n",
      "image 1/1 /Users/codym/CAP/ai-starter-kit/yoda/data/sec-edgar-filings/NVDA/10-Q/0001045810-23-000175/full-submission/images/page_95.jpg: 640x512 (no detections), 69.7ms\n",
      "Speed: 0.2ms preprocess, 69.7ms inference, 0.2ms postprocess per image at shape (1, 3, 640, 640)\n",
      "\n",
      "image 1/1 /Users/codym/CAP/ai-starter-kit/yoda/data/sec-edgar-filings/NVDA/10-Q/0001045810-23-000175/full-submission/images/page_19.jpg: 640x512 2 bordereds, 68.3ms\n",
      "Speed: 0.2ms preprocess, 68.3ms inference, 0.4ms postprocess per image at shape (1, 3, 640, 640)\n",
      "\n"
     ]
    },
    {
     "name": "stdout",
     "output_type": "stream",
     "text": [
      "Cropping tables from /Users/codym/CAP/ai-starter-kit/yoda/data/sec-edgar-filings/NVDA/10-Q/0001045810-23-000175/full-submission/images/page_95.jpg\n",
      "Cropping tables from /Users/codym/CAP/ai-starter-kit/yoda/data/sec-edgar-filings/NVDA/10-Q/0001045810-23-000175/full-submission/images/page_19.jpg\n",
      "Cropping tables from /Users/codym/CAP/ai-starter-kit/yoda/data/sec-edgar-filings/NVDA/10-Q/0001045810-23-000175/full-submission/images/page_31.jpg\n"
     ]
    },
    {
     "name": "stderr",
     "output_type": "stream",
     "text": [
      "image 1/1 /Users/codym/CAP/ai-starter-kit/yoda/data/sec-edgar-filings/NVDA/10-Q/0001045810-23-000175/full-submission/images/page_31.jpg: 640x512 1 bordered, 74.5ms\n",
      "Speed: 0.2ms preprocess, 74.5ms inference, 0.4ms postprocess per image at shape (1, 3, 640, 640)\n",
      "\n",
      "image 1/1 /Users/codym/CAP/ai-starter-kit/yoda/data/sec-edgar-filings/NVDA/10-Q/0001045810-23-000175/full-submission/images/page_25.jpg: 640x512 (no detections), 146.7ms\n",
      "Speed: 0.7ms preprocess, 146.7ms inference, 0.2ms postprocess per image at shape (1, 3, 640, 640)\n",
      "\n"
     ]
    },
    {
     "name": "stdout",
     "output_type": "stream",
     "text": [
      "Cropping tables from /Users/codym/CAP/ai-starter-kit/yoda/data/sec-edgar-filings/NVDA/10-Q/0001045810-23-000175/full-submission/images/page_25.jpg\n",
      "Cropping tables from /Users/codym/CAP/ai-starter-kit/yoda/data/sec-edgar-filings/NVDA/10-Q/0001045810-23-000175/full-submission/images/page_132.jpg\n"
     ]
    },
    {
     "name": "stderr",
     "output_type": "stream",
     "text": [
      "image 1/1 /Users/codym/CAP/ai-starter-kit/yoda/data/sec-edgar-filings/NVDA/10-Q/0001045810-23-000175/full-submission/images/page_132.jpg: 640x512 (no detections), 78.7ms\n",
      "Speed: 0.2ms preprocess, 78.7ms inference, 0.2ms postprocess per image at shape (1, 3, 640, 640)\n",
      "\n",
      "image 1/1 /Users/codym/CAP/ai-starter-kit/yoda/data/sec-edgar-filings/NVDA/10-Q/0001045810-23-000175/full-submission/images/page_126.jpg: 640x512 (no detections), 69.1ms\n",
      "Speed: 0.4ms preprocess, 69.1ms inference, 0.2ms postprocess per image at shape (1, 3, 640, 640)\n",
      "\n",
      "image 1/1 /Users/codym/CAP/ai-starter-kit/yoda/data/sec-edgar-filings/NVDA/10-Q/0001045810-23-000175/full-submission/images/page_127.jpg: 640x512 (no detections), 66.6ms\n",
      "Speed: 0.2ms preprocess, 66.6ms inference, 0.2ms postprocess per image at shape (1, 3, 640, 640)\n",
      "\n"
     ]
    },
    {
     "name": "stdout",
     "output_type": "stream",
     "text": [
      "Cropping tables from /Users/codym/CAP/ai-starter-kit/yoda/data/sec-edgar-filings/NVDA/10-Q/0001045810-23-000175/full-submission/images/page_126.jpg\n",
      "Cropping tables from /Users/codym/CAP/ai-starter-kit/yoda/data/sec-edgar-filings/NVDA/10-Q/0001045810-23-000175/full-submission/images/page_127.jpg\n",
      "Cropping tables from /Users/codym/CAP/ai-starter-kit/yoda/data/sec-edgar-filings/NVDA/10-Q/0001045810-23-000175/full-submission/images/page_133.jpg\n"
     ]
    },
    {
     "name": "stderr",
     "output_type": "stream",
     "text": [
      "image 1/1 /Users/codym/CAP/ai-starter-kit/yoda/data/sec-edgar-filings/NVDA/10-Q/0001045810-23-000175/full-submission/images/page_133.jpg: 640x512 (no detections), 74.8ms\n",
      "Speed: 0.2ms preprocess, 74.8ms inference, 0.2ms postprocess per image at shape (1, 3, 640, 640)\n",
      "\n",
      "image 1/1 /Users/codym/CAP/ai-starter-kit/yoda/data/sec-edgar-filings/NVDA/10-Q/0001045810-23-000175/full-submission/images/page_24.jpg: 640x512 (no detections), 77.7ms\n",
      "Speed: 0.4ms preprocess, 77.7ms inference, 0.2ms postprocess per image at shape (1, 3, 640, 640)\n",
      "\n",
      "image 1/1 /Users/codym/CAP/ai-starter-kit/yoda/data/sec-edgar-filings/NVDA/10-Q/0001045810-23-000175/full-submission/images/page_30.jpg: 640x512 1 bordered, 1 borderless, 70.7ms\n",
      "Speed: 0.6ms preprocess, 70.7ms inference, 0.4ms postprocess per image at shape (1, 3, 640, 640)\n",
      "\n"
     ]
    },
    {
     "name": "stdout",
     "output_type": "stream",
     "text": [
      "Cropping tables from /Users/codym/CAP/ai-starter-kit/yoda/data/sec-edgar-filings/NVDA/10-Q/0001045810-23-000175/full-submission/images/page_24.jpg\n",
      "Cropping tables from /Users/codym/CAP/ai-starter-kit/yoda/data/sec-edgar-filings/NVDA/10-Q/0001045810-23-000175/full-submission/images/page_30.jpg\n",
      "Cropping tables from /Users/codym/CAP/ai-starter-kit/yoda/data/sec-edgar-filings/NVDA/10-Q/0001045810-23-000175/full-submission/images/page_18.jpg\n"
     ]
    },
    {
     "name": "stderr",
     "output_type": "stream",
     "text": [
      "image 1/1 /Users/codym/CAP/ai-starter-kit/yoda/data/sec-edgar-filings/NVDA/10-Q/0001045810-23-000175/full-submission/images/page_18.jpg: 640x512 1 bordered, 1 borderless, 76.2ms\n",
      "Speed: 0.2ms preprocess, 76.2ms inference, 0.4ms postprocess per image at shape (1, 3, 640, 640)\n",
      "\n",
      "image 1/1 /Users/codym/CAP/ai-starter-kit/yoda/data/sec-edgar-filings/NVDA/10-Q/0001045810-23-000175/full-submission/images/page_26.jpg: 640x512 1 borderless, 149.3ms\n",
      "Speed: 0.2ms preprocess, 149.3ms inference, 0.4ms postprocess per image at shape (1, 3, 640, 640)\n",
      "\n"
     ]
    },
    {
     "name": "stdout",
     "output_type": "stream",
     "text": [
      "Cropping tables from /Users/codym/CAP/ai-starter-kit/yoda/data/sec-edgar-filings/NVDA/10-Q/0001045810-23-000175/full-submission/images/page_26.jpg\n",
      "Cropping tables from /Users/codym/CAP/ai-starter-kit/yoda/data/sec-edgar-filings/NVDA/10-Q/0001045810-23-000175/full-submission/images/page_32.jpg\n"
     ]
    },
    {
     "name": "stderr",
     "output_type": "stream",
     "text": [
      "image 1/1 /Users/codym/CAP/ai-starter-kit/yoda/data/sec-edgar-filings/NVDA/10-Q/0001045810-23-000175/full-submission/images/page_32.jpg: 640x512 1 bordered, 83.1ms\n",
      "Speed: 0.2ms preprocess, 83.1ms inference, 0.4ms postprocess per image at shape (1, 3, 640, 640)\n",
      "\n",
      "image 1/1 /Users/codym/CAP/ai-starter-kit/yoda/data/sec-edgar-filings/NVDA/10-Q/0001045810-23-000175/full-submission/images/page_119.jpg: 640x512 (no detections), 69.3ms\n",
      "Speed: 0.2ms preprocess, 69.3ms inference, 0.2ms postprocess per image at shape (1, 3, 640, 640)\n",
      "\n",
      "image 1/1 /Users/codym/CAP/ai-starter-kit/yoda/data/sec-edgar-filings/NVDA/10-Q/0001045810-23-000175/full-submission/images/page_125.jpg: 640x512 (no detections), 74.7ms\n",
      "Speed: 0.2ms preprocess, 74.7ms inference, 0.2ms postprocess per image at shape (1, 3, 640, 640)\n",
      "\n"
     ]
    },
    {
     "name": "stdout",
     "output_type": "stream",
     "text": [
      "Cropping tables from /Users/codym/CAP/ai-starter-kit/yoda/data/sec-edgar-filings/NVDA/10-Q/0001045810-23-000175/full-submission/images/page_119.jpg\n",
      "Cropping tables from /Users/codym/CAP/ai-starter-kit/yoda/data/sec-edgar-filings/NVDA/10-Q/0001045810-23-000175/full-submission/images/page_125.jpg\n",
      "Cropping tables from /Users/codym/CAP/ai-starter-kit/yoda/data/sec-edgar-filings/NVDA/10-Q/0001045810-23-000175/full-submission/images/page_131.jpg\n"
     ]
    },
    {
     "name": "stderr",
     "output_type": "stream",
     "text": [
      "image 1/1 /Users/codym/CAP/ai-starter-kit/yoda/data/sec-edgar-filings/NVDA/10-Q/0001045810-23-000175/full-submission/images/page_131.jpg: 640x512 (no detections), 73.4ms\n",
      "Speed: 0.2ms preprocess, 73.4ms inference, 0.2ms postprocess per image at shape (1, 3, 640, 640)\n",
      "\n",
      "image 1/1 /Users/codym/CAP/ai-starter-kit/yoda/data/sec-edgar-filings/NVDA/10-Q/0001045810-23-000175/full-submission/images/page_130.jpg: 640x512 (no detections), 93.5ms\n",
      "Speed: 0.2ms preprocess, 93.5ms inference, 0.2ms postprocess per image at shape (1, 3, 640, 640)\n",
      "\n"
     ]
    },
    {
     "name": "stdout",
     "output_type": "stream",
     "text": [
      "Cropping tables from /Users/codym/CAP/ai-starter-kit/yoda/data/sec-edgar-filings/NVDA/10-Q/0001045810-23-000175/full-submission/images/page_130.jpg\n",
      "Cropping tables from /Users/codym/CAP/ai-starter-kit/yoda/data/sec-edgar-filings/NVDA/10-Q/0001045810-23-000175/full-submission/images/page_124.jpg\n"
     ]
    },
    {
     "name": "stderr",
     "output_type": "stream",
     "text": [
      "image 1/1 /Users/codym/CAP/ai-starter-kit/yoda/data/sec-edgar-filings/NVDA/10-Q/0001045810-23-000175/full-submission/images/page_124.jpg: 640x512 (no detections), 68.8ms\n",
      "Speed: 0.2ms preprocess, 68.8ms inference, 0.2ms postprocess per image at shape (1, 3, 640, 640)\n",
      "\n",
      "image 1/1 /Users/codym/CAP/ai-starter-kit/yoda/data/sec-edgar-filings/NVDA/10-Q/0001045810-23-000175/full-submission/images/page_118.jpg: 640x512 (no detections), 66.2ms\n",
      "Speed: 0.2ms preprocess, 66.2ms inference, 0.2ms postprocess per image at shape (1, 3, 640, 640)\n",
      "\n",
      "image 1/1 /Users/codym/CAP/ai-starter-kit/yoda/data/sec-edgar-filings/NVDA/10-Q/0001045810-23-000175/full-submission/images/page_33.jpg: 640x512 (no detections), 72.1ms\n",
      "Speed: 0.2ms preprocess, 72.1ms inference, 0.2ms postprocess per image at shape (1, 3, 640, 640)\n",
      "\n"
     ]
    },
    {
     "name": "stdout",
     "output_type": "stream",
     "text": [
      "Cropping tables from /Users/codym/CAP/ai-starter-kit/yoda/data/sec-edgar-filings/NVDA/10-Q/0001045810-23-000175/full-submission/images/page_118.jpg\n",
      "Cropping tables from /Users/codym/CAP/ai-starter-kit/yoda/data/sec-edgar-filings/NVDA/10-Q/0001045810-23-000175/full-submission/images/page_33.jpg\n",
      "Cropping tables from /Users/codym/CAP/ai-starter-kit/yoda/data/sec-edgar-filings/NVDA/10-Q/0001045810-23-000175/full-submission/images/page_27.jpg\n"
     ]
    },
    {
     "name": "stderr",
     "output_type": "stream",
     "text": [
      "image 1/1 /Users/codym/CAP/ai-starter-kit/yoda/data/sec-edgar-filings/NVDA/10-Q/0001045810-23-000175/full-submission/images/page_27.jpg: 640x512 1 borderless, 74.4ms\n",
      "Speed: 0.5ms preprocess, 74.4ms inference, 0.4ms postprocess per image at shape (1, 3, 640, 640)\n",
      "\n",
      "image 1/1 /Users/codym/CAP/ai-starter-kit/yoda/data/sec-edgar-filings/NVDA/10-Q/0001045810-23-000175/full-submission/images/page_23.jpg: 640x512 2 bordereds, 2 borderlesss, 66.1ms\n",
      "Speed: 0.4ms preprocess, 66.1ms inference, 0.4ms postprocess per image at shape (1, 3, 640, 640)\n",
      "\n",
      "image 1/1 /Users/codym/CAP/ai-starter-kit/yoda/data/sec-edgar-filings/NVDA/10-Q/0001045810-23-000175/full-submission/images/page_37.jpg: 640x512 (no detections), 65.8ms\n",
      "Speed: 0.2ms preprocess, 65.8ms inference, 0.2ms postprocess per image at shape (1, 3, 640, 640)\n",
      "\n"
     ]
    },
    {
     "name": "stdout",
     "output_type": "stream",
     "text": [
      "Cropping tables from /Users/codym/CAP/ai-starter-kit/yoda/data/sec-edgar-filings/NVDA/10-Q/0001045810-23-000175/full-submission/images/page_23.jpg\n",
      "Cropping tables from /Users/codym/CAP/ai-starter-kit/yoda/data/sec-edgar-filings/NVDA/10-Q/0001045810-23-000175/full-submission/images/page_37.jpg\n",
      "Cropping tables from /Users/codym/CAP/ai-starter-kit/yoda/data/sec-edgar-filings/NVDA/10-Q/0001045810-23-000175/full-submission/images/page_120.jpg\n"
     ]
    },
    {
     "name": "stderr",
     "output_type": "stream",
     "text": [
      "image 1/1 /Users/codym/CAP/ai-starter-kit/yoda/data/sec-edgar-filings/NVDA/10-Q/0001045810-23-000175/full-submission/images/page_120.jpg: 640x512 (no detections), 77.0ms\n",
      "Speed: 0.5ms preprocess, 77.0ms inference, 0.2ms postprocess per image at shape (1, 3, 640, 640)\n",
      "\n",
      "image 1/1 /Users/codym/CAP/ai-starter-kit/yoda/data/sec-edgar-filings/NVDA/10-Q/0001045810-23-000175/full-submission/images/page_134.jpg: 640x512 (no detections), 68.4ms\n",
      "Speed: 0.6ms preprocess, 68.4ms inference, 0.2ms postprocess per image at shape (1, 3, 640, 640)\n",
      "\n",
      "image 1/1 /Users/codym/CAP/ai-starter-kit/yoda/data/sec-edgar-filings/NVDA/10-Q/0001045810-23-000175/full-submission/images/page_108.jpg: 640x512 (no detections), 67.7ms\n",
      "Speed: 0.4ms preprocess, 67.7ms inference, 0.2ms postprocess per image at shape (1, 3, 640, 640)\n",
      "\n"
     ]
    },
    {
     "name": "stdout",
     "output_type": "stream",
     "text": [
      "Cropping tables from /Users/codym/CAP/ai-starter-kit/yoda/data/sec-edgar-filings/NVDA/10-Q/0001045810-23-000175/full-submission/images/page_134.jpg\n",
      "Cropping tables from /Users/codym/CAP/ai-starter-kit/yoda/data/sec-edgar-filings/NVDA/10-Q/0001045810-23-000175/full-submission/images/page_108.jpg\n",
      "Cropping tables from /Users/codym/CAP/ai-starter-kit/yoda/data/sec-edgar-filings/NVDA/10-Q/0001045810-23-000175/full-submission/images/page_109.jpg\n"
     ]
    },
    {
     "name": "stderr",
     "output_type": "stream",
     "text": [
      "image 1/1 /Users/codym/CAP/ai-starter-kit/yoda/data/sec-edgar-filings/NVDA/10-Q/0001045810-23-000175/full-submission/images/page_109.jpg: 640x512 (no detections), 78.8ms\n",
      "Speed: 0.2ms preprocess, 78.8ms inference, 0.2ms postprocess per image at shape (1, 3, 640, 640)\n",
      "\n",
      "image 1/1 /Users/codym/CAP/ai-starter-kit/yoda/data/sec-edgar-filings/NVDA/10-Q/0001045810-23-000175/full-submission/images/page_135.jpg: 640x512 (no detections), 67.5ms\n",
      "Speed: 0.5ms preprocess, 67.5ms inference, 0.2ms postprocess per image at shape (1, 3, 640, 640)\n",
      "\n",
      "image 1/1 /Users/codym/CAP/ai-starter-kit/yoda/data/sec-edgar-filings/NVDA/10-Q/0001045810-23-000175/full-submission/images/page_121.jpg: 640x512 (no detections), 67.0ms\n",
      "Speed: 0.1ms preprocess, 67.0ms inference, 0.2ms postprocess per image at shape (1, 3, 640, 640)\n",
      "\n"
     ]
    },
    {
     "name": "stdout",
     "output_type": "stream",
     "text": [
      "Cropping tables from /Users/codym/CAP/ai-starter-kit/yoda/data/sec-edgar-filings/NVDA/10-Q/0001045810-23-000175/full-submission/images/page_135.jpg\n",
      "Cropping tables from /Users/codym/CAP/ai-starter-kit/yoda/data/sec-edgar-filings/NVDA/10-Q/0001045810-23-000175/full-submission/images/page_121.jpg\n",
      "Cropping tables from /Users/codym/CAP/ai-starter-kit/yoda/data/sec-edgar-filings/NVDA/10-Q/0001045810-23-000175/full-submission/images/page_36.jpg\n"
     ]
    },
    {
     "name": "stderr",
     "output_type": "stream",
     "text": [
      "image 1/1 /Users/codym/CAP/ai-starter-kit/yoda/data/sec-edgar-filings/NVDA/10-Q/0001045810-23-000175/full-submission/images/page_36.jpg: 640x512 (no detections), 70.9ms\n",
      "Speed: 0.2ms preprocess, 70.9ms inference, 0.2ms postprocess per image at shape (1, 3, 640, 640)\n",
      "\n",
      "image 1/1 /Users/codym/CAP/ai-starter-kit/yoda/data/sec-edgar-filings/NVDA/10-Q/0001045810-23-000175/full-submission/images/page_22.jpg: 640x512 1 bordered, 73.7ms\n",
      "Speed: 0.5ms preprocess, 73.7ms inference, 0.4ms postprocess per image at shape (1, 3, 640, 640)\n",
      "\n",
      "image 1/1 /Users/codym/CAP/ai-starter-kit/yoda/data/sec-edgar-filings/NVDA/10-Q/0001045810-23-000175/full-submission/images/page_34.jpg: 640x512 (no detections), 68.4ms\n",
      "Speed: 0.2ms preprocess, 68.4ms inference, 0.2ms postprocess per image at shape (1, 3, 640, 640)\n",
      "\n"
     ]
    },
    {
     "name": "stdout",
     "output_type": "stream",
     "text": [
      "Cropping tables from /Users/codym/CAP/ai-starter-kit/yoda/data/sec-edgar-filings/NVDA/10-Q/0001045810-23-000175/full-submission/images/page_22.jpg\n",
      "Cropping tables from /Users/codym/CAP/ai-starter-kit/yoda/data/sec-edgar-filings/NVDA/10-Q/0001045810-23-000175/full-submission/images/page_34.jpg\n",
      "Cropping tables from /Users/codym/CAP/ai-starter-kit/yoda/data/sec-edgar-filings/NVDA/10-Q/0001045810-23-000175/full-submission/images/page_20.jpg\n"
     ]
    },
    {
     "name": "stderr",
     "output_type": "stream",
     "text": [
      "image 1/1 /Users/codym/CAP/ai-starter-kit/yoda/data/sec-edgar-filings/NVDA/10-Q/0001045810-23-000175/full-submission/images/page_20.jpg: 640x512 (no detections), 72.5ms\n",
      "Speed: 0.2ms preprocess, 72.5ms inference, 0.2ms postprocess per image at shape (1, 3, 640, 640)\n",
      "\n",
      "image 1/1 /Users/codym/CAP/ai-starter-kit/yoda/data/sec-edgar-filings/NVDA/10-Q/0001045810-23-000175/full-submission/images/page_137.jpg: 640x512 (no detections), 69.4ms\n",
      "Speed: 0.2ms preprocess, 69.4ms inference, 0.2ms postprocess per image at shape (1, 3, 640, 640)\n",
      "\n",
      "image 1/1 /Users/codym/CAP/ai-starter-kit/yoda/data/sec-edgar-filings/NVDA/10-Q/0001045810-23-000175/full-submission/images/page_123.jpg: 640x512 (no detections), 73.8ms\n",
      "Speed: 0.2ms preprocess, 73.8ms inference, 0.2ms postprocess per image at shape (1, 3, 640, 640)\n",
      "\n"
     ]
    },
    {
     "name": "stdout",
     "output_type": "stream",
     "text": [
      "Cropping tables from /Users/codym/CAP/ai-starter-kit/yoda/data/sec-edgar-filings/NVDA/10-Q/0001045810-23-000175/full-submission/images/page_137.jpg\n",
      "Cropping tables from /Users/codym/CAP/ai-starter-kit/yoda/data/sec-edgar-filings/NVDA/10-Q/0001045810-23-000175/full-submission/images/page_123.jpg\n",
      "Cropping tables from /Users/codym/CAP/ai-starter-kit/yoda/data/sec-edgar-filings/NVDA/10-Q/0001045810-23-000175/full-submission/images/page_122.jpg\n"
     ]
    },
    {
     "name": "stderr",
     "output_type": "stream",
     "text": [
      "image 1/1 /Users/codym/CAP/ai-starter-kit/yoda/data/sec-edgar-filings/NVDA/10-Q/0001045810-23-000175/full-submission/images/page_122.jpg: 640x512 (no detections), 70.7ms\n",
      "Speed: 0.9ms preprocess, 70.7ms inference, 0.2ms postprocess per image at shape (1, 3, 640, 640)\n",
      "\n"
     ]
    },
    {
     "name": "stdout",
     "output_type": "stream",
     "text": [
      "Cropping tables from /Users/codym/CAP/ai-starter-kit/yoda/data/sec-edgar-filings/NVDA/10-Q/0001045810-23-000175/full-submission/images/page_136.jpg\n"
     ]
    },
    {
     "name": "stderr",
     "output_type": "stream",
     "text": [
      "image 1/1 /Users/codym/CAP/ai-starter-kit/yoda/data/sec-edgar-filings/NVDA/10-Q/0001045810-23-000175/full-submission/images/page_136.jpg: 640x512 (no detections), 187.8ms\n",
      "Speed: 0.5ms preprocess, 187.8ms inference, 0.2ms postprocess per image at shape (1, 3, 640, 640)\n",
      "\n",
      "image 1/1 /Users/codym/CAP/ai-starter-kit/yoda/data/sec-edgar-filings/NVDA/10-Q/0001045810-23-000175/full-submission/images/page_21.jpg: 640x512 (no detections), 82.2ms\n",
      "Speed: 0.3ms preprocess, 82.2ms inference, 0.2ms postprocess per image at shape (1, 3, 640, 640)\n",
      "\n",
      "image 1/1 /Users/codym/CAP/ai-starter-kit/yoda/data/sec-edgar-filings/NVDA/10-Q/0001045810-23-000175/full-submission/images/page_35.jpg: 640x512 (no detections), 69.3ms\n",
      "Speed: 0.2ms preprocess, 69.3ms inference, 0.2ms postprocess per image at shape (1, 3, 640, 640)\n",
      "\n"
     ]
    },
    {
     "name": "stdout",
     "output_type": "stream",
     "text": [
      "Cropping tables from /Users/codym/CAP/ai-starter-kit/yoda/data/sec-edgar-filings/NVDA/10-Q/0001045810-23-000175/full-submission/images/page_21.jpg\n",
      "Cropping tables from /Users/codym/CAP/ai-starter-kit/yoda/data/sec-edgar-filings/NVDA/10-Q/0001045810-23-000175/full-submission/images/page_35.jpg\n",
      "Cropping tables from /Users/codym/CAP/ai-starter-kit/yoda/data/sec-edgar-filings/NVDA/10-Q/0001045810-23-000175/full-submission/images/page_38.jpg\n"
     ]
    },
    {
     "name": "stderr",
     "output_type": "stream",
     "text": [
      "image 1/1 /Users/codym/CAP/ai-starter-kit/yoda/data/sec-edgar-filings/NVDA/10-Q/0001045810-23-000175/full-submission/images/page_38.jpg: 640x512 (no detections), 75.1ms\n",
      "Speed: 0.5ms preprocess, 75.1ms inference, 0.2ms postprocess per image at shape (1, 3, 640, 640)\n",
      "\n",
      "image 1/1 /Users/codym/CAP/ai-starter-kit/yoda/data/sec-edgar-filings/NVDA/10-Q/0001045810-23-000175/full-submission/images/page_10.jpg: 640x512 2 bordereds, 71.6ms\n",
      "Speed: 0.2ms preprocess, 71.6ms inference, 0.4ms postprocess per image at shape (1, 3, 640, 640)\n",
      "\n",
      "image 1/1 /Users/codym/CAP/ai-starter-kit/yoda/data/sec-edgar-filings/NVDA/10-Q/0001045810-23-000175/full-submission/images/page_113.jpg: 640x512 (no detections), 69.6ms\n",
      "Speed: 0.2ms preprocess, 69.6ms inference, 0.2ms postprocess per image at shape (1, 3, 640, 640)\n",
      "\n"
     ]
    },
    {
     "name": "stdout",
     "output_type": "stream",
     "text": [
      "Cropping tables from /Users/codym/CAP/ai-starter-kit/yoda/data/sec-edgar-filings/NVDA/10-Q/0001045810-23-000175/full-submission/images/page_10.jpg\n",
      "Cropping tables from /Users/codym/CAP/ai-starter-kit/yoda/data/sec-edgar-filings/NVDA/10-Q/0001045810-23-000175/full-submission/images/page_113.jpg\n",
      "Cropping tables from /Users/codym/CAP/ai-starter-kit/yoda/data/sec-edgar-filings/NVDA/10-Q/0001045810-23-000175/full-submission/images/page_107.jpg\n"
     ]
    },
    {
     "name": "stderr",
     "output_type": "stream",
     "text": [
      "image 1/1 /Users/codym/CAP/ai-starter-kit/yoda/data/sec-edgar-filings/NVDA/10-Q/0001045810-23-000175/full-submission/images/page_107.jpg: 640x512 (no detections), 69.6ms\n",
      "Speed: 0.2ms preprocess, 69.6ms inference, 0.2ms postprocess per image at shape (1, 3, 640, 640)\n",
      "\n",
      "image 1/1 /Users/codym/CAP/ai-starter-kit/yoda/data/sec-edgar-filings/NVDA/10-Q/0001045810-23-000175/full-submission/images/page_106.jpg: 640x512 (no detections), 69.4ms\n",
      "Speed: 0.6ms preprocess, 69.4ms inference, 0.2ms postprocess per image at shape (1, 3, 640, 640)\n",
      "\n",
      "image 1/1 /Users/codym/CAP/ai-starter-kit/yoda/data/sec-edgar-filings/NVDA/10-Q/0001045810-23-000175/full-submission/images/page_112.jpg: 640x512 (no detections), 67.7ms\n",
      "Speed: 4.9ms preprocess, 67.7ms inference, 0.2ms postprocess per image at shape (1, 3, 640, 640)\n",
      "\n"
     ]
    },
    {
     "name": "stdout",
     "output_type": "stream",
     "text": [
      "Cropping tables from /Users/codym/CAP/ai-starter-kit/yoda/data/sec-edgar-filings/NVDA/10-Q/0001045810-23-000175/full-submission/images/page_106.jpg\n",
      "Cropping tables from /Users/codym/CAP/ai-starter-kit/yoda/data/sec-edgar-filings/NVDA/10-Q/0001045810-23-000175/full-submission/images/page_112.jpg\n",
      "Cropping tables from /Users/codym/CAP/ai-starter-kit/yoda/data/sec-edgar-filings/NVDA/10-Q/0001045810-23-000175/full-submission/images/page_11.jpg\n"
     ]
    },
    {
     "name": "stderr",
     "output_type": "stream",
     "text": [
      "image 1/1 /Users/codym/CAP/ai-starter-kit/yoda/data/sec-edgar-filings/NVDA/10-Q/0001045810-23-000175/full-submission/images/page_11.jpg: 640x512 1 bordered, 70.2ms\n",
      "Speed: 0.2ms preprocess, 70.2ms inference, 0.4ms postprocess per image at shape (1, 3, 640, 640)\n",
      "\n",
      "image 1/1 /Users/codym/CAP/ai-starter-kit/yoda/data/sec-edgar-filings/NVDA/10-Q/0001045810-23-000175/full-submission/images/page_39.jpg: 640x512 (no detections), 71.0ms\n",
      "Speed: 0.3ms preprocess, 71.0ms inference, 0.2ms postprocess per image at shape (1, 3, 640, 640)\n",
      "\n",
      "image 1/1 /Users/codym/CAP/ai-starter-kit/yoda/data/sec-edgar-filings/NVDA/10-Q/0001045810-23-000175/full-submission/images/page_13.jpg: 640x512 4 bordereds, 69.4ms\n",
      "Speed: 0.2ms preprocess, 69.4ms inference, 0.4ms postprocess per image at shape (1, 3, 640, 640)\n",
      "\n"
     ]
    },
    {
     "name": "stdout",
     "output_type": "stream",
     "text": [
      "Cropping tables from /Users/codym/CAP/ai-starter-kit/yoda/data/sec-edgar-filings/NVDA/10-Q/0001045810-23-000175/full-submission/images/page_39.jpg\n",
      "Cropping tables from /Users/codym/CAP/ai-starter-kit/yoda/data/sec-edgar-filings/NVDA/10-Q/0001045810-23-000175/full-submission/images/page_13.jpg\n",
      "Cropping tables from /Users/codym/CAP/ai-starter-kit/yoda/data/sec-edgar-filings/NVDA/10-Q/0001045810-23-000175/full-submission/images/page_138.jpg\n"
     ]
    },
    {
     "name": "stderr",
     "output_type": "stream",
     "text": [
      "image 1/1 /Users/codym/CAP/ai-starter-kit/yoda/data/sec-edgar-filings/NVDA/10-Q/0001045810-23-000175/full-submission/images/page_138.jpg: 640x512 (no detections), 70.3ms\n",
      "Speed: 0.2ms preprocess, 70.3ms inference, 0.2ms postprocess per image at shape (1, 3, 640, 640)\n",
      "\n",
      "image 1/1 /Users/codym/CAP/ai-starter-kit/yoda/data/sec-edgar-filings/NVDA/10-Q/0001045810-23-000175/full-submission/images/page_104.jpg: 640x512 (no detections), 70.4ms\n",
      "Speed: 0.3ms preprocess, 70.4ms inference, 0.2ms postprocess per image at shape (1, 3, 640, 640)\n",
      "\n",
      "image 1/1 /Users/codym/CAP/ai-starter-kit/yoda/data/sec-edgar-filings/NVDA/10-Q/0001045810-23-000175/full-submission/images/page_110.jpg: 640x512 (no detections), 69.0ms\n",
      "Speed: 0.2ms preprocess, 69.0ms inference, 0.2ms postprocess per image at shape (1, 3, 640, 640)\n",
      "\n"
     ]
    },
    {
     "name": "stdout",
     "output_type": "stream",
     "text": [
      "Cropping tables from /Users/codym/CAP/ai-starter-kit/yoda/data/sec-edgar-filings/NVDA/10-Q/0001045810-23-000175/full-submission/images/page_104.jpg\n",
      "Cropping tables from /Users/codym/CAP/ai-starter-kit/yoda/data/sec-edgar-filings/NVDA/10-Q/0001045810-23-000175/full-submission/images/page_110.jpg\n",
      "Cropping tables from /Users/codym/CAP/ai-starter-kit/yoda/data/sec-edgar-filings/NVDA/10-Q/0001045810-23-000175/full-submission/images/page_111.jpg\n"
     ]
    },
    {
     "name": "stderr",
     "output_type": "stream",
     "text": [
      "image 1/1 /Users/codym/CAP/ai-starter-kit/yoda/data/sec-edgar-filings/NVDA/10-Q/0001045810-23-000175/full-submission/images/page_111.jpg: 640x512 (no detections), 83.2ms\n",
      "Speed: 0.2ms preprocess, 83.2ms inference, 0.2ms postprocess per image at shape (1, 3, 640, 640)\n",
      "\n",
      "image 1/1 /Users/codym/CAP/ai-starter-kit/yoda/data/sec-edgar-filings/NVDA/10-Q/0001045810-23-000175/full-submission/images/page_105.jpg: 640x512 (no detections), 67.8ms\n",
      "Speed: 0.2ms preprocess, 67.8ms inference, 0.2ms postprocess per image at shape (1, 3, 640, 640)\n",
      "\n",
      "image 1/1 /Users/codym/CAP/ai-starter-kit/yoda/data/sec-edgar-filings/NVDA/10-Q/0001045810-23-000175/full-submission/images/page_139.jpg: 640x512 (no detections), 68.3ms\n",
      "Speed: 0.2ms preprocess, 68.3ms inference, 0.2ms postprocess per image at shape (1, 3, 640, 640)\n",
      "\n"
     ]
    },
    {
     "name": "stdout",
     "output_type": "stream",
     "text": [
      "Cropping tables from /Users/codym/CAP/ai-starter-kit/yoda/data/sec-edgar-filings/NVDA/10-Q/0001045810-23-000175/full-submission/images/page_105.jpg\n",
      "Cropping tables from /Users/codym/CAP/ai-starter-kit/yoda/data/sec-edgar-filings/NVDA/10-Q/0001045810-23-000175/full-submission/images/page_139.jpg\n",
      "Cropping tables from /Users/codym/CAP/ai-starter-kit/yoda/data/sec-edgar-filings/NVDA/10-Q/0001045810-23-000175/full-submission/images/page_12.jpg\n"
     ]
    },
    {
     "name": "stderr",
     "output_type": "stream",
     "text": [
      "image 1/1 /Users/codym/CAP/ai-starter-kit/yoda/data/sec-edgar-filings/NVDA/10-Q/0001045810-23-000175/full-submission/images/page_12.jpg: 640x512 2 borderlesss, 72.7ms\n",
      "Speed: 0.2ms preprocess, 72.7ms inference, 0.4ms postprocess per image at shape (1, 3, 640, 640)\n",
      "\n",
      "image 1/1 /Users/codym/CAP/ai-starter-kit/yoda/data/sec-edgar-filings/NVDA/10-Q/0001045810-23-000175/full-submission/images/page_16.jpg: 640x512 3 bordereds, 89.2ms\n",
      "Speed: 8.3ms preprocess, 89.2ms inference, 0.4ms postprocess per image at shape (1, 3, 640, 640)\n",
      "\n"
     ]
    },
    {
     "name": "stdout",
     "output_type": "stream",
     "text": [
      "Cropping tables from /Users/codym/CAP/ai-starter-kit/yoda/data/sec-edgar-filings/NVDA/10-Q/0001045810-23-000175/full-submission/images/page_16.jpg\n",
      "Cropping tables from /Users/codym/CAP/ai-starter-kit/yoda/data/sec-edgar-filings/NVDA/10-Q/0001045810-23-000175/full-submission/images/page_101.jpg\n"
     ]
    },
    {
     "name": "stderr",
     "output_type": "stream",
     "text": [
      "image 1/1 /Users/codym/CAP/ai-starter-kit/yoda/data/sec-edgar-filings/NVDA/10-Q/0001045810-23-000175/full-submission/images/page_101.jpg: 640x512 (no detections), 72.5ms\n",
      "Speed: 0.2ms preprocess, 72.5ms inference, 0.2ms postprocess per image at shape (1, 3, 640, 640)\n",
      "\n",
      "image 1/1 /Users/codym/CAP/ai-starter-kit/yoda/data/sec-edgar-filings/NVDA/10-Q/0001045810-23-000175/full-submission/images/page_115.jpg: 640x512 (no detections), 67.4ms\n",
      "Speed: 0.2ms preprocess, 67.4ms inference, 0.2ms postprocess per image at shape (1, 3, 640, 640)\n",
      "\n",
      "image 1/1 /Users/codym/CAP/ai-starter-kit/yoda/data/sec-edgar-filings/NVDA/10-Q/0001045810-23-000175/full-submission/images/page_129.jpg: 640x512 (no detections), 70.1ms\n",
      "Speed: 0.2ms preprocess, 70.1ms inference, 0.2ms postprocess per image at shape (1, 3, 640, 640)\n",
      "\n"
     ]
    },
    {
     "name": "stdout",
     "output_type": "stream",
     "text": [
      "Cropping tables from /Users/codym/CAP/ai-starter-kit/yoda/data/sec-edgar-filings/NVDA/10-Q/0001045810-23-000175/full-submission/images/page_115.jpg\n",
      "Cropping tables from /Users/codym/CAP/ai-starter-kit/yoda/data/sec-edgar-filings/NVDA/10-Q/0001045810-23-000175/full-submission/images/page_129.jpg\n",
      "Cropping tables from /Users/codym/CAP/ai-starter-kit/yoda/data/sec-edgar-filings/NVDA/10-Q/0001045810-23-000175/full-submission/images/page_128.jpg\n"
     ]
    },
    {
     "name": "stderr",
     "output_type": "stream",
     "text": [
      "image 1/1 /Users/codym/CAP/ai-starter-kit/yoda/data/sec-edgar-filings/NVDA/10-Q/0001045810-23-000175/full-submission/images/page_128.jpg: 640x512 (no detections), 74.3ms\n",
      "Speed: 2.3ms preprocess, 74.3ms inference, 0.2ms postprocess per image at shape (1, 3, 640, 640)\n",
      "\n",
      "image 1/1 /Users/codym/CAP/ai-starter-kit/yoda/data/sec-edgar-filings/NVDA/10-Q/0001045810-23-000175/full-submission/images/page_114.jpg: 640x512 (no detections), 79.3ms\n",
      "Speed: 0.1ms preprocess, 79.3ms inference, 0.2ms postprocess per image at shape (1, 3, 640, 640)\n",
      "\n"
     ]
    },
    {
     "name": "stdout",
     "output_type": "stream",
     "text": [
      "Cropping tables from /Users/codym/CAP/ai-starter-kit/yoda/data/sec-edgar-filings/NVDA/10-Q/0001045810-23-000175/full-submission/images/page_114.jpg\n",
      "Cropping tables from /Users/codym/CAP/ai-starter-kit/yoda/data/sec-edgar-filings/NVDA/10-Q/0001045810-23-000175/full-submission/images/page_100.jpg\n"
     ]
    },
    {
     "name": "stderr",
     "output_type": "stream",
     "text": [
      "image 1/1 /Users/codym/CAP/ai-starter-kit/yoda/data/sec-edgar-filings/NVDA/10-Q/0001045810-23-000175/full-submission/images/page_100.jpg: 640x512 (no detections), 83.5ms\n",
      "Speed: 0.2ms preprocess, 83.5ms inference, 0.2ms postprocess per image at shape (1, 3, 640, 640)\n",
      "\n",
      "image 1/1 /Users/codym/CAP/ai-starter-kit/yoda/data/sec-edgar-filings/NVDA/10-Q/0001045810-23-000175/full-submission/images/page_17.jpg: 640x512 1 borderless, 69.2ms\n",
      "Speed: 0.3ms preprocess, 69.2ms inference, 0.4ms postprocess per image at shape (1, 3, 640, 640)\n",
      "\n",
      "image 1/1 /Users/codym/CAP/ai-starter-kit/yoda/data/sec-edgar-filings/NVDA/10-Q/0001045810-23-000175/full-submission/images/page_15.jpg: 640x512 2 bordereds, 94.8ms\n",
      "Speed: 0.2ms preprocess, 94.8ms inference, 0.4ms postprocess per image at shape (1, 3, 640, 640)\n"
     ]
    },
    {
     "name": "stdout",
     "output_type": "stream",
     "text": [
      "Cropping tables from /Users/codym/CAP/ai-starter-kit/yoda/data/sec-edgar-filings/NVDA/10-Q/0001045810-23-000175/full-submission/images/page_17.jpg\n",
      "Cropping tables from /Users/codym/CAP/ai-starter-kit/yoda/data/sec-edgar-filings/NVDA/10-Q/0001045810-23-000175/full-submission/images/page_15.jpg\n"
     ]
    },
    {
     "name": "stderr",
     "output_type": "stream",
     "text": [
      "\n",
      "image 1/1 /Users/codym/CAP/ai-starter-kit/yoda/data/sec-edgar-filings/NVDA/10-Q/0001045810-23-000175/full-submission/images/page_29.jpg: 640x512 2 borderlesss, 82.3ms\n",
      "Speed: 8.4ms preprocess, 82.3ms inference, 0.4ms postprocess per image at shape (1, 3, 640, 640)\n",
      "\n"
     ]
    },
    {
     "name": "stdout",
     "output_type": "stream",
     "text": [
      "Cropping tables from /Users/codym/CAP/ai-starter-kit/yoda/data/sec-edgar-filings/NVDA/10-Q/0001045810-23-000175/full-submission/images/page_29.jpg\n",
      "Cropping tables from /Users/codym/CAP/ai-starter-kit/yoda/data/sec-edgar-filings/NVDA/10-Q/0001045810-23-000175/full-submission/images/page_116.jpg\n"
     ]
    },
    {
     "name": "stderr",
     "output_type": "stream",
     "text": [
      "image 1/1 /Users/codym/CAP/ai-starter-kit/yoda/data/sec-edgar-filings/NVDA/10-Q/0001045810-23-000175/full-submission/images/page_116.jpg: 640x512 (no detections), 72.1ms\n",
      "Speed: 0.2ms preprocess, 72.1ms inference, 0.2ms postprocess per image at shape (1, 3, 640, 640)\n",
      "\n",
      "image 1/1 /Users/codym/CAP/ai-starter-kit/yoda/data/sec-edgar-filings/NVDA/10-Q/0001045810-23-000175/full-submission/images/page_102.jpg: 640x512 (no detections), 72.8ms\n",
      "Speed: 0.2ms preprocess, 72.8ms inference, 0.2ms postprocess per image at shape (1, 3, 640, 640)\n",
      "\n",
      "image 1/1 /Users/codym/CAP/ai-starter-kit/yoda/data/sec-edgar-filings/NVDA/10-Q/0001045810-23-000175/full-submission/images/page_103.jpg: 640x512 (no detections), 67.1ms\n",
      "Speed: 0.2ms preprocess, 67.1ms inference, 0.2ms postprocess per image at shape (1, 3, 640, 640)\n",
      "\n"
     ]
    },
    {
     "name": "stdout",
     "output_type": "stream",
     "text": [
      "Cropping tables from /Users/codym/CAP/ai-starter-kit/yoda/data/sec-edgar-filings/NVDA/10-Q/0001045810-23-000175/full-submission/images/page_102.jpg\n",
      "Cropping tables from /Users/codym/CAP/ai-starter-kit/yoda/data/sec-edgar-filings/NVDA/10-Q/0001045810-23-000175/full-submission/images/page_103.jpg\n",
      "Cropping tables from /Users/codym/CAP/ai-starter-kit/yoda/data/sec-edgar-filings/NVDA/10-Q/0001045810-23-000175/full-submission/images/page_117.jpg\n"
     ]
    },
    {
     "name": "stderr",
     "output_type": "stream",
     "text": [
      "image 1/1 /Users/codym/CAP/ai-starter-kit/yoda/data/sec-edgar-filings/NVDA/10-Q/0001045810-23-000175/full-submission/images/page_117.jpg: 640x512 (no detections), 72.0ms\n",
      "Speed: 0.2ms preprocess, 72.0ms inference, 0.2ms postprocess per image at shape (1, 3, 640, 640)\n",
      "\n",
      "image 1/1 /Users/codym/CAP/ai-starter-kit/yoda/data/sec-edgar-filings/NVDA/10-Q/0001045810-23-000175/full-submission/images/page_28.jpg: 640x512 1 borderless, 97.3ms\n",
      "Speed: 0.3ms preprocess, 97.3ms inference, 0.4ms postprocess per image at shape (1, 3, 640, 640)\n",
      "\n",
      "image 1/1 /Users/codym/CAP/ai-starter-kit/yoda/data/sec-edgar-filings/NVDA/10-Q/0001045810-23-000175/full-submission/images/page_14.jpg: 640x512 1 bordered, 1 borderless, 70.7ms\n",
      "Speed: 0.2ms preprocess, 70.7ms inference, 0.4ms postprocess per image at shape (1, 3, 640, 640)\n",
      "\n"
     ]
    },
    {
     "name": "stdout",
     "output_type": "stream",
     "text": [
      "Cropping tables from /Users/codym/CAP/ai-starter-kit/yoda/data/sec-edgar-filings/NVDA/10-Q/0001045810-23-000175/full-submission/images/page_28.jpg\n",
      "Cropping tables from /Users/codym/CAP/ai-starter-kit/yoda/data/sec-edgar-filings/NVDA/10-Q/0001045810-23-000175/full-submission/images/page_14.jpg\n",
      "Cropping tables from /Users/codym/CAP/ai-starter-kit/yoda/data/sec-edgar-filings/NVDA/10-Q/0001045810-23-000175/full-submission/images/page_98.jpg\n"
     ]
    },
    {
     "name": "stderr",
     "output_type": "stream",
     "text": [
      "image 1/1 /Users/codym/CAP/ai-starter-kit/yoda/data/sec-edgar-filings/NVDA/10-Q/0001045810-23-000175/full-submission/images/page_98.jpg: 640x512 (no detections), 64.1ms\n",
      "Speed: 0.2ms preprocess, 64.1ms inference, 0.2ms postprocess per image at shape (1, 3, 640, 640)\n",
      "\n",
      "image 1/1 /Users/codym/CAP/ai-starter-kit/yoda/data/sec-edgar-filings/NVDA/10-Q/0001045810-23-000175/full-submission/images/page_73.jpg: 640x512 (no detections), 73.3ms\n",
      "Speed: 0.2ms preprocess, 73.3ms inference, 0.2ms postprocess per image at shape (1, 3, 640, 640)\n",
      "\n",
      "image 1/1 /Users/codym/CAP/ai-starter-kit/yoda/data/sec-edgar-filings/NVDA/10-Q/0001045810-23-000175/full-submission/images/page_67.jpg: 640x512 3 bordereds, 67.8ms\n",
      "Speed: 0.5ms preprocess, 67.8ms inference, 0.4ms postprocess per image at shape (1, 3, 640, 640)\n",
      "\n"
     ]
    },
    {
     "name": "stdout",
     "output_type": "stream",
     "text": [
      "Cropping tables from /Users/codym/CAP/ai-starter-kit/yoda/data/sec-edgar-filings/NVDA/10-Q/0001045810-23-000175/full-submission/images/page_73.jpg\n",
      "Cropping tables from /Users/codym/CAP/ai-starter-kit/yoda/data/sec-edgar-filings/NVDA/10-Q/0001045810-23-000175/full-submission/images/page_67.jpg\n",
      "Cropping tables from /Users/codym/CAP/ai-starter-kit/yoda/data/sec-edgar-filings/NVDA/10-Q/0001045810-23-000175/full-submission/images/page_206.jpg\n"
     ]
    },
    {
     "name": "stderr",
     "output_type": "stream",
     "text": [
      "image 1/1 /Users/codym/CAP/ai-starter-kit/yoda/data/sec-edgar-filings/NVDA/10-Q/0001045810-23-000175/full-submission/images/page_206.jpg: 640x512 (no detections), 65.4ms\n",
      "Speed: 0.2ms preprocess, 65.4ms inference, 0.2ms postprocess per image at shape (1, 3, 640, 640)\n",
      "\n",
      "image 1/1 /Users/codym/CAP/ai-starter-kit/yoda/data/sec-edgar-filings/NVDA/10-Q/0001045810-23-000175/full-submission/images/page_212.jpg: 640x512 (no detections), 67.1ms\n",
      "Speed: 0.6ms preprocess, 67.1ms inference, 0.2ms postprocess per image at shape (1, 3, 640, 640)\n",
      "\n",
      "image 1/1 /Users/codym/CAP/ai-starter-kit/yoda/data/sec-edgar-filings/NVDA/10-Q/0001045810-23-000175/full-submission/images/page_158.jpg: 640x512 (no detections), 67.9ms\n",
      "Speed: 0.2ms preprocess, 67.9ms inference, 0.2ms postprocess per image at shape (1, 3, 640, 640)\n",
      "\n"
     ]
    },
    {
     "name": "stdout",
     "output_type": "stream",
     "text": [
      "Cropping tables from /Users/codym/CAP/ai-starter-kit/yoda/data/sec-edgar-filings/NVDA/10-Q/0001045810-23-000175/full-submission/images/page_212.jpg\n",
      "Cropping tables from /Users/codym/CAP/ai-starter-kit/yoda/data/sec-edgar-filings/NVDA/10-Q/0001045810-23-000175/full-submission/images/page_158.jpg\n",
      "Cropping tables from /Users/codym/CAP/ai-starter-kit/yoda/data/sec-edgar-filings/NVDA/10-Q/0001045810-23-000175/full-submission/images/page_170.jpg\n"
     ]
    },
    {
     "name": "stderr",
     "output_type": "stream",
     "text": [
      "image 1/1 /Users/codym/CAP/ai-starter-kit/yoda/data/sec-edgar-filings/NVDA/10-Q/0001045810-23-000175/full-submission/images/page_170.jpg: 640x512 (no detections), 158.6ms\n",
      "Speed: 0.2ms preprocess, 158.6ms inference, 0.2ms postprocess per image at shape (1, 3, 640, 640)\n",
      "\n",
      "image 1/1 /Users/codym/CAP/ai-starter-kit/yoda/data/sec-edgar-filings/NVDA/10-Q/0001045810-23-000175/full-submission/images/page_164.jpg: 640x512 (no detections), 67.0ms\n",
      "Speed: 0.5ms preprocess, 67.0ms inference, 0.2ms postprocess per image at shape (1, 3, 640, 640)\n",
      "\n",
      "image 1/1 /Users/codym/CAP/ai-starter-kit/yoda/data/sec-edgar-filings/NVDA/10-Q/0001045810-23-000175/full-submission/images/page_165.jpg: 640x512 (no detections), 82.7ms\n",
      "Speed: 0.2ms preprocess, 82.7ms inference, 0.2ms postprocess per image at shape (1, 3, 640, 640)\n",
      "\n"
     ]
    },
    {
     "name": "stdout",
     "output_type": "stream",
     "text": [
      "Cropping tables from /Users/codym/CAP/ai-starter-kit/yoda/data/sec-edgar-filings/NVDA/10-Q/0001045810-23-000175/full-submission/images/page_164.jpg\n",
      "Cropping tables from /Users/codym/CAP/ai-starter-kit/yoda/data/sec-edgar-filings/NVDA/10-Q/0001045810-23-000175/full-submission/images/page_165.jpg\n",
      "Cropping tables from /Users/codym/CAP/ai-starter-kit/yoda/data/sec-edgar-filings/NVDA/10-Q/0001045810-23-000175/full-submission/images/page_171.jpg\n"
     ]
    },
    {
     "name": "stderr",
     "output_type": "stream",
     "text": [
      "image 1/1 /Users/codym/CAP/ai-starter-kit/yoda/data/sec-edgar-filings/NVDA/10-Q/0001045810-23-000175/full-submission/images/page_171.jpg: 640x512 (no detections), 68.0ms\n",
      "Speed: 0.2ms preprocess, 68.0ms inference, 0.2ms postprocess per image at shape (1, 3, 640, 640)\n",
      "\n",
      "image 1/1 /Users/codym/CAP/ai-starter-kit/yoda/data/sec-edgar-filings/NVDA/10-Q/0001045810-23-000175/full-submission/images/page_159.jpg: 640x512 (no detections), 68.5ms\n",
      "Speed: 0.6ms preprocess, 68.5ms inference, 0.2ms postprocess per image at shape (1, 3, 640, 640)\n",
      "\n",
      "image 1/1 /Users/codym/CAP/ai-starter-kit/yoda/data/sec-edgar-filings/NVDA/10-Q/0001045810-23-000175/full-submission/images/page_213.jpg: 640x512 (no detections), 71.0ms\n",
      "Speed: 0.2ms preprocess, 71.0ms inference, 0.2ms postprocess per image at shape (1, 3, 640, 640)\n",
      "\n"
     ]
    },
    {
     "name": "stdout",
     "output_type": "stream",
     "text": [
      "Cropping tables from /Users/codym/CAP/ai-starter-kit/yoda/data/sec-edgar-filings/NVDA/10-Q/0001045810-23-000175/full-submission/images/page_159.jpg\n",
      "Cropping tables from /Users/codym/CAP/ai-starter-kit/yoda/data/sec-edgar-filings/NVDA/10-Q/0001045810-23-000175/full-submission/images/page_213.jpg\n",
      "Cropping tables from /Users/codym/CAP/ai-starter-kit/yoda/data/sec-edgar-filings/NVDA/10-Q/0001045810-23-000175/full-submission/images/page_207.jpg\n"
     ]
    },
    {
     "name": "stderr",
     "output_type": "stream",
     "text": [
      "image 1/1 /Users/codym/CAP/ai-starter-kit/yoda/data/sec-edgar-filings/NVDA/10-Q/0001045810-23-000175/full-submission/images/page_207.jpg: 640x512 (no detections), 70.2ms\n",
      "Speed: 9.5ms preprocess, 70.2ms inference, 0.2ms postprocess per image at shape (1, 3, 640, 640)\n",
      "\n",
      "image 1/1 /Users/codym/CAP/ai-starter-kit/yoda/data/sec-edgar-filings/NVDA/10-Q/0001045810-23-000175/full-submission/images/page_66.jpg: 640x512 2 borderlesss, 72.1ms\n",
      "Speed: 0.2ms preprocess, 72.1ms inference, 0.4ms postprocess per image at shape (1, 3, 640, 640)\n",
      "\n",
      "image 1/1 /Users/codym/CAP/ai-starter-kit/yoda/data/sec-edgar-filings/NVDA/10-Q/0001045810-23-000175/full-submission/images/page_72.jpg: 640x512 1 bordered, 4 borderlesss, 66.8ms\n",
      "Speed: 0.7ms preprocess, 66.8ms inference, 0.4ms postprocess per image at shape (1, 3, 640, 640)\n",
      "\n"
     ]
    },
    {
     "name": "stdout",
     "output_type": "stream",
     "text": [
      "Cropping tables from /Users/codym/CAP/ai-starter-kit/yoda/data/sec-edgar-filings/NVDA/10-Q/0001045810-23-000175/full-submission/images/page_66.jpg\n",
      "Cropping tables from /Users/codym/CAP/ai-starter-kit/yoda/data/sec-edgar-filings/NVDA/10-Q/0001045810-23-000175/full-submission/images/page_72.jpg\n",
      "Cropping tables from /Users/codym/CAP/ai-starter-kit/yoda/data/sec-edgar-filings/NVDA/10-Q/0001045810-23-000175/full-submission/images/page_99.jpg\n"
     ]
    },
    {
     "name": "stderr",
     "output_type": "stream",
     "text": [
      "image 1/1 /Users/codym/CAP/ai-starter-kit/yoda/data/sec-edgar-filings/NVDA/10-Q/0001045810-23-000175/full-submission/images/page_99.jpg: 640x512 (no detections), 71.0ms\n",
      "Speed: 0.2ms preprocess, 71.0ms inference, 0.2ms postprocess per image at shape (1, 3, 640, 640)\n",
      "\n",
      "image 1/1 /Users/codym/CAP/ai-starter-kit/yoda/data/sec-edgar-filings/NVDA/10-Q/0001045810-23-000175/full-submission/images/page_58.jpg: 640x512 3 bordereds, 74.4ms\n",
      "Speed: 0.3ms preprocess, 74.4ms inference, 0.4ms postprocess per image at shape (1, 3, 640, 640)\n",
      "\n",
      "image 1/1 /Users/codym/CAP/ai-starter-kit/yoda/data/sec-edgar-filings/NVDA/10-Q/0001045810-23-000175/full-submission/images/page_64.jpg: 640x512 1 bordered, 65.1ms\n",
      "Speed: 0.3ms preprocess, 65.1ms inference, 0.4ms postprocess per image at shape (1, 3, 640, 640)\n",
      "\n"
     ]
    },
    {
     "name": "stdout",
     "output_type": "stream",
     "text": [
      "Cropping tables from /Users/codym/CAP/ai-starter-kit/yoda/data/sec-edgar-filings/NVDA/10-Q/0001045810-23-000175/full-submission/images/page_58.jpg\n",
      "Cropping tables from /Users/codym/CAP/ai-starter-kit/yoda/data/sec-edgar-filings/NVDA/10-Q/0001045810-23-000175/full-submission/images/page_64.jpg\n",
      "Cropping tables from /Users/codym/CAP/ai-starter-kit/yoda/data/sec-edgar-filings/NVDA/10-Q/0001045810-23-000175/full-submission/images/page_70.jpg\n"
     ]
    },
    {
     "name": "stderr",
     "output_type": "stream",
     "text": [
      "image 1/1 /Users/codym/CAP/ai-starter-kit/yoda/data/sec-edgar-filings/NVDA/10-Q/0001045810-23-000175/full-submission/images/page_70.jpg: 640x512 3 bordereds, 1 borderless, 69.3ms\n",
      "Speed: 0.2ms preprocess, 69.3ms inference, 0.4ms postprocess per image at shape (1, 3, 640, 640)\n",
      "\n",
      "image 1/1 /Users/codym/CAP/ai-starter-kit/yoda/data/sec-edgar-filings/NVDA/10-Q/0001045810-23-000175/full-submission/images/page_211.jpg: 640x512 (no detections), 72.8ms\n",
      "Speed: 0.2ms preprocess, 72.8ms inference, 0.2ms postprocess per image at shape (1, 3, 640, 640)\n",
      "\n",
      "image 1/1 /Users/codym/CAP/ai-starter-kit/yoda/data/sec-edgar-filings/NVDA/10-Q/0001045810-23-000175/full-submission/images/page_205.jpg: 640x512 (no detections), 67.9ms\n",
      "Speed: 0.2ms preprocess, 67.9ms inference, 0.2ms postprocess per image at shape (1, 3, 640, 640)\n",
      "\n"
     ]
    },
    {
     "name": "stdout",
     "output_type": "stream",
     "text": [
      "Cropping tables from /Users/codym/CAP/ai-starter-kit/yoda/data/sec-edgar-filings/NVDA/10-Q/0001045810-23-000175/full-submission/images/page_211.jpg\n",
      "Cropping tables from /Users/codym/CAP/ai-starter-kit/yoda/data/sec-edgar-filings/NVDA/10-Q/0001045810-23-000175/full-submission/images/page_205.jpg\n",
      "Cropping tables from /Users/codym/CAP/ai-starter-kit/yoda/data/sec-edgar-filings/NVDA/10-Q/0001045810-23-000175/full-submission/images/page_198.jpg\n"
     ]
    },
    {
     "name": "stderr",
     "output_type": "stream",
     "text": [
      "image 1/1 /Users/codym/CAP/ai-starter-kit/yoda/data/sec-edgar-filings/NVDA/10-Q/0001045810-23-000175/full-submission/images/page_198.jpg: 640x512 (no detections), 68.8ms\n",
      "Speed: 0.2ms preprocess, 68.8ms inference, 0.2ms postprocess per image at shape (1, 3, 640, 640)\n",
      "\n",
      "image 1/1 /Users/codym/CAP/ai-starter-kit/yoda/data/sec-edgar-filings/NVDA/10-Q/0001045810-23-000175/full-submission/images/page_8.jpg: 640x512 (no detections), 70.6ms\n",
      "Speed: 0.3ms preprocess, 70.6ms inference, 0.2ms postprocess per image at shape (1, 3, 640, 640)\n",
      "\n",
      "image 1/1 /Users/codym/CAP/ai-starter-kit/yoda/data/sec-edgar-filings/NVDA/10-Q/0001045810-23-000175/full-submission/images/page_167.jpg: 640x512 (no detections), 66.1ms\n",
      "Speed: 0.2ms preprocess, 66.1ms inference, 0.2ms postprocess per image at shape (1, 3, 640, 640)\n",
      "\n"
     ]
    },
    {
     "name": "stdout",
     "output_type": "stream",
     "text": [
      "Cropping tables from /Users/codym/CAP/ai-starter-kit/yoda/data/sec-edgar-filings/NVDA/10-Q/0001045810-23-000175/full-submission/images/page_8.jpg\n",
      "Cropping tables from /Users/codym/CAP/ai-starter-kit/yoda/data/sec-edgar-filings/NVDA/10-Q/0001045810-23-000175/full-submission/images/page_167.jpg\n",
      "Cropping tables from /Users/codym/CAP/ai-starter-kit/yoda/data/sec-edgar-filings/NVDA/10-Q/0001045810-23-000175/full-submission/images/page_173.jpg\n"
     ]
    },
    {
     "name": "stderr",
     "output_type": "stream",
     "text": [
      "image 1/1 /Users/codym/CAP/ai-starter-kit/yoda/data/sec-edgar-filings/NVDA/10-Q/0001045810-23-000175/full-submission/images/page_173.jpg: 640x512 (no detections), 71.9ms\n",
      "Speed: 0.5ms preprocess, 71.9ms inference, 0.2ms postprocess per image at shape (1, 3, 640, 640)\n",
      "\n",
      "image 1/1 /Users/codym/CAP/ai-starter-kit/yoda/data/sec-edgar-filings/NVDA/10-Q/0001045810-23-000175/full-submission/images/page_172.jpg: 640x512 (no detections), 85.8ms\n",
      "Speed: 0.3ms preprocess, 85.8ms inference, 0.2ms postprocess per image at shape (1, 3, 640, 640)\n",
      "\n",
      "image 1/1 /Users/codym/CAP/ai-starter-kit/yoda/data/sec-edgar-filings/NVDA/10-Q/0001045810-23-000175/full-submission/images/page_166.jpg: 640x512 1 borderless, 68.3ms\n",
      "Speed: 0.2ms preprocess, 68.3ms inference, 0.4ms postprocess per image at shape (1, 3, 640, 640)\n",
      "\n"
     ]
    },
    {
     "name": "stdout",
     "output_type": "stream",
     "text": [
      "Cropping tables from /Users/codym/CAP/ai-starter-kit/yoda/data/sec-edgar-filings/NVDA/10-Q/0001045810-23-000175/full-submission/images/page_172.jpg\n",
      "Cropping tables from /Users/codym/CAP/ai-starter-kit/yoda/data/sec-edgar-filings/NVDA/10-Q/0001045810-23-000175/full-submission/images/page_166.jpg\n",
      "Cropping tables from /Users/codym/CAP/ai-starter-kit/yoda/data/sec-edgar-filings/NVDA/10-Q/0001045810-23-000175/full-submission/images/page_199.jpg\n"
     ]
    },
    {
     "name": "stderr",
     "output_type": "stream",
     "text": [
      "image 1/1 /Users/codym/CAP/ai-starter-kit/yoda/data/sec-edgar-filings/NVDA/10-Q/0001045810-23-000175/full-submission/images/page_199.jpg: 640x512 (no detections), 72.8ms\n",
      "Speed: 0.2ms preprocess, 72.8ms inference, 0.2ms postprocess per image at shape (1, 3, 640, 640)\n",
      "\n",
      "image 1/1 /Users/codym/CAP/ai-starter-kit/yoda/data/sec-edgar-filings/NVDA/10-Q/0001045810-23-000175/full-submission/images/page_9.jpg: 640x512 1 bordered, 150.0ms\n",
      "Speed: 0.2ms preprocess, 150.0ms inference, 0.4ms postprocess per image at shape (1, 3, 640, 640)\n",
      "\n"
     ]
    },
    {
     "name": "stdout",
     "output_type": "stream",
     "text": [
      "Cropping tables from /Users/codym/CAP/ai-starter-kit/yoda/data/sec-edgar-filings/NVDA/10-Q/0001045810-23-000175/full-submission/images/page_9.jpg\n",
      "Cropping tables from /Users/codym/CAP/ai-starter-kit/yoda/data/sec-edgar-filings/NVDA/10-Q/0001045810-23-000175/full-submission/images/page_204.jpg\n"
     ]
    },
    {
     "name": "stderr",
     "output_type": "stream",
     "text": [
      "image 1/1 /Users/codym/CAP/ai-starter-kit/yoda/data/sec-edgar-filings/NVDA/10-Q/0001045810-23-000175/full-submission/images/page_204.jpg: 640x512 (no detections), 84.4ms\n",
      "Speed: 0.2ms preprocess, 84.4ms inference, 0.2ms postprocess per image at shape (1, 3, 640, 640)\n",
      "\n",
      "image 1/1 /Users/codym/CAP/ai-starter-kit/yoda/data/sec-edgar-filings/NVDA/10-Q/0001045810-23-000175/full-submission/images/page_210.jpg: 640x512 (no detections), 68.7ms\n",
      "Speed: 0.5ms preprocess, 68.7ms inference, 0.2ms postprocess per image at shape (1, 3, 640, 640)\n",
      "\n",
      "image 1/1 /Users/codym/CAP/ai-starter-kit/yoda/data/sec-edgar-filings/NVDA/10-Q/0001045810-23-000175/full-submission/images/page_238.jpg: 640x512 (no detections), 70.4ms\n",
      "Speed: 0.2ms preprocess, 70.4ms inference, 0.2ms postprocess per image at shape (1, 3, 640, 640)\n",
      "\n"
     ]
    },
    {
     "name": "stdout",
     "output_type": "stream",
     "text": [
      "Cropping tables from /Users/codym/CAP/ai-starter-kit/yoda/data/sec-edgar-filings/NVDA/10-Q/0001045810-23-000175/full-submission/images/page_210.jpg\n",
      "Cropping tables from /Users/codym/CAP/ai-starter-kit/yoda/data/sec-edgar-filings/NVDA/10-Q/0001045810-23-000175/full-submission/images/page_238.jpg\n",
      "Cropping tables from /Users/codym/CAP/ai-starter-kit/yoda/data/sec-edgar-filings/NVDA/10-Q/0001045810-23-000175/full-submission/images/page_71.jpg\n"
     ]
    },
    {
     "name": "stderr",
     "output_type": "stream",
     "text": [
      "image 1/1 /Users/codym/CAP/ai-starter-kit/yoda/data/sec-edgar-filings/NVDA/10-Q/0001045810-23-000175/full-submission/images/page_71.jpg: 640x512 1 bordered, 3 borderlesss, 69.7ms\n",
      "Speed: 0.6ms preprocess, 69.7ms inference, 0.4ms postprocess per image at shape (1, 3, 640, 640)\n",
      "\n",
      "image 1/1 /Users/codym/CAP/ai-starter-kit/yoda/data/sec-edgar-filings/NVDA/10-Q/0001045810-23-000175/full-submission/images/page_65.jpg: 640x512 1 bordered, 65.0ms\n",
      "Speed: 2.7ms preprocess, 65.0ms inference, 0.5ms postprocess per image at shape (1, 3, 640, 640)\n",
      "\n",
      "image 1/1 /Users/codym/CAP/ai-starter-kit/yoda/data/sec-edgar-filings/NVDA/10-Q/0001045810-23-000175/full-submission/images/page_59.jpg: 640x512 1 borderless, 65.5ms\n",
      "Speed: 0.2ms preprocess, 65.5ms inference, 0.4ms postprocess per image at shape (1, 3, 640, 640)\n",
      "\n"
     ]
    },
    {
     "name": "stdout",
     "output_type": "stream",
     "text": [
      "Cropping tables from /Users/codym/CAP/ai-starter-kit/yoda/data/sec-edgar-filings/NVDA/10-Q/0001045810-23-000175/full-submission/images/page_65.jpg\n",
      "Cropping tables from /Users/codym/CAP/ai-starter-kit/yoda/data/sec-edgar-filings/NVDA/10-Q/0001045810-23-000175/full-submission/images/page_59.jpg\n",
      "Cropping tables from /Users/codym/CAP/ai-starter-kit/yoda/data/sec-edgar-filings/NVDA/10-Q/0001045810-23-000175/full-submission/images/page_61.jpg\n"
     ]
    },
    {
     "name": "stderr",
     "output_type": "stream",
     "text": [
      "image 1/1 /Users/codym/CAP/ai-starter-kit/yoda/data/sec-edgar-filings/NVDA/10-Q/0001045810-23-000175/full-submission/images/page_61.jpg: 640x512 4 borderlesss, 80.2ms\n",
      "Speed: 0.4ms preprocess, 80.2ms inference, 0.4ms postprocess per image at shape (1, 3, 640, 640)\n",
      "\n",
      "image 1/1 /Users/codym/CAP/ai-starter-kit/yoda/data/sec-edgar-filings/NVDA/10-Q/0001045810-23-000175/full-submission/images/page_75.jpg: 640x512 1 borderless, 68.8ms\n",
      "Speed: 0.2ms preprocess, 68.8ms inference, 0.4ms postprocess per image at shape (1, 3, 640, 640)\n",
      "\n",
      "image 1/1 /Users/codym/CAP/ai-starter-kit/yoda/data/sec-edgar-filings/NVDA/10-Q/0001045810-23-000175/full-submission/images/page_49.jpg: 640x512 (no detections), 66.4ms\n",
      "Speed: 0.5ms preprocess, 66.4ms inference, 0.2ms postprocess per image at shape (1, 3, 640, 640)\n",
      "\n"
     ]
    },
    {
     "name": "stdout",
     "output_type": "stream",
     "text": [
      "Cropping tables from /Users/codym/CAP/ai-starter-kit/yoda/data/sec-edgar-filings/NVDA/10-Q/0001045810-23-000175/full-submission/images/page_75.jpg\n",
      "Cropping tables from /Users/codym/CAP/ai-starter-kit/yoda/data/sec-edgar-filings/NVDA/10-Q/0001045810-23-000175/full-submission/images/page_49.jpg\n",
      "Cropping tables from /Users/codym/CAP/ai-starter-kit/yoda/data/sec-edgar-filings/NVDA/10-Q/0001045810-23-000175/full-submission/images/page_214.jpg\n"
     ]
    },
    {
     "name": "stderr",
     "output_type": "stream",
     "text": [
      "image 1/1 /Users/codym/CAP/ai-starter-kit/yoda/data/sec-edgar-filings/NVDA/10-Q/0001045810-23-000175/full-submission/images/page_214.jpg: 640x512 (no detections), 73.1ms\n",
      "Speed: 0.3ms preprocess, 73.1ms inference, 0.2ms postprocess per image at shape (1, 3, 640, 640)\n",
      "\n",
      "image 1/1 /Users/codym/CAP/ai-starter-kit/yoda/data/sec-edgar-filings/NVDA/10-Q/0001045810-23-000175/full-submission/images/page_200.jpg: 640x512 (no detections), 68.2ms\n",
      "Speed: 0.6ms preprocess, 68.2ms inference, 0.2ms postprocess per image at shape (1, 3, 640, 640)\n",
      "\n",
      "image 1/1 /Users/codym/CAP/ai-starter-kit/yoda/data/sec-edgar-filings/NVDA/10-Q/0001045810-23-000175/full-submission/images/page_228.jpg: 640x512 (no detections), 68.3ms\n",
      "Speed: 0.2ms preprocess, 68.3ms inference, 0.2ms postprocess per image at shape (1, 3, 640, 640)\n",
      "\n"
     ]
    },
    {
     "name": "stdout",
     "output_type": "stream",
     "text": [
      "Cropping tables from /Users/codym/CAP/ai-starter-kit/yoda/data/sec-edgar-filings/NVDA/10-Q/0001045810-23-000175/full-submission/images/page_200.jpg\n",
      "Cropping tables from /Users/codym/CAP/ai-starter-kit/yoda/data/sec-edgar-filings/NVDA/10-Q/0001045810-23-000175/full-submission/images/page_228.jpg\n",
      "Cropping tables from /Users/codym/CAP/ai-starter-kit/yoda/data/sec-edgar-filings/NVDA/10-Q/0001045810-23-000175/full-submission/images/page_189.jpg\n"
     ]
    },
    {
     "name": "stderr",
     "output_type": "stream",
     "text": [
      "image 1/1 /Users/codym/CAP/ai-starter-kit/yoda/data/sec-edgar-filings/NVDA/10-Q/0001045810-23-000175/full-submission/images/page_189.jpg: 640x512 (no detections), 71.3ms\n",
      "Speed: 0.2ms preprocess, 71.3ms inference, 0.2ms postprocess per image at shape (1, 3, 640, 640)\n",
      "\n",
      "image 1/1 /Users/codym/CAP/ai-starter-kit/yoda/data/sec-edgar-filings/NVDA/10-Q/0001045810-23-000175/full-submission/images/page_162.jpg: 640x512 (no detections), 67.7ms\n",
      "Speed: 0.8ms preprocess, 67.7ms inference, 0.2ms postprocess per image at shape (1, 3, 640, 640)\n",
      "\n",
      "image 1/1 /Users/codym/CAP/ai-starter-kit/yoda/data/sec-edgar-filings/NVDA/10-Q/0001045810-23-000175/full-submission/images/page_176.jpg: 640x512 (no detections), 65.1ms\n",
      "Speed: 0.6ms preprocess, 65.1ms inference, 0.2ms postprocess per image at shape (1, 3, 640, 640)\n",
      "\n"
     ]
    },
    {
     "name": "stdout",
     "output_type": "stream",
     "text": [
      "Cropping tables from /Users/codym/CAP/ai-starter-kit/yoda/data/sec-edgar-filings/NVDA/10-Q/0001045810-23-000175/full-submission/images/page_162.jpg\n",
      "Cropping tables from /Users/codym/CAP/ai-starter-kit/yoda/data/sec-edgar-filings/NVDA/10-Q/0001045810-23-000175/full-submission/images/page_176.jpg\n",
      "Cropping tables from /Users/codym/CAP/ai-starter-kit/yoda/data/sec-edgar-filings/NVDA/10-Q/0001045810-23-000175/full-submission/images/page_177.jpg\n"
     ]
    },
    {
     "name": "stderr",
     "output_type": "stream",
     "text": [
      "image 1/1 /Users/codym/CAP/ai-starter-kit/yoda/data/sec-edgar-filings/NVDA/10-Q/0001045810-23-000175/full-submission/images/page_177.jpg: 640x512 (no detections), 70.3ms\n",
      "Speed: 0.3ms preprocess, 70.3ms inference, 0.2ms postprocess per image at shape (1, 3, 640, 640)\n",
      "\n",
      "image 1/1 /Users/codym/CAP/ai-starter-kit/yoda/data/sec-edgar-filings/NVDA/10-Q/0001045810-23-000175/full-submission/images/page_163.jpg: 640x512 (no detections), 140.4ms\n",
      "Speed: 0.4ms preprocess, 140.4ms inference, 0.2ms postprocess per image at shape (1, 3, 640, 640)\n",
      "\n"
     ]
    },
    {
     "name": "stdout",
     "output_type": "stream",
     "text": [
      "Cropping tables from /Users/codym/CAP/ai-starter-kit/yoda/data/sec-edgar-filings/NVDA/10-Q/0001045810-23-000175/full-submission/images/page_163.jpg\n",
      "Cropping tables from /Users/codym/CAP/ai-starter-kit/yoda/data/sec-edgar-filings/NVDA/10-Q/0001045810-23-000175/full-submission/images/page_188.jpg\n"
     ]
    },
    {
     "name": "stderr",
     "output_type": "stream",
     "text": [
      "image 1/1 /Users/codym/CAP/ai-starter-kit/yoda/data/sec-edgar-filings/NVDA/10-Q/0001045810-23-000175/full-submission/images/page_188.jpg: 640x512 (no detections), 81.5ms\n",
      "Speed: 0.2ms preprocess, 81.5ms inference, 0.2ms postprocess per image at shape (1, 3, 640, 640)\n",
      "\n",
      "image 1/1 /Users/codym/CAP/ai-starter-kit/yoda/data/sec-edgar-filings/NVDA/10-Q/0001045810-23-000175/full-submission/images/page_229.jpg: 640x512 (no detections), 69.2ms\n",
      "Speed: 0.7ms preprocess, 69.2ms inference, 0.2ms postprocess per image at shape (1, 3, 640, 640)\n",
      "\n",
      "image 1/1 /Users/codym/CAP/ai-starter-kit/yoda/data/sec-edgar-filings/NVDA/10-Q/0001045810-23-000175/full-submission/images/page_201.jpg: 640x512 (no detections), 81.9ms\n",
      "Speed: 0.2ms preprocess, 81.9ms inference, 0.2ms postprocess per image at shape (1, 3, 640, 640)\n",
      "\n"
     ]
    },
    {
     "name": "stdout",
     "output_type": "stream",
     "text": [
      "Cropping tables from /Users/codym/CAP/ai-starter-kit/yoda/data/sec-edgar-filings/NVDA/10-Q/0001045810-23-000175/full-submission/images/page_229.jpg\n",
      "Cropping tables from /Users/codym/CAP/ai-starter-kit/yoda/data/sec-edgar-filings/NVDA/10-Q/0001045810-23-000175/full-submission/images/page_201.jpg\n",
      "Cropping tables from /Users/codym/CAP/ai-starter-kit/yoda/data/sec-edgar-filings/NVDA/10-Q/0001045810-23-000175/full-submission/images/page_215.jpg\n"
     ]
    },
    {
     "name": "stderr",
     "output_type": "stream",
     "text": [
      "image 1/1 /Users/codym/CAP/ai-starter-kit/yoda/data/sec-edgar-filings/NVDA/10-Q/0001045810-23-000175/full-submission/images/page_215.jpg: 640x512 (no detections), 69.0ms\n",
      "Speed: 0.2ms preprocess, 69.0ms inference, 0.2ms postprocess per image at shape (1, 3, 640, 640)\n",
      "\n",
      "image 1/1 /Users/codym/CAP/ai-starter-kit/yoda/data/sec-edgar-filings/NVDA/10-Q/0001045810-23-000175/full-submission/images/page_48.jpg: 640x512 (no detections), 102.7ms\n",
      "Speed: 0.4ms preprocess, 102.7ms inference, 0.2ms postprocess per image at shape (1, 3, 640, 640)\n",
      "\n"
     ]
    },
    {
     "name": "stdout",
     "output_type": "stream",
     "text": [
      "Cropping tables from /Users/codym/CAP/ai-starter-kit/yoda/data/sec-edgar-filings/NVDA/10-Q/0001045810-23-000175/full-submission/images/page_48.jpg\n",
      "Cropping tables from /Users/codym/CAP/ai-starter-kit/yoda/data/sec-edgar-filings/NVDA/10-Q/0001045810-23-000175/full-submission/images/page_74.jpg\n"
     ]
    },
    {
     "name": "stderr",
     "output_type": "stream",
     "text": [
      "image 1/1 /Users/codym/CAP/ai-starter-kit/yoda/data/sec-edgar-filings/NVDA/10-Q/0001045810-23-000175/full-submission/images/page_74.jpg: 640x512 2 borderlesss, 71.0ms\n",
      "Speed: 0.2ms preprocess, 71.0ms inference, 0.4ms postprocess per image at shape (1, 3, 640, 640)\n",
      "\n",
      "image 1/1 /Users/codym/CAP/ai-starter-kit/yoda/data/sec-edgar-filings/NVDA/10-Q/0001045810-23-000175/full-submission/images/page_60.jpg: 640x512 1 bordered, 4 borderlesss, 70.1ms\n",
      "Speed: 0.2ms preprocess, 70.1ms inference, 0.4ms postprocess per image at shape (1, 3, 640, 640)\n",
      "\n",
      "image 1/1 /Users/codym/CAP/ai-starter-kit/yoda/data/sec-edgar-filings/NVDA/10-Q/0001045810-23-000175/full-submission/images/page_89.jpg: 640x512 (no detections), 69.0ms\n",
      "Speed: 0.6ms preprocess, 69.0ms inference, 0.2ms postprocess per image at shape (1, 3, 640, 640)\n",
      "\n"
     ]
    },
    {
     "name": "stdout",
     "output_type": "stream",
     "text": [
      "Cropping tables from /Users/codym/CAP/ai-starter-kit/yoda/data/sec-edgar-filings/NVDA/10-Q/0001045810-23-000175/full-submission/images/page_60.jpg\n",
      "Cropping tables from /Users/codym/CAP/ai-starter-kit/yoda/data/sec-edgar-filings/NVDA/10-Q/0001045810-23-000175/full-submission/images/page_89.jpg\n",
      "Cropping tables from /Users/codym/CAP/ai-starter-kit/yoda/data/sec-edgar-filings/NVDA/10-Q/0001045810-23-000175/full-submission/images/page_76.jpg\n"
     ]
    },
    {
     "name": "stderr",
     "output_type": "stream",
     "text": [
      "image 1/1 /Users/codym/CAP/ai-starter-kit/yoda/data/sec-edgar-filings/NVDA/10-Q/0001045810-23-000175/full-submission/images/page_76.jpg: 640x512 1 borderless, 73.0ms\n",
      "Speed: 0.2ms preprocess, 73.0ms inference, 0.4ms postprocess per image at shape (1, 3, 640, 640)\n",
      "\n",
      "image 1/1 /Users/codym/CAP/ai-starter-kit/yoda/data/sec-edgar-filings/NVDA/10-Q/0001045810-23-000175/full-submission/images/page_62.jpg: 640x512 1 bordered, 1 borderless, 66.9ms\n",
      "Speed: 0.2ms preprocess, 66.9ms inference, 0.4ms postprocess per image at shape (1, 3, 640, 640)\n",
      "\n",
      "image 1/1 /Users/codym/CAP/ai-starter-kit/yoda/data/sec-edgar-filings/NVDA/10-Q/0001045810-23-000175/full-submission/images/page_203.jpg: 640x512 (no detections), 70.7ms\n",
      "Speed: 0.2ms preprocess, 70.7ms inference, 0.2ms postprocess per image at shape (1, 3, 640, 640)\n",
      "\n"
     ]
    },
    {
     "name": "stdout",
     "output_type": "stream",
     "text": [
      "Cropping tables from /Users/codym/CAP/ai-starter-kit/yoda/data/sec-edgar-filings/NVDA/10-Q/0001045810-23-000175/full-submission/images/page_62.jpg\n",
      "Cropping tables from /Users/codym/CAP/ai-starter-kit/yoda/data/sec-edgar-filings/NVDA/10-Q/0001045810-23-000175/full-submission/images/page_203.jpg\n",
      "Cropping tables from /Users/codym/CAP/ai-starter-kit/yoda/data/sec-edgar-filings/NVDA/10-Q/0001045810-23-000175/full-submission/images/page_217.jpg\n"
     ]
    },
    {
     "name": "stderr",
     "output_type": "stream",
     "text": [
      "image 1/1 /Users/codym/CAP/ai-starter-kit/yoda/data/sec-edgar-filings/NVDA/10-Q/0001045810-23-000175/full-submission/images/page_217.jpg: 640x512 (no detections), 69.0ms\n",
      "Speed: 0.2ms preprocess, 69.0ms inference, 0.2ms postprocess per image at shape (1, 3, 640, 640)\n",
      "\n",
      "image 1/1 /Users/codym/CAP/ai-starter-kit/yoda/data/sec-edgar-filings/NVDA/10-Q/0001045810-23-000175/full-submission/images/page_175.jpg: 640x512 (no detections), 63.3ms\n",
      "Speed: 0.2ms preprocess, 63.3ms inference, 0.2ms postprocess per image at shape (1, 3, 640, 640)\n",
      "\n",
      "image 1/1 /Users/codym/CAP/ai-starter-kit/yoda/data/sec-edgar-filings/NVDA/10-Q/0001045810-23-000175/full-submission/images/page_161.jpg: 640x512 (no detections), 65.5ms\n",
      "Speed: 0.5ms preprocess, 65.5ms inference, 0.2ms postprocess per image at shape (1, 3, 640, 640)\n",
      "\n"
     ]
    },
    {
     "name": "stdout",
     "output_type": "stream",
     "text": [
      "Cropping tables from /Users/codym/CAP/ai-starter-kit/yoda/data/sec-edgar-filings/NVDA/10-Q/0001045810-23-000175/full-submission/images/page_175.jpg\n",
      "Cropping tables from /Users/codym/CAP/ai-starter-kit/yoda/data/sec-edgar-filings/NVDA/10-Q/0001045810-23-000175/full-submission/images/page_161.jpg\n",
      "Cropping tables from /Users/codym/CAP/ai-starter-kit/yoda/data/sec-edgar-filings/NVDA/10-Q/0001045810-23-000175/full-submission/images/page_149.jpg\n"
     ]
    },
    {
     "name": "stderr",
     "output_type": "stream",
     "text": [
      "image 1/1 /Users/codym/CAP/ai-starter-kit/yoda/data/sec-edgar-filings/NVDA/10-Q/0001045810-23-000175/full-submission/images/page_149.jpg: 640x512 (no detections), 149.3ms\n",
      "Speed: 0.2ms preprocess, 149.3ms inference, 0.2ms postprocess per image at shape (1, 3, 640, 640)\n",
      "\n",
      "image 1/1 /Users/codym/CAP/ai-starter-kit/yoda/data/sec-edgar-filings/NVDA/10-Q/0001045810-23-000175/full-submission/images/page_148.jpg: 640x512 (no detections), 68.6ms\n",
      "Speed: 0.5ms preprocess, 68.6ms inference, 0.2ms postprocess per image at shape (1, 3, 640, 640)\n",
      "\n",
      "image 1/1 /Users/codym/CAP/ai-starter-kit/yoda/data/sec-edgar-filings/NVDA/10-Q/0001045810-23-000175/full-submission/images/page_160.jpg: 640x512 (no detections), 66.8ms\n",
      "Speed: 0.2ms preprocess, 66.8ms inference, 0.2ms postprocess per image at shape (1, 3, 640, 640)\n",
      "\n"
     ]
    },
    {
     "name": "stdout",
     "output_type": "stream",
     "text": [
      "Cropping tables from /Users/codym/CAP/ai-starter-kit/yoda/data/sec-edgar-filings/NVDA/10-Q/0001045810-23-000175/full-submission/images/page_148.jpg\n",
      "Cropping tables from /Users/codym/CAP/ai-starter-kit/yoda/data/sec-edgar-filings/NVDA/10-Q/0001045810-23-000175/full-submission/images/page_160.jpg\n",
      "Cropping tables from /Users/codym/CAP/ai-starter-kit/yoda/data/sec-edgar-filings/NVDA/10-Q/0001045810-23-000175/full-submission/images/page_174.jpg\n"
     ]
    },
    {
     "name": "stderr",
     "output_type": "stream",
     "text": [
      "image 1/1 /Users/codym/CAP/ai-starter-kit/yoda/data/sec-edgar-filings/NVDA/10-Q/0001045810-23-000175/full-submission/images/page_174.jpg: 640x512 (no detections), 71.5ms\n",
      "Speed: 0.1ms preprocess, 71.5ms inference, 0.2ms postprocess per image at shape (1, 3, 640, 640)\n",
      "\n",
      "image 1/1 /Users/codym/CAP/ai-starter-kit/yoda/data/sec-edgar-filings/NVDA/10-Q/0001045810-23-000175/full-submission/images/page_216.jpg: 640x512 (no detections), 66.4ms\n",
      "Speed: 0.2ms preprocess, 66.4ms inference, 0.2ms postprocess per image at shape (1, 3, 640, 640)\n",
      "\n",
      "image 1/1 /Users/codym/CAP/ai-starter-kit/yoda/data/sec-edgar-filings/NVDA/10-Q/0001045810-23-000175/full-submission/images/page_202.jpg: 640x512 (no detections), 68.0ms\n",
      "Speed: 0.2ms preprocess, 68.0ms inference, 0.2ms postprocess per image at shape (1, 3, 640, 640)\n",
      "\n"
     ]
    },
    {
     "name": "stdout",
     "output_type": "stream",
     "text": [
      "Cropping tables from /Users/codym/CAP/ai-starter-kit/yoda/data/sec-edgar-filings/NVDA/10-Q/0001045810-23-000175/full-submission/images/page_216.jpg\n",
      "Cropping tables from /Users/codym/CAP/ai-starter-kit/yoda/data/sec-edgar-filings/NVDA/10-Q/0001045810-23-000175/full-submission/images/page_202.jpg\n",
      "Cropping tables from /Users/codym/CAP/ai-starter-kit/yoda/data/sec-edgar-filings/NVDA/10-Q/0001045810-23-000175/full-submission/images/page_63.jpg\n"
     ]
    },
    {
     "name": "stderr",
     "output_type": "stream",
     "text": [
      "image 1/1 /Users/codym/CAP/ai-starter-kit/yoda/data/sec-edgar-filings/NVDA/10-Q/0001045810-23-000175/full-submission/images/page_63.jpg: 640x512 1 borderless, 70.4ms\n",
      "Speed: 0.3ms preprocess, 70.4ms inference, 0.4ms postprocess per image at shape (1, 3, 640, 640)\n",
      "\n",
      "image 1/1 /Users/codym/CAP/ai-starter-kit/yoda/data/sec-edgar-filings/NVDA/10-Q/0001045810-23-000175/full-submission/images/page_77.jpg: 640x512 1 borderless, 67.8ms\n",
      "Speed: 7.8ms preprocess, 67.8ms inference, 0.4ms postprocess per image at shape (1, 3, 640, 640)\n",
      "\n",
      "image 1/1 /Users/codym/CAP/ai-starter-kit/yoda/data/sec-edgar-filings/NVDA/10-Q/0001045810-23-000175/full-submission/images/page_88.jpg: 640x512 (no detections), 65.6ms\n",
      "Speed: 0.4ms preprocess, 65.6ms inference, 0.2ms postprocess per image at shape (1, 3, 640, 640)\n",
      "\n"
     ]
    },
    {
     "name": "stdout",
     "output_type": "stream",
     "text": [
      "Cropping tables from /Users/codym/CAP/ai-starter-kit/yoda/data/sec-edgar-filings/NVDA/10-Q/0001045810-23-000175/full-submission/images/page_77.jpg\n",
      "Cropping tables from /Users/codym/CAP/ai-starter-kit/yoda/data/sec-edgar-filings/NVDA/10-Q/0001045810-23-000175/full-submission/images/page_88.jpg\n",
      "Cropping tables from /Users/codym/CAP/ai-starter-kit/yoda/data/sec-edgar-filings/NVDA/10-K/0001045810-23-000017/full-submission/images/page_91.jpg\n"
     ]
    },
    {
     "name": "stderr",
     "output_type": "stream",
     "text": [
      "image 1/1 /Users/codym/CAP/ai-starter-kit/yoda/data/sec-edgar-filings/NVDA/10-K/0001045810-23-000017/full-submission/images/page_91.jpg: 640x512 1 borderless, 79.2ms\n",
      "Speed: 0.2ms preprocess, 79.2ms inference, 0.4ms postprocess per image at shape (1, 3, 640, 640)\n",
      "\n",
      "image 1/1 /Users/codym/CAP/ai-starter-kit/yoda/data/sec-edgar-filings/NVDA/10-K/0001045810-23-000017/full-submission/images/page_85.jpg: 640x512 2 bordereds, 66.0ms\n",
      "Speed: 0.5ms preprocess, 66.0ms inference, 0.4ms postprocess per image at shape (1, 3, 640, 640)\n",
      "\n",
      "image 1/1 /Users/codym/CAP/ai-starter-kit/yoda/data/sec-edgar-filings/NVDA/10-K/0001045810-23-000017/full-submission/images/page_52.jpg: 640x512 (no detections), 85.7ms\n",
      "Speed: 0.4ms preprocess, 85.7ms inference, 0.2ms postprocess per image at shape (1, 3, 640, 640)\n",
      "\n"
     ]
    },
    {
     "name": "stdout",
     "output_type": "stream",
     "text": [
      "Cropping tables from /Users/codym/CAP/ai-starter-kit/yoda/data/sec-edgar-filings/NVDA/10-K/0001045810-23-000017/full-submission/images/page_85.jpg\n",
      "Cropping tables from /Users/codym/CAP/ai-starter-kit/yoda/data/sec-edgar-filings/NVDA/10-K/0001045810-23-000017/full-submission/images/page_52.jpg\n",
      "Cropping tables from /Users/codym/CAP/ai-starter-kit/yoda/data/sec-edgar-filings/NVDA/10-K/0001045810-23-000017/full-submission/images/page_46.jpg\n"
     ]
    },
    {
     "name": "stderr",
     "output_type": "stream",
     "text": [
      "image 1/1 /Users/codym/CAP/ai-starter-kit/yoda/data/sec-edgar-filings/NVDA/10-K/0001045810-23-000017/full-submission/images/page_46.jpg: 640x512 (no detections), 72.2ms\n",
      "Speed: 0.5ms preprocess, 72.2ms inference, 0.2ms postprocess per image at shape (1, 3, 640, 640)\n",
      "\n",
      "image 1/1 /Users/codym/CAP/ai-starter-kit/yoda/data/sec-edgar-filings/NVDA/10-K/0001045810-23-000017/full-submission/images/page_227.jpg: 640x512 (no detections), 68.1ms\n",
      "Speed: 0.2ms preprocess, 68.1ms inference, 0.2ms postprocess per image at shape (1, 3, 640, 640)\n",
      "\n",
      "image 1/1 /Users/codym/CAP/ai-starter-kit/yoda/data/sec-edgar-filings/NVDA/10-K/0001045810-23-000017/full-submission/images/page_233.jpg: 640x512 (no detections), 79.7ms\n",
      "Speed: 0.2ms preprocess, 79.7ms inference, 0.2ms postprocess per image at shape (1, 3, 640, 640)\n",
      "\n"
     ]
    },
    {
     "name": "stdout",
     "output_type": "stream",
     "text": [
      "Cropping tables from /Users/codym/CAP/ai-starter-kit/yoda/data/sec-edgar-filings/NVDA/10-K/0001045810-23-000017/full-submission/images/page_227.jpg\n",
      "Cropping tables from /Users/codym/CAP/ai-starter-kit/yoda/data/sec-edgar-filings/NVDA/10-K/0001045810-23-000017/full-submission/images/page_233.jpg\n",
      "Cropping tables from /Users/codym/CAP/ai-starter-kit/yoda/data/sec-edgar-filings/NVDA/10-K/0001045810-23-000017/full-submission/images/page_390.jpg\n"
     ]
    },
    {
     "name": "stderr",
     "output_type": "stream",
     "text": [
      "image 1/1 /Users/codym/CAP/ai-starter-kit/yoda/data/sec-edgar-filings/NVDA/10-K/0001045810-23-000017/full-submission/images/page_390.jpg: 640x512 (no detections), 66.3ms\n",
      "Speed: 0.9ms preprocess, 66.3ms inference, 0.2ms postprocess per image at shape (1, 3, 640, 640)\n",
      "\n",
      "image 1/1 /Users/codym/CAP/ai-starter-kit/yoda/data/sec-edgar-filings/NVDA/10-K/0001045810-23-000017/full-submission/images/page_384.jpg: 640x512 (no detections), 68.4ms\n",
      "Speed: 0.4ms preprocess, 68.4ms inference, 0.2ms postprocess per image at shape (1, 3, 640, 640)\n",
      "\n",
      "image 1/1 /Users/codym/CAP/ai-starter-kit/yoda/data/sec-edgar-filings/NVDA/10-K/0001045810-23-000017/full-submission/images/page_353.jpg: 640x512 (no detections), 65.4ms\n",
      "Speed: 0.2ms preprocess, 65.4ms inference, 0.2ms postprocess per image at shape (1, 3, 640, 640)\n",
      "\n"
     ]
    },
    {
     "name": "stdout",
     "output_type": "stream",
     "text": [
      "Cropping tables from /Users/codym/CAP/ai-starter-kit/yoda/data/sec-edgar-filings/NVDA/10-K/0001045810-23-000017/full-submission/images/page_384.jpg\n",
      "Cropping tables from /Users/codym/CAP/ai-starter-kit/yoda/data/sec-edgar-filings/NVDA/10-K/0001045810-23-000017/full-submission/images/page_353.jpg\n",
      "Cropping tables from /Users/codym/CAP/ai-starter-kit/yoda/data/sec-edgar-filings/NVDA/10-K/0001045810-23-000017/full-submission/images/page_347.jpg\n"
     ]
    },
    {
     "name": "stderr",
     "output_type": "stream",
     "text": [
      "image 1/1 /Users/codym/CAP/ai-starter-kit/yoda/data/sec-edgar-filings/NVDA/10-K/0001045810-23-000017/full-submission/images/page_347.jpg: 640x512 (no detections), 69.6ms\n",
      "Speed: 0.2ms preprocess, 69.6ms inference, 0.2ms postprocess per image at shape (1, 3, 640, 640)\n",
      "\n",
      "image 1/1 /Users/codym/CAP/ai-starter-kit/yoda/data/sec-edgar-filings/NVDA/10-K/0001045810-23-000017/full-submission/images/page_192.jpg: 640x512 1 borderless, 72.2ms\n",
      "Speed: 0.6ms preprocess, 72.2ms inference, 0.4ms postprocess per image at shape (1, 3, 640, 640)\n",
      "\n",
      "image 1/1 /Users/codym/CAP/ai-starter-kit/yoda/data/sec-edgar-filings/NVDA/10-K/0001045810-23-000017/full-submission/images/page_2.jpg: 640x512 (no detections), 68.9ms\n",
      "Speed: 0.2ms preprocess, 68.9ms inference, 0.2ms postprocess per image at shape (1, 3, 640, 640)\n",
      "\n"
     ]
    },
    {
     "name": "stdout",
     "output_type": "stream",
     "text": [
      "Cropping tables from /Users/codym/CAP/ai-starter-kit/yoda/data/sec-edgar-filings/NVDA/10-K/0001045810-23-000017/full-submission/images/page_192.jpg\n",
      "Cropping tables from /Users/codym/CAP/ai-starter-kit/yoda/data/sec-edgar-filings/NVDA/10-K/0001045810-23-000017/full-submission/images/page_2.jpg\n",
      "Cropping tables from /Users/codym/CAP/ai-starter-kit/yoda/data/sec-edgar-filings/NVDA/10-K/0001045810-23-000017/full-submission/images/page_186.jpg\n"
     ]
    },
    {
     "name": "stderr",
     "output_type": "stream",
     "text": [
      "image 1/1 /Users/codym/CAP/ai-starter-kit/yoda/data/sec-edgar-filings/NVDA/10-K/0001045810-23-000017/full-submission/images/page_186.jpg: 640x512 1 borderless, 79.0ms\n",
      "Speed: 0.2ms preprocess, 79.0ms inference, 0.4ms postprocess per image at shape (1, 3, 640, 640)\n",
      "\n",
      "image 1/1 /Users/codym/CAP/ai-starter-kit/yoda/data/sec-edgar-filings/NVDA/10-K/0001045810-23-000017/full-submission/images/page_179.jpg: 640x512 (no detections), 71.3ms\n",
      "Speed: 0.2ms preprocess, 71.3ms inference, 0.2ms postprocess per image at shape (1, 3, 640, 640)\n",
      "\n",
      "image 1/1 /Users/codym/CAP/ai-starter-kit/yoda/data/sec-edgar-filings/NVDA/10-K/0001045810-23-000017/full-submission/images/page_151.jpg: 640x512 (no detections), 70.1ms\n",
      "Speed: 0.6ms preprocess, 70.1ms inference, 0.2ms postprocess per image at shape (1, 3, 640, 640)\n",
      "\n"
     ]
    },
    {
     "name": "stdout",
     "output_type": "stream",
     "text": [
      "Cropping tables from /Users/codym/CAP/ai-starter-kit/yoda/data/sec-edgar-filings/NVDA/10-K/0001045810-23-000017/full-submission/images/page_179.jpg\n",
      "Cropping tables from /Users/codym/CAP/ai-starter-kit/yoda/data/sec-edgar-filings/NVDA/10-K/0001045810-23-000017/full-submission/images/page_151.jpg\n",
      "Cropping tables from /Users/codym/CAP/ai-starter-kit/yoda/data/sec-edgar-filings/NVDA/10-K/0001045810-23-000017/full-submission/images/page_145.jpg\n"
     ]
    },
    {
     "name": "stderr",
     "output_type": "stream",
     "text": [
      "image 1/1 /Users/codym/CAP/ai-starter-kit/yoda/data/sec-edgar-filings/NVDA/10-K/0001045810-23-000017/full-submission/images/page_145.jpg: 640x512 (no detections), 75.5ms\n",
      "Speed: 0.2ms preprocess, 75.5ms inference, 0.2ms postprocess per image at shape (1, 3, 640, 640)\n",
      "\n",
      "image 1/1 /Users/codym/CAP/ai-starter-kit/yoda/data/sec-edgar-filings/NVDA/10-K/0001045810-23-000017/full-submission/images/page_144.jpg: 640x512 (no detections), 72.6ms\n",
      "Speed: 0.2ms preprocess, 72.6ms inference, 0.2ms postprocess per image at shape (1, 3, 640, 640)\n",
      "\n",
      "image 1/1 /Users/codym/CAP/ai-starter-kit/yoda/data/sec-edgar-filings/NVDA/10-K/0001045810-23-000017/full-submission/images/page_150.jpg: 640x512 (no detections), 67.3ms\n",
      "Speed: 0.2ms preprocess, 67.3ms inference, 0.2ms postprocess per image at shape (1, 3, 640, 640)\n",
      "\n"
     ]
    },
    {
     "name": "stdout",
     "output_type": "stream",
     "text": [
      "Cropping tables from /Users/codym/CAP/ai-starter-kit/yoda/data/sec-edgar-filings/NVDA/10-K/0001045810-23-000017/full-submission/images/page_144.jpg\n",
      "Cropping tables from /Users/codym/CAP/ai-starter-kit/yoda/data/sec-edgar-filings/NVDA/10-K/0001045810-23-000017/full-submission/images/page_150.jpg\n",
      "Cropping tables from /Users/codym/CAP/ai-starter-kit/yoda/data/sec-edgar-filings/NVDA/10-K/0001045810-23-000017/full-submission/images/page_178.jpg\n"
     ]
    },
    {
     "name": "stderr",
     "output_type": "stream",
     "text": [
      "image 1/1 /Users/codym/CAP/ai-starter-kit/yoda/data/sec-edgar-filings/NVDA/10-K/0001045810-23-000017/full-submission/images/page_178.jpg: 640x512 2 borderlesss, 80.0ms\n",
      "Speed: 0.2ms preprocess, 80.0ms inference, 0.4ms postprocess per image at shape (1, 3, 640, 640)\n",
      "\n",
      "image 1/1 /Users/codym/CAP/ai-starter-kit/yoda/data/sec-edgar-filings/NVDA/10-K/0001045810-23-000017/full-submission/images/page_187.jpg: 640x512 2 bordereds, 4 borderlesss, 71.7ms\n",
      "Speed: 0.3ms preprocess, 71.7ms inference, 0.4ms postprocess per image at shape (1, 3, 640, 640)\n",
      "\n",
      "image 1/1 /Users/codym/CAP/ai-starter-kit/yoda/data/sec-edgar-filings/NVDA/10-K/0001045810-23-000017/full-submission/images/page_193.jpg: 640x512 (no detections), 80.5ms\n",
      "Speed: 0.3ms preprocess, 80.5ms inference, 0.2ms postprocess per image at shape (1, 3, 640, 640)\n",
      "\n"
     ]
    },
    {
     "name": "stdout",
     "output_type": "stream",
     "text": [
      "Cropping tables from /Users/codym/CAP/ai-starter-kit/yoda/data/sec-edgar-filings/NVDA/10-K/0001045810-23-000017/full-submission/images/page_187.jpg\n",
      "Cropping tables from /Users/codym/CAP/ai-starter-kit/yoda/data/sec-edgar-filings/NVDA/10-K/0001045810-23-000017/full-submission/images/page_193.jpg\n",
      "Cropping tables from /Users/codym/CAP/ai-starter-kit/yoda/data/sec-edgar-filings/NVDA/10-K/0001045810-23-000017/full-submission/images/page_3.jpg\n"
     ]
    },
    {
     "name": "stderr",
     "output_type": "stream",
     "text": [
      "image 1/1 /Users/codym/CAP/ai-starter-kit/yoda/data/sec-edgar-filings/NVDA/10-K/0001045810-23-000017/full-submission/images/page_3.jpg: 640x512 (no detections), 70.6ms\n",
      "Speed: 0.3ms preprocess, 70.6ms inference, 0.2ms postprocess per image at shape (1, 3, 640, 640)\n",
      "\n",
      "image 1/1 /Users/codym/CAP/ai-starter-kit/yoda/data/sec-edgar-filings/NVDA/10-K/0001045810-23-000017/full-submission/images/page_346.jpg: 640x512 (no detections), 68.2ms\n",
      "Speed: 0.3ms preprocess, 68.2ms inference, 0.2ms postprocess per image at shape (1, 3, 640, 640)\n",
      "\n",
      "image 1/1 /Users/codym/CAP/ai-starter-kit/yoda/data/sec-edgar-filings/NVDA/10-K/0001045810-23-000017/full-submission/images/page_352.jpg: 640x512 (no detections), 68.3ms\n",
      "Speed: 0.4ms preprocess, 68.3ms inference, 0.2ms postprocess per image at shape (1, 3, 640, 640)\n",
      "\n"
     ]
    },
    {
     "name": "stdout",
     "output_type": "stream",
     "text": [
      "Cropping tables from /Users/codym/CAP/ai-starter-kit/yoda/data/sec-edgar-filings/NVDA/10-K/0001045810-23-000017/full-submission/images/page_346.jpg\n",
      "Cropping tables from /Users/codym/CAP/ai-starter-kit/yoda/data/sec-edgar-filings/NVDA/10-K/0001045810-23-000017/full-submission/images/page_352.jpg\n",
      "Cropping tables from /Users/codym/CAP/ai-starter-kit/yoda/data/sec-edgar-filings/NVDA/10-K/0001045810-23-000017/full-submission/images/page_385.jpg\n"
     ]
    },
    {
     "name": "stderr",
     "output_type": "stream",
     "text": [
      "image 1/1 /Users/codym/CAP/ai-starter-kit/yoda/data/sec-edgar-filings/NVDA/10-K/0001045810-23-000017/full-submission/images/page_385.jpg: 640x512 1 borderless, 88.2ms\n",
      "Speed: 0.2ms preprocess, 88.2ms inference, 0.4ms postprocess per image at shape (1, 3, 640, 640)\n",
      "\n",
      "image 1/1 /Users/codym/CAP/ai-starter-kit/yoda/data/sec-edgar-filings/NVDA/10-K/0001045810-23-000017/full-submission/images/page_391.jpg: 640x512 (no detections), 69.3ms\n",
      "Speed: 0.6ms preprocess, 69.3ms inference, 0.2ms postprocess per image at shape (1, 3, 640, 640)\n",
      "\n",
      "image 1/1 /Users/codym/CAP/ai-starter-kit/yoda/data/sec-edgar-filings/NVDA/10-K/0001045810-23-000017/full-submission/images/page_232.jpg: 640x512 (no detections), 70.7ms\n",
      "Speed: 0.2ms preprocess, 70.7ms inference, 0.2ms postprocess per image at shape (1, 3, 640, 640)\n",
      "\n"
     ]
    },
    {
     "name": "stdout",
     "output_type": "stream",
     "text": [
      "Cropping tables from /Users/codym/CAP/ai-starter-kit/yoda/data/sec-edgar-filings/NVDA/10-K/0001045810-23-000017/full-submission/images/page_391.jpg\n",
      "Cropping tables from /Users/codym/CAP/ai-starter-kit/yoda/data/sec-edgar-filings/NVDA/10-K/0001045810-23-000017/full-submission/images/page_232.jpg\n",
      "Cropping tables from /Users/codym/CAP/ai-starter-kit/yoda/data/sec-edgar-filings/NVDA/10-K/0001045810-23-000017/full-submission/images/page_226.jpg\n"
     ]
    },
    {
     "name": "stderr",
     "output_type": "stream",
     "text": [
      "image 1/1 /Users/codym/CAP/ai-starter-kit/yoda/data/sec-edgar-filings/NVDA/10-K/0001045810-23-000017/full-submission/images/page_226.jpg: 640x512 (no detections), 72.2ms\n",
      "Speed: 0.2ms preprocess, 72.2ms inference, 0.2ms postprocess per image at shape (1, 3, 640, 640)\n",
      "\n"
     ]
    },
    {
     "name": "stdout",
     "output_type": "stream",
     "text": [
      "Cropping tables from /Users/codym/CAP/ai-starter-kit/yoda/data/sec-edgar-filings/NVDA/10-K/0001045810-23-000017/full-submission/images/page_47.jpg\n"
     ]
    },
    {
     "name": "stderr",
     "output_type": "stream",
     "text": [
      "image 1/1 /Users/codym/CAP/ai-starter-kit/yoda/data/sec-edgar-filings/NVDA/10-K/0001045810-23-000017/full-submission/images/page_47.jpg: 640x512 (no detections), 207.3ms\n",
      "Speed: 0.2ms preprocess, 207.3ms inference, 0.2ms postprocess per image at shape (1, 3, 640, 640)\n",
      "\n",
      "image 1/1 /Users/codym/CAP/ai-starter-kit/yoda/data/sec-edgar-filings/NVDA/10-K/0001045810-23-000017/full-submission/images/page_53.jpg: 640x512 1 borderless, 76.2ms\n",
      "Speed: 7.5ms preprocess, 76.2ms inference, 0.4ms postprocess per image at shape (1, 3, 640, 640)\n",
      "\n",
      "image 1/1 /Users/codym/CAP/ai-starter-kit/yoda/data/sec-edgar-filings/NVDA/10-K/0001045810-23-000017/full-submission/images/page_84.jpg: 640x512 3 bordereds, 1 borderless, 68.3ms\n",
      "Speed: 2.0ms preprocess, 68.3ms inference, 0.4ms postprocess per image at shape (1, 3, 640, 640)\n",
      "\n"
     ]
    },
    {
     "name": "stdout",
     "output_type": "stream",
     "text": [
      "Cropping tables from /Users/codym/CAP/ai-starter-kit/yoda/data/sec-edgar-filings/NVDA/10-K/0001045810-23-000017/full-submission/images/page_53.jpg\n",
      "Cropping tables from /Users/codym/CAP/ai-starter-kit/yoda/data/sec-edgar-filings/NVDA/10-K/0001045810-23-000017/full-submission/images/page_84.jpg\n",
      "Cropping tables from /Users/codym/CAP/ai-starter-kit/yoda/data/sec-edgar-filings/NVDA/10-K/0001045810-23-000017/full-submission/images/page_90.jpg\n"
     ]
    },
    {
     "name": "stderr",
     "output_type": "stream",
     "text": [
      "image 1/1 /Users/codym/CAP/ai-starter-kit/yoda/data/sec-edgar-filings/NVDA/10-K/0001045810-23-000017/full-submission/images/page_90.jpg: 640x512 (no detections), 71.2ms\n",
      "Speed: 0.5ms preprocess, 71.2ms inference, 0.2ms postprocess per image at shape (1, 3, 640, 640)\n",
      "\n",
      "image 1/1 /Users/codym/CAP/ai-starter-kit/yoda/data/sec-edgar-filings/NVDA/10-K/0001045810-23-000017/full-submission/images/page_86.jpg: 640x512 1 borderless, 69.8ms\n",
      "Speed: 0.2ms preprocess, 69.8ms inference, 0.4ms postprocess per image at shape (1, 3, 640, 640)\n",
      "\n",
      "image 1/1 /Users/codym/CAP/ai-starter-kit/yoda/data/sec-edgar-filings/NVDA/10-K/0001045810-23-000017/full-submission/images/page_92.jpg: 640x512 (no detections), 69.3ms\n",
      "Speed: 0.2ms preprocess, 69.3ms inference, 0.2ms postprocess per image at shape (1, 3, 640, 640)\n",
      "\n"
     ]
    },
    {
     "name": "stdout",
     "output_type": "stream",
     "text": [
      "Cropping tables from /Users/codym/CAP/ai-starter-kit/yoda/data/sec-edgar-filings/NVDA/10-K/0001045810-23-000017/full-submission/images/page_86.jpg\n",
      "Cropping tables from /Users/codym/CAP/ai-starter-kit/yoda/data/sec-edgar-filings/NVDA/10-K/0001045810-23-000017/full-submission/images/page_92.jpg\n",
      "Cropping tables from /Users/codym/CAP/ai-starter-kit/yoda/data/sec-edgar-filings/NVDA/10-K/0001045810-23-000017/full-submission/images/page_79.jpg\n"
     ]
    },
    {
     "name": "stderr",
     "output_type": "stream",
     "text": [
      "image 1/1 /Users/codym/CAP/ai-starter-kit/yoda/data/sec-edgar-filings/NVDA/10-K/0001045810-23-000017/full-submission/images/page_79.jpg: 640x512 (no detections), 96.0ms\n",
      "Speed: 0.3ms preprocess, 96.0ms inference, 0.2ms postprocess per image at shape (1, 3, 640, 640)\n",
      "\n",
      "image 1/1 /Users/codym/CAP/ai-starter-kit/yoda/data/sec-edgar-filings/NVDA/10-K/0001045810-23-000017/full-submission/images/page_45.jpg: 640x512 1 bordered, 69.2ms\n",
      "Speed: 0.2ms preprocess, 69.2ms inference, 0.4ms postprocess per image at shape (1, 3, 640, 640)\n",
      "\n",
      "image 1/1 /Users/codym/CAP/ai-starter-kit/yoda/data/sec-edgar-filings/NVDA/10-K/0001045810-23-000017/full-submission/images/page_51.jpg: 640x512 (no detections), 74.4ms\n",
      "Speed: 0.3ms preprocess, 74.4ms inference, 0.2ms postprocess per image at shape (1, 3, 640, 640)\n",
      "\n"
     ]
    },
    {
     "name": "stdout",
     "output_type": "stream",
     "text": [
      "Cropping tables from /Users/codym/CAP/ai-starter-kit/yoda/data/sec-edgar-filings/NVDA/10-K/0001045810-23-000017/full-submission/images/page_45.jpg\n",
      "Cropping tables from /Users/codym/CAP/ai-starter-kit/yoda/data/sec-edgar-filings/NVDA/10-K/0001045810-23-000017/full-submission/images/page_51.jpg\n",
      "Cropping tables from /Users/codym/CAP/ai-starter-kit/yoda/data/sec-edgar-filings/NVDA/10-K/0001045810-23-000017/full-submission/images/page_218.jpg\n"
     ]
    },
    {
     "name": "stderr",
     "output_type": "stream",
     "text": [
      "image 1/1 /Users/codym/CAP/ai-starter-kit/yoda/data/sec-edgar-filings/NVDA/10-K/0001045810-23-000017/full-submission/images/page_218.jpg: 640x512 (no detections), 69.5ms\n",
      "Speed: 0.2ms preprocess, 69.5ms inference, 0.2ms postprocess per image at shape (1, 3, 640, 640)\n",
      "\n",
      "image 1/1 /Users/codym/CAP/ai-starter-kit/yoda/data/sec-edgar-filings/NVDA/10-K/0001045810-23-000017/full-submission/images/page_230.jpg: 640x512 (no detections), 68.9ms\n",
      "Speed: 0.4ms preprocess, 68.9ms inference, 0.2ms postprocess per image at shape (1, 3, 640, 640)\n",
      "\n",
      "image 1/1 /Users/codym/CAP/ai-starter-kit/yoda/data/sec-edgar-filings/NVDA/10-K/0001045810-23-000017/full-submission/images/page_224.jpg: 640x512 (no detections), 71.5ms\n",
      "Speed: 0.2ms preprocess, 71.5ms inference, 0.2ms postprocess per image at shape (1, 3, 640, 640)\n",
      "\n"
     ]
    },
    {
     "name": "stdout",
     "output_type": "stream",
     "text": [
      "Cropping tables from /Users/codym/CAP/ai-starter-kit/yoda/data/sec-edgar-filings/NVDA/10-K/0001045810-23-000017/full-submission/images/page_230.jpg\n",
      "Cropping tables from /Users/codym/CAP/ai-starter-kit/yoda/data/sec-edgar-filings/NVDA/10-K/0001045810-23-000017/full-submission/images/page_224.jpg\n",
      "Cropping tables from /Users/codym/CAP/ai-starter-kit/yoda/data/sec-edgar-filings/NVDA/10-K/0001045810-23-000017/full-submission/images/page_387.jpg\n"
     ]
    },
    {
     "name": "stderr",
     "output_type": "stream",
     "text": [
      "image 1/1 /Users/codym/CAP/ai-starter-kit/yoda/data/sec-edgar-filings/NVDA/10-K/0001045810-23-000017/full-submission/images/page_387.jpg: 640x512 (no detections), 72.6ms\n",
      "Speed: 0.3ms preprocess, 72.6ms inference, 0.2ms postprocess per image at shape (1, 3, 640, 640)\n",
      "\n",
      "image 1/1 /Users/codym/CAP/ai-starter-kit/yoda/data/sec-edgar-filings/NVDA/10-K/0001045810-23-000017/full-submission/images/page_393.jpg: 640x512 (no detections), 70.2ms\n",
      "Speed: 0.5ms preprocess, 70.2ms inference, 0.2ms postprocess per image at shape (1, 3, 640, 640)\n",
      "\n",
      "image 1/1 /Users/codym/CAP/ai-starter-kit/yoda/data/sec-edgar-filings/NVDA/10-K/0001045810-23-000017/full-submission/images/page_378.jpg: 640x512 (no detections), 70.8ms\n",
      "Speed: 0.2ms preprocess, 70.8ms inference, 0.2ms postprocess per image at shape (1, 3, 640, 640)\n",
      "\n"
     ]
    },
    {
     "name": "stdout",
     "output_type": "stream",
     "text": [
      "Cropping tables from /Users/codym/CAP/ai-starter-kit/yoda/data/sec-edgar-filings/NVDA/10-K/0001045810-23-000017/full-submission/images/page_393.jpg\n",
      "Cropping tables from /Users/codym/CAP/ai-starter-kit/yoda/data/sec-edgar-filings/NVDA/10-K/0001045810-23-000017/full-submission/images/page_378.jpg\n",
      "Cropping tables from /Users/codym/CAP/ai-starter-kit/yoda/data/sec-edgar-filings/NVDA/10-K/0001045810-23-000017/full-submission/images/page_344.jpg\n"
     ]
    },
    {
     "name": "stderr",
     "output_type": "stream",
     "text": [
      "image 1/1 /Users/codym/CAP/ai-starter-kit/yoda/data/sec-edgar-filings/NVDA/10-K/0001045810-23-000017/full-submission/images/page_344.jpg: 640x512 (no detections), 73.2ms\n",
      "Speed: 0.2ms preprocess, 73.2ms inference, 0.2ms postprocess per image at shape (1, 3, 640, 640)\n",
      "\n",
      "image 1/1 /Users/codym/CAP/ai-starter-kit/yoda/data/sec-edgar-filings/NVDA/10-K/0001045810-23-000017/full-submission/images/page_350.jpg: 640x512 (no detections), 67.0ms\n",
      "Speed: 0.2ms preprocess, 67.0ms inference, 0.2ms postprocess per image at shape (1, 3, 640, 640)\n",
      "\n",
      "image 1/1 /Users/codym/CAP/ai-starter-kit/yoda/data/sec-edgar-filings/NVDA/10-K/0001045810-23-000017/full-submission/images/page_185.jpg: 640x512 1 bordered, 2 borderlesss, 78.8ms\n",
      "Speed: 0.3ms preprocess, 78.8ms inference, 0.4ms postprocess per image at shape (1, 3, 640, 640)\n",
      "\n"
     ]
    },
    {
     "name": "stdout",
     "output_type": "stream",
     "text": [
      "Cropping tables from /Users/codym/CAP/ai-starter-kit/yoda/data/sec-edgar-filings/NVDA/10-K/0001045810-23-000017/full-submission/images/page_350.jpg\n",
      "Cropping tables from /Users/codym/CAP/ai-starter-kit/yoda/data/sec-edgar-filings/NVDA/10-K/0001045810-23-000017/full-submission/images/page_185.jpg\n",
      "Cropping tables from /Users/codym/CAP/ai-starter-kit/yoda/data/sec-edgar-filings/NVDA/10-K/0001045810-23-000017/full-submission/images/page_1.jpg\n"
     ]
    },
    {
     "name": "stderr",
     "output_type": "stream",
     "text": [
      "image 1/1 /Users/codym/CAP/ai-starter-kit/yoda/data/sec-edgar-filings/NVDA/10-K/0001045810-23-000017/full-submission/images/page_1.jpg: 640x512 1 borderless, 78.9ms\n",
      "Speed: 0.2ms preprocess, 78.9ms inference, 0.4ms postprocess per image at shape (1, 3, 640, 640)\n",
      "\n",
      "image 1/1 /Users/codym/CAP/ai-starter-kit/yoda/data/sec-edgar-filings/NVDA/10-K/0001045810-23-000017/full-submission/images/page_191.jpg: 640x512 2 bordereds, 2 borderlesss, 72.7ms\n",
      "Speed: 0.4ms preprocess, 72.7ms inference, 0.4ms postprocess per image at shape (1, 3, 640, 640)\n",
      "\n",
      "image 1/1 /Users/codym/CAP/ai-starter-kit/yoda/data/sec-edgar-filings/NVDA/10-K/0001045810-23-000017/full-submission/images/page_146.jpg: 640x512 (no detections), 67.1ms\n",
      "Speed: 0.5ms preprocess, 67.1ms inference, 0.2ms postprocess per image at shape (1, 3, 640, 640)\n",
      "\n"
     ]
    },
    {
     "name": "stdout",
     "output_type": "stream",
     "text": [
      "Cropping tables from /Users/codym/CAP/ai-starter-kit/yoda/data/sec-edgar-filings/NVDA/10-K/0001045810-23-000017/full-submission/images/page_191.jpg\n",
      "Cropping tables from /Users/codym/CAP/ai-starter-kit/yoda/data/sec-edgar-filings/NVDA/10-K/0001045810-23-000017/full-submission/images/page_146.jpg\n",
      "Cropping tables from /Users/codym/CAP/ai-starter-kit/yoda/data/sec-edgar-filings/NVDA/10-K/0001045810-23-000017/full-submission/images/page_152.jpg\n"
     ]
    },
    {
     "name": "stderr",
     "output_type": "stream",
     "text": [
      "image 1/1 /Users/codym/CAP/ai-starter-kit/yoda/data/sec-edgar-filings/NVDA/10-K/0001045810-23-000017/full-submission/images/page_152.jpg: 640x512 (no detections), 73.7ms\n",
      "Speed: 0.2ms preprocess, 73.7ms inference, 0.2ms postprocess per image at shape (1, 3, 640, 640)\n",
      "\n",
      "image 1/1 /Users/codym/CAP/ai-starter-kit/yoda/data/sec-edgar-filings/NVDA/10-K/0001045810-23-000017/full-submission/images/page_153.jpg: 640x512 (no detections), 74.0ms\n",
      "Speed: 0.6ms preprocess, 74.0ms inference, 0.2ms postprocess per image at shape (1, 3, 640, 640)\n",
      "\n",
      "image 1/1 /Users/codym/CAP/ai-starter-kit/yoda/data/sec-edgar-filings/NVDA/10-K/0001045810-23-000017/full-submission/images/page_147.jpg: 640x512 (no detections), 68.5ms\n",
      "Speed: 0.2ms preprocess, 68.5ms inference, 0.2ms postprocess per image at shape (1, 3, 640, 640)\n",
      "\n"
     ]
    },
    {
     "name": "stdout",
     "output_type": "stream",
     "text": [
      "Cropping tables from /Users/codym/CAP/ai-starter-kit/yoda/data/sec-edgar-filings/NVDA/10-K/0001045810-23-000017/full-submission/images/page_153.jpg\n",
      "Cropping tables from /Users/codym/CAP/ai-starter-kit/yoda/data/sec-edgar-filings/NVDA/10-K/0001045810-23-000017/full-submission/images/page_147.jpg\n",
      "Cropping tables from /Users/codym/CAP/ai-starter-kit/yoda/data/sec-edgar-filings/NVDA/10-K/0001045810-23-000017/full-submission/images/page_0.jpg\n"
     ]
    },
    {
     "name": "stderr",
     "output_type": "stream",
     "text": [
      "image 1/1 /Users/codym/CAP/ai-starter-kit/yoda/data/sec-edgar-filings/NVDA/10-K/0001045810-23-000017/full-submission/images/page_0.jpg: 640x512 (no detections), 72.8ms\n",
      "Speed: 0.4ms preprocess, 72.8ms inference, 0.2ms postprocess per image at shape (1, 3, 640, 640)\n",
      "\n",
      "image 1/1 /Users/codym/CAP/ai-starter-kit/yoda/data/sec-edgar-filings/NVDA/10-K/0001045810-23-000017/full-submission/images/page_190.jpg: 640x512 3 borderlesss, 70.5ms\n",
      "Speed: 0.3ms preprocess, 70.5ms inference, 0.4ms postprocess per image at shape (1, 3, 640, 640)\n",
      "\n",
      "image 1/1 /Users/codym/CAP/ai-starter-kit/yoda/data/sec-edgar-filings/NVDA/10-K/0001045810-23-000017/full-submission/images/page_184.jpg: 640x512 2 borderlesss, 71.1ms\n",
      "Speed: 0.2ms preprocess, 71.1ms inference, 0.4ms postprocess per image at shape (1, 3, 640, 640)\n",
      "\n"
     ]
    },
    {
     "name": "stdout",
     "output_type": "stream",
     "text": [
      "Cropping tables from /Users/codym/CAP/ai-starter-kit/yoda/data/sec-edgar-filings/NVDA/10-K/0001045810-23-000017/full-submission/images/page_190.jpg\n",
      "Cropping tables from /Users/codym/CAP/ai-starter-kit/yoda/data/sec-edgar-filings/NVDA/10-K/0001045810-23-000017/full-submission/images/page_184.jpg\n",
      "Cropping tables from /Users/codym/CAP/ai-starter-kit/yoda/data/sec-edgar-filings/NVDA/10-K/0001045810-23-000017/full-submission/images/page_351.jpg\n"
     ]
    },
    {
     "name": "stderr",
     "output_type": "stream",
     "text": [
      "image 1/1 /Users/codym/CAP/ai-starter-kit/yoda/data/sec-edgar-filings/NVDA/10-K/0001045810-23-000017/full-submission/images/page_351.jpg: 640x512 (no detections), 68.9ms\n",
      "Speed: 0.3ms preprocess, 68.9ms inference, 0.2ms postprocess per image at shape (1, 3, 640, 640)\n",
      "\n",
      "image 1/1 /Users/codym/CAP/ai-starter-kit/yoda/data/sec-edgar-filings/NVDA/10-K/0001045810-23-000017/full-submission/images/page_345.jpg: 640x512 (no detections), 71.8ms\n",
      "Speed: 0.2ms preprocess, 71.8ms inference, 0.2ms postprocess per image at shape (1, 3, 640, 640)\n",
      "\n",
      "image 1/1 /Users/codym/CAP/ai-starter-kit/yoda/data/sec-edgar-filings/NVDA/10-K/0001045810-23-000017/full-submission/images/page_379.jpg: 640x512 (no detections), 68.3ms\n",
      "Speed: 0.2ms preprocess, 68.3ms inference, 0.2ms postprocess per image at shape (1, 3, 640, 640)\n",
      "\n"
     ]
    },
    {
     "name": "stdout",
     "output_type": "stream",
     "text": [
      "Cropping tables from /Users/codym/CAP/ai-starter-kit/yoda/data/sec-edgar-filings/NVDA/10-K/0001045810-23-000017/full-submission/images/page_345.jpg\n",
      "Cropping tables from /Users/codym/CAP/ai-starter-kit/yoda/data/sec-edgar-filings/NVDA/10-K/0001045810-23-000017/full-submission/images/page_379.jpg\n",
      "Cropping tables from /Users/codym/CAP/ai-starter-kit/yoda/data/sec-edgar-filings/NVDA/10-K/0001045810-23-000017/full-submission/images/page_392.jpg\n"
     ]
    },
    {
     "name": "stderr",
     "output_type": "stream",
     "text": [
      "image 1/1 /Users/codym/CAP/ai-starter-kit/yoda/data/sec-edgar-filings/NVDA/10-K/0001045810-23-000017/full-submission/images/page_392.jpg: 640x512 (no detections), 74.8ms\n",
      "Speed: 0.2ms preprocess, 74.8ms inference, 0.2ms postprocess per image at shape (1, 3, 640, 640)\n",
      "\n",
      "image 1/1 /Users/codym/CAP/ai-starter-kit/yoda/data/sec-edgar-filings/NVDA/10-K/0001045810-23-000017/full-submission/images/page_386.jpg: 640x512 (no detections), 71.1ms\n",
      "Speed: 0.3ms preprocess, 71.1ms inference, 0.2ms postprocess per image at shape (1, 3, 640, 640)\n",
      "\n",
      "image 1/1 /Users/codym/CAP/ai-starter-kit/yoda/data/sec-edgar-filings/NVDA/10-K/0001045810-23-000017/full-submission/images/page_225.jpg: 640x512 (no detections), 66.5ms\n",
      "Speed: 0.2ms preprocess, 66.5ms inference, 0.2ms postprocess per image at shape (1, 3, 640, 640)\n",
      "\n"
     ]
    },
    {
     "name": "stdout",
     "output_type": "stream",
     "text": [
      "Cropping tables from /Users/codym/CAP/ai-starter-kit/yoda/data/sec-edgar-filings/NVDA/10-K/0001045810-23-000017/full-submission/images/page_386.jpg\n",
      "Cropping tables from /Users/codym/CAP/ai-starter-kit/yoda/data/sec-edgar-filings/NVDA/10-K/0001045810-23-000017/full-submission/images/page_225.jpg\n",
      "Cropping tables from /Users/codym/CAP/ai-starter-kit/yoda/data/sec-edgar-filings/NVDA/10-K/0001045810-23-000017/full-submission/images/page_231.jpg\n"
     ]
    },
    {
     "name": "stderr",
     "output_type": "stream",
     "text": [
      "image 1/1 /Users/codym/CAP/ai-starter-kit/yoda/data/sec-edgar-filings/NVDA/10-K/0001045810-23-000017/full-submission/images/page_231.jpg: 640x512 (no detections), 147.7ms\n",
      "Speed: 0.2ms preprocess, 147.7ms inference, 0.2ms postprocess per image at shape (1, 3, 640, 640)\n",
      "\n",
      "image 1/1 /Users/codym/CAP/ai-starter-kit/yoda/data/sec-edgar-filings/NVDA/10-K/0001045810-23-000017/full-submission/images/page_219.jpg: 640x512 (no detections), 72.4ms\n",
      "Speed: 0.4ms preprocess, 72.4ms inference, 0.2ms postprocess per image at shape (1, 3, 640, 640)\n",
      "\n",
      "image 1/1 /Users/codym/CAP/ai-starter-kit/yoda/data/sec-edgar-filings/NVDA/10-K/0001045810-23-000017/full-submission/images/page_50.jpg: 640x512 1 borderless, 68.1ms\n",
      "Speed: 0.3ms preprocess, 68.1ms inference, 0.4ms postprocess per image at shape (1, 3, 640, 640)\n",
      "\n"
     ]
    },
    {
     "name": "stdout",
     "output_type": "stream",
     "text": [
      "Cropping tables from /Users/codym/CAP/ai-starter-kit/yoda/data/sec-edgar-filings/NVDA/10-K/0001045810-23-000017/full-submission/images/page_219.jpg\n",
      "Cropping tables from /Users/codym/CAP/ai-starter-kit/yoda/data/sec-edgar-filings/NVDA/10-K/0001045810-23-000017/full-submission/images/page_50.jpg\n",
      "Cropping tables from /Users/codym/CAP/ai-starter-kit/yoda/data/sec-edgar-filings/NVDA/10-K/0001045810-23-000017/full-submission/images/page_44.jpg\n"
     ]
    },
    {
     "name": "stderr",
     "output_type": "stream",
     "text": [
      "image 1/1 /Users/codym/CAP/ai-starter-kit/yoda/data/sec-edgar-filings/NVDA/10-K/0001045810-23-000017/full-submission/images/page_44.jpg: 640x512 (no detections), 75.0ms\n",
      "Speed: 0.2ms preprocess, 75.0ms inference, 0.2ms postprocess per image at shape (1, 3, 640, 640)\n",
      "\n",
      "image 1/1 /Users/codym/CAP/ai-starter-kit/yoda/data/sec-edgar-filings/NVDA/10-K/0001045810-23-000017/full-submission/images/page_78.jpg: 640x512 2 bordereds, 70.7ms\n",
      "Speed: 0.2ms preprocess, 70.7ms inference, 0.4ms postprocess per image at shape (1, 3, 640, 640)\n",
      "\n",
      "image 1/1 /Users/codym/CAP/ai-starter-kit/yoda/data/sec-edgar-filings/NVDA/10-K/0001045810-23-000017/full-submission/images/page_93.jpg: 640x512 (no detections), 77.8ms\n",
      "Speed: 0.2ms preprocess, 77.8ms inference, 0.2ms postprocess per image at shape (1, 3, 640, 640)\n",
      "\n"
     ]
    },
    {
     "name": "stdout",
     "output_type": "stream",
     "text": [
      "Cropping tables from /Users/codym/CAP/ai-starter-kit/yoda/data/sec-edgar-filings/NVDA/10-K/0001045810-23-000017/full-submission/images/page_78.jpg\n",
      "Cropping tables from /Users/codym/CAP/ai-starter-kit/yoda/data/sec-edgar-filings/NVDA/10-K/0001045810-23-000017/full-submission/images/page_93.jpg\n",
      "Cropping tables from /Users/codym/CAP/ai-starter-kit/yoda/data/sec-edgar-filings/NVDA/10-K/0001045810-23-000017/full-submission/images/page_87.jpg\n"
     ]
    },
    {
     "name": "stderr",
     "output_type": "stream",
     "text": [
      "image 1/1 /Users/codym/CAP/ai-starter-kit/yoda/data/sec-edgar-filings/NVDA/10-K/0001045810-23-000017/full-submission/images/page_87.jpg: 640x512 1 borderless, 81.3ms\n",
      "Speed: 0.2ms preprocess, 81.3ms inference, 0.4ms postprocess per image at shape (1, 3, 640, 640)\n",
      "\n",
      "image 1/1 /Users/codym/CAP/ai-starter-kit/yoda/data/sec-edgar-filings/NVDA/10-K/0001045810-23-000017/full-submission/images/page_83.jpg: 640x512 (no detections), 67.2ms\n",
      "Speed: 0.3ms preprocess, 67.2ms inference, 0.2ms postprocess per image at shape (1, 3, 640, 640)\n",
      "\n",
      "image 1/1 /Users/codym/CAP/ai-starter-kit/yoda/data/sec-edgar-filings/NVDA/10-K/0001045810-23-000017/full-submission/images/page_97.jpg: 640x512 (no detections), 81.2ms\n",
      "Speed: 0.2ms preprocess, 81.2ms inference, 0.3ms postprocess per image at shape (1, 3, 640, 640)\n",
      "\n"
     ]
    },
    {
     "name": "stdout",
     "output_type": "stream",
     "text": [
      "Cropping tables from /Users/codym/CAP/ai-starter-kit/yoda/data/sec-edgar-filings/NVDA/10-K/0001045810-23-000017/full-submission/images/page_83.jpg\n",
      "Cropping tables from /Users/codym/CAP/ai-starter-kit/yoda/data/sec-edgar-filings/NVDA/10-K/0001045810-23-000017/full-submission/images/page_97.jpg\n",
      "Cropping tables from /Users/codym/CAP/ai-starter-kit/yoda/data/sec-edgar-filings/NVDA/10-K/0001045810-23-000017/full-submission/images/page_40.jpg\n"
     ]
    },
    {
     "name": "stderr",
     "output_type": "stream",
     "text": [
      "image 1/1 /Users/codym/CAP/ai-starter-kit/yoda/data/sec-edgar-filings/NVDA/10-K/0001045810-23-000017/full-submission/images/page_40.jpg: 640x512 1 borderless, 71.6ms\n",
      "Speed: 1.0ms preprocess, 71.6ms inference, 0.4ms postprocess per image at shape (1, 3, 640, 640)\n",
      "\n",
      "image 1/1 /Users/codym/CAP/ai-starter-kit/yoda/data/sec-edgar-filings/NVDA/10-K/0001045810-23-000017/full-submission/images/page_54.jpg: 640x512 1 bordered, 1 borderless, 70.5ms\n",
      "Speed: 0.3ms preprocess, 70.5ms inference, 0.4ms postprocess per image at shape (1, 3, 640, 640)\n",
      "\n",
      "image 1/1 /Users/codym/CAP/ai-starter-kit/yoda/data/sec-edgar-filings/NVDA/10-K/0001045810-23-000017/full-submission/images/page_68.jpg: 640x512 1 borderless, 68.5ms\n",
      "Speed: 0.3ms preprocess, 68.5ms inference, 0.4ms postprocess per image at shape (1, 3, 640, 640)\n",
      "\n"
     ]
    },
    {
     "name": "stdout",
     "output_type": "stream",
     "text": [
      "Cropping tables from /Users/codym/CAP/ai-starter-kit/yoda/data/sec-edgar-filings/NVDA/10-K/0001045810-23-000017/full-submission/images/page_54.jpg\n",
      "Cropping tables from /Users/codym/CAP/ai-starter-kit/yoda/data/sec-edgar-filings/NVDA/10-K/0001045810-23-000017/full-submission/images/page_68.jpg\n",
      "Cropping tables from /Users/codym/CAP/ai-starter-kit/yoda/data/sec-edgar-filings/NVDA/10-K/0001045810-23-000017/full-submission/images/page_235.jpg\n"
     ]
    },
    {
     "name": "stderr",
     "output_type": "stream",
     "text": [
      "image 1/1 /Users/codym/CAP/ai-starter-kit/yoda/data/sec-edgar-filings/NVDA/10-K/0001045810-23-000017/full-submission/images/page_235.jpg: 640x512 (no detections), 72.3ms\n",
      "Speed: 0.2ms preprocess, 72.3ms inference, 0.2ms postprocess per image at shape (1, 3, 640, 640)\n",
      "\n",
      "image 1/1 /Users/codym/CAP/ai-starter-kit/yoda/data/sec-edgar-filings/NVDA/10-K/0001045810-23-000017/full-submission/images/page_221.jpg: 640x512 (no detections), 67.4ms\n",
      "Speed: 0.2ms preprocess, 67.4ms inference, 0.2ms postprocess per image at shape (1, 3, 640, 640)\n",
      "\n",
      "image 1/1 /Users/codym/CAP/ai-starter-kit/yoda/data/sec-edgar-filings/NVDA/10-K/0001045810-23-000017/full-submission/images/page_209.jpg: 640x512 1 borderless, 68.4ms\n",
      "Speed: 0.4ms preprocess, 68.4ms inference, 0.3ms postprocess per image at shape (1, 3, 640, 640)\n",
      "\n"
     ]
    },
    {
     "name": "stdout",
     "output_type": "stream",
     "text": [
      "Cropping tables from /Users/codym/CAP/ai-starter-kit/yoda/data/sec-edgar-filings/NVDA/10-K/0001045810-23-000017/full-submission/images/page_221.jpg\n",
      "Cropping tables from /Users/codym/CAP/ai-starter-kit/yoda/data/sec-edgar-filings/NVDA/10-K/0001045810-23-000017/full-submission/images/page_209.jpg\n",
      "Cropping tables from /Users/codym/CAP/ai-starter-kit/yoda/data/sec-edgar-filings/NVDA/10-K/0001045810-23-000017/full-submission/images/page_382.jpg\n"
     ]
    },
    {
     "name": "stderr",
     "output_type": "stream",
     "text": [
      "image 1/1 /Users/codym/CAP/ai-starter-kit/yoda/data/sec-edgar-filings/NVDA/10-K/0001045810-23-000017/full-submission/images/page_382.jpg: 640x512 (no detections), 73.5ms\n",
      "Speed: 0.2ms preprocess, 73.5ms inference, 0.2ms postprocess per image at shape (1, 3, 640, 640)\n",
      "\n",
      "image 1/1 /Users/codym/CAP/ai-starter-kit/yoda/data/sec-edgar-filings/NVDA/10-K/0001045810-23-000017/full-submission/images/page_396.jpg: 640x512 (no detections), 68.5ms\n",
      "Speed: 0.3ms preprocess, 68.5ms inference, 0.2ms postprocess per image at shape (1, 3, 640, 640)\n",
      "\n",
      "image 1/1 /Users/codym/CAP/ai-starter-kit/yoda/data/sec-edgar-filings/NVDA/10-K/0001045810-23-000017/full-submission/images/page_341.jpg: 640x512 (no detections), 68.9ms\n",
      "Speed: 0.2ms preprocess, 68.9ms inference, 0.2ms postprocess per image at shape (1, 3, 640, 640)\n",
      "\n"
     ]
    },
    {
     "name": "stdout",
     "output_type": "stream",
     "text": [
      "Cropping tables from /Users/codym/CAP/ai-starter-kit/yoda/data/sec-edgar-filings/NVDA/10-K/0001045810-23-000017/full-submission/images/page_396.jpg\n",
      "Cropping tables from /Users/codym/CAP/ai-starter-kit/yoda/data/sec-edgar-filings/NVDA/10-K/0001045810-23-000017/full-submission/images/page_341.jpg\n",
      "Cropping tables from /Users/codym/CAP/ai-starter-kit/yoda/data/sec-edgar-filings/NVDA/10-K/0001045810-23-000017/full-submission/images/page_355.jpg\n"
     ]
    },
    {
     "name": "stderr",
     "output_type": "stream",
     "text": [
      "image 1/1 /Users/codym/CAP/ai-starter-kit/yoda/data/sec-edgar-filings/NVDA/10-K/0001045810-23-000017/full-submission/images/page_355.jpg: 640x512 (no detections), 74.3ms\n",
      "Speed: 0.2ms preprocess, 74.3ms inference, 0.2ms postprocess per image at shape (1, 3, 640, 640)\n",
      "\n",
      "image 1/1 /Users/codym/CAP/ai-starter-kit/yoda/data/sec-edgar-filings/NVDA/10-K/0001045810-23-000017/full-submission/images/page_369.jpg: 640x512 (no detections), 66.3ms\n",
      "Speed: 0.3ms preprocess, 66.3ms inference, 0.2ms postprocess per image at shape (1, 3, 640, 640)\n",
      "\n",
      "image 1/1 /Users/codym/CAP/ai-starter-kit/yoda/data/sec-edgar-filings/NVDA/10-K/0001045810-23-000017/full-submission/images/page_180.jpg: 640x512 (no detections), 70.2ms\n",
      "Speed: 0.2ms preprocess, 70.2ms inference, 0.2ms postprocess per image at shape (1, 3, 640, 640)\n",
      "\n"
     ]
    },
    {
     "name": "stdout",
     "output_type": "stream",
     "text": [
      "Cropping tables from /Users/codym/CAP/ai-starter-kit/yoda/data/sec-edgar-filings/NVDA/10-K/0001045810-23-000017/full-submission/images/page_369.jpg\n",
      "Cropping tables from /Users/codym/CAP/ai-starter-kit/yoda/data/sec-edgar-filings/NVDA/10-K/0001045810-23-000017/full-submission/images/page_180.jpg\n",
      "Cropping tables from /Users/codym/CAP/ai-starter-kit/yoda/data/sec-edgar-filings/NVDA/10-K/0001045810-23-000017/full-submission/images/page_194.jpg\n"
     ]
    },
    {
     "name": "stderr",
     "output_type": "stream",
     "text": [
      "image 1/1 /Users/codym/CAP/ai-starter-kit/yoda/data/sec-edgar-filings/NVDA/10-K/0001045810-23-000017/full-submission/images/page_194.jpg: 640x512 2 bordereds, 1 borderless, 181.3ms\n",
      "Speed: 0.6ms preprocess, 181.3ms inference, 8.9ms postprocess per image at shape (1, 3, 640, 640)\n",
      "\n",
      "image 1/1 /Users/codym/CAP/ai-starter-kit/yoda/data/sec-edgar-filings/NVDA/10-K/0001045810-23-000017/full-submission/images/page_4.jpg: 640x512 (no detections), 83.4ms\n",
      "Speed: 0.4ms preprocess, 83.4ms inference, 0.2ms postprocess per image at shape (1, 3, 640, 640)\n",
      "\n",
      "image 1/1 /Users/codym/CAP/ai-starter-kit/yoda/data/sec-edgar-filings/NVDA/10-K/0001045810-23-000017/full-submission/images/page_143.jpg: 640x512 (no detections), 72.5ms\n",
      "Speed: 0.2ms preprocess, 72.5ms inference, 0.2ms postprocess per image at shape (1, 3, 640, 640)\n",
      "\n"
     ]
    },
    {
     "name": "stdout",
     "output_type": "stream",
     "text": [
      "Cropping tables from /Users/codym/CAP/ai-starter-kit/yoda/data/sec-edgar-filings/NVDA/10-K/0001045810-23-000017/full-submission/images/page_4.jpg\n",
      "Cropping tables from /Users/codym/CAP/ai-starter-kit/yoda/data/sec-edgar-filings/NVDA/10-K/0001045810-23-000017/full-submission/images/page_143.jpg\n",
      "Cropping tables from /Users/codym/CAP/ai-starter-kit/yoda/data/sec-edgar-filings/NVDA/10-K/0001045810-23-000017/full-submission/images/page_157.jpg\n"
     ]
    },
    {
     "name": "stderr",
     "output_type": "stream",
     "text": [
      "image 1/1 /Users/codym/CAP/ai-starter-kit/yoda/data/sec-edgar-filings/NVDA/10-K/0001045810-23-000017/full-submission/images/page_157.jpg: 640x512 (no detections), 80.6ms\n",
      "Speed: 0.3ms preprocess, 80.6ms inference, 0.2ms postprocess per image at shape (1, 3, 640, 640)\n",
      "\n",
      "image 1/1 /Users/codym/CAP/ai-starter-kit/yoda/data/sec-edgar-filings/NVDA/10-K/0001045810-23-000017/full-submission/images/page_156.jpg: 640x512 (no detections), 72.5ms\n",
      "Speed: 0.5ms preprocess, 72.5ms inference, 0.2ms postprocess per image at shape (1, 3, 640, 640)\n",
      "\n"
     ]
    },
    {
     "name": "stdout",
     "output_type": "stream",
     "text": [
      "Cropping tables from /Users/codym/CAP/ai-starter-kit/yoda/data/sec-edgar-filings/NVDA/10-K/0001045810-23-000017/full-submission/images/page_156.jpg\n",
      "Cropping tables from /Users/codym/CAP/ai-starter-kit/yoda/data/sec-edgar-filings/NVDA/10-K/0001045810-23-000017/full-submission/images/page_142.jpg\n"
     ]
    },
    {
     "name": "stderr",
     "output_type": "stream",
     "text": [
      "image 1/1 /Users/codym/CAP/ai-starter-kit/yoda/data/sec-edgar-filings/NVDA/10-K/0001045810-23-000017/full-submission/images/page_142.jpg: 640x512 (no detections), 102.7ms\n",
      "Speed: 0.2ms preprocess, 102.7ms inference, 0.3ms postprocess per image at shape (1, 3, 640, 640)\n",
      "\n",
      "image 1/1 /Users/codym/CAP/ai-starter-kit/yoda/data/sec-edgar-filings/NVDA/10-K/0001045810-23-000017/full-submission/images/page_195.jpg: 640x512 1 bordered, 1 borderless, 74.3ms\n",
      "Speed: 0.3ms preprocess, 74.3ms inference, 0.4ms postprocess per image at shape (1, 3, 640, 640)\n",
      "\n",
      "image 1/1 /Users/codym/CAP/ai-starter-kit/yoda/data/sec-edgar-filings/NVDA/10-K/0001045810-23-000017/full-submission/images/page_5.jpg: 640x512 (no detections), 69.0ms\n",
      "Speed: 0.2ms preprocess, 69.0ms inference, 0.2ms postprocess per image at shape (1, 3, 640, 640)\n",
      "\n"
     ]
    },
    {
     "name": "stdout",
     "output_type": "stream",
     "text": [
      "Cropping tables from /Users/codym/CAP/ai-starter-kit/yoda/data/sec-edgar-filings/NVDA/10-K/0001045810-23-000017/full-submission/images/page_195.jpg\n",
      "Cropping tables from /Users/codym/CAP/ai-starter-kit/yoda/data/sec-edgar-filings/NVDA/10-K/0001045810-23-000017/full-submission/images/page_5.jpg\n",
      "Cropping tables from /Users/codym/CAP/ai-starter-kit/yoda/data/sec-edgar-filings/NVDA/10-K/0001045810-23-000017/full-submission/images/page_181.jpg\n"
     ]
    },
    {
     "name": "stderr",
     "output_type": "stream",
     "text": [
      "image 1/1 /Users/codym/CAP/ai-starter-kit/yoda/data/sec-edgar-filings/NVDA/10-K/0001045810-23-000017/full-submission/images/page_181.jpg: 640x512 2 bordereds, 2 borderlesss, 73.4ms\n",
      "Speed: 0.2ms preprocess, 73.4ms inference, 0.4ms postprocess per image at shape (1, 3, 640, 640)\n",
      "\n",
      "image 1/1 /Users/codym/CAP/ai-starter-kit/yoda/data/sec-edgar-filings/NVDA/10-K/0001045810-23-000017/full-submission/images/page_368.jpg: 640x512 (no detections), 70.0ms\n",
      "Speed: 0.2ms preprocess, 70.0ms inference, 0.2ms postprocess per image at shape (1, 3, 640, 640)\n",
      "\n",
      "image 1/1 /Users/codym/CAP/ai-starter-kit/yoda/data/sec-edgar-filings/NVDA/10-K/0001045810-23-000017/full-submission/images/page_354.jpg: 640x512 (no detections), 71.0ms\n",
      "Speed: 0.2ms preprocess, 71.0ms inference, 0.2ms postprocess per image at shape (1, 3, 640, 640)\n",
      "\n"
     ]
    },
    {
     "name": "stdout",
     "output_type": "stream",
     "text": [
      "Cropping tables from /Users/codym/CAP/ai-starter-kit/yoda/data/sec-edgar-filings/NVDA/10-K/0001045810-23-000017/full-submission/images/page_368.jpg\n",
      "Cropping tables from /Users/codym/CAP/ai-starter-kit/yoda/data/sec-edgar-filings/NVDA/10-K/0001045810-23-000017/full-submission/images/page_354.jpg\n",
      "Cropping tables from /Users/codym/CAP/ai-starter-kit/yoda/data/sec-edgar-filings/NVDA/10-K/0001045810-23-000017/full-submission/images/page_340.jpg\n"
     ]
    },
    {
     "name": "stderr",
     "output_type": "stream",
     "text": [
      "image 1/1 /Users/codym/CAP/ai-starter-kit/yoda/data/sec-edgar-filings/NVDA/10-K/0001045810-23-000017/full-submission/images/page_340.jpg: 640x512 (no detections), 71.3ms\n",
      "Speed: 0.2ms preprocess, 71.3ms inference, 0.2ms postprocess per image at shape (1, 3, 640, 640)\n",
      "\n",
      "image 1/1 /Users/codym/CAP/ai-starter-kit/yoda/data/sec-edgar-filings/NVDA/10-K/0001045810-23-000017/full-submission/images/page_397.jpg: 640x512 (no detections), 68.3ms\n",
      "Speed: 0.3ms preprocess, 68.3ms inference, 0.2ms postprocess per image at shape (1, 3, 640, 640)\n",
      "\n",
      "image 1/1 /Users/codym/CAP/ai-starter-kit/yoda/data/sec-edgar-filings/NVDA/10-K/0001045810-23-000017/full-submission/images/page_383.jpg: 640x512 (no detections), 65.5ms\n",
      "Speed: 0.2ms preprocess, 65.5ms inference, 0.2ms postprocess per image at shape (1, 3, 640, 640)\n",
      "\n"
     ]
    },
    {
     "name": "stdout",
     "output_type": "stream",
     "text": [
      "Cropping tables from /Users/codym/CAP/ai-starter-kit/yoda/data/sec-edgar-filings/NVDA/10-K/0001045810-23-000017/full-submission/images/page_397.jpg\n",
      "Cropping tables from /Users/codym/CAP/ai-starter-kit/yoda/data/sec-edgar-filings/NVDA/10-K/0001045810-23-000017/full-submission/images/page_383.jpg\n",
      "Cropping tables from /Users/codym/CAP/ai-starter-kit/yoda/data/sec-edgar-filings/NVDA/10-K/0001045810-23-000017/full-submission/images/page_208.jpg\n"
     ]
    },
    {
     "name": "stderr",
     "output_type": "stream",
     "text": [
      "image 1/1 /Users/codym/CAP/ai-starter-kit/yoda/data/sec-edgar-filings/NVDA/10-K/0001045810-23-000017/full-submission/images/page_208.jpg: 640x512 (no detections), 72.6ms\n",
      "Speed: 0.2ms preprocess, 72.6ms inference, 0.2ms postprocess per image at shape (1, 3, 640, 640)\n",
      "\n",
      "image 1/1 /Users/codym/CAP/ai-starter-kit/yoda/data/sec-edgar-filings/NVDA/10-K/0001045810-23-000017/full-submission/images/page_220.jpg: 640x512 (no detections), 66.3ms\n",
      "Speed: 0.2ms preprocess, 66.3ms inference, 0.2ms postprocess per image at shape (1, 3, 640, 640)\n",
      "\n",
      "image 1/1 /Users/codym/CAP/ai-starter-kit/yoda/data/sec-edgar-filings/NVDA/10-K/0001045810-23-000017/full-submission/images/page_234.jpg: 640x512 (no detections), 66.6ms\n",
      "Speed: 0.2ms preprocess, 66.6ms inference, 0.2ms postprocess per image at shape (1, 3, 640, 640)\n",
      "\n"
     ]
    },
    {
     "name": "stdout",
     "output_type": "stream",
     "text": [
      "Cropping tables from /Users/codym/CAP/ai-starter-kit/yoda/data/sec-edgar-filings/NVDA/10-K/0001045810-23-000017/full-submission/images/page_220.jpg\n",
      "Cropping tables from /Users/codym/CAP/ai-starter-kit/yoda/data/sec-edgar-filings/NVDA/10-K/0001045810-23-000017/full-submission/images/page_234.jpg\n",
      "Cropping tables from /Users/codym/CAP/ai-starter-kit/yoda/data/sec-edgar-filings/NVDA/10-K/0001045810-23-000017/full-submission/images/page_69.jpg\n"
     ]
    },
    {
     "name": "stderr",
     "output_type": "stream",
     "text": [
      "image 1/1 /Users/codym/CAP/ai-starter-kit/yoda/data/sec-edgar-filings/NVDA/10-K/0001045810-23-000017/full-submission/images/page_69.jpg: 640x512 1 bordered, 68.8ms\n",
      "Speed: 0.2ms preprocess, 68.8ms inference, 0.4ms postprocess per image at shape (1, 3, 640, 640)\n",
      "\n",
      "image 1/1 /Users/codym/CAP/ai-starter-kit/yoda/data/sec-edgar-filings/NVDA/10-K/0001045810-23-000017/full-submission/images/page_55.jpg: 640x512 1 bordered, 72.8ms\n",
      "Speed: 0.2ms preprocess, 72.8ms inference, 0.4ms postprocess per image at shape (1, 3, 640, 640)\n",
      "\n",
      "image 1/1 /Users/codym/CAP/ai-starter-kit/yoda/data/sec-edgar-filings/NVDA/10-K/0001045810-23-000017/full-submission/images/page_41.jpg: 640x512 (no detections), 70.2ms\n",
      "Speed: 1.9ms preprocess, 70.2ms inference, 0.2ms postprocess per image at shape (1, 3, 640, 640)\n",
      "\n"
     ]
    },
    {
     "name": "stdout",
     "output_type": "stream",
     "text": [
      "Cropping tables from /Users/codym/CAP/ai-starter-kit/yoda/data/sec-edgar-filings/NVDA/10-K/0001045810-23-000017/full-submission/images/page_55.jpg\n",
      "Cropping tables from /Users/codym/CAP/ai-starter-kit/yoda/data/sec-edgar-filings/NVDA/10-K/0001045810-23-000017/full-submission/images/page_41.jpg\n",
      "Cropping tables from /Users/codym/CAP/ai-starter-kit/yoda/data/sec-edgar-filings/NVDA/10-K/0001045810-23-000017/full-submission/images/page_96.jpg\n"
     ]
    },
    {
     "name": "stderr",
     "output_type": "stream",
     "text": [
      "image 1/1 /Users/codym/CAP/ai-starter-kit/yoda/data/sec-edgar-filings/NVDA/10-K/0001045810-23-000017/full-submission/images/page_96.jpg: 640x512 (no detections), 69.9ms\n",
      "Speed: 0.5ms preprocess, 69.9ms inference, 0.2ms postprocess per image at shape (1, 3, 640, 640)\n",
      "\n",
      "image 1/1 /Users/codym/CAP/ai-starter-kit/yoda/data/sec-edgar-filings/NVDA/10-K/0001045810-23-000017/full-submission/images/page_82.jpg: 640x512 1 borderless, 67.0ms\n",
      "Speed: 0.4ms preprocess, 67.0ms inference, 0.4ms postprocess per image at shape (1, 3, 640, 640)\n",
      "\n",
      "image 1/1 /Users/codym/CAP/ai-starter-kit/yoda/data/sec-edgar-filings/NVDA/10-K/0001045810-23-000017/full-submission/images/page_94.jpg: 640x512 (no detections), 70.6ms\n",
      "Speed: 0.2ms preprocess, 70.6ms inference, 0.2ms postprocess per image at shape (1, 3, 640, 640)\n",
      "\n"
     ]
    },
    {
     "name": "stdout",
     "output_type": "stream",
     "text": [
      "Cropping tables from /Users/codym/CAP/ai-starter-kit/yoda/data/sec-edgar-filings/NVDA/10-K/0001045810-23-000017/full-submission/images/page_82.jpg\n",
      "Cropping tables from /Users/codym/CAP/ai-starter-kit/yoda/data/sec-edgar-filings/NVDA/10-K/0001045810-23-000017/full-submission/images/page_94.jpg\n",
      "Cropping tables from /Users/codym/CAP/ai-starter-kit/yoda/data/sec-edgar-filings/NVDA/10-K/0001045810-23-000017/full-submission/images/page_80.jpg\n"
     ]
    },
    {
     "name": "stderr",
     "output_type": "stream",
     "text": [
      "image 1/1 /Users/codym/CAP/ai-starter-kit/yoda/data/sec-edgar-filings/NVDA/10-K/0001045810-23-000017/full-submission/images/page_80.jpg: 640x512 3 borderlesss, 72.8ms\n",
      "Speed: 0.4ms preprocess, 72.8ms inference, 0.4ms postprocess per image at shape (1, 3, 640, 640)\n",
      "\n",
      "image 1/1 /Users/codym/CAP/ai-starter-kit/yoda/data/sec-edgar-filings/NVDA/10-K/0001045810-23-000017/full-submission/images/page_57.jpg: 640x512 1 bordered, 1 borderless, 72.9ms\n",
      "Speed: 0.2ms preprocess, 72.9ms inference, 0.4ms postprocess per image at shape (1, 3, 640, 640)\n",
      "\n",
      "image 1/1 /Users/codym/CAP/ai-starter-kit/yoda/data/sec-edgar-filings/NVDA/10-K/0001045810-23-000017/full-submission/images/page_43.jpg: 640x512 1 borderless, 67.4ms\n",
      "Speed: 0.2ms preprocess, 67.4ms inference, 0.4ms postprocess per image at shape (1, 3, 640, 640)\n",
      "\n"
     ]
    },
    {
     "name": "stdout",
     "output_type": "stream",
     "text": [
      "Cropping tables from /Users/codym/CAP/ai-starter-kit/yoda/data/sec-edgar-filings/NVDA/10-K/0001045810-23-000017/full-submission/images/page_57.jpg\n",
      "Cropping tables from /Users/codym/CAP/ai-starter-kit/yoda/data/sec-edgar-filings/NVDA/10-K/0001045810-23-000017/full-submission/images/page_43.jpg\n",
      "Cropping tables from /Users/codym/CAP/ai-starter-kit/yoda/data/sec-edgar-filings/NVDA/10-K/0001045810-23-000017/full-submission/images/page_222.jpg\n"
     ]
    },
    {
     "name": "stderr",
     "output_type": "stream",
     "text": [
      "image 1/1 /Users/codym/CAP/ai-starter-kit/yoda/data/sec-edgar-filings/NVDA/10-K/0001045810-23-000017/full-submission/images/page_222.jpg: 640x512 (no detections), 72.7ms\n",
      "Speed: 0.2ms preprocess, 72.7ms inference, 0.2ms postprocess per image at shape (1, 3, 640, 640)\n",
      "\n",
      "image 1/1 /Users/codym/CAP/ai-starter-kit/yoda/data/sec-edgar-filings/NVDA/10-K/0001045810-23-000017/full-submission/images/page_236.jpg: 640x512 (no detections), 84.6ms\n",
      "Speed: 0.2ms preprocess, 84.6ms inference, 0.2ms postprocess per image at shape (1, 3, 640, 640)\n",
      "\n",
      "image 1/1 /Users/codym/CAP/ai-starter-kit/yoda/data/sec-edgar-filings/NVDA/10-K/0001045810-23-000017/full-submission/images/page_395.jpg: 640x512 (no detections), 68.2ms\n",
      "Speed: 0.2ms preprocess, 68.2ms inference, 0.2ms postprocess per image at shape (1, 3, 640, 640)\n",
      "\n"
     ]
    },
    {
     "name": "stdout",
     "output_type": "stream",
     "text": [
      "Cropping tables from /Users/codym/CAP/ai-starter-kit/yoda/data/sec-edgar-filings/NVDA/10-K/0001045810-23-000017/full-submission/images/page_236.jpg\n",
      "Cropping tables from /Users/codym/CAP/ai-starter-kit/yoda/data/sec-edgar-filings/NVDA/10-K/0001045810-23-000017/full-submission/images/page_395.jpg\n",
      "Cropping tables from /Users/codym/CAP/ai-starter-kit/yoda/data/sec-edgar-filings/NVDA/10-K/0001045810-23-000017/full-submission/images/page_381.jpg\n"
     ]
    },
    {
     "name": "stderr",
     "output_type": "stream",
     "text": [
      "image 1/1 /Users/codym/CAP/ai-starter-kit/yoda/data/sec-edgar-filings/NVDA/10-K/0001045810-23-000017/full-submission/images/page_381.jpg: 640x512 (no detections), 82.7ms\n",
      "Speed: 14.5ms preprocess, 82.7ms inference, 0.2ms postprocess per image at shape (1, 3, 640, 640)\n",
      "\n",
      "image 1/1 /Users/codym/CAP/ai-starter-kit/yoda/data/sec-edgar-filings/NVDA/10-K/0001045810-23-000017/full-submission/images/page_356.jpg: 640x512 (no detections), 69.6ms\n",
      "Speed: 0.3ms preprocess, 69.6ms inference, 0.2ms postprocess per image at shape (1, 3, 640, 640)\n",
      "\n",
      "image 1/1 /Users/codym/CAP/ai-starter-kit/yoda/data/sec-edgar-filings/NVDA/10-K/0001045810-23-000017/full-submission/images/page_342.jpg: 640x512 (no detections), 69.7ms\n",
      "Speed: 0.4ms preprocess, 69.7ms inference, 0.2ms postprocess per image at shape (1, 3, 640, 640)\n",
      "\n"
     ]
    },
    {
     "name": "stdout",
     "output_type": "stream",
     "text": [
      "Cropping tables from /Users/codym/CAP/ai-starter-kit/yoda/data/sec-edgar-filings/NVDA/10-K/0001045810-23-000017/full-submission/images/page_356.jpg\n",
      "Cropping tables from /Users/codym/CAP/ai-starter-kit/yoda/data/sec-edgar-filings/NVDA/10-K/0001045810-23-000017/full-submission/images/page_342.jpg\n",
      "Cropping tables from /Users/codym/CAP/ai-starter-kit/yoda/data/sec-edgar-filings/NVDA/10-K/0001045810-23-000017/full-submission/images/page_7.jpg\n"
     ]
    },
    {
     "name": "stderr",
     "output_type": "stream",
     "text": [
      "image 1/1 /Users/codym/CAP/ai-starter-kit/yoda/data/sec-edgar-filings/NVDA/10-K/0001045810-23-000017/full-submission/images/page_7.jpg: 640x512 (no detections), 71.1ms\n",
      "Speed: 0.2ms preprocess, 71.1ms inference, 0.2ms postprocess per image at shape (1, 3, 640, 640)\n",
      "\n",
      "image 1/1 /Users/codym/CAP/ai-starter-kit/yoda/data/sec-edgar-filings/NVDA/10-K/0001045810-23-000017/full-submission/images/page_197.jpg: 640x512 1 bordered, 71.8ms\n",
      "Speed: 0.3ms preprocess, 71.8ms inference, 0.4ms postprocess per image at shape (1, 3, 640, 640)\n",
      "\n",
      "image 1/1 /Users/codym/CAP/ai-starter-kit/yoda/data/sec-edgar-filings/NVDA/10-K/0001045810-23-000017/full-submission/images/page_183.jpg: 640x512 2 borderlesss, 67.1ms\n",
      "Speed: 0.2ms preprocess, 67.1ms inference, 0.4ms postprocess per image at shape (1, 3, 640, 640)\n",
      "\n"
     ]
    },
    {
     "name": "stdout",
     "output_type": "stream",
     "text": [
      "Cropping tables from /Users/codym/CAP/ai-starter-kit/yoda/data/sec-edgar-filings/NVDA/10-K/0001045810-23-000017/full-submission/images/page_197.jpg\n",
      "Cropping tables from /Users/codym/CAP/ai-starter-kit/yoda/data/sec-edgar-filings/NVDA/10-K/0001045810-23-000017/full-submission/images/page_183.jpg\n",
      "Cropping tables from /Users/codym/CAP/ai-starter-kit/yoda/data/sec-edgar-filings/NVDA/10-K/0001045810-23-000017/full-submission/images/page_154.jpg\n"
     ]
    },
    {
     "name": "stderr",
     "output_type": "stream",
     "text": [
      "image 1/1 /Users/codym/CAP/ai-starter-kit/yoda/data/sec-edgar-filings/NVDA/10-K/0001045810-23-000017/full-submission/images/page_154.jpg: 640x512 (no detections), 72.3ms\n",
      "Speed: 0.2ms preprocess, 72.3ms inference, 0.2ms postprocess per image at shape (1, 3, 640, 640)\n",
      "\n",
      "image 1/1 /Users/codym/CAP/ai-starter-kit/yoda/data/sec-edgar-filings/NVDA/10-K/0001045810-23-000017/full-submission/images/page_140.jpg: 640x512 (no detections), 70.5ms\n",
      "Speed: 0.6ms preprocess, 70.5ms inference, 0.2ms postprocess per image at shape (1, 3, 640, 640)\n",
      "\n",
      "image 1/1 /Users/codym/CAP/ai-starter-kit/yoda/data/sec-edgar-filings/NVDA/10-K/0001045810-23-000017/full-submission/images/page_168.jpg: 640x512 (no detections), 65.6ms\n",
      "Speed: 0.3ms preprocess, 65.6ms inference, 0.2ms postprocess per image at shape (1, 3, 640, 640)\n",
      "\n"
     ]
    },
    {
     "name": "stdout",
     "output_type": "stream",
     "text": [
      "Cropping tables from /Users/codym/CAP/ai-starter-kit/yoda/data/sec-edgar-filings/NVDA/10-K/0001045810-23-000017/full-submission/images/page_140.jpg\n",
      "Cropping tables from /Users/codym/CAP/ai-starter-kit/yoda/data/sec-edgar-filings/NVDA/10-K/0001045810-23-000017/full-submission/images/page_168.jpg\n",
      "Cropping tables from /Users/codym/CAP/ai-starter-kit/yoda/data/sec-edgar-filings/NVDA/10-K/0001045810-23-000017/full-submission/images/page_169.jpg\n"
     ]
    },
    {
     "name": "stderr",
     "output_type": "stream",
     "text": [
      "image 1/1 /Users/codym/CAP/ai-starter-kit/yoda/data/sec-edgar-filings/NVDA/10-K/0001045810-23-000017/full-submission/images/page_169.jpg: 640x512 (no detections), 74.0ms\n",
      "Speed: 0.2ms preprocess, 74.0ms inference, 0.2ms postprocess per image at shape (1, 3, 640, 640)\n",
      "\n",
      "image 1/1 /Users/codym/CAP/ai-starter-kit/yoda/data/sec-edgar-filings/NVDA/10-K/0001045810-23-000017/full-submission/images/page_141.jpg: 640x512 (no detections), 75.4ms\n",
      "Speed: 0.2ms preprocess, 75.4ms inference, 0.2ms postprocess per image at shape (1, 3, 640, 640)\n",
      "\n",
      "image 1/1 /Users/codym/CAP/ai-starter-kit/yoda/data/sec-edgar-filings/NVDA/10-K/0001045810-23-000017/full-submission/images/page_155.jpg: 640x512 (no detections), 68.5ms\n",
      "Speed: 0.2ms preprocess, 68.5ms inference, 0.2ms postprocess per image at shape (1, 3, 640, 640)\n",
      "\n"
     ]
    },
    {
     "name": "stdout",
     "output_type": "stream",
     "text": [
      "Cropping tables from /Users/codym/CAP/ai-starter-kit/yoda/data/sec-edgar-filings/NVDA/10-K/0001045810-23-000017/full-submission/images/page_141.jpg\n",
      "Cropping tables from /Users/codym/CAP/ai-starter-kit/yoda/data/sec-edgar-filings/NVDA/10-K/0001045810-23-000017/full-submission/images/page_155.jpg\n",
      "Cropping tables from /Users/codym/CAP/ai-starter-kit/yoda/data/sec-edgar-filings/NVDA/10-K/0001045810-23-000017/full-submission/images/page_182.jpg\n"
     ]
    },
    {
     "name": "stderr",
     "output_type": "stream",
     "text": [
      "image 1/1 /Users/codym/CAP/ai-starter-kit/yoda/data/sec-edgar-filings/NVDA/10-K/0001045810-23-000017/full-submission/images/page_182.jpg: 640x512 1 bordered, 72.0ms\n",
      "Speed: 0.2ms preprocess, 72.0ms inference, 0.4ms postprocess per image at shape (1, 3, 640, 640)\n",
      "\n",
      "image 1/1 /Users/codym/CAP/ai-starter-kit/yoda/data/sec-edgar-filings/NVDA/10-K/0001045810-23-000017/full-submission/images/page_6.jpg: 640x512 (no detections), 72.1ms\n",
      "Speed: 7.2ms preprocess, 72.1ms inference, 0.2ms postprocess per image at shape (1, 3, 640, 640)\n",
      "\n",
      "image 1/1 /Users/codym/CAP/ai-starter-kit/yoda/data/sec-edgar-filings/NVDA/10-K/0001045810-23-000017/full-submission/images/page_196.jpg: 640x512 1 bordered, 3 borderlesss, 67.6ms\n",
      "Speed: 0.4ms preprocess, 67.6ms inference, 0.4ms postprocess per image at shape (1, 3, 640, 640)\n",
      "\n"
     ]
    },
    {
     "name": "stdout",
     "output_type": "stream",
     "text": [
      "Cropping tables from /Users/codym/CAP/ai-starter-kit/yoda/data/sec-edgar-filings/NVDA/10-K/0001045810-23-000017/full-submission/images/page_6.jpg\n",
      "Cropping tables from /Users/codym/CAP/ai-starter-kit/yoda/data/sec-edgar-filings/NVDA/10-K/0001045810-23-000017/full-submission/images/page_196.jpg\n",
      "Cropping tables from /Users/codym/CAP/ai-starter-kit/yoda/data/sec-edgar-filings/NVDA/10-K/0001045810-23-000017/full-submission/images/page_343.jpg\n"
     ]
    },
    {
     "name": "stderr",
     "output_type": "stream",
     "text": [
      "image 1/1 /Users/codym/CAP/ai-starter-kit/yoda/data/sec-edgar-filings/NVDA/10-K/0001045810-23-000017/full-submission/images/page_343.jpg: 640x512 (no detections), 82.2ms\n",
      "Speed: 0.2ms preprocess, 82.2ms inference, 0.2ms postprocess per image at shape (1, 3, 640, 640)\n",
      "\n",
      "image 1/1 /Users/codym/CAP/ai-starter-kit/yoda/data/sec-edgar-filings/NVDA/10-K/0001045810-23-000017/full-submission/images/page_357.jpg: 640x512 (no detections), 66.9ms\n",
      "Speed: 0.2ms preprocess, 66.9ms inference, 0.2ms postprocess per image at shape (1, 3, 640, 640)\n",
      "\n",
      "image 1/1 /Users/codym/CAP/ai-starter-kit/yoda/data/sec-edgar-filings/NVDA/10-K/0001045810-23-000017/full-submission/images/page_380.jpg: 640x512 (no detections), 66.5ms\n",
      "Speed: 2.1ms preprocess, 66.5ms inference, 0.2ms postprocess per image at shape (1, 3, 640, 640)\n",
      "\n"
     ]
    },
    {
     "name": "stdout",
     "output_type": "stream",
     "text": [
      "Cropping tables from /Users/codym/CAP/ai-starter-kit/yoda/data/sec-edgar-filings/NVDA/10-K/0001045810-23-000017/full-submission/images/page_357.jpg\n",
      "Cropping tables from /Users/codym/CAP/ai-starter-kit/yoda/data/sec-edgar-filings/NVDA/10-K/0001045810-23-000017/full-submission/images/page_380.jpg\n",
      "Cropping tables from /Users/codym/CAP/ai-starter-kit/yoda/data/sec-edgar-filings/NVDA/10-K/0001045810-23-000017/full-submission/images/page_394.jpg\n"
     ]
    },
    {
     "name": "stderr",
     "output_type": "stream",
     "text": [
      "image 1/1 /Users/codym/CAP/ai-starter-kit/yoda/data/sec-edgar-filings/NVDA/10-K/0001045810-23-000017/full-submission/images/page_394.jpg: 640x512 (no detections), 68.8ms\n",
      "Speed: 0.2ms preprocess, 68.8ms inference, 0.2ms postprocess per image at shape (1, 3, 640, 640)\n",
      "\n",
      "image 1/1 /Users/codym/CAP/ai-starter-kit/yoda/data/sec-edgar-filings/NVDA/10-K/0001045810-23-000017/full-submission/images/page_237.jpg: 640x512 (no detections), 67.3ms\n",
      "Speed: 0.7ms preprocess, 67.3ms inference, 0.2ms postprocess per image at shape (1, 3, 640, 640)\n",
      "\n",
      "image 1/1 /Users/codym/CAP/ai-starter-kit/yoda/data/sec-edgar-filings/NVDA/10-K/0001045810-23-000017/full-submission/images/page_223.jpg: 640x512 (no detections), 71.1ms\n",
      "Speed: 0.6ms preprocess, 71.1ms inference, 0.2ms postprocess per image at shape (1, 3, 640, 640)\n",
      "\n"
     ]
    },
    {
     "name": "stdout",
     "output_type": "stream",
     "text": [
      "Cropping tables from /Users/codym/CAP/ai-starter-kit/yoda/data/sec-edgar-filings/NVDA/10-K/0001045810-23-000017/full-submission/images/page_237.jpg\n",
      "Cropping tables from /Users/codym/CAP/ai-starter-kit/yoda/data/sec-edgar-filings/NVDA/10-K/0001045810-23-000017/full-submission/images/page_223.jpg\n",
      "Cropping tables from /Users/codym/CAP/ai-starter-kit/yoda/data/sec-edgar-filings/NVDA/10-K/0001045810-23-000017/full-submission/images/page_42.jpg\n"
     ]
    },
    {
     "name": "stderr",
     "output_type": "stream",
     "text": [
      "image 1/1 /Users/codym/CAP/ai-starter-kit/yoda/data/sec-edgar-filings/NVDA/10-K/0001045810-23-000017/full-submission/images/page_42.jpg: 640x512 1 borderless, 75.6ms\n",
      "Speed: 0.2ms preprocess, 75.6ms inference, 0.4ms postprocess per image at shape (1, 3, 640, 640)\n",
      "\n",
      "image 1/1 /Users/codym/CAP/ai-starter-kit/yoda/data/sec-edgar-filings/NVDA/10-K/0001045810-23-000017/full-submission/images/page_56.jpg: 640x512 1 borderless, 85.8ms\n",
      "Speed: 0.2ms preprocess, 85.8ms inference, 0.4ms postprocess per image at shape (1, 3, 640, 640)\n",
      "\n",
      "image 1/1 /Users/codym/CAP/ai-starter-kit/yoda/data/sec-edgar-filings/NVDA/10-K/0001045810-23-000017/full-submission/images/page_81.jpg: 640x512 1 bordered, 1 borderless, 66.9ms\n",
      "Speed: 0.6ms preprocess, 66.9ms inference, 0.4ms postprocess per image at shape (1, 3, 640, 640)\n",
      "\n"
     ]
    },
    {
     "name": "stdout",
     "output_type": "stream",
     "text": [
      "Cropping tables from /Users/codym/CAP/ai-starter-kit/yoda/data/sec-edgar-filings/NVDA/10-K/0001045810-23-000017/full-submission/images/page_56.jpg\n",
      "Cropping tables from /Users/codym/CAP/ai-starter-kit/yoda/data/sec-edgar-filings/NVDA/10-K/0001045810-23-000017/full-submission/images/page_81.jpg\n",
      "Cropping tables from /Users/codym/CAP/ai-starter-kit/yoda/data/sec-edgar-filings/NVDA/10-K/0001045810-23-000017/full-submission/images/page_95.jpg\n"
     ]
    },
    {
     "name": "stderr",
     "output_type": "stream",
     "text": [
      "image 1/1 /Users/codym/CAP/ai-starter-kit/yoda/data/sec-edgar-filings/NVDA/10-K/0001045810-23-000017/full-submission/images/page_95.jpg: 640x512 (no detections), 70.3ms\n",
      "Speed: 0.2ms preprocess, 70.3ms inference, 0.2ms postprocess per image at shape (1, 3, 640, 640)\n",
      "\n",
      "image 1/1 /Users/codym/CAP/ai-starter-kit/yoda/data/sec-edgar-filings/NVDA/10-K/0001045810-23-000017/full-submission/images/page_19.jpg: 640x512 (no detections), 74.2ms\n",
      "Speed: 0.3ms preprocess, 74.2ms inference, 0.2ms postprocess per image at shape (1, 3, 640, 640)\n",
      "\n",
      "image 1/1 /Users/codym/CAP/ai-starter-kit/yoda/data/sec-edgar-filings/NVDA/10-K/0001045810-23-000017/full-submission/images/page_31.jpg: 640x512 (no detections), 68.5ms\n",
      "Speed: 0.2ms preprocess, 68.5ms inference, 0.2ms postprocess per image at shape (1, 3, 640, 640)\n",
      "\n"
     ]
    },
    {
     "name": "stdout",
     "output_type": "stream",
     "text": [
      "Cropping tables from /Users/codym/CAP/ai-starter-kit/yoda/data/sec-edgar-filings/NVDA/10-K/0001045810-23-000017/full-submission/images/page_19.jpg\n",
      "Cropping tables from /Users/codym/CAP/ai-starter-kit/yoda/data/sec-edgar-filings/NVDA/10-K/0001045810-23-000017/full-submission/images/page_31.jpg\n",
      "Cropping tables from /Users/codym/CAP/ai-starter-kit/yoda/data/sec-edgar-filings/NVDA/10-K/0001045810-23-000017/full-submission/images/page_25.jpg\n"
     ]
    },
    {
     "name": "stderr",
     "output_type": "stream",
     "text": [
      "image 1/1 /Users/codym/CAP/ai-starter-kit/yoda/data/sec-edgar-filings/NVDA/10-K/0001045810-23-000017/full-submission/images/page_25.jpg: 640x512 (no detections), 70.6ms\n",
      "Speed: 0.2ms preprocess, 70.6ms inference, 0.2ms postprocess per image at shape (1, 3, 640, 640)\n",
      "\n",
      "image 1/1 /Users/codym/CAP/ai-starter-kit/yoda/data/sec-edgar-filings/NVDA/10-K/0001045810-23-000017/full-submission/images/page_287.jpg: 640x512 (no detections), 66.2ms\n",
      "Speed: 0.2ms preprocess, 66.2ms inference, 0.2ms postprocess per image at shape (1, 3, 640, 640)\n",
      "\n",
      "image 1/1 /Users/codym/CAP/ai-starter-kit/yoda/data/sec-edgar-filings/NVDA/10-K/0001045810-23-000017/full-submission/images/page_293.jpg: 640x512 (no detections), 68.9ms\n",
      "Speed: 0.3ms preprocess, 68.9ms inference, 0.2ms postprocess per image at shape (1, 3, 640, 640)\n",
      "\n"
     ]
    },
    {
     "name": "stdout",
     "output_type": "stream",
     "text": [
      "Cropping tables from /Users/codym/CAP/ai-starter-kit/yoda/data/sec-edgar-filings/NVDA/10-K/0001045810-23-000017/full-submission/images/page_287.jpg\n",
      "Cropping tables from /Users/codym/CAP/ai-starter-kit/yoda/data/sec-edgar-filings/NVDA/10-K/0001045810-23-000017/full-submission/images/page_293.jpg\n",
      "Cropping tables from /Users/codym/CAP/ai-starter-kit/yoda/data/sec-edgar-filings/NVDA/10-K/0001045810-23-000017/full-submission/images/page_278.jpg\n"
     ]
    },
    {
     "name": "stderr",
     "output_type": "stream",
     "text": [
      "image 1/1 /Users/codym/CAP/ai-starter-kit/yoda/data/sec-edgar-filings/NVDA/10-K/0001045810-23-000017/full-submission/images/page_278.jpg: 640x512 (no detections), 69.8ms\n",
      "Speed: 0.2ms preprocess, 69.8ms inference, 0.2ms postprocess per image at shape (1, 3, 640, 640)\n",
      "\n",
      "image 1/1 /Users/codym/CAP/ai-starter-kit/yoda/data/sec-edgar-filings/NVDA/10-K/0001045810-23-000017/full-submission/images/page_244.jpg: 640x512 (no detections), 72.8ms\n",
      "Speed: 0.5ms preprocess, 72.8ms inference, 0.2ms postprocess per image at shape (1, 3, 640, 640)\n",
      "\n",
      "image 1/1 /Users/codym/CAP/ai-starter-kit/yoda/data/sec-edgar-filings/NVDA/10-K/0001045810-23-000017/full-submission/images/page_250.jpg: 640x512 (no detections), 65.9ms\n",
      "Speed: 0.2ms preprocess, 65.9ms inference, 0.2ms postprocess per image at shape (1, 3, 640, 640)\n",
      "\n"
     ]
    },
    {
     "name": "stdout",
     "output_type": "stream",
     "text": [
      "Cropping tables from /Users/codym/CAP/ai-starter-kit/yoda/data/sec-edgar-filings/NVDA/10-K/0001045810-23-000017/full-submission/images/page_244.jpg\n",
      "Cropping tables from /Users/codym/CAP/ai-starter-kit/yoda/data/sec-edgar-filings/NVDA/10-K/0001045810-23-000017/full-submission/images/page_250.jpg\n",
      "Cropping tables from /Users/codym/CAP/ai-starter-kit/yoda/data/sec-edgar-filings/NVDA/10-K/0001045810-23-000017/full-submission/images/page_318.jpg\n"
     ]
    },
    {
     "name": "stderr",
     "output_type": "stream",
     "text": [
      "image 1/1 /Users/codym/CAP/ai-starter-kit/yoda/data/sec-edgar-filings/NVDA/10-K/0001045810-23-000017/full-submission/images/page_318.jpg: 640x512 (no detections), 69.9ms\n",
      "Speed: 0.2ms preprocess, 69.9ms inference, 0.2ms postprocess per image at shape (1, 3, 640, 640)\n",
      "\n",
      "image 1/1 /Users/codym/CAP/ai-starter-kit/yoda/data/sec-edgar-filings/NVDA/10-K/0001045810-23-000017/full-submission/images/page_330.jpg: 640x512 (no detections), 144.2ms\n",
      "Speed: 0.7ms preprocess, 144.2ms inference, 0.2ms postprocess per image at shape (1, 3, 640, 640)\n",
      "\n"
     ]
    },
    {
     "name": "stdout",
     "output_type": "stream",
     "text": [
      "Cropping tables from /Users/codym/CAP/ai-starter-kit/yoda/data/sec-edgar-filings/NVDA/10-K/0001045810-23-000017/full-submission/images/page_330.jpg\n",
      "Cropping tables from /Users/codym/CAP/ai-starter-kit/yoda/data/sec-edgar-filings/NVDA/10-K/0001045810-23-000017/full-submission/images/page_324.jpg\n"
     ]
    },
    {
     "name": "stderr",
     "output_type": "stream",
     "text": [
      "image 1/1 /Users/codym/CAP/ai-starter-kit/yoda/data/sec-edgar-filings/NVDA/10-K/0001045810-23-000017/full-submission/images/page_324.jpg: 640x512 (no detections), 91.1ms\n",
      "Speed: 0.3ms preprocess, 91.1ms inference, 0.2ms postprocess per image at shape (1, 3, 640, 640)\n",
      "\n",
      "image 1/1 /Users/codym/CAP/ai-starter-kit/yoda/data/sec-edgar-filings/NVDA/10-K/0001045810-23-000017/full-submission/images/page_132.jpg: 640x512 (no detections), 99.0ms\n",
      "Speed: 4.7ms preprocess, 99.0ms inference, 0.2ms postprocess per image at shape (1, 3, 640, 640)\n",
      "\n"
     ]
    },
    {
     "name": "stdout",
     "output_type": "stream",
     "text": [
      "Cropping tables from /Users/codym/CAP/ai-starter-kit/yoda/data/sec-edgar-filings/NVDA/10-K/0001045810-23-000017/full-submission/images/page_132.jpg\n",
      "Cropping tables from /Users/codym/CAP/ai-starter-kit/yoda/data/sec-edgar-filings/NVDA/10-K/0001045810-23-000017/full-submission/images/page_126.jpg\n"
     ]
    },
    {
     "name": "stderr",
     "output_type": "stream",
     "text": [
      "image 1/1 /Users/codym/CAP/ai-starter-kit/yoda/data/sec-edgar-filings/NVDA/10-K/0001045810-23-000017/full-submission/images/page_126.jpg: 640x512 (no detections), 90.2ms\n",
      "Speed: 0.5ms preprocess, 90.2ms inference, 0.2ms postprocess per image at shape (1, 3, 640, 640)\n",
      "\n",
      "image 1/1 /Users/codym/CAP/ai-starter-kit/yoda/data/sec-edgar-filings/NVDA/10-K/0001045810-23-000017/full-submission/images/page_127.jpg: 640x512 (no detections), 73.3ms\n",
      "Speed: 0.4ms preprocess, 73.3ms inference, 0.2ms postprocess per image at shape (1, 3, 640, 640)\n",
      "\n",
      "image 1/1 /Users/codym/CAP/ai-starter-kit/yoda/data/sec-edgar-filings/NVDA/10-K/0001045810-23-000017/full-submission/images/page_133.jpg: 640x512 (no detections), 67.3ms\n",
      "Speed: 0.3ms preprocess, 67.3ms inference, 0.2ms postprocess per image at shape (1, 3, 640, 640)\n",
      "\n"
     ]
    },
    {
     "name": "stdout",
     "output_type": "stream",
     "text": [
      "Cropping tables from /Users/codym/CAP/ai-starter-kit/yoda/data/sec-edgar-filings/NVDA/10-K/0001045810-23-000017/full-submission/images/page_127.jpg\n",
      "Cropping tables from /Users/codym/CAP/ai-starter-kit/yoda/data/sec-edgar-filings/NVDA/10-K/0001045810-23-000017/full-submission/images/page_133.jpg\n",
      "Cropping tables from /Users/codym/CAP/ai-starter-kit/yoda/data/sec-edgar-filings/NVDA/10-K/0001045810-23-000017/full-submission/images/page_325.jpg\n"
     ]
    },
    {
     "name": "stderr",
     "output_type": "stream",
     "text": [
      "image 1/1 /Users/codym/CAP/ai-starter-kit/yoda/data/sec-edgar-filings/NVDA/10-K/0001045810-23-000017/full-submission/images/page_325.jpg: 640x512 (no detections), 81.4ms\n",
      "Speed: 0.2ms preprocess, 81.4ms inference, 0.2ms postprocess per image at shape (1, 3, 640, 640)\n",
      "\n",
      "image 1/1 /Users/codym/CAP/ai-starter-kit/yoda/data/sec-edgar-filings/NVDA/10-K/0001045810-23-000017/full-submission/images/page_331.jpg: 640x512 (no detections), 89.1ms\n",
      "Speed: 0.2ms preprocess, 89.1ms inference, 0.2ms postprocess per image at shape (1, 3, 640, 640)\n",
      "\n"
     ]
    },
    {
     "name": "stdout",
     "output_type": "stream",
     "text": [
      "Cropping tables from /Users/codym/CAP/ai-starter-kit/yoda/data/sec-edgar-filings/NVDA/10-K/0001045810-23-000017/full-submission/images/page_331.jpg\n",
      "Cropping tables from /Users/codym/CAP/ai-starter-kit/yoda/data/sec-edgar-filings/NVDA/10-K/0001045810-23-000017/full-submission/images/page_319.jpg\n"
     ]
    },
    {
     "name": "stderr",
     "output_type": "stream",
     "text": [
      "image 1/1 /Users/codym/CAP/ai-starter-kit/yoda/data/sec-edgar-filings/NVDA/10-K/0001045810-23-000017/full-submission/images/page_319.jpg: 640x512 (no detections), 69.9ms\n",
      "Speed: 0.2ms preprocess, 69.9ms inference, 0.2ms postprocess per image at shape (1, 3, 640, 640)\n",
      "\n",
      "image 1/1 /Users/codym/CAP/ai-starter-kit/yoda/data/sec-edgar-filings/NVDA/10-K/0001045810-23-000017/full-submission/images/page_251.jpg: 640x512 (no detections), 90.7ms\n",
      "Speed: 1.0ms preprocess, 90.7ms inference, 0.2ms postprocess per image at shape (1, 3, 640, 640)\n",
      "\n",
      "image 1/1 /Users/codym/CAP/ai-starter-kit/yoda/data/sec-edgar-filings/NVDA/10-K/0001045810-23-000017/full-submission/images/page_245.jpg: 640x512 (no detections), 63.9ms\n",
      "Speed: 0.2ms preprocess, 63.9ms inference, 0.2ms postprocess per image at shape (1, 3, 640, 640)\n",
      "\n"
     ]
    },
    {
     "name": "stdout",
     "output_type": "stream",
     "text": [
      "Cropping tables from /Users/codym/CAP/ai-starter-kit/yoda/data/sec-edgar-filings/NVDA/10-K/0001045810-23-000017/full-submission/images/page_251.jpg\n",
      "Cropping tables from /Users/codym/CAP/ai-starter-kit/yoda/data/sec-edgar-filings/NVDA/10-K/0001045810-23-000017/full-submission/images/page_245.jpg\n",
      "Cropping tables from /Users/codym/CAP/ai-starter-kit/yoda/data/sec-edgar-filings/NVDA/10-K/0001045810-23-000017/full-submission/images/page_279.jpg\n"
     ]
    },
    {
     "name": "stderr",
     "output_type": "stream",
     "text": [
      "image 1/1 /Users/codym/CAP/ai-starter-kit/yoda/data/sec-edgar-filings/NVDA/10-K/0001045810-23-000017/full-submission/images/page_279.jpg: 640x512 (no detections), 77.6ms\n",
      "Speed: 0.2ms preprocess, 77.6ms inference, 0.2ms postprocess per image at shape (1, 3, 640, 640)\n",
      "\n",
      "image 1/1 /Users/codym/CAP/ai-starter-kit/yoda/data/sec-edgar-filings/NVDA/10-K/0001045810-23-000017/full-submission/images/page_292.jpg: 640x512 (no detections), 67.1ms\n",
      "Speed: 0.2ms preprocess, 67.1ms inference, 0.2ms postprocess per image at shape (1, 3, 640, 640)\n",
      "\n",
      "image 1/1 /Users/codym/CAP/ai-starter-kit/yoda/data/sec-edgar-filings/NVDA/10-K/0001045810-23-000017/full-submission/images/page_286.jpg: 640x512 (no detections), 67.3ms\n",
      "Speed: 0.2ms preprocess, 67.3ms inference, 0.2ms postprocess per image at shape (1, 3, 640, 640)\n",
      "\n"
     ]
    },
    {
     "name": "stdout",
     "output_type": "stream",
     "text": [
      "Cropping tables from /Users/codym/CAP/ai-starter-kit/yoda/data/sec-edgar-filings/NVDA/10-K/0001045810-23-000017/full-submission/images/page_292.jpg\n",
      "Cropping tables from /Users/codym/CAP/ai-starter-kit/yoda/data/sec-edgar-filings/NVDA/10-K/0001045810-23-000017/full-submission/images/page_286.jpg\n",
      "Cropping tables from /Users/codym/CAP/ai-starter-kit/yoda/data/sec-edgar-filings/NVDA/10-K/0001045810-23-000017/full-submission/images/page_24.jpg\n"
     ]
    },
    {
     "name": "stderr",
     "output_type": "stream",
     "text": [
      "image 1/1 /Users/codym/CAP/ai-starter-kit/yoda/data/sec-edgar-filings/NVDA/10-K/0001045810-23-000017/full-submission/images/page_24.jpg: 640x512 (no detections), 74.1ms\n",
      "Speed: 0.2ms preprocess, 74.1ms inference, 0.2ms postprocess per image at shape (1, 3, 640, 640)\n",
      "\n",
      "image 1/1 /Users/codym/CAP/ai-starter-kit/yoda/data/sec-edgar-filings/NVDA/10-K/0001045810-23-000017/full-submission/images/page_30.jpg: 640x512 (no detections), 72.1ms\n",
      "Speed: 0.5ms preprocess, 72.1ms inference, 0.2ms postprocess per image at shape (1, 3, 640, 640)\n",
      "\n",
      "image 1/1 /Users/codym/CAP/ai-starter-kit/yoda/data/sec-edgar-filings/NVDA/10-K/0001045810-23-000017/full-submission/images/page_18.jpg: 640x512 (no detections), 67.5ms\n",
      "Speed: 0.2ms preprocess, 67.5ms inference, 0.2ms postprocess per image at shape (1, 3, 640, 640)\n",
      "\n"
     ]
    },
    {
     "name": "stdout",
     "output_type": "stream",
     "text": [
      "Cropping tables from /Users/codym/CAP/ai-starter-kit/yoda/data/sec-edgar-filings/NVDA/10-K/0001045810-23-000017/full-submission/images/page_30.jpg\n",
      "Cropping tables from /Users/codym/CAP/ai-starter-kit/yoda/data/sec-edgar-filings/NVDA/10-K/0001045810-23-000017/full-submission/images/page_18.jpg\n",
      "Cropping tables from /Users/codym/CAP/ai-starter-kit/yoda/data/sec-edgar-filings/NVDA/10-K/0001045810-23-000017/full-submission/images/page_26.jpg\n"
     ]
    },
    {
     "name": "stderr",
     "output_type": "stream",
     "text": [
      "image 1/1 /Users/codym/CAP/ai-starter-kit/yoda/data/sec-edgar-filings/NVDA/10-K/0001045810-23-000017/full-submission/images/page_26.jpg: 640x512 (no detections), 74.0ms\n",
      "Speed: 0.4ms preprocess, 74.0ms inference, 0.2ms postprocess per image at shape (1, 3, 640, 640)\n",
      "\n",
      "image 1/1 /Users/codym/CAP/ai-starter-kit/yoda/data/sec-edgar-filings/NVDA/10-K/0001045810-23-000017/full-submission/images/page_32.jpg: 640x512 (no detections), 71.3ms\n",
      "Speed: 0.2ms preprocess, 71.3ms inference, 0.2ms postprocess per image at shape (1, 3, 640, 640)\n",
      "\n",
      "image 1/1 /Users/codym/CAP/ai-starter-kit/yoda/data/sec-edgar-filings/NVDA/10-K/0001045810-23-000017/full-submission/images/page_290.jpg: 640x512 (no detections), 69.0ms\n",
      "Speed: 0.2ms preprocess, 69.0ms inference, 0.2ms postprocess per image at shape (1, 3, 640, 640)\n",
      "\n"
     ]
    },
    {
     "name": "stdout",
     "output_type": "stream",
     "text": [
      "Cropping tables from /Users/codym/CAP/ai-starter-kit/yoda/data/sec-edgar-filings/NVDA/10-K/0001045810-23-000017/full-submission/images/page_32.jpg\n",
      "Cropping tables from /Users/codym/CAP/ai-starter-kit/yoda/data/sec-edgar-filings/NVDA/10-K/0001045810-23-000017/full-submission/images/page_290.jpg\n",
      "Cropping tables from /Users/codym/CAP/ai-starter-kit/yoda/data/sec-edgar-filings/NVDA/10-K/0001045810-23-000017/full-submission/images/page_284.jpg\n"
     ]
    },
    {
     "name": "stderr",
     "output_type": "stream",
     "text": [
      "image 1/1 /Users/codym/CAP/ai-starter-kit/yoda/data/sec-edgar-filings/NVDA/10-K/0001045810-23-000017/full-submission/images/page_284.jpg: 640x512 (no detections), 149.4ms\n",
      "Speed: 0.2ms preprocess, 149.4ms inference, 0.2ms postprocess per image at shape (1, 3, 640, 640)\n",
      "\n",
      "image 1/1 /Users/codym/CAP/ai-starter-kit/yoda/data/sec-edgar-filings/NVDA/10-K/0001045810-23-000017/full-submission/images/page_253.jpg: 640x512 (no detections), 72.8ms\n",
      "Speed: 0.2ms preprocess, 72.8ms inference, 0.2ms postprocess per image at shape (1, 3, 640, 640)\n",
      "\n",
      "image 1/1 /Users/codym/CAP/ai-starter-kit/yoda/data/sec-edgar-filings/NVDA/10-K/0001045810-23-000017/full-submission/images/page_247.jpg: 640x512 (no detections), 70.9ms\n",
      "Speed: 0.2ms preprocess, 70.9ms inference, 0.2ms postprocess per image at shape (1, 3, 640, 640)\n",
      "\n"
     ]
    },
    {
     "name": "stdout",
     "output_type": "stream",
     "text": [
      "Cropping tables from /Users/codym/CAP/ai-starter-kit/yoda/data/sec-edgar-filings/NVDA/10-K/0001045810-23-000017/full-submission/images/page_253.jpg\n",
      "Cropping tables from /Users/codym/CAP/ai-starter-kit/yoda/data/sec-edgar-filings/NVDA/10-K/0001045810-23-000017/full-submission/images/page_247.jpg\n",
      "Cropping tables from /Users/codym/CAP/ai-starter-kit/yoda/data/sec-edgar-filings/NVDA/10-K/0001045810-23-000017/full-submission/images/page_327.jpg\n"
     ]
    },
    {
     "name": "stderr",
     "output_type": "stream",
     "text": [
      "image 1/1 /Users/codym/CAP/ai-starter-kit/yoda/data/sec-edgar-filings/NVDA/10-K/0001045810-23-000017/full-submission/images/page_327.jpg: 640x512 (no detections), 71.2ms\n",
      "Speed: 0.2ms preprocess, 71.2ms inference, 0.2ms postprocess per image at shape (1, 3, 640, 640)\n",
      "\n",
      "image 1/1 /Users/codym/CAP/ai-starter-kit/yoda/data/sec-edgar-filings/NVDA/10-K/0001045810-23-000017/full-submission/images/page_333.jpg: 640x512 (no detections), 70.5ms\n",
      "Speed: 0.3ms preprocess, 70.5ms inference, 0.2ms postprocess per image at shape (1, 3, 640, 640)\n",
      "\n",
      "image 1/1 /Users/codym/CAP/ai-starter-kit/yoda/data/sec-edgar-filings/NVDA/10-K/0001045810-23-000017/full-submission/images/page_119.jpg: 640x512 (no detections), 68.4ms\n",
      "Speed: 0.2ms preprocess, 68.4ms inference, 0.2ms postprocess per image at shape (1, 3, 640, 640)\n",
      "\n"
     ]
    },
    {
     "name": "stdout",
     "output_type": "stream",
     "text": [
      "Cropping tables from /Users/codym/CAP/ai-starter-kit/yoda/data/sec-edgar-filings/NVDA/10-K/0001045810-23-000017/full-submission/images/page_333.jpg\n",
      "Cropping tables from /Users/codym/CAP/ai-starter-kit/yoda/data/sec-edgar-filings/NVDA/10-K/0001045810-23-000017/full-submission/images/page_119.jpg\n",
      "Cropping tables from /Users/codym/CAP/ai-starter-kit/yoda/data/sec-edgar-filings/NVDA/10-K/0001045810-23-000017/full-submission/images/page_125.jpg\n"
     ]
    },
    {
     "name": "stderr",
     "output_type": "stream",
     "text": [
      "image 1/1 /Users/codym/CAP/ai-starter-kit/yoda/data/sec-edgar-filings/NVDA/10-K/0001045810-23-000017/full-submission/images/page_125.jpg: 640x512 (no detections), 70.7ms\n",
      "Speed: 0.2ms preprocess, 70.7ms inference, 0.2ms postprocess per image at shape (1, 3, 640, 640)\n",
      "\n",
      "image 1/1 /Users/codym/CAP/ai-starter-kit/yoda/data/sec-edgar-filings/NVDA/10-K/0001045810-23-000017/full-submission/images/page_131.jpg: 640x512 (no detections), 70.3ms\n",
      "Speed: 0.2ms preprocess, 70.3ms inference, 0.2ms postprocess per image at shape (1, 3, 640, 640)\n",
      "\n",
      "image 1/1 /Users/codym/CAP/ai-starter-kit/yoda/data/sec-edgar-filings/NVDA/10-K/0001045810-23-000017/full-submission/images/page_130.jpg: 640x512 (no detections), 70.9ms\n",
      "Speed: 1.7ms preprocess, 70.9ms inference, 0.2ms postprocess per image at shape (1, 3, 640, 640)\n",
      "\n"
     ]
    },
    {
     "name": "stdout",
     "output_type": "stream",
     "text": [
      "Cropping tables from /Users/codym/CAP/ai-starter-kit/yoda/data/sec-edgar-filings/NVDA/10-K/0001045810-23-000017/full-submission/images/page_131.jpg\n",
      "Cropping tables from /Users/codym/CAP/ai-starter-kit/yoda/data/sec-edgar-filings/NVDA/10-K/0001045810-23-000017/full-submission/images/page_130.jpg\n",
      "Cropping tables from /Users/codym/CAP/ai-starter-kit/yoda/data/sec-edgar-filings/NVDA/10-K/0001045810-23-000017/full-submission/images/page_124.jpg\n"
     ]
    },
    {
     "name": "stderr",
     "output_type": "stream",
     "text": [
      "image 1/1 /Users/codym/CAP/ai-starter-kit/yoda/data/sec-edgar-filings/NVDA/10-K/0001045810-23-000017/full-submission/images/page_124.jpg: 640x512 (no detections), 73.3ms\n",
      "Speed: 0.2ms preprocess, 73.3ms inference, 0.2ms postprocess per image at shape (1, 3, 640, 640)\n",
      "\n",
      "image 1/1 /Users/codym/CAP/ai-starter-kit/yoda/data/sec-edgar-filings/NVDA/10-K/0001045810-23-000017/full-submission/images/page_118.jpg: 640x512 (no detections), 71.3ms\n",
      "Speed: 0.2ms preprocess, 71.3ms inference, 0.2ms postprocess per image at shape (1, 3, 640, 640)\n",
      "\n",
      "image 1/1 /Users/codym/CAP/ai-starter-kit/yoda/data/sec-edgar-filings/NVDA/10-K/0001045810-23-000017/full-submission/images/page_332.jpg: 640x512 (no detections), 68.9ms\n",
      "Speed: 0.2ms preprocess, 68.9ms inference, 0.2ms postprocess per image at shape (1, 3, 640, 640)\n",
      "\n"
     ]
    },
    {
     "name": "stdout",
     "output_type": "stream",
     "text": [
      "Cropping tables from /Users/codym/CAP/ai-starter-kit/yoda/data/sec-edgar-filings/NVDA/10-K/0001045810-23-000017/full-submission/images/page_118.jpg\n",
      "Cropping tables from /Users/codym/CAP/ai-starter-kit/yoda/data/sec-edgar-filings/NVDA/10-K/0001045810-23-000017/full-submission/images/page_332.jpg\n",
      "Cropping tables from /Users/codym/CAP/ai-starter-kit/yoda/data/sec-edgar-filings/NVDA/10-K/0001045810-23-000017/full-submission/images/page_326.jpg\n"
     ]
    },
    {
     "name": "stderr",
     "output_type": "stream",
     "text": [
      "image 1/1 /Users/codym/CAP/ai-starter-kit/yoda/data/sec-edgar-filings/NVDA/10-K/0001045810-23-000017/full-submission/images/page_326.jpg: 640x512 (no detections), 71.3ms\n",
      "Speed: 0.2ms preprocess, 71.3ms inference, 0.2ms postprocess per image at shape (1, 3, 640, 640)\n",
      "\n",
      "image 1/1 /Users/codym/CAP/ai-starter-kit/yoda/data/sec-edgar-filings/NVDA/10-K/0001045810-23-000017/full-submission/images/page_246.jpg: 640x512 (no detections), 71.3ms\n",
      "Speed: 0.2ms preprocess, 71.3ms inference, 0.2ms postprocess per image at shape (1, 3, 640, 640)\n",
      "\n",
      "image 1/1 /Users/codym/CAP/ai-starter-kit/yoda/data/sec-edgar-filings/NVDA/10-K/0001045810-23-000017/full-submission/images/page_252.jpg: 640x512 (no detections), 68.1ms\n",
      "Speed: 0.2ms preprocess, 68.1ms inference, 0.2ms postprocess per image at shape (1, 3, 640, 640)\n",
      "\n"
     ]
    },
    {
     "name": "stdout",
     "output_type": "stream",
     "text": [
      "Cropping tables from /Users/codym/CAP/ai-starter-kit/yoda/data/sec-edgar-filings/NVDA/10-K/0001045810-23-000017/full-submission/images/page_246.jpg\n",
      "Cropping tables from /Users/codym/CAP/ai-starter-kit/yoda/data/sec-edgar-filings/NVDA/10-K/0001045810-23-000017/full-submission/images/page_252.jpg\n",
      "Cropping tables from /Users/codym/CAP/ai-starter-kit/yoda/data/sec-edgar-filings/NVDA/10-K/0001045810-23-000017/full-submission/images/page_285.jpg\n"
     ]
    },
    {
     "name": "stderr",
     "output_type": "stream",
     "text": [
      "image 1/1 /Users/codym/CAP/ai-starter-kit/yoda/data/sec-edgar-filings/NVDA/10-K/0001045810-23-000017/full-submission/images/page_285.jpg: 640x512 (no detections), 77.2ms\n",
      "Speed: 0.2ms preprocess, 77.2ms inference, 0.2ms postprocess per image at shape (1, 3, 640, 640)\n",
      "\n",
      "image 1/1 /Users/codym/CAP/ai-starter-kit/yoda/data/sec-edgar-filings/NVDA/10-K/0001045810-23-000017/full-submission/images/page_291.jpg: 640x512 (no detections), 70.1ms\n",
      "Speed: 0.2ms preprocess, 70.1ms inference, 0.2ms postprocess per image at shape (1, 3, 640, 640)\n",
      "\n",
      "image 1/1 /Users/codym/CAP/ai-starter-kit/yoda/data/sec-edgar-filings/NVDA/10-K/0001045810-23-000017/full-submission/images/page_33.jpg: 640x512 (no detections), 66.8ms\n",
      "Speed: 0.2ms preprocess, 66.8ms inference, 0.2ms postprocess per image at shape (1, 3, 640, 640)\n",
      "\n"
     ]
    },
    {
     "name": "stdout",
     "output_type": "stream",
     "text": [
      "Cropping tables from /Users/codym/CAP/ai-starter-kit/yoda/data/sec-edgar-filings/NVDA/10-K/0001045810-23-000017/full-submission/images/page_291.jpg\n",
      "Cropping tables from /Users/codym/CAP/ai-starter-kit/yoda/data/sec-edgar-filings/NVDA/10-K/0001045810-23-000017/full-submission/images/page_33.jpg\n",
      "Cropping tables from /Users/codym/CAP/ai-starter-kit/yoda/data/sec-edgar-filings/NVDA/10-K/0001045810-23-000017/full-submission/images/page_27.jpg\n"
     ]
    },
    {
     "name": "stderr",
     "output_type": "stream",
     "text": [
      "image 1/1 /Users/codym/CAP/ai-starter-kit/yoda/data/sec-edgar-filings/NVDA/10-K/0001045810-23-000017/full-submission/images/page_27.jpg: 640x512 (no detections), 73.7ms\n",
      "Speed: 0.2ms preprocess, 73.7ms inference, 0.2ms postprocess per image at shape (1, 3, 640, 640)\n",
      "\n",
      "image 1/1 /Users/codym/CAP/ai-starter-kit/yoda/data/sec-edgar-filings/NVDA/10-K/0001045810-23-000017/full-submission/images/page_23.jpg: 640x512 (no detections), 71.6ms\n",
      "Speed: 0.5ms preprocess, 71.6ms inference, 0.2ms postprocess per image at shape (1, 3, 640, 640)\n",
      "\n",
      "image 1/1 /Users/codym/CAP/ai-starter-kit/yoda/data/sec-edgar-filings/NVDA/10-K/0001045810-23-000017/full-submission/images/page_37.jpg: 640x512 (no detections), 67.9ms\n",
      "Speed: 0.5ms preprocess, 67.9ms inference, 0.2ms postprocess per image at shape (1, 3, 640, 640)\n",
      "\n"
     ]
    },
    {
     "name": "stdout",
     "output_type": "stream",
     "text": [
      "Cropping tables from /Users/codym/CAP/ai-starter-kit/yoda/data/sec-edgar-filings/NVDA/10-K/0001045810-23-000017/full-submission/images/page_23.jpg\n",
      "Cropping tables from /Users/codym/CAP/ai-starter-kit/yoda/data/sec-edgar-filings/NVDA/10-K/0001045810-23-000017/full-submission/images/page_37.jpg\n",
      "Cropping tables from /Users/codym/CAP/ai-starter-kit/yoda/data/sec-edgar-filings/NVDA/10-K/0001045810-23-000017/full-submission/images/page_295.jpg\n"
     ]
    },
    {
     "name": "stderr",
     "output_type": "stream",
     "text": [
      "image 1/1 /Users/codym/CAP/ai-starter-kit/yoda/data/sec-edgar-filings/NVDA/10-K/0001045810-23-000017/full-submission/images/page_295.jpg: 640x512 (no detections), 75.6ms\n",
      "Speed: 0.2ms preprocess, 75.6ms inference, 0.2ms postprocess per image at shape (1, 3, 640, 640)\n",
      "\n",
      "image 1/1 /Users/codym/CAP/ai-starter-kit/yoda/data/sec-edgar-filings/NVDA/10-K/0001045810-23-000017/full-submission/images/page_281.jpg: 640x512 (no detections), 69.8ms\n",
      "Speed: 0.2ms preprocess, 69.8ms inference, 0.2ms postprocess per image at shape (1, 3, 640, 640)\n",
      "\n",
      "image 1/1 /Users/codym/CAP/ai-starter-kit/yoda/data/sec-edgar-filings/NVDA/10-K/0001045810-23-000017/full-submission/images/page_256.jpg: 640x512 (no detections), 72.5ms\n",
      "Speed: 0.3ms preprocess, 72.5ms inference, 0.2ms postprocess per image at shape (1, 3, 640, 640)\n",
      "\n"
     ]
    },
    {
     "name": "stdout",
     "output_type": "stream",
     "text": [
      "Cropping tables from /Users/codym/CAP/ai-starter-kit/yoda/data/sec-edgar-filings/NVDA/10-K/0001045810-23-000017/full-submission/images/page_281.jpg\n",
      "Cropping tables from /Users/codym/CAP/ai-starter-kit/yoda/data/sec-edgar-filings/NVDA/10-K/0001045810-23-000017/full-submission/images/page_256.jpg\n",
      "Cropping tables from /Users/codym/CAP/ai-starter-kit/yoda/data/sec-edgar-filings/NVDA/10-K/0001045810-23-000017/full-submission/images/page_242.jpg\n"
     ]
    },
    {
     "name": "stderr",
     "output_type": "stream",
     "text": [
      "image 1/1 /Users/codym/CAP/ai-starter-kit/yoda/data/sec-edgar-filings/NVDA/10-K/0001045810-23-000017/full-submission/images/page_242.jpg: 640x512 (no detections), 74.7ms\n",
      "Speed: 0.2ms preprocess, 74.7ms inference, 0.2ms postprocess per image at shape (1, 3, 640, 640)\n",
      "\n",
      "image 1/1 /Users/codym/CAP/ai-starter-kit/yoda/data/sec-edgar-filings/NVDA/10-K/0001045810-23-000017/full-submission/images/page_322.jpg: 640x512 (no detections), 70.4ms\n",
      "Speed: 0.2ms preprocess, 70.4ms inference, 0.2ms postprocess per image at shape (1, 3, 640, 640)\n",
      "\n",
      "image 1/1 /Users/codym/CAP/ai-starter-kit/yoda/data/sec-edgar-filings/NVDA/10-K/0001045810-23-000017/full-submission/images/page_336.jpg: 640x512 (no detections), 65.7ms\n",
      "Speed: 0.4ms preprocess, 65.7ms inference, 0.2ms postprocess per image at shape (1, 3, 640, 640)\n",
      "\n"
     ]
    },
    {
     "name": "stdout",
     "output_type": "stream",
     "text": [
      "Cropping tables from /Users/codym/CAP/ai-starter-kit/yoda/data/sec-edgar-filings/NVDA/10-K/0001045810-23-000017/full-submission/images/page_322.jpg\n",
      "Cropping tables from /Users/codym/CAP/ai-starter-kit/yoda/data/sec-edgar-filings/NVDA/10-K/0001045810-23-000017/full-submission/images/page_336.jpg\n",
      "Cropping tables from /Users/codym/CAP/ai-starter-kit/yoda/data/sec-edgar-filings/NVDA/10-K/0001045810-23-000017/full-submission/images/page_120.jpg\n"
     ]
    },
    {
     "name": "stderr",
     "output_type": "stream",
     "text": [
      "image 1/1 /Users/codym/CAP/ai-starter-kit/yoda/data/sec-edgar-filings/NVDA/10-K/0001045810-23-000017/full-submission/images/page_120.jpg: 640x512 (no detections), 70.5ms\n",
      "Speed: 0.2ms preprocess, 70.5ms inference, 0.2ms postprocess per image at shape (1, 3, 640, 640)\n",
      "\n",
      "image 1/1 /Users/codym/CAP/ai-starter-kit/yoda/data/sec-edgar-filings/NVDA/10-K/0001045810-23-000017/full-submission/images/page_134.jpg: 640x512 (no detections), 72.6ms\n",
      "Speed: 0.2ms preprocess, 72.6ms inference, 0.2ms postprocess per image at shape (1, 3, 640, 640)\n",
      "\n",
      "image 1/1 /Users/codym/CAP/ai-starter-kit/yoda/data/sec-edgar-filings/NVDA/10-K/0001045810-23-000017/full-submission/images/page_108.jpg: 640x512 (no detections), 69.9ms\n",
      "Speed: 0.2ms preprocess, 69.9ms inference, 0.2ms postprocess per image at shape (1, 3, 640, 640)\n",
      "\n"
     ]
    },
    {
     "name": "stdout",
     "output_type": "stream",
     "text": [
      "Cropping tables from /Users/codym/CAP/ai-starter-kit/yoda/data/sec-edgar-filings/NVDA/10-K/0001045810-23-000017/full-submission/images/page_134.jpg\n",
      "Cropping tables from /Users/codym/CAP/ai-starter-kit/yoda/data/sec-edgar-filings/NVDA/10-K/0001045810-23-000017/full-submission/images/page_108.jpg\n",
      "Cropping tables from /Users/codym/CAP/ai-starter-kit/yoda/data/sec-edgar-filings/NVDA/10-K/0001045810-23-000017/full-submission/images/page_109.jpg\n"
     ]
    },
    {
     "name": "stderr",
     "output_type": "stream",
     "text": [
      "image 1/1 /Users/codym/CAP/ai-starter-kit/yoda/data/sec-edgar-filings/NVDA/10-K/0001045810-23-000017/full-submission/images/page_109.jpg: 640x512 (no detections), 84.1ms\n",
      "Speed: 0.4ms preprocess, 84.1ms inference, 0.2ms postprocess per image at shape (1, 3, 640, 640)\n",
      "\n",
      "image 1/1 /Users/codym/CAP/ai-starter-kit/yoda/data/sec-edgar-filings/NVDA/10-K/0001045810-23-000017/full-submission/images/page_135.jpg: 640x512 (no detections), 72.1ms\n",
      "Speed: 0.2ms preprocess, 72.1ms inference, 0.2ms postprocess per image at shape (1, 3, 640, 640)\n",
      "\n",
      "image 1/1 /Users/codym/CAP/ai-starter-kit/yoda/data/sec-edgar-filings/NVDA/10-K/0001045810-23-000017/full-submission/images/page_121.jpg: 640x512 (no detections), 86.9ms\n",
      "Speed: 0.2ms preprocess, 86.9ms inference, 0.2ms postprocess per image at shape (1, 3, 640, 640)\n",
      "\n"
     ]
    },
    {
     "name": "stdout",
     "output_type": "stream",
     "text": [
      "Cropping tables from /Users/codym/CAP/ai-starter-kit/yoda/data/sec-edgar-filings/NVDA/10-K/0001045810-23-000017/full-submission/images/page_135.jpg\n",
      "Cropping tables from /Users/codym/CAP/ai-starter-kit/yoda/data/sec-edgar-filings/NVDA/10-K/0001045810-23-000017/full-submission/images/page_121.jpg\n",
      "Cropping tables from /Users/codym/CAP/ai-starter-kit/yoda/data/sec-edgar-filings/NVDA/10-K/0001045810-23-000017/full-submission/images/page_337.jpg\n"
     ]
    },
    {
     "name": "stderr",
     "output_type": "stream",
     "text": [
      "image 1/1 /Users/codym/CAP/ai-starter-kit/yoda/data/sec-edgar-filings/NVDA/10-K/0001045810-23-000017/full-submission/images/page_337.jpg: 640x512 (no detections), 71.0ms\n",
      "Speed: 0.3ms preprocess, 71.0ms inference, 0.2ms postprocess per image at shape (1, 3, 640, 640)\n",
      "\n",
      "image 1/1 /Users/codym/CAP/ai-starter-kit/yoda/data/sec-edgar-filings/NVDA/10-K/0001045810-23-000017/full-submission/images/page_323.jpg: 640x512 (no detections), 118.6ms\n",
      "Speed: 14.9ms preprocess, 118.6ms inference, 0.2ms postprocess per image at shape (1, 3, 640, 640)\n",
      "\n"
     ]
    },
    {
     "name": "stdout",
     "output_type": "stream",
     "text": [
      "Cropping tables from /Users/codym/CAP/ai-starter-kit/yoda/data/sec-edgar-filings/NVDA/10-K/0001045810-23-000017/full-submission/images/page_323.jpg\n",
      "Cropping tables from /Users/codym/CAP/ai-starter-kit/yoda/data/sec-edgar-filings/NVDA/10-K/0001045810-23-000017/full-submission/images/page_243.jpg\n"
     ]
    },
    {
     "name": "stderr",
     "output_type": "stream",
     "text": [
      "image 1/1 /Users/codym/CAP/ai-starter-kit/yoda/data/sec-edgar-filings/NVDA/10-K/0001045810-23-000017/full-submission/images/page_243.jpg: 640x512 (no detections), 77.4ms\n",
      "Speed: 0.2ms preprocess, 77.4ms inference, 0.2ms postprocess per image at shape (1, 3, 640, 640)\n",
      "\n",
      "image 1/1 /Users/codym/CAP/ai-starter-kit/yoda/data/sec-edgar-filings/NVDA/10-K/0001045810-23-000017/full-submission/images/page_257.jpg: 640x512 (no detections), 69.0ms\n",
      "Speed: 0.3ms preprocess, 69.0ms inference, 0.2ms postprocess per image at shape (1, 3, 640, 640)\n",
      "\n",
      "image 1/1 /Users/codym/CAP/ai-starter-kit/yoda/data/sec-edgar-filings/NVDA/10-K/0001045810-23-000017/full-submission/images/page_280.jpg: 640x512 (no detections), 66.7ms\n",
      "Speed: 0.2ms preprocess, 66.7ms inference, 0.2ms postprocess per image at shape (1, 3, 640, 640)\n",
      "\n"
     ]
    },
    {
     "name": "stdout",
     "output_type": "stream",
     "text": [
      "Cropping tables from /Users/codym/CAP/ai-starter-kit/yoda/data/sec-edgar-filings/NVDA/10-K/0001045810-23-000017/full-submission/images/page_257.jpg\n",
      "Cropping tables from /Users/codym/CAP/ai-starter-kit/yoda/data/sec-edgar-filings/NVDA/10-K/0001045810-23-000017/full-submission/images/page_280.jpg\n",
      "Cropping tables from /Users/codym/CAP/ai-starter-kit/yoda/data/sec-edgar-filings/NVDA/10-K/0001045810-23-000017/full-submission/images/page_294.jpg\n"
     ]
    },
    {
     "name": "stderr",
     "output_type": "stream",
     "text": [
      "image 1/1 /Users/codym/CAP/ai-starter-kit/yoda/data/sec-edgar-filings/NVDA/10-K/0001045810-23-000017/full-submission/images/page_294.jpg: 640x512 (no detections), 72.0ms\n",
      "Speed: 0.2ms preprocess, 72.0ms inference, 0.2ms postprocess per image at shape (1, 3, 640, 640)\n",
      "\n",
      "image 1/1 /Users/codym/CAP/ai-starter-kit/yoda/data/sec-edgar-filings/NVDA/10-K/0001045810-23-000017/full-submission/images/page_36.jpg: 640x512 1 borderless, 69.0ms\n",
      "Speed: 0.2ms preprocess, 69.0ms inference, 0.4ms postprocess per image at shape (1, 3, 640, 640)\n",
      "\n",
      "image 1/1 /Users/codym/CAP/ai-starter-kit/yoda/data/sec-edgar-filings/NVDA/10-K/0001045810-23-000017/full-submission/images/page_22.jpg: 640x512 (no detections), 70.5ms\n",
      "Speed: 0.5ms preprocess, 70.5ms inference, 0.2ms postprocess per image at shape (1, 3, 640, 640)\n",
      "\n"
     ]
    },
    {
     "name": "stdout",
     "output_type": "stream",
     "text": [
      "Cropping tables from /Users/codym/CAP/ai-starter-kit/yoda/data/sec-edgar-filings/NVDA/10-K/0001045810-23-000017/full-submission/images/page_36.jpg\n",
      "Cropping tables from /Users/codym/CAP/ai-starter-kit/yoda/data/sec-edgar-filings/NVDA/10-K/0001045810-23-000017/full-submission/images/page_22.jpg\n",
      "Cropping tables from /Users/codym/CAP/ai-starter-kit/yoda/data/sec-edgar-filings/NVDA/10-K/0001045810-23-000017/full-submission/images/page_34.jpg\n"
     ]
    },
    {
     "name": "stderr",
     "output_type": "stream",
     "text": [
      "image 1/1 /Users/codym/CAP/ai-starter-kit/yoda/data/sec-edgar-filings/NVDA/10-K/0001045810-23-000017/full-submission/images/page_34.jpg: 640x512 (no detections), 71.4ms\n",
      "Speed: 0.2ms preprocess, 71.4ms inference, 0.2ms postprocess per image at shape (1, 3, 640, 640)\n",
      "\n",
      "image 1/1 /Users/codym/CAP/ai-starter-kit/yoda/data/sec-edgar-filings/NVDA/10-K/0001045810-23-000017/full-submission/images/page_20.jpg: 640x512 (no detections), 72.2ms\n",
      "Speed: 0.2ms preprocess, 72.2ms inference, 0.2ms postprocess per image at shape (1, 3, 640, 640)\n",
      "\n",
      "image 1/1 /Users/codym/CAP/ai-starter-kit/yoda/data/sec-edgar-filings/NVDA/10-K/0001045810-23-000017/full-submission/images/page_282.jpg: 640x512 (no detections), 67.1ms\n",
      "Speed: 0.2ms preprocess, 67.1ms inference, 0.2ms postprocess per image at shape (1, 3, 640, 640)\n",
      "\n"
     ]
    },
    {
     "name": "stdout",
     "output_type": "stream",
     "text": [
      "Cropping tables from /Users/codym/CAP/ai-starter-kit/yoda/data/sec-edgar-filings/NVDA/10-K/0001045810-23-000017/full-submission/images/page_20.jpg\n",
      "Cropping tables from /Users/codym/CAP/ai-starter-kit/yoda/data/sec-edgar-filings/NVDA/10-K/0001045810-23-000017/full-submission/images/page_282.jpg\n",
      "Cropping tables from /Users/codym/CAP/ai-starter-kit/yoda/data/sec-edgar-filings/NVDA/10-K/0001045810-23-000017/full-submission/images/page_296.jpg\n"
     ]
    },
    {
     "name": "stderr",
     "output_type": "stream",
     "text": [
      "image 1/1 /Users/codym/CAP/ai-starter-kit/yoda/data/sec-edgar-filings/NVDA/10-K/0001045810-23-000017/full-submission/images/page_296.jpg: 640x512 (no detections), 70.2ms\n",
      "Speed: 0.2ms preprocess, 70.2ms inference, 0.2ms postprocess per image at shape (1, 3, 640, 640)\n",
      "\n",
      "image 1/1 /Users/codym/CAP/ai-starter-kit/yoda/data/sec-edgar-filings/NVDA/10-K/0001045810-23-000017/full-submission/images/page_241.jpg: 640x512 (no detections), 68.6ms\n",
      "Speed: 0.7ms preprocess, 68.6ms inference, 0.2ms postprocess per image at shape (1, 3, 640, 640)\n",
      "\n",
      "image 1/1 /Users/codym/CAP/ai-starter-kit/yoda/data/sec-edgar-filings/NVDA/10-K/0001045810-23-000017/full-submission/images/page_255.jpg: 640x512 (no detections), 67.0ms\n",
      "Speed: 0.2ms preprocess, 67.0ms inference, 0.2ms postprocess per image at shape (1, 3, 640, 640)\n",
      "\n"
     ]
    },
    {
     "name": "stdout",
     "output_type": "stream",
     "text": [
      "Cropping tables from /Users/codym/CAP/ai-starter-kit/yoda/data/sec-edgar-filings/NVDA/10-K/0001045810-23-000017/full-submission/images/page_241.jpg\n",
      "Cropping tables from /Users/codym/CAP/ai-starter-kit/yoda/data/sec-edgar-filings/NVDA/10-K/0001045810-23-000017/full-submission/images/page_255.jpg\n",
      "Cropping tables from /Users/codym/CAP/ai-starter-kit/yoda/data/sec-edgar-filings/NVDA/10-K/0001045810-23-000017/full-submission/images/page_269.jpg\n"
     ]
    },
    {
     "name": "stderr",
     "output_type": "stream",
     "text": [
      "image 1/1 /Users/codym/CAP/ai-starter-kit/yoda/data/sec-edgar-filings/NVDA/10-K/0001045810-23-000017/full-submission/images/page_269.jpg: 640x512 (no detections), 69.7ms\n",
      "Speed: 0.2ms preprocess, 69.7ms inference, 0.2ms postprocess per image at shape (1, 3, 640, 640)\n",
      "\n",
      "image 1/1 /Users/codym/CAP/ai-starter-kit/yoda/data/sec-edgar-filings/NVDA/10-K/0001045810-23-000017/full-submission/images/page_335.jpg: 640x512 (no detections), 80.2ms\n",
      "Speed: 0.6ms preprocess, 80.2ms inference, 0.2ms postprocess per image at shape (1, 3, 640, 640)\n",
      "\n",
      "image 1/1 /Users/codym/CAP/ai-starter-kit/yoda/data/sec-edgar-filings/NVDA/10-K/0001045810-23-000017/full-submission/images/page_321.jpg: 640x512 (no detections), 71.9ms\n",
      "Speed: 0.2ms preprocess, 71.9ms inference, 0.2ms postprocess per image at shape (1, 3, 640, 640)\n",
      "\n"
     ]
    },
    {
     "name": "stdout",
     "output_type": "stream",
     "text": [
      "Cropping tables from /Users/codym/CAP/ai-starter-kit/yoda/data/sec-edgar-filings/NVDA/10-K/0001045810-23-000017/full-submission/images/page_335.jpg\n",
      "Cropping tables from /Users/codym/CAP/ai-starter-kit/yoda/data/sec-edgar-filings/NVDA/10-K/0001045810-23-000017/full-submission/images/page_321.jpg\n",
      "Cropping tables from /Users/codym/CAP/ai-starter-kit/yoda/data/sec-edgar-filings/NVDA/10-K/0001045810-23-000017/full-submission/images/page_309.jpg\n"
     ]
    },
    {
     "name": "stderr",
     "output_type": "stream",
     "text": [
      "image 1/1 /Users/codym/CAP/ai-starter-kit/yoda/data/sec-edgar-filings/NVDA/10-K/0001045810-23-000017/full-submission/images/page_309.jpg: 640x512 (no detections), 68.7ms\n",
      "Speed: 0.2ms preprocess, 68.7ms inference, 0.2ms postprocess per image at shape (1, 3, 640, 640)\n",
      "\n",
      "image 1/1 /Users/codym/CAP/ai-starter-kit/yoda/data/sec-edgar-filings/NVDA/10-K/0001045810-23-000017/full-submission/images/page_137.jpg: 640x512 (no detections), 85.7ms\n",
      "Speed: 0.4ms preprocess, 85.7ms inference, 0.2ms postprocess per image at shape (1, 3, 640, 640)\n",
      "\n",
      "image 1/1 /Users/codym/CAP/ai-starter-kit/yoda/data/sec-edgar-filings/NVDA/10-K/0001045810-23-000017/full-submission/images/page_123.jpg: 640x512 (no detections), 67.4ms\n",
      "Speed: 0.2ms preprocess, 67.4ms inference, 0.2ms postprocess per image at shape (1, 3, 640, 640)\n",
      "\n"
     ]
    },
    {
     "name": "stdout",
     "output_type": "stream",
     "text": [
      "Cropping tables from /Users/codym/CAP/ai-starter-kit/yoda/data/sec-edgar-filings/NVDA/10-K/0001045810-23-000017/full-submission/images/page_137.jpg\n",
      "Cropping tables from /Users/codym/CAP/ai-starter-kit/yoda/data/sec-edgar-filings/NVDA/10-K/0001045810-23-000017/full-submission/images/page_123.jpg\n",
      "Cropping tables from /Users/codym/CAP/ai-starter-kit/yoda/data/sec-edgar-filings/NVDA/10-K/0001045810-23-000017/full-submission/images/page_122.jpg\n"
     ]
    },
    {
     "name": "stderr",
     "output_type": "stream",
     "text": [
      "image 1/1 /Users/codym/CAP/ai-starter-kit/yoda/data/sec-edgar-filings/NVDA/10-K/0001045810-23-000017/full-submission/images/page_122.jpg: 640x512 (no detections), 71.3ms\n",
      "Speed: 0.2ms preprocess, 71.3ms inference, 0.2ms postprocess per image at shape (1, 3, 640, 640)\n",
      "\n",
      "image 1/1 /Users/codym/CAP/ai-starter-kit/yoda/data/sec-edgar-filings/NVDA/10-K/0001045810-23-000017/full-submission/images/page_136.jpg: 640x512 (no detections), 79.6ms\n",
      "Speed: 0.2ms preprocess, 79.6ms inference, 0.2ms postprocess per image at shape (1, 3, 640, 640)\n",
      "\n",
      "image 1/1 /Users/codym/CAP/ai-starter-kit/yoda/data/sec-edgar-filings/NVDA/10-K/0001045810-23-000017/full-submission/images/page_308.jpg: 640x512 (no detections), 65.6ms\n",
      "Speed: 0.2ms preprocess, 65.6ms inference, 0.2ms postprocess per image at shape (1, 3, 640, 640)\n",
      "\n"
     ]
    },
    {
     "name": "stdout",
     "output_type": "stream",
     "text": [
      "Cropping tables from /Users/codym/CAP/ai-starter-kit/yoda/data/sec-edgar-filings/NVDA/10-K/0001045810-23-000017/full-submission/images/page_136.jpg\n",
      "Cropping tables from /Users/codym/CAP/ai-starter-kit/yoda/data/sec-edgar-filings/NVDA/10-K/0001045810-23-000017/full-submission/images/page_308.jpg\n",
      "Cropping tables from /Users/codym/CAP/ai-starter-kit/yoda/data/sec-edgar-filings/NVDA/10-K/0001045810-23-000017/full-submission/images/page_320.jpg\n"
     ]
    },
    {
     "name": "stderr",
     "output_type": "stream",
     "text": [
      "image 1/1 /Users/codym/CAP/ai-starter-kit/yoda/data/sec-edgar-filings/NVDA/10-K/0001045810-23-000017/full-submission/images/page_320.jpg: 640x512 (no detections), 73.5ms\n",
      "Speed: 1.7ms preprocess, 73.5ms inference, 0.2ms postprocess per image at shape (1, 3, 640, 640)\n",
      "\n",
      "image 1/1 /Users/codym/CAP/ai-starter-kit/yoda/data/sec-edgar-filings/NVDA/10-K/0001045810-23-000017/full-submission/images/page_334.jpg: 640x512 (no detections), 70.5ms\n",
      "Speed: 0.6ms preprocess, 70.5ms inference, 0.2ms postprocess per image at shape (1, 3, 640, 640)\n",
      "\n",
      "image 1/1 /Users/codym/CAP/ai-starter-kit/yoda/data/sec-edgar-filings/NVDA/10-K/0001045810-23-000017/full-submission/images/page_268.jpg: 640x512 (no detections), 66.7ms\n",
      "Speed: 0.2ms preprocess, 66.7ms inference, 0.2ms postprocess per image at shape (1, 3, 640, 640)\n",
      "\n"
     ]
    },
    {
     "name": "stdout",
     "output_type": "stream",
     "text": [
      "Cropping tables from /Users/codym/CAP/ai-starter-kit/yoda/data/sec-edgar-filings/NVDA/10-K/0001045810-23-000017/full-submission/images/page_334.jpg\n",
      "Cropping tables from /Users/codym/CAP/ai-starter-kit/yoda/data/sec-edgar-filings/NVDA/10-K/0001045810-23-000017/full-submission/images/page_268.jpg\n",
      "Cropping tables from /Users/codym/CAP/ai-starter-kit/yoda/data/sec-edgar-filings/NVDA/10-K/0001045810-23-000017/full-submission/images/page_254.jpg\n"
     ]
    },
    {
     "name": "stderr",
     "output_type": "stream",
     "text": [
      "image 1/1 /Users/codym/CAP/ai-starter-kit/yoda/data/sec-edgar-filings/NVDA/10-K/0001045810-23-000017/full-submission/images/page_254.jpg: 640x512 (no detections), 70.6ms\n",
      "Speed: 0.4ms preprocess, 70.6ms inference, 0.2ms postprocess per image at shape (1, 3, 640, 640)\n",
      "\n",
      "image 1/1 /Users/codym/CAP/ai-starter-kit/yoda/data/sec-edgar-filings/NVDA/10-K/0001045810-23-000017/full-submission/images/page_240.jpg: 640x512 (no detections), 66.2ms\n",
      "Speed: 0.2ms preprocess, 66.2ms inference, 0.2ms postprocess per image at shape (1, 3, 640, 640)\n",
      "\n",
      "image 1/1 /Users/codym/CAP/ai-starter-kit/yoda/data/sec-edgar-filings/NVDA/10-K/0001045810-23-000017/full-submission/images/page_297.jpg: 640x512 (no detections), 66.6ms\n",
      "Speed: 0.2ms preprocess, 66.6ms inference, 0.2ms postprocess per image at shape (1, 3, 640, 640)\n",
      "\n"
     ]
    },
    {
     "name": "stdout",
     "output_type": "stream",
     "text": [
      "Cropping tables from /Users/codym/CAP/ai-starter-kit/yoda/data/sec-edgar-filings/NVDA/10-K/0001045810-23-000017/full-submission/images/page_240.jpg\n",
      "Cropping tables from /Users/codym/CAP/ai-starter-kit/yoda/data/sec-edgar-filings/NVDA/10-K/0001045810-23-000017/full-submission/images/page_297.jpg\n",
      "Cropping tables from /Users/codym/CAP/ai-starter-kit/yoda/data/sec-edgar-filings/NVDA/10-K/0001045810-23-000017/full-submission/images/page_283.jpg\n"
     ]
    },
    {
     "name": "stderr",
     "output_type": "stream",
     "text": [
      "image 1/1 /Users/codym/CAP/ai-starter-kit/yoda/data/sec-edgar-filings/NVDA/10-K/0001045810-23-000017/full-submission/images/page_283.jpg: 640x512 (no detections), 68.6ms\n",
      "Speed: 0.3ms preprocess, 68.6ms inference, 0.2ms postprocess per image at shape (1, 3, 640, 640)\n",
      "\n",
      "image 1/1 /Users/codym/CAP/ai-starter-kit/yoda/data/sec-edgar-filings/NVDA/10-K/0001045810-23-000017/full-submission/images/page_21.jpg: 640x512 (no detections), 69.7ms\n",
      "Speed: 0.2ms preprocess, 69.7ms inference, 0.2ms postprocess per image at shape (1, 3, 640, 640)\n",
      "\n",
      "image 1/1 /Users/codym/CAP/ai-starter-kit/yoda/data/sec-edgar-filings/NVDA/10-K/0001045810-23-000017/full-submission/images/page_35.jpg: 640x512 (no detections), 67.3ms\n",
      "Speed: 0.4ms preprocess, 67.3ms inference, 0.2ms postprocess per image at shape (1, 3, 640, 640)\n",
      "\n"
     ]
    },
    {
     "name": "stdout",
     "output_type": "stream",
     "text": [
      "Cropping tables from /Users/codym/CAP/ai-starter-kit/yoda/data/sec-edgar-filings/NVDA/10-K/0001045810-23-000017/full-submission/images/page_21.jpg\n",
      "Cropping tables from /Users/codym/CAP/ai-starter-kit/yoda/data/sec-edgar-filings/NVDA/10-K/0001045810-23-000017/full-submission/images/page_35.jpg\n",
      "Cropping tables from /Users/codym/CAP/ai-starter-kit/yoda/data/sec-edgar-filings/NVDA/10-K/0001045810-23-000017/full-submission/images/page_38.jpg\n"
     ]
    },
    {
     "name": "stderr",
     "output_type": "stream",
     "text": [
      "image 1/1 /Users/codym/CAP/ai-starter-kit/yoda/data/sec-edgar-filings/NVDA/10-K/0001045810-23-000017/full-submission/images/page_38.jpg: 640x512 (no detections), 72.5ms\n",
      "Speed: 0.2ms preprocess, 72.5ms inference, 0.2ms postprocess per image at shape (1, 3, 640, 640)\n",
      "\n",
      "image 1/1 /Users/codym/CAP/ai-starter-kit/yoda/data/sec-edgar-filings/NVDA/10-K/0001045810-23-000017/full-submission/images/page_10.jpg: 640x512 (no detections), 70.6ms\n",
      "Speed: 0.3ms preprocess, 70.6ms inference, 0.2ms postprocess per image at shape (1, 3, 640, 640)\n",
      "\n",
      "image 1/1 /Users/codym/CAP/ai-starter-kit/yoda/data/sec-edgar-filings/NVDA/10-K/0001045810-23-000017/full-submission/images/page_259.jpg: 640x512 (no detections), 68.7ms\n",
      "Speed: 0.2ms preprocess, 68.7ms inference, 0.2ms postprocess per image at shape (1, 3, 640, 640)\n",
      "\n"
     ]
    },
    {
     "name": "stdout",
     "output_type": "stream",
     "text": [
      "Cropping tables from /Users/codym/CAP/ai-starter-kit/yoda/data/sec-edgar-filings/NVDA/10-K/0001045810-23-000017/full-submission/images/page_10.jpg\n",
      "Cropping tables from /Users/codym/CAP/ai-starter-kit/yoda/data/sec-edgar-filings/NVDA/10-K/0001045810-23-000017/full-submission/images/page_259.jpg\n",
      "Cropping tables from /Users/codym/CAP/ai-starter-kit/yoda/data/sec-edgar-filings/NVDA/10-K/0001045810-23-000017/full-submission/images/page_265.jpg\n"
     ]
    },
    {
     "name": "stderr",
     "output_type": "stream",
     "text": [
      "image 1/1 /Users/codym/CAP/ai-starter-kit/yoda/data/sec-edgar-filings/NVDA/10-K/0001045810-23-000017/full-submission/images/page_265.jpg: 640x512 (no detections), 71.4ms\n",
      "Speed: 0.2ms preprocess, 71.4ms inference, 0.2ms postprocess per image at shape (1, 3, 640, 640)\n",
      "\n",
      "image 1/1 /Users/codym/CAP/ai-starter-kit/yoda/data/sec-edgar-filings/NVDA/10-K/0001045810-23-000017/full-submission/images/page_271.jpg: 640x512 (no detections), 83.5ms\n",
      "Speed: 3.0ms preprocess, 83.5ms inference, 0.2ms postprocess per image at shape (1, 3, 640, 640)\n",
      "\n"
     ]
    },
    {
     "name": "stdout",
     "output_type": "stream",
     "text": [
      "Cropping tables from /Users/codym/CAP/ai-starter-kit/yoda/data/sec-edgar-filings/NVDA/10-K/0001045810-23-000017/full-submission/images/page_271.jpg\n",
      "Cropping tables from /Users/codym/CAP/ai-starter-kit/yoda/data/sec-edgar-filings/NVDA/10-K/0001045810-23-000017/full-submission/images/page_339.jpg\n"
     ]
    },
    {
     "name": "stderr",
     "output_type": "stream",
     "text": [
      "image 1/1 /Users/codym/CAP/ai-starter-kit/yoda/data/sec-edgar-filings/NVDA/10-K/0001045810-23-000017/full-submission/images/page_339.jpg: 640x512 (no detections), 74.3ms\n",
      "Speed: 0.2ms preprocess, 74.3ms inference, 0.2ms postprocess per image at shape (1, 3, 640, 640)\n",
      "\n",
      "image 1/1 /Users/codym/CAP/ai-starter-kit/yoda/data/sec-edgar-filings/NVDA/10-K/0001045810-23-000017/full-submission/images/page_311.jpg: 640x512 (no detections), 68.4ms\n",
      "Speed: 0.4ms preprocess, 68.4ms inference, 0.2ms postprocess per image at shape (1, 3, 640, 640)\n",
      "\n",
      "image 1/1 /Users/codym/CAP/ai-starter-kit/yoda/data/sec-edgar-filings/NVDA/10-K/0001045810-23-000017/full-submission/images/page_305.jpg: 640x512 (no detections), 68.1ms\n",
      "Speed: 0.2ms preprocess, 68.1ms inference, 0.2ms postprocess per image at shape (1, 3, 640, 640)\n",
      "\n"
     ]
    },
    {
     "name": "stdout",
     "output_type": "stream",
     "text": [
      "Cropping tables from /Users/codym/CAP/ai-starter-kit/yoda/data/sec-edgar-filings/NVDA/10-K/0001045810-23-000017/full-submission/images/page_311.jpg\n",
      "Cropping tables from /Users/codym/CAP/ai-starter-kit/yoda/data/sec-edgar-filings/NVDA/10-K/0001045810-23-000017/full-submission/images/page_305.jpg\n",
      "Cropping tables from /Users/codym/CAP/ai-starter-kit/yoda/data/sec-edgar-filings/NVDA/10-K/0001045810-23-000017/full-submission/images/page_113.jpg\n"
     ]
    },
    {
     "name": "stderr",
     "output_type": "stream",
     "text": [
      "image 1/1 /Users/codym/CAP/ai-starter-kit/yoda/data/sec-edgar-filings/NVDA/10-K/0001045810-23-000017/full-submission/images/page_113.jpg: 640x512 (no detections), 72.8ms\n",
      "Speed: 8.5ms preprocess, 72.8ms inference, 0.2ms postprocess per image at shape (1, 3, 640, 640)\n",
      "\n",
      "image 1/1 /Users/codym/CAP/ai-starter-kit/yoda/data/sec-edgar-filings/NVDA/10-K/0001045810-23-000017/full-submission/images/page_107.jpg: 640x512 (no detections), 73.1ms\n",
      "Speed: 0.3ms preprocess, 73.1ms inference, 0.2ms postprocess per image at shape (1, 3, 640, 640)\n",
      "\n",
      "image 1/1 /Users/codym/CAP/ai-starter-kit/yoda/data/sec-edgar-filings/NVDA/10-K/0001045810-23-000017/full-submission/images/page_106.jpg: 640x512 (no detections), 71.6ms\n",
      "Speed: 0.6ms preprocess, 71.6ms inference, 0.2ms postprocess per image at shape (1, 3, 640, 640)\n",
      "\n"
     ]
    },
    {
     "name": "stdout",
     "output_type": "stream",
     "text": [
      "Cropping tables from /Users/codym/CAP/ai-starter-kit/yoda/data/sec-edgar-filings/NVDA/10-K/0001045810-23-000017/full-submission/images/page_107.jpg\n",
      "Cropping tables from /Users/codym/CAP/ai-starter-kit/yoda/data/sec-edgar-filings/NVDA/10-K/0001045810-23-000017/full-submission/images/page_106.jpg\n",
      "Cropping tables from /Users/codym/CAP/ai-starter-kit/yoda/data/sec-edgar-filings/NVDA/10-K/0001045810-23-000017/full-submission/images/page_112.jpg\n"
     ]
    },
    {
     "name": "stderr",
     "output_type": "stream",
     "text": [
      "image 1/1 /Users/codym/CAP/ai-starter-kit/yoda/data/sec-edgar-filings/NVDA/10-K/0001045810-23-000017/full-submission/images/page_112.jpg: 640x512 (no detections), 75.5ms\n",
      "Speed: 0.2ms preprocess, 75.5ms inference, 0.2ms postprocess per image at shape (1, 3, 640, 640)\n",
      "\n",
      "image 1/1 /Users/codym/CAP/ai-starter-kit/yoda/data/sec-edgar-filings/NVDA/10-K/0001045810-23-000017/full-submission/images/page_304.jpg: 640x512 (no detections), 71.6ms\n",
      "Speed: 0.2ms preprocess, 71.6ms inference, 0.2ms postprocess per image at shape (1, 3, 640, 640)\n",
      "\n",
      "image 1/1 /Users/codym/CAP/ai-starter-kit/yoda/data/sec-edgar-filings/NVDA/10-K/0001045810-23-000017/full-submission/images/page_310.jpg: 640x512 (no detections), 69.9ms\n",
      "Speed: 0.3ms preprocess, 69.9ms inference, 0.2ms postprocess per image at shape (1, 3, 640, 640)\n",
      "\n"
     ]
    },
    {
     "name": "stdout",
     "output_type": "stream",
     "text": [
      "Cropping tables from /Users/codym/CAP/ai-starter-kit/yoda/data/sec-edgar-filings/NVDA/10-K/0001045810-23-000017/full-submission/images/page_304.jpg\n",
      "Cropping tables from /Users/codym/CAP/ai-starter-kit/yoda/data/sec-edgar-filings/NVDA/10-K/0001045810-23-000017/full-submission/images/page_310.jpg\n",
      "Cropping tables from /Users/codym/CAP/ai-starter-kit/yoda/data/sec-edgar-filings/NVDA/10-K/0001045810-23-000017/full-submission/images/page_338.jpg\n"
     ]
    },
    {
     "name": "stderr",
     "output_type": "stream",
     "text": [
      "image 1/1 /Users/codym/CAP/ai-starter-kit/yoda/data/sec-edgar-filings/NVDA/10-K/0001045810-23-000017/full-submission/images/page_338.jpg: 640x512 (no detections), 72.8ms\n",
      "Speed: 0.2ms preprocess, 72.8ms inference, 0.2ms postprocess per image at shape (1, 3, 640, 640)\n",
      "\n",
      "image 1/1 /Users/codym/CAP/ai-starter-kit/yoda/data/sec-edgar-filings/NVDA/10-K/0001045810-23-000017/full-submission/images/page_270.jpg: 640x512 (no detections), 68.1ms\n",
      "Speed: 3.6ms preprocess, 68.1ms inference, 0.2ms postprocess per image at shape (1, 3, 640, 640)\n",
      "\n",
      "image 1/1 /Users/codym/CAP/ai-starter-kit/yoda/data/sec-edgar-filings/NVDA/10-K/0001045810-23-000017/full-submission/images/page_264.jpg: 640x512 (no detections), 74.6ms\n",
      "Speed: 0.2ms preprocess, 74.6ms inference, 0.2ms postprocess per image at shape (1, 3, 640, 640)\n",
      "\n"
     ]
    },
    {
     "name": "stdout",
     "output_type": "stream",
     "text": [
      "Cropping tables from /Users/codym/CAP/ai-starter-kit/yoda/data/sec-edgar-filings/NVDA/10-K/0001045810-23-000017/full-submission/images/page_270.jpg\n",
      "Cropping tables from /Users/codym/CAP/ai-starter-kit/yoda/data/sec-edgar-filings/NVDA/10-K/0001045810-23-000017/full-submission/images/page_264.jpg\n",
      "Cropping tables from /Users/codym/CAP/ai-starter-kit/yoda/data/sec-edgar-filings/NVDA/10-K/0001045810-23-000017/full-submission/images/page_258.jpg\n"
     ]
    },
    {
     "name": "stderr",
     "output_type": "stream",
     "text": [
      "image 1/1 /Users/codym/CAP/ai-starter-kit/yoda/data/sec-edgar-filings/NVDA/10-K/0001045810-23-000017/full-submission/images/page_258.jpg: 640x512 (no detections), 72.0ms\n",
      "Speed: 0.5ms preprocess, 72.0ms inference, 0.2ms postprocess per image at shape (1, 3, 640, 640)\n",
      "\n",
      "image 1/1 /Users/codym/CAP/ai-starter-kit/yoda/data/sec-edgar-filings/NVDA/10-K/0001045810-23-000017/full-submission/images/page_11.jpg: 640x512 (no detections), 71.2ms\n",
      "Speed: 0.2ms preprocess, 71.2ms inference, 0.2ms postprocess per image at shape (1, 3, 640, 640)\n",
      "\n",
      "image 1/1 /Users/codym/CAP/ai-starter-kit/yoda/data/sec-edgar-filings/NVDA/10-K/0001045810-23-000017/full-submission/images/page_39.jpg: 640x512 (no detections), 70.5ms\n",
      "Speed: 0.4ms preprocess, 70.5ms inference, 0.2ms postprocess per image at shape (1, 3, 640, 640)\n",
      "\n"
     ]
    },
    {
     "name": "stdout",
     "output_type": "stream",
     "text": [
      "Cropping tables from /Users/codym/CAP/ai-starter-kit/yoda/data/sec-edgar-filings/NVDA/10-K/0001045810-23-000017/full-submission/images/page_11.jpg\n",
      "Cropping tables from /Users/codym/CAP/ai-starter-kit/yoda/data/sec-edgar-filings/NVDA/10-K/0001045810-23-000017/full-submission/images/page_39.jpg\n",
      "Cropping tables from /Users/codym/CAP/ai-starter-kit/yoda/data/sec-edgar-filings/NVDA/10-K/0001045810-23-000017/full-submission/images/page_13.jpg\n"
     ]
    },
    {
     "name": "stderr",
     "output_type": "stream",
     "text": [
      "image 1/1 /Users/codym/CAP/ai-starter-kit/yoda/data/sec-edgar-filings/NVDA/10-K/0001045810-23-000017/full-submission/images/page_13.jpg: 640x512 (no detections), 79.2ms\n",
      "Speed: 0.5ms preprocess, 79.2ms inference, 0.2ms postprocess per image at shape (1, 3, 640, 640)\n",
      "\n",
      "image 1/1 /Users/codym/CAP/ai-starter-kit/yoda/data/sec-edgar-filings/NVDA/10-K/0001045810-23-000017/full-submission/images/page_299.jpg: 640x512 (no detections), 67.6ms\n",
      "Speed: 0.3ms preprocess, 67.6ms inference, 0.2ms postprocess per image at shape (1, 3, 640, 640)\n",
      "\n",
      "image 1/1 /Users/codym/CAP/ai-starter-kit/yoda/data/sec-edgar-filings/NVDA/10-K/0001045810-23-000017/full-submission/images/page_272.jpg: 640x512 (no detections), 68.6ms\n",
      "Speed: 0.1ms preprocess, 68.6ms inference, 0.2ms postprocess per image at shape (1, 3, 640, 640)\n",
      "\n"
     ]
    },
    {
     "name": "stdout",
     "output_type": "stream",
     "text": [
      "Cropping tables from /Users/codym/CAP/ai-starter-kit/yoda/data/sec-edgar-filings/NVDA/10-K/0001045810-23-000017/full-submission/images/page_299.jpg\n",
      "Cropping tables from /Users/codym/CAP/ai-starter-kit/yoda/data/sec-edgar-filings/NVDA/10-K/0001045810-23-000017/full-submission/images/page_272.jpg\n",
      "Cropping tables from /Users/codym/CAP/ai-starter-kit/yoda/data/sec-edgar-filings/NVDA/10-K/0001045810-23-000017/full-submission/images/page_266.jpg\n"
     ]
    },
    {
     "name": "stderr",
     "output_type": "stream",
     "text": [
      "image 1/1 /Users/codym/CAP/ai-starter-kit/yoda/data/sec-edgar-filings/NVDA/10-K/0001045810-23-000017/full-submission/images/page_266.jpg: 640x512 (no detections), 72.1ms\n",
      "Speed: 0.4ms preprocess, 72.1ms inference, 0.2ms postprocess per image at shape (1, 3, 640, 640)\n",
      "\n",
      "image 1/1 /Users/codym/CAP/ai-starter-kit/yoda/data/sec-edgar-filings/NVDA/10-K/0001045810-23-000017/full-submission/images/page_306.jpg: 640x512 (no detections), 69.5ms\n",
      "Speed: 0.3ms preprocess, 69.5ms inference, 0.2ms postprocess per image at shape (1, 3, 640, 640)\n",
      "\n",
      "image 1/1 /Users/codym/CAP/ai-starter-kit/yoda/data/sec-edgar-filings/NVDA/10-K/0001045810-23-000017/full-submission/images/page_312.jpg: 640x512 (no detections), 65.6ms\n",
      "Speed: 0.2ms preprocess, 65.6ms inference, 0.2ms postprocess per image at shape (1, 3, 640, 640)\n",
      "\n"
     ]
    },
    {
     "name": "stdout",
     "output_type": "stream",
     "text": [
      "Cropping tables from /Users/codym/CAP/ai-starter-kit/yoda/data/sec-edgar-filings/NVDA/10-K/0001045810-23-000017/full-submission/images/page_306.jpg\n",
      "Cropping tables from /Users/codym/CAP/ai-starter-kit/yoda/data/sec-edgar-filings/NVDA/10-K/0001045810-23-000017/full-submission/images/page_312.jpg\n",
      "Cropping tables from /Users/codym/CAP/ai-starter-kit/yoda/data/sec-edgar-filings/NVDA/10-K/0001045810-23-000017/full-submission/images/page_138.jpg\n"
     ]
    },
    {
     "name": "stderr",
     "output_type": "stream",
     "text": [
      "image 1/1 /Users/codym/CAP/ai-starter-kit/yoda/data/sec-edgar-filings/NVDA/10-K/0001045810-23-000017/full-submission/images/page_138.jpg: 640x512 (no detections), 75.2ms\n",
      "Speed: 0.2ms preprocess, 75.2ms inference, 0.2ms postprocess per image at shape (1, 3, 640, 640)\n",
      "\n",
      "image 1/1 /Users/codym/CAP/ai-starter-kit/yoda/data/sec-edgar-filings/NVDA/10-K/0001045810-23-000017/full-submission/images/page_104.jpg: 640x512 (no detections), 70.7ms\n",
      "Speed: 0.3ms preprocess, 70.7ms inference, 0.2ms postprocess per image at shape (1, 3, 640, 640)\n",
      "\n",
      "image 1/1 /Users/codym/CAP/ai-starter-kit/yoda/data/sec-edgar-filings/NVDA/10-K/0001045810-23-000017/full-submission/images/page_110.jpg: 640x512 (no detections), 65.5ms\n",
      "Speed: 0.2ms preprocess, 65.5ms inference, 0.2ms postprocess per image at shape (1, 3, 640, 640)\n",
      "\n"
     ]
    },
    {
     "name": "stdout",
     "output_type": "stream",
     "text": [
      "Cropping tables from /Users/codym/CAP/ai-starter-kit/yoda/data/sec-edgar-filings/NVDA/10-K/0001045810-23-000017/full-submission/images/page_104.jpg\n",
      "Cropping tables from /Users/codym/CAP/ai-starter-kit/yoda/data/sec-edgar-filings/NVDA/10-K/0001045810-23-000017/full-submission/images/page_110.jpg\n",
      "Cropping tables from /Users/codym/CAP/ai-starter-kit/yoda/data/sec-edgar-filings/NVDA/10-K/0001045810-23-000017/full-submission/images/page_111.jpg\n"
     ]
    },
    {
     "name": "stderr",
     "output_type": "stream",
     "text": [
      "image 1/1 /Users/codym/CAP/ai-starter-kit/yoda/data/sec-edgar-filings/NVDA/10-K/0001045810-23-000017/full-submission/images/page_111.jpg: 640x512 (no detections), 75.0ms\n",
      "Speed: 0.2ms preprocess, 75.0ms inference, 0.2ms postprocess per image at shape (1, 3, 640, 640)\n",
      "\n",
      "image 1/1 /Users/codym/CAP/ai-starter-kit/yoda/data/sec-edgar-filings/NVDA/10-K/0001045810-23-000017/full-submission/images/page_105.jpg: 640x512 (no detections), 85.7ms\n",
      "Speed: 0.2ms preprocess, 85.7ms inference, 0.2ms postprocess per image at shape (1, 3, 640, 640)\n",
      "\n",
      "image 1/1 /Users/codym/CAP/ai-starter-kit/yoda/data/sec-edgar-filings/NVDA/10-K/0001045810-23-000017/full-submission/images/page_139.jpg: 640x512 (no detections), 75.4ms\n",
      "Speed: 0.2ms preprocess, 75.4ms inference, 0.2ms postprocess per image at shape (1, 3, 640, 640)\n",
      "\n"
     ]
    },
    {
     "name": "stdout",
     "output_type": "stream",
     "text": [
      "Cropping tables from /Users/codym/CAP/ai-starter-kit/yoda/data/sec-edgar-filings/NVDA/10-K/0001045810-23-000017/full-submission/images/page_105.jpg\n",
      "Cropping tables from /Users/codym/CAP/ai-starter-kit/yoda/data/sec-edgar-filings/NVDA/10-K/0001045810-23-000017/full-submission/images/page_139.jpg\n",
      "Cropping tables from /Users/codym/CAP/ai-starter-kit/yoda/data/sec-edgar-filings/NVDA/10-K/0001045810-23-000017/full-submission/images/page_313.jpg\n"
     ]
    },
    {
     "name": "stderr",
     "output_type": "stream",
     "text": [
      "image 1/1 /Users/codym/CAP/ai-starter-kit/yoda/data/sec-edgar-filings/NVDA/10-K/0001045810-23-000017/full-submission/images/page_313.jpg: 640x512 (no detections), 71.1ms\n",
      "Speed: 0.2ms preprocess, 71.1ms inference, 0.2ms postprocess per image at shape (1, 3, 640, 640)\n",
      "\n",
      "image 1/1 /Users/codym/CAP/ai-starter-kit/yoda/data/sec-edgar-filings/NVDA/10-K/0001045810-23-000017/full-submission/images/page_307.jpg: 640x512 (no detections), 70.6ms\n",
      "Speed: 0.2ms preprocess, 70.6ms inference, 0.2ms postprocess per image at shape (1, 3, 640, 640)\n",
      "\n",
      "image 1/1 /Users/codym/CAP/ai-starter-kit/yoda/data/sec-edgar-filings/NVDA/10-K/0001045810-23-000017/full-submission/images/page_267.jpg: 640x512 (no detections), 69.3ms\n",
      "Speed: 0.2ms preprocess, 69.3ms inference, 0.2ms postprocess per image at shape (1, 3, 640, 640)\n",
      "\n"
     ]
    },
    {
     "name": "stdout",
     "output_type": "stream",
     "text": [
      "Cropping tables from /Users/codym/CAP/ai-starter-kit/yoda/data/sec-edgar-filings/NVDA/10-K/0001045810-23-000017/full-submission/images/page_307.jpg\n",
      "Cropping tables from /Users/codym/CAP/ai-starter-kit/yoda/data/sec-edgar-filings/NVDA/10-K/0001045810-23-000017/full-submission/images/page_267.jpg\n",
      "Cropping tables from /Users/codym/CAP/ai-starter-kit/yoda/data/sec-edgar-filings/NVDA/10-K/0001045810-23-000017/full-submission/images/page_273.jpg\n"
     ]
    },
    {
     "name": "stderr",
     "output_type": "stream",
     "text": [
      "image 1/1 /Users/codym/CAP/ai-starter-kit/yoda/data/sec-edgar-filings/NVDA/10-K/0001045810-23-000017/full-submission/images/page_273.jpg: 640x512 (no detections), 67.4ms\n",
      "Speed: 0.2ms preprocess, 67.4ms inference, 0.2ms postprocess per image at shape (1, 3, 640, 640)\n",
      "\n",
      "image 1/1 /Users/codym/CAP/ai-starter-kit/yoda/data/sec-edgar-filings/NVDA/10-K/0001045810-23-000017/full-submission/images/page_298.jpg: 640x512 (no detections), 150.5ms\n",
      "Speed: 0.5ms preprocess, 150.5ms inference, 0.2ms postprocess per image at shape (1, 3, 640, 640)\n",
      "\n"
     ]
    },
    {
     "name": "stdout",
     "output_type": "stream",
     "text": [
      "Cropping tables from /Users/codym/CAP/ai-starter-kit/yoda/data/sec-edgar-filings/NVDA/10-K/0001045810-23-000017/full-submission/images/page_298.jpg\n",
      "Cropping tables from /Users/codym/CAP/ai-starter-kit/yoda/data/sec-edgar-filings/NVDA/10-K/0001045810-23-000017/full-submission/images/page_12.jpg\n"
     ]
    },
    {
     "name": "stderr",
     "output_type": "stream",
     "text": [
      "image 1/1 /Users/codym/CAP/ai-starter-kit/yoda/data/sec-edgar-filings/NVDA/10-K/0001045810-23-000017/full-submission/images/page_12.jpg: 640x512 (no detections), 74.2ms\n",
      "Speed: 0.3ms preprocess, 74.2ms inference, 0.2ms postprocess per image at shape (1, 3, 640, 640)\n",
      "\n",
      "image 1/1 /Users/codym/CAP/ai-starter-kit/yoda/data/sec-edgar-filings/NVDA/10-K/0001045810-23-000017/full-submission/images/page_16.jpg: 640x512 (no detections), 72.4ms\n",
      "Speed: 0.2ms preprocess, 72.4ms inference, 0.2ms postprocess per image at shape (1, 3, 640, 640)\n",
      "\n",
      "image 1/1 /Users/codym/CAP/ai-starter-kit/yoda/data/sec-edgar-filings/NVDA/10-K/0001045810-23-000017/full-submission/images/page_288.jpg: 640x512 (no detections), 69.2ms\n",
      "Speed: 0.3ms preprocess, 69.2ms inference, 0.2ms postprocess per image at shape (1, 3, 640, 640)\n",
      "\n"
     ]
    },
    {
     "name": "stdout",
     "output_type": "stream",
     "text": [
      "Cropping tables from /Users/codym/CAP/ai-starter-kit/yoda/data/sec-edgar-filings/NVDA/10-K/0001045810-23-000017/full-submission/images/page_16.jpg\n",
      "Cropping tables from /Users/codym/CAP/ai-starter-kit/yoda/data/sec-edgar-filings/NVDA/10-K/0001045810-23-000017/full-submission/images/page_288.jpg\n",
      "Cropping tables from /Users/codym/CAP/ai-starter-kit/yoda/data/sec-edgar-filings/NVDA/10-K/0001045810-23-000017/full-submission/images/page_277.jpg\n"
     ]
    },
    {
     "name": "stderr",
     "output_type": "stream",
     "text": [
      "image 1/1 /Users/codym/CAP/ai-starter-kit/yoda/data/sec-edgar-filings/NVDA/10-K/0001045810-23-000017/full-submission/images/page_277.jpg: 640x512 (no detections), 71.7ms\n",
      "Speed: 0.2ms preprocess, 71.7ms inference, 0.2ms postprocess per image at shape (1, 3, 640, 640)\n",
      "\n",
      "image 1/1 /Users/codym/CAP/ai-starter-kit/yoda/data/sec-edgar-filings/NVDA/10-K/0001045810-23-000017/full-submission/images/page_263.jpg: 640x512 (no detections), 64.5ms\n",
      "Speed: 0.4ms preprocess, 64.5ms inference, 0.2ms postprocess per image at shape (1, 3, 640, 640)\n",
      "\n",
      "image 1/1 /Users/codym/CAP/ai-starter-kit/yoda/data/sec-edgar-filings/NVDA/10-K/0001045810-23-000017/full-submission/images/page_303.jpg: 640x512 (no detections), 66.2ms\n",
      "Speed: 0.2ms preprocess, 66.2ms inference, 0.2ms postprocess per image at shape (1, 3, 640, 640)\n",
      "\n"
     ]
    },
    {
     "name": "stdout",
     "output_type": "stream",
     "text": [
      "Cropping tables from /Users/codym/CAP/ai-starter-kit/yoda/data/sec-edgar-filings/NVDA/10-K/0001045810-23-000017/full-submission/images/page_263.jpg\n",
      "Cropping tables from /Users/codym/CAP/ai-starter-kit/yoda/data/sec-edgar-filings/NVDA/10-K/0001045810-23-000017/full-submission/images/page_303.jpg\n",
      "Cropping tables from /Users/codym/CAP/ai-starter-kit/yoda/data/sec-edgar-filings/NVDA/10-K/0001045810-23-000017/full-submission/images/page_317.jpg\n"
     ]
    },
    {
     "name": "stderr",
     "output_type": "stream",
     "text": [
      "image 1/1 /Users/codym/CAP/ai-starter-kit/yoda/data/sec-edgar-filings/NVDA/10-K/0001045810-23-000017/full-submission/images/page_317.jpg: 640x512 (no detections), 75.2ms\n",
      "Speed: 0.2ms preprocess, 75.2ms inference, 0.2ms postprocess per image at shape (1, 3, 640, 640)\n",
      "\n",
      "image 1/1 /Users/codym/CAP/ai-starter-kit/yoda/data/sec-edgar-filings/NVDA/10-K/0001045810-23-000017/full-submission/images/page_101.jpg: 640x512 (no detections), 73.0ms\n",
      "Speed: 0.3ms preprocess, 73.0ms inference, 0.2ms postprocess per image at shape (1, 3, 640, 640)\n",
      "\n",
      "image 1/1 /Users/codym/CAP/ai-starter-kit/yoda/data/sec-edgar-filings/NVDA/10-K/0001045810-23-000017/full-submission/images/page_115.jpg: 640x512 (no detections), 70.4ms\n",
      "Speed: 0.2ms preprocess, 70.4ms inference, 0.2ms postprocess per image at shape (1, 3, 640, 640)\n",
      "\n"
     ]
    },
    {
     "name": "stdout",
     "output_type": "stream",
     "text": [
      "Cropping tables from /Users/codym/CAP/ai-starter-kit/yoda/data/sec-edgar-filings/NVDA/10-K/0001045810-23-000017/full-submission/images/page_101.jpg\n",
      "Cropping tables from /Users/codym/CAP/ai-starter-kit/yoda/data/sec-edgar-filings/NVDA/10-K/0001045810-23-000017/full-submission/images/page_115.jpg\n",
      "Cropping tables from /Users/codym/CAP/ai-starter-kit/yoda/data/sec-edgar-filings/NVDA/10-K/0001045810-23-000017/full-submission/images/page_129.jpg\n"
     ]
    },
    {
     "name": "stderr",
     "output_type": "stream",
     "text": [
      "image 1/1 /Users/codym/CAP/ai-starter-kit/yoda/data/sec-edgar-filings/NVDA/10-K/0001045810-23-000017/full-submission/images/page_129.jpg: 640x512 (no detections), 70.3ms\n",
      "Speed: 0.3ms preprocess, 70.3ms inference, 0.2ms postprocess per image at shape (1, 3, 640, 640)\n",
      "\n",
      "image 1/1 /Users/codym/CAP/ai-starter-kit/yoda/data/sec-edgar-filings/NVDA/10-K/0001045810-23-000017/full-submission/images/page_128.jpg: 640x512 (no detections), 67.8ms\n",
      "Speed: 0.2ms preprocess, 67.8ms inference, 0.2ms postprocess per image at shape (1, 3, 640, 640)\n",
      "\n",
      "image 1/1 /Users/codym/CAP/ai-starter-kit/yoda/data/sec-edgar-filings/NVDA/10-K/0001045810-23-000017/full-submission/images/page_114.jpg: 640x512 (no detections), 70.9ms\n",
      "Speed: 0.1ms preprocess, 70.9ms inference, 0.2ms postprocess per image at shape (1, 3, 640, 640)\n",
      "\n"
     ]
    },
    {
     "name": "stdout",
     "output_type": "stream",
     "text": [
      "Cropping tables from /Users/codym/CAP/ai-starter-kit/yoda/data/sec-edgar-filings/NVDA/10-K/0001045810-23-000017/full-submission/images/page_128.jpg\n",
      "Cropping tables from /Users/codym/CAP/ai-starter-kit/yoda/data/sec-edgar-filings/NVDA/10-K/0001045810-23-000017/full-submission/images/page_114.jpg\n",
      "Cropping tables from /Users/codym/CAP/ai-starter-kit/yoda/data/sec-edgar-filings/NVDA/10-K/0001045810-23-000017/full-submission/images/page_100.jpg\n"
     ]
    },
    {
     "name": "stderr",
     "output_type": "stream",
     "text": [
      "image 1/1 /Users/codym/CAP/ai-starter-kit/yoda/data/sec-edgar-filings/NVDA/10-K/0001045810-23-000017/full-submission/images/page_100.jpg: 640x512 (no detections), 80.2ms\n",
      "Speed: 0.2ms preprocess, 80.2ms inference, 0.2ms postprocess per image at shape (1, 3, 640, 640)\n",
      "\n",
      "image 1/1 /Users/codym/CAP/ai-starter-kit/yoda/data/sec-edgar-filings/NVDA/10-K/0001045810-23-000017/full-submission/images/page_316.jpg: 640x512 (no detections), 68.0ms\n",
      "Speed: 0.3ms preprocess, 68.0ms inference, 0.2ms postprocess per image at shape (1, 3, 640, 640)\n",
      "\n",
      "image 1/1 /Users/codym/CAP/ai-starter-kit/yoda/data/sec-edgar-filings/NVDA/10-K/0001045810-23-000017/full-submission/images/page_302.jpg: 640x512 (no detections), 80.1ms\n",
      "Speed: 0.2ms preprocess, 80.1ms inference, 0.2ms postprocess per image at shape (1, 3, 640, 640)\n",
      "\n"
     ]
    },
    {
     "name": "stdout",
     "output_type": "stream",
     "text": [
      "Cropping tables from /Users/codym/CAP/ai-starter-kit/yoda/data/sec-edgar-filings/NVDA/10-K/0001045810-23-000017/full-submission/images/page_316.jpg\n",
      "Cropping tables from /Users/codym/CAP/ai-starter-kit/yoda/data/sec-edgar-filings/NVDA/10-K/0001045810-23-000017/full-submission/images/page_302.jpg\n",
      "Cropping tables from /Users/codym/CAP/ai-starter-kit/yoda/data/sec-edgar-filings/NVDA/10-K/0001045810-23-000017/full-submission/images/page_262.jpg\n"
     ]
    },
    {
     "name": "stderr",
     "output_type": "stream",
     "text": [
      "image 1/1 /Users/codym/CAP/ai-starter-kit/yoda/data/sec-edgar-filings/NVDA/10-K/0001045810-23-000017/full-submission/images/page_262.jpg: 640x512 (no detections), 67.8ms\n",
      "Speed: 0.5ms preprocess, 67.8ms inference, 0.2ms postprocess per image at shape (1, 3, 640, 640)\n",
      "\n",
      "image 1/1 /Users/codym/CAP/ai-starter-kit/yoda/data/sec-edgar-filings/NVDA/10-K/0001045810-23-000017/full-submission/images/page_276.jpg: 640x512 (no detections), 68.0ms\n",
      "Speed: 0.4ms preprocess, 68.0ms inference, 0.2ms postprocess per image at shape (1, 3, 640, 640)\n",
      "\n",
      "image 1/1 /Users/codym/CAP/ai-starter-kit/yoda/data/sec-edgar-filings/NVDA/10-K/0001045810-23-000017/full-submission/images/page_289.jpg: 640x512 (no detections), 65.8ms\n",
      "Speed: 0.3ms preprocess, 65.8ms inference, 0.2ms postprocess per image at shape (1, 3, 640, 640)\n",
      "\n"
     ]
    },
    {
     "name": "stdout",
     "output_type": "stream",
     "text": [
      "Cropping tables from /Users/codym/CAP/ai-starter-kit/yoda/data/sec-edgar-filings/NVDA/10-K/0001045810-23-000017/full-submission/images/page_276.jpg\n",
      "Cropping tables from /Users/codym/CAP/ai-starter-kit/yoda/data/sec-edgar-filings/NVDA/10-K/0001045810-23-000017/full-submission/images/page_289.jpg\n",
      "Cropping tables from /Users/codym/CAP/ai-starter-kit/yoda/data/sec-edgar-filings/NVDA/10-K/0001045810-23-000017/full-submission/images/page_17.jpg\n"
     ]
    },
    {
     "name": "stderr",
     "output_type": "stream",
     "text": [
      "image 1/1 /Users/codym/CAP/ai-starter-kit/yoda/data/sec-edgar-filings/NVDA/10-K/0001045810-23-000017/full-submission/images/page_17.jpg: 640x512 (no detections), 81.5ms\n",
      "Speed: 0.2ms preprocess, 81.5ms inference, 0.2ms postprocess per image at shape (1, 3, 640, 640)\n",
      "\n",
      "image 1/1 /Users/codym/CAP/ai-starter-kit/yoda/data/sec-edgar-filings/NVDA/10-K/0001045810-23-000017/full-submission/images/page_15.jpg: 640x512 (no detections), 67.7ms\n",
      "Speed: 0.2ms preprocess, 67.7ms inference, 0.2ms postprocess per image at shape (1, 3, 640, 640)\n",
      "\n",
      "image 1/1 /Users/codym/CAP/ai-starter-kit/yoda/data/sec-edgar-filings/NVDA/10-K/0001045810-23-000017/full-submission/images/page_29.jpg: 640x512 (no detections), 69.6ms\n",
      "Speed: 0.4ms preprocess, 69.6ms inference, 0.2ms postprocess per image at shape (1, 3, 640, 640)\n",
      "\n"
     ]
    },
    {
     "name": "stdout",
     "output_type": "stream",
     "text": [
      "Cropping tables from /Users/codym/CAP/ai-starter-kit/yoda/data/sec-edgar-filings/NVDA/10-K/0001045810-23-000017/full-submission/images/page_15.jpg\n",
      "Cropping tables from /Users/codym/CAP/ai-starter-kit/yoda/data/sec-edgar-filings/NVDA/10-K/0001045810-23-000017/full-submission/images/page_29.jpg\n",
      "Cropping tables from /Users/codym/CAP/ai-starter-kit/yoda/data/sec-edgar-filings/NVDA/10-K/0001045810-23-000017/full-submission/images/page_260.jpg\n"
     ]
    },
    {
     "name": "stderr",
     "output_type": "stream",
     "text": [
      "image 1/1 /Users/codym/CAP/ai-starter-kit/yoda/data/sec-edgar-filings/NVDA/10-K/0001045810-23-000017/full-submission/images/page_260.jpg: 640x512 (no detections), 71.0ms\n",
      "Speed: 0.2ms preprocess, 71.0ms inference, 0.2ms postprocess per image at shape (1, 3, 640, 640)\n",
      "\n",
      "image 1/1 /Users/codym/CAP/ai-starter-kit/yoda/data/sec-edgar-filings/NVDA/10-K/0001045810-23-000017/full-submission/images/page_274.jpg: 640x512 (no detections), 67.6ms\n",
      "Speed: 0.3ms preprocess, 67.6ms inference, 0.2ms postprocess per image at shape (1, 3, 640, 640)\n",
      "\n",
      "image 1/1 /Users/codym/CAP/ai-starter-kit/yoda/data/sec-edgar-filings/NVDA/10-K/0001045810-23-000017/full-submission/images/page_248.jpg: 640x512 (no detections), 68.5ms\n",
      "Speed: 0.2ms preprocess, 68.5ms inference, 0.2ms postprocess per image at shape (1, 3, 640, 640)\n",
      "\n"
     ]
    },
    {
     "name": "stdout",
     "output_type": "stream",
     "text": [
      "Cropping tables from /Users/codym/CAP/ai-starter-kit/yoda/data/sec-edgar-filings/NVDA/10-K/0001045810-23-000017/full-submission/images/page_274.jpg\n",
      "Cropping tables from /Users/codym/CAP/ai-starter-kit/yoda/data/sec-edgar-filings/NVDA/10-K/0001045810-23-000017/full-submission/images/page_248.jpg\n",
      "Cropping tables from /Users/codym/CAP/ai-starter-kit/yoda/data/sec-edgar-filings/NVDA/10-K/0001045810-23-000017/full-submission/images/page_314.jpg\n"
     ]
    },
    {
     "name": "stderr",
     "output_type": "stream",
     "text": [
      "image 1/1 /Users/codym/CAP/ai-starter-kit/yoda/data/sec-edgar-filings/NVDA/10-K/0001045810-23-000017/full-submission/images/page_314.jpg: 640x512 (no detections), 75.1ms\n",
      "Speed: 0.2ms preprocess, 75.1ms inference, 0.2ms postprocess per image at shape (1, 3, 640, 640)\n",
      "\n",
      "image 1/1 /Users/codym/CAP/ai-starter-kit/yoda/data/sec-edgar-filings/NVDA/10-K/0001045810-23-000017/full-submission/images/page_300.jpg: 640x512 (no detections), 66.4ms\n",
      "Speed: 0.2ms preprocess, 66.4ms inference, 0.2ms postprocess per image at shape (1, 3, 640, 640)\n",
      "\n",
      "image 1/1 /Users/codym/CAP/ai-starter-kit/yoda/data/sec-edgar-filings/NVDA/10-K/0001045810-23-000017/full-submission/images/page_328.jpg: 640x512 (no detections), 72.4ms\n",
      "Speed: 0.2ms preprocess, 72.4ms inference, 0.2ms postprocess per image at shape (1, 3, 640, 640)\n",
      "\n"
     ]
    },
    {
     "name": "stdout",
     "output_type": "stream",
     "text": [
      "Cropping tables from /Users/codym/CAP/ai-starter-kit/yoda/data/sec-edgar-filings/NVDA/10-K/0001045810-23-000017/full-submission/images/page_300.jpg\n",
      "Cropping tables from /Users/codym/CAP/ai-starter-kit/yoda/data/sec-edgar-filings/NVDA/10-K/0001045810-23-000017/full-submission/images/page_328.jpg\n",
      "Cropping tables from /Users/codym/CAP/ai-starter-kit/yoda/data/sec-edgar-filings/NVDA/10-K/0001045810-23-000017/full-submission/images/page_116.jpg\n"
     ]
    },
    {
     "name": "stderr",
     "output_type": "stream",
     "text": [
      "image 1/1 /Users/codym/CAP/ai-starter-kit/yoda/data/sec-edgar-filings/NVDA/10-K/0001045810-23-000017/full-submission/images/page_116.jpg: 640x512 (no detections), 72.0ms\n",
      "Speed: 0.3ms preprocess, 72.0ms inference, 0.2ms postprocess per image at shape (1, 3, 640, 640)\n",
      "\n",
      "image 1/1 /Users/codym/CAP/ai-starter-kit/yoda/data/sec-edgar-filings/NVDA/10-K/0001045810-23-000017/full-submission/images/page_102.jpg: 640x512 (no detections), 71.5ms\n",
      "Speed: 0.3ms preprocess, 71.5ms inference, 0.2ms postprocess per image at shape (1, 3, 640, 640)\n",
      "\n",
      "image 1/1 /Users/codym/CAP/ai-starter-kit/yoda/data/sec-edgar-filings/NVDA/10-K/0001045810-23-000017/full-submission/images/page_103.jpg: 640x512 (no detections), 69.7ms\n",
      "Speed: 0.2ms preprocess, 69.7ms inference, 0.2ms postprocess per image at shape (1, 3, 640, 640)\n",
      "\n"
     ]
    },
    {
     "name": "stdout",
     "output_type": "stream",
     "text": [
      "Cropping tables from /Users/codym/CAP/ai-starter-kit/yoda/data/sec-edgar-filings/NVDA/10-K/0001045810-23-000017/full-submission/images/page_102.jpg\n",
      "Cropping tables from /Users/codym/CAP/ai-starter-kit/yoda/data/sec-edgar-filings/NVDA/10-K/0001045810-23-000017/full-submission/images/page_103.jpg\n",
      "Cropping tables from /Users/codym/CAP/ai-starter-kit/yoda/data/sec-edgar-filings/NVDA/10-K/0001045810-23-000017/full-submission/images/page_117.jpg\n"
     ]
    },
    {
     "name": "stderr",
     "output_type": "stream",
     "text": [
      "image 1/1 /Users/codym/CAP/ai-starter-kit/yoda/data/sec-edgar-filings/NVDA/10-K/0001045810-23-000017/full-submission/images/page_117.jpg: 640x512 (no detections), 72.9ms\n",
      "Speed: 0.2ms preprocess, 72.9ms inference, 0.2ms postprocess per image at shape (1, 3, 640, 640)\n",
      "\n",
      "image 1/1 /Users/codym/CAP/ai-starter-kit/yoda/data/sec-edgar-filings/NVDA/10-K/0001045810-23-000017/full-submission/images/page_329.jpg: 640x512 (no detections), 149.7ms\n",
      "Speed: 0.3ms preprocess, 149.7ms inference, 0.2ms postprocess per image at shape (1, 3, 640, 640)\n",
      "\n"
     ]
    },
    {
     "name": "stdout",
     "output_type": "stream",
     "text": [
      "Cropping tables from /Users/codym/CAP/ai-starter-kit/yoda/data/sec-edgar-filings/NVDA/10-K/0001045810-23-000017/full-submission/images/page_329.jpg\n",
      "Cropping tables from /Users/codym/CAP/ai-starter-kit/yoda/data/sec-edgar-filings/NVDA/10-K/0001045810-23-000017/full-submission/images/page_301.jpg\n"
     ]
    },
    {
     "name": "stderr",
     "output_type": "stream",
     "text": [
      "image 1/1 /Users/codym/CAP/ai-starter-kit/yoda/data/sec-edgar-filings/NVDA/10-K/0001045810-23-000017/full-submission/images/page_301.jpg: 640x512 (no detections), 72.9ms\n",
      "Speed: 0.2ms preprocess, 72.9ms inference, 0.2ms postprocess per image at shape (1, 3, 640, 640)\n",
      "\n",
      "image 1/1 /Users/codym/CAP/ai-starter-kit/yoda/data/sec-edgar-filings/NVDA/10-K/0001045810-23-000017/full-submission/images/page_315.jpg: 640x512 (no detections), 70.2ms\n",
      "Speed: 0.2ms preprocess, 70.2ms inference, 0.2ms postprocess per image at shape (1, 3, 640, 640)\n",
      "\n",
      "image 1/1 /Users/codym/CAP/ai-starter-kit/yoda/data/sec-edgar-filings/NVDA/10-K/0001045810-23-000017/full-submission/images/page_249.jpg: 640x512 (no detections), 72.0ms\n",
      "Speed: 0.2ms preprocess, 72.0ms inference, 0.2ms postprocess per image at shape (1, 3, 640, 640)\n",
      "\n"
     ]
    },
    {
     "name": "stdout",
     "output_type": "stream",
     "text": [
      "Cropping tables from /Users/codym/CAP/ai-starter-kit/yoda/data/sec-edgar-filings/NVDA/10-K/0001045810-23-000017/full-submission/images/page_315.jpg\n",
      "Cropping tables from /Users/codym/CAP/ai-starter-kit/yoda/data/sec-edgar-filings/NVDA/10-K/0001045810-23-000017/full-submission/images/page_249.jpg\n",
      "Cropping tables from /Users/codym/CAP/ai-starter-kit/yoda/data/sec-edgar-filings/NVDA/10-K/0001045810-23-000017/full-submission/images/page_275.jpg\n"
     ]
    },
    {
     "name": "stderr",
     "output_type": "stream",
     "text": [
      "image 1/1 /Users/codym/CAP/ai-starter-kit/yoda/data/sec-edgar-filings/NVDA/10-K/0001045810-23-000017/full-submission/images/page_275.jpg: 640x512 (no detections), 73.4ms\n",
      "Speed: 0.2ms preprocess, 73.4ms inference, 0.2ms postprocess per image at shape (1, 3, 640, 640)\n",
      "\n",
      "image 1/1 /Users/codym/CAP/ai-starter-kit/yoda/data/sec-edgar-filings/NVDA/10-K/0001045810-23-000017/full-submission/images/page_261.jpg: 640x512 (no detections), 80.6ms\n",
      "Speed: 0.4ms preprocess, 80.6ms inference, 0.2ms postprocess per image at shape (1, 3, 640, 640)\n",
      "\n",
      "image 1/1 /Users/codym/CAP/ai-starter-kit/yoda/data/sec-edgar-filings/NVDA/10-K/0001045810-23-000017/full-submission/images/page_28.jpg: 640x512 (no detections), 76.0ms\n",
      "Speed: 0.2ms preprocess, 76.0ms inference, 0.2ms postprocess per image at shape (1, 3, 640, 640)\n",
      "\n"
     ]
    },
    {
     "name": "stdout",
     "output_type": "stream",
     "text": [
      "Cropping tables from /Users/codym/CAP/ai-starter-kit/yoda/data/sec-edgar-filings/NVDA/10-K/0001045810-23-000017/full-submission/images/page_261.jpg\n",
      "Cropping tables from /Users/codym/CAP/ai-starter-kit/yoda/data/sec-edgar-filings/NVDA/10-K/0001045810-23-000017/full-submission/images/page_28.jpg\n",
      "Cropping tables from /Users/codym/CAP/ai-starter-kit/yoda/data/sec-edgar-filings/NVDA/10-K/0001045810-23-000017/full-submission/images/page_14.jpg\n"
     ]
    },
    {
     "name": "stderr",
     "output_type": "stream",
     "text": [
      "image 1/1 /Users/codym/CAP/ai-starter-kit/yoda/data/sec-edgar-filings/NVDA/10-K/0001045810-23-000017/full-submission/images/page_14.jpg: 640x512 (no detections), 73.0ms\n",
      "Speed: 0.2ms preprocess, 73.0ms inference, 0.2ms postprocess per image at shape (1, 3, 640, 640)\n",
      "\n",
      "image 1/1 /Users/codym/CAP/ai-starter-kit/yoda/data/sec-edgar-filings/NVDA/10-K/0001045810-23-000017/full-submission/images/page_98.jpg: 640x512 (no detections), 76.2ms\n",
      "Speed: 0.5ms preprocess, 76.2ms inference, 0.2ms postprocess per image at shape (1, 3, 640, 640)\n",
      "\n",
      "image 1/1 /Users/codym/CAP/ai-starter-kit/yoda/data/sec-edgar-filings/NVDA/10-K/0001045810-23-000017/full-submission/images/page_73.jpg: 640x512 1 bordered, 2 borderlesss, 67.2ms\n",
      "Speed: 0.2ms preprocess, 67.2ms inference, 0.4ms postprocess per image at shape (1, 3, 640, 640)\n",
      "\n"
     ]
    },
    {
     "name": "stdout",
     "output_type": "stream",
     "text": [
      "Cropping tables from /Users/codym/CAP/ai-starter-kit/yoda/data/sec-edgar-filings/NVDA/10-K/0001045810-23-000017/full-submission/images/page_98.jpg\n",
      "Cropping tables from /Users/codym/CAP/ai-starter-kit/yoda/data/sec-edgar-filings/NVDA/10-K/0001045810-23-000017/full-submission/images/page_73.jpg\n",
      "Cropping tables from /Users/codym/CAP/ai-starter-kit/yoda/data/sec-edgar-filings/NVDA/10-K/0001045810-23-000017/full-submission/images/page_67.jpg\n"
     ]
    },
    {
     "name": "stderr",
     "output_type": "stream",
     "text": [
      "image 1/1 /Users/codym/CAP/ai-starter-kit/yoda/data/sec-edgar-filings/NVDA/10-K/0001045810-23-000017/full-submission/images/page_67.jpg: 640x512 1 bordered, 1 borderless, 75.4ms\n",
      "Speed: 0.3ms preprocess, 75.4ms inference, 0.4ms postprocess per image at shape (1, 3, 640, 640)\n",
      "\n",
      "image 1/1 /Users/codym/CAP/ai-starter-kit/yoda/data/sec-edgar-filings/NVDA/10-K/0001045810-23-000017/full-submission/images/page_206.jpg: 640x512 1 borderless, 81.9ms\n",
      "Speed: 0.2ms preprocess, 81.9ms inference, 0.4ms postprocess per image at shape (1, 3, 640, 640)\n",
      "\n",
      "image 1/1 /Users/codym/CAP/ai-starter-kit/yoda/data/sec-edgar-filings/NVDA/10-K/0001045810-23-000017/full-submission/images/page_212.jpg: 640x512 1 borderless, 69.0ms\n",
      "Speed: 0.2ms preprocess, 69.0ms inference, 0.4ms postprocess per image at shape (1, 3, 640, 640)\n",
      "\n"
     ]
    },
    {
     "name": "stdout",
     "output_type": "stream",
     "text": [
      "Cropping tables from /Users/codym/CAP/ai-starter-kit/yoda/data/sec-edgar-filings/NVDA/10-K/0001045810-23-000017/full-submission/images/page_206.jpg\n",
      "Cropping tables from /Users/codym/CAP/ai-starter-kit/yoda/data/sec-edgar-filings/NVDA/10-K/0001045810-23-000017/full-submission/images/page_212.jpg\n",
      "Cropping tables from /Users/codym/CAP/ai-starter-kit/yoda/data/sec-edgar-filings/NVDA/10-K/0001045810-23-000017/full-submission/images/page_399.jpg\n"
     ]
    },
    {
     "name": "stderr",
     "output_type": "stream",
     "text": [
      "image 1/1 /Users/codym/CAP/ai-starter-kit/yoda/data/sec-edgar-filings/NVDA/10-K/0001045810-23-000017/full-submission/images/page_399.jpg: 640x512 (no detections), 71.1ms\n",
      "Speed: 0.2ms preprocess, 71.1ms inference, 0.2ms postprocess per image at shape (1, 3, 640, 640)\n",
      "\n",
      "image 1/1 /Users/codym/CAP/ai-starter-kit/yoda/data/sec-edgar-filings/NVDA/10-K/0001045810-23-000017/full-submission/images/page_372.jpg: 640x512 (no detections), 68.6ms\n",
      "Speed: 0.4ms preprocess, 68.6ms inference, 0.2ms postprocess per image at shape (1, 3, 640, 640)\n",
      "\n",
      "image 1/1 /Users/codym/CAP/ai-starter-kit/yoda/data/sec-edgar-filings/NVDA/10-K/0001045810-23-000017/full-submission/images/page_366.jpg: 640x512 (no detections), 66.7ms\n",
      "Speed: 0.2ms preprocess, 66.7ms inference, 0.2ms postprocess per image at shape (1, 3, 640, 640)\n",
      "\n"
     ]
    },
    {
     "name": "stdout",
     "output_type": "stream",
     "text": [
      "Cropping tables from /Users/codym/CAP/ai-starter-kit/yoda/data/sec-edgar-filings/NVDA/10-K/0001045810-23-000017/full-submission/images/page_372.jpg\n",
      "Cropping tables from /Users/codym/CAP/ai-starter-kit/yoda/data/sec-edgar-filings/NVDA/10-K/0001045810-23-000017/full-submission/images/page_366.jpg\n",
      "Cropping tables from /Users/codym/CAP/ai-starter-kit/yoda/data/sec-edgar-filings/NVDA/10-K/0001045810-23-000017/full-submission/images/page_158.jpg\n"
     ]
    },
    {
     "name": "stderr",
     "output_type": "stream",
     "text": [
      "image 1/1 /Users/codym/CAP/ai-starter-kit/yoda/data/sec-edgar-filings/NVDA/10-K/0001045810-23-000017/full-submission/images/page_158.jpg: 640x512 1 borderless, 73.5ms\n",
      "Speed: 0.2ms preprocess, 73.5ms inference, 0.4ms postprocess per image at shape (1, 3, 640, 640)\n",
      "\n",
      "image 1/1 /Users/codym/CAP/ai-starter-kit/yoda/data/sec-edgar-filings/NVDA/10-K/0001045810-23-000017/full-submission/images/page_170.jpg: 640x512 (no detections), 70.2ms\n",
      "Speed: 0.3ms preprocess, 70.2ms inference, 0.2ms postprocess per image at shape (1, 3, 640, 640)\n",
      "\n",
      "image 1/1 /Users/codym/CAP/ai-starter-kit/yoda/data/sec-edgar-filings/NVDA/10-K/0001045810-23-000017/full-submission/images/page_164.jpg: 640x512 (no detections), 68.2ms\n",
      "Speed: 0.2ms preprocess, 68.2ms inference, 0.2ms postprocess per image at shape (1, 3, 640, 640)\n",
      "\n"
     ]
    },
    {
     "name": "stdout",
     "output_type": "stream",
     "text": [
      "Cropping tables from /Users/codym/CAP/ai-starter-kit/yoda/data/sec-edgar-filings/NVDA/10-K/0001045810-23-000017/full-submission/images/page_170.jpg\n",
      "Cropping tables from /Users/codym/CAP/ai-starter-kit/yoda/data/sec-edgar-filings/NVDA/10-K/0001045810-23-000017/full-submission/images/page_164.jpg\n",
      "Cropping tables from /Users/codym/CAP/ai-starter-kit/yoda/data/sec-edgar-filings/NVDA/10-K/0001045810-23-000017/full-submission/images/page_165.jpg\n"
     ]
    },
    {
     "name": "stderr",
     "output_type": "stream",
     "text": [
      "image 1/1 /Users/codym/CAP/ai-starter-kit/yoda/data/sec-edgar-filings/NVDA/10-K/0001045810-23-000017/full-submission/images/page_165.jpg: 640x512 (no detections), 73.9ms\n",
      "Speed: 0.2ms preprocess, 73.9ms inference, 0.2ms postprocess per image at shape (1, 3, 640, 640)\n",
      "\n",
      "image 1/1 /Users/codym/CAP/ai-starter-kit/yoda/data/sec-edgar-filings/NVDA/10-K/0001045810-23-000017/full-submission/images/page_171.jpg: 640x512 (no detections), 72.5ms\n",
      "Speed: 0.3ms preprocess, 72.5ms inference, 0.2ms postprocess per image at shape (1, 3, 640, 640)\n",
      "\n",
      "image 1/1 /Users/codym/CAP/ai-starter-kit/yoda/data/sec-edgar-filings/NVDA/10-K/0001045810-23-000017/full-submission/images/page_159.jpg: 640x512 2 borderlesss, 66.7ms\n",
      "Speed: 0.2ms preprocess, 66.7ms inference, 0.4ms postprocess per image at shape (1, 3, 640, 640)\n",
      "\n"
     ]
    },
    {
     "name": "stdout",
     "output_type": "stream",
     "text": [
      "Cropping tables from /Users/codym/CAP/ai-starter-kit/yoda/data/sec-edgar-filings/NVDA/10-K/0001045810-23-000017/full-submission/images/page_171.jpg\n",
      "Cropping tables from /Users/codym/CAP/ai-starter-kit/yoda/data/sec-edgar-filings/NVDA/10-K/0001045810-23-000017/full-submission/images/page_159.jpg\n",
      "Cropping tables from /Users/codym/CAP/ai-starter-kit/yoda/data/sec-edgar-filings/NVDA/10-K/0001045810-23-000017/full-submission/images/page_367.jpg\n"
     ]
    },
    {
     "name": "stderr",
     "output_type": "stream",
     "text": [
      "image 1/1 /Users/codym/CAP/ai-starter-kit/yoda/data/sec-edgar-filings/NVDA/10-K/0001045810-23-000017/full-submission/images/page_367.jpg: 640x512 (no detections), 72.7ms\n",
      "Speed: 0.2ms preprocess, 72.7ms inference, 0.2ms postprocess per image at shape (1, 3, 640, 640)\n",
      "\n",
      "image 1/1 /Users/codym/CAP/ai-starter-kit/yoda/data/sec-edgar-filings/NVDA/10-K/0001045810-23-000017/full-submission/images/page_373.jpg: 640x512 (no detections), 72.3ms\n",
      "Speed: 0.5ms preprocess, 72.3ms inference, 0.2ms postprocess per image at shape (1, 3, 640, 640)\n",
      "\n",
      "image 1/1 /Users/codym/CAP/ai-starter-kit/yoda/data/sec-edgar-filings/NVDA/10-K/0001045810-23-000017/full-submission/images/page_398.jpg: 640x512 (no detections), 63.9ms\n",
      "Speed: 0.2ms preprocess, 63.9ms inference, 0.2ms postprocess per image at shape (1, 3, 640, 640)\n",
      "\n"
     ]
    },
    {
     "name": "stdout",
     "output_type": "stream",
     "text": [
      "Cropping tables from /Users/codym/CAP/ai-starter-kit/yoda/data/sec-edgar-filings/NVDA/10-K/0001045810-23-000017/full-submission/images/page_373.jpg\n",
      "Cropping tables from /Users/codym/CAP/ai-starter-kit/yoda/data/sec-edgar-filings/NVDA/10-K/0001045810-23-000017/full-submission/images/page_398.jpg\n",
      "Cropping tables from /Users/codym/CAP/ai-starter-kit/yoda/data/sec-edgar-filings/NVDA/10-K/0001045810-23-000017/full-submission/images/page_213.jpg\n"
     ]
    },
    {
     "name": "stderr",
     "output_type": "stream",
     "text": [
      "image 1/1 /Users/codym/CAP/ai-starter-kit/yoda/data/sec-edgar-filings/NVDA/10-K/0001045810-23-000017/full-submission/images/page_213.jpg: 640x512 (no detections), 73.5ms\n",
      "Speed: 0.2ms preprocess, 73.5ms inference, 0.2ms postprocess per image at shape (1, 3, 640, 640)\n",
      "\n",
      "image 1/1 /Users/codym/CAP/ai-starter-kit/yoda/data/sec-edgar-filings/NVDA/10-K/0001045810-23-000017/full-submission/images/page_207.jpg: 640x512 1 borderless, 76.3ms\n",
      "Speed: 0.2ms preprocess, 76.3ms inference, 0.4ms postprocess per image at shape (1, 3, 640, 640)\n",
      "\n",
      "image 1/1 /Users/codym/CAP/ai-starter-kit/yoda/data/sec-edgar-filings/NVDA/10-K/0001045810-23-000017/full-submission/images/page_66.jpg: 640x512 2 bordereds, 80.6ms\n",
      "Speed: 0.4ms preprocess, 80.6ms inference, 0.4ms postprocess per image at shape (1, 3, 640, 640)\n",
      "\n"
     ]
    },
    {
     "name": "stdout",
     "output_type": "stream",
     "text": [
      "Cropping tables from /Users/codym/CAP/ai-starter-kit/yoda/data/sec-edgar-filings/NVDA/10-K/0001045810-23-000017/full-submission/images/page_207.jpg\n",
      "Cropping tables from /Users/codym/CAP/ai-starter-kit/yoda/data/sec-edgar-filings/NVDA/10-K/0001045810-23-000017/full-submission/images/page_66.jpg\n",
      "Cropping tables from /Users/codym/CAP/ai-starter-kit/yoda/data/sec-edgar-filings/NVDA/10-K/0001045810-23-000017/full-submission/images/page_72.jpg\n"
     ]
    },
    {
     "name": "stderr",
     "output_type": "stream",
     "text": [
      "image 1/1 /Users/codym/CAP/ai-starter-kit/yoda/data/sec-edgar-filings/NVDA/10-K/0001045810-23-000017/full-submission/images/page_72.jpg: 640x512 2 borderlesss, 93.9ms\n",
      "Speed: 0.3ms preprocess, 93.9ms inference, 0.4ms postprocess per image at shape (1, 3, 640, 640)\n",
      "\n",
      "image 1/1 /Users/codym/CAP/ai-starter-kit/yoda/data/sec-edgar-filings/NVDA/10-K/0001045810-23-000017/full-submission/images/page_99.jpg: 640x512 (no detections), 86.5ms\n",
      "Speed: 4.6ms preprocess, 86.5ms inference, 0.2ms postprocess per image at shape (1, 3, 640, 640)\n",
      "\n",
      "image 1/1 /Users/codym/CAP/ai-starter-kit/yoda/data/sec-edgar-filings/NVDA/10-K/0001045810-23-000017/full-submission/images/page_58.jpg: 640x512 (no detections), 74.3ms\n",
      "Speed: 0.4ms preprocess, 74.3ms inference, 0.2ms postprocess per image at shape (1, 3, 640, 640)\n",
      "\n"
     ]
    },
    {
     "name": "stdout",
     "output_type": "stream",
     "text": [
      "Cropping tables from /Users/codym/CAP/ai-starter-kit/yoda/data/sec-edgar-filings/NVDA/10-K/0001045810-23-000017/full-submission/images/page_99.jpg\n",
      "Cropping tables from /Users/codym/CAP/ai-starter-kit/yoda/data/sec-edgar-filings/NVDA/10-K/0001045810-23-000017/full-submission/images/page_58.jpg\n",
      "Cropping tables from /Users/codym/CAP/ai-starter-kit/yoda/data/sec-edgar-filings/NVDA/10-K/0001045810-23-000017/full-submission/images/page_64.jpg\n"
     ]
    },
    {
     "name": "stderr",
     "output_type": "stream",
     "text": [
      "image 1/1 /Users/codym/CAP/ai-starter-kit/yoda/data/sec-edgar-filings/NVDA/10-K/0001045810-23-000017/full-submission/images/page_64.jpg: 640x512 1 bordered, 146.2ms\n",
      "Speed: 0.3ms preprocess, 146.2ms inference, 0.4ms postprocess per image at shape (1, 3, 640, 640)\n",
      "\n",
      "image 1/1 /Users/codym/CAP/ai-starter-kit/yoda/data/sec-edgar-filings/NVDA/10-K/0001045810-23-000017/full-submission/images/page_70.jpg: 640x512 2 borderlesss, 67.2ms\n",
      "Speed: 1.0ms preprocess, 67.2ms inference, 0.4ms postprocess per image at shape (1, 3, 640, 640)\n",
      "\n",
      "image 1/1 /Users/codym/CAP/ai-starter-kit/yoda/data/sec-edgar-filings/NVDA/10-K/0001045810-23-000017/full-submission/images/page_239.jpg: 640x512 (no detections), 69.5ms\n",
      "Speed: 0.5ms preprocess, 69.5ms inference, 0.2ms postprocess per image at shape (1, 3, 640, 640)\n",
      "\n"
     ]
    },
    {
     "name": "stdout",
     "output_type": "stream",
     "text": [
      "Cropping tables from /Users/codym/CAP/ai-starter-kit/yoda/data/sec-edgar-filings/NVDA/10-K/0001045810-23-000017/full-submission/images/page_70.jpg\n",
      "Cropping tables from /Users/codym/CAP/ai-starter-kit/yoda/data/sec-edgar-filings/NVDA/10-K/0001045810-23-000017/full-submission/images/page_239.jpg\n",
      "Cropping tables from /Users/codym/CAP/ai-starter-kit/yoda/data/sec-edgar-filings/NVDA/10-K/0001045810-23-000017/full-submission/images/page_211.jpg\n"
     ]
    },
    {
     "name": "stderr",
     "output_type": "stream",
     "text": [
      "image 1/1 /Users/codym/CAP/ai-starter-kit/yoda/data/sec-edgar-filings/NVDA/10-K/0001045810-23-000017/full-submission/images/page_211.jpg: 640x512 2 borderlesss, 73.1ms\n",
      "Speed: 6.9ms preprocess, 73.1ms inference, 0.4ms postprocess per image at shape (1, 3, 640, 640)\n",
      "\n",
      "image 1/1 /Users/codym/CAP/ai-starter-kit/yoda/data/sec-edgar-filings/NVDA/10-K/0001045810-23-000017/full-submission/images/page_205.jpg: 640x512 2 borderlesss, 75.2ms\n",
      "Speed: 0.2ms preprocess, 75.2ms inference, 0.4ms postprocess per image at shape (1, 3, 640, 640)\n",
      "\n",
      "image 1/1 /Users/codym/CAP/ai-starter-kit/yoda/data/sec-edgar-filings/NVDA/10-K/0001045810-23-000017/full-submission/images/page_359.jpg: 640x512 (no detections), 71.3ms\n",
      "Speed: 0.2ms preprocess, 71.3ms inference, 0.2ms postprocess per image at shape (1, 3, 640, 640)\n",
      "\n"
     ]
    },
    {
     "name": "stdout",
     "output_type": "stream",
     "text": [
      "Cropping tables from /Users/codym/CAP/ai-starter-kit/yoda/data/sec-edgar-filings/NVDA/10-K/0001045810-23-000017/full-submission/images/page_205.jpg\n",
      "Cropping tables from /Users/codym/CAP/ai-starter-kit/yoda/data/sec-edgar-filings/NVDA/10-K/0001045810-23-000017/full-submission/images/page_359.jpg\n",
      "Cropping tables from /Users/codym/CAP/ai-starter-kit/yoda/data/sec-edgar-filings/NVDA/10-K/0001045810-23-000017/full-submission/images/page_365.jpg\n"
     ]
    },
    {
     "name": "stderr",
     "output_type": "stream",
     "text": [
      "image 1/1 /Users/codym/CAP/ai-starter-kit/yoda/data/sec-edgar-filings/NVDA/10-K/0001045810-23-000017/full-submission/images/page_365.jpg: 640x512 (no detections), 69.6ms\n",
      "Speed: 0.2ms preprocess, 69.6ms inference, 0.2ms postprocess per image at shape (1, 3, 640, 640)\n",
      "\n",
      "image 1/1 /Users/codym/CAP/ai-starter-kit/yoda/data/sec-edgar-filings/NVDA/10-K/0001045810-23-000017/full-submission/images/page_371.jpg: 640x512 (no detections), 67.6ms\n",
      "Speed: 0.3ms preprocess, 67.6ms inference, 0.2ms postprocess per image at shape (1, 3, 640, 640)\n",
      "\n",
      "image 1/1 /Users/codym/CAP/ai-starter-kit/yoda/data/sec-edgar-filings/NVDA/10-K/0001045810-23-000017/full-submission/images/page_198.jpg: 640x512 3 borderlesss, 74.0ms\n",
      "Speed: 0.3ms preprocess, 74.0ms inference, 0.4ms postprocess per image at shape (1, 3, 640, 640)\n",
      "\n"
     ]
    },
    {
     "name": "stdout",
     "output_type": "stream",
     "text": [
      "Cropping tables from /Users/codym/CAP/ai-starter-kit/yoda/data/sec-edgar-filings/NVDA/10-K/0001045810-23-000017/full-submission/images/page_371.jpg\n",
      "Cropping tables from /Users/codym/CAP/ai-starter-kit/yoda/data/sec-edgar-filings/NVDA/10-K/0001045810-23-000017/full-submission/images/page_198.jpg\n",
      "Cropping tables from /Users/codym/CAP/ai-starter-kit/yoda/data/sec-edgar-filings/NVDA/10-K/0001045810-23-000017/full-submission/images/page_8.jpg\n"
     ]
    },
    {
     "name": "stderr",
     "output_type": "stream",
     "text": [
      "image 1/1 /Users/codym/CAP/ai-starter-kit/yoda/data/sec-edgar-filings/NVDA/10-K/0001045810-23-000017/full-submission/images/page_8.jpg: 640x512 (no detections), 72.5ms\n",
      "Speed: 0.6ms preprocess, 72.5ms inference, 0.2ms postprocess per image at shape (1, 3, 640, 640)\n",
      "\n",
      "image 1/1 /Users/codym/CAP/ai-starter-kit/yoda/data/sec-edgar-filings/NVDA/10-K/0001045810-23-000017/full-submission/images/page_167.jpg: 640x512 (no detections), 64.8ms\n",
      "Speed: 0.3ms preprocess, 64.8ms inference, 0.2ms postprocess per image at shape (1, 3, 640, 640)\n",
      "\n",
      "image 1/1 /Users/codym/CAP/ai-starter-kit/yoda/data/sec-edgar-filings/NVDA/10-K/0001045810-23-000017/full-submission/images/page_173.jpg: 640x512 (no detections), 80.5ms\n",
      "Speed: 0.2ms preprocess, 80.5ms inference, 0.2ms postprocess per image at shape (1, 3, 640, 640)\n",
      "\n"
     ]
    },
    {
     "name": "stdout",
     "output_type": "stream",
     "text": [
      "Cropping tables from /Users/codym/CAP/ai-starter-kit/yoda/data/sec-edgar-filings/NVDA/10-K/0001045810-23-000017/full-submission/images/page_167.jpg\n",
      "Cropping tables from /Users/codym/CAP/ai-starter-kit/yoda/data/sec-edgar-filings/NVDA/10-K/0001045810-23-000017/full-submission/images/page_173.jpg\n",
      "Cropping tables from /Users/codym/CAP/ai-starter-kit/yoda/data/sec-edgar-filings/NVDA/10-K/0001045810-23-000017/full-submission/images/page_172.jpg\n"
     ]
    },
    {
     "name": "stderr",
     "output_type": "stream",
     "text": [
      "image 1/1 /Users/codym/CAP/ai-starter-kit/yoda/data/sec-edgar-filings/NVDA/10-K/0001045810-23-000017/full-submission/images/page_172.jpg: 640x512 (no detections), 67.9ms\n",
      "Speed: 0.2ms preprocess, 67.9ms inference, 0.2ms postprocess per image at shape (1, 3, 640, 640)\n",
      "\n",
      "image 1/1 /Users/codym/CAP/ai-starter-kit/yoda/data/sec-edgar-filings/NVDA/10-K/0001045810-23-000017/full-submission/images/page_166.jpg: 640x512 (no detections), 74.5ms\n",
      "Speed: 0.3ms preprocess, 74.5ms inference, 0.2ms postprocess per image at shape (1, 3, 640, 640)\n",
      "\n",
      "image 1/1 /Users/codym/CAP/ai-starter-kit/yoda/data/sec-edgar-filings/NVDA/10-K/0001045810-23-000017/full-submission/images/page_199.jpg: 640x512 4 borderlesss, 68.2ms\n",
      "Speed: 0.2ms preprocess, 68.2ms inference, 0.4ms postprocess per image at shape (1, 3, 640, 640)\n",
      "\n"
     ]
    },
    {
     "name": "stdout",
     "output_type": "stream",
     "text": [
      "Cropping tables from /Users/codym/CAP/ai-starter-kit/yoda/data/sec-edgar-filings/NVDA/10-K/0001045810-23-000017/full-submission/images/page_166.jpg\n",
      "Cropping tables from /Users/codym/CAP/ai-starter-kit/yoda/data/sec-edgar-filings/NVDA/10-K/0001045810-23-000017/full-submission/images/page_199.jpg\n",
      "Cropping tables from /Users/codym/CAP/ai-starter-kit/yoda/data/sec-edgar-filings/NVDA/10-K/0001045810-23-000017/full-submission/images/page_9.jpg\n"
     ]
    },
    {
     "name": "stderr",
     "output_type": "stream",
     "text": [
      "image 1/1 /Users/codym/CAP/ai-starter-kit/yoda/data/sec-edgar-filings/NVDA/10-K/0001045810-23-000017/full-submission/images/page_9.jpg: 640x512 (no detections), 82.8ms\n",
      "Speed: 0.2ms preprocess, 82.8ms inference, 0.2ms postprocess per image at shape (1, 3, 640, 640)\n",
      "\n",
      "image 1/1 /Users/codym/CAP/ai-starter-kit/yoda/data/sec-edgar-filings/NVDA/10-K/0001045810-23-000017/full-submission/images/page_370.jpg: 640x512 (no detections), 68.0ms\n",
      "Speed: 0.4ms preprocess, 68.0ms inference, 0.2ms postprocess per image at shape (1, 3, 640, 640)\n",
      "\n",
      "image 1/1 /Users/codym/CAP/ai-starter-kit/yoda/data/sec-edgar-filings/NVDA/10-K/0001045810-23-000017/full-submission/images/page_364.jpg: 640x512 (no detections), 77.9ms\n",
      "Speed: 0.2ms preprocess, 77.9ms inference, 0.2ms postprocess per image at shape (1, 3, 640, 640)\n",
      "\n"
     ]
    },
    {
     "name": "stdout",
     "output_type": "stream",
     "text": [
      "Cropping tables from /Users/codym/CAP/ai-starter-kit/yoda/data/sec-edgar-filings/NVDA/10-K/0001045810-23-000017/full-submission/images/page_370.jpg\n",
      "Cropping tables from /Users/codym/CAP/ai-starter-kit/yoda/data/sec-edgar-filings/NVDA/10-K/0001045810-23-000017/full-submission/images/page_364.jpg\n",
      "Cropping tables from /Users/codym/CAP/ai-starter-kit/yoda/data/sec-edgar-filings/NVDA/10-K/0001045810-23-000017/full-submission/images/page_358.jpg\n"
     ]
    },
    {
     "name": "stderr",
     "output_type": "stream",
     "text": [
      "image 1/1 /Users/codym/CAP/ai-starter-kit/yoda/data/sec-edgar-filings/NVDA/10-K/0001045810-23-000017/full-submission/images/page_358.jpg: 640x512 (no detections), 70.8ms\n",
      "Speed: 0.2ms preprocess, 70.8ms inference, 0.2ms postprocess per image at shape (1, 3, 640, 640)\n",
      "\n",
      "image 1/1 /Users/codym/CAP/ai-starter-kit/yoda/data/sec-edgar-filings/NVDA/10-K/0001045810-23-000017/full-submission/images/page_204.jpg: 640x512 (no detections), 72.2ms\n",
      "Speed: 0.3ms preprocess, 72.2ms inference, 0.2ms postprocess per image at shape (1, 3, 640, 640)\n",
      "\n",
      "image 1/1 /Users/codym/CAP/ai-starter-kit/yoda/data/sec-edgar-filings/NVDA/10-K/0001045810-23-000017/full-submission/images/page_210.jpg: 640x512 1 borderless, 79.8ms\n",
      "Speed: 0.2ms preprocess, 79.8ms inference, 0.4ms postprocess per image at shape (1, 3, 640, 640)\n",
      "\n"
     ]
    },
    {
     "name": "stdout",
     "output_type": "stream",
     "text": [
      "Cropping tables from /Users/codym/CAP/ai-starter-kit/yoda/data/sec-edgar-filings/NVDA/10-K/0001045810-23-000017/full-submission/images/page_204.jpg\n",
      "Cropping tables from /Users/codym/CAP/ai-starter-kit/yoda/data/sec-edgar-filings/NVDA/10-K/0001045810-23-000017/full-submission/images/page_210.jpg\n",
      "Cropping tables from /Users/codym/CAP/ai-starter-kit/yoda/data/sec-edgar-filings/NVDA/10-K/0001045810-23-000017/full-submission/images/page_238.jpg\n"
     ]
    },
    {
     "name": "stderr",
     "output_type": "stream",
     "text": [
      "image 1/1 /Users/codym/CAP/ai-starter-kit/yoda/data/sec-edgar-filings/NVDA/10-K/0001045810-23-000017/full-submission/images/page_238.jpg: 640x512 (no detections), 69.6ms\n",
      "Speed: 0.2ms preprocess, 69.6ms inference, 0.2ms postprocess per image at shape (1, 3, 640, 640)\n",
      "\n",
      "image 1/1 /Users/codym/CAP/ai-starter-kit/yoda/data/sec-edgar-filings/NVDA/10-K/0001045810-23-000017/full-submission/images/page_71.jpg: 640x512 1 bordered, 1 borderless, 70.0ms\n",
      "Speed: 0.2ms preprocess, 70.0ms inference, 0.4ms postprocess per image at shape (1, 3, 640, 640)\n",
      "\n",
      "image 1/1 /Users/codym/CAP/ai-starter-kit/yoda/data/sec-edgar-filings/NVDA/10-K/0001045810-23-000017/full-submission/images/page_65.jpg: 640x512 2 borderlesss, 65.5ms\n",
      "Speed: 0.2ms preprocess, 65.5ms inference, 0.4ms postprocess per image at shape (1, 3, 640, 640)\n",
      "\n"
     ]
    },
    {
     "name": "stdout",
     "output_type": "stream",
     "text": [
      "Cropping tables from /Users/codym/CAP/ai-starter-kit/yoda/data/sec-edgar-filings/NVDA/10-K/0001045810-23-000017/full-submission/images/page_71.jpg\n",
      "Cropping tables from /Users/codym/CAP/ai-starter-kit/yoda/data/sec-edgar-filings/NVDA/10-K/0001045810-23-000017/full-submission/images/page_65.jpg\n",
      "Cropping tables from /Users/codym/CAP/ai-starter-kit/yoda/data/sec-edgar-filings/NVDA/10-K/0001045810-23-000017/full-submission/images/page_59.jpg\n"
     ]
    },
    {
     "name": "stderr",
     "output_type": "stream",
     "text": [
      "image 1/1 /Users/codym/CAP/ai-starter-kit/yoda/data/sec-edgar-filings/NVDA/10-K/0001045810-23-000017/full-submission/images/page_59.jpg: 640x512 (no detections), 77.1ms\n",
      "Speed: 0.3ms preprocess, 77.1ms inference, 0.2ms postprocess per image at shape (1, 3, 640, 640)\n",
      "\n",
      "image 1/1 /Users/codym/CAP/ai-starter-kit/yoda/data/sec-edgar-filings/NVDA/10-K/0001045810-23-000017/full-submission/images/page_61.jpg: 640x512 (no detections), 69.9ms\n",
      "Speed: 0.2ms preprocess, 69.9ms inference, 0.2ms postprocess per image at shape (1, 3, 640, 640)\n",
      "\n",
      "image 1/1 /Users/codym/CAP/ai-starter-kit/yoda/data/sec-edgar-filings/NVDA/10-K/0001045810-23-000017/full-submission/images/page_75.jpg: 640x512 1 bordered, 65.7ms\n",
      "Speed: 0.2ms preprocess, 65.7ms inference, 0.4ms postprocess per image at shape (1, 3, 640, 640)\n",
      "\n"
     ]
    },
    {
     "name": "stdout",
     "output_type": "stream",
     "text": [
      "Cropping tables from /Users/codym/CAP/ai-starter-kit/yoda/data/sec-edgar-filings/NVDA/10-K/0001045810-23-000017/full-submission/images/page_61.jpg\n",
      "Cropping tables from /Users/codym/CAP/ai-starter-kit/yoda/data/sec-edgar-filings/NVDA/10-K/0001045810-23-000017/full-submission/images/page_75.jpg\n",
      "Cropping tables from /Users/codym/CAP/ai-starter-kit/yoda/data/sec-edgar-filings/NVDA/10-K/0001045810-23-000017/full-submission/images/page_49.jpg\n"
     ]
    },
    {
     "name": "stderr",
     "output_type": "stream",
     "text": [
      "image 1/1 /Users/codym/CAP/ai-starter-kit/yoda/data/sec-edgar-filings/NVDA/10-K/0001045810-23-000017/full-submission/images/page_49.jpg: 640x512 (no detections), 69.7ms\n",
      "Speed: 0.3ms preprocess, 69.7ms inference, 0.2ms postprocess per image at shape (1, 3, 640, 640)\n",
      "\n",
      "image 1/1 /Users/codym/CAP/ai-starter-kit/yoda/data/sec-edgar-filings/NVDA/10-K/0001045810-23-000017/full-submission/images/page_214.jpg: 640x512 (no detections), 70.5ms\n",
      "Speed: 0.3ms preprocess, 70.5ms inference, 0.2ms postprocess per image at shape (1, 3, 640, 640)\n",
      "\n",
      "image 1/1 /Users/codym/CAP/ai-starter-kit/yoda/data/sec-edgar-filings/NVDA/10-K/0001045810-23-000017/full-submission/images/page_200.jpg: 640x512 2 bordereds, 2 borderlesss, 62.5ms\n",
      "Speed: 0.4ms preprocess, 62.5ms inference, 0.4ms postprocess per image at shape (1, 3, 640, 640)\n",
      "\n"
     ]
    },
    {
     "name": "stdout",
     "output_type": "stream",
     "text": [
      "Cropping tables from /Users/codym/CAP/ai-starter-kit/yoda/data/sec-edgar-filings/NVDA/10-K/0001045810-23-000017/full-submission/images/page_214.jpg\n",
      "Cropping tables from /Users/codym/CAP/ai-starter-kit/yoda/data/sec-edgar-filings/NVDA/10-K/0001045810-23-000017/full-submission/images/page_200.jpg\n",
      "Cropping tables from /Users/codym/CAP/ai-starter-kit/yoda/data/sec-edgar-filings/NVDA/10-K/0001045810-23-000017/full-submission/images/page_228.jpg\n"
     ]
    },
    {
     "name": "stderr",
     "output_type": "stream",
     "text": [
      "image 1/1 /Users/codym/CAP/ai-starter-kit/yoda/data/sec-edgar-filings/NVDA/10-K/0001045810-23-000017/full-submission/images/page_228.jpg: 640x512 (no detections), 74.2ms\n",
      "Speed: 0.2ms preprocess, 74.2ms inference, 0.2ms postprocess per image at shape (1, 3, 640, 640)\n",
      "\n",
      "image 1/1 /Users/codym/CAP/ai-starter-kit/yoda/data/sec-edgar-filings/NVDA/10-K/0001045810-23-000017/full-submission/images/page_360.jpg: 640x512 (no detections), 64.7ms\n",
      "Speed: 0.3ms preprocess, 64.7ms inference, 0.2ms postprocess per image at shape (1, 3, 640, 640)\n",
      "\n"
     ]
    },
    {
     "name": "stdout",
     "output_type": "stream",
     "text": [
      "Cropping tables from /Users/codym/CAP/ai-starter-kit/yoda/data/sec-edgar-filings/NVDA/10-K/0001045810-23-000017/full-submission/images/page_360.jpg\n",
      "Cropping tables from /Users/codym/CAP/ai-starter-kit/yoda/data/sec-edgar-filings/NVDA/10-K/0001045810-23-000017/full-submission/images/page_374.jpg\n"
     ]
    },
    {
     "name": "stderr",
     "output_type": "stream",
     "text": [
      "image 1/1 /Users/codym/CAP/ai-starter-kit/yoda/data/sec-edgar-filings/NVDA/10-K/0001045810-23-000017/full-submission/images/page_374.jpg: 640x512 (no detections), 89.3ms\n",
      "Speed: 0.5ms preprocess, 89.3ms inference, 0.2ms postprocess per image at shape (1, 3, 640, 640)\n",
      "\n",
      "image 1/1 /Users/codym/CAP/ai-starter-kit/yoda/data/sec-edgar-filings/NVDA/10-K/0001045810-23-000017/full-submission/images/page_348.jpg: 640x512 (no detections), 67.9ms\n",
      "Speed: 0.4ms preprocess, 67.9ms inference, 0.2ms postprocess per image at shape (1, 3, 640, 640)\n",
      "\n",
      "image 1/1 /Users/codym/CAP/ai-starter-kit/yoda/data/sec-edgar-filings/NVDA/10-K/0001045810-23-000017/full-submission/images/page_189.jpg: 640x512 2 bordereds, 2 borderlesss, 62.8ms\n",
      "Speed: 0.2ms preprocess, 62.8ms inference, 0.4ms postprocess per image at shape (1, 3, 640, 640)\n",
      "\n"
     ]
    },
    {
     "name": "stdout",
     "output_type": "stream",
     "text": [
      "Cropping tables from /Users/codym/CAP/ai-starter-kit/yoda/data/sec-edgar-filings/NVDA/10-K/0001045810-23-000017/full-submission/images/page_348.jpg\n",
      "Cropping tables from /Users/codym/CAP/ai-starter-kit/yoda/data/sec-edgar-filings/NVDA/10-K/0001045810-23-000017/full-submission/images/page_189.jpg\n",
      "Cropping tables from /Users/codym/CAP/ai-starter-kit/yoda/data/sec-edgar-filings/NVDA/10-K/0001045810-23-000017/full-submission/images/page_162.jpg\n"
     ]
    },
    {
     "name": "stderr",
     "output_type": "stream",
     "text": [
      "image 1/1 /Users/codym/CAP/ai-starter-kit/yoda/data/sec-edgar-filings/NVDA/10-K/0001045810-23-000017/full-submission/images/page_162.jpg: 640x512 (no detections), 72.5ms\n",
      "Speed: 0.2ms preprocess, 72.5ms inference, 0.2ms postprocess per image at shape (1, 3, 640, 640)\n",
      "\n",
      "image 1/1 /Users/codym/CAP/ai-starter-kit/yoda/data/sec-edgar-filings/NVDA/10-K/0001045810-23-000017/full-submission/images/page_176.jpg: 640x512 2 borderlesss, 73.0ms\n",
      "Speed: 0.3ms preprocess, 73.0ms inference, 0.4ms postprocess per image at shape (1, 3, 640, 640)\n",
      "\n",
      "image 1/1 /Users/codym/CAP/ai-starter-kit/yoda/data/sec-edgar-filings/NVDA/10-K/0001045810-23-000017/full-submission/images/page_177.jpg: 640x512 1 borderless, 65.0ms\n",
      "Speed: 0.2ms preprocess, 65.0ms inference, 0.4ms postprocess per image at shape (1, 3, 640, 640)\n",
      "\n"
     ]
    },
    {
     "name": "stdout",
     "output_type": "stream",
     "text": [
      "Cropping tables from /Users/codym/CAP/ai-starter-kit/yoda/data/sec-edgar-filings/NVDA/10-K/0001045810-23-000017/full-submission/images/page_176.jpg\n",
      "Cropping tables from /Users/codym/CAP/ai-starter-kit/yoda/data/sec-edgar-filings/NVDA/10-K/0001045810-23-000017/full-submission/images/page_177.jpg\n",
      "Cropping tables from /Users/codym/CAP/ai-starter-kit/yoda/data/sec-edgar-filings/NVDA/10-K/0001045810-23-000017/full-submission/images/page_163.jpg\n"
     ]
    },
    {
     "name": "stderr",
     "output_type": "stream",
     "text": [
      "image 1/1 /Users/codym/CAP/ai-starter-kit/yoda/data/sec-edgar-filings/NVDA/10-K/0001045810-23-000017/full-submission/images/page_163.jpg: 640x512 (no detections), 69.0ms\n",
      "Speed: 1.0ms preprocess, 69.0ms inference, 0.2ms postprocess per image at shape (1, 3, 640, 640)\n",
      "\n",
      "image 1/1 /Users/codym/CAP/ai-starter-kit/yoda/data/sec-edgar-filings/NVDA/10-K/0001045810-23-000017/full-submission/images/page_188.jpg: 640x512 1 borderless, 84.6ms\n",
      "Speed: 0.2ms preprocess, 84.6ms inference, 0.4ms postprocess per image at shape (1, 3, 640, 640)\n",
      "\n",
      "image 1/1 /Users/codym/CAP/ai-starter-kit/yoda/data/sec-edgar-filings/NVDA/10-K/0001045810-23-000017/full-submission/images/page_349.jpg: 640x512 (no detections), 69.3ms\n",
      "Speed: 0.2ms preprocess, 69.3ms inference, 0.2ms postprocess per image at shape (1, 3, 640, 640)\n"
     ]
    },
    {
     "name": "stdout",
     "output_type": "stream",
     "text": [
      "Cropping tables from /Users/codym/CAP/ai-starter-kit/yoda/data/sec-edgar-filings/NVDA/10-K/0001045810-23-000017/full-submission/images/page_188.jpg\n",
      "Cropping tables from /Users/codym/CAP/ai-starter-kit/yoda/data/sec-edgar-filings/NVDA/10-K/0001045810-23-000017/full-submission/images/page_349.jpg\n"
     ]
    },
    {
     "name": "stderr",
     "output_type": "stream",
     "text": [
      "\n",
      "image 1/1 /Users/codym/CAP/ai-starter-kit/yoda/data/sec-edgar-filings/NVDA/10-K/0001045810-23-000017/full-submission/images/page_375.jpg: 640x512 (no detections), 70.7ms\n",
      "Speed: 0.4ms preprocess, 70.7ms inference, 0.2ms postprocess per image at shape (1, 3, 640, 640)\n",
      "\n",
      "image 1/1 /Users/codym/CAP/ai-starter-kit/yoda/data/sec-edgar-filings/NVDA/10-K/0001045810-23-000017/full-submission/images/page_361.jpg: 640x512 (no detections), 73.8ms\n",
      "Speed: 0.2ms preprocess, 73.8ms inference, 0.2ms postprocess per image at shape (1, 3, 640, 640)\n",
      "\n"
     ]
    },
    {
     "name": "stdout",
     "output_type": "stream",
     "text": [
      "Cropping tables from /Users/codym/CAP/ai-starter-kit/yoda/data/sec-edgar-filings/NVDA/10-K/0001045810-23-000017/full-submission/images/page_375.jpg\n",
      "Cropping tables from /Users/codym/CAP/ai-starter-kit/yoda/data/sec-edgar-filings/NVDA/10-K/0001045810-23-000017/full-submission/images/page_361.jpg\n",
      "Cropping tables from /Users/codym/CAP/ai-starter-kit/yoda/data/sec-edgar-filings/NVDA/10-K/0001045810-23-000017/full-submission/images/page_229.jpg\n"
     ]
    },
    {
     "name": "stderr",
     "output_type": "stream",
     "text": [
      "image 1/1 /Users/codym/CAP/ai-starter-kit/yoda/data/sec-edgar-filings/NVDA/10-K/0001045810-23-000017/full-submission/images/page_229.jpg: 640x512 (no detections), 69.9ms\n",
      "Speed: 0.2ms preprocess, 69.9ms inference, 0.2ms postprocess per image at shape (1, 3, 640, 640)\n",
      "\n",
      "image 1/1 /Users/codym/CAP/ai-starter-kit/yoda/data/sec-edgar-filings/NVDA/10-K/0001045810-23-000017/full-submission/images/page_201.jpg: 640x512 1 bordered, 2 borderlesss, 76.6ms\n",
      "Speed: 0.3ms preprocess, 76.6ms inference, 0.4ms postprocess per image at shape (1, 3, 640, 640)\n",
      "\n",
      "image 1/1 /Users/codym/CAP/ai-starter-kit/yoda/data/sec-edgar-filings/NVDA/10-K/0001045810-23-000017/full-submission/images/page_215.jpg: 640x512 (no detections), 69.6ms\n",
      "Speed: 0.2ms preprocess, 69.6ms inference, 0.2ms postprocess per image at shape (1, 3, 640, 640)\n",
      "\n"
     ]
    },
    {
     "name": "stdout",
     "output_type": "stream",
     "text": [
      "Cropping tables from /Users/codym/CAP/ai-starter-kit/yoda/data/sec-edgar-filings/NVDA/10-K/0001045810-23-000017/full-submission/images/page_201.jpg\n",
      "Cropping tables from /Users/codym/CAP/ai-starter-kit/yoda/data/sec-edgar-filings/NVDA/10-K/0001045810-23-000017/full-submission/images/page_215.jpg\n",
      "Cropping tables from /Users/codym/CAP/ai-starter-kit/yoda/data/sec-edgar-filings/NVDA/10-K/0001045810-23-000017/full-submission/images/page_48.jpg\n"
     ]
    },
    {
     "name": "stderr",
     "output_type": "stream",
     "text": [
      "image 1/1 /Users/codym/CAP/ai-starter-kit/yoda/data/sec-edgar-filings/NVDA/10-K/0001045810-23-000017/full-submission/images/page_48.jpg: 640x512 (no detections), 71.8ms\n",
      "Speed: 0.3ms preprocess, 71.8ms inference, 0.2ms postprocess per image at shape (1, 3, 640, 640)\n",
      "\n",
      "image 1/1 /Users/codym/CAP/ai-starter-kit/yoda/data/sec-edgar-filings/NVDA/10-K/0001045810-23-000017/full-submission/images/page_74.jpg: 640x512 2 borderlesss, 71.7ms\n",
      "Speed: 0.2ms preprocess, 71.7ms inference, 0.4ms postprocess per image at shape (1, 3, 640, 640)\n",
      "\n",
      "image 1/1 /Users/codym/CAP/ai-starter-kit/yoda/data/sec-edgar-filings/NVDA/10-K/0001045810-23-000017/full-submission/images/page_60.jpg: 640x512 (no detections), 68.2ms\n",
      "Speed: 0.2ms preprocess, 68.2ms inference, 0.2ms postprocess per image at shape (1, 3, 640, 640)\n",
      "\n"
     ]
    },
    {
     "name": "stdout",
     "output_type": "stream",
     "text": [
      "Cropping tables from /Users/codym/CAP/ai-starter-kit/yoda/data/sec-edgar-filings/NVDA/10-K/0001045810-23-000017/full-submission/images/page_74.jpg\n",
      "Cropping tables from /Users/codym/CAP/ai-starter-kit/yoda/data/sec-edgar-filings/NVDA/10-K/0001045810-23-000017/full-submission/images/page_60.jpg\n",
      "Cropping tables from /Users/codym/CAP/ai-starter-kit/yoda/data/sec-edgar-filings/NVDA/10-K/0001045810-23-000017/full-submission/images/page_89.jpg\n"
     ]
    },
    {
     "name": "stderr",
     "output_type": "stream",
     "text": [
      "image 1/1 /Users/codym/CAP/ai-starter-kit/yoda/data/sec-edgar-filings/NVDA/10-K/0001045810-23-000017/full-submission/images/page_89.jpg: 640x512 (no detections), 72.1ms\n",
      "Speed: 0.3ms preprocess, 72.1ms inference, 0.2ms postprocess per image at shape (1, 3, 640, 640)\n",
      "\n",
      "image 1/1 /Users/codym/CAP/ai-starter-kit/yoda/data/sec-edgar-filings/NVDA/10-K/0001045810-23-000017/full-submission/images/page_76.jpg: 640x512 (no detections), 69.2ms\n",
      "Speed: 0.2ms preprocess, 69.2ms inference, 0.2ms postprocess per image at shape (1, 3, 640, 640)\n",
      "\n",
      "image 1/1 /Users/codym/CAP/ai-starter-kit/yoda/data/sec-edgar-filings/NVDA/10-K/0001045810-23-000017/full-submission/images/page_62.jpg: 640x512 (no detections), 67.4ms\n",
      "Speed: 0.2ms preprocess, 67.4ms inference, 0.2ms postprocess per image at shape (1, 3, 640, 640)\n",
      "\n"
     ]
    },
    {
     "name": "stdout",
     "output_type": "stream",
     "text": [
      "Cropping tables from /Users/codym/CAP/ai-starter-kit/yoda/data/sec-edgar-filings/NVDA/10-K/0001045810-23-000017/full-submission/images/page_76.jpg\n",
      "Cropping tables from /Users/codym/CAP/ai-starter-kit/yoda/data/sec-edgar-filings/NVDA/10-K/0001045810-23-000017/full-submission/images/page_62.jpg\n",
      "Cropping tables from /Users/codym/CAP/ai-starter-kit/yoda/data/sec-edgar-filings/NVDA/10-K/0001045810-23-000017/full-submission/images/page_203.jpg\n"
     ]
    },
    {
     "name": "stderr",
     "output_type": "stream",
     "text": [
      "image 1/1 /Users/codym/CAP/ai-starter-kit/yoda/data/sec-edgar-filings/NVDA/10-K/0001045810-23-000017/full-submission/images/page_203.jpg: 640x512 (no detections), 118.5ms\n",
      "Speed: 11.6ms preprocess, 118.5ms inference, 0.2ms postprocess per image at shape (1, 3, 640, 640)\n",
      "\n",
      "image 1/1 /Users/codym/CAP/ai-starter-kit/yoda/data/sec-edgar-filings/NVDA/10-K/0001045810-23-000017/full-submission/images/page_217.jpg: 640x512 (no detections), 76.7ms\n",
      "Speed: 0.4ms preprocess, 76.7ms inference, 0.2ms postprocess per image at shape (1, 3, 640, 640)\n",
      "\n",
      "image 1/1 /Users/codym/CAP/ai-starter-kit/yoda/data/sec-edgar-filings/NVDA/10-K/0001045810-23-000017/full-submission/images/page_388.jpg: 640x512 (no detections), 70.2ms\n",
      "Speed: 0.2ms preprocess, 70.2ms inference, 0.2ms postprocess per image at shape (1, 3, 640, 640)\n",
      "\n"
     ]
    },
    {
     "name": "stdout",
     "output_type": "stream",
     "text": [
      "Cropping tables from /Users/codym/CAP/ai-starter-kit/yoda/data/sec-edgar-filings/NVDA/10-K/0001045810-23-000017/full-submission/images/page_217.jpg\n",
      "Cropping tables from /Users/codym/CAP/ai-starter-kit/yoda/data/sec-edgar-filings/NVDA/10-K/0001045810-23-000017/full-submission/images/page_388.jpg\n",
      "Cropping tables from /Users/codym/CAP/ai-starter-kit/yoda/data/sec-edgar-filings/NVDA/10-K/0001045810-23-000017/full-submission/images/page_377.jpg\n"
     ]
    },
    {
     "name": "stderr",
     "output_type": "stream",
     "text": [
      "image 1/1 /Users/codym/CAP/ai-starter-kit/yoda/data/sec-edgar-filings/NVDA/10-K/0001045810-23-000017/full-submission/images/page_377.jpg: 640x512 (no detections), 73.3ms\n",
      "Speed: 0.3ms preprocess, 73.3ms inference, 0.2ms postprocess per image at shape (1, 3, 640, 640)\n",
      "\n",
      "image 1/1 /Users/codym/CAP/ai-starter-kit/yoda/data/sec-edgar-filings/NVDA/10-K/0001045810-23-000017/full-submission/images/page_363.jpg: 640x512 1 borderless, 68.1ms\n",
      "Speed: 0.2ms preprocess, 68.1ms inference, 0.4ms postprocess per image at shape (1, 3, 640, 640)\n",
      "\n",
      "image 1/1 /Users/codym/CAP/ai-starter-kit/yoda/data/sec-edgar-filings/NVDA/10-K/0001045810-23-000017/full-submission/images/page_175.jpg: 640x512 (no detections), 87.7ms\n",
      "Speed: 0.2ms preprocess, 87.7ms inference, 0.2ms postprocess per image at shape (1, 3, 640, 640)\n",
      "\n"
     ]
    },
    {
     "name": "stdout",
     "output_type": "stream",
     "text": [
      "Cropping tables from /Users/codym/CAP/ai-starter-kit/yoda/data/sec-edgar-filings/NVDA/10-K/0001045810-23-000017/full-submission/images/page_363.jpg\n",
      "Cropping tables from /Users/codym/CAP/ai-starter-kit/yoda/data/sec-edgar-filings/NVDA/10-K/0001045810-23-000017/full-submission/images/page_175.jpg\n",
      "Cropping tables from /Users/codym/CAP/ai-starter-kit/yoda/data/sec-edgar-filings/NVDA/10-K/0001045810-23-000017/full-submission/images/page_161.jpg\n"
     ]
    },
    {
     "name": "stderr",
     "output_type": "stream",
     "text": [
      "image 1/1 /Users/codym/CAP/ai-starter-kit/yoda/data/sec-edgar-filings/NVDA/10-K/0001045810-23-000017/full-submission/images/page_161.jpg: 640x512 (no detections), 69.1ms\n",
      "Speed: 0.4ms preprocess, 69.1ms inference, 0.2ms postprocess per image at shape (1, 3, 640, 640)\n",
      "\n",
      "image 1/1 /Users/codym/CAP/ai-starter-kit/yoda/data/sec-edgar-filings/NVDA/10-K/0001045810-23-000017/full-submission/images/page_149.jpg: 640x512 (no detections), 76.3ms\n",
      "Speed: 0.2ms preprocess, 76.3ms inference, 0.2ms postprocess per image at shape (1, 3, 640, 640)\n",
      "\n",
      "image 1/1 /Users/codym/CAP/ai-starter-kit/yoda/data/sec-edgar-filings/NVDA/10-K/0001045810-23-000017/full-submission/images/page_148.jpg: 640x512 (no detections), 80.4ms\n",
      "Speed: 0.2ms preprocess, 80.4ms inference, 0.2ms postprocess per image at shape (1, 3, 640, 640)\n",
      "\n"
     ]
    },
    {
     "name": "stdout",
     "output_type": "stream",
     "text": [
      "Cropping tables from /Users/codym/CAP/ai-starter-kit/yoda/data/sec-edgar-filings/NVDA/10-K/0001045810-23-000017/full-submission/images/page_149.jpg\n",
      "Cropping tables from /Users/codym/CAP/ai-starter-kit/yoda/data/sec-edgar-filings/NVDA/10-K/0001045810-23-000017/full-submission/images/page_148.jpg\n",
      "Cropping tables from /Users/codym/CAP/ai-starter-kit/yoda/data/sec-edgar-filings/NVDA/10-K/0001045810-23-000017/full-submission/images/page_160.jpg\n"
     ]
    },
    {
     "name": "stderr",
     "output_type": "stream",
     "text": [
      "image 1/1 /Users/codym/CAP/ai-starter-kit/yoda/data/sec-edgar-filings/NVDA/10-K/0001045810-23-000017/full-submission/images/page_160.jpg: 640x512 (no detections), 259.6ms\n",
      "Speed: 0.3ms preprocess, 259.6ms inference, 0.2ms postprocess per image at shape (1, 3, 640, 640)\n",
      "\n",
      "image 1/1 /Users/codym/CAP/ai-starter-kit/yoda/data/sec-edgar-filings/NVDA/10-K/0001045810-23-000017/full-submission/images/page_174.jpg: 640x512 (no detections), 72.1ms\n",
      "Speed: 0.9ms preprocess, 72.1ms inference, 0.2ms postprocess per image at shape (1, 3, 640, 640)\n",
      "\n",
      "image 1/1 /Users/codym/CAP/ai-starter-kit/yoda/data/sec-edgar-filings/NVDA/10-K/0001045810-23-000017/full-submission/images/page_362.jpg: 640x512 (no detections), 70.3ms\n",
      "Speed: 0.2ms preprocess, 70.3ms inference, 0.2ms postprocess per image at shape (1, 3, 640, 640)\n",
      "\n"
     ]
    },
    {
     "name": "stdout",
     "output_type": "stream",
     "text": [
      "Cropping tables from /Users/codym/CAP/ai-starter-kit/yoda/data/sec-edgar-filings/NVDA/10-K/0001045810-23-000017/full-submission/images/page_174.jpg\n",
      "Cropping tables from /Users/codym/CAP/ai-starter-kit/yoda/data/sec-edgar-filings/NVDA/10-K/0001045810-23-000017/full-submission/images/page_362.jpg\n",
      "Cropping tables from /Users/codym/CAP/ai-starter-kit/yoda/data/sec-edgar-filings/NVDA/10-K/0001045810-23-000017/full-submission/images/page_376.jpg\n"
     ]
    },
    {
     "name": "stderr",
     "output_type": "stream",
     "text": [
      "image 1/1 /Users/codym/CAP/ai-starter-kit/yoda/data/sec-edgar-filings/NVDA/10-K/0001045810-23-000017/full-submission/images/page_376.jpg: 640x512 (no detections), 72.9ms\n",
      "Speed: 0.2ms preprocess, 72.9ms inference, 0.2ms postprocess per image at shape (1, 3, 640, 640)\n",
      "\n",
      "image 1/1 /Users/codym/CAP/ai-starter-kit/yoda/data/sec-edgar-filings/NVDA/10-K/0001045810-23-000017/full-submission/images/page_389.jpg: 640x512 (no detections), 73.3ms\n",
      "Speed: 0.5ms preprocess, 73.3ms inference, 0.2ms postprocess per image at shape (1, 3, 640, 640)\n",
      "\n",
      "image 1/1 /Users/codym/CAP/ai-starter-kit/yoda/data/sec-edgar-filings/NVDA/10-K/0001045810-23-000017/full-submission/images/page_216.jpg: 640x512 (no detections), 65.3ms\n",
      "Speed: 0.2ms preprocess, 65.3ms inference, 0.2ms postprocess per image at shape (1, 3, 640, 640)\n",
      "\n"
     ]
    },
    {
     "name": "stdout",
     "output_type": "stream",
     "text": [
      "Cropping tables from /Users/codym/CAP/ai-starter-kit/yoda/data/sec-edgar-filings/NVDA/10-K/0001045810-23-000017/full-submission/images/page_389.jpg\n",
      "Cropping tables from /Users/codym/CAP/ai-starter-kit/yoda/data/sec-edgar-filings/NVDA/10-K/0001045810-23-000017/full-submission/images/page_216.jpg\n",
      "Cropping tables from /Users/codym/CAP/ai-starter-kit/yoda/data/sec-edgar-filings/NVDA/10-K/0001045810-23-000017/full-submission/images/page_202.jpg\n"
     ]
    },
    {
     "name": "stderr",
     "output_type": "stream",
     "text": [
      "image 1/1 /Users/codym/CAP/ai-starter-kit/yoda/data/sec-edgar-filings/NVDA/10-K/0001045810-23-000017/full-submission/images/page_202.jpg: 640x512 (no detections), 73.8ms\n",
      "Speed: 0.3ms preprocess, 73.8ms inference, 0.2ms postprocess per image at shape (1, 3, 640, 640)\n",
      "\n",
      "image 1/1 /Users/codym/CAP/ai-starter-kit/yoda/data/sec-edgar-filings/NVDA/10-K/0001045810-23-000017/full-submission/images/page_63.jpg: 640x512 (no detections), 71.3ms\n",
      "Speed: 0.2ms preprocess, 71.3ms inference, 0.2ms postprocess per image at shape (1, 3, 640, 640)\n",
      "\n",
      "image 1/1 /Users/codym/CAP/ai-starter-kit/yoda/data/sec-edgar-filings/NVDA/10-K/0001045810-23-000017/full-submission/images/page_77.jpg: 640x512 1 borderless, 66.6ms\n",
      "Speed: 0.2ms preprocess, 66.6ms inference, 0.4ms postprocess per image at shape (1, 3, 640, 640)\n",
      "\n"
     ]
    },
    {
     "name": "stdout",
     "output_type": "stream",
     "text": [
      "Cropping tables from /Users/codym/CAP/ai-starter-kit/yoda/data/sec-edgar-filings/NVDA/10-K/0001045810-23-000017/full-submission/images/page_63.jpg\n",
      "Cropping tables from /Users/codym/CAP/ai-starter-kit/yoda/data/sec-edgar-filings/NVDA/10-K/0001045810-23-000017/full-submission/images/page_77.jpg\n",
      "Cropping tables from /Users/codym/CAP/ai-starter-kit/yoda/data/sec-edgar-filings/NVDA/10-K/0001045810-23-000017/full-submission/images/page_88.jpg\n"
     ]
    },
    {
     "name": "stderr",
     "output_type": "stream",
     "text": [
      "image 1/1 /Users/codym/CAP/ai-starter-kit/yoda/data/sec-edgar-filings/NVDA/10-K/0001045810-23-000017/full-submission/images/page_88.jpg: 640x512 2 borderlesss, 73.1ms\n",
      "Speed: 0.5ms preprocess, 73.1ms inference, 0.4ms postprocess per image at shape (1, 3, 640, 640)\n",
      "\n",
      "image 1/1 /Users/codym/CAP/ai-starter-kit/yoda/data/sambanova_resources_blogs/blog_generative-ai-terms/images/page_1.jpg: 640x512 (no detections), 71.4ms\n",
      "Speed: 0.8ms preprocess, 71.4ms inference, 0.2ms postprocess per image at shape (1, 3, 640, 640)\n",
      "\n",
      "image 1/1 /Users/codym/CAP/ai-starter-kit/yoda/data/sambanova_resources_blogs/blog_generative-ai-terms/images/page_0.jpg: 640x512 (no detections), 69.1ms\n",
      "Speed: 0.3ms preprocess, 69.1ms inference, 0.2ms postprocess per image at shape (1, 3, 640, 640)\n",
      "\n"
     ]
    },
    {
     "name": "stdout",
     "output_type": "stream",
     "text": [
      "Cropping tables from /Users/codym/CAP/ai-starter-kit/yoda/data/sambanova_resources_blogs/blog_generative-ai-terms/images/page_1.jpg\n",
      "Cropping tables from /Users/codym/CAP/ai-starter-kit/yoda/data/sambanova_resources_blogs/blog_generative-ai-terms/images/page_0.jpg\n",
      "Cropping tables from /Users/codym/CAP/ai-starter-kit/yoda/data/sambanova_resources_blogs/blog_generative-ai-for-enterprise-and-government/images/page_0.jpg\n"
     ]
    },
    {
     "name": "stderr",
     "output_type": "stream",
     "text": [
      "image 1/1 /Users/codym/CAP/ai-starter-kit/yoda/data/sambanova_resources_blogs/blog_generative-ai-for-enterprise-and-government/images/page_0.jpg: 640x512 (no detections), 70.3ms\n",
      "Speed: 0.2ms preprocess, 70.3ms inference, 0.2ms postprocess per image at shape (1, 3, 640, 640)\n",
      "\n",
      "image 1/1 /Users/codym/CAP/ai-starter-kit/yoda/data/sambastudio/sambastudio_add-datasets/images/page_1.jpg: 640x512 (no detections), 73.1ms\n",
      "Speed: 0.3ms preprocess, 73.1ms inference, 0.2ms postprocess per image at shape (1, 3, 640, 640)\n",
      "\n",
      "image 1/1 /Users/codym/CAP/ai-starter-kit/yoda/data/sambastudio/sambastudio_add-datasets/images/page_0.jpg: 640x512 (no detections), 65.7ms\n",
      "Speed: 0.2ms preprocess, 65.7ms inference, 0.2ms postprocess per image at shape (1, 3, 640, 640)\n",
      "\n"
     ]
    },
    {
     "name": "stdout",
     "output_type": "stream",
     "text": [
      "Cropping tables from /Users/codym/CAP/ai-starter-kit/yoda/data/sambastudio/sambastudio_add-datasets/images/page_1.jpg\n",
      "Cropping tables from /Users/codym/CAP/ai-starter-kit/yoda/data/sambastudio/sambastudio_add-datasets/images/page_0.jpg\n",
      "Cropping tables from /Users/codym/CAP/ai-starter-kit/yoda/data/sambastudio/sambastudio_cli-setup/images/page_2.jpg\n"
     ]
    },
    {
     "name": "stderr",
     "output_type": "stream",
     "text": [
      "image 1/1 /Users/codym/CAP/ai-starter-kit/yoda/data/sambastudio/sambastudio_cli-setup/images/page_2.jpg: 640x512 (no detections), 76.8ms\n",
      "Speed: 0.2ms preprocess, 76.8ms inference, 0.2ms postprocess per image at shape (1, 3, 640, 640)\n",
      "\n",
      "image 1/1 /Users/codym/CAP/ai-starter-kit/yoda/data/sambastudio/sambastudio_cli-setup/images/page_1.jpg: 640x512 (no detections), 69.6ms\n",
      "Speed: 0.4ms preprocess, 69.6ms inference, 0.2ms postprocess per image at shape (1, 3, 640, 640)\n",
      "\n",
      "image 1/1 /Users/codym/CAP/ai-starter-kit/yoda/data/sambastudio/sambastudio_cli-setup/images/page_0.jpg: 640x512 (no detections), 73.6ms\n",
      "Speed: 0.3ms preprocess, 73.6ms inference, 0.2ms postprocess per image at shape (1, 3, 640, 640)\n"
     ]
    },
    {
     "name": "stdout",
     "output_type": "stream",
     "text": [
      "Cropping tables from /Users/codym/CAP/ai-starter-kit/yoda/data/sambastudio/sambastudio_cli-setup/images/page_1.jpg\n",
      "Cropping tables from /Users/codym/CAP/ai-starter-kit/yoda/data/sambastudio/sambastudio_cli-setup/images/page_0.jpg\n"
     ]
    }
   ],
   "source": [
    "table_tools = TableTools\n",
    "\n",
    "table_tools.crop_tables(data_directory=DATA_DIRECTORY,\n",
    "                        offset = 100)"
   ]
  },
  {
   "cell_type": "code",
   "execution_count": null,
   "metadata": {},
   "outputs": [],
   "source": []
  }
 ],
 "metadata": {
  "kernelspec": {
   "display_name": ".mm_env",
   "language": "python",
   "name": "python3"
  },
  "language_info": {
   "codemirror_mode": {
    "name": "ipython",
    "version": 3
   },
   "file_extension": ".py",
   "mimetype": "text/x-python",
   "name": "python",
   "nbconvert_exporter": "python",
   "pygments_lexer": "ipython3",
   "version": "3.11.9"
  }
 },
 "nbformat": 4,
 "nbformat_minor": 2
}
