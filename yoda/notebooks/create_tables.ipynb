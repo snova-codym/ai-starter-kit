{
 "cells": [
  {
   "cell_type": "code",
   "execution_count": null,
   "metadata": {},
   "outputs": [],
   "source": [
    "import os\n",
    "import sys\n",
    "\n",
    "current_dir = os.getcwd()\n",
    "kit_dir = os.path.abspath(os.path.join(current_dir, \"..\"))\n",
    "repo_dir = os.path.abspath(os.path.join(kit_dir, \"..\"))\n",
    "\n",
    "sys.path.append(kit_dir)\n",
    "sys.path.append(repo_dir)\n",
    "\n",
    "from utils.mulitmodal_utilities.table_utils import TableTools\n",
    "DATA_DIRECTORY = os.path.join(kit_dir,\"data\")"
   ]
  },
  {
   "cell_type": "code",
   "execution_count": null,
   "metadata": {},
   "outputs": [],
   "source": [
    "table_tools = TableTools()"
   ]
  },
  {
   "cell_type": "code",
   "execution_count": null,
   "metadata": {},
   "outputs": [],
   "source": [
    "synth_tables = {}\n",
    "\n",
    "header_1 = \"\\\\begin{tabular}{l c c}\"\n",
    "\n",
    "# Template 1\n",
    "\n",
    "synth_tables[\"AAPL_Revenue_simple_tsv\"] = \"\"\"\\tThree Months Ended\\t\n",
    "\\tDecember 31,\\tDecember 25\n",
    "\\t2022\\t2021\n",
    "iPhone(1)\\t$**65,775\\t$**71,628\n",
    "Mac(1)\\t***7,735\\t***10,852\n",
    "IPad(1)\\t***9,396\\t***7,248\n",
    "Wearables, Home and Accessories\\t***13,482\\t***14,701\n",
    "Services(3)\\t***20,766\\t***19,516\n",
    "*Total net sales\\t**117,154\\t**123,945\n",
    "\"\"\""
   ]
  },
  {
   "cell_type": "code",
   "execution_count": null,
   "metadata": {},
   "outputs": [],
   "source": [
    "data = table_tools.format_string(synth_tables[\"AAPL_Revenue_simple_tsv\"])"
   ]
  },
  {
   "cell_type": "code",
   "execution_count": null,
   "metadata": {},
   "outputs": [],
   "source": [
    "data"
   ]
  },
  {
   "cell_type": "code",
   "execution_count": null,
   "metadata": {},
   "outputs": [],
   "source": [
    "path = os.path.join(DATA_DIRECTORY, \"tmp/\")\n",
    "\n",
    "table_tools._generate_images(folder_name=path, \n",
    "                             data=data)"
   ]
  },
  {
   "cell_type": "code",
   "execution_count": null,
   "metadata": {},
   "outputs": [],
   "source": [
    "synth_tables = {}\n",
    "\n",
    "# Template 1\n",
    "\n",
    "synth_tables[\"AAPL_Revenue_simple_tsv\"] = \"\"\"\\tThree Months Ended\\t\n",
    "\\tDecember 31,\\tDecember 25\n",
    "\\t2022\\t2021\n",
    "iPhone(1)\\t$**65,775\\t$**71,628\n",
    "Mac(1)\\t***7,735\\t***10,852\n",
    "iPad(1)\\t***9,396\\t***7,248\n",
    "Wearables, Home and Accessories\\t***13,482\\t***14,701\n",
    "Services(3)\\t***20,766\\t***19,516\n",
    "*Total net sales\\t**117,154\\t**123,945\n",
    "\"\"\""
   ]
  },
  {
   "cell_type": "code",
   "execution_count": null,
   "metadata": {},
   "outputs": [],
   "source": []
  },
  {
   "cell_type": "code",
   "execution_count": null,
   "metadata": {},
   "outputs": [],
   "source": [
    "import albumentations as A"
   ]
  },
  {
   "cell_type": "code",
   "execution_count": null,
   "metadata": {},
   "outputs": [],
   "source": [
    "transformations_map = {\n",
    "    \"RandomBrightnessContrast\": A.RandomBrightnessContrast(p=0.5),\n",
    "            \"Blur\": A.Blur(p=0.5, blur_limit=(3,11)),\n",
    "            \"Downscale\": A.Downscale(p=0.5, scale_min=0.55, scale_max=0.85),\n",
    "            \"GaussNoise\": A.GaussNoise(p=0.5, var_limit=(50.0, 250.0)),\n",
    "            \"ISONoise\": A.ISONoise(p=0.2, color_shift=(0.1, 0.5), intensity=(0.1, 0.5)),\n",
    "            \"ImageCompression\": A.ImageCompression(p=0.5, quality_lower=50, quality_upper=90),\n",
    "            \"RandomGamma\": A.RandomGamma(p=0.5, gamma_limit=(50, 150)),\n",
    "            \"ToGray\": A.ToGray, \n",
    "}"
   ]
  },
  {
   "cell_type": "code",
   "execution_count": null,
   "metadata": {},
   "outputs": [],
   "source": [
    "transforms_list = [\"RandomCrop\", \"RandomBrightnessContrast\"]"
   ]
  },
  {
   "cell_type": "code",
   "execution_count": null,
   "metadata": {},
   "outputs": [],
   "source": [
    "pipeline = []\n",
    "for name in transforms_list:\n",
    "    transformation = transformations_map.get(name)\n",
    "    if transformation:\n",
    "        pipeline.append(transformation)"
   ]
  },
  {
   "cell_type": "code",
   "execution_count": null,
   "metadata": {},
   "outputs": [],
   "source": [
    "transform = A.Compose(pipeline)"
   ]
  },
  {
   "cell_type": "code",
   "execution_count": null,
   "metadata": {},
   "outputs": [],
   "source": [
    "transform"
   ]
  },
  {
   "cell_type": "code",
   "execution_count": null,
   "metadata": {},
   "outputs": [],
   "source": [
    "from typing import List\n",
    "\n",
    "def _image_augmentations(\n",
    "                             augmentations: List[str] = [\n",
    "                                 \"RandomBrightnessContrast\",\n",
    "                                 \"Blur\",\n",
    "                                 \"Downscale\",\n",
    "                                 \"GaussNoise\",\n",
    "                                 \"ISONoise\",\n",
    "                                 \"ImageCompression\",\n",
    "                                 \"RandomGamma\",\n",
    "                                 \"ToGray\"\n",
    "                             ]\n",
    "                             ):\n",
    "        \n",
    "        transformations_map = {\n",
    "            \"RandomBrightnessContrast\": A.RandomBrightnessContrast(p=0.5),\n",
    "            \"Blur\": A.Blur(p=0.5, blur_limit=(3,11)),\n",
    "            \"Downscale\": A.Downscale(p=0.5, scale_min=0.55, scale_max=0.85),\n",
    "            \"GaussNoise\": A.GaussNoise(p=0.5, var_limit=(50.0, 250.0)),\n",
    "            \"ISONoise\": A.ISONoise(p=0.2, color_shift=(0.1, 0.5), intensity=(0.1, 0.5)),\n",
    "            \"ImageCompression\": A.ImageCompression(p=0.5, quality_lower=50, quality_upper=90),\n",
    "            \"RandomGamma\": A.RandomGamma(p=0.5, gamma_limit=(50, 150)),\n",
    "            \"ToGray\": A.ToGray(p=0.5), \n",
    "        }\n",
    "\n",
    "        assert all(item in transformations_map.keys() for item in augmentations), \\\n",
    "            f\"Selected augmentations must be in: {transformations_map.keys()}.\"\n",
    "        \n",
    "        pipeline = []\n",
    "\n",
    "        for name in augmentations:\n",
    "            transformation = transformations_map.get(name)\n",
    "            if transformation:\n",
    "                pipeline.append(transformation)\n",
    "        \n",
    "        transform = A.Compose(pipeline)\n",
    "\n",
    "        return transform"
   ]
  },
  {
   "cell_type": "code",
   "execution_count": null,
   "metadata": {},
   "outputs": [],
   "source": [
    "transform = _image_augmentations([\n",
    "                                 \"RandomBrightnessContrast\",\n",
    "                                 \"Blur\",\n",
    "                                 \"Downscale\",\n",
    "                                 \"GaussNoise\",\n",
    "                                 \"ISONoise\",\n",
    "                                 \"ImageCompression\",\n",
    "                                 \"RandomGamma\",\n",
    "                                 \"ToGray\"\n",
    "                             ])"
   ]
  },
  {
   "cell_type": "code",
   "execution_count": null,
   "metadata": {},
   "outputs": [],
   "source": [
    "import os\n",
    "from langchain_openai import ChatOpenAI\n",
    "\n",
    "api_key = os.environ.get(\"SAMBANOVA_API_KEY\")\n",
    "llm = ChatOpenAI(\n",
    "    base_url=\"https://fast-api.snova.ai/v1/\",\n",
    "    api_key=api_key,\n",
    "    streaming=True,\n",
    "    model=\"llama3-70b\",\n",
    ")\n",
    "response = llm(\"\"\"Modify this string to have different entity names and numbers randomly.  Do not modify any epcial characters and/or structure.\n",
    "               \n",
    "\\\\textbf{Products and Services Performance}\\t\\t\\t\\t\\t\\t\n",
    "\\t\\t\\\\textbf{Three Months Ended}\\t\\t\\\\textbf{Six Months Ended}\\t\\t\n",
    "\\\\hline\\t\\t\\t\\t\\t\\t\n",
    "****\\t\\\\textbf{April 1,}\\t\\\\textbf{March 26,}\\t\\t\\\\textbf{April 1,}\\t\\\\textbf{March 26,}\\t\n",
    "****\\t\\\\textbf{2023}\\t\\\\textbf{2022}\\t\\\\textbf{Change}\\t\\\\textbf{2023}\\t\\\\textbf{2022}\\t\\\\textbf{Change}\n",
    "\\\\hline\\t\\t\\t\\t\\t\\t\n",
    "Net sales by category\\t\\t\\t\\t\\t\\t\n",
    "*iPhone***\\t$***51,334\\t$***50,570\\t*****2%\\t$**117,109\\t$**122,198\\t****(4)%\n",
    "*Mac***\\t*****7,168\\t****10,435\\t****(31)%\\t***14,903\\t***21,287\\t***(30)%\n",
    "*iPad***\\t*****6,678\\t****7,646\\t****(13)%\\t***16,066\\t***14,894\\t*****8%\n",
    "*Wearables, Home and Accessories\\t*****8,757\\t****8,806\\t*****(1)%\\t***22,239\\t***23,507\\t***(5)%\n",
    "*Services***\\t****20,907\\t***19,821\\t*******5%\\t***41,673\\t***39,337\\t****6%\n",
    "\\\\hline\\t\\t\\t\\t\\t\\t\n",
    "**Total new sales**\\t$***94,836\\t$***97,278\\t*****(3)%\\t$**211,990\\t$**221,223\\t*****(4)%\n",
    "\n",
    "\"\"\")\n",
    "print(response)"
   ]
  },
  {
   "cell_type": "code",
   "execution_count": null,
   "metadata": {},
   "outputs": [],
   "source": [
    "response = llm(\"\"\"Create a single query-answer pair for this table in valid json ouput:\n",
    "               \n",
    "\\\\textbf{Products and Services Performance}\\t\\t\\t\\t\\t\\t\n",
    "\\t\\t\\\\textbf{Three Months Ended}\\t\\t\\\\textbf{Six Months Ended}\\t\\t\n",
    "\\\\hline\\t\\t\\t\\t\\t\\t\n",
    "****\\t\\\\textbf{April 1,}\\t\\\\textbf{March 26,}\\t\\t\\\\textbf{April 1,}\\t\\\\textbf{March 26,}\\t\n",
    "****\\t\\\\textbf{2023}\\t\\\\textbf{2022}\\t\\\\textbf{Change}\\t\\\\textbf{2023}\\t\\\\textbf{2022}\\t\\\\textbf{Change}\n",
    "\\\\hline\\t\\t\\t\\t\\t\\t\n",
    "Net sales by category\\t\\t\\t\\t\\t\\t\n",
    "*iPhone***\\t$***51,334\\t$***50,570\\t*****2%\\t$**117,109\\t$**122,198\\t****(4)%\n",
    "*Mac***\\t*****7,168\\t****10,435\\t****(31)%\\t***14,903\\t***21,287\\t***(30)%\n",
    "*iPad***\\t*****6,678\\t****7,646\\t****(13)%\\t***16,066\\t***14,894\\t*****8%\n",
    "*Wearables, Home and Accessories\\t*****8,757\\t****8,806\\t*****(1)%\\t***22,239\\t***23,507\\t***(5)%\n",
    "*Services***\\t****20,907\\t***19,821\\t*******5%\\t***41,673\\t***39,337\\t****6%\n",
    "\\\\hline\\t\\t\\t\\t\\t\\t\n",
    "**Total new sales**\\t$***94,836\\t$***97,278\\t*****(3)%\\t$**211,990\\t$**221,223\\t*****(4)%\n",
    "\n",
    "\"\"\")\n",
    "print(response.content)"
   ]
  },
  {
   "cell_type": "code",
   "execution_count": 3,
   "metadata": {},
   "outputs": [
    {
     "name": "stderr",
     "output_type": "stream",
     "text": [
      "/Users/codym/CAP/ai-starter-kit/.mm_env/lib/python3.11/site-packages/tqdm/auto.py:21: TqdmWarning: IProgress not found. Please update jupyter and ipywidgets. See https://ipywidgets.readthedocs.io/en/stable/user_install.html\n",
      "  from .autonotebook import tqdm as notebook_tqdm\n"
     ]
    }
   ],
   "source": [
    "import os\n",
    "import sys\n",
    "from langchain_core.prompts import load_prompt\n",
    "from langchain_core.output_parsers import StrOutputParser, JsonOutputParser\n",
    "\n",
    "current_dir = os.getcwd()\n",
    "kit_dir = os.path.abspath(os.path.join(current_dir, \"..\"))\n",
    "repo_dir = os.path.abspath(os.path.join(kit_dir, \"..\"))\n",
    "\n",
    "sys.path.append(kit_dir)\n",
    "sys.path.append(repo_dir)\n",
    "\n",
    "from utils.mulitmodal_utilities.table_utils import TableTools\n",
    "from utils.model_wrappers.api_gateway import APIGateway\n",
    "from table_templates.sec_edgar.AAPL import synth_tables"
   ]
  },
  {
   "cell_type": "code",
   "execution_count": 4,
   "metadata": {},
   "outputs": [
    {
     "data": {
      "text/plain": [
       "[{'columns': '\\\\begin{tabular}{| l c c |}\\n\\\\hline\\n',\n",
       "  'tsv_formatted': '\\tThree Months Ended\\t\\n\\tDecember 31,\\tDecember 25\\n\\t2022\\t2021\\niPhone(1)\\t$**65,775\\t$**71,628\\nMac(1)\\t***7,735\\t***10,852\\niPad(1)\\t***9,396\\t***7,248\\nWearables, Home and Accessories\\t***13,482\\t***14,701\\nServices(3)\\t***20,766\\t***19,516\\n*Total net sales\\t**117,154\\t**123,945\\n'},\n",
       " {'colums': '\\\\begin{tabular}{| l c c c c c c c |}\\n\\\\hline\\n',\n",
       "  'tsv_formatted': '\\t\\t\\t\\t\\tCash and\\tCurrent\\tNon-Current\\n\\tAdjusted\\tUnrealized\\tUnrealized\\tFair\\tCash\\tMarketable\\tMarketable\\n\\tCost\\tGains\\tLosses\\tValue\\tEquivalents\\tSecurities\\tSecurities\\n\\\\hline\\t\\t\\t\\t\\t\\t\\t\\nCash\\t$**18,546\\t$***-\\t$***-\\t$**18,546\\t$**18,546\\t$***-\\t$***-\\nLevel 1:\\t\\t\\t\\t\\t\\t\\t\\n*Money and market funds***\\t***2,929\\t****-\\t****-\\t***2,929\\t***2,929\\t****-\\t****-\\n*Mutual funds\\t****274\\t****-\\t****(47)\\t****227\\t****-\\t****227\\t****-\\n\\\\hline\\t\\t\\t\\t\\t\\t\\t\\n**Subtotal***\\t***3,203\\t****-\\t****(47)\\t***3,156\\t***2,929\\t****227\\t****-\\n\\\\hline\\t\\t\\t\\t\\t\\t\\t\\nLevel 2:\\t\\t\\t\\t\\t\\t\\t\\n*U.S. Treasury securities\\t**25,134\\t****-\\t***(1,725)\\t**23,409\\t****338\\t***5,091\\t**17,980\\n*U.S. agency securities\\t***5,823\\t****-\\t****(655)\\t****5,168\\t****-\\t****240\\t***4,928\\n*Non-U.S. government securities\\t**16,948\\t****2\\t***(1,201)\\t**15,749\\t****-\\t***8,806\\t***6,943\\n*Certificates of deposit and time deposits\\t**87,148\\t****9\\t***(7,707)\\t**79,450\\t****-\\t***9,023\\t**70,427\\n*Commerical paper\\t****718\\t****-\\t****-\\t****718\\t****28\\t****690\\t****-\\n*Corporate debt securities\\t**87,148\\t****9\\t***(7,707)\\t**79,450\\t****-\\t***9,023\\t**70,427\\n*Municipal securities\\t****921\\t****-\\t****(35)\\t****886\\t****-\\t****266\\t****620\\n*Mortgage- and asset-backed securities\\t**22,553\\t****-\\t***(2,593)\\t**19,960\\t****-\\t****53\\t**19,907\\n\\\\hline\\t\\t\\t\\t\\t\\t\\t\\n**Subtotal\\t*161,312\\t****11\\t**(13,916)\\t*147,407\\t***2,171\\t**24,431\\t*120,805\\n\\\\hline\\t\\t\\t\\t\\t\\t\\t\\n***Total\\t$*183,061\\t$****11\\t$**(13,963)\\t$*169,109\\t$**23,646\\t$**24,658\\t$*120,805\\n\\\\hline\\t\\t\\t\\t\\t\\t\\t\\n'},\n",
       " {'columns': '\\\\begin{tabular}{| l c c |}\\n\\\\hline\\n',\n",
       "  'tsv_formatted': '\\t*****Three Months\\t\\n\\tDecember 31,\\tDecember 25,\\n\\t2022\\t2021\\nAmericas:*********\\t\\t\\n*Net sales\\t$**49,278\\t$**51,496\\n*Operating income\\t$**17,864\\t$**19,585\\n\\t\\t\\t\\nEurope:*********\\t\\t\\n*Net sales\\t$**27,681\\t$**29,749\\n*Operating income\\t$**10,017\\t$**11,545\\n\\t\\t\\t\\nGreater China:*********\\t\\t\\n*Net sales\\t$**23,905\\t$**25,783\\n*Operating income\\t$**10,437\\t$**11,183\\n\\t\\t\\t\\nJapan:*********\\t\\t\\n*Net sales\\t$**6,755\\t$**7,107\\n*Operating income\\t$**3,236\\t$**3,349\\n\\t\\t\\t\\nRest of Asia Pacific:*********\\t\\t\\n*Net sales\\t$**9,535\\t$**9,810\\n*Operating income\\t$**3,851\\t$**3,995\\n'},\n",
       " {'columns': '\\\\begin{tabular}{| >{\\\\color{blue}}l c c |}\\n\\\\hline\\n',\n",
       "  'tsv_formatted': 'Diluted (in dollars per share)\\t$*1.88\\t$*2.10\\n\\\\textbf{Shares used in computing earnings per share:}\\t\\t\\nBasic (in shares)\\t15,892,723\\t16,391,724\\nDilutes (in shares)\\t15,955,718\\t16,519,291\\nProducts\\t\\t\\nNet sales\\t*$*96,388\\t*$*104,429\\nCost of sales\\t60,765\\t64,309\\nService\\t\\t\\nNet sales\\t20,766\\t19,516\\nCost of sales\\t*$*6,057\\t*$*5,393\\n'},\n",
       " {'columns': '\\\\begin{tabular}{| l c c c |}\\n\\\\hline\\n',\n",
       "  'tsv_formatted': \"\\t\\tApril 1,\\tSeptember 24,\\n\\t\\t2023\\t2022\\n\\\\hline\\t\\t\\t\\n\\t\\\\textbf{ASSETS:}***********\\t\\t\\nCurrent assests:***********\\t\\t\\t\\n*Case and cash equivalents:***********\\t\\t$****24,687\\t$****23,646\\n*Marketable securities:***********\\t\\t*****31,185\\t*****24,658\\n*Accounts receivable, net:***********\\t\\t*****17,936\\t*****28,184\\n*Inventories:***********\\t\\t******7,482\\t******4,946\\n*Vendor non-trade receivables:***********\\t\\t*****17,963\\t*****32,748\\n*Other current assets***********\\t\\t*****13,660\\t*****21,223\\n\\\\hline\\t\\t\\t\\n**Total current assets***********\\t\\t*****112,913\\t*****135,405\\n\\t\\t\\t\\nNon-current assets:***********\\t\\t\\t\\n*Marketable securities***********\\t\\t*****110,461\\t*****120,805\\n*Property, plant and equipment, net***********\\t\\t******43,461\\t******42,117\\n*Other non-current assets***********\\t\\t*****65,388\\t*****54,428\\n\\\\hline\\t\\t\\t\\n**Total non-current assets***********\\t\\t*****219,247\\t*****217,350\\n\\\\hline\\t\\t\\t\\n***Total assets***********\\t\\t$****332,160\\t$****352,755\\n\\\\hline\\t\\t\\t\\n\\t\\\\textbf{LIABILITIES AND SHAREHOLDERS' EQUITY:}****\\t\\t\\nCurrent liabilities:***********\\t\\t\\t\\n*Accounts payable:***********\\t\\t$****42,945\\t$****64,115\\n*Other current liabilities:***********\\t\\t*****56,345\\t*****60,845\\n*Deferred revenue***********\\t\\t******8,131\\t******7,912\\n*Commercial papers***********\\t\\t******1,996\\t******9,982\\n*Term debt***********\\t\\t*****10,578\\t*****11,128\\n\\\\hline\\t\\t\\t\\n**Total current liabilities***********\\t\\t*****120,075\\t*****153,982\\n\\\\hline\\t\\t\\t\\nNon-current liabilities:***********\\t\\t\\t\\n*Term debt***********\\t\\t*****97,041\\t*****98,959\\n*Other non-current liabilities***********\\t\\t*****52,886\\t*****49,142\\n**Total non-current liabilities***********\\t\\t*****149,927\\t*****148,101\\n\\\\hline\\t\\t\\t\\n***Total liabilities***********\\t\\t*****270,002\\t*****302,083\\n\"},\n",
       " {'columns': '\\\\begin{tabular}{| l c c |}\\n\\\\hline\\n',\n",
       "  'tsv_formatted': '\\\\textbf{Inventories}\\t\\t\\n\\t\\\\textbf{April 1,}\\t\\\\textbf{September 24,}\\n\\t\\\\textbf{2023}\\t\\\\textbf{2022}\\n\\\\hline\\t\\t\\nComponents********************\\t$*****3,379\\t$*****1,637\\nFinished goods******************\\t$*****4,103\\t$*****3,309\\n\\\\hline\\t\\t\\n*Total inventories**************\\t$*****7,482\\t$*****4,946\\n\\t\\t\\n\\t\\t\\n\\\\textbf{Property, Plant, and Equipment, Net}*******\\t\\t\\n\\t\\t\\n\\t\\\\textbf{April 1,}\\t\\\\textbf{September 24,}\\n\\t\\\\textbf{2023}\\t\\\\textbf{2022}\\nGross property, plant and equipment*********\\t$****113,006\\t$****114,457\\nAccumulated deprecation and amorization**************\\t****(69,668)\\t****(72,340)\\n\\\\hline\\t\\t\\n*Total property, plant, and equipment, net**********\\t$****43,398\\t$****42,117\\n'},\n",
       " {'columns': '\\\\begin{tabular}{| l c c r c c r |}\\n\\\\hline\\n',\n",
       "  'tsv_formatted': '\\\\textbf{Products and Services Performance}\\t\\t\\t\\t\\t\\t\\n\\t\\t\\\\textbf{Three Months Ended}\\t\\t\\\\textbf{Six Months Ended}\\t\\t\\n\\\\hline\\t\\t\\t\\t\\t\\t\\n****\\t\\\\textbf{April 1,}\\t\\\\textbf{March 26,}\\t\\t\\\\textbf{April 1,}\\t\\\\textbf{March 26,}\\t\\n****\\t\\\\textbf{2023}\\t\\\\textbf{2022}\\t\\\\textbf{Change}\\t\\\\textbf{2023}\\t\\\\textbf{2022}\\t\\\\textbf{Change}\\n\\\\hline\\t\\t\\t\\t\\t\\t\\nNet sales by category\\t\\t\\t\\t\\t\\t\\n*iPhone***\\t$***51,334\\t$***50,570\\t*****2%\\t$**117,109\\t$**122,198\\t****(4)%\\n*Mac***\\t*****7,168\\t****10,435\\t****(31)%\\t****14,903\\t****21,287\\t***(30)%\\n*iPad***\\t*****6,670\\t****7,646\\t****(13)%\\t***16,066\\t***14,894\\t*****8%\\n*Wearables, Home and Accessories\\t*****8,757\\t****8,806\\t*****(1)%\\t***22,239\\t***23,507\\t***(5)%\\n*Services***\\t****20,907\\t***19,821\\t*******5%\\t***41,673\\t***39,337\\t****6%\\n\\\\hline\\t\\t\\t\\t\\t\\t\\n**Total new sales**\\t$***94,836\\t$***97,278\\t*****(3)%\\t$**211,990\\t$**221,223\\t*****(4)%\\n'}]"
      ]
     },
     "execution_count": 4,
     "metadata": {},
     "output_type": "execute_result"
    }
   ],
   "source": [
    "synth_tables"
   ]
  },
  {
   "cell_type": "code",
   "execution_count": 5,
   "metadata": {},
   "outputs": [],
   "source": [
    "# llm = APIGateway.load_llm(\n",
    "#     type=\"fastapi\",\n",
    "#     streaming=True,\n",
    "#     do_sample=True,\n",
    "#     temperature=0.5,\n",
    "#     select_expert = \"llama3-70b\",\n",
    "#     max_tokens_to_generate=4000,\n",
    "#     process_prompt=False,\n",
    "#     coe=False,\n",
    "#     fastapi_url=\"https://fast-api.snova.ai/v1/chat/completions\",\n",
    "#     fastapi_api_key=\"Y29keS5tYWNkb25hbGRfX3NhbWJhbm92YXN5c3RlbXMuY29tOkc3UHFQMVZOTkg=\"\n",
    "# )\n",
    "from langchain_openai import ChatOpenAI\n",
    "api_key = os.environ.get(\"SAMBANOVA_API_KEY\")\n",
    "llm = ChatOpenAI(\n",
    "    base_url=\"https://fast-api.snova.ai/v1/\",\n",
    "    api_key=api_key,\n",
    "    streaming=True,\n",
    "    model=\"llama3-70b\",\n",
    "    temperature=0.8,\n",
    ")"
   ]
  },
  {
   "cell_type": "code",
   "execution_count": null,
   "metadata": {},
   "outputs": [],
   "source": [
    "table_mod_prompt = load_prompt(\"/Users/codym/CAP/ai-starter-kit/yoda/prompts/llama3_1-modify-table.yaml\")"
   ]
  },
  {
   "cell_type": "code",
   "execution_count": null,
   "metadata": {},
   "outputs": [],
   "source": [
    "table_modifier = table_mod_prompt | llm | StrOutputParser()"
   ]
  },
  {
   "cell_type": "code",
   "execution_count": null,
   "metadata": {},
   "outputs": [],
   "source": [
    "table_modifier.invoke(synth_tables[-1][\"tsv_formatted\"])"
   ]
  },
  {
   "cell_type": "code",
   "execution_count": 6,
   "metadata": {},
   "outputs": [],
   "source": [
    "table_qa_prompt = table_mod_prompt = load_prompt(\"/Users/codym/CAP/ai-starter-kit/yoda/prompts/llama3_1-create-tableqa.yaml\")\n",
    "table_qa = table_qa_prompt | llm | JsonOutputParser()"
   ]
  },
  {
   "cell_type": "code",
   "execution_count": 7,
   "metadata": {},
   "outputs": [
    {
     "name": "stderr",
     "output_type": "stream",
     "text": [
      "09/05/2024 15:43:39 - INFO - httpx -   HTTP Request: POST https://fast-api.snova.ai/v1/chat/completions \"HTTP/1.1 200 OK\"\n"
     ]
    },
    {
     "name": "stdout",
     "output_type": "stream",
     "text": [
      "{'query': 'What was the net sales of iPad in the three months ended April 1, 2023?', 'answer': '6,670'}\n"
     ]
    },
    {
     "name": "stderr",
     "output_type": "stream",
     "text": [
      "09/05/2024 15:43:40 - INFO - httpx -   HTTP Request: POST https://fast-api.snova.ai/v1/chat/completions \"HTTP/1.1 200 OK\"\n"
     ]
    },
    {
     "name": "stdout",
     "output_type": "stream",
     "text": [
      "{'query': 'What were the net sales of iPad for the six months ended March 26, 2022?', 'answer': '$14,894'}\n"
     ]
    },
    {
     "name": "stderr",
     "output_type": "stream",
     "text": [
      "09/05/2024 15:43:40 - INFO - httpx -   HTTP Request: POST https://fast-api.snova.ai/v1/chat/completions \"HTTP/1.1 200 OK\"\n"
     ]
    },
    {
     "name": "stdout",
     "output_type": "stream",
     "text": [
      "{'query': 'What were the net sales of Mac in the six months ended April 1, 2023?', 'answer': '$14,903'}\n"
     ]
    },
    {
     "name": "stderr",
     "output_type": "stream",
     "text": [
      "09/05/2024 15:43:41 - INFO - httpx -   HTTP Request: POST https://fast-api.snova.ai/v1/chat/completions \"HTTP/1.1 200 OK\"\n"
     ]
    },
    {
     "name": "stdout",
     "output_type": "stream",
     "text": [
      "{'query': 'What was the net sales of iPad for the Six Months Ended April 1, 2023?', 'answer': '$16,066'}\n"
     ]
    },
    {
     "name": "stderr",
     "output_type": "stream",
     "text": [
      "09/05/2024 15:43:43 - INFO - httpx -   HTTP Request: POST https://fast-api.snova.ai/v1/chat/completions \"HTTP/1.1 200 OK\"\n"
     ]
    },
    {
     "name": "stdout",
     "output_type": "stream",
     "text": [
      "{'query': 'What were the net sales of iPad for the three months ended March 26, 2022?', 'answer': '$7,646'}\n"
     ]
    },
    {
     "name": "stderr",
     "output_type": "stream",
     "text": [
      "09/05/2024 15:43:43 - INFO - httpx -   HTTP Request: POST https://fast-api.snova.ai/v1/chat/completions \"HTTP/1.1 200 OK\"\n"
     ]
    },
    {
     "name": "stdout",
     "output_type": "stream",
     "text": [
      "{'query': 'What were the net sales of iPad in the three months ended April 1, 2023?', 'answer': '$6,670'}\n"
     ]
    },
    {
     "name": "stderr",
     "output_type": "stream",
     "text": [
      "09/05/2024 15:43:44 - INFO - httpx -   HTTP Request: POST https://fast-api.snova.ai/v1/chat/completions \"HTTP/1.1 200 OK\"\n"
     ]
    },
    {
     "name": "stdout",
     "output_type": "stream",
     "text": [
      "{'query': 'What were the net sales of iPad in the three months ended April 1, 2022?', 'answer': '$7,646'}\n"
     ]
    },
    {
     "name": "stderr",
     "output_type": "stream",
     "text": [
      "09/05/2024 15:43:45 - INFO - httpx -   HTTP Request: POST https://fast-api.snova.ai/v1/chat/completions \"HTTP/1.1 200 OK\"\n"
     ]
    },
    {
     "name": "stdout",
     "output_type": "stream",
     "text": [
      "{'query': 'What were the net sales of iPad for the six months ended April 1, 2023?', 'answer': '$16,066'}\n"
     ]
    },
    {
     "name": "stderr",
     "output_type": "stream",
     "text": [
      "09/05/2024 15:43:46 - INFO - httpx -   HTTP Request: POST https://fast-api.snova.ai/v1/chat/completions \"HTTP/1.1 200 OK\"\n"
     ]
    },
    {
     "name": "stdout",
     "output_type": "stream",
     "text": [
      "{'query': 'What were the net sales of iPad for the six months ended April 1, 2023?', 'answer': '$16,066'}\n"
     ]
    },
    {
     "name": "stderr",
     "output_type": "stream",
     "text": [
      "09/05/2024 15:43:46 - INFO - httpx -   HTTP Request: POST https://fast-api.snova.ai/v1/chat/completions \"HTTP/1.1 200 OK\"\n"
     ]
    },
    {
     "name": "stdout",
     "output_type": "stream",
     "text": [
      "{'query': 'What was the net sales of Mac in the three months ended April 1, 2022?', 'answer': '$10,435'}\n"
     ]
    },
    {
     "name": "stderr",
     "output_type": "stream",
     "text": [
      "09/05/2024 15:43:47 - INFO - httpx -   HTTP Request: POST https://fast-api.snova.ai/v1/chat/completions \"HTTP/1.1 200 OK\"\n"
     ]
    },
    {
     "name": "stdout",
     "output_type": "stream",
     "text": [
      "{'query': 'What were the net sales of iPad for the six months ended April 1, 2023?', 'answer': '16,066'}\n"
     ]
    },
    {
     "name": "stderr",
     "output_type": "stream",
     "text": [
      "09/05/2024 15:43:47 - INFO - httpx -   HTTP Request: POST https://fast-api.snova.ai/v1/chat/completions \"HTTP/1.1 200 OK\"\n"
     ]
    },
    {
     "name": "stdout",
     "output_type": "stream",
     "text": [
      "{'query': 'What was the net sales of iPad in the Three Months Ended April 1, 2023?', 'answer': '$6,670'}\n"
     ]
    },
    {
     "name": "stderr",
     "output_type": "stream",
     "text": [
      "09/05/2024 15:43:49 - INFO - httpx -   HTTP Request: POST https://fast-api.snova.ai/v1/chat/completions \"HTTP/1.1 200 OK\"\n"
     ]
    },
    {
     "name": "stdout",
     "output_type": "stream",
     "text": [
      "{'query': 'What was the net sales of iPad for the three months ended March 26, 2022?', 'answer': '$7,646'}\n"
     ]
    },
    {
     "name": "stderr",
     "output_type": "stream",
     "text": [
      "09/05/2024 15:43:50 - INFO - httpx -   HTTP Request: POST https://fast-api.snova.ai/v1/chat/completions \"HTTP/1.1 200 OK\"\n"
     ]
    },
    {
     "name": "stdout",
     "output_type": "stream",
     "text": [
      "{'query': 'What were the net sales of iPad in the six months ended April 1, 2023?', 'answer': '16,066'}\n"
     ]
    },
    {
     "name": "stderr",
     "output_type": "stream",
     "text": [
      "09/05/2024 15:43:50 - INFO - httpx -   HTTP Request: POST https://fast-api.snova.ai/v1/chat/completions \"HTTP/1.1 200 OK\"\n"
     ]
    },
    {
     "name": "stdout",
     "output_type": "stream",
     "text": [
      "{'query': 'What were the net sales from iPhone for the three months ended April 1, 2022?', 'answer': '$50,570'}\n"
     ]
    },
    {
     "name": "stderr",
     "output_type": "stream",
     "text": [
      "09/05/2024 15:43:51 - INFO - httpx -   HTTP Request: POST https://fast-api.snova.ai/v1/chat/completions \"HTTP/1.1 200 OK\"\n"
     ]
    },
    {
     "name": "stdout",
     "output_type": "stream",
     "text": [
      "{'query': 'What were the net sales of iPad in the six months ended April 1, 2022?', 'answer': '$14,894'}\n"
     ]
    },
    {
     "name": "stderr",
     "output_type": "stream",
     "text": [
      "09/05/2024 15:43:51 - INFO - httpx -   HTTP Request: POST https://fast-api.snova.ai/v1/chat/completions \"HTTP/1.1 200 OK\"\n"
     ]
    },
    {
     "name": "stdout",
     "output_type": "stream",
     "text": [
      "{'query': 'What was the total net sales of iPad for the six months ended April 1, 2023?', 'answer': '$16,066'}\n"
     ]
    },
    {
     "name": "stderr",
     "output_type": "stream",
     "text": [
      "09/05/2024 15:43:53 - INFO - httpx -   HTTP Request: POST https://fast-api.snova.ai/v1/chat/completions \"HTTP/1.1 200 OK\"\n"
     ]
    },
    {
     "name": "stdout",
     "output_type": "stream",
     "text": [
      "{'query': 'What was the net sales of iPad in the six months ended April 1, 2023?', 'answer': '$16,066'}\n"
     ]
    },
    {
     "name": "stderr",
     "output_type": "stream",
     "text": [
      "09/05/2024 15:43:56 - INFO - httpx -   HTTP Request: POST https://fast-api.snova.ai/v1/chat/completions \"HTTP/1.1 200 OK\"\n"
     ]
    },
    {
     "name": "stdout",
     "output_type": "stream",
     "text": [
      "{'query': 'What were the net sales of Mac for the six months ended April 1, 2023?', 'answer': '$14,903'}\n"
     ]
    },
    {
     "name": "stderr",
     "output_type": "stream",
     "text": [
      "09/05/2024 15:43:57 - INFO - httpx -   HTTP Request: POST https://fast-api.snova.ai/v1/chat/completions \"HTTP/1.1 200 OK\"\n"
     ]
    },
    {
     "name": "stdout",
     "output_type": "stream",
     "text": [
      "{'query': 'What were the net sales of Mac in the six months ended April 1, 2022?', 'answer': '$21,287'}\n"
     ]
    }
   ],
   "source": [
    "for i in range(20):\n",
    "    response = table_qa.invoke(synth_tables[-1][\"tsv_formatted\"])\n",
    "    print(response)"
   ]
  },
  {
   "cell_type": "code",
   "execution_count": null,
   "metadata": {},
   "outputs": [],
   "source": []
  }
 ],
 "metadata": {
  "kernelspec": {
   "display_name": ".mm_env",
   "language": "python",
   "name": "python3"
  },
  "language_info": {
   "codemirror_mode": {
    "name": "ipython",
    "version": 3
   },
   "file_extension": ".py",
   "mimetype": "text/x-python",
   "name": "python",
   "nbconvert_exporter": "python",
   "pygments_lexer": "ipython3",
   "version": "3.11.9"
  }
 },
 "nbformat": 4,
 "nbformat_minor": 2
}
